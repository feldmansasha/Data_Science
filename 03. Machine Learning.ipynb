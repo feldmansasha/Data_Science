{
 "cells": [
  {
   "cell_type": "markdown",
   "metadata": {},
   "source": [
    "# Mobile plans personal offer"
   ]
  },
  {
   "cell_type": "markdown",
   "metadata": {},
   "source": [
    "At your disposal is data on the behavior of customers who have already switched to these plans (from the project of the course “Statistical Data Analysis”). We need to build a model for the classification task that will select the appropriate tariff. There is no need for data preprocessing - you have already done it.\n",
    "\n",
    "Build a model with the highest possible *accuracy* value. To pass the project successfully, you need to bring the percentage of correct answers to at least 0.75. Check *accuracy* on a test sample yourself."
   ]
  },
  {
   "cell_type": "markdown",
   "metadata": {},
   "source": [
    "## Open and analyze the database"
   ]
  },
  {
   "cell_type": "code",
   "execution_count": 1,
   "metadata": {},
   "outputs": [],
   "source": [
    "import pandas as pd\n",
    "from sklearn.model_selection import train_test_split\n",
    "from sklearn.tree import DecisionTreeClassifier\n",
    "from sklearn.ensemble import RandomForestClassifier\n",
    "from sklearn.linear_model import LogisticRegression\n",
    "from sklearn.metrics import accuracy_score\n",
    "from sklearn.metrics import mean_squared_error"
   ]
  },
  {
   "cell_type": "code",
   "execution_count": 2,
   "metadata": {},
   "outputs": [
    {
     "name": "stdout",
     "output_type": "stream",
     "text": [
      "<class 'pandas.core.frame.DataFrame'>\n",
      "RangeIndex: 3214 entries, 0 to 3213\n",
      "Data columns (total 5 columns):\n",
      " #   Column    Non-Null Count  Dtype  \n",
      "---  ------    --------------  -----  \n",
      " 0   calls     3214 non-null   float64\n",
      " 1   minutes   3214 non-null   float64\n",
      " 2   messages  3214 non-null   float64\n",
      " 3   mb_used   3214 non-null   float64\n",
      " 4   is_ultra  3214 non-null   int64  \n",
      "dtypes: float64(4), int64(1)\n",
      "memory usage: 125.7 KB\n"
     ]
    }
   ],
   "source": [
    "data=pd.read_csv('users_behavior.csv')\n",
    "data.info()"
   ]
  },
  {
   "cell_type": "code",
   "execution_count": 3,
   "metadata": {},
   "outputs": [
    {
     "data": {
      "text/html": [
       "<div>\n",
       "<style scoped>\n",
       "    .dataframe tbody tr th:only-of-type {\n",
       "        vertical-align: middle;\n",
       "    }\n",
       "\n",
       "    .dataframe tbody tr th {\n",
       "        vertical-align: top;\n",
       "    }\n",
       "\n",
       "    .dataframe thead th {\n",
       "        text-align: right;\n",
       "    }\n",
       "</style>\n",
       "<table border=\"1\" class=\"dataframe\">\n",
       "  <thead>\n",
       "    <tr style=\"text-align: right;\">\n",
       "      <th></th>\n",
       "      <th>calls</th>\n",
       "      <th>minutes</th>\n",
       "      <th>messages</th>\n",
       "      <th>mb_used</th>\n",
       "      <th>is_ultra</th>\n",
       "    </tr>\n",
       "  </thead>\n",
       "  <tbody>\n",
       "    <tr>\n",
       "      <th>0</th>\n",
       "      <td>40.0</td>\n",
       "      <td>311.90</td>\n",
       "      <td>83.0</td>\n",
       "      <td>19915.42</td>\n",
       "      <td>0</td>\n",
       "    </tr>\n",
       "    <tr>\n",
       "      <th>1</th>\n",
       "      <td>85.0</td>\n",
       "      <td>516.75</td>\n",
       "      <td>56.0</td>\n",
       "      <td>22696.96</td>\n",
       "      <td>0</td>\n",
       "    </tr>\n",
       "    <tr>\n",
       "      <th>2</th>\n",
       "      <td>77.0</td>\n",
       "      <td>467.66</td>\n",
       "      <td>86.0</td>\n",
       "      <td>21060.45</td>\n",
       "      <td>0</td>\n",
       "    </tr>\n",
       "    <tr>\n",
       "      <th>3</th>\n",
       "      <td>106.0</td>\n",
       "      <td>745.53</td>\n",
       "      <td>81.0</td>\n",
       "      <td>8437.39</td>\n",
       "      <td>1</td>\n",
       "    </tr>\n",
       "    <tr>\n",
       "      <th>4</th>\n",
       "      <td>66.0</td>\n",
       "      <td>418.74</td>\n",
       "      <td>1.0</td>\n",
       "      <td>14502.75</td>\n",
       "      <td>0</td>\n",
       "    </tr>\n",
       "  </tbody>\n",
       "</table>\n",
       "</div>"
      ],
      "text/plain": [
       "   calls  minutes  messages   mb_used  is_ultra\n",
       "0   40.0   311.90      83.0  19915.42         0\n",
       "1   85.0   516.75      56.0  22696.96         0\n",
       "2   77.0   467.66      86.0  21060.45         0\n",
       "3  106.0   745.53      81.0   8437.39         1\n",
       "4   66.0   418.74       1.0  14502.75         0"
      ]
     },
     "execution_count": 3,
     "metadata": {},
     "output_type": "execute_result"
    }
   ],
   "source": [
    "data.head()"
   ]
  },
  {
   "cell_type": "markdown",
   "metadata": {},
   "source": [
    "**Conclusion**\n",
    "1. The features are the columns calls, minutes, messages and mb_used, and is_ultra is the target feature.\n",
    "2. Preprocessing was done efficiently, there were no missing values"
   ]
  },
  {
   "cell_type": "markdown",
   "metadata": {},
   "source": [
    "## Divide data into 3 samples"
   ]
  },
  {
   "cell_type": "code",
   "execution_count": 4,
   "metadata": {},
   "outputs": [
    {
     "name": "stdout",
     "output_type": "stream",
     "text": [
      "Size of training sample: 1928\n",
      "Size of validation sample: 643\n",
      "Size of test sample: 643\n"
     ]
    }
   ],
   "source": [
    "train, valid_and_test=train_test_split(data, test_size=0.4, random_state=12345)\n",
    "valid, test=train_test_split(valid_and_test, test_size=0.5, random_state=12345)\n",
    "\n",
    "train_features = train.drop(['is_ultra'], axis=1)\n",
    "train_target = train['is_ultra']\n",
    "valid_features = valid.drop(['is_ultra'], axis=1)\n",
    "valid_target = valid['is_ultra']\n",
    "valid_features = valid.drop(['is_ultra'], axis=1)\n",
    "valid_target = valid['is_ultra']\n",
    "test_features = test.drop(['is_ultra'], axis=1)\n",
    "test_target = test['is_ultra']\n",
    "\n",
    "print('Size of training sample:', train.shape[0])\n",
    "print('Size of validation sample:', valid.shape[0])\n",
    "print('Size of test sample:', test.shape[0])"
   ]
  },
  {
   "cell_type": "markdown",
   "metadata": {},
   "source": [
    "**Conclusion**\n",
    "\n",
    "We divided the source data into training, validation and test samples in the classic proportion 60/20/20"
   ]
  },
  {
   "cell_type": "markdown",
   "metadata": {},
   "source": [
    "## Explore models"
   ]
  },
  {
   "cell_type": "markdown",
   "metadata": {},
   "source": [
    "**Decision Tree**"
   ]
  },
  {
   "cell_type": "code",
   "execution_count": 5,
   "metadata": {},
   "outputs": [
    {
     "name": "stdout",
     "output_type": "stream",
     "text": [
      "Decision Tree accuracy (before hyperparameters improvement)= 0.713841368584759\n"
     ]
    }
   ],
   "source": [
    "best_result=0\n",
    "best_est=0\n",
    "best_split=0\n",
    "best_leaf=0\n",
    "array=['gini', 'entropy']\n",
    "\n",
    "model = DecisionTreeClassifier(random_state=12345)\n",
    "model.fit(train_features, train_target)\n",
    "result = model.score(valid_features, valid_target)\n",
    "print(\"Decision Tree accuracy (before hyperparameters improvement)=\", result)"
   ]
  },
  {
   "cell_type": "code",
   "execution_count": 6,
   "metadata": {},
   "outputs": [
    {
     "name": "stdout",
     "output_type": "stream",
     "text": [
      "Decision tree accuracy: 0.7884914463452566\n",
      "max_depth= 3\n",
      "criterion= entropy\n",
      "min_samples_split= 2\n",
      "min_samples_leaf= 0\n"
     ]
    }
   ],
   "source": [
    "best_model_tree=None\n",
    "best_depth=0\n",
    "best_result=0\n",
    "\n",
    "for depth in range(1, 20):\n",
    "    for criteria in array:\n",
    "        model=DecisionTreeClassifier(random_state=12345, max_depth=depth, criterion=criteria)\n",
    "        model.fit(train_features, train_target)\n",
    "        valid_predictions=model.predict(valid_features)\n",
    "        result=accuracy_score(valid_target, valid_predictions)\n",
    "        if result > best_result:\n",
    "            best_model_tree = model\n",
    "            best_result = model.score(valid_features, valid_target)\n",
    "            best_depth=depth\n",
    "            best_criterion=criteria\n",
    "            \n",
    "for split in range(2, 30):\n",
    "    model = RandomForestClassifier(random_state=12345, max_depth=best_depth, criterion=best_criterion,\\\n",
    "                                              min_samples_split=split)\n",
    "    model.fit(train_features, train_target)\n",
    "    result = model.score(valid_features, valid_target)\n",
    "    if result>best_result:\n",
    "        best_model_tree=model\n",
    "        best_result=result\n",
    "        best_split=split\n",
    "\n",
    "for leaf in range (2, 15):\n",
    "    model = RandomForestClassifier(random_state=12345, max_depth=best_depth, criterion=best_criterion,\\\n",
    "                                              min_samples_split=best_split, min_samples_leaf=leaf)\n",
    "    model.fit(train_features, train_target)\n",
    "    result = model.score(valid_features, valid_target)\n",
    "    if result>best_result:\n",
    "        best_model_tree=model \n",
    "        best_result=result\n",
    "        best_leaf=leaf\n",
    "            \n",
    "print(\"Decision tree accuracy:\", best_result)\n",
    "print (\"max_depth=\", best_depth)\n",
    "print (\"criterion=\", criteria)\n",
    "print (\"min_samples_split=\", best_split)\n",
    "print (\"min_samples_leaf=\", best_leaf)"
   ]
  },
  {
   "cell_type": "markdown",
   "metadata": {},
   "source": [
    "**Random forest**"
   ]
  },
  {
   "cell_type": "code",
   "execution_count": 7,
   "metadata": {},
   "outputs": [
    {
     "name": "stdout",
     "output_type": "stream",
     "text": [
      "Random Forest accuracy (before hyperparameters improvement)= 0.7853810264385692\n"
     ]
    }
   ],
   "source": [
    "best_model_forest=None\n",
    "model = RandomForestClassifier(random_state=12345)\n",
    "model.fit(train_features, train_target)\n",
    "result = model.score(valid_features, valid_target)\n",
    "print(\"Random Forest accuracy (before hyperparameters improvement)=\", result)"
   ]
  },
  {
   "cell_type": "code",
   "execution_count": 8,
   "metadata": {},
   "outputs": [
    {
     "name": "stdout",
     "output_type": "stream",
     "text": [
      "Random Forest accuracy= 0.8009331259720062\n",
      "n_estimators= 23\n",
      "criterion= entropy\n",
      "min_samples_split= 23\n",
      "min_samples_leaf= 8\n"
     ]
    }
   ],
   "source": [
    "best_result=0\n",
    "for est in range (1, 25):\n",
    "    for criteria in array:\n",
    "        model = RandomForestClassifier(random_state=12345, n_estimators=est, criterion=criteria)\n",
    "        model.fit(train_features, train_target)\n",
    "        result = model.score(valid_features, valid_target)\n",
    "        if result>best_result:\n",
    "            best_model_forest=model\n",
    "            best_result=result\n",
    "            best_est=est\n",
    "            best_criterion=criteria\n",
    "for split in range(2, 30):\n",
    "    model = RandomForestClassifier(random_state=12345, n_estimators=best_est, criterion=best_criterion,\\\n",
    "                                              min_samples_split=split)\n",
    "    model.fit(train_features, train_target)\n",
    "    result = model.score(valid_features, valid_target)\n",
    "    if result>best_result:\n",
    "        best_model_forest=model\n",
    "        best_result=result\n",
    "        best_split=split\n",
    "\n",
    "for leaf in range (2, 15):\n",
    "    model = RandomForestClassifier(random_state=12345, n_estimators=best_est, criterion=best_criterion,\\\n",
    "                                              min_samples_split=best_split, min_samples_leaf=leaf)\n",
    "    model.fit(train_features, train_target)\n",
    "    result = model.score(valid_features, valid_target)\n",
    "    if result>best_result:\n",
    "        best_model_forest=model\n",
    "        best_result=result\n",
    "        best_leaf=leaf\n",
    "            \n",
    "print(\"Random Forest accuracy=\", best_result)\n",
    "print (\"n_estimators=\", best_est)\n",
    "print (\"criterion=\", criteria)\n",
    "print (\"min_samples_split=\", best_split)\n",
    "print (\"min_samples_leaf=\", best_leaf)"
   ]
  },
  {
   "cell_type": "markdown",
   "metadata": {},
   "source": [
    "**Conclusion**\n",
    "\n",
    "Thanks to changing the hyperparameters, it was possible to improve accuracy by 2.1 percentage"
   ]
  },
  {
   "cell_type": "markdown",
   "metadata": {},
   "source": [
    "**Logistic resgression**"
   ]
  },
  {
   "cell_type": "code",
   "execution_count": 9,
   "metadata": {},
   "outputs": [
    {
     "name": "stdout",
     "output_type": "stream",
     "text": [
      "0.7107309486780715\n",
      "0.7107309486780715\n",
      "0.7558320373250389\n",
      "0.7107309486780715\n",
      "0.7107309486780715\n",
      "0.7558320373250389\n",
      "Logistic Regression accuracy= 0.7558320373250389 multi_class: multinomial\n"
     ]
    },
    {
     "data": {
      "text/html": [
       "<style>#sk-container-id-1 {color: black;}#sk-container-id-1 pre{padding: 0;}#sk-container-id-1 div.sk-toggleable {background-color: white;}#sk-container-id-1 label.sk-toggleable__label {cursor: pointer;display: block;width: 100%;margin-bottom: 0;padding: 0.3em;box-sizing: border-box;text-align: center;}#sk-container-id-1 label.sk-toggleable__label-arrow:before {content: \"▸\";float: left;margin-right: 0.25em;color: #696969;}#sk-container-id-1 label.sk-toggleable__label-arrow:hover:before {color: black;}#sk-container-id-1 div.sk-estimator:hover label.sk-toggleable__label-arrow:before {color: black;}#sk-container-id-1 div.sk-toggleable__content {max-height: 0;max-width: 0;overflow: hidden;text-align: left;background-color: #f0f8ff;}#sk-container-id-1 div.sk-toggleable__content pre {margin: 0.2em;color: black;border-radius: 0.25em;background-color: #f0f8ff;}#sk-container-id-1 input.sk-toggleable__control:checked~div.sk-toggleable__content {max-height: 200px;max-width: 100%;overflow: auto;}#sk-container-id-1 input.sk-toggleable__control:checked~label.sk-toggleable__label-arrow:before {content: \"▾\";}#sk-container-id-1 div.sk-estimator input.sk-toggleable__control:checked~label.sk-toggleable__label {background-color: #d4ebff;}#sk-container-id-1 div.sk-label input.sk-toggleable__control:checked~label.sk-toggleable__label {background-color: #d4ebff;}#sk-container-id-1 input.sk-hidden--visually {border: 0;clip: rect(1px 1px 1px 1px);clip: rect(1px, 1px, 1px, 1px);height: 1px;margin: -1px;overflow: hidden;padding: 0;position: absolute;width: 1px;}#sk-container-id-1 div.sk-estimator {font-family: monospace;background-color: #f0f8ff;border: 1px dotted black;border-radius: 0.25em;box-sizing: border-box;margin-bottom: 0.5em;}#sk-container-id-1 div.sk-estimator:hover {background-color: #d4ebff;}#sk-container-id-1 div.sk-parallel-item::after {content: \"\";width: 100%;border-bottom: 1px solid gray;flex-grow: 1;}#sk-container-id-1 div.sk-label:hover label.sk-toggleable__label {background-color: #d4ebff;}#sk-container-id-1 div.sk-serial::before {content: \"\";position: absolute;border-left: 1px solid gray;box-sizing: border-box;top: 0;bottom: 0;left: 50%;z-index: 0;}#sk-container-id-1 div.sk-serial {display: flex;flex-direction: column;align-items: center;background-color: white;padding-right: 0.2em;padding-left: 0.2em;position: relative;}#sk-container-id-1 div.sk-item {position: relative;z-index: 1;}#sk-container-id-1 div.sk-parallel {display: flex;align-items: stretch;justify-content: center;background-color: white;position: relative;}#sk-container-id-1 div.sk-item::before, #sk-container-id-1 div.sk-parallel-item::before {content: \"\";position: absolute;border-left: 1px solid gray;box-sizing: border-box;top: 0;bottom: 0;left: 50%;z-index: -1;}#sk-container-id-1 div.sk-parallel-item {display: flex;flex-direction: column;z-index: 1;position: relative;background-color: white;}#sk-container-id-1 div.sk-parallel-item:first-child::after {align-self: flex-end;width: 50%;}#sk-container-id-1 div.sk-parallel-item:last-child::after {align-self: flex-start;width: 50%;}#sk-container-id-1 div.sk-parallel-item:only-child::after {width: 0;}#sk-container-id-1 div.sk-dashed-wrapped {border: 1px dashed gray;margin: 0 0.4em 0.5em 0.4em;box-sizing: border-box;padding-bottom: 0.4em;background-color: white;}#sk-container-id-1 div.sk-label label {font-family: monospace;font-weight: bold;display: inline-block;line-height: 1.2em;}#sk-container-id-1 div.sk-label-container {text-align: center;}#sk-container-id-1 div.sk-container {/* jupyter's `normalize.less` sets `[hidden] { display: none; }` but bootstrap.min.css set `[hidden] { display: none !important; }` so we also need the `!important` here to be able to override the default hidden behavior on the sphinx rendered scikit-learn.org. See: https://github.com/scikit-learn/scikit-learn/issues/21755 */display: inline-block !important;position: relative;}#sk-container-id-1 div.sk-text-repr-fallback {display: none;}</style><div id=\"sk-container-id-1\" class=\"sk-top-container\"><div class=\"sk-text-repr-fallback\"><pre>LogisticRegression(max_iter=1000, multi_class=&#x27;multinomial&#x27;, random_state=12345,\n",
       "                   warm_start=True)</pre><b>In a Jupyter environment, please rerun this cell to show the HTML representation or trust the notebook. <br />On GitHub, the HTML representation is unable to render, please try loading this page with nbviewer.org.</b></div><div class=\"sk-container\" hidden><div class=\"sk-item\"><div class=\"sk-estimator sk-toggleable\"><input class=\"sk-toggleable__control sk-hidden--visually\" id=\"sk-estimator-id-1\" type=\"checkbox\" checked><label for=\"sk-estimator-id-1\" class=\"sk-toggleable__label sk-toggleable__label-arrow\">LogisticRegression</label><div class=\"sk-toggleable__content\"><pre>LogisticRegression(max_iter=1000, multi_class=&#x27;multinomial&#x27;, random_state=12345,\n",
       "                   warm_start=True)</pre></div></div></div></div></div>"
      ],
      "text/plain": [
       "LogisticRegression(max_iter=1000, multi_class='multinomial', random_state=12345,\n",
       "                   warm_start=True)"
      ]
     },
     "execution_count": 9,
     "metadata": {},
     "output_type": "execute_result"
    }
   ],
   "source": [
    "array_warm_start=[True, False]\n",
    "array_multi_class=['auto', 'ovr', 'multinomial']\n",
    "best_result=0\n",
    "\n",
    "for warm in array_warm_start:\n",
    "    for multi in array_multi_class:\n",
    "        model = LogisticRegression(random_state = 12345, solver = 'lbfgs', max_iter=1000, warm_start=warm, multi_class=multi)\n",
    "        model.fit(train_features,train_target)\n",
    "        valid_predictions=model.predict(valid_features)\n",
    "        result = accuracy_score(valid_target, valid_predictions)\n",
    "        print(result)\n",
    "        if result>best_result:\n",
    "            best_model_regression=model\n",
    "            best_result=result\n",
    "            warm_starter=warm\n",
    "            multi_classer=multi\n",
    "    \n",
    "print ('Logistic Regression accuracy=', best_result, 'multi_class:', multi_classer)\n",
    "best_model_regression"
   ]
  },
  {
   "cell_type": "markdown",
   "metadata": {},
   "source": [
    "## Test the model on a test sample"
   ]
  },
  {
   "cell_type": "code",
   "execution_count": 10,
   "metadata": {},
   "outputs": [
    {
     "name": "stdout",
     "output_type": "stream",
     "text": [
      "Accuracy Decision Tree на тестовой выборке: 0.7791601866251944\n",
      "Accuracy Random Forest на тестовой выборке: 0.80248833592535\n",
      "Accuracy Logistic Regression на тестовой выборке: 0.7387247278382582\n"
     ]
    }
   ],
   "source": [
    "result_tree = best_model_tree.score (test_features, test_target)\n",
    "result_forest=best_model_forest.score (test_features, test_target)\n",
    "result_regression=best_model_regression.score (test_features, test_target)\n",
    "\n",
    "print(\"Accuracy Decision Tree на тестовой выборке:\", result_tree)\n",
    "print(\"Accuracy Random Forest на тестовой выборке:\", result_forest)\n",
    "print(\"Accuracy Logistic Regression на тестовой выборке:\", result_regression)"
   ]
  },
  {
   "cell_type": "markdown",
   "metadata": {},
   "source": [
    "**Conclusion**\n",
    "\n",
    "The Decision Tree and Random Forest models surpassed 0.75. Since the Decision Tree works faster than the Random Forest, and the share of correct answers is approximately the same, we choose the first method."
   ]
  },
  {
   "cell_type": "markdown",
   "metadata": {},
   "source": [
    "## Check the models for adequacy"
   ]
  },
  {
   "cell_type": "code",
   "execution_count": 11,
   "metadata": {},
   "outputs": [
    {
     "data": {
      "text/plain": [
       "0.6842923794712286"
      ]
     },
     "execution_count": 11,
     "metadata": {},
     "output_type": "execute_result"
    }
   ],
   "source": [
    "from sklearn.dummy import DummyClassifier\n",
    "dummy = DummyClassifier(strategy='most_frequent', random_state=12345)\n",
    "dummy.fit(train_features, train_target)\n",
    "output=dummy.score(test_features, test_target)\n",
    "output"
   ]
  },
  {
   "cell_type": "markdown",
   "metadata": {},
   "source": [
    "**Conclusion**\n",
    "\n",
    "The simplest dummy model gives an accuracy of 0.698, which is lower than that of the model we obtained. This means that a model based on the random forest method makes sense."
   ]
  },
  {
   "cell_type": "markdown",
   "metadata": {},
   "source": [
    "## Conclusion"
   ]
  },
  {
   "cell_type": "markdown",
   "metadata": {},
   "source": [
    "1. Data file processed\n",
    "2. The source data is divided into 3 samples: training, validation and test\n",
    "3. 3 models were studied: Decision Tree, Random Forest and Logistic Regression\n",
    "4. Selected hyperparameters that improve the model\n",
    "5. The quality of the resulting model was checked on a test sample\n",
    "6. We checked the model for sanity. Our model is more effective than the basic one"
   ]
  }
 ],
 "metadata": {
  "ExecuteTimeLog": [
   {
    "duration": 408,
    "start_time": "2023-04-28T18:09:08.917Z"
   },
   {
    "duration": 68,
    "start_time": "2023-04-28T18:10:16.530Z"
   },
   {
    "duration": 52,
    "start_time": "2023-05-01T16:19:27.103Z"
   },
   {
    "duration": 437,
    "start_time": "2023-05-01T16:19:29.470Z"
   },
   {
    "duration": 68,
    "start_time": "2023-05-01T16:19:31.129Z"
   },
   {
    "duration": 27,
    "start_time": "2023-05-01T17:05:58.858Z"
   },
   {
    "duration": 721,
    "start_time": "2023-05-01T17:06:16.818Z"
   },
   {
    "duration": 32,
    "start_time": "2023-05-01T17:06:17.541Z"
   },
   {
    "duration": 12,
    "start_time": "2023-05-01T17:06:17.575Z"
   },
   {
    "duration": 7,
    "start_time": "2023-05-01T17:06:54.277Z"
   },
   {
    "duration": 7,
    "start_time": "2023-05-01T17:07:06.036Z"
   },
   {
    "duration": 52,
    "start_time": "2023-05-01T17:16:44.925Z"
   },
   {
    "duration": 9,
    "start_time": "2023-05-01T17:17:34.309Z"
   },
   {
    "duration": 11,
    "start_time": "2023-05-01T17:18:19.159Z"
   },
   {
    "duration": 52,
    "start_time": "2023-05-01T17:19:19.733Z"
   },
   {
    "duration": 3,
    "start_time": "2023-05-01T17:19:23.409Z"
   },
   {
    "duration": 32,
    "start_time": "2023-05-01T17:19:23.417Z"
   },
   {
    "duration": 12,
    "start_time": "2023-05-01T17:19:23.451Z"
   },
   {
    "duration": 11,
    "start_time": "2023-05-01T17:24:07.317Z"
   },
   {
    "duration": 15,
    "start_time": "2023-05-01T17:26:13.750Z"
   },
   {
    "duration": 3,
    "start_time": "2023-05-01T17:26:17.847Z"
   },
   {
    "duration": 32,
    "start_time": "2023-05-01T17:26:17.852Z"
   },
   {
    "duration": 18,
    "start_time": "2023-05-01T17:26:17.885Z"
   },
   {
    "duration": 15,
    "start_time": "2023-05-01T17:26:17.910Z"
   },
   {
    "duration": 4,
    "start_time": "2023-05-01T17:27:08.856Z"
   },
   {
    "duration": 59,
    "start_time": "2023-05-01T17:27:08.862Z"
   },
   {
    "duration": 12,
    "start_time": "2023-05-01T17:27:08.923Z"
   },
   {
    "duration": 18,
    "start_time": "2023-05-01T17:27:08.937Z"
   },
   {
    "duration": 133,
    "start_time": "2023-05-01T17:27:36.766Z"
   },
   {
    "duration": 19,
    "start_time": "2023-05-01T17:27:50.433Z"
   },
   {
    "duration": 6,
    "start_time": "2023-05-01T17:28:01.823Z"
   },
   {
    "duration": 126,
    "start_time": "2023-05-01T17:28:01.832Z"
   },
   {
    "duration": 16,
    "start_time": "2023-05-01T17:28:01.960Z"
   },
   {
    "duration": 40,
    "start_time": "2023-05-01T17:28:01.978Z"
   },
   {
    "duration": 131,
    "start_time": "2023-05-01T17:28:40.321Z"
   },
   {
    "duration": 128,
    "start_time": "2023-05-01T17:28:52.622Z"
   },
   {
    "duration": 166,
    "start_time": "2023-05-01T17:29:28.859Z"
   },
   {
    "duration": 908,
    "start_time": "2023-05-01T17:30:41.633Z"
   },
   {
    "duration": 810,
    "start_time": "2023-05-01T17:31:06.018Z"
   },
   {
    "duration": 8781,
    "start_time": "2023-05-01T17:31:20.144Z"
   },
   {
    "duration": 398,
    "start_time": "2023-05-01T17:31:37.960Z"
   },
   {
    "duration": 25,
    "start_time": "2023-05-01T17:33:11.493Z"
   },
   {
    "duration": 19,
    "start_time": "2023-05-01T17:35:08.225Z"
   },
   {
    "duration": 4,
    "start_time": "2023-05-01T17:37:53.096Z"
   },
   {
    "duration": 35,
    "start_time": "2023-05-01T17:37:53.101Z"
   },
   {
    "duration": 9,
    "start_time": "2023-05-01T17:37:53.138Z"
   },
   {
    "duration": 23,
    "start_time": "2023-05-01T17:37:53.149Z"
   },
   {
    "duration": 17,
    "start_time": "2023-05-01T17:39:48.121Z"
   },
   {
    "duration": 23,
    "start_time": "2023-05-01T17:40:47.931Z"
   },
   {
    "duration": 14,
    "start_time": "2023-05-01T17:43:57.951Z"
   },
   {
    "duration": 15,
    "start_time": "2023-05-01T17:44:14.657Z"
   },
   {
    "duration": 15,
    "start_time": "2023-05-01T17:44:17.769Z"
   },
   {
    "duration": 253,
    "start_time": "2023-05-01T17:55:17.981Z"
   },
   {
    "duration": 18,
    "start_time": "2023-05-01T17:55:28.429Z"
   },
   {
    "duration": 16,
    "start_time": "2023-05-01T17:55:34.666Z"
   },
   {
    "duration": 16,
    "start_time": "2023-05-01T17:56:14.681Z"
   },
   {
    "duration": 14,
    "start_time": "2023-05-01T17:57:54.848Z"
   },
   {
    "duration": 12,
    "start_time": "2023-05-01T17:58:10.514Z"
   },
   {
    "duration": 19,
    "start_time": "2023-05-01T18:04:58.376Z"
   },
   {
    "duration": 3,
    "start_time": "2023-05-01T18:05:03.119Z"
   },
   {
    "duration": 37,
    "start_time": "2023-05-01T18:05:03.123Z"
   },
   {
    "duration": 10,
    "start_time": "2023-05-01T18:05:03.162Z"
   },
   {
    "duration": 29,
    "start_time": "2023-05-01T18:05:03.173Z"
   },
   {
    "duration": 14986,
    "start_time": "2023-05-01T18:05:38.366Z"
   },
   {
    "duration": 21,
    "start_time": "2023-05-01T18:07:23.424Z"
   },
   {
    "duration": 3926,
    "start_time": "2023-05-01T18:07:43.692Z"
   },
   {
    "duration": 3986,
    "start_time": "2023-05-01T18:10:21.809Z"
   },
   {
    "duration": 3928,
    "start_time": "2023-05-01T18:10:38.262Z"
   },
   {
    "duration": 3984,
    "start_time": "2023-05-01T18:11:08.839Z"
   },
   {
    "duration": 1534,
    "start_time": "2023-05-01T18:12:11.373Z"
   },
   {
    "duration": 18,
    "start_time": "2023-05-01T18:21:41.260Z"
   },
   {
    "duration": 15,
    "start_time": "2023-05-01T18:22:05.103Z"
   },
   {
    "duration": 403,
    "start_time": "2023-05-01T18:22:14.190Z"
   },
   {
    "duration": 403,
    "start_time": "2023-05-01T18:23:03.963Z"
   },
   {
    "duration": 446,
    "start_time": "2023-05-01T18:23:21.768Z"
   },
   {
    "duration": 168,
    "start_time": "2023-05-01T18:23:34.234Z"
   },
   {
    "duration": 150,
    "start_time": "2023-05-01T18:23:59.173Z"
   },
   {
    "duration": 1691,
    "start_time": "2023-05-01T18:24:04.679Z"
   },
   {
    "duration": 139,
    "start_time": "2023-05-01T18:24:16.703Z"
   },
   {
    "duration": 20,
    "start_time": "2023-05-01T18:27:00.033Z"
   },
   {
    "duration": 17,
    "start_time": "2023-05-01T18:27:45.085Z"
   },
   {
    "duration": 10,
    "start_time": "2023-05-01T18:28:56.547Z"
   },
   {
    "duration": 16,
    "start_time": "2023-05-01T18:29:08.654Z"
   },
   {
    "duration": 17,
    "start_time": "2023-05-01T18:29:17.755Z"
   },
   {
    "duration": 5239,
    "start_time": "2023-05-01T18:29:28.342Z"
   },
   {
    "duration": 9,
    "start_time": "2023-05-01T18:30:08.072Z"
   },
   {
    "duration": 34,
    "start_time": "2023-05-01T18:50:13.400Z"
   },
   {
    "duration": 35,
    "start_time": "2023-05-01T18:50:41.347Z"
   },
   {
    "duration": 61,
    "start_time": "2023-05-01T18:53:20.053Z"
   },
   {
    "duration": 7,
    "start_time": "2023-05-01T18:54:08.451Z"
   },
   {
    "duration": 6,
    "start_time": "2023-05-01T18:54:21.205Z"
   },
   {
    "duration": 1208,
    "start_time": "2023-05-02T16:06:32.475Z"
   },
   {
    "duration": 76,
    "start_time": "2023-05-02T16:06:33.685Z"
   },
   {
    "duration": 119,
    "start_time": "2023-05-02T16:06:33.763Z"
   },
   {
    "duration": 0,
    "start_time": "2023-05-02T16:06:33.884Z"
   },
   {
    "duration": 0,
    "start_time": "2023-05-02T16:06:33.887Z"
   },
   {
    "duration": 0,
    "start_time": "2023-05-02T16:06:33.888Z"
   },
   {
    "duration": 0,
    "start_time": "2023-05-02T16:06:33.889Z"
   },
   {
    "duration": 3,
    "start_time": "2023-05-02T16:07:01.434Z"
   },
   {
    "duration": 66,
    "start_time": "2023-05-02T16:07:01.439Z"
   },
   {
    "duration": 10,
    "start_time": "2023-05-02T16:07:01.507Z"
   },
   {
    "duration": 176,
    "start_time": "2023-05-02T16:07:01.519Z"
   },
   {
    "duration": 1645,
    "start_time": "2023-05-02T16:07:01.698Z"
   },
   {
    "duration": 36,
    "start_time": "2023-05-02T16:07:03.345Z"
   },
   {
    "duration": 28,
    "start_time": "2023-05-02T16:07:03.383Z"
   },
   {
    "duration": 19,
    "start_time": "2023-05-02T16:26:32.806Z"
   },
   {
    "duration": 18,
    "start_time": "2023-05-02T16:26:53.807Z"
   },
   {
    "duration": 98,
    "start_time": "2023-05-03T15:12:00.055Z"
   },
   {
    "duration": 1794,
    "start_time": "2023-05-03T15:12:06.803Z"
   },
   {
    "duration": 296,
    "start_time": "2023-05-03T15:12:08.607Z"
   },
   {
    "duration": 21,
    "start_time": "2023-05-03T15:12:08.905Z"
   },
   {
    "duration": 186,
    "start_time": "2023-05-03T15:12:08.928Z"
   },
   {
    "duration": 0,
    "start_time": "2023-05-03T15:12:09.117Z"
   },
   {
    "duration": 0,
    "start_time": "2023-05-03T15:12:09.126Z"
   },
   {
    "duration": 0,
    "start_time": "2023-05-03T15:12:09.132Z"
   },
   {
    "duration": 270,
    "start_time": "2023-05-03T15:12:22.024Z"
   },
   {
    "duration": 2449,
    "start_time": "2023-05-03T15:12:26.658Z"
   },
   {
    "duration": 46,
    "start_time": "2023-05-03T15:14:33.191Z"
   },
   {
    "duration": 37,
    "start_time": "2023-05-03T15:14:36.128Z"
   },
   {
    "duration": 62,
    "start_time": "2023-05-03T15:15:37.999Z"
   },
   {
    "duration": 21,
    "start_time": "2023-05-03T15:15:41.156Z"
   },
   {
    "duration": 22,
    "start_time": "2023-05-03T15:18:17.914Z"
   },
   {
    "duration": 173,
    "start_time": "2023-05-03T15:19:17.008Z"
   },
   {
    "duration": 180,
    "start_time": "2023-05-03T15:19:45.857Z"
   },
   {
    "duration": 24,
    "start_time": "2023-05-03T15:20:18.960Z"
   },
   {
    "duration": 18,
    "start_time": "2023-05-03T15:20:32.102Z"
   },
   {
    "duration": 20,
    "start_time": "2023-05-03T15:20:48.957Z"
   },
   {
    "duration": 133,
    "start_time": "2023-05-03T15:24:19.891Z"
   },
   {
    "duration": 98,
    "start_time": "2023-05-03T15:24:29.310Z"
   },
   {
    "duration": 107,
    "start_time": "2023-05-03T15:24:35.663Z"
   },
   {
    "duration": 3,
    "start_time": "2023-05-03T15:24:49.895Z"
   },
   {
    "duration": 109,
    "start_time": "2023-05-03T15:24:49.901Z"
   },
   {
    "duration": 22,
    "start_time": "2023-05-03T15:24:50.012Z"
   },
   {
    "duration": 244,
    "start_time": "2023-05-03T15:24:50.036Z"
   },
   {
    "duration": 1971,
    "start_time": "2023-05-03T15:24:50.283Z"
   },
   {
    "duration": 97,
    "start_time": "2023-05-03T15:24:52.257Z"
   },
   {
    "duration": 49,
    "start_time": "2023-05-03T15:24:52.358Z"
   },
   {
    "duration": 20,
    "start_time": "2023-05-03T15:24:52.423Z"
   },
   {
    "duration": 6,
    "start_time": "2023-05-03T15:25:16.255Z"
   },
   {
    "duration": 41,
    "start_time": "2023-05-03T15:25:16.264Z"
   },
   {
    "duration": 15,
    "start_time": "2023-05-03T15:25:16.307Z"
   },
   {
    "duration": 219,
    "start_time": "2023-05-03T15:25:16.326Z"
   },
   {
    "duration": 1876,
    "start_time": "2023-05-03T15:25:16.552Z"
   },
   {
    "duration": 93,
    "start_time": "2023-05-03T15:25:18.431Z"
   },
   {
    "duration": 44,
    "start_time": "2023-05-03T15:25:18.528Z"
   },
   {
    "duration": 24,
    "start_time": "2023-05-03T15:25:18.574Z"
   },
   {
    "duration": 124,
    "start_time": "2023-05-03T15:25:25.214Z"
   },
   {
    "duration": 5,
    "start_time": "2023-05-03T15:25:31.507Z"
   },
   {
    "duration": 181,
    "start_time": "2023-05-03T15:25:31.515Z"
   },
   {
    "duration": 65,
    "start_time": "2023-05-03T15:25:31.698Z"
   },
   {
    "duration": 263,
    "start_time": "2023-05-03T15:25:31.766Z"
   },
   {
    "duration": 1858,
    "start_time": "2023-05-03T15:25:32.032Z"
   },
   {
    "duration": 160,
    "start_time": "2023-05-03T15:25:33.892Z"
   },
   {
    "duration": 68,
    "start_time": "2023-05-03T15:25:34.056Z"
   },
   {
    "duration": 59,
    "start_time": "2023-05-03T15:25:34.127Z"
   },
   {
    "duration": 105,
    "start_time": "2023-05-03T15:25:47.351Z"
   },
   {
    "duration": 129,
    "start_time": "2023-05-03T15:25:53.109Z"
   },
   {
    "duration": 12,
    "start_time": "2023-05-03T15:26:00.434Z"
   },
   {
    "duration": 67,
    "start_time": "2023-05-03T15:26:00.453Z"
   },
   {
    "duration": 78,
    "start_time": "2023-05-03T15:26:00.522Z"
   },
   {
    "duration": 276,
    "start_time": "2023-05-03T15:26:00.603Z"
   },
   {
    "duration": 1908,
    "start_time": "2023-05-03T15:26:00.881Z"
   },
   {
    "duration": 139,
    "start_time": "2023-05-03T15:26:02.791Z"
   },
   {
    "duration": 47,
    "start_time": "2023-05-03T15:26:02.935Z"
   },
   {
    "duration": 33,
    "start_time": "2023-05-03T15:26:02.985Z"
   },
   {
    "duration": 118,
    "start_time": "2023-05-03T15:38:40.888Z"
   },
   {
    "duration": 94,
    "start_time": "2023-05-03T15:38:53.647Z"
   },
   {
    "duration": 5,
    "start_time": "2023-05-03T15:39:00.660Z"
   },
   {
    "duration": 116,
    "start_time": "2023-05-03T15:39:00.668Z"
   },
   {
    "duration": 68,
    "start_time": "2023-05-03T15:39:00.786Z"
   },
   {
    "duration": 353,
    "start_time": "2023-05-03T15:39:00.856Z"
   },
   {
    "duration": 1891,
    "start_time": "2023-05-03T15:39:01.212Z"
   },
   {
    "duration": 108,
    "start_time": "2023-05-03T15:39:03.105Z"
   },
   {
    "duration": 102,
    "start_time": "2023-05-03T15:39:03.218Z"
   },
   {
    "duration": 43,
    "start_time": "2023-05-03T15:39:03.331Z"
   },
   {
    "duration": 19,
    "start_time": "2023-05-03T15:39:03.375Z"
   },
   {
    "duration": 87,
    "start_time": "2023-05-03T15:39:16.926Z"
   },
   {
    "duration": 141,
    "start_time": "2023-05-03T15:39:20.484Z"
   },
   {
    "duration": 89,
    "start_time": "2023-05-03T15:39:29.097Z"
   },
   {
    "duration": 44,
    "start_time": "2023-05-03T15:39:30.787Z"
   },
   {
    "duration": 87,
    "start_time": "2023-05-03T15:39:33.782Z"
   },
   {
    "duration": 84,
    "start_time": "2023-05-03T15:40:04.443Z"
   },
   {
    "duration": 100,
    "start_time": "2023-05-03T15:40:12.090Z"
   },
   {
    "duration": 104,
    "start_time": "2023-05-03T15:41:40.046Z"
   },
   {
    "duration": 105,
    "start_time": "2023-05-03T15:41:47.622Z"
   },
   {
    "duration": 104,
    "start_time": "2023-05-03T15:42:00.058Z"
   },
   {
    "duration": 151,
    "start_time": "2023-05-03T15:42:04.782Z"
   },
   {
    "duration": 109,
    "start_time": "2023-05-03T15:42:10.031Z"
   },
   {
    "duration": 85,
    "start_time": "2023-05-03T15:42:34.556Z"
   },
   {
    "duration": 85,
    "start_time": "2023-05-03T15:42:46.592Z"
   },
   {
    "duration": 344,
    "start_time": "2023-05-03T15:42:59.784Z"
   },
   {
    "duration": 89,
    "start_time": "2023-05-03T15:43:10.965Z"
   },
   {
    "duration": 93,
    "start_time": "2023-05-03T15:43:24.435Z"
   },
   {
    "duration": 94,
    "start_time": "2023-05-03T15:43:32.239Z"
   },
   {
    "duration": 4451,
    "start_time": "2023-05-03T15:49:55.983Z"
   },
   {
    "duration": 4543,
    "start_time": "2023-05-03T15:50:12.887Z"
   },
   {
    "duration": 49,
    "start_time": "2023-05-03T15:50:51.303Z"
   },
   {
    "duration": 4176,
    "start_time": "2023-05-03T15:51:03.979Z"
   },
   {
    "duration": 4227,
    "start_time": "2023-05-03T15:51:43.343Z"
   },
   {
    "duration": 4281,
    "start_time": "2023-05-03T15:52:08.796Z"
   },
   {
    "duration": 8256,
    "start_time": "2023-05-03T15:52:26.810Z"
   },
   {
    "duration": 4528,
    "start_time": "2023-05-03T15:52:41.608Z"
   },
   {
    "duration": 4232,
    "start_time": "2023-05-03T15:52:49.011Z"
   },
   {
    "duration": 713,
    "start_time": "2023-05-03T15:55:16.082Z"
   },
   {
    "duration": 769,
    "start_time": "2023-05-03T15:55:27.322Z"
   },
   {
    "duration": 7343,
    "start_time": "2023-05-03T15:55:34.011Z"
   },
   {
    "duration": 4073,
    "start_time": "2023-05-03T15:55:46.942Z"
   },
   {
    "duration": 3539,
    "start_time": "2023-05-03T15:55:58.873Z"
   },
   {
    "duration": 3802,
    "start_time": "2023-05-03T15:56:25.143Z"
   },
   {
    "duration": 3874,
    "start_time": "2023-05-03T15:57:01.775Z"
   },
   {
    "duration": 3631,
    "start_time": "2023-05-03T15:57:13.042Z"
   },
   {
    "duration": 100,
    "start_time": "2023-05-03T15:59:08.723Z"
   },
   {
    "duration": 371,
    "start_time": "2023-05-03T15:59:43.840Z"
   },
   {
    "duration": 18,
    "start_time": "2023-05-03T16:00:33.573Z"
   },
   {
    "duration": 19,
    "start_time": "2023-05-03T16:01:11.892Z"
   },
   {
    "duration": 28,
    "start_time": "2023-05-03T16:01:16.142Z"
   },
   {
    "duration": 43,
    "start_time": "2023-05-03T16:16:53.286Z"
   },
   {
    "duration": 12,
    "start_time": "2023-05-03T16:17:32.084Z"
   },
   {
    "duration": 3433,
    "start_time": "2023-05-03T16:17:36.097Z"
   },
   {
    "duration": 24,
    "start_time": "2023-05-03T16:17:50.623Z"
   },
   {
    "duration": 49,
    "start_time": "2023-05-03T16:17:56.087Z"
   },
   {
    "duration": 3291,
    "start_time": "2023-05-03T16:18:27.219Z"
   },
   {
    "duration": 131,
    "start_time": "2023-05-03T16:18:30.518Z"
   },
   {
    "duration": 3604,
    "start_time": "2023-05-03T16:18:37.944Z"
   },
   {
    "duration": 17,
    "start_time": "2023-05-03T16:18:48.035Z"
   },
   {
    "duration": 39,
    "start_time": "2023-05-03T16:18:53.129Z"
   },
   {
    "duration": 42,
    "start_time": "2023-05-03T16:19:44.143Z"
   },
   {
    "duration": 43,
    "start_time": "2023-05-03T16:21:15.908Z"
   },
   {
    "duration": 11,
    "start_time": "2023-05-03T17:27:58.156Z"
   },
   {
    "duration": 10,
    "start_time": "2023-05-03T17:28:08.905Z"
   },
   {
    "duration": 1575,
    "start_time": "2023-05-03T17:31:49.053Z"
   },
   {
    "duration": 95,
    "start_time": "2023-05-03T17:33:09.391Z"
   },
   {
    "duration": 89,
    "start_time": "2023-05-03T17:33:13.014Z"
   },
   {
    "duration": 3302,
    "start_time": "2023-05-03T17:34:15.343Z"
   },
   {
    "duration": 11,
    "start_time": "2023-05-03T17:37:15.095Z"
   },
   {
    "duration": 88,
    "start_time": "2023-05-03T17:37:24.461Z"
   },
   {
    "duration": 5,
    "start_time": "2023-05-03T17:37:30.713Z"
   },
   {
    "duration": 6692,
    "start_time": "2023-05-03T17:37:36.203Z"
   },
   {
    "duration": 3175,
    "start_time": "2023-05-03T17:37:48.119Z"
   },
   {
    "duration": 81,
    "start_time": "2023-05-03T17:39:00.902Z"
   },
   {
    "duration": 24,
    "start_time": "2023-05-03T17:39:16.587Z"
   },
   {
    "duration": 69,
    "start_time": "2023-05-03T17:39:29.529Z"
   },
   {
    "duration": 10,
    "start_time": "2023-05-03T18:59:29.393Z"
   },
   {
    "duration": 12,
    "start_time": "2023-05-03T18:59:48.880Z"
   },
   {
    "duration": 5,
    "start_time": "2023-05-03T19:00:47.688Z"
   },
   {
    "duration": 7,
    "start_time": "2023-05-03T19:00:55.011Z"
   },
   {
    "duration": 7,
    "start_time": "2023-05-03T19:01:07.630Z"
   },
   {
    "duration": 8,
    "start_time": "2023-05-03T19:01:43.075Z"
   },
   {
    "duration": 1050,
    "start_time": "2023-05-03T21:07:22.953Z"
   },
   {
    "duration": 71,
    "start_time": "2023-05-03T21:07:24.005Z"
   },
   {
    "duration": 9,
    "start_time": "2023-05-03T21:07:24.078Z"
   },
   {
    "duration": 130,
    "start_time": "2023-05-03T21:07:24.089Z"
   },
   {
    "duration": 1352,
    "start_time": "2023-05-03T21:07:24.222Z"
   },
   {
    "duration": 84,
    "start_time": "2023-05-03T21:07:25.575Z"
   },
   {
    "duration": 2884,
    "start_time": "2023-05-03T21:07:25.661Z"
   },
   {
    "duration": 2476,
    "start_time": "2023-05-03T21:07:28.546Z"
   },
   {
    "duration": 88,
    "start_time": "2023-05-03T21:07:31.024Z"
   },
   {
    "duration": 57,
    "start_time": "2023-05-03T21:07:31.113Z"
   },
   {
    "duration": 48,
    "start_time": "2023-05-03T21:07:31.171Z"
   },
   {
    "duration": 16,
    "start_time": "2023-05-03T21:07:31.221Z"
   },
   {
    "duration": 42,
    "start_time": "2023-05-03T21:07:31.238Z"
   },
   {
    "duration": 14,
    "start_time": "2023-05-03T21:50:30.107Z"
   },
   {
    "duration": 10,
    "start_time": "2023-05-03T21:50:38.304Z"
   },
   {
    "duration": 162,
    "start_time": "2023-05-03T22:01:47.040Z"
   },
   {
    "duration": 161,
    "start_time": "2023-05-03T22:02:09.760Z"
   },
   {
    "duration": 2743,
    "start_time": "2023-05-03T22:02:50.447Z"
   },
   {
    "duration": 2806,
    "start_time": "2023-05-03T22:03:17.070Z"
   },
   {
    "duration": 2579,
    "start_time": "2023-05-03T22:04:06.844Z"
   },
   {
    "duration": 2407,
    "start_time": "2023-05-03T22:04:18.344Z"
   },
   {
    "duration": 26695,
    "start_time": "2023-05-03T22:41:05.819Z"
   },
   {
    "duration": 26086,
    "start_time": "2023-05-03T22:42:06.479Z"
   },
   {
    "duration": 0,
    "start_time": "2023-05-03T22:45:27.940Z"
   },
   {
    "duration": 3,
    "start_time": "2023-05-03T22:45:29.941Z"
   },
   {
    "duration": 46,
    "start_time": "2023-05-03T22:45:29.945Z"
   },
   {
    "duration": 14,
    "start_time": "2023-05-03T22:45:29.994Z"
   },
   {
    "duration": 24,
    "start_time": "2023-05-03T22:45:30.010Z"
   },
   {
    "duration": 145,
    "start_time": "2023-05-03T22:45:30.037Z"
   },
   {
    "duration": 378839,
    "start_time": "2023-05-03T22:45:30.184Z"
   },
   {
    "duration": 0,
    "start_time": "2023-05-03T22:51:49.027Z"
   },
   {
    "duration": 0,
    "start_time": "2023-05-03T22:51:49.028Z"
   },
   {
    "duration": 0,
    "start_time": "2023-05-03T22:51:49.029Z"
   },
   {
    "duration": 0,
    "start_time": "2023-05-03T22:51:49.030Z"
   },
   {
    "duration": 0,
    "start_time": "2023-05-03T22:51:49.031Z"
   },
   {
    "duration": 0,
    "start_time": "2023-05-03T22:51:49.032Z"
   },
   {
    "duration": 0,
    "start_time": "2023-05-03T22:51:49.033Z"
   },
   {
    "duration": 0,
    "start_time": "2023-05-03T22:51:49.034Z"
   },
   {
    "duration": 0,
    "start_time": "2023-05-03T22:51:49.035Z"
   },
   {
    "duration": 11443,
    "start_time": "2023-05-03T22:54:52.723Z"
   },
   {
    "duration": 23855,
    "start_time": "2023-05-03T22:55:22.553Z"
   },
   {
    "duration": 3,
    "start_time": "2023-05-03T22:56:04.836Z"
   },
   {
    "duration": 42,
    "start_time": "2023-05-03T22:56:04.841Z"
   },
   {
    "duration": 8,
    "start_time": "2023-05-03T22:56:04.885Z"
   },
   {
    "duration": 11,
    "start_time": "2023-05-03T22:56:04.896Z"
   },
   {
    "duration": 138,
    "start_time": "2023-05-03T22:56:04.911Z"
   },
   {
    "duration": 23895,
    "start_time": "2023-05-03T22:56:05.050Z"
   },
   {
    "duration": 1402,
    "start_time": "2023-05-03T22:56:28.947Z"
   },
   {
    "duration": 168,
    "start_time": "2023-05-03T22:56:30.351Z"
   },
   {
    "duration": 2980,
    "start_time": "2023-05-03T22:56:30.524Z"
   },
   {
    "duration": 2560,
    "start_time": "2023-05-03T22:56:33.506Z"
   },
   {
    "duration": 86,
    "start_time": "2023-05-03T22:56:36.068Z"
   },
   {
    "duration": 72,
    "start_time": "2023-05-03T22:56:36.155Z"
   },
   {
    "duration": 29,
    "start_time": "2023-05-03T22:56:36.229Z"
   },
   {
    "duration": 17,
    "start_time": "2023-05-03T22:56:36.259Z"
   },
   {
    "duration": 32,
    "start_time": "2023-05-03T22:56:36.277Z"
   },
   {
    "duration": 24036,
    "start_time": "2023-05-03T22:57:12.437Z"
   },
   {
    "duration": 23872,
    "start_time": "2023-05-03T22:58:23.356Z"
   },
   {
    "duration": 23888,
    "start_time": "2023-05-03T22:59:25.441Z"
   },
   {
    "duration": 23005,
    "start_time": "2023-05-03T23:00:00.919Z"
   },
   {
    "duration": 12,
    "start_time": "2023-05-03T23:01:16.753Z"
   },
   {
    "duration": 288,
    "start_time": "2023-05-03T23:04:10.127Z"
   },
   {
    "duration": 296,
    "start_time": "2023-05-03T23:04:14.570Z"
   },
   {
    "duration": 287,
    "start_time": "2023-05-03T23:04:55.461Z"
   },
   {
    "duration": 22616,
    "start_time": "2023-05-03T23:04:57.258Z"
   },
   {
    "duration": 272,
    "start_time": "2023-05-03T23:05:48.640Z"
   },
   {
    "duration": 15,
    "start_time": "2023-05-03T23:09:14.180Z"
   },
   {
    "duration": 252,
    "start_time": "2023-05-03T23:10:32.109Z"
   },
   {
    "duration": 248,
    "start_time": "2023-05-03T23:10:45.004Z"
   },
   {
    "duration": 19,
    "start_time": "2023-05-03T23:14:57.432Z"
   },
   {
    "duration": 5459,
    "start_time": "2023-05-03T23:17:34.092Z"
   },
   {
    "duration": 317,
    "start_time": "2023-05-03T23:18:30.835Z"
   },
   {
    "duration": 298,
    "start_time": "2023-05-03T23:19:09.819Z"
   },
   {
    "duration": 297,
    "start_time": "2023-05-03T23:19:40.617Z"
   },
   {
    "duration": 80772,
    "start_time": "2023-05-03T23:20:00.063Z"
   },
   {
    "duration": 25259,
    "start_time": "2023-05-03T23:22:32.215Z"
   },
   {
    "duration": 112,
    "start_time": "2023-05-03T23:24:53.850Z"
   },
   {
    "duration": 10016,
    "start_time": "2023-05-03T23:25:19.314Z"
   },
   {
    "duration": 9789,
    "start_time": "2023-05-03T23:25:52.013Z"
   },
   {
    "duration": 356,
    "start_time": "2023-05-03T23:32:00.956Z"
   },
   {
    "duration": 338,
    "start_time": "2023-05-03T23:32:46.042Z"
   },
   {
    "duration": 358,
    "start_time": "2023-05-03T23:33:04.687Z"
   },
   {
    "duration": 339,
    "start_time": "2023-05-03T23:33:39.239Z"
   },
   {
    "duration": 143,
    "start_time": "2023-05-03T23:33:48.193Z"
   },
   {
    "duration": 207,
    "start_time": "2023-05-03T23:33:54.237Z"
   },
   {
    "duration": 141,
    "start_time": "2023-05-03T23:34:12.710Z"
   },
   {
    "duration": 150,
    "start_time": "2023-05-03T23:37:04.952Z"
   },
   {
    "duration": 359,
    "start_time": "2023-05-03T23:37:53.822Z"
   },
   {
    "duration": 213,
    "start_time": "2023-05-03T23:39:01.672Z"
   },
   {
    "duration": 229,
    "start_time": "2023-05-03T23:39:41.119Z"
   },
   {
    "duration": 232,
    "start_time": "2023-05-03T23:39:56.816Z"
   },
   {
    "duration": 433,
    "start_time": "2023-05-03T23:40:01.285Z"
   },
   {
    "duration": 156,
    "start_time": "2023-05-03T23:40:07.892Z"
   },
   {
    "duration": 38,
    "start_time": "2023-05-03T23:40:11.846Z"
   },
   {
    "duration": 40,
    "start_time": "2023-05-03T23:40:14.428Z"
   },
   {
    "duration": 874,
    "start_time": "2023-05-03T23:40:20.362Z"
   },
   {
    "duration": 509,
    "start_time": "2023-05-03T23:40:25.594Z"
   },
   {
    "duration": 167,
    "start_time": "2023-05-03T23:40:32.468Z"
   },
   {
    "duration": 902,
    "start_time": "2023-05-03T23:41:14.968Z"
   },
   {
    "duration": 891,
    "start_time": "2023-05-03T23:41:33.088Z"
   },
   {
    "duration": 915,
    "start_time": "2023-05-03T23:43:03.319Z"
   },
   {
    "duration": 905,
    "start_time": "2023-05-03T23:43:13.317Z"
   },
   {
    "duration": 931,
    "start_time": "2023-05-03T23:43:58.817Z"
   },
   {
    "duration": 903,
    "start_time": "2023-05-03T23:44:05.432Z"
   },
   {
    "duration": 32,
    "start_time": "2023-05-03T23:44:20.672Z"
   },
   {
    "duration": 873,
    "start_time": "2023-05-03T23:45:00.377Z"
   },
   {
    "duration": 879,
    "start_time": "2023-05-03T23:45:06.608Z"
   },
   {
    "duration": 895,
    "start_time": "2023-05-03T23:45:24.758Z"
   },
   {
    "duration": 102,
    "start_time": "2023-05-03T23:46:16.255Z"
   },
   {
    "duration": 878,
    "start_time": "2023-05-03T23:46:22.370Z"
   },
   {
    "duration": 35,
    "start_time": "2023-05-03T23:50:39.527Z"
   },
   {
    "duration": 28,
    "start_time": "2023-05-03T23:51:17.575Z"
   },
   {
    "duration": 37,
    "start_time": "2023-05-03T23:51:21.817Z"
   },
   {
    "duration": 27,
    "start_time": "2023-05-03T23:51:28.244Z"
   },
   {
    "duration": 25,
    "start_time": "2023-05-03T23:51:34.746Z"
   },
   {
    "duration": 23063,
    "start_time": "2023-05-03T23:52:19.463Z"
   },
   {
    "duration": 4,
    "start_time": "2023-05-03T23:53:46.052Z"
   },
   {
    "duration": 34,
    "start_time": "2023-05-03T23:53:46.057Z"
   },
   {
    "duration": 19,
    "start_time": "2023-05-03T23:53:46.093Z"
   },
   {
    "duration": 11,
    "start_time": "2023-05-03T23:53:46.113Z"
   },
   {
    "duration": 13,
    "start_time": "2023-05-03T23:53:46.126Z"
   },
   {
    "duration": 9415,
    "start_time": "2023-05-03T23:53:46.141Z"
   },
   {
    "duration": 315,
    "start_time": "2023-05-03T23:53:55.558Z"
   },
   {
    "duration": 23076,
    "start_time": "2023-05-03T23:53:55.874Z"
   },
   {
    "duration": 891,
    "start_time": "2023-05-03T23:54:18.953Z"
   },
   {
    "duration": 29,
    "start_time": "2023-05-03T23:54:19.845Z"
   },
   {
    "duration": 6,
    "start_time": "2023-05-03T23:54:19.875Z"
   },
   {
    "duration": 9151,
    "start_time": "2023-05-03T23:55:14.223Z"
   },
   {
    "duration": 9077,
    "start_time": "2023-05-03T23:55:35.857Z"
   },
   {
    "duration": 9132,
    "start_time": "2023-05-03T23:56:38.690Z"
   },
   {
    "duration": 22995,
    "start_time": "2023-05-03T23:57:15.948Z"
   },
   {
    "duration": 9279,
    "start_time": "2023-05-03T23:57:38.945Z"
   },
   {
    "duration": 27,
    "start_time": "2023-05-03T23:57:48.227Z"
   },
   {
    "duration": 345,
    "start_time": "2023-05-04T00:03:09.623Z"
   },
   {
    "duration": 3,
    "start_time": "2023-05-04T00:05:04.907Z"
   },
   {
    "duration": 47,
    "start_time": "2023-05-04T00:05:04.912Z"
   },
   {
    "duration": 8,
    "start_time": "2023-05-04T00:05:04.960Z"
   },
   {
    "duration": 17,
    "start_time": "2023-05-04T00:05:04.969Z"
   },
   {
    "duration": 13,
    "start_time": "2023-05-04T00:05:04.987Z"
   },
   {
    "duration": 8286,
    "start_time": "2023-05-04T00:05:05.001Z"
   },
   {
    "duration": 276,
    "start_time": "2023-05-04T00:05:13.289Z"
   },
   {
    "duration": 21069,
    "start_time": "2023-05-04T00:05:13.566Z"
   },
   {
    "duration": 316,
    "start_time": "2023-05-04T00:05:34.637Z"
   },
   {
    "duration": 26,
    "start_time": "2023-05-04T00:05:34.955Z"
   },
   {
    "duration": 5,
    "start_time": "2023-05-04T00:05:34.995Z"
   },
   {
    "duration": 328,
    "start_time": "2023-05-04T00:06:44.686Z"
   },
   {
    "duration": 315,
    "start_time": "2023-05-04T00:07:13.619Z"
   },
   {
    "duration": 324,
    "start_time": "2023-05-04T00:07:56.143Z"
   },
   {
    "duration": 309,
    "start_time": "2023-05-04T00:08:23.105Z"
   },
   {
    "duration": 370,
    "start_time": "2023-05-04T00:08:26.961Z"
   },
   {
    "duration": 5,
    "start_time": "2023-05-04T00:08:34.778Z"
   },
   {
    "duration": 304,
    "start_time": "2023-05-04T00:08:37.238Z"
   },
   {
    "duration": 316,
    "start_time": "2023-05-04T00:08:45.291Z"
   },
   {
    "duration": 317,
    "start_time": "2023-05-04T00:08:50.257Z"
   },
   {
    "duration": 339,
    "start_time": "2023-05-04T00:09:00.067Z"
   },
   {
    "duration": 48,
    "start_time": "2023-05-04T00:11:42.250Z"
   },
   {
    "duration": 59,
    "start_time": "2023-05-04T00:12:19.055Z"
   },
   {
    "duration": 10,
    "start_time": "2023-05-04T00:13:38.437Z"
   },
   {
    "duration": 176,
    "start_time": "2023-05-04T00:15:30.760Z"
   },
   {
    "duration": 197,
    "start_time": "2023-05-04T00:16:03.631Z"
   },
   {
    "duration": 193,
    "start_time": "2023-05-04T00:16:36.839Z"
   },
   {
    "duration": 181,
    "start_time": "2023-05-04T00:16:45.007Z"
   },
   {
    "duration": 191,
    "start_time": "2023-05-04T00:29:33.204Z"
   },
   {
    "duration": 1346,
    "start_time": "2023-05-04T16:33:30.686Z"
   },
   {
    "duration": 94,
    "start_time": "2023-05-04T16:33:32.034Z"
   },
   {
    "duration": 26,
    "start_time": "2023-05-04T16:33:32.130Z"
   },
   {
    "duration": 22,
    "start_time": "2023-05-04T16:33:32.158Z"
   },
   {
    "duration": 38,
    "start_time": "2023-05-04T16:33:32.184Z"
   },
   {
    "duration": 11682,
    "start_time": "2023-05-04T16:33:32.224Z"
   },
   {
    "duration": 340,
    "start_time": "2023-05-04T16:33:43.909Z"
   },
   {
    "duration": 29223,
    "start_time": "2023-05-04T16:33:44.251Z"
   },
   {
    "duration": 289,
    "start_time": "2023-05-04T16:34:13.475Z"
   },
   {
    "duration": 44,
    "start_time": "2023-05-04T16:34:13.766Z"
   },
   {
    "duration": 9,
    "start_time": "2023-05-04T16:34:13.813Z"
   },
   {
    "duration": 153,
    "start_time": "2023-05-04T16:40:07.148Z"
   },
   {
    "duration": 6401,
    "start_time": "2023-05-04T16:40:22.210Z"
   },
   {
    "duration": 6963,
    "start_time": "2023-05-04T16:41:56.060Z"
   },
   {
    "duration": 14900,
    "start_time": "2023-05-04T16:42:50.627Z"
   },
   {
    "duration": 5,
    "start_time": "2023-05-04T16:52:10.310Z"
   },
   {
    "duration": 39,
    "start_time": "2023-05-04T16:52:10.317Z"
   },
   {
    "duration": 12,
    "start_time": "2023-05-04T16:52:10.358Z"
   },
   {
    "duration": 16,
    "start_time": "2023-05-04T16:52:10.372Z"
   },
   {
    "duration": 22,
    "start_time": "2023-05-04T16:52:10.391Z"
   },
   {
    "duration": 12053,
    "start_time": "2023-05-04T16:52:10.415Z"
   },
   {
    "duration": 358,
    "start_time": "2023-05-04T16:52:22.473Z"
   },
   {
    "duration": 5620,
    "start_time": "2023-05-04T16:52:22.833Z"
   },
   {
    "duration": 281,
    "start_time": "2023-05-04T16:52:28.458Z"
   },
   {
    "duration": 61,
    "start_time": "2023-05-04T16:52:28.741Z"
   },
   {
    "duration": 6,
    "start_time": "2023-05-04T16:52:28.804Z"
   },
   {
    "duration": 1185,
    "start_time": "2023-05-20T18:29:53.197Z"
   },
   {
    "duration": 86,
    "start_time": "2023-05-20T18:29:54.385Z"
   },
   {
    "duration": 20,
    "start_time": "2023-05-20T18:29:54.472Z"
   },
   {
    "duration": 18,
    "start_time": "2023-05-20T18:29:54.494Z"
   },
   {
    "duration": 20,
    "start_time": "2023-05-20T18:29:54.515Z"
   },
   {
    "duration": 9262,
    "start_time": "2023-05-20T18:29:54.537Z"
   },
   {
    "duration": 447,
    "start_time": "2023-05-20T18:30:03.800Z"
   },
   {
    "duration": 6913,
    "start_time": "2023-05-20T18:30:04.248Z"
   },
   {
    "duration": 283,
    "start_time": "2023-05-20T18:30:11.162Z"
   },
   {
    "duration": 30,
    "start_time": "2023-05-20T18:30:11.447Z"
   },
   {
    "duration": 6,
    "start_time": "2023-05-20T18:30:11.478Z"
   },
   {
    "duration": 3,
    "start_time": "2023-05-20T18:49:46.385Z"
   },
   {
    "duration": 50,
    "start_time": "2023-05-20T18:49:46.390Z"
   },
   {
    "duration": 11,
    "start_time": "2023-05-20T18:49:46.445Z"
   },
   {
    "duration": 11,
    "start_time": "2023-05-20T18:49:46.458Z"
   },
   {
    "duration": 15,
    "start_time": "2023-05-20T18:49:46.470Z"
   },
   {
    "duration": 625,
    "start_time": "2023-05-20T18:49:46.487Z"
   },
   {
    "duration": 0,
    "start_time": "2023-05-20T18:49:47.114Z"
   },
   {
    "duration": 0,
    "start_time": "2023-05-20T18:49:47.115Z"
   },
   {
    "duration": 0,
    "start_time": "2023-05-20T18:49:47.117Z"
   },
   {
    "duration": 0,
    "start_time": "2023-05-20T18:49:47.132Z"
   },
   {
    "duration": 0,
    "start_time": "2023-05-20T18:49:47.133Z"
   },
   {
    "duration": 4,
    "start_time": "2023-05-20T18:50:08.050Z"
   },
   {
    "duration": 43,
    "start_time": "2023-05-20T18:50:08.055Z"
   },
   {
    "duration": 12,
    "start_time": "2023-05-20T18:50:08.101Z"
   },
   {
    "duration": 16,
    "start_time": "2023-05-20T18:50:08.115Z"
   },
   {
    "duration": 20,
    "start_time": "2023-05-20T18:50:08.140Z"
   },
   {
    "duration": 9291,
    "start_time": "2023-05-20T18:50:08.162Z"
   },
   {
    "duration": 423,
    "start_time": "2023-05-20T18:50:17.457Z"
   },
   {
    "duration": 6975,
    "start_time": "2023-05-20T18:50:17.882Z"
   },
   {
    "duration": 227,
    "start_time": "2023-05-20T18:50:24.859Z"
   },
   {
    "duration": 39,
    "start_time": "2023-05-20T18:50:25.088Z"
   },
   {
    "duration": 13,
    "start_time": "2023-05-20T18:50:25.128Z"
   }
  ],
  "kernelspec": {
   "display_name": "Python 3 (ipykernel)",
   "language": "python",
   "name": "python3"
  },
  "language_info": {
   "codemirror_mode": {
    "name": "ipython",
    "version": 3
   },
   "file_extension": ".py",
   "mimetype": "text/x-python",
   "name": "python",
   "nbconvert_exporter": "python",
   "pygments_lexer": "ipython3",
   "version": "3.11.5"
  },
  "toc": {
   "base_numbering": 1,
   "nav_menu": {},
   "number_sections": true,
   "sideBar": true,
   "skip_h1_title": true,
   "title_cell": "Table of Contents",
   "title_sidebar": "Contents",
   "toc_cell": false,
   "toc_position": {
    "height": "calc(100% - 180px)",
    "left": "10px",
    "top": "150px",
    "width": "303.837px"
   },
   "toc_section_display": true,
   "toc_window_display": true
  }
 },
 "nbformat": 4,
 "nbformat_minor": 2
}
