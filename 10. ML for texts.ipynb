{
 "cells": [
  {
   "cell_type": "markdown",
   "metadata": {},
   "source": [
    "# Project for the retail store"
   ]
  },
  {
   "cell_type": "markdown",
   "metadata": {},
   "source": [
    "The online store is launching a new service. Now users can edit and add product descriptions, just like in wiki communities. That is, clients suggest their edits and comment on the changes of others. The store needs a tool that will look for toxic comments and send them for moderation.\n",
    "\n",
    "Train the model to classify comments into positive and negative. At your disposal is a set of data with markings about the toxicity of edits.\n",
    "\n",
    "Build a model with a quality metric value *F1* of at least 0.75.\n",
    "\n",
    "**Instructions for completing the project**\n",
    "\n",
    "1. Download and prepare data.\n",
    "2. Train different models.\n",
    "3. Draw conclusions.\n",
    "\n",
    "It is not necessary to use *BERT* to complete the project, but you can try.\n",
    "\n",
    "**Description of data**\n",
    "\n",
    "The data is in the file `toxic_comments.csv`. The *text* column in it contains the text of the comment, and *toxic* is the target attribute."
   ]
  },
  {
   "cell_type": "markdown",
   "metadata": {},
   "source": [
    "## Data preparation"
   ]
  },
  {
   "cell_type": "code",
   "execution_count": 1,
   "metadata": {},
   "outputs": [
    {
     "name": "stderr",
     "output_type": "stream",
     "text": [
      "[nltk_data] Downloading package stopwords to /home/jovyan/nltk_data...\n",
      "[nltk_data]   Package stopwords is already up-to-date!\n",
      "[nltk_data] Downloading package averaged_perceptron_tagger to\n",
      "[nltk_data]     /home/jovyan/nltk_data...\n",
      "[nltk_data]   Package averaged_perceptron_tagger is already up-to-\n",
      "[nltk_data]       date!\n"
     ]
    },
    {
     "data": {
      "text/plain": [
       "True"
      ]
     },
     "execution_count": 1,
     "metadata": {},
     "output_type": "execute_result"
    }
   ],
   "source": [
    "import pandas as pd\n",
    "import re\n",
    "import matplotlib.pyplot as plt\n",
    "\n",
    "from sklearn.metrics import f1_score\n",
    "from sklearn.model_selection import train_test_split\n",
    "from sklearn.feature_extraction.text import TfidfVectorizer\n",
    "from nltk.corpus import stopwords\n",
    "from sklearn.linear_model import LogisticRegression\n",
    "from sklearn.tree import DecisionTreeClassifier\n",
    "from sklearn.ensemble import RandomForestClassifier\n",
    "from nltk.stem import WordNetLemmatizer\n",
    "from nltk.corpus import stopwords, wordnet\n",
    "from sklearn.utils import shuffle\n",
    "from tqdm.notebook import tqdm\n",
    "import nltk\n",
    "import time\n",
    "\n",
    "RANDOM_STATE=12345\n",
    "\n",
    "nltk.download('stopwords')\n",
    "nltk.download('averaged_perceptron_tagger')"
   ]
  },
  {
   "cell_type": "code",
   "execution_count": 2,
   "metadata": {},
   "outputs": [],
   "source": [
    "comm=pd.read_csv('/datasets/toxic_comments.csv')"
   ]
  },
  {
   "cell_type": "code",
   "execution_count": 3,
   "metadata": {},
   "outputs": [
    {
     "name": "stdout",
     "output_type": "stream",
     "text": [
      "<class 'pandas.core.frame.DataFrame'>\n",
      "RangeIndex: 159292 entries, 0 to 159291\n",
      "Data columns (total 3 columns):\n",
      " #   Column      Non-Null Count   Dtype \n",
      "---  ------      --------------   ----- \n",
      " 0   Unnamed: 0  159292 non-null  int64 \n",
      " 1   text        159292 non-null  object\n",
      " 2   toxic       159292 non-null  int64 \n",
      "dtypes: int64(2), object(1)\n",
      "memory usage: 3.6+ MB\n"
     ]
    }
   ],
   "source": [
    "comm.info()"
   ]
  },
  {
   "cell_type": "code",
   "execution_count": 4,
   "metadata": {},
   "outputs": [
    {
     "data": {
      "text/html": [
       "<div>\n",
       "<style scoped>\n",
       "    .dataframe tbody tr th:only-of-type {\n",
       "        vertical-align: middle;\n",
       "    }\n",
       "\n",
       "    .dataframe tbody tr th {\n",
       "        vertical-align: top;\n",
       "    }\n",
       "\n",
       "    .dataframe thead th {\n",
       "        text-align: right;\n",
       "    }\n",
       "</style>\n",
       "<table border=\"1\" class=\"dataframe\">\n",
       "  <thead>\n",
       "    <tr style=\"text-align: right;\">\n",
       "      <th></th>\n",
       "      <th>Unnamed: 0</th>\n",
       "      <th>text</th>\n",
       "      <th>toxic</th>\n",
       "    </tr>\n",
       "  </thead>\n",
       "  <tbody>\n",
       "    <tr>\n",
       "      <th>0</th>\n",
       "      <td>0</td>\n",
       "      <td>Explanation\\nWhy the edits made under my usern...</td>\n",
       "      <td>0</td>\n",
       "    </tr>\n",
       "    <tr>\n",
       "      <th>1</th>\n",
       "      <td>1</td>\n",
       "      <td>D'aww! He matches this background colour I'm s...</td>\n",
       "      <td>0</td>\n",
       "    </tr>\n",
       "    <tr>\n",
       "      <th>2</th>\n",
       "      <td>2</td>\n",
       "      <td>Hey man, I'm really not trying to edit war. It...</td>\n",
       "      <td>0</td>\n",
       "    </tr>\n",
       "    <tr>\n",
       "      <th>3</th>\n",
       "      <td>3</td>\n",
       "      <td>\"\\nMore\\nI can't make any real suggestions on ...</td>\n",
       "      <td>0</td>\n",
       "    </tr>\n",
       "    <tr>\n",
       "      <th>4</th>\n",
       "      <td>4</td>\n",
       "      <td>You, sir, are my hero. Any chance you remember...</td>\n",
       "      <td>0</td>\n",
       "    </tr>\n",
       "  </tbody>\n",
       "</table>\n",
       "</div>"
      ],
      "text/plain": [
       "   Unnamed: 0                                               text  toxic\n",
       "0           0  Explanation\\nWhy the edits made under my usern...      0\n",
       "1           1  D'aww! He matches this background colour I'm s...      0\n",
       "2           2  Hey man, I'm really not trying to edit war. It...      0\n",
       "3           3  \"\\nMore\\nI can't make any real suggestions on ...      0\n",
       "4           4  You, sir, are my hero. Any chance you remember...      0"
      ]
     },
     "execution_count": 4,
     "metadata": {},
     "output_type": "execute_result"
    }
   ],
   "source": [
    "comm.head()"
   ]
  },
  {
   "cell_type": "code",
   "execution_count": 5,
   "metadata": {},
   "outputs": [
    {
     "data": {
      "text/plain": [
       "0"
      ]
     },
     "execution_count": 5,
     "metadata": {},
     "output_type": "execute_result"
    }
   ],
   "source": [
    "comm.duplicated().sum()"
   ]
  },
  {
   "cell_type": "code",
   "execution_count": 6,
   "metadata": {},
   "outputs": [
    {
     "data": {
      "text/plain": [
       "Unnamed: 0    0\n",
       "text          0\n",
       "toxic         0\n",
       "dtype: int64"
      ]
     },
     "execution_count": 6,
     "metadata": {},
     "output_type": "execute_result"
    }
   ],
   "source": [
    "comm.isna().sum()"
   ]
  },
  {
   "cell_type": "code",
   "execution_count": 7,
   "metadata": {},
   "outputs": [],
   "source": [
    "comm = comm.drop(['Unnamed: 0'], axis=1)"
   ]
  },
  {
   "cell_type": "code",
   "execution_count": 8,
   "metadata": {},
   "outputs": [],
   "source": [
    "lemmatizer = WordNetLemmatizer()\n",
    "\n",
    "def get_wordnet_pos(word):\n",
    "    \"\"\"Map POS tag to first character lemmatize() accepts\"\"\"\n",
    "    tag = nltk.pos_tag([word])[0][1][0].upper()\n",
    "    tag_dict = {\"J\": wordnet.ADJ,\n",
    "                \"N\": wordnet.NOUN,\n",
    "                \"V\": wordnet.VERB,\n",
    "                \"R\": wordnet.ADV}\n",
    "    return tag_dict.get(tag, wordnet.NOUN)\n",
    "    return text\n",
    "    \n",
    "def lemmatize_text(text):\n",
    "    text = text.lower()\n",
    "    text = re.sub(\"[^a-zA-Z' ]+\", ' ', text)\n",
    "    text = \" \".join([lemmatizer.lemmatize(w, get_wordnet_pos(w)) for w in nltk.word_tokenize(text)])\n",
    "    return text"
   ]
  },
  {
   "cell_type": "code",
   "execution_count": 9,
   "metadata": {},
   "outputs": [],
   "source": [
    "from tqdm.notebook import tqdm\n",
    "tqdm.pandas(desc=\"bar\")"
   ]
  },
  {
   "cell_type": "code",
   "execution_count": 10,
   "metadata": {},
   "outputs": [
    {
     "data": {
      "application/vnd.jupyter.widget-view+json": {
       "model_id": "61783aab96e14c0b9c66cccd0773549e",
       "version_major": 2,
       "version_minor": 0
      },
      "text/plain": [
       "bar:   0%|          | 0/159292 [00:00<?, ?it/s]"
      ]
     },
     "metadata": {},
     "output_type": "display_data"
    }
   ],
   "source": [
    "comm['lemm_text'] = comm['text'].progress_apply(lemmatize_text)\n",
    "\n",
    "comm = comm.drop(['text'], axis=1)"
   ]
  },
  {
   "cell_type": "code",
   "execution_count": 11,
   "metadata": {},
   "outputs": [
    {
     "data": {
      "text/html": [
       "<div>\n",
       "<style scoped>\n",
       "    .dataframe tbody tr th:only-of-type {\n",
       "        vertical-align: middle;\n",
       "    }\n",
       "\n",
       "    .dataframe tbody tr th {\n",
       "        vertical-align: top;\n",
       "    }\n",
       "\n",
       "    .dataframe thead th {\n",
       "        text-align: right;\n",
       "    }\n",
       "</style>\n",
       "<table border=\"1\" class=\"dataframe\">\n",
       "  <thead>\n",
       "    <tr style=\"text-align: right;\">\n",
       "      <th></th>\n",
       "      <th>toxic</th>\n",
       "      <th>lemm_text</th>\n",
       "    </tr>\n",
       "  </thead>\n",
       "  <tbody>\n",
       "    <tr>\n",
       "      <th>0</th>\n",
       "      <td>0</td>\n",
       "      <td>explanation why the edits make under my userna...</td>\n",
       "    </tr>\n",
       "    <tr>\n",
       "      <th>1</th>\n",
       "      <td>0</td>\n",
       "      <td>d'aww he match this background colour i 'm see...</td>\n",
       "    </tr>\n",
       "    <tr>\n",
       "      <th>2</th>\n",
       "      <td>0</td>\n",
       "      <td>hey man i 'm really not try to edit war it 's ...</td>\n",
       "    </tr>\n",
       "    <tr>\n",
       "      <th>3</th>\n",
       "      <td>0</td>\n",
       "      <td>more i ca n't make any real suggestion on impr...</td>\n",
       "    </tr>\n",
       "    <tr>\n",
       "      <th>4</th>\n",
       "      <td>0</td>\n",
       "      <td>you sir be my hero any chance you remember wha...</td>\n",
       "    </tr>\n",
       "  </tbody>\n",
       "</table>\n",
       "</div>"
      ],
      "text/plain": [
       "   toxic                                          lemm_text\n",
       "0      0  explanation why the edits make under my userna...\n",
       "1      0  d'aww he match this background colour i 'm see...\n",
       "2      0  hey man i 'm really not try to edit war it 's ...\n",
       "3      0  more i ca n't make any real suggestion on impr...\n",
       "4      0  you sir be my hero any chance you remember wha..."
      ]
     },
     "execution_count": 11,
     "metadata": {},
     "output_type": "execute_result"
    }
   ],
   "source": [
    "# код ревьюера, посмотрим что получилось\n",
    "\n",
    "comm.head()"
   ]
  },
  {
   "cell_type": "code",
   "execution_count": 12,
   "metadata": {},
   "outputs": [
    {
     "data": {
      "image/png": "[encoded data removed]",
      "text/plain": [
       "<Figure size 432x288 with 1 Axes>"
      ]
     },
     "metadata": {},
     "output_type": "display_data"
    }
   ],
   "source": [
    "comments=comm['toxic'].value_counts()\n",
    "labels=comments.index\n",
    "\n",
    "plt.pie(comments, labels=labels, autopct='%.1f%%')\n",
    "plt.title('Соотношение токсичных и обычных комментов')\n",
    "plt.show()"
   ]
  },
  {
   "cell_type": "markdown",
   "metadata": {},
   "source": [
    "### Conclusion"
   ]
  },
  {
   "cell_type": "markdown",
   "metadata": {},
   "source": [
    "1. We studied the source data: there are no gaps or duplicates.\n",
    "2. Removed the Unnamed column, which does not carry any semantic load.\n",
    "3. It was noted that there are almost 9 times fewer toxic comments than correct ones. Let's take this observation into account when training models."
   ]
  },
  {
   "cell_type": "markdown",
   "metadata": {},
   "source": [
    "## Model training"
   ]
  },
  {
   "cell_type": "code",
   "execution_count": 13,
   "metadata": {},
   "outputs": [],
   "source": [
    "target=comm['toxic']\n",
    "features=comm.drop(['toxic'], axis=1)\n",
    "\n",
    "features_train, features_valid, target_train, target_valid = train_test_split(features, target, test_size=0.2, \n",
    "                                                                              random_state=RANDOM_STATE)\n",
    "features_valid, features_test, target_valid, target_test = train_test_split(features_valid, target_valid, test_size=0.5,\n",
    "                                                                            random_state=RANDOM_STATE)\n",
    "\n",
    "bad_words=set(stopwords.words('english'))\n",
    "td_idf=TfidfVectorizer(stop_words=bad_words)\n",
    "\n",
    "features_train=td_idf.fit_transform(features_train['lemm_text'].values)\n",
    "features_test=td_idf.transform(features_test['lemm_text'].values)\n",
    "features_valid=td_idf.transform(features_valid['lemm_text'].values)"
   ]
  },
  {
   "cell_type": "code",
   "execution_count": 14,
   "metadata": {},
   "outputs": [
    {
     "name": "stdout",
     "output_type": "stream",
     "text": [
      "(127433, 132767)\n",
      "(15930, 132767)\n",
      "(15929, 132767)\n"
     ]
    }
   ],
   "source": [
    "print(features_train.shape)\n",
    "print(features_test.shape)\n",
    "print(features_valid.shape)"
   ]
  },
  {
   "cell_type": "markdown",
   "metadata": {},
   "source": [
    "### Logistic Regression"
   ]
  },
  {
   "cell_type": "code",
   "execution_count": 15,
   "metadata": {},
   "outputs": [
    {
     "name": "stdout",
     "output_type": "stream",
     "text": [
      "CPU times: user 39.9 s, sys: 53.2 s, total: 1min 33s\n",
      "Wall time: 1min 33s\n"
     ]
    },
    {
     "data": {
      "text/plain": [
       "0.7515612272603855"
      ]
     },
     "execution_count": 15,
     "metadata": {},
     "output_type": "execute_result"
    }
   ],
   "source": [
    "%%time\n",
    "model_lr=LogisticRegression(class_weight='balanced', C=2, max_iter=1000)\n",
    "model_lr.fit(features_train, target_train)\n",
    "predicted=model_lr.predict(features_valid)\n",
    "f1_lr=f1_score(predicted, target_valid)\n",
    "f1_lr"
   ]
  },
  {
   "cell_type": "markdown",
   "metadata": {},
   "source": [
    "### Decision Tree"
   ]
  },
  {
   "cell_type": "code",
   "execution_count": 16,
   "metadata": {},
   "outputs": [
    {
     "name": "stdout",
     "output_type": "stream",
     "text": [
      "CPU times: user 6.49 s, sys: 21.4 ms, total: 6.51 s\n",
      "Wall time: 6.52 s\n"
     ]
    },
    {
     "data": {
      "text/plain": [
       "0.5805668016194332"
      ]
     },
     "execution_count": 16,
     "metadata": {},
     "output_type": "execute_result"
    }
   ],
   "source": [
    "%%time\n",
    "model_dt=DecisionTreeClassifier(class_weight='balanced', max_depth=10)\n",
    "model_dt.fit(features_train, target_train)\n",
    "predicted=model_dt.predict(features_valid)\n",
    "f1_dt=f1_score(predicted, target_valid)\n",
    "f1_dt"
   ]
  },
  {
   "cell_type": "markdown",
   "metadata": {},
   "source": [
    "### Random Forest"
   ]
  },
  {
   "cell_type": "code",
   "execution_count": 17,
   "metadata": {},
   "outputs": [
    {
     "name": "stdout",
     "output_type": "stream",
     "text": [
      "CPU times: user 3.9 s, sys: 14.8 ms, total: 3.91 s\n",
      "Wall time: 3.92 s\n"
     ]
    },
    {
     "data": {
      "text/plain": [
       "0.35477336034439094"
      ]
     },
     "execution_count": 17,
     "metadata": {},
     "output_type": "execute_result"
    }
   ],
   "source": [
    "%%time\n",
    "model_rf=RandomForestClassifier(class_weight='balanced', max_depth=10)\n",
    "model_rf.fit(features_train, target_train)\n",
    "predicted=model_rf.predict(features_valid)\n",
    "f1_rf=f1_score(predicted, target_valid)\n",
    "f1_rf"
   ]
  },
  {
   "cell_type": "markdown",
   "metadata": {},
   "source": [
    "### Conclusion"
   ]
  },
  {
   "cell_type": "code",
   "execution_count": 18,
   "metadata": {},
   "outputs": [
    {
     "data": {
      "text/html": [
       "<div>\n",
       "<style scoped>\n",
       "    .dataframe tbody tr th:only-of-type {\n",
       "        vertical-align: middle;\n",
       "    }\n",
       "\n",
       "    .dataframe tbody tr th {\n",
       "        vertical-align: top;\n",
       "    }\n",
       "\n",
       "    .dataframe thead th {\n",
       "        text-align: right;\n",
       "    }\n",
       "</style>\n",
       "<table border=\"1\" class=\"dataframe\">\n",
       "  <thead>\n",
       "    <tr style=\"text-align: right;\">\n",
       "      <th></th>\n",
       "      <th>Показатель f1 score</th>\n",
       "    </tr>\n",
       "  </thead>\n",
       "  <tbody>\n",
       "    <tr>\n",
       "      <th>Logistic Regression</th>\n",
       "      <td>0.751561</td>\n",
       "    </tr>\n",
       "    <tr>\n",
       "      <th>Decision Tree</th>\n",
       "      <td>0.580567</td>\n",
       "    </tr>\n",
       "    <tr>\n",
       "      <th>Random Forest</th>\n",
       "      <td>0.354773</td>\n",
       "    </tr>\n",
       "  </tbody>\n",
       "</table>\n",
       "</div>"
      ],
      "text/plain": [
       "                     Показатель f1 score\n",
       "Logistic Regression             0.751561\n",
       "Decision Tree                   0.580567\n",
       "Random Forest                   0.354773"
      ]
     },
     "execution_count": 18,
     "metadata": {},
     "output_type": "execute_result"
    }
   ],
   "source": [
    "columns=['Logistic Regression', 'Decision Tree', 'Random Forest']\n",
    "info={'Показатель f1 score':[f1_lr, f1_dt, f1_rf]}\n",
    "final_result=pd.DataFrame(data=info, index=columns)\n",
    "final_result"
   ]
  },
  {
   "cell_type": "markdown",
   "metadata": {},
   "source": [
    "We trained 3 models: Logistic Regression, Decision Tree and Random Forest. The Decision Tree model performed best. To compensate for class imbalance, we used the parameter class_weight='balanced'"
   ]
  },
  {
   "cell_type": "markdown",
   "metadata": {},
   "source": [
    "## Validation"
   ]
  },
  {
   "cell_type": "code",
   "execution_count": 19,
   "metadata": {},
   "outputs": [
    {
     "name": "stdout",
     "output_type": "stream",
     "text": [
      "CPU times: user 7.27 ms, sys: 0 ns, total: 7.27 ms\n",
      "Wall time: 6.82 ms\n"
     ]
    },
    {
     "data": {
      "text/plain": [
       "0.7558107738583538"
      ]
     },
     "execution_count": 19,
     "metadata": {},
     "output_type": "execute_result"
    }
   ],
   "source": [
    "%%time\n",
    "predicted=model_lr.predict(features_test)\n",
    "f1=f1_score(predicted, target_test)\n",
    "f1"
   ]
  },
  {
   "cell_type": "markdown",
   "metadata": {},
   "source": [
    "## Conclusion"
   ]
  },
  {
   "cell_type": "markdown",
   "metadata": {},
   "source": [
    "1. Analyzed the original for omissions and repetitions.\n",
    "2. We lemmatized the text and also indicated stop words.\n",
    "3. Trained 3 models. The Logistic Regression model turned out to be the highest quality. She takes longer to train than the others, but is significantly superior to them in accuracy.\n",
    "4. We checked the resulting model on the validation sample and made sure that it worked correctly."
   ]
  }
 ],
 "metadata": {
  "ExecuteTimeLog": [
   {
    "duration": 393,
    "start_time": "2023-08-05T20:21:29.709Z"
   },
   {
    "duration": 4515,
    "start_time": "2023-08-05T20:21:31.273Z"
   },
   {
    "duration": 31,
    "start_time": "2023-08-05T20:21:49.279Z"
   },
   {
    "duration": 20,
    "start_time": "2023-08-05T20:21:58.856Z"
   },
   {
    "duration": 13,
    "start_time": "2023-08-05T20:22:10.270Z"
   },
   {
    "duration": 260,
    "start_time": "2023-08-05T20:24:53.873Z"
   },
   {
    "duration": 87,
    "start_time": "2023-08-05T20:25:15.881Z"
   },
   {
    "duration": 11,
    "start_time": "2023-08-05T20:26:05.143Z"
   },
   {
    "duration": 7,
    "start_time": "2023-08-05T20:26:15.411Z"
   },
   {
    "duration": 7,
    "start_time": "2023-08-05T20:27:22.517Z"
   },
   {
    "duration": 11,
    "start_time": "2023-08-05T20:27:57.788Z"
   },
   {
    "duration": 11,
    "start_time": "2023-08-05T20:27:58.931Z"
   },
   {
    "duration": 2949,
    "start_time": "2023-08-05T20:37:47.825Z"
   },
   {
    "duration": 319,
    "start_time": "2023-08-05T20:41:21.694Z"
   },
   {
    "duration": 87,
    "start_time": "2023-08-05T20:42:37.228Z"
   },
   {
    "duration": 7,
    "start_time": "2023-08-05T20:43:12.280Z"
   },
   {
    "duration": 10,
    "start_time": "2023-08-05T20:45:41.858Z"
   },
   {
    "duration": 20959,
    "start_time": "2023-08-05T20:46:35.956Z"
   },
   {
    "duration": 12,
    "start_time": "2023-08-05T20:47:07.955Z"
   },
   {
    "duration": 60,
    "start_time": "2023-08-05T20:50:20.175Z"
   },
   {
    "duration": 47,
    "start_time": "2023-08-05T20:50:29.203Z"
   },
   {
    "duration": 6,
    "start_time": "2023-08-05T20:50:50.410Z"
   },
   {
    "duration": 62,
    "start_time": "2023-08-05T20:50:54.824Z"
   },
   {
    "duration": 4,
    "start_time": "2023-08-05T20:51:15.719Z"
   },
   {
    "duration": 3,
    "start_time": "2023-08-05T20:51:57.721Z"
   },
   {
    "duration": 4,
    "start_time": "2023-08-05T20:51:59.385Z"
   },
   {
    "duration": 32,
    "start_time": "2023-08-05T20:52:16.074Z"
   },
   {
    "duration": 27,
    "start_time": "2023-08-05T20:52:21.603Z"
   },
   {
    "duration": 4,
    "start_time": "2023-08-05T20:52:52.269Z"
   },
   {
    "duration": 3,
    "start_time": "2023-08-05T20:53:07.650Z"
   },
   {
    "duration": 8,
    "start_time": "2023-08-05T20:54:05.067Z"
   },
   {
    "duration": 10,
    "start_time": "2023-08-05T20:54:39.904Z"
   },
   {
    "duration": 9,
    "start_time": "2023-08-05T20:54:44.140Z"
   },
   {
    "duration": 19364,
    "start_time": "2023-08-05T20:55:01.828Z"
   },
   {
    "duration": 56,
    "start_time": "2023-08-05T20:55:21.194Z"
   },
   {
    "duration": 4,
    "start_time": "2023-08-05T20:55:21.258Z"
   },
   {
    "duration": 32,
    "start_time": "2023-08-05T20:55:21.265Z"
   },
   {
    "duration": 27,
    "start_time": "2023-08-05T20:55:21.299Z"
   },
   {
    "duration": 17,
    "start_time": "2023-08-05T20:55:35.289Z"
   },
   {
    "duration": 21,
    "start_time": "2023-08-05T20:55:40.318Z"
   },
   {
    "duration": 9,
    "start_time": "2023-08-05T20:56:16.286Z"
   },
   {
    "duration": 3314,
    "start_time": "2023-08-05T20:56:16.297Z"
   },
   {
    "duration": 37,
    "start_time": "2023-08-05T20:56:19.612Z"
   },
   {
    "duration": 14,
    "start_time": "2023-08-05T20:56:19.652Z"
   },
   {
    "duration": 252,
    "start_time": "2023-08-05T20:56:19.667Z"
   },
   {
    "duration": 30,
    "start_time": "2023-08-05T20:56:19.921Z"
   },
   {
    "duration": 15,
    "start_time": "2023-08-05T20:56:19.960Z"
   },
   {
    "duration": 13,
    "start_time": "2023-08-05T20:56:19.977Z"
   },
   {
    "duration": 19167,
    "start_time": "2023-08-05T20:56:19.992Z"
   },
   {
    "duration": 49,
    "start_time": "2023-08-05T20:56:39.162Z"
   },
   {
    "duration": 5,
    "start_time": "2023-08-05T20:56:39.213Z"
   },
   {
    "duration": 12,
    "start_time": "2023-08-05T20:56:39.220Z"
   },
   {
    "duration": 27,
    "start_time": "2023-08-05T20:56:39.234Z"
   },
   {
    "duration": 13,
    "start_time": "2023-08-05T20:56:39.263Z"
   },
   {
    "duration": 4,
    "start_time": "2023-08-05T20:56:49.901Z"
   },
   {
    "duration": 14,
    "start_time": "2023-08-05T20:57:06.536Z"
   },
   {
    "duration": 5,
    "start_time": "2023-08-05T20:57:10.808Z"
   },
   {
    "duration": 10,
    "start_time": "2023-08-05T20:57:28.287Z"
   },
   {
    "duration": 44,
    "start_time": "2023-08-05T20:58:10.506Z"
   },
   {
    "duration": 5,
    "start_time": "2023-08-05T20:58:14.328Z"
   },
   {
    "duration": 117,
    "start_time": "2023-08-05T20:58:43.875Z"
   },
   {
    "duration": 66,
    "start_time": "2023-08-05T20:58:54.702Z"
   },
   {
    "duration": 9,
    "start_time": "2023-08-05T21:01:41.730Z"
   },
   {
    "duration": 5,
    "start_time": "2023-08-05T21:01:51.104Z"
   },
   {
    "duration": 9,
    "start_time": "2023-08-05T21:02:00.980Z"
   },
   {
    "duration": 906,
    "start_time": "2023-08-05T21:02:00.992Z"
   },
   {
    "duration": 40,
    "start_time": "2023-08-05T21:02:01.901Z"
   },
   {
    "duration": 73,
    "start_time": "2023-08-05T21:02:01.944Z"
   },
   {
    "duration": 294,
    "start_time": "2023-08-05T21:02:02.019Z"
   },
   {
    "duration": 32,
    "start_time": "2023-08-05T21:02:02.314Z"
   },
   {
    "duration": 46,
    "start_time": "2023-08-05T21:02:02.348Z"
   },
   {
    "duration": 35,
    "start_time": "2023-08-05T21:02:02.395Z"
   },
   {
    "duration": 19435,
    "start_time": "2023-08-05T21:02:02.432Z"
   },
   {
    "duration": 50,
    "start_time": "2023-08-05T21:02:21.869Z"
   },
   {
    "duration": 5,
    "start_time": "2023-08-05T21:02:21.921Z"
   },
   {
    "duration": 20,
    "start_time": "2023-08-05T21:02:21.928Z"
   },
   {
    "duration": 26,
    "start_time": "2023-08-05T21:02:21.950Z"
   },
   {
    "duration": 18,
    "start_time": "2023-08-05T21:02:21.978Z"
   },
   {
    "duration": 117,
    "start_time": "2023-08-05T21:02:21.997Z"
   },
   {
    "duration": 3,
    "start_time": "2023-08-05T21:03:24.562Z"
   },
   {
    "duration": 15,
    "start_time": "2023-08-05T21:04:11.596Z"
   },
   {
    "duration": 51,
    "start_time": "2023-08-05T21:05:01.831Z"
   },
   {
    "duration": 4,
    "start_time": "2023-08-05T21:05:04.569Z"
   },
   {
    "duration": 7,
    "start_time": "2023-08-05T21:05:07.630Z"
   },
   {
    "duration": 6080,
    "start_time": "2023-08-05T21:05:09.949Z"
   },
   {
    "duration": 6,
    "start_time": "2023-08-05T21:05:19.370Z"
   },
   {
    "duration": 4,
    "start_time": "2023-08-05T21:05:28.643Z"
   },
   {
    "duration": 11,
    "start_time": "2023-08-05T21:05:34.683Z"
   },
   {
    "duration": 46,
    "start_time": "2023-08-05T21:05:45.056Z"
   },
   {
    "duration": 4,
    "start_time": "2023-08-05T21:05:46.843Z"
   },
   {
    "duration": 9,
    "start_time": "2023-08-05T21:05:49.365Z"
   },
   {
    "duration": 21,
    "start_time": "2023-08-05T21:05:51.295Z"
   },
   {
    "duration": 10,
    "start_time": "2023-08-05T21:05:53.490Z"
   },
   {
    "duration": 4,
    "start_time": "2023-08-05T21:05:58.034Z"
   },
   {
    "duration": 8,
    "start_time": "2023-08-05T21:07:14.740Z"
   },
   {
    "duration": 1850,
    "start_time": "2023-08-05T21:07:59.671Z"
   },
   {
    "duration": 6,
    "start_time": "2023-08-05T21:08:19.066Z"
   },
   {
    "duration": 761,
    "start_time": "2023-08-05T21:08:19.074Z"
   },
   {
    "duration": 41,
    "start_time": "2023-08-05T21:08:19.837Z"
   },
   {
    "duration": 10,
    "start_time": "2023-08-05T21:08:19.879Z"
   },
   {
    "duration": 268,
    "start_time": "2023-08-05T21:08:19.892Z"
   },
   {
    "duration": 31,
    "start_time": "2023-08-05T21:08:20.162Z"
   },
   {
    "duration": 12,
    "start_time": "2023-08-05T21:08:20.195Z"
   },
   {
    "duration": 18,
    "start_time": "2023-08-05T21:08:20.208Z"
   },
   {
    "duration": 19489,
    "start_time": "2023-08-05T21:08:20.228Z"
   },
   {
    "duration": 57,
    "start_time": "2023-08-05T21:08:39.719Z"
   },
   {
    "duration": 4,
    "start_time": "2023-08-05T21:08:39.778Z"
   },
   {
    "duration": 8,
    "start_time": "2023-08-05T21:08:39.784Z"
   },
   {
    "duration": 15,
    "start_time": "2023-08-05T21:08:39.793Z"
   },
   {
    "duration": 8,
    "start_time": "2023-08-05T21:08:39.810Z"
   },
   {
    "duration": 39,
    "start_time": "2023-08-05T21:08:39.820Z"
   },
   {
    "duration": 136,
    "start_time": "2023-08-05T21:10:02.183Z"
   },
   {
    "duration": 46,
    "start_time": "2023-08-05T21:10:11.531Z"
   },
   {
    "duration": 4,
    "start_time": "2023-08-05T21:10:13.169Z"
   },
   {
    "duration": 8,
    "start_time": "2023-08-05T21:10:14.905Z"
   },
   {
    "duration": 108,
    "start_time": "2023-08-05T21:10:16.748Z"
   },
   {
    "duration": 6,
    "start_time": "2023-08-05T21:10:32.856Z"
   },
   {
    "duration": 111,
    "start_time": "2023-08-05T21:11:17.046Z"
   },
   {
    "duration": 10,
    "start_time": "2023-08-05T21:11:23.375Z"
   },
   {
    "duration": 9181,
    "start_time": "2023-08-05T21:11:34.376Z"
   },
   {
    "duration": 20,
    "start_time": "2023-08-05T21:12:07.911Z"
   },
   {
    "duration": 1698,
    "start_time": "2023-08-05T21:14:02.240Z"
   },
   {
    "duration": 49,
    "start_time": "2023-08-05T21:14:14.823Z"
   },
   {
    "duration": 26,
    "start_time": "2023-08-05T21:14:19.387Z"
   },
   {
    "duration": 25,
    "start_time": "2023-08-05T21:14:21.777Z"
   },
   {
    "duration": 11,
    "start_time": "2023-08-05T21:21:56.305Z"
   },
   {
    "duration": 2057,
    "start_time": "2023-08-05T21:31:07.100Z"
   },
   {
    "duration": 838,
    "start_time": "2023-08-05T21:31:09.159Z"
   },
   {
    "duration": 40,
    "start_time": "2023-08-05T21:31:09.999Z"
   },
   {
    "duration": 27,
    "start_time": "2023-08-05T21:31:10.041Z"
   },
   {
    "duration": 281,
    "start_time": "2023-08-05T21:31:10.071Z"
   },
   {
    "duration": 34,
    "start_time": "2023-08-05T21:31:10.353Z"
   },
   {
    "duration": 13,
    "start_time": "2023-08-05T21:31:10.388Z"
   },
   {
    "duration": 13,
    "start_time": "2023-08-05T21:31:10.402Z"
   },
   {
    "duration": 129,
    "start_time": "2023-08-05T21:31:10.417Z"
   },
   {
    "duration": 0,
    "start_time": "2023-08-05T21:31:10.547Z"
   },
   {
    "duration": 0,
    "start_time": "2023-08-05T21:31:10.549Z"
   },
   {
    "duration": 0,
    "start_time": "2023-08-05T21:31:10.550Z"
   },
   {
    "duration": 1571,
    "start_time": "2023-08-05T21:31:31.154Z"
   },
   {
    "duration": 831,
    "start_time": "2023-08-05T21:31:32.728Z"
   },
   {
    "duration": 30,
    "start_time": "2023-08-05T21:31:33.561Z"
   },
   {
    "duration": 9,
    "start_time": "2023-08-05T21:31:33.593Z"
   },
   {
    "duration": 254,
    "start_time": "2023-08-05T21:31:33.605Z"
   },
   {
    "duration": 28,
    "start_time": "2023-08-05T21:31:33.861Z"
   },
   {
    "duration": 18,
    "start_time": "2023-08-05T21:31:33.891Z"
   },
   {
    "duration": 12,
    "start_time": "2023-08-05T21:31:33.910Z"
   },
   {
    "duration": 1495,
    "start_time": "2023-08-05T21:31:33.923Z"
   },
   {
    "duration": 0,
    "start_time": "2023-08-05T21:31:35.420Z"
   },
   {
    "duration": 0,
    "start_time": "2023-08-05T21:31:35.421Z"
   },
   {
    "duration": 0,
    "start_time": "2023-08-05T21:31:35.422Z"
   },
   {
    "duration": 1632,
    "start_time": "2023-08-05T21:32:12.266Z"
   },
   {
    "duration": 911,
    "start_time": "2023-08-05T21:32:13.901Z"
   },
   {
    "duration": 30,
    "start_time": "2023-08-05T21:32:14.814Z"
   },
   {
    "duration": 22,
    "start_time": "2023-08-05T21:32:14.845Z"
   },
   {
    "duration": 254,
    "start_time": "2023-08-05T21:32:14.869Z"
   },
   {
    "duration": 39,
    "start_time": "2023-08-05T21:32:15.125Z"
   },
   {
    "duration": 16,
    "start_time": "2023-08-05T21:32:15.166Z"
   },
   {
    "duration": 10,
    "start_time": "2023-08-05T21:32:15.183Z"
   },
   {
    "duration": 1250,
    "start_time": "2023-08-05T21:32:15.194Z"
   },
   {
    "duration": 0,
    "start_time": "2023-08-05T21:32:16.445Z"
   },
   {
    "duration": 0,
    "start_time": "2023-08-05T21:32:16.446Z"
   },
   {
    "duration": 0,
    "start_time": "2023-08-05T21:32:16.447Z"
   },
   {
    "duration": 93369,
    "start_time": "2023-08-05T21:32:33.808Z"
   },
   {
    "duration": 11,
    "start_time": "2023-08-05T21:34:12.884Z"
   },
   {
    "duration": 74068,
    "start_time": "2023-08-05T21:34:17.975Z"
   },
   {
    "duration": 1801,
    "start_time": "2023-08-05T21:36:52.323Z"
   },
   {
    "duration": 4,
    "start_time": "2023-08-05T21:36:59.522Z"
   },
   {
    "duration": 10,
    "start_time": "2023-08-05T21:37:35.909Z"
   },
   {
    "duration": 7,
    "start_time": "2023-08-05T21:37:41.412Z"
   },
   {
    "duration": 5,
    "start_time": "2023-08-05T21:37:59.949Z"
   },
   {
    "duration": 5,
    "start_time": "2023-08-05T21:38:06.448Z"
   },
   {
    "duration": 10,
    "start_time": "2023-08-05T21:38:52.298Z"
   },
   {
    "duration": 3,
    "start_time": "2023-08-05T21:39:22.514Z"
   },
   {
    "duration": 5028,
    "start_time": "2023-08-05T21:39:51.820Z"
   },
   {
    "duration": 10,
    "start_time": "2023-08-05T21:40:39.641Z"
   },
   {
    "duration": 9,
    "start_time": "2023-08-05T21:40:49.683Z"
   },
   {
    "duration": 7,
    "start_time": "2023-08-05T21:40:51.540Z"
   },
   {
    "duration": 101171,
    "start_time": "2023-08-05T21:41:59.547Z"
   },
   {
    "duration": 7,
    "start_time": "2023-08-05T21:43:40.721Z"
   },
   {
    "duration": 148,
    "start_time": "2023-08-05T21:44:06.545Z"
   },
   {
    "duration": 7,
    "start_time": "2023-08-05T21:44:10.187Z"
   },
   {
    "duration": 5,
    "start_time": "2023-08-05T21:44:18.992Z"
   },
   {
    "duration": 2,
    "start_time": "2023-08-05T21:44:29.720Z"
   },
   {
    "duration": 6322,
    "start_time": "2023-08-05T21:44:32.521Z"
   },
   {
    "duration": 13,
    "start_time": "2023-08-05T21:44:51.230Z"
   },
   {
    "duration": 4,
    "start_time": "2023-08-05T21:45:09.626Z"
   },
   {
    "duration": 5,
    "start_time": "2023-08-05T21:45:32.194Z"
   },
   {
    "duration": 56346,
    "start_time": "2023-08-05T21:47:45.833Z"
   },
   {
    "duration": 166,
    "start_time": "2023-08-05T21:49:42.061Z"
   },
   {
    "duration": 149255,
    "start_time": "2023-08-05T21:49:46.185Z"
   },
   {
    "duration": 10,
    "start_time": "2023-08-05T21:57:51.406Z"
   },
   {
    "duration": 27,
    "start_time": "2023-08-05T21:58:30.052Z"
   },
   {
    "duration": 16,
    "start_time": "2023-08-05T21:58:34.809Z"
   },
   {
    "duration": 61,
    "start_time": "2023-08-05T21:58:53.293Z"
   },
   {
    "duration": 11,
    "start_time": "2023-08-05T21:58:55.388Z"
   },
   {
    "duration": 3,
    "start_time": "2023-08-05T21:58:57.505Z"
   },
   {
    "duration": 8356,
    "start_time": "2023-08-05T21:59:09.881Z"
   },
   {
    "duration": 44115,
    "start_time": "2023-08-05T21:59:28.385Z"
   },
   {
    "duration": 4,
    "start_time": "2023-08-05T22:01:26.445Z"
   },
   {
    "duration": 4,
    "start_time": "2023-08-05T22:02:01.188Z"
   },
   {
    "duration": 6,
    "start_time": "2023-08-05T22:02:05.279Z"
   },
   {
    "duration": 3,
    "start_time": "2023-08-05T22:02:06.949Z"
   },
   {
    "duration": 8,
    "start_time": "2023-08-05T22:02:08.793Z"
   },
   {
    "duration": 10,
    "start_time": "2023-08-05T22:02:21.287Z"
   },
   {
    "duration": 21,
    "start_time": "2023-08-05T22:02:24.226Z"
   },
   {
    "duration": 12,
    "start_time": "2023-08-05T22:02:34.888Z"
   },
   {
    "duration": 45160,
    "start_time": "2023-08-05T22:02:39.509Z"
   },
   {
    "duration": 8,
    "start_time": "2023-08-05T22:04:18.940Z"
   },
   {
    "duration": 15,
    "start_time": "2023-08-05T22:04:21.415Z"
   },
   {
    "duration": 7,
    "start_time": "2023-08-05T22:04:27.294Z"
   },
   {
    "duration": 811,
    "start_time": "2023-08-05T22:04:27.303Z"
   },
   {
    "duration": 45,
    "start_time": "2023-08-05T22:04:28.116Z"
   },
   {
    "duration": 19,
    "start_time": "2023-08-05T22:04:28.166Z"
   },
   {
    "duration": 276,
    "start_time": "2023-08-05T22:04:28.187Z"
   },
   {
    "duration": 40,
    "start_time": "2023-08-05T22:04:28.474Z"
   },
   {
    "duration": 14,
    "start_time": "2023-08-05T22:04:28.515Z"
   },
   {
    "duration": 11,
    "start_time": "2023-08-05T22:04:28.531Z"
   },
   {
    "duration": 103402,
    "start_time": "2023-08-05T22:04:28.544Z"
   },
   {
    "duration": 16,
    "start_time": "2023-08-05T22:06:11.948Z"
   },
   {
    "duration": 103,
    "start_time": "2023-08-05T22:06:11.965Z"
   },
   {
    "duration": 10,
    "start_time": "2023-08-05T22:06:12.072Z"
   },
   {
    "duration": 5,
    "start_time": "2023-08-05T22:06:12.089Z"
   },
   {
    "duration": 8422,
    "start_time": "2023-08-05T22:06:12.096Z"
   },
   {
    "duration": 3,
    "start_time": "2023-08-05T22:06:20.520Z"
   },
   {
    "duration": 7,
    "start_time": "2023-08-05T22:06:20.525Z"
   },
   {
    "duration": 16,
    "start_time": "2023-08-05T22:06:20.533Z"
   },
   {
    "duration": 6,
    "start_time": "2023-08-05T22:06:20.550Z"
   },
   {
    "duration": 13,
    "start_time": "2023-08-05T22:06:20.557Z"
   },
   {
    "duration": 58796,
    "start_time": "2023-08-05T22:06:20.577Z"
   },
   {
    "duration": 89,
    "start_time": "2023-08-06T01:32:47.112Z"
   },
   {
    "duration": 46,
    "start_time": "2023-08-06T01:32:58.119Z"
   },
   {
    "duration": 2227,
    "start_time": "2023-08-06T01:33:07.816Z"
   },
   {
    "duration": 2391,
    "start_time": "2023-08-06T01:33:10.045Z"
   },
   {
    "duration": 29,
    "start_time": "2023-08-06T01:33:12.437Z"
   },
   {
    "duration": 9,
    "start_time": "2023-08-06T01:33:12.467Z"
   },
   {
    "duration": 239,
    "start_time": "2023-08-06T01:33:12.478Z"
   },
   {
    "duration": 24,
    "start_time": "2023-08-06T01:33:12.718Z"
   },
   {
    "duration": 13,
    "start_time": "2023-08-06T01:33:12.744Z"
   },
   {
    "duration": 9,
    "start_time": "2023-08-06T01:33:12.759Z"
   },
   {
    "duration": 88372,
    "start_time": "2023-08-06T01:33:12.770Z"
   },
   {
    "duration": 6,
    "start_time": "2023-08-06T01:34:41.144Z"
   },
   {
    "duration": 90,
    "start_time": "2023-08-06T01:34:41.151Z"
   },
   {
    "duration": 431,
    "start_time": "2023-08-06T01:38:10.116Z"
   },
   {
    "duration": 0,
    "start_time": "2023-08-06T01:38:10.549Z"
   },
   {
    "duration": 0,
    "start_time": "2023-08-06T01:38:10.550Z"
   },
   {
    "duration": 0,
    "start_time": "2023-08-06T01:38:10.551Z"
   },
   {
    "duration": 0,
    "start_time": "2023-08-06T01:38:10.552Z"
   },
   {
    "duration": 0,
    "start_time": "2023-08-06T01:38:10.553Z"
   },
   {
    "duration": 0,
    "start_time": "2023-08-06T01:38:10.554Z"
   },
   {
    "duration": 0,
    "start_time": "2023-08-06T01:38:10.555Z"
   },
   {
    "duration": 0,
    "start_time": "2023-08-06T01:38:10.556Z"
   },
   {
    "duration": 0,
    "start_time": "2023-08-06T01:38:10.557Z"
   },
   {
    "duration": 1420,
    "start_time": "2023-08-06T01:38:26.857Z"
   },
   {
    "duration": 868,
    "start_time": "2023-08-06T01:38:28.279Z"
   },
   {
    "duration": 29,
    "start_time": "2023-08-06T01:38:29.149Z"
   },
   {
    "duration": 17,
    "start_time": "2023-08-06T01:38:29.179Z"
   },
   {
    "duration": 229,
    "start_time": "2023-08-06T01:38:29.199Z"
   },
   {
    "duration": 22,
    "start_time": "2023-08-06T01:38:29.429Z"
   },
   {
    "duration": 11,
    "start_time": "2023-08-06T01:38:29.452Z"
   },
   {
    "duration": 88993,
    "start_time": "2023-08-06T01:38:29.464Z"
   },
   {
    "duration": 78,
    "start_time": "2023-08-06T01:39:58.459Z"
   },
   {
    "duration": 0,
    "start_time": "2023-08-06T01:39:58.539Z"
   },
   {
    "duration": 0,
    "start_time": "2023-08-06T01:39:58.540Z"
   },
   {
    "duration": 0,
    "start_time": "2023-08-06T01:39:58.542Z"
   },
   {
    "duration": 0,
    "start_time": "2023-08-06T01:39:58.543Z"
   },
   {
    "duration": 0,
    "start_time": "2023-08-06T01:39:58.545Z"
   },
   {
    "duration": 0,
    "start_time": "2023-08-06T01:39:58.546Z"
   },
   {
    "duration": 0,
    "start_time": "2023-08-06T01:39:58.548Z"
   },
   {
    "duration": 0,
    "start_time": "2023-08-06T01:39:58.549Z"
   },
   {
    "duration": 0,
    "start_time": "2023-08-06T01:39:58.550Z"
   },
   {
    "duration": 0,
    "start_time": "2023-08-06T01:39:58.552Z"
   },
   {
    "duration": 0,
    "start_time": "2023-08-06T01:39:58.553Z"
   },
   {
    "duration": 11,
    "start_time": "2023-08-06T01:40:15.257Z"
   },
   {
    "duration": 130,
    "start_time": "2023-08-06T01:40:22.006Z"
   },
   {
    "duration": 72,
    "start_time": "2023-08-06T01:40:44.748Z"
   },
   {
    "duration": 3,
    "start_time": "2023-08-06T01:43:23.462Z"
   },
   {
    "duration": 9,
    "start_time": "2023-08-06T01:43:44.407Z"
   },
   {
    "duration": 1317,
    "start_time": "2023-08-06T01:43:50.381Z"
   },
   {
    "duration": 7,
    "start_time": "2023-08-06T01:44:25.888Z"
   },
   {
    "duration": 78,
    "start_time": "2023-08-06T01:44:40.734Z"
   },
   {
    "duration": 10,
    "start_time": "2023-08-06T01:45:06.182Z"
   },
   {
    "duration": 37,
    "start_time": "2023-08-06T01:45:17.608Z"
   },
   {
    "duration": 6,
    "start_time": "2023-08-06T01:45:21.091Z"
   },
   {
    "duration": 4,
    "start_time": "2023-08-06T01:45:29.246Z"
   },
   {
    "duration": 4,
    "start_time": "2023-08-06T01:45:56.075Z"
   },
   {
    "duration": 9,
    "start_time": "2023-08-06T01:47:04.055Z"
   },
   {
    "duration": 4,
    "start_time": "2023-08-06T01:47:32.729Z"
   },
   {
    "duration": 3,
    "start_time": "2023-08-06T01:48:06.302Z"
   },
   {
    "duration": 984,
    "start_time": "2023-08-06T01:49:15.611Z"
   },
   {
    "duration": 1887,
    "start_time": "2023-08-06T01:50:01.295Z"
   },
   {
    "duration": 1708,
    "start_time": "2023-08-06T01:50:28.481Z"
   },
   {
    "duration": 865,
    "start_time": "2023-08-06T01:50:30.191Z"
   },
   {
    "duration": 26,
    "start_time": "2023-08-06T01:50:31.058Z"
   },
   {
    "duration": 83,
    "start_time": "2023-08-06T01:50:31.085Z"
   },
   {
    "duration": 254,
    "start_time": "2023-08-06T01:50:31.170Z"
   },
   {
    "duration": 26,
    "start_time": "2023-08-06T01:50:31.425Z"
   },
   {
    "duration": 34,
    "start_time": "2023-08-06T01:50:31.452Z"
   },
   {
    "duration": 36,
    "start_time": "2023-08-06T01:50:31.488Z"
   },
   {
    "duration": 446,
    "start_time": "2023-08-06T01:50:31.525Z"
   },
   {
    "duration": 0,
    "start_time": "2023-08-06T01:50:31.972Z"
   },
   {
    "duration": 0,
    "start_time": "2023-08-06T01:50:31.973Z"
   },
   {
    "duration": 0,
    "start_time": "2023-08-06T01:50:31.974Z"
   },
   {
    "duration": 0,
    "start_time": "2023-08-06T01:50:31.975Z"
   },
   {
    "duration": 0,
    "start_time": "2023-08-06T01:50:31.976Z"
   },
   {
    "duration": 322,
    "start_time": "2023-08-06T01:52:12.476Z"
   },
   {
    "duration": 3,
    "start_time": "2023-08-06T01:52:23.937Z"
   },
   {
    "duration": 14,
    "start_time": "2023-08-06T01:52:26.494Z"
   },
   {
    "duration": 331,
    "start_time": "2023-08-06T01:54:10.757Z"
   },
   {
    "duration": 3,
    "start_time": "2023-08-06T01:54:22.014Z"
   },
   {
    "duration": 375,
    "start_time": "2023-08-06T01:54:24.195Z"
   },
   {
    "duration": 390,
    "start_time": "2023-08-06T01:55:13.858Z"
   },
   {
    "duration": 10,
    "start_time": "2023-08-06T01:55:23.754Z"
   },
   {
    "duration": 7252,
    "start_time": "2023-08-06T01:55:31.376Z"
   },
   {
    "duration": 6081,
    "start_time": "2023-08-06T01:57:20.708Z"
   },
   {
    "duration": 90,
    "start_time": "2023-08-06T01:57:31.986Z"
   },
   {
    "duration": 36,
    "start_time": "2023-08-06T01:57:38.504Z"
   },
   {
    "duration": 4,
    "start_time": "2023-08-06T01:57:40.151Z"
   },
   {
    "duration": 1010,
    "start_time": "2023-08-06T01:57:41.800Z"
   },
   {
    "duration": 1204,
    "start_time": "2023-08-06T01:58:14.244Z"
   },
   {
    "duration": 19,
    "start_time": "2023-08-06T01:58:56.444Z"
   },
   {
    "duration": 11794,
    "start_time": "2023-08-06T01:59:16.230Z"
   },
   {
    "duration": 4,
    "start_time": "2023-08-06T01:59:31.506Z"
   },
   {
    "duration": 11,
    "start_time": "2023-08-06T01:59:48.723Z"
   },
   {
    "duration": 106168,
    "start_time": "2023-08-06T02:00:00.941Z"
   },
   {
    "duration": 9,
    "start_time": "2023-08-06T02:05:48.027Z"
   },
   {
    "duration": 29,
    "start_time": "2023-08-06T02:06:02.641Z"
   },
   {
    "duration": 86,
    "start_time": "2023-08-06T02:14:38.621Z"
   },
   {
    "duration": 3551,
    "start_time": "2023-08-06T02:18:08.304Z"
   },
   {
    "duration": 191528,
    "start_time": "2023-08-06T02:18:31.314Z"
   },
   {
    "duration": 43,
    "start_time": "2023-08-06T02:22:10.659Z"
   },
   {
    "duration": 54,
    "start_time": "2023-08-06T02:22:20.854Z"
   },
   {
    "duration": 11,
    "start_time": "2023-08-06T02:22:46.195Z"
   },
   {
    "duration": 48,
    "start_time": "2023-08-06T02:22:52.255Z"
   },
   {
    "duration": 50,
    "start_time": "2023-08-06T02:23:00.233Z"
   },
   {
    "duration": 1725,
    "start_time": "2023-08-06T02:23:16.974Z"
   },
   {
    "duration": 42342,
    "start_time": "2023-08-06T02:23:29.154Z"
   },
   {
    "duration": 35006,
    "start_time": "2023-08-06T02:25:44.746Z"
   },
   {
    "duration": 44261,
    "start_time": "2023-08-06T02:26:35.139Z"
   },
   {
    "duration": 16325,
    "start_time": "2023-08-06T02:29:07.591Z"
   },
   {
    "duration": 6,
    "start_time": "2023-08-06T02:30:23.186Z"
   },
   {
    "duration": 16286,
    "start_time": "2023-08-06T02:31:12.529Z"
   },
   {
    "duration": 15258,
    "start_time": "2023-08-06T02:31:40.057Z"
   },
   {
    "duration": 42975,
    "start_time": "2023-08-06T02:33:04.027Z"
   },
   {
    "duration": 2,
    "start_time": "2023-08-06T02:37:03.587Z"
   },
   {
    "duration": 582500,
    "start_time": "2023-08-06T02:48:37.996Z"
   },
   {
    "duration": 1825,
    "start_time": "2023-08-06T02:59:05.436Z"
   },
   {
    "duration": 783,
    "start_time": "2023-08-06T02:59:07.263Z"
   },
   {
    "duration": 22,
    "start_time": "2023-08-06T02:59:08.047Z"
   },
   {
    "duration": 8,
    "start_time": "2023-08-06T02:59:08.071Z"
   },
   {
    "duration": 219,
    "start_time": "2023-08-06T02:59:08.094Z"
   },
   {
    "duration": 26,
    "start_time": "2023-08-06T02:59:08.314Z"
   },
   {
    "duration": 10,
    "start_time": "2023-08-06T02:59:08.342Z"
   },
   {
    "duration": 6562,
    "start_time": "2023-08-06T02:59:08.354Z"
   },
   {
    "duration": 97,
    "start_time": "2023-08-06T02:59:14.918Z"
   },
   {
    "duration": 10602,
    "start_time": "2023-08-06T02:59:15.017Z"
   },
   {
    "duration": 4,
    "start_time": "2023-08-06T02:59:25.621Z"
   },
   {
    "duration": 110379,
    "start_time": "2023-08-06T02:59:25.626Z"
   },
   {
    "duration": 52004,
    "start_time": "2023-08-06T03:01:16.007Z"
   },
   {
    "duration": 2190,
    "start_time": "2023-08-06T20:56:19.881Z"
   },
   {
    "duration": 2902,
    "start_time": "2023-08-06T20:56:22.073Z"
   },
   {
    "duration": 33,
    "start_time": "2023-08-06T20:56:24.977Z"
   },
   {
    "duration": 22,
    "start_time": "2023-08-06T20:56:25.018Z"
   },
   {
    "duration": 264,
    "start_time": "2023-08-06T20:56:25.042Z"
   },
   {
    "duration": 31,
    "start_time": "2023-08-06T20:56:25.307Z"
   },
   {
    "duration": 11,
    "start_time": "2023-08-06T20:56:25.341Z"
   },
   {
    "duration": 8981,
    "start_time": "2023-08-06T20:56:25.354Z"
   },
   {
    "duration": 98,
    "start_time": "2023-08-06T20:56:34.337Z"
   },
   {
    "duration": 9,
    "start_time": "2023-08-06T20:56:34.437Z"
   },
   {
    "duration": 255,
    "start_time": "2023-08-06T21:01:17.922Z"
   },
   {
    "duration": 12891,
    "start_time": "2023-08-06T21:01:26.369Z"
   },
   {
    "duration": 3,
    "start_time": "2023-08-06T21:01:39.261Z"
   },
   {
    "duration": 52914,
    "start_time": "2023-08-06T21:01:53.317Z"
   },
   {
    "duration": 91995,
    "start_time": "2023-08-06T21:04:34.936Z"
   },
   {
    "duration": 4,
    "start_time": "2023-08-06T21:06:39.337Z"
   },
   {
    "duration": 14,
    "start_time": "2023-08-06T21:07:47.353Z"
   },
   {
    "duration": 6231,
    "start_time": "2023-08-06T21:08:45.152Z"
   },
   {
    "duration": 3491,
    "start_time": "2023-08-06T21:09:58.220Z"
   },
   {
    "duration": 96943,
    "start_time": "2023-08-06T21:10:29.901Z"
   },
   {
    "duration": 5,
    "start_time": "2023-08-06T21:12:06.846Z"
   },
   {
    "duration": 6224,
    "start_time": "2023-08-06T21:12:06.852Z"
   },
   {
    "duration": 4193,
    "start_time": "2023-08-06T21:12:13.078Z"
   },
   {
    "duration": 25,
    "start_time": "2023-08-06T21:12:17.272Z"
   },
   {
    "duration": 101,
    "start_time": "2023-08-06T21:13:47.341Z"
   },
   {
    "duration": 66557,
    "start_time": "2023-08-06T21:14:25.968Z"
   },
   {
    "duration": 69078,
    "start_time": "2023-08-06T21:24:09.049Z"
   },
   {
    "duration": 22,
    "start_time": "2023-08-06T21:27:03.122Z"
   },
   {
    "duration": 4104,
    "start_time": "2023-08-06T21:31:09.356Z"
   },
   {
    "duration": 108,
    "start_time": "2023-08-06T23:24:09.218Z"
   },
   {
    "duration": 65,
    "start_time": "2023-08-06T23:27:05.650Z"
   },
   {
    "duration": 142,
    "start_time": "2023-08-06T23:27:15.821Z"
   },
   {
    "duration": 2250,
    "start_time": "2023-08-06T23:27:25.833Z"
   },
   {
    "duration": 3151,
    "start_time": "2023-08-06T23:27:28.085Z"
   },
   {
    "duration": 34,
    "start_time": "2023-08-06T23:27:31.237Z"
   },
   {
    "duration": 64,
    "start_time": "2023-08-06T23:27:31.273Z"
   },
   {
    "duration": 310,
    "start_time": "2023-08-06T23:27:31.339Z"
   },
   {
    "duration": 27,
    "start_time": "2023-08-06T23:27:31.651Z"
   },
   {
    "duration": 189,
    "start_time": "2023-08-06T23:27:31.680Z"
   },
   {
    "duration": 8958,
    "start_time": "2023-08-06T23:27:31.870Z"
   },
   {
    "duration": 103,
    "start_time": "2023-08-06T23:27:40.830Z"
   },
   {
    "duration": 13217,
    "start_time": "2023-08-06T23:27:40.935Z"
   },
   {
    "duration": 3,
    "start_time": "2023-08-06T23:27:54.154Z"
   },
   {
    "duration": 72590,
    "start_time": "2023-08-06T23:27:54.159Z"
   },
   {
    "duration": 6133,
    "start_time": "2023-08-06T23:29:06.805Z"
   },
   {
    "duration": 4124,
    "start_time": "2023-08-06T23:29:12.940Z"
   },
   {
    "duration": 13,
    "start_time": "2023-08-06T23:29:17.066Z"
   },
   {
    "duration": 64,
    "start_time": "2023-08-06T23:29:17.081Z"
   },
   {
    "duration": 12089,
    "start_time": "2023-08-06T23:35:41.382Z"
   },
   {
    "duration": 213,
    "start_time": "2023-08-06T23:36:00.679Z"
   },
   {
    "duration": 1938,
    "start_time": "2023-08-06T23:37:03.993Z"
   },
   {
    "duration": 858,
    "start_time": "2023-08-06T23:37:05.933Z"
   },
   {
    "duration": 31,
    "start_time": "2023-08-06T23:37:06.793Z"
   },
   {
    "duration": 10,
    "start_time": "2023-08-06T23:37:06.826Z"
   },
   {
    "duration": 239,
    "start_time": "2023-08-06T23:37:06.837Z"
   },
   {
    "duration": 31,
    "start_time": "2023-08-06T23:37:07.078Z"
   },
   {
    "duration": 26,
    "start_time": "2023-08-06T23:37:07.111Z"
   },
   {
    "duration": 8249,
    "start_time": "2023-08-06T23:37:07.138Z"
   },
   {
    "duration": 96,
    "start_time": "2023-08-06T23:37:15.389Z"
   },
   {
    "duration": 11885,
    "start_time": "2023-08-06T23:37:15.498Z"
   },
   {
    "duration": 17,
    "start_time": "2023-08-06T23:37:27.384Z"
   },
   {
    "duration": 261,
    "start_time": "2023-08-06T23:37:27.402Z"
   },
   {
    "duration": 4567,
    "start_time": "2023-08-06T23:37:27.665Z"
   },
   {
    "duration": 3410,
    "start_time": "2023-08-06T23:37:32.234Z"
   },
   {
    "duration": 11,
    "start_time": "2023-08-06T23:37:35.645Z"
   },
   {
    "duration": 0,
    "start_time": "2023-08-06T23:37:35.658Z"
   },
   {
    "duration": 1964,
    "start_time": "2023-08-06T23:37:42.506Z"
   },
   {
    "duration": 997,
    "start_time": "2023-08-06T23:37:44.472Z"
   },
   {
    "duration": 37,
    "start_time": "2023-08-06T23:37:45.470Z"
   },
   {
    "duration": 13,
    "start_time": "2023-08-06T23:37:45.514Z"
   },
   {
    "duration": 265,
    "start_time": "2023-08-06T23:37:45.529Z"
   },
   {
    "duration": 29,
    "start_time": "2023-08-06T23:37:45.799Z"
   },
   {
    "duration": 10,
    "start_time": "2023-08-06T23:37:45.830Z"
   },
   {
    "duration": 8108,
    "start_time": "2023-08-06T23:37:45.841Z"
   },
   {
    "duration": 88,
    "start_time": "2023-08-06T23:37:53.951Z"
   },
   {
    "duration": 12196,
    "start_time": "2023-08-06T23:37:54.040Z"
   },
   {
    "duration": 3,
    "start_time": "2023-08-06T23:38:06.238Z"
   },
   {
    "duration": 63483,
    "start_time": "2023-08-06T23:38:06.242Z"
   },
   {
    "duration": 4764,
    "start_time": "2023-08-06T23:39:09.729Z"
   },
   {
    "duration": 3384,
    "start_time": "2023-08-06T23:39:14.499Z"
   },
   {
    "duration": 26,
    "start_time": "2023-08-06T23:39:17.885Z"
   },
   {
    "duration": 19,
    "start_time": "2023-08-06T23:39:17.918Z"
   },
   {
    "duration": 4,
    "start_time": "2023-08-06T23:39:37.374Z"
   },
   {
    "duration": 54319,
    "start_time": "2023-08-06T23:39:37.380Z"
   },
   {
    "duration": 5026,
    "start_time": "2023-08-06T23:40:31.702Z"
   },
   {
    "duration": 3308,
    "start_time": "2023-08-06T23:40:36.731Z"
   },
   {
    "duration": 7,
    "start_time": "2023-08-06T23:40:40.041Z"
   },
   {
    "duration": 20,
    "start_time": "2023-08-06T23:40:40.050Z"
   },
   {
    "duration": 91,
    "start_time": "2023-08-06T23:41:05.375Z"
   },
   {
    "duration": 12362,
    "start_time": "2023-08-06T23:41:05.468Z"
   },
   {
    "duration": 3,
    "start_time": "2023-08-06T23:41:17.831Z"
   },
   {
    "duration": 89382,
    "start_time": "2023-08-06T23:41:17.836Z"
   },
   {
    "duration": 5737,
    "start_time": "2023-08-06T23:42:47.222Z"
   },
   {
    "duration": 3875,
    "start_time": "2023-08-06T23:42:52.960Z"
   },
   {
    "duration": 7,
    "start_time": "2023-08-06T23:42:56.837Z"
   },
   {
    "duration": 30,
    "start_time": "2023-08-06T23:42:56.846Z"
   },
   {
    "duration": 1975,
    "start_time": "2023-08-06T23:45:25.183Z"
   },
   {
    "duration": 902,
    "start_time": "2023-08-06T23:45:27.160Z"
   },
   {
    "duration": 39,
    "start_time": "2023-08-06T23:45:28.064Z"
   },
   {
    "duration": 49,
    "start_time": "2023-08-06T23:45:28.105Z"
   },
   {
    "duration": 280,
    "start_time": "2023-08-06T23:45:28.156Z"
   },
   {
    "duration": 27,
    "start_time": "2023-08-06T23:45:28.438Z"
   },
   {
    "duration": 16,
    "start_time": "2023-08-06T23:45:28.467Z"
   },
   {
    "duration": 8397,
    "start_time": "2023-08-06T23:45:28.496Z"
   },
   {
    "duration": 106,
    "start_time": "2023-08-06T23:45:36.895Z"
   },
   {
    "duration": 14051,
    "start_time": "2023-08-06T23:45:37.006Z"
   },
   {
    "duration": 4,
    "start_time": "2023-08-06T23:45:51.059Z"
   },
   {
    "duration": 18355,
    "start_time": "2023-08-06T23:45:51.065Z"
   },
   {
    "duration": 5620,
    "start_time": "2023-08-06T23:46:09.425Z"
   },
   {
    "duration": 3805,
    "start_time": "2023-08-06T23:46:15.048Z"
   },
   {
    "duration": 19,
    "start_time": "2023-08-06T23:46:18.855Z"
   },
   {
    "duration": 0,
    "start_time": "2023-08-06T23:46:18.876Z"
   },
   {
    "duration": 1986,
    "start_time": "2023-08-06T23:47:19.619Z"
   },
   {
    "duration": 947,
    "start_time": "2023-08-06T23:47:21.608Z"
   },
   {
    "duration": 29,
    "start_time": "2023-08-06T23:47:22.556Z"
   },
   {
    "duration": 55,
    "start_time": "2023-08-06T23:47:22.586Z"
   },
   {
    "duration": 303,
    "start_time": "2023-08-06T23:47:22.643Z"
   },
   {
    "duration": 28,
    "start_time": "2023-08-06T23:47:22.948Z"
   },
   {
    "duration": 57,
    "start_time": "2023-08-06T23:47:22.978Z"
   },
   {
    "duration": 8181,
    "start_time": "2023-08-06T23:47:23.037Z"
   },
   {
    "duration": 100,
    "start_time": "2023-08-06T23:47:31.222Z"
   },
   {
    "duration": 12636,
    "start_time": "2023-08-06T23:47:31.323Z"
   },
   {
    "duration": 4,
    "start_time": "2023-08-06T23:47:43.961Z"
   },
   {
    "duration": 88750,
    "start_time": "2023-08-06T23:47:43.967Z"
   },
   {
    "duration": 5647,
    "start_time": "2023-08-06T23:49:12.725Z"
   },
   {
    "duration": 3495,
    "start_time": "2023-08-06T23:49:18.374Z"
   },
   {
    "duration": 7,
    "start_time": "2023-08-06T23:49:21.871Z"
   },
   {
    "duration": 28,
    "start_time": "2023-08-06T23:49:21.880Z"
   },
   {
    "duration": 1979,
    "start_time": "2023-08-06T23:51:36.683Z"
   },
   {
    "duration": 2019,
    "start_time": "2023-08-06T23:51:38.664Z"
   },
   {
    "duration": 34,
    "start_time": "2023-08-06T23:51:40.684Z"
   },
   {
    "duration": 16,
    "start_time": "2023-08-06T23:51:40.721Z"
   },
   {
    "duration": 266,
    "start_time": "2023-08-06T23:51:40.738Z"
   },
   {
    "duration": 35,
    "start_time": "2023-08-06T23:51:41.007Z"
   },
   {
    "duration": 13,
    "start_time": "2023-08-06T23:51:41.043Z"
   },
   {
    "duration": 8279,
    "start_time": "2023-08-06T23:51:41.058Z"
   },
   {
    "duration": 91,
    "start_time": "2023-08-06T23:51:49.339Z"
   },
   {
    "duration": 12476,
    "start_time": "2023-08-06T23:51:49.432Z"
   },
   {
    "duration": 5,
    "start_time": "2023-08-06T23:52:01.910Z"
   },
   {
    "duration": 91492,
    "start_time": "2023-08-06T23:52:01.917Z"
   },
   {
    "duration": 5792,
    "start_time": "2023-08-06T23:53:33.414Z"
   },
   {
    "duration": 3824,
    "start_time": "2023-08-06T23:53:39.214Z"
   },
   {
    "duration": 9,
    "start_time": "2023-08-06T23:53:43.040Z"
   },
   {
    "duration": 28,
    "start_time": "2023-08-06T23:53:43.051Z"
   },
   {
    "duration": 7827,
    "start_time": "2023-08-07T14:55:07.248Z"
   },
   {
    "duration": 4517,
    "start_time": "2023-08-07T14:55:15.078Z"
   },
   {
    "duration": 35,
    "start_time": "2023-08-07T14:55:19.597Z"
   },
   {
    "duration": 45,
    "start_time": "2023-08-07T14:55:19.634Z"
   },
   {
    "duration": 263,
    "start_time": "2023-08-07T14:55:19.684Z"
   },
   {
    "duration": 44,
    "start_time": "2023-08-07T14:55:19.948Z"
   },
   {
    "duration": 13,
    "start_time": "2023-08-07T14:55:19.994Z"
   },
   {
    "duration": 7908,
    "start_time": "2023-08-07T14:55:20.009Z"
   },
   {
    "duration": 7,
    "start_time": "2023-08-07T14:55:27.920Z"
   },
   {
    "duration": 116,
    "start_time": "2023-08-07T14:55:27.929Z"
   },
   {
    "duration": 2278,
    "start_time": "2023-08-07T16:30:05.333Z"
   },
   {
    "duration": 2525,
    "start_time": "2023-08-07T16:30:07.613Z"
   },
   {
    "duration": 32,
    "start_time": "2023-08-07T16:30:10.140Z"
   },
   {
    "duration": 9,
    "start_time": "2023-08-07T16:30:10.175Z"
   },
   {
    "duration": 258,
    "start_time": "2023-08-07T16:30:10.186Z"
   },
   {
    "duration": 29,
    "start_time": "2023-08-07T16:30:10.446Z"
   },
   {
    "duration": 20,
    "start_time": "2023-08-07T16:30:10.476Z"
   },
   {
    "duration": 7682,
    "start_time": "2023-08-07T16:30:10.498Z"
   },
   {
    "duration": 7,
    "start_time": "2023-08-07T16:30:18.182Z"
   },
   {
    "duration": 101,
    "start_time": "2023-08-07T16:30:18.192Z"
   },
   {
    "duration": 7218,
    "start_time": "2023-08-07T16:30:18.294Z"
   },
   {
    "duration": 4,
    "start_time": "2023-08-07T16:30:25.514Z"
   },
   {
    "duration": 91840,
    "start_time": "2023-08-07T16:30:25.519Z"
   },
   {
    "duration": 6993,
    "start_time": "2023-08-07T16:31:57.363Z"
   },
   {
    "duration": 4172,
    "start_time": "2023-08-07T16:32:04.358Z"
   },
   {
    "duration": 10,
    "start_time": "2023-08-07T16:32:08.531Z"
   },
   {
    "duration": 41,
    "start_time": "2023-08-07T16:32:08.543Z"
   },
   {
    "duration": 7763,
    "start_time": "2023-08-07T16:33:13.790Z"
   },
   {
    "duration": 5,
    "start_time": "2023-08-07T16:33:21.556Z"
   },
   {
    "duration": 91396,
    "start_time": "2023-08-07T16:33:21.563Z"
   },
   {
    "duration": 7049,
    "start_time": "2023-08-07T16:34:52.961Z"
   },
   {
    "duration": 4167,
    "start_time": "2023-08-07T16:35:00.013Z"
   },
   {
    "duration": 8,
    "start_time": "2023-08-07T16:35:04.182Z"
   },
   {
    "duration": 41,
    "start_time": "2023-08-07T16:35:04.191Z"
   },
   {
    "duration": 5,
    "start_time": "2023-08-07T16:37:35.498Z"
   },
   {
    "duration": 2105,
    "start_time": "2023-08-07T16:37:48.353Z"
   },
   {
    "duration": 8,
    "start_time": "2023-08-07T16:38:11.026Z"
   },
   {
    "duration": 860,
    "start_time": "2023-08-07T16:38:11.036Z"
   },
   {
    "duration": 31,
    "start_time": "2023-08-07T16:38:11.898Z"
   },
   {
    "duration": 33,
    "start_time": "2023-08-07T16:38:11.932Z"
   },
   {
    "duration": 326,
    "start_time": "2023-08-07T16:38:11.967Z"
   },
   {
    "duration": 34,
    "start_time": "2023-08-07T16:38:12.295Z"
   },
   {
    "duration": 42,
    "start_time": "2023-08-07T16:38:12.332Z"
   },
   {
    "duration": 9677,
    "start_time": "2023-08-07T16:38:17.110Z"
   },
   {
    "duration": 10,
    "start_time": "2023-08-07T16:38:33.495Z"
   },
   {
    "duration": 9,
    "start_time": "2023-08-07T16:40:15.170Z"
   },
   {
    "duration": 840,
    "start_time": "2023-08-07T16:40:15.182Z"
   },
   {
    "duration": 32,
    "start_time": "2023-08-07T16:40:16.024Z"
   },
   {
    "duration": 37,
    "start_time": "2023-08-07T16:40:16.059Z"
   },
   {
    "duration": 255,
    "start_time": "2023-08-07T16:40:16.098Z"
   },
   {
    "duration": 26,
    "start_time": "2023-08-07T16:40:16.355Z"
   },
   {
    "duration": 17,
    "start_time": "2023-08-07T16:40:16.383Z"
   },
   {
    "duration": 6166,
    "start_time": "2023-08-07T16:40:45.370Z"
   },
   {
    "duration": 7,
    "start_time": "2023-08-07T16:40:57.225Z"
   },
   {
    "duration": 9,
    "start_time": "2023-08-07T16:42:44.404Z"
   },
   {
    "duration": 838,
    "start_time": "2023-08-07T16:42:44.416Z"
   },
   {
    "duration": 36,
    "start_time": "2023-08-07T16:42:45.257Z"
   },
   {
    "duration": 12,
    "start_time": "2023-08-07T16:42:45.295Z"
   },
   {
    "duration": 245,
    "start_time": "2023-08-07T16:42:45.308Z"
   },
   {
    "duration": 27,
    "start_time": "2023-08-07T16:42:45.556Z"
   },
   {
    "duration": 19,
    "start_time": "2023-08-07T16:42:45.585Z"
   },
   {
    "duration": 5,
    "start_time": "2023-08-07T16:42:49.146Z"
   },
   {
    "duration": 4332,
    "start_time": "2023-08-07T16:43:37.266Z"
   },
   {
    "duration": 8,
    "start_time": "2023-08-07T16:43:46.983Z"
   },
   {
    "duration": 7,
    "start_time": "2023-08-07T16:51:25.662Z"
   },
   {
    "duration": 781,
    "start_time": "2023-08-07T16:51:25.671Z"
   },
   {
    "duration": 26,
    "start_time": "2023-08-07T16:51:26.454Z"
   },
   {
    "duration": 9,
    "start_time": "2023-08-07T16:51:26.482Z"
   },
   {
    "duration": 270,
    "start_time": "2023-08-07T16:51:26.493Z"
   },
   {
    "duration": 26,
    "start_time": "2023-08-07T16:51:26.765Z"
   },
   {
    "duration": 16,
    "start_time": "2023-08-07T16:51:26.793Z"
   },
   {
    "duration": 17,
    "start_time": "2023-08-07T16:51:26.811Z"
   },
   {
    "duration": 52,
    "start_time": "2023-08-07T16:51:26.830Z"
   },
   {
    "duration": 4186,
    "start_time": "2023-08-07T16:51:26.884Z"
   },
   {
    "duration": 3667,
    "start_time": "2023-08-07T16:56:40.603Z"
   },
   {
    "duration": 6,
    "start_time": "2023-08-07T16:56:47.939Z"
   },
   {
    "duration": 1956,
    "start_time": "2023-08-07T16:56:49.635Z"
   },
   {
    "duration": 7,
    "start_time": "2023-08-07T16:57:02.979Z"
   },
   {
    "duration": 802,
    "start_time": "2023-08-07T16:57:02.987Z"
   },
   {
    "duration": 29,
    "start_time": "2023-08-07T16:57:03.791Z"
   },
   {
    "duration": 14,
    "start_time": "2023-08-07T16:57:03.822Z"
   },
   {
    "duration": 238,
    "start_time": "2023-08-07T16:57:03.839Z"
   },
   {
    "duration": 26,
    "start_time": "2023-08-07T16:57:04.079Z"
   },
   {
    "duration": 32,
    "start_time": "2023-08-07T16:57:04.107Z"
   },
   {
    "duration": 6,
    "start_time": "2023-08-07T16:57:04.141Z"
   },
   {
    "duration": 7,
    "start_time": "2023-08-07T16:57:04.149Z"
   },
   {
    "duration": 6,
    "start_time": "2023-08-07T16:57:04.158Z"
   },
   {
    "duration": 585,
    "start_time": "2023-08-07T16:57:23.070Z"
   },
   {
    "duration": 4,
    "start_time": "2023-08-07T16:57:41.237Z"
   },
   {
    "duration": 4,
    "start_time": "2023-08-07T16:57:43.246Z"
   },
   {
    "duration": 4,
    "start_time": "2023-08-07T16:57:53.545Z"
   },
   {
    "duration": 1146,
    "start_time": "2023-08-07T16:57:56.285Z"
   },
   {
    "duration": 3,
    "start_time": "2023-08-07T16:58:18.158Z"
   },
   {
    "duration": 3,
    "start_time": "2023-08-07T16:58:26.186Z"
   },
   {
    "duration": 77853,
    "start_time": "2023-08-07T16:58:28.269Z"
   },
   {
    "duration": 1826,
    "start_time": "2023-08-07T16:59:54.781Z"
   },
   {
    "duration": 1554,
    "start_time": "2023-08-07T16:59:56.608Z"
   },
   {
    "duration": 29,
    "start_time": "2023-08-07T16:59:58.164Z"
   },
   {
    "duration": 23,
    "start_time": "2023-08-07T16:59:58.195Z"
   },
   {
    "duration": 243,
    "start_time": "2023-08-07T16:59:58.220Z"
   },
   {
    "duration": 25,
    "start_time": "2023-08-07T16:59:58.465Z"
   },
   {
    "duration": 19,
    "start_time": "2023-08-07T16:59:58.492Z"
   },
   {
    "duration": 8,
    "start_time": "2023-08-07T16:59:58.512Z"
   },
   {
    "duration": 2701,
    "start_time": "2023-08-07T16:59:58.521Z"
   },
   {
    "duration": 6,
    "start_time": "2023-08-07T17:00:01.225Z"
   },
   {
    "duration": 90203,
    "start_time": "2023-08-07T17:00:01.232Z"
   },
   {
    "duration": 0,
    "start_time": "2023-08-07T17:01:31.437Z"
   },
   {
    "duration": 0,
    "start_time": "2023-08-07T17:01:31.438Z"
   },
   {
    "duration": 0,
    "start_time": "2023-08-07T17:01:31.439Z"
   },
   {
    "duration": 0,
    "start_time": "2023-08-07T17:01:31.440Z"
   },
   {
    "duration": 0,
    "start_time": "2023-08-07T17:01:31.441Z"
   },
   {
    "duration": 0,
    "start_time": "2023-08-07T17:01:31.442Z"
   },
   {
    "duration": 0,
    "start_time": "2023-08-07T17:01:31.444Z"
   },
   {
    "duration": 0,
    "start_time": "2023-08-07T17:01:31.445Z"
   },
   {
    "duration": 0,
    "start_time": "2023-08-07T17:01:31.446Z"
   },
   {
    "duration": 2081,
    "start_time": "2023-08-07T17:01:46.564Z"
   },
   {
    "duration": 1469,
    "start_time": "2023-08-07T17:01:48.654Z"
   },
   {
    "duration": 32,
    "start_time": "2023-08-07T17:01:50.125Z"
   },
   {
    "duration": 9,
    "start_time": "2023-08-07T17:01:50.159Z"
   },
   {
    "duration": 243,
    "start_time": "2023-08-07T17:01:50.169Z"
   },
   {
    "duration": 27,
    "start_time": "2023-08-07T17:01:50.413Z"
   },
   {
    "duration": 20,
    "start_time": "2023-08-07T17:01:50.441Z"
   },
   {
    "duration": 11,
    "start_time": "2023-08-07T17:01:50.462Z"
   },
   {
    "duration": 2705,
    "start_time": "2023-08-07T17:01:50.474Z"
   },
   {
    "duration": 6,
    "start_time": "2023-08-07T17:01:53.181Z"
   },
   {
    "duration": 340,
    "start_time": "2023-08-07T17:01:53.189Z"
   },
   {
    "duration": 1,
    "start_time": "2023-08-07T17:01:53.531Z"
   },
   {
    "duration": 0,
    "start_time": "2023-08-07T17:01:53.533Z"
   },
   {
    "duration": 0,
    "start_time": "2023-08-07T17:01:53.535Z"
   },
   {
    "duration": 0,
    "start_time": "2023-08-07T17:01:53.536Z"
   },
   {
    "duration": 0,
    "start_time": "2023-08-07T17:01:53.537Z"
   },
   {
    "duration": 0,
    "start_time": "2023-08-07T17:01:53.539Z"
   },
   {
    "duration": 0,
    "start_time": "2023-08-07T17:01:53.553Z"
   },
   {
    "duration": 0,
    "start_time": "2023-08-07T17:01:53.554Z"
   },
   {
    "duration": 0,
    "start_time": "2023-08-07T17:01:53.556Z"
   },
   {
    "duration": 4,
    "start_time": "2023-08-07T17:02:06.766Z"
   },
   {
    "duration": 4,
    "start_time": "2023-08-07T17:02:12.447Z"
   },
   {
    "duration": 3,
    "start_time": "2023-08-07T17:02:14.184Z"
   },
   {
    "duration": 6383,
    "start_time": "2023-08-07T17:02:15.801Z"
   },
   {
    "duration": 28259,
    "start_time": "2023-08-07T17:03:02.625Z"
   },
   {
    "duration": 4,
    "start_time": "2023-08-07T17:05:05.567Z"
   },
   {
    "duration": 4,
    "start_time": "2023-08-07T17:05:12.271Z"
   },
   {
    "duration": 441,
    "start_time": "2023-08-07T17:05:18.918Z"
   },
   {
    "duration": 5,
    "start_time": "2023-08-07T17:06:03.691Z"
   },
   {
    "duration": 3,
    "start_time": "2023-08-07T17:06:06.015Z"
   },
   {
    "duration": 395,
    "start_time": "2023-08-07T17:06:07.976Z"
   },
   {
    "duration": 25053,
    "start_time": "2023-08-07T17:08:40.752Z"
   },
   {
    "duration": 5,
    "start_time": "2023-08-07T17:11:30.172Z"
   },
   {
    "duration": 4,
    "start_time": "2023-08-07T17:11:39.406Z"
   },
   {
    "duration": 520,
    "start_time": "2023-08-07T17:11:42.349Z"
   },
   {
    "duration": 5,
    "start_time": "2023-08-07T17:12:08.513Z"
   },
   {
    "duration": 4,
    "start_time": "2023-08-07T17:12:11.256Z"
   },
   {
    "duration": 2317,
    "start_time": "2023-08-07T17:12:12.842Z"
   },
   {
    "duration": 525,
    "start_time": "2023-08-07T17:12:40.940Z"
   },
   {
    "duration": 4,
    "start_time": "2023-08-07T17:12:46.358Z"
   },
   {
    "duration": 3,
    "start_time": "2023-08-07T17:12:49.372Z"
   },
   {
    "duration": 30142,
    "start_time": "2023-08-07T17:12:50.850Z"
   },
   {
    "duration": 10,
    "start_time": "2023-08-07T17:13:24.931Z"
   },
   {
    "duration": 29722,
    "start_time": "2023-08-07T17:14:10.756Z"
   },
   {
    "duration": 7,
    "start_time": "2023-08-07T17:14:40.480Z"
   },
   {
    "duration": 13,
    "start_time": "2023-08-07T17:16:35.292Z"
   },
   {
    "duration": 772,
    "start_time": "2023-08-07T17:16:35.308Z"
   },
   {
    "duration": 29,
    "start_time": "2023-08-07T17:16:36.082Z"
   },
   {
    "duration": 7,
    "start_time": "2023-08-07T17:16:36.114Z"
   },
   {
    "duration": 250,
    "start_time": "2023-08-07T17:16:36.123Z"
   },
   {
    "duration": 26,
    "start_time": "2023-08-07T17:16:36.376Z"
   },
   {
    "duration": 11,
    "start_time": "2023-08-07T17:16:36.403Z"
   },
   {
    "duration": 2182,
    "start_time": "2023-08-07T17:17:24.028Z"
   },
   {
    "duration": 1195,
    "start_time": "2023-08-07T17:17:26.212Z"
   },
   {
    "duration": 30,
    "start_time": "2023-08-07T17:17:27.409Z"
   },
   {
    "duration": 19,
    "start_time": "2023-08-07T17:17:27.441Z"
   },
   {
    "duration": 265,
    "start_time": "2023-08-07T17:17:27.462Z"
   },
   {
    "duration": 30,
    "start_time": "2023-08-07T17:17:27.728Z"
   },
   {
    "duration": 14,
    "start_time": "2023-08-07T17:17:27.759Z"
   },
   {
    "duration": 10,
    "start_time": "2023-08-07T17:17:27.775Z"
   },
   {
    "duration": 10,
    "start_time": "2023-08-07T17:17:27.787Z"
   },
   {
    "duration": 2526,
    "start_time": "2023-08-07T17:17:27.799Z"
   },
   {
    "duration": 6,
    "start_time": "2023-08-07T17:17:30.326Z"
   },
   {
    "duration": 44,
    "start_time": "2023-08-07T17:17:30.333Z"
   },
   {
    "duration": 869,
    "start_time": "2023-08-07T17:17:30.378Z"
   },
   {
    "duration": 0,
    "start_time": "2023-08-07T17:17:31.248Z"
   },
   {
    "duration": 0,
    "start_time": "2023-08-07T17:17:31.249Z"
   },
   {
    "duration": 0,
    "start_time": "2023-08-07T17:17:31.251Z"
   },
   {
    "duration": 0,
    "start_time": "2023-08-07T17:17:31.252Z"
   },
   {
    "duration": 0,
    "start_time": "2023-08-07T17:17:31.253Z"
   },
   {
    "duration": 0,
    "start_time": "2023-08-07T17:17:31.254Z"
   },
   {
    "duration": 0,
    "start_time": "2023-08-07T17:17:31.256Z"
   },
   {
    "duration": 0,
    "start_time": "2023-08-07T17:17:31.257Z"
   },
   {
    "duration": 0,
    "start_time": "2023-08-07T17:17:31.258Z"
   },
   {
    "duration": 4,
    "start_time": "2023-08-07T17:23:54.823Z"
   },
   {
    "duration": 4,
    "start_time": "2023-08-07T17:23:59.365Z"
   },
   {
    "duration": 3,
    "start_time": "2023-08-07T17:24:37.897Z"
   },
   {
    "duration": 32791,
    "start_time": "2023-08-07T17:24:39.526Z"
   },
   {
    "duration": 11,
    "start_time": "2023-08-07T17:25:16.496Z"
   },
   {
    "duration": 1384,
    "start_time": "2023-08-07T17:25:36.923Z"
   },
   {
    "duration": 4,
    "start_time": "2023-08-07T17:25:54.618Z"
   },
   {
    "duration": 5,
    "start_time": "2023-08-07T17:26:02.636Z"
   },
   {
    "duration": 5,
    "start_time": "2023-08-07T17:27:22.962Z"
   },
   {
    "duration": 3,
    "start_time": "2023-08-07T17:27:27.104Z"
   },
   {
    "duration": 1615,
    "start_time": "2023-08-07T17:27:29.011Z"
   },
   {
    "duration": 10,
    "start_time": "2023-08-07T17:27:36.793Z"
   },
   {
    "duration": 802,
    "start_time": "2023-08-07T17:27:36.806Z"
   },
   {
    "duration": 26,
    "start_time": "2023-08-07T17:27:37.610Z"
   },
   {
    "duration": 19,
    "start_time": "2023-08-07T17:27:37.637Z"
   },
   {
    "duration": 246,
    "start_time": "2023-08-07T17:27:37.659Z"
   },
   {
    "duration": 24,
    "start_time": "2023-08-07T17:27:37.907Z"
   },
   {
    "duration": 22,
    "start_time": "2023-08-07T17:27:37.932Z"
   },
   {
    "duration": 7,
    "start_time": "2023-08-07T17:27:37.956Z"
   },
   {
    "duration": 7,
    "start_time": "2023-08-07T17:27:37.965Z"
   },
   {
    "duration": 10,
    "start_time": "2023-08-07T17:27:37.974Z"
   },
   {
    "duration": 15,
    "start_time": "2023-08-07T17:27:37.986Z"
   },
   {
    "duration": 388,
    "start_time": "2023-08-07T17:27:41.917Z"
   },
   {
    "duration": 5,
    "start_time": "2023-08-07T17:27:51.911Z"
   },
   {
    "duration": 3,
    "start_time": "2023-08-07T17:27:54.650Z"
   },
   {
    "duration": 3,
    "start_time": "2023-08-07T17:27:56.452Z"
   },
   {
    "duration": 29596,
    "start_time": "2023-08-07T17:27:58.029Z"
   },
   {
    "duration": 5,
    "start_time": "2023-08-07T17:28:44.119Z"
   },
   {
    "duration": 6,
    "start_time": "2023-08-07T17:28:50.905Z"
   },
   {
    "duration": 8,
    "start_time": "2023-08-07T17:28:57.664Z"
   },
   {
    "duration": 5477,
    "start_time": "2023-08-07T17:54:15.090Z"
   },
   {
    "duration": 873,
    "start_time": "2023-08-07T17:54:20.570Z"
   },
   {
    "duration": 42,
    "start_time": "2023-08-07T17:54:21.444Z"
   },
   {
    "duration": 9,
    "start_time": "2023-08-07T17:54:21.488Z"
   },
   {
    "duration": 258,
    "start_time": "2023-08-07T17:54:21.499Z"
   },
   {
    "duration": 27,
    "start_time": "2023-08-07T17:54:21.759Z"
   },
   {
    "duration": 18,
    "start_time": "2023-08-07T17:54:21.787Z"
   },
   {
    "duration": 12,
    "start_time": "2023-08-07T17:54:21.806Z"
   },
   {
    "duration": 10,
    "start_time": "2023-08-07T17:54:21.820Z"
   },
   {
    "duration": 9,
    "start_time": "2023-08-07T17:54:21.833Z"
   },
   {
    "duration": 157923,
    "start_time": "2023-08-07T17:54:21.843Z"
   },
   {
    "duration": 0,
    "start_time": "2023-08-07T17:56:59.768Z"
   },
   {
    "duration": 0,
    "start_time": "2023-08-07T17:56:59.769Z"
   },
   {
    "duration": 1,
    "start_time": "2023-08-07T17:56:59.770Z"
   },
   {
    "duration": 0,
    "start_time": "2023-08-07T17:56:59.772Z"
   },
   {
    "duration": 0,
    "start_time": "2023-08-07T17:56:59.773Z"
   },
   {
    "duration": 0,
    "start_time": "2023-08-07T17:56:59.774Z"
   },
   {
    "duration": 0,
    "start_time": "2023-08-07T17:56:59.775Z"
   },
   {
    "duration": 0,
    "start_time": "2023-08-07T17:56:59.776Z"
   },
   {
    "duration": 0,
    "start_time": "2023-08-07T17:56:59.777Z"
   },
   {
    "duration": 4510,
    "start_time": "2023-08-07T17:57:18.234Z"
   },
   {
    "duration": 831,
    "start_time": "2023-08-07T17:57:22.746Z"
   },
   {
    "duration": 32,
    "start_time": "2023-08-07T17:57:23.579Z"
   },
   {
    "duration": 23,
    "start_time": "2023-08-07T17:57:23.613Z"
   },
   {
    "duration": 252,
    "start_time": "2023-08-07T17:57:23.638Z"
   },
   {
    "duration": 29,
    "start_time": "2023-08-07T17:57:23.891Z"
   },
   {
    "duration": 20,
    "start_time": "2023-08-07T17:57:23.921Z"
   },
   {
    "duration": 31,
    "start_time": "2023-08-07T17:57:23.942Z"
   },
   {
    "duration": 13,
    "start_time": "2023-08-07T17:57:23.975Z"
   },
   {
    "duration": 18,
    "start_time": "2023-08-07T17:57:23.990Z"
   },
   {
    "duration": 32792,
    "start_time": "2023-08-07T17:57:24.009Z"
   },
   {
    "duration": 0,
    "start_time": "2023-08-07T17:57:56.803Z"
   },
   {
    "duration": 0,
    "start_time": "2023-08-07T17:57:56.804Z"
   },
   {
    "duration": 0,
    "start_time": "2023-08-07T17:57:56.805Z"
   },
   {
    "duration": 0,
    "start_time": "2023-08-07T17:57:56.806Z"
   },
   {
    "duration": 0,
    "start_time": "2023-08-07T17:57:56.807Z"
   },
   {
    "duration": 0,
    "start_time": "2023-08-07T17:57:56.809Z"
   },
   {
    "duration": 0,
    "start_time": "2023-08-07T17:57:56.810Z"
   },
   {
    "duration": 0,
    "start_time": "2023-08-07T17:57:56.811Z"
   },
   {
    "duration": 0,
    "start_time": "2023-08-07T17:57:56.813Z"
   },
   {
    "duration": 11,
    "start_time": "2023-08-07T17:58:05.358Z"
   },
   {
    "duration": 810,
    "start_time": "2023-08-07T17:58:05.371Z"
   },
   {
    "duration": 28,
    "start_time": "2023-08-07T17:58:06.183Z"
   },
   {
    "duration": 7,
    "start_time": "2023-08-07T17:58:06.213Z"
   },
   {
    "duration": 272,
    "start_time": "2023-08-07T17:58:06.223Z"
   },
   {
    "duration": 81,
    "start_time": "2023-08-07T17:58:06.497Z"
   },
   {
    "duration": 16,
    "start_time": "2023-08-07T17:58:06.579Z"
   },
   {
    "duration": 57,
    "start_time": "2023-08-07T17:58:06.597Z"
   },
   {
    "duration": 14,
    "start_time": "2023-08-07T17:58:06.656Z"
   },
   {
    "duration": 11,
    "start_time": "2023-08-07T17:58:06.672Z"
   },
   {
    "duration": 32039,
    "start_time": "2023-08-07T17:58:06.685Z"
   },
   {
    "duration": 6,
    "start_time": "2023-08-07T17:58:38.726Z"
   },
   {
    "duration": 98,
    "start_time": "2023-08-07T17:58:38.734Z"
   },
   {
    "duration": 7251,
    "start_time": "2023-08-07T17:58:38.835Z"
   },
   {
    "duration": 4,
    "start_time": "2023-08-07T17:58:46.088Z"
   },
   {
    "duration": 16285,
    "start_time": "2023-08-07T17:58:46.093Z"
   },
   {
    "duration": 6539,
    "start_time": "2023-08-07T17:59:02.380Z"
   },
   {
    "duration": 4450,
    "start_time": "2023-08-07T17:59:14.500Z"
   },
   {
    "duration": 888,
    "start_time": "2023-08-07T17:59:18.952Z"
   },
   {
    "duration": 37,
    "start_time": "2023-08-07T17:59:19.841Z"
   },
   {
    "duration": 9,
    "start_time": "2023-08-07T17:59:19.880Z"
   },
   {
    "duration": 264,
    "start_time": "2023-08-07T17:59:19.893Z"
   },
   {
    "duration": 28,
    "start_time": "2023-08-07T17:59:20.159Z"
   },
   {
    "duration": 23,
    "start_time": "2023-08-07T17:59:20.189Z"
   },
   {
    "duration": 12,
    "start_time": "2023-08-07T17:59:20.214Z"
   },
   {
    "duration": 9,
    "start_time": "2023-08-07T17:59:20.228Z"
   },
   {
    "duration": 16,
    "start_time": "2023-08-07T17:59:20.239Z"
   },
   {
    "duration": 21053,
    "start_time": "2023-08-07T17:59:20.257Z"
   },
   {
    "duration": 0,
    "start_time": "2023-08-07T17:59:41.313Z"
   },
   {
    "duration": 0,
    "start_time": "2023-08-07T17:59:41.316Z"
   },
   {
    "duration": 0,
    "start_time": "2023-08-07T17:59:41.317Z"
   },
   {
    "duration": 0,
    "start_time": "2023-08-07T17:59:41.318Z"
   },
   {
    "duration": 0,
    "start_time": "2023-08-07T17:59:41.319Z"
   },
   {
    "duration": 0,
    "start_time": "2023-08-07T17:59:41.321Z"
   },
   {
    "duration": 0,
    "start_time": "2023-08-07T17:59:41.322Z"
   },
   {
    "duration": 0,
    "start_time": "2023-08-07T17:59:41.324Z"
   },
   {
    "duration": 0,
    "start_time": "2023-08-07T17:59:41.325Z"
   },
   {
    "duration": 78,
    "start_time": "2023-08-07T18:00:01.381Z"
   },
   {
    "duration": 5,
    "start_time": "2023-08-07T18:03:34.668Z"
   },
   {
    "duration": 6,
    "start_time": "2023-08-07T18:03:41.037Z"
   },
   {
    "duration": 5,
    "start_time": "2023-08-07T18:03:42.464Z"
   },
   {
    "duration": 30856,
    "start_time": "2023-08-07T18:03:44.903Z"
   },
   {
    "duration": 7,
    "start_time": "2023-08-07T18:04:26.091Z"
   },
   {
    "duration": 21,
    "start_time": "2023-08-07T18:05:29.181Z"
   },
   {
    "duration": 6,
    "start_time": "2023-08-07T18:06:16.496Z"
   },
   {
    "duration": 6,
    "start_time": "2023-08-07T18:06:23.538Z"
   },
   {
    "duration": 7,
    "start_time": "2023-08-07T18:06:47.819Z"
   },
   {
    "duration": 5,
    "start_time": "2023-08-07T18:07:43.086Z"
   },
   {
    "duration": 5,
    "start_time": "2023-08-07T18:08:12.227Z"
   },
   {
    "duration": 24,
    "start_time": "2023-08-07T18:09:11.905Z"
   },
   {
    "duration": 21,
    "start_time": "2023-08-07T18:09:26.020Z"
   },
   {
    "duration": 1426,
    "start_time": "2023-08-07T18:09:48.773Z"
   },
   {
    "duration": 24,
    "start_time": "2023-08-07T18:11:12.502Z"
   },
   {
    "duration": 3,
    "start_time": "2023-08-07T18:12:37.451Z"
   },
   {
    "duration": 7,
    "start_time": "2023-08-07T18:12:45.639Z"
   },
   {
    "duration": 6,
    "start_time": "2023-08-07T18:13:00.687Z"
   },
   {
    "duration": 8,
    "start_time": "2023-08-07T18:13:14.486Z"
   },
   {
    "duration": 4,
    "start_time": "2023-08-07T18:13:25.012Z"
   },
   {
    "duration": 1311,
    "start_time": "2023-08-07T18:13:26.347Z"
   },
   {
    "duration": 8,
    "start_time": "2023-08-07T18:13:38.873Z"
   },
   {
    "duration": 7,
    "start_time": "2023-08-07T18:14:03.641Z"
   },
   {
    "duration": 7,
    "start_time": "2023-08-07T18:14:19.490Z"
   },
   {
    "duration": 6,
    "start_time": "2023-08-07T18:14:26.523Z"
   },
   {
    "duration": 5,
    "start_time": "2023-08-07T18:14:57.812Z"
   },
   {
    "duration": 3314,
    "start_time": "2023-08-07T18:15:03.628Z"
   },
   {
    "duration": 4726,
    "start_time": "2023-08-07T18:15:15.115Z"
   },
   {
    "duration": 822,
    "start_time": "2023-08-07T18:15:19.843Z"
   },
   {
    "duration": 32,
    "start_time": "2023-08-07T18:15:20.666Z"
   },
   {
    "duration": 10,
    "start_time": "2023-08-07T18:15:20.700Z"
   },
   {
    "duration": 255,
    "start_time": "2023-08-07T18:15:20.712Z"
   },
   {
    "duration": 28,
    "start_time": "2023-08-07T18:15:20.968Z"
   },
   {
    "duration": 30,
    "start_time": "2023-08-07T18:15:20.998Z"
   },
   {
    "duration": 13,
    "start_time": "2023-08-07T18:15:21.030Z"
   },
   {
    "duration": 59,
    "start_time": "2023-08-07T18:15:21.045Z"
   },
   {
    "duration": 753,
    "start_time": "2023-08-07T18:15:21.106Z"
   },
   {
    "duration": 0,
    "start_time": "2023-08-07T18:15:21.861Z"
   },
   {
    "duration": 0,
    "start_time": "2023-08-07T18:15:21.863Z"
   },
   {
    "duration": 0,
    "start_time": "2023-08-07T18:15:21.865Z"
   },
   {
    "duration": 0,
    "start_time": "2023-08-07T18:15:21.866Z"
   },
   {
    "duration": 0,
    "start_time": "2023-08-07T18:15:21.867Z"
   },
   {
    "duration": 0,
    "start_time": "2023-08-07T18:15:21.868Z"
   },
   {
    "duration": 0,
    "start_time": "2023-08-07T18:15:21.869Z"
   },
   {
    "duration": 0,
    "start_time": "2023-08-07T18:15:21.871Z"
   },
   {
    "duration": 0,
    "start_time": "2023-08-07T18:15:21.872Z"
   },
   {
    "duration": 0,
    "start_time": "2023-08-07T18:15:21.873Z"
   },
   {
    "duration": 8,
    "start_time": "2023-08-07T18:16:16.676Z"
   },
   {
    "duration": 5,
    "start_time": "2023-08-07T18:16:19.241Z"
   },
   {
    "duration": 61454,
    "start_time": "2023-08-07T18:16:20.816Z"
   },
   {
    "duration": 5245,
    "start_time": "2023-08-07T18:18:41.099Z"
   },
   {
    "duration": 805,
    "start_time": "2023-08-07T18:18:46.347Z"
   },
   {
    "duration": 33,
    "start_time": "2023-08-07T18:18:47.154Z"
   },
   {
    "duration": 25,
    "start_time": "2023-08-07T18:18:47.189Z"
   },
   {
    "duration": 270,
    "start_time": "2023-08-07T18:18:47.218Z"
   },
   {
    "duration": 28,
    "start_time": "2023-08-07T18:18:47.490Z"
   },
   {
    "duration": 34,
    "start_time": "2023-08-07T18:18:47.521Z"
   },
   {
    "duration": 5,
    "start_time": "2023-08-07T18:18:47.557Z"
   },
   {
    "duration": 13,
    "start_time": "2023-08-07T18:18:47.564Z"
   },
   {
    "duration": 1376532,
    "start_time": "2023-08-07T18:18:47.579Z"
   },
   {
    "duration": 4,
    "start_time": "2023-08-07T18:41:44.114Z"
   },
   {
    "duration": 17,
    "start_time": "2023-08-07T18:41:44.119Z"
   },
   {
    "duration": 145,
    "start_time": "2023-08-07T18:41:44.137Z"
   },
   {
    "duration": 7362,
    "start_time": "2023-08-07T18:41:44.287Z"
   },
   {
    "duration": 12,
    "start_time": "2023-08-07T18:41:51.651Z"
   },
   {
    "duration": 91817,
    "start_time": "2023-08-07T18:41:51.664Z"
   },
   {
    "duration": 7035,
    "start_time": "2023-08-07T18:43:23.555Z"
   },
   {
    "duration": 4448,
    "start_time": "2023-08-07T18:43:30.591Z"
   },
   {
    "duration": 21,
    "start_time": "2023-08-07T18:43:35.041Z"
   },
   {
    "duration": 42,
    "start_time": "2023-08-07T18:43:35.071Z"
   },
   {
    "duration": 81,
    "start_time": "2023-08-07T18:49:17.182Z"
   },
   {
    "duration": 1748,
    "start_time": "2023-08-07T18:54:28.104Z"
   },
   {
    "duration": 974,
    "start_time": "2023-08-07T18:54:29.854Z"
   },
   {
    "duration": 35,
    "start_time": "2023-08-07T18:54:30.830Z"
   },
   {
    "duration": 48,
    "start_time": "2023-08-07T18:54:30.867Z"
   },
   {
    "duration": 270,
    "start_time": "2023-08-07T18:54:30.917Z"
   },
   {
    "duration": 28,
    "start_time": "2023-08-07T18:54:31.189Z"
   },
   {
    "duration": 61,
    "start_time": "2023-08-07T18:54:31.219Z"
   },
   {
    "duration": 95,
    "start_time": "2023-08-07T18:54:31.282Z"
   },
   {
    "duration": 84,
    "start_time": "2023-08-07T18:54:31.379Z"
   },
   {
    "duration": 1238759,
    "start_time": "2023-08-07T18:54:31.466Z"
   },
   {
    "duration": 7,
    "start_time": "2023-08-07T19:15:10.227Z"
   },
   {
    "duration": 124,
    "start_time": "2023-08-07T19:15:10.235Z"
   },
   {
    "duration": 7057,
    "start_time": "2023-08-07T19:15:10.361Z"
   },
   {
    "duration": 4,
    "start_time": "2023-08-07T19:15:17.420Z"
   },
   {
    "duration": 93141,
    "start_time": "2023-08-07T19:15:17.426Z"
   },
   {
    "duration": 6529,
    "start_time": "2023-08-07T19:16:50.654Z"
   },
   {
    "duration": 3927,
    "start_time": "2023-08-07T19:16:57.185Z"
   },
   {
    "duration": 9,
    "start_time": "2023-08-07T19:17:01.114Z"
   },
   {
    "duration": 52,
    "start_time": "2023-08-07T19:17:01.124Z"
   }
  ],
  "kernelspec": {
   "display_name": "Python 3 (ipykernel)",
   "language": "python",
   "name": "python3"
  },
  "language_info": {
   "codemirror_mode": {
    "name": "ipython",
    "version": 3
   },
   "file_extension": ".py",
   "mimetype": "text/x-python",
   "name": "python",
   "nbconvert_exporter": "python",
   "pygments_lexer": "ipython3",
   "version": "3.11.5"
  },
  "toc": {
   "base_numbering": 1,
   "nav_menu": {},
   "number_sections": true,
   "sideBar": true,
   "skip_h1_title": true,
   "title_cell": "Contents",
   "title_sidebar": "Contents",
   "toc_cell": true,
   "toc_position": {
    "height": "calc(100% - 180px)",
    "left": "10px",
    "top": "150px",
    "width": "165px"
   },
   "toc_section_display": true,
   "toc_window_display": true
  }
 },
 "nbformat": 4,
 "nbformat_minor": 2
}
