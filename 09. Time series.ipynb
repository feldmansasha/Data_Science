{
 "cells": [
  {
   "cell_type": "markdown",
   "metadata": {},
   "source": [
    "#  Taxi order forecasting"
   ]
  },
  {
   "cell_type": "markdown",
   "metadata": {},
   "source": [
    "The Taxi company has collected historical data on taxi orders at airports. To attract more drivers during peak periods, you need to predict the number of taxi orders for the next hour. Build a model to make this prediction.\n",
    "\n",
    "The *RMSE* metric value on the test sample should be no more than 48.\n",
    "\n",
    "You need:\n",
    "\n",
    "1. Load the data and resample it one hour at a time.\n",
    "2. Analyze the data.\n",
    "3. Train different models with different hyperparameters. Make a test sample of 10% of the original data.\n",
    "4. Check the data on a test sample and draw conclusions.\n",
    "\n",
    "\n",
    "The data is in the file `taxi.csv`. The number of orders is in the `num_orders` column (from the English *number of orders*, “number of orders”)."
   ]
  },
  {
   "cell_type": "markdown",
   "metadata": {},
   "source": [
    "## Data preparation"
   ]
  },
  {
   "cell_type": "code",
   "execution_count": 1,
   "metadata": {},
   "outputs": [],
   "source": [
    "import pandas as pd\n",
    "import seaborn as sns\n",
    "from matplotlib import pyplot as plt\n",
    "from statsmodels.tsa.seasonal import seasonal_decompose\n",
    "from sklearn.model_selection import train_test_split\n",
    "from sklearn.metrics import mean_squared_error\n",
    "from sklearn.tree import DecisionTreeRegressor\n",
    "from sklearn.ensemble import RandomForestRegressor\n",
    "from sklearn.model_selection import GridSearchCV\n",
    "from catboost import CatBoostRegressor\n",
    "from sklearn.model_selection import GridSearchCV, TimeSeriesSplit\n",
    "import time\n",
    "\n",
    "RANDOM_STATE=12345"
   ]
  },
  {
   "cell_type": "code",
   "execution_count": 2,
   "metadata": {},
   "outputs": [],
   "source": [
    "orders=pd.read_csv('/datasets/taxi.csv', index_col=[0], parse_dates=[0])"
   ]
  },
  {
   "cell_type": "code",
   "execution_count": 3,
   "metadata": {},
   "outputs": [
    {
     "name": "stdout",
     "output_type": "stream",
     "text": [
      "<class 'pandas.core.frame.DataFrame'>\n",
      "DatetimeIndex: 26496 entries, 2018-03-01 00:00:00 to 2018-08-31 23:50:00\n",
      "Data columns (total 1 columns):\n",
      " #   Column      Non-Null Count  Dtype\n",
      "---  ------      --------------  -----\n",
      " 0   num_orders  26496 non-null  int64\n",
      "dtypes: int64(1)\n",
      "memory usage: 414.0 KB\n"
     ]
    }
   ],
   "source": [
    "orders.info()"
   ]
  },
  {
   "cell_type": "code",
   "execution_count": 4,
   "metadata": {},
   "outputs": [
    {
     "data": {
      "text/html": [
       "<div>\n",
       "<style scoped>\n",
       "    .dataframe tbody tr th:only-of-type {\n",
       "        vertical-align: middle;\n",
       "    }\n",
       "\n",
       "    .dataframe tbody tr th {\n",
       "        vertical-align: top;\n",
       "    }\n",
       "\n",
       "    .dataframe thead th {\n",
       "        text-align: right;\n",
       "    }\n",
       "</style>\n",
       "<table border=\"1\" class=\"dataframe\">\n",
       "  <thead>\n",
       "    <tr style=\"text-align: right;\">\n",
       "      <th></th>\n",
       "      <th>num_orders</th>\n",
       "    </tr>\n",
       "    <tr>\n",
       "      <th>datetime</th>\n",
       "      <th></th>\n",
       "    </tr>\n",
       "  </thead>\n",
       "  <tbody>\n",
       "    <tr>\n",
       "      <th>2018-03-01 00:00:00</th>\n",
       "      <td>9</td>\n",
       "    </tr>\n",
       "    <tr>\n",
       "      <th>2018-03-01 00:10:00</th>\n",
       "      <td>14</td>\n",
       "    </tr>\n",
       "    <tr>\n",
       "      <th>2018-03-01 00:20:00</th>\n",
       "      <td>28</td>\n",
       "    </tr>\n",
       "    <tr>\n",
       "      <th>2018-03-01 00:30:00</th>\n",
       "      <td>20</td>\n",
       "    </tr>\n",
       "    <tr>\n",
       "      <th>2018-03-01 00:40:00</th>\n",
       "      <td>32</td>\n",
       "    </tr>\n",
       "  </tbody>\n",
       "</table>\n",
       "</div>"
      ],
      "text/plain": [
       "                     num_orders\n",
       "datetime                       \n",
       "2018-03-01 00:00:00           9\n",
       "2018-03-01 00:10:00          14\n",
       "2018-03-01 00:20:00          28\n",
       "2018-03-01 00:30:00          20\n",
       "2018-03-01 00:40:00          32"
      ]
     },
     "execution_count": 4,
     "metadata": {},
     "output_type": "execute_result"
    }
   ],
   "source": [
    "orders.head()"
   ]
  },
  {
   "cell_type": "code",
   "execution_count": 5,
   "metadata": {},
   "outputs": [
    {
     "data": {
      "text/plain": [
       "True"
      ]
     },
     "execution_count": 5,
     "metadata": {},
     "output_type": "execute_result"
    }
   ],
   "source": [
    "orders.index.is_monotonic"
   ]
  },
  {
   "cell_type": "code",
   "execution_count": 6,
   "metadata": {},
   "outputs": [
    {
     "data": {
      "text/plain": [
       "num_orders    0\n",
       "dtype: int64"
      ]
     },
     "execution_count": 6,
     "metadata": {},
     "output_type": "execute_result"
    }
   ],
   "source": [
    "orders.isna().sum()"
   ]
  },
  {
   "cell_type": "code",
   "execution_count": 7,
   "metadata": {},
   "outputs": [],
   "source": [
    "orders=orders.resample('1H').sum()"
   ]
  },
  {
   "cell_type": "markdown",
   "metadata": {},
   "source": [
    "### Conclusion"
   ]
  },
  {
   "cell_type": "markdown",
   "metadata": {},
   "source": [
    "The data is in chronological order, there are no gaps, and the data type is correct. Changed the interval from 10 minutes to 1 hour. Now we can start data analysis"
   ]
  },
  {
   "cell_type": "markdown",
   "metadata": {},
   "source": [
    "## Data analysis"
   ]
  },
  {
   "cell_type": "code",
   "execution_count": 8,
   "metadata": {},
   "outputs": [],
   "source": [
    "decomposed_orders=seasonal_decompose(orders)"
   ]
  },
  {
   "cell_type": "code",
   "execution_count": 9,
   "metadata": {},
   "outputs": [
    {
     "data": {
      "image/png": "[encoded data removed]",
      "text/plain": [
       "<Figure size 1080x360 with 1 Axes>"
      ]
     },
     "metadata": {
      "needs_background": "light"
     },
     "output_type": "display_data"
    }
   ],
   "source": [
    "plt.title('Тренд (ресемплинг 1 сутки)')\n",
    "decomposed_orders.trend.rolling(24).mean().plot(figsize=(15, 5))\n",
    "plt.show()"
   ]
  },
  {
   "cell_type": "code",
   "execution_count": 10,
   "metadata": {},
   "outputs": [
    {
     "data": {
      "image/png": "[encoded data removed]",
      "text/plain": [
       "<Figure size 1080x360 with 1 Axes>"
      ]
     },
     "metadata": {
      "needs_background": "light"
     },
     "output_type": "display_data"
    }
   ],
   "source": [
    "plt.title('Тренд (ресемплинг 1 неделя)')\n",
    "decomposed_orders.trend.rolling(24*7).mean().plot(figsize=(15, 5))\n",
    "plt.show()"
   ]
  },
  {
   "cell_type": "markdown",
   "metadata": {},
   "source": [
    "In both graphs we see an increase in the number of orders during the year, from 60 to 160"
   ]
  },
  {
   "cell_type": "code",
   "execution_count": 11,
   "metadata": {},
   "outputs": [
    {
     "data": {
      "image/png": "[encoded data removed]",
      "text/plain": [
       "<Figure size 1080x360 with 1 Axes>"
      ]
     },
     "metadata": {
      "needs_background": "light"
     },
     "output_type": "display_data"
    }
   ],
   "source": [
    "seasonal_orders=decomposed_orders.seasonal['2018-04-20':'2018-04-27']\n",
    "plt.title('Сезонность (1 неделя в конце апреля)')\n",
    "seasonal_orders.plot(figsize=(15,5))\n",
    "plt.show()"
   ]
  },
  {
   "cell_type": "code",
   "execution_count": 12,
   "metadata": {},
   "outputs": [
    {
     "data": {
      "image/png": "[encoded data removed]",
      "text/plain": [
       "<Figure size 1080x360 with 1 Axes>"
      ]
     },
     "metadata": {
      "needs_background": "light"
     },
     "output_type": "display_data"
    }
   ],
   "source": [
    "seasonal_orders=decomposed_orders.seasonal['2018-08-01':'2018-08-08']\n",
    "plt.title('Сезонность (1 неделя в начале апреля)')\n",
    "seasonal_orders.plot(figsize=(15,5))\n",
    "plt.show()"
   ]
  },
  {
   "cell_type": "code",
   "execution_count": 13,
   "metadata": {},
   "outputs": [
    {
     "data": {
      "image/png": "[encoded data removed]",
      "text/plain": [
       "<Figure size 1080x360 with 1 Axes>"
      ]
     },
     "metadata": {
      "needs_background": "light"
     },
     "output_type": "display_data"
    }
   ],
   "source": [
    "seasonal_orders=decomposed_orders.seasonal['2018-07-01':'2018-07-01']\n",
    "plt.title('Сезонность (1 июля)')\n",
    "seasonal_orders.plot(figsize=(15,5))\n",
    "plt.show()"
   ]
  },
  {
   "cell_type": "markdown",
   "metadata": {},
   "source": [
    "We took two weeks, at the end of April and at the beginning of August, to compare seasonality, as well as 1 day to understand the demand during the day."
   ]
  },
  {
   "cell_type": "markdown",
   "metadata": {},
   "source": [
    "### Conclusion"
   ]
  },
  {
   "cell_type": "markdown",
   "metadata": {},
   "source": [
    "There is a growth trend throughout the year. There are small subsidences at the beginning of May, June and August, but they do not affect the overall picture.\n",
    "\n",
    "Seasonality is also clearly pronounced and three peaks of demand are visible: morning, evening and midnight."
   ]
  },
  {
   "cell_type": "markdown",
   "metadata": {},
   "source": [
    "## Models training"
   ]
  },
  {
   "cell_type": "code",
   "execution_count": 14,
   "metadata": {},
   "outputs": [],
   "source": [
    "def make_features(data_initial, max_lag, rolling_mean_size):\n",
    "    data=data_initial.copy()\n",
    "    data['year'] = data.index.year\n",
    "    data['month'] = data.index.month\n",
    "    data['day'] = data.index.day\n",
    "    data['dayofweek'] = data.index.dayofweek\n",
    "    data['hour']=data.index.hour\n",
    "    \n",
    "    for lag in range(1, max_lag + 1):\n",
    "        data['lag_{}'.format(lag)] = data['num_orders'].shift(lag)\n",
    "\n",
    "    data['rolling_mean'] = data['num_orders'].shift().rolling(rolling_mean_size).mean()\n",
    "    return data"
   ]
  },
  {
   "cell_type": "code",
   "execution_count": 15,
   "metadata": {},
   "outputs": [
    {
     "data": {
      "text/html": [
       "<div>\n",
       "<style scoped>\n",
       "    .dataframe tbody tr th:only-of-type {\n",
       "        vertical-align: middle;\n",
       "    }\n",
       "\n",
       "    .dataframe tbody tr th {\n",
       "        vertical-align: top;\n",
       "    }\n",
       "\n",
       "    .dataframe thead th {\n",
       "        text-align: right;\n",
       "    }\n",
       "</style>\n",
       "<table border=\"1\" class=\"dataframe\">\n",
       "  <thead>\n",
       "    <tr style=\"text-align: right;\">\n",
       "      <th></th>\n",
       "      <th>num_orders</th>\n",
       "      <th>year</th>\n",
       "      <th>month</th>\n",
       "      <th>day</th>\n",
       "      <th>dayofweek</th>\n",
       "      <th>hour</th>\n",
       "      <th>lag_1</th>\n",
       "      <th>lag_2</th>\n",
       "      <th>lag_3</th>\n",
       "      <th>lag_4</th>\n",
       "      <th>...</th>\n",
       "      <th>lag_16</th>\n",
       "      <th>lag_17</th>\n",
       "      <th>lag_18</th>\n",
       "      <th>lag_19</th>\n",
       "      <th>lag_20</th>\n",
       "      <th>lag_21</th>\n",
       "      <th>lag_22</th>\n",
       "      <th>lag_23</th>\n",
       "      <th>lag_24</th>\n",
       "      <th>rolling_mean</th>\n",
       "    </tr>\n",
       "    <tr>\n",
       "      <th>datetime</th>\n",
       "      <th></th>\n",
       "      <th></th>\n",
       "      <th></th>\n",
       "      <th></th>\n",
       "      <th></th>\n",
       "      <th></th>\n",
       "      <th></th>\n",
       "      <th></th>\n",
       "      <th></th>\n",
       "      <th></th>\n",
       "      <th></th>\n",
       "      <th></th>\n",
       "      <th></th>\n",
       "      <th></th>\n",
       "      <th></th>\n",
       "      <th></th>\n",
       "      <th></th>\n",
       "      <th></th>\n",
       "      <th></th>\n",
       "      <th></th>\n",
       "      <th></th>\n",
       "    </tr>\n",
       "  </thead>\n",
       "  <tbody>\n",
       "    <tr>\n",
       "      <th>2018-03-01 00:00:00</th>\n",
       "      <td>124</td>\n",
       "      <td>2018</td>\n",
       "      <td>3</td>\n",
       "      <td>1</td>\n",
       "      <td>3</td>\n",
       "      <td>0</td>\n",
       "      <td>NaN</td>\n",
       "      <td>NaN</td>\n",
       "      <td>NaN</td>\n",
       "      <td>NaN</td>\n",
       "      <td>...</td>\n",
       "      <td>NaN</td>\n",
       "      <td>NaN</td>\n",
       "      <td>NaN</td>\n",
       "      <td>NaN</td>\n",
       "      <td>NaN</td>\n",
       "      <td>NaN</td>\n",
       "      <td>NaN</td>\n",
       "      <td>NaN</td>\n",
       "      <td>NaN</td>\n",
       "      <td>NaN</td>\n",
       "    </tr>\n",
       "    <tr>\n",
       "      <th>2018-03-01 01:00:00</th>\n",
       "      <td>85</td>\n",
       "      <td>2018</td>\n",
       "      <td>3</td>\n",
       "      <td>1</td>\n",
       "      <td>3</td>\n",
       "      <td>1</td>\n",
       "      <td>124.0</td>\n",
       "      <td>NaN</td>\n",
       "      <td>NaN</td>\n",
       "      <td>NaN</td>\n",
       "      <td>...</td>\n",
       "      <td>NaN</td>\n",
       "      <td>NaN</td>\n",
       "      <td>NaN</td>\n",
       "      <td>NaN</td>\n",
       "      <td>NaN</td>\n",
       "      <td>NaN</td>\n",
       "      <td>NaN</td>\n",
       "      <td>NaN</td>\n",
       "      <td>NaN</td>\n",
       "      <td>NaN</td>\n",
       "    </tr>\n",
       "    <tr>\n",
       "      <th>2018-03-01 02:00:00</th>\n",
       "      <td>71</td>\n",
       "      <td>2018</td>\n",
       "      <td>3</td>\n",
       "      <td>1</td>\n",
       "      <td>3</td>\n",
       "      <td>2</td>\n",
       "      <td>85.0</td>\n",
       "      <td>124.0</td>\n",
       "      <td>NaN</td>\n",
       "      <td>NaN</td>\n",
       "      <td>...</td>\n",
       "      <td>NaN</td>\n",
       "      <td>NaN</td>\n",
       "      <td>NaN</td>\n",
       "      <td>NaN</td>\n",
       "      <td>NaN</td>\n",
       "      <td>NaN</td>\n",
       "      <td>NaN</td>\n",
       "      <td>NaN</td>\n",
       "      <td>NaN</td>\n",
       "      <td>NaN</td>\n",
       "    </tr>\n",
       "    <tr>\n",
       "      <th>2018-03-01 03:00:00</th>\n",
       "      <td>66</td>\n",
       "      <td>2018</td>\n",
       "      <td>3</td>\n",
       "      <td>1</td>\n",
       "      <td>3</td>\n",
       "      <td>3</td>\n",
       "      <td>71.0</td>\n",
       "      <td>85.0</td>\n",
       "      <td>124.0</td>\n",
       "      <td>NaN</td>\n",
       "      <td>...</td>\n",
       "      <td>NaN</td>\n",
       "      <td>NaN</td>\n",
       "      <td>NaN</td>\n",
       "      <td>NaN</td>\n",
       "      <td>NaN</td>\n",
       "      <td>NaN</td>\n",
       "      <td>NaN</td>\n",
       "      <td>NaN</td>\n",
       "      <td>NaN</td>\n",
       "      <td>NaN</td>\n",
       "    </tr>\n",
       "    <tr>\n",
       "      <th>2018-03-01 04:00:00</th>\n",
       "      <td>43</td>\n",
       "      <td>2018</td>\n",
       "      <td>3</td>\n",
       "      <td>1</td>\n",
       "      <td>3</td>\n",
       "      <td>4</td>\n",
       "      <td>66.0</td>\n",
       "      <td>71.0</td>\n",
       "      <td>85.0</td>\n",
       "      <td>124.0</td>\n",
       "      <td>...</td>\n",
       "      <td>NaN</td>\n",
       "      <td>NaN</td>\n",
       "      <td>NaN</td>\n",
       "      <td>NaN</td>\n",
       "      <td>NaN</td>\n",
       "      <td>NaN</td>\n",
       "      <td>NaN</td>\n",
       "      <td>NaN</td>\n",
       "      <td>NaN</td>\n",
       "      <td>NaN</td>\n",
       "    </tr>\n",
       "    <tr>\n",
       "      <th>2018-03-01 05:00:00</th>\n",
       "      <td>6</td>\n",
       "      <td>2018</td>\n",
       "      <td>3</td>\n",
       "      <td>1</td>\n",
       "      <td>3</td>\n",
       "      <td>5</td>\n",
       "      <td>43.0</td>\n",
       "      <td>66.0</td>\n",
       "      <td>71.0</td>\n",
       "      <td>85.0</td>\n",
       "      <td>...</td>\n",
       "      <td>NaN</td>\n",
       "      <td>NaN</td>\n",
       "      <td>NaN</td>\n",
       "      <td>NaN</td>\n",
       "      <td>NaN</td>\n",
       "      <td>NaN</td>\n",
       "      <td>NaN</td>\n",
       "      <td>NaN</td>\n",
       "      <td>NaN</td>\n",
       "      <td>NaN</td>\n",
       "    </tr>\n",
       "    <tr>\n",
       "      <th>2018-03-01 06:00:00</th>\n",
       "      <td>12</td>\n",
       "      <td>2018</td>\n",
       "      <td>3</td>\n",
       "      <td>1</td>\n",
       "      <td>3</td>\n",
       "      <td>6</td>\n",
       "      <td>6.0</td>\n",
       "      <td>43.0</td>\n",
       "      <td>66.0</td>\n",
       "      <td>71.0</td>\n",
       "      <td>...</td>\n",
       "      <td>NaN</td>\n",
       "      <td>NaN</td>\n",
       "      <td>NaN</td>\n",
       "      <td>NaN</td>\n",
       "      <td>NaN</td>\n",
       "      <td>NaN</td>\n",
       "      <td>NaN</td>\n",
       "      <td>NaN</td>\n",
       "      <td>NaN</td>\n",
       "      <td>65.833333</td>\n",
       "    </tr>\n",
       "    <tr>\n",
       "      <th>2018-03-01 07:00:00</th>\n",
       "      <td>15</td>\n",
       "      <td>2018</td>\n",
       "      <td>3</td>\n",
       "      <td>1</td>\n",
       "      <td>3</td>\n",
       "      <td>7</td>\n",
       "      <td>12.0</td>\n",
       "      <td>6.0</td>\n",
       "      <td>43.0</td>\n",
       "      <td>66.0</td>\n",
       "      <td>...</td>\n",
       "      <td>NaN</td>\n",
       "      <td>NaN</td>\n",
       "      <td>NaN</td>\n",
       "      <td>NaN</td>\n",
       "      <td>NaN</td>\n",
       "      <td>NaN</td>\n",
       "      <td>NaN</td>\n",
       "      <td>NaN</td>\n",
       "      <td>NaN</td>\n",
       "      <td>47.166667</td>\n",
       "    </tr>\n",
       "    <tr>\n",
       "      <th>2018-03-01 08:00:00</th>\n",
       "      <td>34</td>\n",
       "      <td>2018</td>\n",
       "      <td>3</td>\n",
       "      <td>1</td>\n",
       "      <td>3</td>\n",
       "      <td>8</td>\n",
       "      <td>15.0</td>\n",
       "      <td>12.0</td>\n",
       "      <td>6.0</td>\n",
       "      <td>43.0</td>\n",
       "      <td>...</td>\n",
       "      <td>NaN</td>\n",
       "      <td>NaN</td>\n",
       "      <td>NaN</td>\n",
       "      <td>NaN</td>\n",
       "      <td>NaN</td>\n",
       "      <td>NaN</td>\n",
       "      <td>NaN</td>\n",
       "      <td>NaN</td>\n",
       "      <td>NaN</td>\n",
       "      <td>35.500000</td>\n",
       "    </tr>\n",
       "    <tr>\n",
       "      <th>2018-03-01 09:00:00</th>\n",
       "      <td>69</td>\n",
       "      <td>2018</td>\n",
       "      <td>3</td>\n",
       "      <td>1</td>\n",
       "      <td>3</td>\n",
       "      <td>9</td>\n",
       "      <td>34.0</td>\n",
       "      <td>15.0</td>\n",
       "      <td>12.0</td>\n",
       "      <td>6.0</td>\n",
       "      <td>...</td>\n",
       "      <td>NaN</td>\n",
       "      <td>NaN</td>\n",
       "      <td>NaN</td>\n",
       "      <td>NaN</td>\n",
       "      <td>NaN</td>\n",
       "      <td>NaN</td>\n",
       "      <td>NaN</td>\n",
       "      <td>NaN</td>\n",
       "      <td>NaN</td>\n",
       "      <td>29.333333</td>\n",
       "    </tr>\n",
       "  </tbody>\n",
       "</table>\n",
       "<p>10 rows × 31 columns</p>\n",
       "</div>"
      ],
      "text/plain": [
       "                     num_orders  year  month  day  dayofweek  hour  lag_1  \\\n",
       "datetime                                                                    \n",
       "2018-03-01 00:00:00         124  2018      3    1          3     0    NaN   \n",
       "2018-03-01 01:00:00          85  2018      3    1          3     1  124.0   \n",
       "2018-03-01 02:00:00          71  2018      3    1          3     2   85.0   \n",
       "2018-03-01 03:00:00          66  2018      3    1          3     3   71.0   \n",
       "2018-03-01 04:00:00          43  2018      3    1          3     4   66.0   \n",
       "2018-03-01 05:00:00           6  2018      3    1          3     5   43.0   \n",
       "2018-03-01 06:00:00          12  2018      3    1          3     6    6.0   \n",
       "2018-03-01 07:00:00          15  2018      3    1          3     7   12.0   \n",
       "2018-03-01 08:00:00          34  2018      3    1          3     8   15.0   \n",
       "2018-03-01 09:00:00          69  2018      3    1          3     9   34.0   \n",
       "\n",
       "                     lag_2  lag_3  lag_4  ...  lag_16  lag_17  lag_18  lag_19  \\\n",
       "datetime                                  ...                                   \n",
       "2018-03-01 00:00:00    NaN    NaN    NaN  ...     NaN     NaN     NaN     NaN   \n",
       "2018-03-01 01:00:00    NaN    NaN    NaN  ...     NaN     NaN     NaN     NaN   \n",
       "2018-03-01 02:00:00  124.0    NaN    NaN  ...     NaN     NaN     NaN     NaN   \n",
       "2018-03-01 03:00:00   85.0  124.0    NaN  ...     NaN     NaN     NaN     NaN   \n",
       "2018-03-01 04:00:00   71.0   85.0  124.0  ...     NaN     NaN     NaN     NaN   \n",
       "2018-03-01 05:00:00   66.0   71.0   85.0  ...     NaN     NaN     NaN     NaN   \n",
       "2018-03-01 06:00:00   43.0   66.0   71.0  ...     NaN     NaN     NaN     NaN   \n",
       "2018-03-01 07:00:00    6.0   43.0   66.0  ...     NaN     NaN     NaN     NaN   \n",
       "2018-03-01 08:00:00   12.0    6.0   43.0  ...     NaN     NaN     NaN     NaN   \n",
       "2018-03-01 09:00:00   15.0   12.0    6.0  ...     NaN     NaN     NaN     NaN   \n",
       "\n",
       "                     lag_20  lag_21  lag_22  lag_23  lag_24  rolling_mean  \n",
       "datetime                                                                   \n",
       "2018-03-01 00:00:00     NaN     NaN     NaN     NaN     NaN           NaN  \n",
       "2018-03-01 01:00:00     NaN     NaN     NaN     NaN     NaN           NaN  \n",
       "2018-03-01 02:00:00     NaN     NaN     NaN     NaN     NaN           NaN  \n",
       "2018-03-01 03:00:00     NaN     NaN     NaN     NaN     NaN           NaN  \n",
       "2018-03-01 04:00:00     NaN     NaN     NaN     NaN     NaN           NaN  \n",
       "2018-03-01 05:00:00     NaN     NaN     NaN     NaN     NaN           NaN  \n",
       "2018-03-01 06:00:00     NaN     NaN     NaN     NaN     NaN     65.833333  \n",
       "2018-03-01 07:00:00     NaN     NaN     NaN     NaN     NaN     47.166667  \n",
       "2018-03-01 08:00:00     NaN     NaN     NaN     NaN     NaN     35.500000  \n",
       "2018-03-01 09:00:00     NaN     NaN     NaN     NaN     NaN     29.333333  \n",
       "\n",
       "[10 rows x 31 columns]"
      ]
     },
     "execution_count": 15,
     "metadata": {},
     "output_type": "execute_result"
    }
   ],
   "source": [
    "orders_after=make_features(orders, 24, 6)\n",
    "orders_after.head(10)"
   ]
  },
  {
   "cell_type": "code",
   "execution_count": 16,
   "metadata": {},
   "outputs": [],
   "source": [
    "train, test = train_test_split(orders_after, shuffle=False, test_size=0.1)\n",
    "train = train.dropna()\n",
    "\n",
    "features_train=train.drop('num_orders', axis=1)\n",
    "target_train=train['num_orders']\n",
    "features_test=test.drop('num_orders', axis=1)\n",
    "target_test=test['num_orders']"
   ]
  },
  {
   "cell_type": "code",
   "execution_count": 17,
   "metadata": {},
   "outputs": [
    {
     "name": "stdout",
     "output_type": "stream",
     "text": [
      "Features_train size: 3950\n",
      "Target_train size: 3950\n",
      "\n",
      "Features_test size: 442\n",
      "Target_test size: 442\n"
     ]
    }
   ],
   "source": [
    "print(\"Features_train size:\", features_train.shape[0])\n",
    "print(\"Target_train size:\", target_train.shape[0])\n",
    "print()\n",
    "print(\"Features_test size:\", features_test.shape[0])\n",
    "print(\"Target_test size:\", target_test.shape[0])"
   ]
  },
  {
   "cell_type": "markdown",
   "metadata": {},
   "source": [
    "### Decision Tree"
   ]
  },
  {
   "cell_type": "code",
   "execution_count": 18,
   "metadata": {},
   "outputs": [
    {
     "name": "stdout",
     "output_type": "stream",
     "text": [
      "Best parameters: {'criterion': 'mse', 'max_depth': 5, 'random_state': 12345}\n",
      "Best RMSE: 27.891984525592633\n",
      "Mean RMSE: 32.28673069858274\n",
      "CPU times: user 17 s, sys: 27.3 ms, total: 17 s\n",
      "Wall time: 17 s\n"
     ]
    }
   ],
   "source": [
    "%%time\n",
    "\n",
    "regressor = DecisionTreeRegressor() \n",
    "max_depth_list = [x for x in range(2, 31)]\n",
    "hyperparams = [{'criterion':['mse'], \n",
    "                'max_depth':max_depth_list, \n",
    "                'random_state':[RANDOM_STATE]}]\n",
    "\n",
    "tscv = TimeSeriesSplit(n_splits=15)\n",
    "clf_dt = GridSearchCV(regressor, hyperparams, cv=tscv, scoring='neg_mean_squared_error')\n",
    "clf_dt.fit(features_train, target_train)\n",
    "print(\"Best parameters:\", clf_dt.best_params_)\n",
    "best= clf_dt.cv_results_['mean_test_score']\n",
    "mean=clf_dt.cv_results_['mean_test_score'].mean()\n",
    "print(\"Best RMSE:\", (max(best)*-1) ** 0.5)\n",
    "print(\"Mean RMSE:\", (mean*-1) ** 0.5)"
   ]
  },
  {
   "cell_type": "markdown",
   "metadata": {},
   "source": [
    "### CatBoost"
   ]
  },
  {
   "cell_type": "code",
   "execution_count": 19,
   "metadata": {},
   "outputs": [
    {
     "name": "stdout",
     "output_type": "stream",
     "text": [
      "Best parameters: {'learning_rate': 0.1, 'random_state': 12345, 'verbose': False}\n",
      "Best RMSE: 23.165108195742153\n",
      "Mean RMSE: 25.272892310895237\n",
      "CPU times: user 3min 52s, sys: 4.98 s, total: 3min 57s\n",
      "Wall time: 4min 48s\n"
     ]
    }
   ],
   "source": [
    "%%time\n",
    "\n",
    "regressor = CatBoostRegressor() \n",
    "hyperparams = [{'learning_rate':[0.1, 0.5, 0.8],\n",
    "                'random_state':[RANDOM_STATE],\n",
    "                'verbose':[False]}]\n",
    "\n",
    "tscv = TimeSeriesSplit(n_splits=15)\n",
    "clf_cb = GridSearchCV(regressor, hyperparams, cv=tscv, scoring='neg_mean_squared_error')\n",
    "clf_cb.fit(features_train, target_train)\n",
    "print(\"Best parameters:\", clf_cb.best_params_)\n",
    "best= clf_cb.cv_results_['mean_test_score']\n",
    "mean=clf_cb.cv_results_['mean_test_score'].mean()\n",
    "print(\"Best RMSE:\", (max(best)*-1) ** 0.5)\n",
    "print(\"Mean RMSE:\", (mean*-1) ** 0.5)"
   ]
  },
  {
   "cell_type": "markdown",
   "metadata": {},
   "source": [
    "### Random Forest"
   ]
  },
  {
   "cell_type": "code",
   "execution_count": 20,
   "metadata": {},
   "outputs": [
    {
     "name": "stdout",
     "output_type": "stream",
     "text": [
      "Best parameters: {'max_depth': 13, 'n_estimators': 90, 'random_state': 12345}\n",
      "Best RMSE: 24.092627185167313\n",
      "Mean RMSE: 24.700973375737572\n",
      "CPU times: user 7min 22s, sys: 732 ms, total: 7min 23s\n",
      "Wall time: 7min 23s\n"
     ]
    }
   ],
   "source": [
    "%%time\n",
    "\n",
    "regressor = RandomForestRegressor() \n",
    "hyperparams = [{'n_estimators':range(50,100,10),\n",
    "                'max_depth':range(5,15,2),\n",
    "                'random_state':[RANDOM_STATE]}]\n",
    "\n",
    "tscv = TimeSeriesSplit(n_splits=15)\n",
    "clf_rnd = GridSearchCV(regressor, hyperparams, cv=tscv, scoring='neg_mean_squared_error')\n",
    "clf_rnd.fit(features_train, target_train)\n",
    "print(\"Best parameters:\", clf_rnd.best_params_)\n",
    "best= clf_rnd.cv_results_['mean_test_score']\n",
    "mean=clf_rnd.cv_results_['mean_test_score'].mean()\n",
    "print(\"Best RMSE:\", (max(best)*-1) ** 0.5)\n",
    "print(\"Mean RMSE:\", (mean*-1) ** 0.5)"
   ]
  },
  {
   "cell_type": "markdown",
   "metadata": {},
   "source": [
    "### Conclusion"
   ]
  },
  {
   "cell_type": "markdown",
   "metadata": {},
   "source": [
    "Using the function, we created features for prediction. The sample was divided into training and testing (90% and 10%). We selected hyperparameters for 3 models: Decision Tree, CatBoost and Random Forest."
   ]
  },
  {
   "cell_type": "markdown",
   "metadata": {},
   "source": [
    "## Testing"
   ]
  },
  {
   "cell_type": "code",
   "execution_count": 21,
   "metadata": {},
   "outputs": [
    {
     "name": "stdout",
     "output_type": "stream",
     "text": [
      "CatBoost RMSE (test dataframe): 38.7852103287795\n",
      "CPU times: user 6.24 s, sys: 64.5 ms, total: 6.31 s\n",
      "Wall time: 7.42 s\n"
     ]
    }
   ],
   "source": [
    "%%time\n",
    "model = CatBoostRegressor(**clf_cb.best_params_) \n",
    "model.fit(features_train, target_train)\n",
    "target_predict_cb = model.predict(features_test)\n",
    "CBR_rmse = mean_squared_error(target_test, target_predict_cb) ** 0.5\n",
    "print(\"CatBoost RMSE (test dataframe):\", CBR_rmse)"
   ]
  },
  {
   "cell_type": "markdown",
   "metadata": {},
   "source": [
    "### Visualization of results"
   ]
  },
  {
   "cell_type": "code",
   "execution_count": 22,
   "metadata": {},
   "outputs": [
    {
     "data": {
      "image/png": "[encoded data removed]",
      "text/plain": [
       "<Figure size 1080x360 with 1 Axes>"
      ]
     },
     "metadata": {
      "needs_background": "light"
     },
     "output_type": "display_data"
    }
   ],
   "source": [
    "comparison = pd.DataFrame({\"Реальные данные\":target_test, \"CatBoost\":target_predict_cb})\n",
    "comparison.plot(figsize=(15, 5))\n",
    "plt.title('Сравнение реальных тестовых данных с предсказанием CatBoost')\n",
    "plt.show()"
   ]
  },
  {
   "cell_type": "code",
   "execution_count": 23,
   "metadata": {},
   "outputs": [
    {
     "data": {
      "image/png": "[encoded data removed]",
      "text/plain": [
       "<Figure size 1080x360 with 1 Axes>"
      ]
     },
     "metadata": {
      "needs_background": "light"
     },
     "output_type": "display_data"
    }
   ],
   "source": [
    "comparison = pd.DataFrame({\"Реальные данные\":target_test, \"CatBoost\":target_predict_cb})\n",
    "comparison['2018-08-21':'2018-08-27'].plot(figsize=(15, 5))\n",
    "plt.title('Сравнение реальных тестовых данных с предсказанием CatBoost (1 неделя)')\n",
    "plt.show()"
   ]
  },
  {
   "cell_type": "code",
   "execution_count": 24,
   "metadata": {},
   "outputs": [
    {
     "data": {
      "image/png": "[encoded data removed]",
      "text/plain": [
       "<Figure size 1080x360 with 1 Axes>"
      ]
     },
     "metadata": {
      "needs_background": "light"
     },
     "output_type": "display_data"
    }
   ],
   "source": [
    "comparison = pd.DataFrame({\"Реальные данные\":target_test, \"CatBoost\":target_predict_cb})\n",
    "comparison['2018-08-18':'2018-08-18'].plot(figsize=(15, 5))\n",
    "plt.title('Сравнение реальных тестовых данных с предсказанием CatBoost (1 день)')\n",
    "plt.show()"
   ]
  },
  {
   "cell_type": "markdown",
   "metadata": {},
   "source": [
    "### Conclusion"
   ]
  },
  {
   "cell_type": "markdown",
   "metadata": {},
   "source": [
    "The fastest model is Decision Tree. It learns the fastest and makes predictions, but at the same time it has the worst root mean square error.\n",
    "\n",
    "The average model in terms of characteristics is Random Forest. It takes longer to train and predict, but the RMSE is 20% better.\n",
    "\n",
    "The optimal model is CatBoost. It takes a very long time to train, but the prediction time is comparable to Decision Tree, and the RMSE is better than Random Forest."
   ]
  }
 ],
 "metadata": {
  "ExecuteTimeLog": [
   {
    "duration": 352,
    "start_time": "2023-07-23T20:30:43.104Z"
   },
   {
    "duration": 108,
    "start_time": "2023-07-23T20:30:43.457Z"
   },
   {
    "duration": 19,
    "start_time": "2023-07-23T20:31:02.008Z"
   },
   {
    "duration": 613,
    "start_time": "2023-07-23T20:31:10.941Z"
   },
   {
    "duration": 12,
    "start_time": "2023-07-23T20:31:25.407Z"
   },
   {
    "duration": 50,
    "start_time": "2023-07-23T22:18:47.771Z"
   },
   {
    "duration": 537,
    "start_time": "2023-07-23T22:18:50.907Z"
   },
   {
    "duration": 338,
    "start_time": "2023-07-23T22:18:51.447Z"
   },
   {
    "duration": 18,
    "start_time": "2023-07-23T22:18:51.787Z"
   },
   {
    "duration": 40,
    "start_time": "2023-07-23T22:18:51.807Z"
   },
   {
    "duration": 28,
    "start_time": "2023-07-23T22:20:04.178Z"
   },
   {
    "duration": 6,
    "start_time": "2023-07-23T22:20:09.753Z"
   },
   {
    "duration": 7,
    "start_time": "2023-07-23T22:20:30.598Z"
   },
   {
    "duration": 14,
    "start_time": "2023-07-23T22:21:51.842Z"
   },
   {
    "duration": 1487,
    "start_time": "2023-07-23T22:22:11.201Z"
   },
   {
    "duration": 46,
    "start_time": "2023-07-23T22:22:12.691Z"
   },
   {
    "duration": 9,
    "start_time": "2023-07-23T22:22:12.739Z"
   },
   {
    "duration": 21,
    "start_time": "2023-07-23T22:22:12.750Z"
   },
   {
    "duration": 7,
    "start_time": "2023-07-23T22:22:12.774Z"
   },
   {
    "duration": 9,
    "start_time": "2023-07-23T22:22:12.783Z"
   },
   {
    "duration": 81,
    "start_time": "2023-07-23T22:22:12.794Z"
   },
   {
    "duration": 3,
    "start_time": "2023-07-23T22:22:50.399Z"
   },
   {
    "duration": 50,
    "start_time": "2023-07-23T22:22:50.405Z"
   },
   {
    "duration": 8,
    "start_time": "2023-07-23T22:22:50.457Z"
   },
   {
    "duration": 14,
    "start_time": "2023-07-23T22:22:50.466Z"
   },
   {
    "duration": 4,
    "start_time": "2023-07-23T22:22:50.482Z"
   },
   {
    "duration": 27,
    "start_time": "2023-07-23T22:22:50.488Z"
   },
   {
    "duration": 16,
    "start_time": "2023-07-23T22:22:50.517Z"
   },
   {
    "duration": 239,
    "start_time": "2023-07-23T22:23:03.022Z"
   },
   {
    "duration": 6,
    "start_time": "2023-07-23T22:23:09.986Z"
   },
   {
    "duration": 8,
    "start_time": "2023-07-23T22:28:41.143Z"
   },
   {
    "duration": 313,
    "start_time": "2023-07-23T22:29:45.612Z"
   },
   {
    "duration": 256,
    "start_time": "2023-07-23T22:30:00.110Z"
   },
   {
    "duration": 244,
    "start_time": "2023-07-23T22:30:07.355Z"
   },
   {
    "duration": 281,
    "start_time": "2023-07-23T22:31:26.769Z"
   },
   {
    "duration": 269,
    "start_time": "2023-07-23T22:31:34.485Z"
   },
   {
    "duration": 348,
    "start_time": "2023-07-23T22:32:52.142Z"
   },
   {
    "duration": 236,
    "start_time": "2023-07-23T22:33:01.684Z"
   },
   {
    "duration": 226,
    "start_time": "2023-07-23T22:33:45.039Z"
   },
   {
    "duration": 25,
    "start_time": "2023-07-23T22:35:26.503Z"
   },
   {
    "duration": 175,
    "start_time": "2023-07-23T22:35:40.802Z"
   },
   {
    "duration": 123,
    "start_time": "2023-07-23T22:36:50.801Z"
   },
   {
    "duration": 233,
    "start_time": "2023-07-23T22:36:57.659Z"
   },
   {
    "duration": 227,
    "start_time": "2023-07-23T22:37:05.640Z"
   },
   {
    "duration": 247,
    "start_time": "2023-07-23T22:37:12.405Z"
   },
   {
    "duration": 357,
    "start_time": "2023-07-23T22:37:21.200Z"
   },
   {
    "duration": 21,
    "start_time": "2023-07-23T22:37:48.807Z"
   },
   {
    "duration": 10,
    "start_time": "2023-07-23T22:37:51.936Z"
   },
   {
    "duration": 270,
    "start_time": "2023-07-23T22:38:08.541Z"
   },
   {
    "duration": 245,
    "start_time": "2023-07-23T22:38:33.833Z"
   },
   {
    "duration": 364,
    "start_time": "2023-07-23T22:38:39.503Z"
   },
   {
    "duration": 238,
    "start_time": "2023-07-23T22:38:44.904Z"
   },
   {
    "duration": 346,
    "start_time": "2023-07-23T22:38:52.847Z"
   },
   {
    "duration": 120,
    "start_time": "2023-07-23T22:38:56.481Z"
   },
   {
    "duration": 257,
    "start_time": "2023-07-23T22:44:15.823Z"
   },
   {
    "duration": 321,
    "start_time": "2023-07-23T22:44:59.564Z"
   },
   {
    "duration": 225,
    "start_time": "2023-07-23T22:45:17.908Z"
   },
   {
    "duration": 217,
    "start_time": "2023-07-23T22:45:27.212Z"
   },
   {
    "duration": 217,
    "start_time": "2023-07-23T22:45:36.344Z"
   },
   {
    "duration": 306,
    "start_time": "2023-07-23T22:45:44.327Z"
   },
   {
    "duration": 228,
    "start_time": "2023-07-23T22:45:49.995Z"
   },
   {
    "duration": 1824,
    "start_time": "2023-07-23T22:46:03.047Z"
   },
   {
    "duration": 237,
    "start_time": "2023-07-23T22:46:10.174Z"
   },
   {
    "duration": 231,
    "start_time": "2023-07-23T22:46:29.834Z"
   },
   {
    "duration": 195,
    "start_time": "2023-07-23T22:46:43.074Z"
   },
   {
    "duration": 231,
    "start_time": "2023-07-23T22:46:50.898Z"
   },
   {
    "duration": 177,
    "start_time": "2023-07-23T22:46:56.474Z"
   },
   {
    "duration": 208,
    "start_time": "2023-07-23T22:47:37.740Z"
   },
   {
    "duration": 187,
    "start_time": "2023-07-23T22:47:50.931Z"
   },
   {
    "duration": 182,
    "start_time": "2023-07-23T22:47:58.875Z"
   },
   {
    "duration": 176,
    "start_time": "2023-07-23T22:48:21.364Z"
   },
   {
    "duration": 332,
    "start_time": "2023-07-23T22:49:14.248Z"
   },
   {
    "duration": 237,
    "start_time": "2023-07-23T22:49:23.508Z"
   },
   {
    "duration": 4,
    "start_time": "2023-07-23T22:49:59.317Z"
   },
   {
    "duration": 241,
    "start_time": "2023-07-23T22:50:02.687Z"
   },
   {
    "duration": 220,
    "start_time": "2023-07-23T22:50:09.837Z"
   },
   {
    "duration": 178,
    "start_time": "2023-07-23T22:50:30.329Z"
   },
   {
    "duration": 200,
    "start_time": "2023-07-23T22:50:39.511Z"
   },
   {
    "duration": 169,
    "start_time": "2023-07-23T22:50:49.892Z"
   },
   {
    "duration": 6,
    "start_time": "2023-07-23T22:53:25.396Z"
   },
   {
    "duration": 5,
    "start_time": "2023-07-23T22:55:46.125Z"
   },
   {
    "duration": 13,
    "start_time": "2023-07-23T22:58:08.653Z"
   },
   {
    "duration": 20,
    "start_time": "2023-07-23T22:58:18.992Z"
   },
   {
    "duration": 26,
    "start_time": "2023-07-23T22:58:24.250Z"
   },
   {
    "duration": 27,
    "start_time": "2023-07-23T22:59:07.947Z"
   },
   {
    "duration": 4,
    "start_time": "2023-07-23T22:59:31.171Z"
   },
   {
    "duration": 26,
    "start_time": "2023-07-23T22:59:34.046Z"
   },
   {
    "duration": 4,
    "start_time": "2023-07-23T23:00:10.064Z"
   },
   {
    "duration": 104,
    "start_time": "2023-07-23T23:00:10.071Z"
   },
   {
    "duration": 8,
    "start_time": "2023-07-23T23:00:10.176Z"
   },
   {
    "duration": 20,
    "start_time": "2023-07-23T23:00:10.187Z"
   },
   {
    "duration": 13,
    "start_time": "2023-07-23T23:00:10.209Z"
   },
   {
    "duration": 23,
    "start_time": "2023-07-23T23:00:10.224Z"
   },
   {
    "duration": 30,
    "start_time": "2023-07-23T23:00:10.248Z"
   },
   {
    "duration": 32,
    "start_time": "2023-07-23T23:00:10.280Z"
   },
   {
    "duration": 225,
    "start_time": "2023-07-23T23:00:10.313Z"
   },
   {
    "duration": 314,
    "start_time": "2023-07-23T23:00:10.541Z"
   },
   {
    "duration": 236,
    "start_time": "2023-07-23T23:00:10.857Z"
   },
   {
    "duration": 176,
    "start_time": "2023-07-23T23:00:11.095Z"
   },
   {
    "duration": 175,
    "start_time": "2023-07-23T23:00:11.273Z"
   },
   {
    "duration": 4,
    "start_time": "2023-07-23T23:00:11.451Z"
   },
   {
    "duration": 39,
    "start_time": "2023-07-23T23:00:11.457Z"
   },
   {
    "duration": 13,
    "start_time": "2023-07-23T23:02:33.809Z"
   },
   {
    "duration": 12,
    "start_time": "2023-07-23T23:02:39.876Z"
   },
   {
    "duration": 15,
    "start_time": "2023-07-23T23:03:32.994Z"
   },
   {
    "duration": 12,
    "start_time": "2023-07-23T23:04:08.931Z"
   },
   {
    "duration": 14,
    "start_time": "2023-07-23T23:05:44.891Z"
   },
   {
    "duration": 4,
    "start_time": "2023-07-23T23:05:50.372Z"
   },
   {
    "duration": 50,
    "start_time": "2023-07-23T23:05:50.378Z"
   },
   {
    "duration": 7,
    "start_time": "2023-07-23T23:05:50.430Z"
   },
   {
    "duration": 13,
    "start_time": "2023-07-23T23:05:50.438Z"
   },
   {
    "duration": 4,
    "start_time": "2023-07-23T23:05:50.453Z"
   },
   {
    "duration": 14,
    "start_time": "2023-07-23T23:05:50.458Z"
   },
   {
    "duration": 6,
    "start_time": "2023-07-23T23:05:50.474Z"
   },
   {
    "duration": 19,
    "start_time": "2023-07-23T23:05:50.482Z"
   },
   {
    "duration": 233,
    "start_time": "2023-07-23T23:05:50.502Z"
   },
   {
    "duration": 218,
    "start_time": "2023-07-23T23:05:50.737Z"
   },
   {
    "duration": 242,
    "start_time": "2023-07-23T23:05:50.957Z"
   },
   {
    "duration": 178,
    "start_time": "2023-07-23T23:05:51.201Z"
   },
   {
    "duration": 185,
    "start_time": "2023-07-23T23:05:51.381Z"
   },
   {
    "duration": 4,
    "start_time": "2023-07-23T23:05:51.568Z"
   },
   {
    "duration": 40,
    "start_time": "2023-07-23T23:05:51.574Z"
   },
   {
    "duration": 17,
    "start_time": "2023-07-23T23:05:51.616Z"
   },
   {
    "duration": 11,
    "start_time": "2023-07-23T23:05:51.635Z"
   },
   {
    "duration": 132,
    "start_time": "2023-07-23T23:07:59.936Z"
   },
   {
    "duration": 4,
    "start_time": "2023-07-23T23:08:12.817Z"
   },
   {
    "duration": 4,
    "start_time": "2023-07-23T23:08:15.487Z"
   },
   {
    "duration": 70,
    "start_time": "2023-07-23T23:08:15.492Z"
   },
   {
    "duration": 10,
    "start_time": "2023-07-23T23:08:15.564Z"
   },
   {
    "duration": 7,
    "start_time": "2023-07-23T23:08:15.575Z"
   },
   {
    "duration": 17,
    "start_time": "2023-07-23T23:08:15.584Z"
   },
   {
    "duration": 31,
    "start_time": "2023-07-23T23:08:15.602Z"
   },
   {
    "duration": 29,
    "start_time": "2023-07-23T23:08:15.634Z"
   },
   {
    "duration": 324,
    "start_time": "2023-07-23T23:08:15.665Z"
   },
   {
    "duration": 232,
    "start_time": "2023-07-23T23:08:15.991Z"
   },
   {
    "duration": 231,
    "start_time": "2023-07-23T23:08:16.224Z"
   },
   {
    "duration": 176,
    "start_time": "2023-07-23T23:08:16.457Z"
   },
   {
    "duration": 181,
    "start_time": "2023-07-23T23:08:16.635Z"
   },
   {
    "duration": 4,
    "start_time": "2023-07-23T23:08:16.817Z"
   },
   {
    "duration": 53,
    "start_time": "2023-07-23T23:08:16.824Z"
   },
   {
    "duration": 14,
    "start_time": "2023-07-23T23:08:16.878Z"
   },
   {
    "duration": 3074,
    "start_time": "2023-07-23T23:08:16.894Z"
   },
   {
    "duration": 120,
    "start_time": "2023-07-23T23:08:48.799Z"
   },
   {
    "duration": 49190,
    "start_time": "2023-07-23T23:08:54.823Z"
   },
   {
    "duration": 117,
    "start_time": "2023-07-23T23:09:55.271Z"
   },
   {
    "duration": 4,
    "start_time": "2023-07-23T23:10:11.963Z"
   },
   {
    "duration": 143,
    "start_time": "2023-07-23T23:10:16.025Z"
   },
   {
    "duration": 93895,
    "start_time": "2023-07-23T23:10:20.634Z"
   },
   {
    "duration": 122,
    "start_time": "2023-07-23T23:12:30.051Z"
   },
   {
    "duration": 4,
    "start_time": "2023-07-23T23:12:44.011Z"
   },
   {
    "duration": 15,
    "start_time": "2023-07-23T23:12:48.125Z"
   },
   {
    "duration": 8,
    "start_time": "2023-07-23T23:12:50.771Z"
   },
   {
    "duration": 5,
    "start_time": "2023-07-23T23:12:53.184Z"
   },
   {
    "duration": 132,
    "start_time": "2023-07-23T23:13:18.217Z"
   },
   {
    "duration": 3156,
    "start_time": "2023-07-23T23:13:32.691Z"
   },
   {
    "duration": 16,
    "start_time": "2023-07-23T23:13:37.639Z"
   },
   {
    "duration": 6,
    "start_time": "2023-07-23T23:13:41.933Z"
   },
   {
    "duration": 2079,
    "start_time": "2023-07-23T23:13:57.042Z"
   },
   {
    "duration": 13,
    "start_time": "2023-07-23T23:14:05.894Z"
   },
   {
    "duration": 5,
    "start_time": "2023-07-23T23:14:11.194Z"
   },
   {
    "duration": 17,
    "start_time": "2023-07-23T23:14:32.506Z"
   },
   {
    "duration": 2392,
    "start_time": "2023-07-23T23:15:35.133Z"
   },
   {
    "duration": 10,
    "start_time": "2023-07-23T23:15:54.548Z"
   },
   {
    "duration": 5,
    "start_time": "2023-07-23T23:16:14.830Z"
   },
   {
    "duration": 12,
    "start_time": "2023-07-23T23:16:55.532Z"
   },
   {
    "duration": 5,
    "start_time": "2023-07-23T23:16:57.045Z"
   },
   {
    "duration": 6,
    "start_time": "2023-07-23T23:17:09.572Z"
   },
   {
    "duration": 2168,
    "start_time": "2023-07-23T23:17:16.156Z"
   },
   {
    "duration": 11,
    "start_time": "2023-07-23T23:17:18.861Z"
   },
   {
    "duration": 5,
    "start_time": "2023-07-23T23:17:20.893Z"
   },
   {
    "duration": 4,
    "start_time": "2023-07-23T23:18:07.080Z"
   },
   {
    "duration": 69,
    "start_time": "2023-07-23T23:18:07.086Z"
   },
   {
    "duration": 9,
    "start_time": "2023-07-23T23:18:07.157Z"
   },
   {
    "duration": 14,
    "start_time": "2023-07-23T23:18:07.167Z"
   },
   {
    "duration": 16,
    "start_time": "2023-07-23T23:18:07.183Z"
   },
   {
    "duration": 7,
    "start_time": "2023-07-23T23:18:07.201Z"
   },
   {
    "duration": 6,
    "start_time": "2023-07-23T23:18:07.210Z"
   },
   {
    "duration": 220,
    "start_time": "2023-07-23T23:18:07.218Z"
   },
   {
    "duration": 217,
    "start_time": "2023-07-23T23:18:07.440Z"
   },
   {
    "duration": 334,
    "start_time": "2023-07-23T23:18:07.659Z"
   },
   {
    "duration": 171,
    "start_time": "2023-07-23T23:18:07.994Z"
   },
   {
    "duration": 175,
    "start_time": "2023-07-23T23:18:08.168Z"
   },
   {
    "duration": 4,
    "start_time": "2023-07-23T23:18:08.346Z"
   },
   {
    "duration": 38,
    "start_time": "2023-07-23T23:18:08.351Z"
   },
   {
    "duration": 23,
    "start_time": "2023-07-23T23:18:08.390Z"
   },
   {
    "duration": 2965,
    "start_time": "2023-07-23T23:18:08.415Z"
   },
   {
    "duration": 51413,
    "start_time": "2023-07-23T23:18:11.382Z"
   },
   {
    "duration": 79429,
    "start_time": "2023-07-23T23:19:02.797Z"
   },
   {
    "duration": 90,
    "start_time": "2023-07-23T23:20:22.228Z"
   },
   {
    "duration": 8,
    "start_time": "2023-07-23T23:20:22.320Z"
   },
   {
    "duration": 47,
    "start_time": "2023-07-23T23:20:22.329Z"
   },
   {
    "duration": 3297,
    "start_time": "2023-07-23T23:20:22.378Z"
   },
   {
    "duration": 7,
    "start_time": "2023-07-23T23:20:25.676Z"
   },
   {
    "duration": 12,
    "start_time": "2023-07-23T23:20:25.685Z"
   },
   {
    "duration": 2317,
    "start_time": "2023-07-23T23:20:25.698Z"
   },
   {
    "duration": 12,
    "start_time": "2023-07-23T23:20:28.017Z"
   },
   {
    "duration": 18,
    "start_time": "2023-07-23T23:20:28.030Z"
   },
   {
    "duration": 33,
    "start_time": "2023-07-23T23:20:28.050Z"
   },
   {
    "duration": 3545,
    "start_time": "2023-07-23T23:20:28.085Z"
   },
   {
    "duration": 85,
    "start_time": "2023-07-23T23:20:31.632Z"
   },
   {
    "duration": 17,
    "start_time": "2023-07-23T23:20:31.719Z"
   },
   {
    "duration": 2645,
    "start_time": "2023-07-23T23:26:06.906Z"
   },
   {
    "duration": 53,
    "start_time": "2023-07-23T23:26:09.553Z"
   },
   {
    "duration": 15,
    "start_time": "2023-07-23T23:26:09.608Z"
   },
   {
    "duration": 8,
    "start_time": "2023-07-23T23:26:09.625Z"
   },
   {
    "duration": 10,
    "start_time": "2023-07-23T23:26:09.637Z"
   },
   {
    "duration": 64,
    "start_time": "2023-07-23T23:26:09.649Z"
   },
   {
    "duration": 10,
    "start_time": "2023-07-23T23:26:09.716Z"
   },
   {
    "duration": 524,
    "start_time": "2023-07-23T23:26:09.728Z"
   },
   {
    "duration": 595,
    "start_time": "2023-07-23T23:26:10.254Z"
   },
   {
    "duration": 478,
    "start_time": "2023-07-23T23:26:10.851Z"
   },
   {
    "duration": 391,
    "start_time": "2023-07-23T23:26:11.331Z"
   },
   {
    "duration": 340,
    "start_time": "2023-07-23T23:26:11.724Z"
   },
   {
    "duration": 48,
    "start_time": "2023-07-23T23:26:12.066Z"
   },
   {
    "duration": 37,
    "start_time": "2023-07-23T23:26:12.118Z"
   },
   {
    "duration": 68,
    "start_time": "2023-07-23T23:26:12.157Z"
   },
   {
    "duration": 5016,
    "start_time": "2023-07-23T23:26:12.227Z"
   },
   {
    "duration": 137185,
    "start_time": "2023-07-23T23:26:17.245Z"
   },
   {
    "duration": 81,
    "start_time": "2023-07-24T01:12:59.599Z"
   },
   {
    "duration": 6,
    "start_time": "2023-07-24T01:13:06.385Z"
   },
   {
    "duration": 2096,
    "start_time": "2023-07-24T01:13:09.442Z"
   },
   {
    "duration": 148,
    "start_time": "2023-07-24T01:13:11.541Z"
   },
   {
    "duration": 12,
    "start_time": "2023-07-24T01:13:12.764Z"
   },
   {
    "duration": 15,
    "start_time": "2023-07-24T01:13:14.435Z"
   },
   {
    "duration": 215,
    "start_time": "2023-07-24T01:16:29.726Z"
   },
   {
    "duration": 19,
    "start_time": "2023-07-24T01:16:34.468Z"
   },
   {
    "duration": 9,
    "start_time": "2023-07-24T01:16:56.063Z"
   },
   {
    "duration": 10,
    "start_time": "2023-07-24T01:16:58.389Z"
   },
   {
    "duration": 322,
    "start_time": "2023-07-24T01:17:00.464Z"
   },
   {
    "duration": 336,
    "start_time": "2023-07-24T01:17:04.088Z"
   },
   {
    "duration": 233,
    "start_time": "2023-07-24T01:18:51.157Z"
   },
   {
    "duration": 304,
    "start_time": "2023-07-24T01:19:00.017Z"
   },
   {
    "duration": 250,
    "start_time": "2023-07-24T01:19:04.815Z"
   },
   {
    "duration": 265,
    "start_time": "2023-07-24T01:19:32.315Z"
   },
   {
    "duration": 220,
    "start_time": "2023-07-24T01:19:46.620Z"
   },
   {
    "duration": 344,
    "start_time": "2023-07-24T01:19:50.349Z"
   },
   {
    "duration": 5,
    "start_time": "2023-07-24T01:20:06.291Z"
   },
   {
    "duration": 27,
    "start_time": "2023-07-24T01:20:07.831Z"
   },
   {
    "duration": 46,
    "start_time": "2023-07-24T01:20:19.283Z"
   },
   {
    "duration": 266,
    "start_time": "2023-07-24T01:23:42.993Z"
   },
   {
    "duration": 188,
    "start_time": "2023-07-24T01:25:06.848Z"
   },
   {
    "duration": 289,
    "start_time": "2023-07-24T01:25:22.620Z"
   },
   {
    "duration": 5,
    "start_time": "2023-07-24T01:28:33.929Z"
   },
   {
    "duration": 21,
    "start_time": "2023-07-24T01:28:35.968Z"
   },
   {
    "duration": 10,
    "start_time": "2023-07-24T01:28:38.064Z"
   },
   {
    "duration": 6,
    "start_time": "2023-07-24T01:28:39.978Z"
   },
   {
    "duration": 5,
    "start_time": "2023-07-24T01:28:57.022Z"
   },
   {
    "duration": 15,
    "start_time": "2023-07-24T01:29:11.323Z"
   },
   {
    "duration": 10,
    "start_time": "2023-07-24T01:29:13.094Z"
   },
   {
    "duration": 2041,
    "start_time": "2023-07-24T01:34:32.965Z"
   },
   {
    "duration": 114,
    "start_time": "2023-07-24T01:34:35.014Z"
   },
   {
    "duration": 18,
    "start_time": "2023-07-24T01:34:35.131Z"
   },
   {
    "duration": 65,
    "start_time": "2023-07-24T01:34:35.153Z"
   },
   {
    "duration": 7,
    "start_time": "2023-07-24T01:34:35.221Z"
   },
   {
    "duration": 19,
    "start_time": "2023-07-24T01:34:35.230Z"
   },
   {
    "duration": 65,
    "start_time": "2023-07-24T01:34:35.251Z"
   },
   {
    "duration": 29,
    "start_time": "2023-07-24T01:34:35.319Z"
   },
   {
    "duration": 955,
    "start_time": "2023-07-24T01:34:35.350Z"
   },
   {
    "duration": 584,
    "start_time": "2023-07-24T01:34:36.312Z"
   },
   {
    "duration": 224,
    "start_time": "2023-07-24T01:34:36.898Z"
   },
   {
    "duration": 211,
    "start_time": "2023-07-24T01:34:37.129Z"
   },
   {
    "duration": 206,
    "start_time": "2023-07-24T01:34:37.342Z"
   },
   {
    "duration": 5,
    "start_time": "2023-07-24T01:34:37.551Z"
   },
   {
    "duration": 66,
    "start_time": "2023-07-24T01:34:37.559Z"
   },
   {
    "duration": 13,
    "start_time": "2023-07-24T01:34:37.628Z"
   },
   {
    "duration": 7,
    "start_time": "2023-07-24T01:34:37.643Z"
   },
   {
    "duration": 3733,
    "start_time": "2023-07-24T01:34:37.653Z"
   },
   {
    "duration": 65636,
    "start_time": "2023-07-24T01:34:41.389Z"
   },
   {
    "duration": 2781,
    "start_time": "2023-07-24T01:58:33.738Z"
   },
   {
    "duration": 107,
    "start_time": "2023-07-24T01:58:36.522Z"
   },
   {
    "duration": 66,
    "start_time": "2023-07-24T01:58:36.638Z"
   },
   {
    "duration": 63,
    "start_time": "2023-07-24T01:58:36.707Z"
   },
   {
    "duration": 6,
    "start_time": "2023-07-24T01:58:36.774Z"
   },
   {
    "duration": 11,
    "start_time": "2023-07-24T01:58:36.782Z"
   },
   {
    "duration": 15,
    "start_time": "2023-07-24T01:58:36.795Z"
   },
   {
    "duration": 52,
    "start_time": "2023-07-24T01:58:36.813Z"
   },
   {
    "duration": 302,
    "start_time": "2023-07-24T01:58:36.867Z"
   },
   {
    "duration": 374,
    "start_time": "2023-07-24T01:58:37.172Z"
   },
   {
    "duration": 196,
    "start_time": "2023-07-24T01:58:37.554Z"
   },
   {
    "duration": 211,
    "start_time": "2023-07-24T01:58:37.754Z"
   },
   {
    "duration": 191,
    "start_time": "2023-07-24T01:58:37.966Z"
   },
   {
    "duration": 3,
    "start_time": "2023-07-24T01:58:38.160Z"
   },
   {
    "duration": 44,
    "start_time": "2023-07-24T01:58:38.165Z"
   },
   {
    "duration": 49,
    "start_time": "2023-07-24T01:58:38.210Z"
   },
   {
    "duration": 22,
    "start_time": "2023-07-24T01:58:38.260Z"
   },
   {
    "duration": 3724,
    "start_time": "2023-07-24T01:58:38.283Z"
   },
   {
    "duration": 59456,
    "start_time": "2023-07-24T01:58:42.008Z"
   },
   {
    "duration": 1722,
    "start_time": "2023-07-24T13:17:53.726Z"
   },
   {
    "duration": 63,
    "start_time": "2023-07-24T13:17:55.453Z"
   },
   {
    "duration": 13,
    "start_time": "2023-07-24T13:17:55.519Z"
   },
   {
    "duration": 11,
    "start_time": "2023-07-24T13:17:55.535Z"
   },
   {
    "duration": 8,
    "start_time": "2023-07-24T13:17:55.548Z"
   },
   {
    "duration": 21,
    "start_time": "2023-07-24T13:17:55.561Z"
   },
   {
    "duration": 16,
    "start_time": "2023-07-24T13:17:55.584Z"
   },
   {
    "duration": 21,
    "start_time": "2023-07-24T13:17:55.602Z"
   },
   {
    "duration": 292,
    "start_time": "2023-07-24T13:17:55.625Z"
   },
   {
    "duration": 344,
    "start_time": "2023-07-24T13:17:55.921Z"
   },
   {
    "duration": 207,
    "start_time": "2023-07-24T13:17:56.267Z"
   },
   {
    "duration": 208,
    "start_time": "2023-07-24T13:17:56.476Z"
   },
   {
    "duration": 197,
    "start_time": "2023-07-24T13:17:56.686Z"
   },
   {
    "duration": 4,
    "start_time": "2023-07-24T13:17:56.885Z"
   },
   {
    "duration": 38,
    "start_time": "2023-07-24T13:17:56.891Z"
   },
   {
    "duration": 22,
    "start_time": "2023-07-24T13:17:56.931Z"
   },
   {
    "duration": 7,
    "start_time": "2023-07-24T13:17:56.955Z"
   },
   {
    "duration": 3818,
    "start_time": "2023-07-24T13:17:56.964Z"
   },
   {
    "duration": 67543,
    "start_time": "2023-07-24T13:18:00.784Z"
   },
   {
    "duration": 1929,
    "start_time": "2023-07-24T13:26:53.571Z"
   },
   {
    "duration": 50,
    "start_time": "2023-07-24T13:26:55.503Z"
   },
   {
    "duration": 15,
    "start_time": "2023-07-24T13:26:55.558Z"
   },
   {
    "duration": 13,
    "start_time": "2023-07-24T13:26:55.576Z"
   },
   {
    "duration": 6,
    "start_time": "2023-07-24T13:26:55.591Z"
   },
   {
    "duration": 18,
    "start_time": "2023-07-24T13:26:55.598Z"
   },
   {
    "duration": 11,
    "start_time": "2023-07-24T13:26:55.618Z"
   },
   {
    "duration": 28,
    "start_time": "2023-07-24T13:26:55.631Z"
   },
   {
    "duration": 281,
    "start_time": "2023-07-24T13:26:55.662Z"
   },
   {
    "duration": 351,
    "start_time": "2023-07-24T13:26:55.951Z"
   },
   {
    "duration": 208,
    "start_time": "2023-07-24T13:26:56.304Z"
   },
   {
    "duration": 210,
    "start_time": "2023-07-24T13:26:56.514Z"
   },
   {
    "duration": 206,
    "start_time": "2023-07-24T13:26:56.726Z"
   },
   {
    "duration": 4,
    "start_time": "2023-07-24T13:26:56.934Z"
   },
   {
    "duration": 55,
    "start_time": "2023-07-24T13:26:56.953Z"
   },
   {
    "duration": 17,
    "start_time": "2023-07-24T13:26:57.011Z"
   },
   {
    "duration": 18,
    "start_time": "2023-07-24T13:26:57.031Z"
   },
   {
    "duration": 3832,
    "start_time": "2023-07-24T13:26:57.051Z"
   },
   {
    "duration": 67012,
    "start_time": "2023-07-24T13:27:00.885Z"
   },
   {
    "duration": 60546,
    "start_time": "2023-07-24T13:28:07.899Z"
   },
   {
    "duration": 33,
    "start_time": "2023-07-24T13:29:08.448Z"
   },
   {
    "duration": 36,
    "start_time": "2023-07-24T13:29:08.483Z"
   },
   {
    "duration": 12,
    "start_time": "2023-07-24T13:29:08.521Z"
   },
   {
    "duration": 3569,
    "start_time": "2023-07-24T13:29:08.535Z"
   },
   {
    "duration": 7,
    "start_time": "2023-07-24T13:29:12.105Z"
   },
   {
    "duration": 7,
    "start_time": "2023-07-24T13:29:12.114Z"
   },
   {
    "duration": 1047,
    "start_time": "2023-07-24T13:29:12.123Z"
   },
   {
    "duration": 17,
    "start_time": "2023-07-24T13:29:13.174Z"
   },
   {
    "duration": 18,
    "start_time": "2023-07-24T13:29:13.193Z"
   },
   {
    "duration": 25,
    "start_time": "2023-07-24T13:29:13.213Z"
   },
   {
    "duration": 1802,
    "start_time": "2023-07-24T13:31:49.052Z"
   },
   {
    "duration": 58,
    "start_time": "2023-07-24T13:31:50.857Z"
   },
   {
    "duration": 17,
    "start_time": "2023-07-24T13:31:50.921Z"
   },
   {
    "duration": 21,
    "start_time": "2023-07-24T13:31:50.941Z"
   },
   {
    "duration": 30,
    "start_time": "2023-07-24T13:31:50.964Z"
   },
   {
    "duration": 13,
    "start_time": "2023-07-24T13:31:50.996Z"
   },
   {
    "duration": 25,
    "start_time": "2023-07-24T13:31:51.011Z"
   },
   {
    "duration": 11,
    "start_time": "2023-07-24T13:31:51.038Z"
   },
   {
    "duration": 358,
    "start_time": "2023-07-24T13:31:51.051Z"
   },
   {
    "duration": 343,
    "start_time": "2023-07-24T13:31:51.412Z"
   },
   {
    "duration": 198,
    "start_time": "2023-07-24T13:31:51.757Z"
   },
   {
    "duration": 208,
    "start_time": "2023-07-24T13:31:51.957Z"
   },
   {
    "duration": 200,
    "start_time": "2023-07-24T13:31:52.167Z"
   },
   {
    "duration": 6,
    "start_time": "2023-07-24T13:31:52.369Z"
   },
   {
    "duration": 48,
    "start_time": "2023-07-24T13:31:52.377Z"
   },
   {
    "duration": 11,
    "start_time": "2023-07-24T13:31:52.427Z"
   },
   {
    "duration": 13,
    "start_time": "2023-07-24T13:31:52.440Z"
   },
   {
    "duration": 3780,
    "start_time": "2023-07-24T13:31:52.455Z"
   },
   {
    "duration": 65948,
    "start_time": "2023-07-24T13:31:56.237Z"
   },
   {
    "duration": 101423,
    "start_time": "2023-07-24T13:33:02.187Z"
   },
   {
    "duration": 26,
    "start_time": "2023-07-24T13:34:43.611Z"
   },
   {
    "duration": 21,
    "start_time": "2023-07-24T13:34:43.638Z"
   },
   {
    "duration": 32,
    "start_time": "2023-07-24T13:34:43.661Z"
   },
   {
    "duration": 5301,
    "start_time": "2023-07-24T13:34:43.696Z"
   },
   {
    "duration": 10,
    "start_time": "2023-07-24T13:34:49.004Z"
   },
   {
    "duration": 33,
    "start_time": "2023-07-24T13:34:49.017Z"
   },
   {
    "duration": 1638,
    "start_time": "2023-07-24T13:34:49.058Z"
   },
   {
    "duration": 22,
    "start_time": "2023-07-24T13:34:50.699Z"
   },
   {
    "duration": 5,
    "start_time": "2023-07-24T13:34:50.723Z"
   },
   {
    "duration": 37,
    "start_time": "2023-07-24T13:34:50.730Z"
   },
   {
    "duration": 1720,
    "start_time": "2023-07-24T14:19:19.020Z"
   },
   {
    "duration": 50,
    "start_time": "2023-07-24T14:19:20.742Z"
   },
   {
    "duration": 12,
    "start_time": "2023-07-24T14:19:20.794Z"
   },
   {
    "duration": 16,
    "start_time": "2023-07-24T14:19:20.809Z"
   },
   {
    "duration": 35,
    "start_time": "2023-07-24T14:19:20.828Z"
   },
   {
    "duration": 22,
    "start_time": "2023-07-24T14:19:20.866Z"
   },
   {
    "duration": 32,
    "start_time": "2023-07-24T14:19:20.890Z"
   },
   {
    "duration": 10,
    "start_time": "2023-07-24T14:19:20.924Z"
   },
   {
    "duration": 288,
    "start_time": "2023-07-24T14:19:20.936Z"
   },
   {
    "duration": 332,
    "start_time": "2023-07-24T14:19:21.226Z"
   },
   {
    "duration": 202,
    "start_time": "2023-07-24T14:19:21.560Z"
   },
   {
    "duration": 210,
    "start_time": "2023-07-24T14:19:21.764Z"
   },
   {
    "duration": 196,
    "start_time": "2023-07-24T14:19:21.976Z"
   },
   {
    "duration": 5,
    "start_time": "2023-07-24T14:19:22.175Z"
   },
   {
    "duration": 36,
    "start_time": "2023-07-24T14:19:22.181Z"
   },
   {
    "duration": 11,
    "start_time": "2023-07-24T14:19:22.219Z"
   },
   {
    "duration": 4,
    "start_time": "2023-07-24T14:19:22.252Z"
   },
   {
    "duration": 3613,
    "start_time": "2023-07-24T14:19:22.258Z"
   },
   {
    "duration": 61631,
    "start_time": "2023-07-24T14:19:25.873Z"
   },
   {
    "duration": 93921,
    "start_time": "2023-07-24T14:20:27.506Z"
   },
   {
    "duration": 30,
    "start_time": "2023-07-24T14:22:01.436Z"
   },
   {
    "duration": 16,
    "start_time": "2023-07-24T14:22:01.468Z"
   },
   {
    "duration": 56,
    "start_time": "2023-07-24T14:22:01.486Z"
   },
   {
    "duration": 3493,
    "start_time": "2023-07-24T14:22:01.543Z"
   },
   {
    "duration": 7,
    "start_time": "2023-07-24T14:22:05.037Z"
   },
   {
    "duration": 11,
    "start_time": "2023-07-24T14:22:05.046Z"
   },
   {
    "duration": 1395,
    "start_time": "2023-07-24T14:22:05.058Z"
   },
   {
    "duration": 20,
    "start_time": "2023-07-24T14:22:06.454Z"
   },
   {
    "duration": 61,
    "start_time": "2023-07-24T14:22:06.476Z"
   },
   {
    "duration": 30,
    "start_time": "2023-07-24T14:22:06.539Z"
   },
   {
    "duration": 1815,
    "start_time": "2023-07-24T19:17:24.616Z"
   },
   {
    "duration": 208,
    "start_time": "2023-07-24T19:17:26.433Z"
   },
   {
    "duration": 15,
    "start_time": "2023-07-24T19:17:26.643Z"
   },
   {
    "duration": 37,
    "start_time": "2023-07-24T19:17:26.660Z"
   },
   {
    "duration": 17,
    "start_time": "2023-07-24T19:17:26.698Z"
   },
   {
    "duration": 13,
    "start_time": "2023-07-24T19:17:26.716Z"
   },
   {
    "duration": 14,
    "start_time": "2023-07-24T19:17:26.730Z"
   },
   {
    "duration": 28,
    "start_time": "2023-07-24T19:17:26.746Z"
   },
   {
    "duration": 291,
    "start_time": "2023-07-24T19:17:26.776Z"
   },
   {
    "duration": 332,
    "start_time": "2023-07-24T19:17:27.070Z"
   },
   {
    "duration": 207,
    "start_time": "2023-07-24T19:17:27.403Z"
   },
   {
    "duration": 204,
    "start_time": "2023-07-24T19:17:27.612Z"
   },
   {
    "duration": 191,
    "start_time": "2023-07-24T19:17:27.817Z"
   },
   {
    "duration": 6,
    "start_time": "2023-07-24T19:17:28.010Z"
   },
   {
    "duration": 79,
    "start_time": "2023-07-24T19:17:28.018Z"
   },
   {
    "duration": 13,
    "start_time": "2023-07-24T19:17:28.100Z"
   },
   {
    "duration": 6,
    "start_time": "2023-07-24T19:17:28.114Z"
   },
   {
    "duration": 10062,
    "start_time": "2023-07-24T19:17:28.122Z"
   },
   {
    "duration": 131532,
    "start_time": "2023-07-24T19:17:38.186Z"
   },
   {
    "duration": 263927,
    "start_time": "2023-07-24T19:19:49.719Z"
   },
   {
    "duration": 50,
    "start_time": "2023-07-24T19:24:13.647Z"
   },
   {
    "duration": 10,
    "start_time": "2023-07-24T19:24:13.700Z"
   },
   {
    "duration": 6,
    "start_time": "2023-07-24T19:24:13.711Z"
   },
   {
    "duration": 9082,
    "start_time": "2023-07-24T19:24:13.719Z"
   },
   {
    "duration": 8,
    "start_time": "2023-07-24T19:24:22.803Z"
   },
   {
    "duration": 144,
    "start_time": "2023-07-24T19:24:22.813Z"
   },
   {
    "duration": 4716,
    "start_time": "2023-07-24T19:24:22.962Z"
   },
   {
    "duration": 28,
    "start_time": "2023-07-24T19:24:27.683Z"
   },
   {
    "duration": 5,
    "start_time": "2023-07-24T19:24:27.713Z"
   },
   {
    "duration": 44,
    "start_time": "2023-07-24T19:24:27.720Z"
   },
   {
    "duration": 253,
    "start_time": "2023-07-24T19:26:42.911Z"
   },
   {
    "duration": 4,
    "start_time": "2023-07-24T19:27:02.184Z"
   },
   {
    "duration": 5896,
    "start_time": "2023-07-24T19:27:05.890Z"
   },
   {
    "duration": 11631,
    "start_time": "2023-07-24T19:28:42.897Z"
   },
   {
    "duration": 23120,
    "start_time": "2023-07-24T19:29:56.492Z"
   },
   {
    "duration": 35485,
    "start_time": "2023-07-24T19:30:28.462Z"
   },
   {
    "duration": 17883,
    "start_time": "2023-07-24T19:32:04.135Z"
   },
   {
    "duration": 28,
    "start_time": "2023-07-24T19:35:57.715Z"
   },
   {
    "duration": 8,
    "start_time": "2023-07-24T19:36:00.404Z"
   },
   {
    "duration": 11521,
    "start_time": "2023-07-24T19:36:05.284Z"
   },
   {
    "duration": 9,
    "start_time": "2023-07-24T19:36:16.807Z"
   },
   {
    "duration": 29,
    "start_time": "2023-07-24T19:36:16.818Z"
   },
   {
    "duration": 16,
    "start_time": "2023-07-24T19:36:30.531Z"
   },
   {
    "duration": 12,
    "start_time": "2023-07-24T19:37:47.239Z"
   },
   {
    "duration": 302,
    "start_time": "2023-07-24T19:38:04.364Z"
   },
   {
    "duration": 238,
    "start_time": "2023-07-24T19:38:52.206Z"
   },
   {
    "duration": 209,
    "start_time": "2023-07-24T19:39:02.792Z"
   },
   {
    "duration": 209,
    "start_time": "2023-07-24T19:40:00.513Z"
   },
   {
    "duration": 271,
    "start_time": "2023-07-24T19:40:08.810Z"
   },
   {
    "duration": 208,
    "start_time": "2023-07-24T19:40:39.107Z"
   },
   {
    "duration": 299,
    "start_time": "2023-07-24T19:41:12.264Z"
   },
   {
    "duration": 224,
    "start_time": "2023-07-24T19:41:24.426Z"
   },
   {
    "duration": 203,
    "start_time": "2023-07-24T19:41:32.931Z"
   },
   {
    "duration": 222,
    "start_time": "2023-07-24T19:41:44.644Z"
   },
   {
    "duration": 249,
    "start_time": "2023-07-24T19:41:58.291Z"
   },
   {
    "duration": 199,
    "start_time": "2023-07-24T19:42:26.503Z"
   },
   {
    "duration": 145,
    "start_time": "2023-07-24T19:46:54.428Z"
   },
   {
    "duration": 1747,
    "start_time": "2023-07-24T19:52:23.958Z"
   },
   {
    "duration": 50,
    "start_time": "2023-07-24T19:52:25.707Z"
   },
   {
    "duration": 12,
    "start_time": "2023-07-24T19:52:25.759Z"
   },
   {
    "duration": 12,
    "start_time": "2023-07-24T19:52:25.773Z"
   },
   {
    "duration": 14,
    "start_time": "2023-07-24T19:52:25.787Z"
   },
   {
    "duration": 15,
    "start_time": "2023-07-24T19:52:25.802Z"
   },
   {
    "duration": 12,
    "start_time": "2023-07-24T19:52:25.820Z"
   },
   {
    "duration": 22,
    "start_time": "2023-07-24T19:52:25.834Z"
   },
   {
    "duration": 266,
    "start_time": "2023-07-24T19:52:25.858Z"
   },
   {
    "duration": 325,
    "start_time": "2023-07-24T19:52:26.128Z"
   },
   {
    "duration": 216,
    "start_time": "2023-07-24T19:52:26.456Z"
   },
   {
    "duration": 193,
    "start_time": "2023-07-24T19:52:26.674Z"
   },
   {
    "duration": 191,
    "start_time": "2023-07-24T19:52:26.869Z"
   },
   {
    "duration": 6,
    "start_time": "2023-07-24T19:52:27.062Z"
   },
   {
    "duration": 51,
    "start_time": "2023-07-24T19:52:27.070Z"
   },
   {
    "duration": 29,
    "start_time": "2023-07-24T19:52:27.123Z"
   },
   {
    "duration": 5,
    "start_time": "2023-07-24T19:52:27.154Z"
   },
   {
    "duration": 16628,
    "start_time": "2023-07-24T19:52:27.161Z"
   },
   {
    "duration": 297868,
    "start_time": "2023-07-24T19:52:43.792Z"
   },
   {
    "duration": 464754,
    "start_time": "2023-07-24T19:57:41.663Z"
   },
   {
    "duration": 8422,
    "start_time": "2023-07-24T20:05:26.419Z"
   },
   {
    "duration": 324,
    "start_time": "2023-07-24T20:05:34.843Z"
   },
   {
    "duration": 243,
    "start_time": "2023-07-24T20:05:35.169Z"
   },
   {
    "duration": 223,
    "start_time": "2023-07-24T20:05:35.414Z"
   },
   {
    "duration": 8005,
    "start_time": "2023-07-24T20:06:33.884Z"
   },
   {
    "duration": 241,
    "start_time": "2023-07-24T20:07:47.509Z"
   },
   {
    "duration": 1953,
    "start_time": "2023-07-24T20:08:03.218Z"
   },
   {
    "duration": 93,
    "start_time": "2023-07-24T20:08:05.174Z"
   },
   {
    "duration": 12,
    "start_time": "2023-07-24T20:08:05.269Z"
   },
   {
    "duration": 86,
    "start_time": "2023-07-24T20:08:05.282Z"
   },
   {
    "duration": 35,
    "start_time": "2023-07-24T20:08:05.370Z"
   },
   {
    "duration": 50,
    "start_time": "2023-07-24T20:08:05.407Z"
   },
   {
    "duration": 12,
    "start_time": "2023-07-24T20:08:05.459Z"
   },
   {
    "duration": 31,
    "start_time": "2023-07-24T20:08:05.474Z"
   },
   {
    "duration": 613,
    "start_time": "2023-07-24T20:08:05.551Z"
   },
   {
    "duration": 479,
    "start_time": "2023-07-24T20:08:06.167Z"
   },
   {
    "duration": 212,
    "start_time": "2023-07-24T20:08:06.648Z"
   },
   {
    "duration": 195,
    "start_time": "2023-07-24T20:08:06.862Z"
   },
   {
    "duration": 211,
    "start_time": "2023-07-24T20:08:07.060Z"
   },
   {
    "duration": 6,
    "start_time": "2023-07-24T20:08:07.274Z"
   },
   {
    "duration": 80,
    "start_time": "2023-07-24T20:08:07.282Z"
   },
   {
    "duration": 16,
    "start_time": "2023-07-24T20:08:07.364Z"
   },
   {
    "duration": 8,
    "start_time": "2023-07-24T20:08:07.382Z"
   },
   {
    "duration": 17040,
    "start_time": "2023-07-24T20:08:07.392Z"
   },
   {
    "duration": 288124,
    "start_time": "2023-07-24T20:08:24.435Z"
   },
   {
    "duration": 443389,
    "start_time": "2023-07-24T20:13:12.560Z"
   },
   {
    "duration": 7426,
    "start_time": "2023-07-24T20:20:35.952Z"
   },
   {
    "duration": 271,
    "start_time": "2023-07-24T20:20:43.380Z"
   },
   {
    "duration": 217,
    "start_time": "2023-07-24T20:20:43.653Z"
   },
   {
    "duration": 214,
    "start_time": "2023-07-24T20:20:43.872Z"
   }
  ],
  "kernelspec": {
   "display_name": "Python 3 (ipykernel)",
   "language": "python",
   "name": "python3"
  },
  "language_info": {
   "codemirror_mode": {
    "name": "ipython",
    "version": 3
   },
   "file_extension": ".py",
   "mimetype": "text/x-python",
   "name": "python",
   "nbconvert_exporter": "python",
   "pygments_lexer": "ipython3",
   "version": "3.11.5"
  },
  "toc": {
   "base_numbering": 1,
   "nav_menu": {},
   "number_sections": true,
   "sideBar": true,
   "skip_h1_title": true,
   "title_cell": "Contents",
   "title_sidebar": "Contents",
   "toc_cell": true,
   "toc_position": {
    "height": "calc(100% - 180px)",
    "left": "10px",
    "top": "150px",
    "width": "165px"
   },
   "toc_section_display": true,
   "toc_window_display": false
  }
 },
 "nbformat": 4,
 "nbformat_minor": 2
}
