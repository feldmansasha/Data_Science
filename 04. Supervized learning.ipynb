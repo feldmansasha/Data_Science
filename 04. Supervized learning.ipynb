{
 "cells": [
  {
   "cell_type": "markdown",
   "metadata": {
    "toc": true
   },
   "source": [
    "<h1>Содержание<span class=\"tocSkip\"></span></h1>\n",
    "<div class=\"toc\"><ul class=\"toc-item\"><li><span><a href=\"#Data-preparation\" data-toc-modified-id=\"Data-preparation-1\"><span class=\"toc-item-num\">1&nbsp;&nbsp;</span>Data preparation</a></span></li><li><span><a href=\"#Machine-learning\" data-toc-modified-id=\"Machine-learning-2\"><span class=\"toc-item-num\">2&nbsp;&nbsp;</span>Machine learning</a></span></li><li><span><a href=\"#Fighting-imbalance\" data-toc-modified-id=\"Fighting-imbalance-3\"><span class=\"toc-item-num\">3&nbsp;&nbsp;</span>Fighting imbalance</a></span></li><li><span><a href=\"#Testing-the-model\" data-toc-modified-id=\"Testing-the-model-4\"><span class=\"toc-item-num\">4&nbsp;&nbsp;</span>Testing the model</a></span></li><li><span><a href=\"#Conclusion\" data-toc-modified-id=\"Conclusion-5\"><span class=\"toc-item-num\">5&nbsp;&nbsp;</span>Conclusion</a></span></li></ul></div>"
   ]
  },
  {
   "cell_type": "markdown",
   "metadata": {},
   "source": [
    "# Customer churn"
   ]
  },
  {
   "cell_type": "markdown",
   "metadata": {},
   "source": [
    "Clients began to leave Beta Bank. Every month. A little, but noticeable. Bank marketers have calculated that it is cheaper to retain current customers than to attract new ones.\n",
    "\n",
    "It is necessary to predict whether the client will leave the bank in the near future or not. You are provided with historical data on customer behavior and termination of contracts with the bank.\n",
    "\n",
    "Build a model with an extremely large *F1*-measure. To pass the project successfully, you need to bring the metric to 0.59. Check the *F1*-measure on the test sample yourself.\n",
    "\n",
    "Additionally, measure *AUC-ROC*, compare its value with the *F1* measure.\n",
    "\n",
    "Data source: [https://www.kaggle.com/barelydedicated/bank-customer-churn-modeling](https://www.kaggle.com/barelydedicated/bank-customer-churn-modeling)"
   ]
  },
  {
   "cell_type": "markdown",
   "metadata": {},
   "source": [
    "## Data preparation"
   ]
  },
  {
   "cell_type": "code",
   "execution_count": 1,
   "metadata": {},
   "outputs": [
    {
     "name": "stdout",
     "output_type": "stream",
     "text": [
      "<class 'pandas.core.frame.DataFrame'>\n",
      "RangeIndex: 10000 entries, 0 to 9999\n",
      "Data columns (total 14 columns):\n",
      " #   Column           Non-Null Count  Dtype  \n",
      "---  ------           --------------  -----  \n",
      " 0   RowNumber        10000 non-null  int64  \n",
      " 1   CustomerId       10000 non-null  int64  \n",
      " 2   Surname          10000 non-null  object \n",
      " 3   CreditScore      10000 non-null  int64  \n",
      " 4   Geography        10000 non-null  object \n",
      " 5   Gender           10000 non-null  object \n",
      " 6   Age              10000 non-null  int64  \n",
      " 7   Tenure           9091 non-null   float64\n",
      " 8   Balance          10000 non-null  float64\n",
      " 9   NumOfProducts    10000 non-null  int64  \n",
      " 10  HasCrCard        10000 non-null  int64  \n",
      " 11  IsActiveMember   10000 non-null  int64  \n",
      " 12  EstimatedSalary  10000 non-null  float64\n",
      " 13  Exited           10000 non-null  int64  \n",
      "dtypes: float64(3), int64(8), object(3)\n",
      "memory usage: 1.1+ MB\n"
     ]
    }
   ],
   "source": [
    "import pandas as pd\n",
    "from sklearn.model_selection import train_test_split\n",
    "from sklearn.tree import DecisionTreeClassifier\n",
    "from sklearn.ensemble import RandomForestClassifier\n",
    "from sklearn.linear_model import LogisticRegression\n",
    "from sklearn.metrics import f1_score\n",
    "from sklearn.metrics import roc_auc_score\n",
    "from sklearn.metrics import roc_curve\n",
    "import matplotlib.pyplot as plt\n",
    "from sklearn.utils import shuffle\n",
    "from sklearn.preprocessing import StandardScaler\n",
    "from sklearn.preprocessing import OneHotEncoder\n",
    "\n",
    "RANDOM_STATE=12345\n",
    "data=pd.read_csv('Churn.csv')\n",
    "data.info()"
   ]
  },
  {
   "cell_type": "markdown",
   "metadata": {},
   "source": [
    "The source data only contains gaps in the 'Tenure' column. There are no gaps in other columns."
   ]
  },
  {
   "cell_type": "code",
   "execution_count": 2,
   "metadata": {},
   "outputs": [
    {
     "data": {
      "text/html": [
       "<div>\n",
       "<style scoped>\n",
       "    .dataframe tbody tr th:only-of-type {\n",
       "        vertical-align: middle;\n",
       "    }\n",
       "\n",
       "    .dataframe tbody tr th {\n",
       "        vertical-align: top;\n",
       "    }\n",
       "\n",
       "    .dataframe thead th {\n",
       "        text-align: right;\n",
       "    }\n",
       "</style>\n",
       "<table border=\"1\" class=\"dataframe\">\n",
       "  <thead>\n",
       "    <tr style=\"text-align: right;\">\n",
       "      <th></th>\n",
       "      <th>RowNumber</th>\n",
       "      <th>CustomerId</th>\n",
       "      <th>Surname</th>\n",
       "      <th>CreditScore</th>\n",
       "      <th>Geography</th>\n",
       "      <th>Gender</th>\n",
       "      <th>Age</th>\n",
       "      <th>Tenure</th>\n",
       "      <th>Balance</th>\n",
       "      <th>NumOfProducts</th>\n",
       "      <th>HasCrCard</th>\n",
       "      <th>IsActiveMember</th>\n",
       "      <th>EstimatedSalary</th>\n",
       "      <th>Exited</th>\n",
       "    </tr>\n",
       "  </thead>\n",
       "  <tbody>\n",
       "    <tr>\n",
       "      <th>7777</th>\n",
       "      <td>7778</td>\n",
       "      <td>15638730</td>\n",
       "      <td>Macleod</td>\n",
       "      <td>711</td>\n",
       "      <td>France</td>\n",
       "      <td>Female</td>\n",
       "      <td>21</td>\n",
       "      <td>0.0</td>\n",
       "      <td>82844.33</td>\n",
       "      <td>2</td>\n",
       "      <td>0</td>\n",
       "      <td>1</td>\n",
       "      <td>1408.68</td>\n",
       "      <td>0</td>\n",
       "    </tr>\n",
       "    <tr>\n",
       "      <th>9074</th>\n",
       "      <td>9075</td>\n",
       "      <td>15630413</td>\n",
       "      <td>Howarth</td>\n",
       "      <td>608</td>\n",
       "      <td>France</td>\n",
       "      <td>Female</td>\n",
       "      <td>41</td>\n",
       "      <td>5.0</td>\n",
       "      <td>0.00</td>\n",
       "      <td>2</td>\n",
       "      <td>1</td>\n",
       "      <td>1</td>\n",
       "      <td>72462.25</td>\n",
       "      <td>0</td>\n",
       "    </tr>\n",
       "    <tr>\n",
       "      <th>9954</th>\n",
       "      <td>9955</td>\n",
       "      <td>15739850</td>\n",
       "      <td>Trentino</td>\n",
       "      <td>645</td>\n",
       "      <td>France</td>\n",
       "      <td>Male</td>\n",
       "      <td>45</td>\n",
       "      <td>6.0</td>\n",
       "      <td>155417.61</td>\n",
       "      <td>1</td>\n",
       "      <td>0</td>\n",
       "      <td>1</td>\n",
       "      <td>3449.22</td>\n",
       "      <td>0</td>\n",
       "    </tr>\n",
       "    <tr>\n",
       "      <th>3746</th>\n",
       "      <td>3747</td>\n",
       "      <td>15804709</td>\n",
       "      <td>Watt</td>\n",
       "      <td>688</td>\n",
       "      <td>Germany</td>\n",
       "      <td>Male</td>\n",
       "      <td>35</td>\n",
       "      <td>5.0</td>\n",
       "      <td>111578.18</td>\n",
       "      <td>1</td>\n",
       "      <td>0</td>\n",
       "      <td>0</td>\n",
       "      <td>166165.93</td>\n",
       "      <td>1</td>\n",
       "    </tr>\n",
       "    <tr>\n",
       "      <th>3852</th>\n",
       "      <td>3853</td>\n",
       "      <td>15639669</td>\n",
       "      <td>Forbes</td>\n",
       "      <td>746</td>\n",
       "      <td>France</td>\n",
       "      <td>Male</td>\n",
       "      <td>36</td>\n",
       "      <td>9.0</td>\n",
       "      <td>127157.04</td>\n",
       "      <td>1</td>\n",
       "      <td>1</td>\n",
       "      <td>1</td>\n",
       "      <td>155700.15</td>\n",
       "      <td>0</td>\n",
       "    </tr>\n",
       "    <tr>\n",
       "      <th>6233</th>\n",
       "      <td>6234</td>\n",
       "      <td>15682914</td>\n",
       "      <td>Bolton</td>\n",
       "      <td>850</td>\n",
       "      <td>France</td>\n",
       "      <td>Male</td>\n",
       "      <td>34</td>\n",
       "      <td>2.0</td>\n",
       "      <td>72079.71</td>\n",
       "      <td>1</td>\n",
       "      <td>1</td>\n",
       "      <td>1</td>\n",
       "      <td>115767.93</td>\n",
       "      <td>0</td>\n",
       "    </tr>\n",
       "    <tr>\n",
       "      <th>4027</th>\n",
       "      <td>4028</td>\n",
       "      <td>15718280</td>\n",
       "      <td>Luffman</td>\n",
       "      <td>662</td>\n",
       "      <td>Germany</td>\n",
       "      <td>Male</td>\n",
       "      <td>39</td>\n",
       "      <td>5.0</td>\n",
       "      <td>139822.11</td>\n",
       "      <td>2</td>\n",
       "      <td>1</td>\n",
       "      <td>1</td>\n",
       "      <td>146219.90</td>\n",
       "      <td>0</td>\n",
       "    </tr>\n",
       "    <tr>\n",
       "      <th>5660</th>\n",
       "      <td>5661</td>\n",
       "      <td>15737133</td>\n",
       "      <td>P'eng</td>\n",
       "      <td>706</td>\n",
       "      <td>Spain</td>\n",
       "      <td>Male</td>\n",
       "      <td>68</td>\n",
       "      <td>NaN</td>\n",
       "      <td>114386.85</td>\n",
       "      <td>1</td>\n",
       "      <td>1</td>\n",
       "      <td>1</td>\n",
       "      <td>28601.68</td>\n",
       "      <td>0</td>\n",
       "    </tr>\n",
       "    <tr>\n",
       "      <th>6846</th>\n",
       "      <td>6847</td>\n",
       "      <td>15809309</td>\n",
       "      <td>Longo</td>\n",
       "      <td>689</td>\n",
       "      <td>Spain</td>\n",
       "      <td>Female</td>\n",
       "      <td>40</td>\n",
       "      <td>5.0</td>\n",
       "      <td>154251.67</td>\n",
       "      <td>1</td>\n",
       "      <td>0</td>\n",
       "      <td>1</td>\n",
       "      <td>118319.50</td>\n",
       "      <td>0</td>\n",
       "    </tr>\n",
       "    <tr>\n",
       "      <th>51</th>\n",
       "      <td>52</td>\n",
       "      <td>15768193</td>\n",
       "      <td>Trevisani</td>\n",
       "      <td>585</td>\n",
       "      <td>Germany</td>\n",
       "      <td>Male</td>\n",
       "      <td>36</td>\n",
       "      <td>NaN</td>\n",
       "      <td>146050.97</td>\n",
       "      <td>2</td>\n",
       "      <td>0</td>\n",
       "      <td>0</td>\n",
       "      <td>86424.57</td>\n",
       "      <td>0</td>\n",
       "    </tr>\n",
       "  </tbody>\n",
       "</table>\n",
       "</div>"
      ],
      "text/plain": [
       "      RowNumber  CustomerId    Surname  CreditScore Geography  Gender  Age  \\\n",
       "7777       7778    15638730    Macleod          711    France  Female   21   \n",
       "9074       9075    15630413    Howarth          608    France  Female   41   \n",
       "9954       9955    15739850   Trentino          645    France    Male   45   \n",
       "3746       3747    15804709       Watt          688   Germany    Male   35   \n",
       "3852       3853    15639669     Forbes          746    France    Male   36   \n",
       "6233       6234    15682914     Bolton          850    France    Male   34   \n",
       "4027       4028    15718280    Luffman          662   Germany    Male   39   \n",
       "5660       5661    15737133      P'eng          706     Spain    Male   68   \n",
       "6846       6847    15809309      Longo          689     Spain  Female   40   \n",
       "51           52    15768193  Trevisani          585   Germany    Male   36   \n",
       "\n",
       "      Tenure    Balance  NumOfProducts  HasCrCard  IsActiveMember  \\\n",
       "7777     0.0   82844.33              2          0               1   \n",
       "9074     5.0       0.00              2          1               1   \n",
       "9954     6.0  155417.61              1          0               1   \n",
       "3746     5.0  111578.18              1          0               0   \n",
       "3852     9.0  127157.04              1          1               1   \n",
       "6233     2.0   72079.71              1          1               1   \n",
       "4027     5.0  139822.11              2          1               1   \n",
       "5660     NaN  114386.85              1          1               1   \n",
       "6846     5.0  154251.67              1          0               1   \n",
       "51       NaN  146050.97              2          0               0   \n",
       "\n",
       "      EstimatedSalary  Exited  \n",
       "7777          1408.68       0  \n",
       "9074         72462.25       0  \n",
       "9954          3449.22       0  \n",
       "3746        166165.93       1  \n",
       "3852        155700.15       0  \n",
       "6233        115767.93       0  \n",
       "4027        146219.90       0  \n",
       "5660         28601.68       0  \n",
       "6846        118319.50       0  \n",
       "51           86424.57       0  "
      ]
     },
     "execution_count": 2,
     "metadata": {},
     "output_type": "execute_result"
    }
   ],
   "source": [
    "data.sample(10)"
   ]
  },
  {
   "cell_type": "code",
   "execution_count": 3,
   "metadata": {},
   "outputs": [],
   "source": [
    "data = data.drop(['RowNumber', 'CustomerId', 'Surname'], axis=1)"
   ]
  },
  {
   "cell_type": "markdown",
   "metadata": {},
   "source": [
    "We will not need the RowNumber, CustomerID, Surname columns for training, so we delete them."
   ]
  },
  {
   "cell_type": "code",
   "execution_count": 4,
   "metadata": {},
   "outputs": [],
   "source": [
    "data = pd.get_dummies(data, columns=['Gender', 'Geography'], drop_first=True)"
   ]
  },
  {
   "cell_type": "markdown",
   "metadata": {},
   "source": [
    "To train the model, you need to convert the values in the Gender and Geography columns to numbers."
   ]
  },
  {
   "cell_type": "markdown",
   "metadata": {},
   "source": [
    "**Analysis of clients with blanks in the “Service period” column with all clients**"
   ]
  },
  {
   "cell_type": "code",
   "execution_count": 5,
   "metadata": {},
   "outputs": [
    {
     "data": {
      "image/png": "[encoded data removed]",
      "text/plain": [
       "<Figure size 1500x1500 with 9 Axes>"
      ]
     },
     "metadata": {},
     "output_type": "display_data"
    }
   ],
   "source": [
    "data.hist(figsize=(15, 15));"
   ]
  },
  {
   "cell_type": "code",
   "execution_count": 6,
   "metadata": {},
   "outputs": [
    {
     "data": {
      "text/plain": [
       "array([[<Axes: title={'center': 'CreditScore'}>,\n",
       "        <Axes: title={'center': 'Age'}>,\n",
       "        <Axes: title={'center': 'Tenure'}>],\n",
       "       [<Axes: title={'center': 'Balance'}>,\n",
       "        <Axes: title={'center': 'NumOfProducts'}>,\n",
       "        <Axes: title={'center': 'HasCrCard'}>],\n",
       "       [<Axes: title={'center': 'IsActiveMember'}>,\n",
       "        <Axes: title={'center': 'EstimatedSalary'}>,\n",
       "        <Axes: title={'center': 'Exited'}>]], dtype=object)"
      ]
     },
     "execution_count": 6,
     "metadata": {},
     "output_type": "execute_result"
    },
    {
     "data": {
      "image/png": "[encoded data removed]",
      "text/plain": [
       "<Figure size 1500x1500 with 9 Axes>"
      ]
     },
     "metadata": {},
     "output_type": "display_data"
    }
   ],
   "source": [
    "data.loc[data['Tenure'].isna()].hist(figsize=(15, 15))"
   ]
  },
  {
   "cell_type": "markdown",
   "metadata": {},
   "source": [
    "From the comparison we see that this group practically does not stand out from the overall picture, so let’s delete the lines where real estate data is missing."
   ]
  },
  {
   "cell_type": "code",
   "execution_count": 7,
   "metadata": {},
   "outputs": [
    {
     "name": "stdout",
     "output_type": "stream",
     "text": [
      "<class 'pandas.core.frame.DataFrame'>\n",
      "Index: 9091 entries, 0 to 9998\n",
      "Data columns (total 12 columns):\n",
      " #   Column             Non-Null Count  Dtype  \n",
      "---  ------             --------------  -----  \n",
      " 0   CreditScore        9091 non-null   int64  \n",
      " 1   Age                9091 non-null   int64  \n",
      " 2   Tenure             9091 non-null   float64\n",
      " 3   Balance            9091 non-null   float64\n",
      " 4   NumOfProducts      9091 non-null   int64  \n",
      " 5   HasCrCard          9091 non-null   int64  \n",
      " 6   IsActiveMember     9091 non-null   int64  \n",
      " 7   EstimatedSalary    9091 non-null   float64\n",
      " 8   Exited             9091 non-null   int64  \n",
      " 9   Gender_Male        9091 non-null   bool   \n",
      " 10  Geography_Germany  9091 non-null   bool   \n",
      " 11  Geography_Spain    9091 non-null   bool   \n",
      "dtypes: bool(3), float64(3), int64(6)\n",
      "memory usage: 736.9 KB\n"
     ]
    }
   ],
   "source": [
    "data = data.loc[~(data['Tenure'].isna())]\n",
    "data.info()"
   ]
  },
  {
   "cell_type": "code",
   "execution_count": 8,
   "metadata": {},
   "outputs": [
    {
     "data": {
      "text/html": [
       "<div>\n",
       "<style scoped>\n",
       "    .dataframe tbody tr th:only-of-type {\n",
       "        vertical-align: middle;\n",
       "    }\n",
       "\n",
       "    .dataframe tbody tr th {\n",
       "        vertical-align: top;\n",
       "    }\n",
       "\n",
       "    .dataframe thead th {\n",
       "        text-align: right;\n",
       "    }\n",
       "</style>\n",
       "<table border=\"1\" class=\"dataframe\">\n",
       "  <thead>\n",
       "    <tr style=\"text-align: right;\">\n",
       "      <th></th>\n",
       "      <th>CreditScore</th>\n",
       "      <th>Age</th>\n",
       "      <th>Tenure</th>\n",
       "      <th>Balance</th>\n",
       "      <th>NumOfProducts</th>\n",
       "      <th>HasCrCard</th>\n",
       "      <th>IsActiveMember</th>\n",
       "      <th>EstimatedSalary</th>\n",
       "      <th>Exited</th>\n",
       "      <th>Gender_Male</th>\n",
       "      <th>Geography_Germany</th>\n",
       "      <th>Geography_Spain</th>\n",
       "    </tr>\n",
       "  </thead>\n",
       "  <tbody>\n",
       "    <tr>\n",
       "      <th>5124</th>\n",
       "      <td>721</td>\n",
       "      <td>46</td>\n",
       "      <td>7.0</td>\n",
       "      <td>137933.39</td>\n",
       "      <td>1</td>\n",
       "      <td>1</td>\n",
       "      <td>1</td>\n",
       "      <td>67976.57</td>\n",
       "      <td>0</td>\n",
       "      <td>False</td>\n",
       "      <td>False</td>\n",
       "      <td>True</td>\n",
       "    </tr>\n",
       "    <tr>\n",
       "      <th>4261</th>\n",
       "      <td>794</td>\n",
       "      <td>46</td>\n",
       "      <td>8.0</td>\n",
       "      <td>134593.79</td>\n",
       "      <td>1</td>\n",
       "      <td>1</td>\n",
       "      <td>1</td>\n",
       "      <td>46386.37</td>\n",
       "      <td>0</td>\n",
       "      <td>False</td>\n",
       "      <td>False</td>\n",
       "      <td>True</td>\n",
       "    </tr>\n",
       "    <tr>\n",
       "      <th>4258</th>\n",
       "      <td>782</td>\n",
       "      <td>35</td>\n",
       "      <td>7.0</td>\n",
       "      <td>98556.89</td>\n",
       "      <td>2</td>\n",
       "      <td>1</td>\n",
       "      <td>0</td>\n",
       "      <td>117644.36</td>\n",
       "      <td>0</td>\n",
       "      <td>True</td>\n",
       "      <td>True</td>\n",
       "      <td>False</td>\n",
       "    </tr>\n",
       "    <tr>\n",
       "      <th>7642</th>\n",
       "      <td>811</td>\n",
       "      <td>40</td>\n",
       "      <td>1.0</td>\n",
       "      <td>101514.89</td>\n",
       "      <td>1</td>\n",
       "      <td>1</td>\n",
       "      <td>1</td>\n",
       "      <td>121765.00</td>\n",
       "      <td>0</td>\n",
       "      <td>True</td>\n",
       "      <td>False</td>\n",
       "      <td>False</td>\n",
       "    </tr>\n",
       "    <tr>\n",
       "      <th>1987</th>\n",
       "      <td>738</td>\n",
       "      <td>54</td>\n",
       "      <td>4.0</td>\n",
       "      <td>0.00</td>\n",
       "      <td>1</td>\n",
       "      <td>0</td>\n",
       "      <td>1</td>\n",
       "      <td>55725.04</td>\n",
       "      <td>1</td>\n",
       "      <td>True</td>\n",
       "      <td>False</td>\n",
       "      <td>False</td>\n",
       "    </tr>\n",
       "    <tr>\n",
       "      <th>1130</th>\n",
       "      <td>571</td>\n",
       "      <td>34</td>\n",
       "      <td>1.0</td>\n",
       "      <td>101736.66</td>\n",
       "      <td>1</td>\n",
       "      <td>0</td>\n",
       "      <td>1</td>\n",
       "      <td>195651.66</td>\n",
       "      <td>0</td>\n",
       "      <td>False</td>\n",
       "      <td>True</td>\n",
       "      <td>False</td>\n",
       "    </tr>\n",
       "    <tr>\n",
       "      <th>3185</th>\n",
       "      <td>652</td>\n",
       "      <td>45</td>\n",
       "      <td>9.0</td>\n",
       "      <td>110827.49</td>\n",
       "      <td>1</td>\n",
       "      <td>1</td>\n",
       "      <td>1</td>\n",
       "      <td>153383.54</td>\n",
       "      <td>1</td>\n",
       "      <td>False</td>\n",
       "      <td>True</td>\n",
       "      <td>False</td>\n",
       "    </tr>\n",
       "    <tr>\n",
       "      <th>1848</th>\n",
       "      <td>518</td>\n",
       "      <td>35</td>\n",
       "      <td>8.0</td>\n",
       "      <td>141665.63</td>\n",
       "      <td>1</td>\n",
       "      <td>0</td>\n",
       "      <td>1</td>\n",
       "      <td>192776.64</td>\n",
       "      <td>0</td>\n",
       "      <td>False</td>\n",
       "      <td>True</td>\n",
       "      <td>False</td>\n",
       "    </tr>\n",
       "    <tr>\n",
       "      <th>0</th>\n",
       "      <td>619</td>\n",
       "      <td>42</td>\n",
       "      <td>2.0</td>\n",
       "      <td>0.00</td>\n",
       "      <td>1</td>\n",
       "      <td>1</td>\n",
       "      <td>1</td>\n",
       "      <td>101348.88</td>\n",
       "      <td>1</td>\n",
       "      <td>False</td>\n",
       "      <td>False</td>\n",
       "      <td>False</td>\n",
       "    </tr>\n",
       "    <tr>\n",
       "      <th>2983</th>\n",
       "      <td>523</td>\n",
       "      <td>35</td>\n",
       "      <td>8.0</td>\n",
       "      <td>138782.76</td>\n",
       "      <td>1</td>\n",
       "      <td>1</td>\n",
       "      <td>1</td>\n",
       "      <td>186118.93</td>\n",
       "      <td>0</td>\n",
       "      <td>True</td>\n",
       "      <td>True</td>\n",
       "      <td>False</td>\n",
       "    </tr>\n",
       "  </tbody>\n",
       "</table>\n",
       "</div>"
      ],
      "text/plain": [
       "      CreditScore  Age  Tenure    Balance  NumOfProducts  HasCrCard  \\\n",
       "5124          721   46     7.0  137933.39              1          1   \n",
       "4261          794   46     8.0  134593.79              1          1   \n",
       "4258          782   35     7.0   98556.89              2          1   \n",
       "7642          811   40     1.0  101514.89              1          1   \n",
       "1987          738   54     4.0       0.00              1          0   \n",
       "1130          571   34     1.0  101736.66              1          0   \n",
       "3185          652   45     9.0  110827.49              1          1   \n",
       "1848          518   35     8.0  141665.63              1          0   \n",
       "0             619   42     2.0       0.00              1          1   \n",
       "2983          523   35     8.0  138782.76              1          1   \n",
       "\n",
       "      IsActiveMember  EstimatedSalary  Exited  Gender_Male  Geography_Germany  \\\n",
       "5124               1         67976.57       0        False              False   \n",
       "4261               1         46386.37       0        False              False   \n",
       "4258               0        117644.36       0         True               True   \n",
       "7642               1        121765.00       0         True              False   \n",
       "1987               1         55725.04       1         True              False   \n",
       "1130               1        195651.66       0        False               True   \n",
       "3185               1        153383.54       1        False               True   \n",
       "1848               1        192776.64       0        False               True   \n",
       "0                  1        101348.88       1        False              False   \n",
       "2983               1        186118.93       0         True               True   \n",
       "\n",
       "      Geography_Spain  \n",
       "5124             True  \n",
       "4261             True  \n",
       "4258            False  \n",
       "7642            False  \n",
       "1987            False  \n",
       "1130            False  \n",
       "3185            False  \n",
       "1848            False  \n",
       "0               False  \n",
       "2983            False  "
      ]
     },
     "execution_count": 8,
     "metadata": {},
     "output_type": "execute_result"
    }
   ],
   "source": [
    "data.sample(10)"
   ]
  },
  {
   "cell_type": "markdown",
   "metadata": {},
   "source": [
    "**Conclusion**\n",
    "1. Removed gaps in the data\n",
    "2. Prepared data for training models\n",
    "3. Removed extra columns"
   ]
  },
  {
   "cell_type": "markdown",
   "metadata": {},
   "source": [
    "## Machine learning"
   ]
  },
  {
   "cell_type": "code",
   "execution_count": 9,
   "metadata": {},
   "outputs": [],
   "source": [
    "target = data['Exited']\n",
    "features = data.drop('Exited', axis=1)"
   ]
  },
  {
   "cell_type": "code",
   "execution_count": 10,
   "metadata": {},
   "outputs": [
    {
     "name": "stdout",
     "output_type": "stream",
     "text": [
      "Size of train sample: 5454\n",
      "Size of validation sample: 1818\n",
      "Size of test sample: 1819\n"
     ]
    }
   ],
   "source": [
    "train, valid_and_test=train_test_split(data, test_size=0.4, random_state=RANDOM_STATE)\n",
    "valid, test=train_test_split(valid_and_test, test_size=0.5, random_state=RANDOM_STATE)\n",
    "\n",
    "train_features = train.drop(['Exited'], axis=1)\n",
    "train_target = train['Exited']\n",
    "valid_features = valid.drop(['Exited'], axis=1)\n",
    "valid_target = valid['Exited']\n",
    "valid_features = valid.drop(['Exited'], axis=1)\n",
    "valid_target = valid['Exited']\n",
    "test_features = test.drop(['Exited'], axis=1)\n",
    "test_target = test['Exited']\n",
    "\n",
    "print('Size of train sample:', train.shape[0])\n",
    "print('Size of validation sample:', valid.shape[0])\n",
    "print('Size of test sample:', test.shape[0])"
   ]
  },
  {
   "cell_type": "markdown",
   "metadata": {},
   "source": [
    "**Scaling of numerical features**"
   ]
  },
  {
   "cell_type": "code",
   "execution_count": 11,
   "metadata": {},
   "outputs": [],
   "source": [
    "pd.options.mode.chained_assignment = None\n",
    "\n",
    "scaler = StandardScaler()\n",
    "scaler.fit(train_features)\n",
    "train_features = pd.DataFrame(scaler.transform(train_features))\n",
    "train_target = train_target.reset_index(drop = True)\n",
    "\n",
    "valid_features = pd.DataFrame(scaler.transform(valid_features))\n",
    "valid_target = valid_target.reset_index(drop = True)\n",
    "\n",
    "test_features = pd.DataFrame(scaler.transform(test_features))\n",
    "test_target = test_target.reset_index(drop = True)"
   ]
  },
  {
   "cell_type": "markdown",
   "metadata": {},
   "source": [
    "**Decision tree default**"
   ]
  },
  {
   "cell_type": "code",
   "execution_count": 12,
   "metadata": {},
   "outputs": [
    {
     "name": "stdout",
     "output_type": "stream",
     "text": [
      "Decision tree f1 score: 0.4702774108322325\n",
      "AUC-ROC= 0.665984055428646\n",
      "Max depth= 49\n"
     ]
    }
   ],
   "source": [
    "best_result=0\n",
    "best_est=0\n",
    "best_depth=0\n",
    "best_result1=0\n",
    "auc_roc=0\n",
    "\n",
    "for depth in range(1, 50, 2):\n",
    "    model=DecisionTreeClassifier(random_state=RANDOM_STATE, max_depth=depth)\n",
    "    model.fit(train_features, train_target)\n",
    "    valid_predicted=model.predict(valid_features)\n",
    "    result=f1_score(valid_target, valid_predicted)\n",
    "    if result > best_result:\n",
    "        best_result1 = result\n",
    "        best_depth=depth\n",
    "        probabilities_valid = model.predict_proba(valid_features)\n",
    "        probabilities_one_valid = probabilities_valid[:, 1]\n",
    "        auc_roc1 = roc_auc_score(valid_target, probabilities_one_valid)\n",
    "            \n",
    "print(\"Decision tree f1 score:\", best_result1)\n",
    "print (\"AUC-ROC=\", auc_roc1)\n",
    "print (\"Max depth=\", best_depth)"
   ]
  },
  {
   "cell_type": "markdown",
   "metadata": {},
   "source": [
    "**Random forest default**"
   ]
  },
  {
   "cell_type": "code",
   "execution_count": 13,
   "metadata": {},
   "outputs": [
    {
     "name": "stdout",
     "output_type": "stream",
     "text": [
      "Random Forest f1 score= 0.5845648604269295\n",
      "AUC-ROC= 0.8580763800558483\n",
      "n_estimators= 81\n"
     ]
    }
   ],
   "source": [
    "best_result2=0\n",
    "for est in range (1, 100, 10):\n",
    "    model = RandomForestClassifier(random_state=RANDOM_STATE, n_estimators=est)\n",
    "    model.fit(train_features, train_target)\n",
    "    valid_predicted=model.predict(valid_features)\n",
    "    result=f1_score(valid_target, valid_predicted)\n",
    "    if result>best_result2:\n",
    "        best_result2=result\n",
    "        best_est=est\n",
    "        probabilities_valid = model.predict_proba(valid_features)\n",
    "        probabilities_one_valid = probabilities_valid[:, 1]\n",
    "        auc_roc2 = roc_auc_score(valid_target, probabilities_one_valid)\n",
    "\n",
    "print(\"Random Forest f1 score=\", best_result2)\n",
    "print (\"AUC-ROC=\", auc_roc2)\n",
    "print (\"n_estimators=\", best_est)"
   ]
  },
  {
   "cell_type": "markdown",
   "metadata": {},
   "source": [
    "**Logistic Regression default**"
   ]
  },
  {
   "cell_type": "code",
   "execution_count": 14,
   "metadata": {},
   "outputs": [
    {
     "name": "stdout",
     "output_type": "stream",
     "text": [
      "Logistic Regression f1 score= 0.3033932135728543\n",
      "AUC-ROC= 0.7736172750650245\n"
     ]
    }
   ],
   "source": [
    "model = LogisticRegression(random_state = RANDOM_STATE, solver = 'lbfgs', max_iter=1000)\n",
    "model.fit(train_features,train_target)\n",
    "valid_predicted = model.predict(valid_features)\n",
    "best_result3 = f1_score(valid_target, valid_predicted)\n",
    "probabilities_valid = model.predict_proba(valid_features)\n",
    "probabilities_one_valid = probabilities_valid[:, 1]\n",
    "auc_roc3 = roc_auc_score(valid_target, probabilities_one_valid)\n",
    "print ('Logistic Regression f1 score=', best_result3)\n",
    "print (\"AUC-ROC=\", auc_roc3)"
   ]
  },
  {
   "cell_type": "markdown",
   "metadata": {},
   "source": [
    "**Conclusion**\n",
    "\n",
    "With the original data, the random forest model showed the best result.\n",
    "\n",
    "f1 score is 0.586, which is 0.04 below the target."
   ]
  },
  {
   "cell_type": "markdown",
   "metadata": {},
   "source": [
    "## Fighting imbalance"
   ]
  },
  {
   "cell_type": "code",
   "execution_count": 15,
   "metadata": {},
   "outputs": [
    {
     "data": {
      "text/plain": [
       "3.9034519956850056"
      ]
     },
     "execution_count": 15,
     "metadata": {},
     "output_type": "execute_result"
    }
   ],
   "source": [
    "target.loc[data['Exited'] == 0].count() / target.loc[data['Exited'] == 1].count()"
   ]
  },
  {
   "cell_type": "markdown",
   "metadata": {},
   "source": [
    "Количество оставшихся пользователей превышает кол-во ушедших практически в 4 раза."
   ]
  },
  {
   "cell_type": "code",
   "execution_count": 16,
   "metadata": {},
   "outputs": [
    {
     "data": {
      "text/plain": [
       "<Axes: title={'center': 'Current and previous clients'}, xlabel='Exited'>"
      ]
     },
     "execution_count": 16,
     "metadata": {},
     "output_type": "execute_result"
    },
    {
     "data": {
      "image/png": "[encoded data removed]",
      "text/plain": [
       "<Figure size 700x600 with 1 Axes>"
      ]
     },
     "metadata": {},
     "output_type": "display_data"
    }
   ],
   "source": [
    "data.groupby(['Exited']).count().plot(kind='bar', y='Balance', figsize=(7,6), title='Current and previous clients')"
   ]
  },
  {
   "cell_type": "markdown",
   "metadata": {},
   "source": [
    "**Upscale**"
   ]
  },
  {
   "cell_type": "code",
   "execution_count": 17,
   "metadata": {},
   "outputs": [],
   "source": [
    "def upsample(features, target, repeat):\n",
    "    features_zeros = features[target == 0]\n",
    "    features_ones = features[target == 1]\n",
    "    target_zeros = target[target == 0]\n",
    "    target_ones = target[target == 1]\n",
    "\n",
    "    features_upsampled = pd.concat([features_zeros] + [features_ones] * repeat)\n",
    "    target_upsampled = pd.concat([target_zeros] + [target_ones] * repeat)\n",
    "    \n",
    "    features_upsampled, target_upsampled = shuffle(\n",
    "        features_upsampled, target_upsampled, random_state=RANDOM_STATE)\n",
    "    \n",
    "    return features_upsampled, target_upsampled"
   ]
  },
  {
   "cell_type": "code",
   "execution_count": 18,
   "metadata": {},
   "outputs": [],
   "source": [
    "features_upsampled, target_upsampled = upsample(train_features, train_target, 4)"
   ]
  },
  {
   "cell_type": "markdown",
   "metadata": {},
   "source": [
    "**Decision Tree upsample**"
   ]
  },
  {
   "cell_type": "code",
   "execution_count": 19,
   "metadata": {},
   "outputs": [
    {
     "name": "stdout",
     "output_type": "stream",
     "text": [
      "Decision tree f1_score: 0.5735449735449736\n",
      "AUC-ROC= 0.8396523192522141\n",
      "max_depth= 5\n"
     ]
    }
   ],
   "source": [
    "best_result4=0\n",
    "\n",
    "for depth in range(1, 20):\n",
    "    model=DecisionTreeClassifier(random_state=RANDOM_STATE, max_depth=depth)\n",
    "    model.fit(features_upsampled, target_upsampled)\n",
    "    valid_predicted=model.predict(valid_features)\n",
    "    result=f1_score(valid_target, valid_predicted)\n",
    "    if result > best_result4:\n",
    "        DT_upscale = model\n",
    "        best_result4 = result\n",
    "        best_depth=depth\n",
    "        probabilities_valid = model.predict_proba(valid_features)\n",
    "        probabilities_one_valid = probabilities_valid[:, 1]\n",
    "        auc_roc4 = roc_auc_score(valid_target, probabilities_one_valid)\n",
    "        \n",
    "print(\"Decision tree f1_score:\", best_result4)\n",
    "print (\"AUC-ROC=\", auc_roc4)\n",
    "print (\"max_depth=\", best_depth)"
   ]
  },
  {
   "cell_type": "markdown",
   "metadata": {},
   "source": [
    "**Random Forest upsample**"
   ]
  },
  {
   "cell_type": "code",
   "execution_count": 20,
   "metadata": {},
   "outputs": [
    {
     "name": "stdout",
     "output_type": "stream",
     "text": [
      "Random Forest f1_score= 0.6394160583941606\n",
      "AUC-ROC= 0.8547096493924606\n",
      "n_estimators= 51\n"
     ]
    }
   ],
   "source": [
    "best_result5=0\n",
    "\n",
    "for est in range (1, 100, 10):\n",
    "    model = RandomForestClassifier(random_state=RANDOM_STATE, n_estimators=est)\n",
    "    model.fit(features_upsampled, target_upsampled)\n",
    "    valid_predicted=model.predict(valid_features)\n",
    "    result=f1_score(valid_target, valid_predicted)\n",
    "    if result>best_result5:\n",
    "        best_result5=result\n",
    "        best_est=est\n",
    "        probabilities_valid = model.predict_proba(valid_features)\n",
    "        probabilities_one_valid = probabilities_valid[:, 1]\n",
    "        auc_roc5 = roc_auc_score(valid_target, probabilities_one_valid)\n",
    "        \n",
    "print(\"Random Forest f1_score=\", best_result5)\n",
    "print (\"AUC-ROC=\", auc_roc5)\n",
    "print (\"n_estimators=\", best_est)"
   ]
  },
  {
   "cell_type": "markdown",
   "metadata": {},
   "source": [
    "**Logistic regression upsample**"
   ]
  },
  {
   "cell_type": "code",
   "execution_count": 21,
   "metadata": {},
   "outputs": [
    {
     "name": "stdout",
     "output_type": "stream",
     "text": [
      "Logistic Regression f1 score= 0.5081374321880651\n",
      "AUC-ROC= 0.7778620431950256\n"
     ]
    }
   ],
   "source": [
    "model = LogisticRegression(random_state = RANDOM_STATE, solver = 'lbfgs', max_iter=1000)\n",
    "model.fit(features_upsampled,target_upsampled)\n",
    "valid_predicted = model.predict(valid_features)\n",
    "best_result6 = f1_score(valid_target, valid_predicted)\n",
    "probabilities_valid = model.predict_proba(valid_features)\n",
    "probabilities_one_valid = probabilities_valid[:, 1]\n",
    "auc_roc6 = roc_auc_score(valid_target, probabilities_one_valid)\n",
    "\n",
    "print ('Logistic Regression f1 score=', best_result6)\n",
    "print (\"AUC-ROC=\", auc_roc6)"
   ]
  },
  {
   "cell_type": "markdown",
   "metadata": {},
   "source": [
    "**Downsample**"
   ]
  },
  {
   "cell_type": "code",
   "execution_count": 22,
   "metadata": {},
   "outputs": [],
   "source": [
    "def downsample(features, target, fraction):\n",
    "    features_zeros = features[target == 0]\n",
    "    features_ones = features[target == 1]\n",
    "    target_zeros = target[target == 0]\n",
    "    target_ones = target[target == 1]\n",
    "\n",
    "    features_downsampled = pd.concat(\n",
    "        [features_zeros.sample(frac=fraction, random_state=RANDOM_STATE)] + [features_ones])\n",
    "    target_downsampled = pd.concat(\n",
    "        [target_zeros.sample(frac=fraction, random_state=RANDOM_STATE)] + [target_ones])\n",
    "    \n",
    "    features_downsampled, target_downsampled = shuffle(\n",
    "        features_downsampled, target_downsampled, random_state=RANDOM_STATE)\n",
    "    \n",
    "    return features_downsampled, target_downsampled"
   ]
  },
  {
   "cell_type": "code",
   "execution_count": 23,
   "metadata": {},
   "outputs": [],
   "source": [
    "features_downsampled, target_downsampled = downsample(train_features, train_target, 0.25)"
   ]
  },
  {
   "cell_type": "markdown",
   "metadata": {},
   "source": [
    "**Decision Tree downsample**"
   ]
  },
  {
   "cell_type": "code",
   "execution_count": 24,
   "metadata": {},
   "outputs": [
    {
     "name": "stdout",
     "output_type": "stream",
     "text": [
      "Decision tree f1_score: 0.5636704119850188\n",
      "AUC-ROC= 0.8343500405885245\n",
      "max_depth= 6\n"
     ]
    }
   ],
   "source": [
    "best_result7=0\n",
    "\n",
    "for depth in range(1, 20):\n",
    "    model=DecisionTreeClassifier(random_state=RANDOM_STATE, max_depth=depth)\n",
    "    model.fit(features_downsampled, target_downsampled)\n",
    "    valid_predicted=model.predict(valid_features)\n",
    "    result=f1_score(valid_target, valid_predicted)\n",
    "    if result > best_result7:\n",
    "        best_result7 = result\n",
    "        best_depth=depth\n",
    "        probabilities_valid = model.predict_proba(valid_features)\n",
    "        probabilities_one_valid = probabilities_valid[:, 1]\n",
    "        auc_roc7 = roc_auc_score(valid_target, probabilities_one_valid)\n",
    "            \n",
    "print(\"Decision tree f1_score:\", best_result7)\n",
    "print (\"AUC-ROC=\", auc_roc7)\n",
    "print (\"max_depth=\", best_depth)"
   ]
  },
  {
   "cell_type": "markdown",
   "metadata": {},
   "source": [
    "**Random Forest downsample**"
   ]
  },
  {
   "cell_type": "code",
   "execution_count": 25,
   "metadata": {},
   "outputs": [
    {
     "name": "stdout",
     "output_type": "stream",
     "text": [
      "Random Forest f1_score= 0.5907752698724239\n",
      "AUC-ROC= 0.8557248226898134\n",
      "n_estimators= 61\n"
     ]
    }
   ],
   "source": [
    "best_result8=0\n",
    "\n",
    "for est in range (1, 100, 10):\n",
    "    model = RandomForestClassifier(random_state=RANDOM_STATE, n_estimators=est)\n",
    "    model.fit(features_downsampled, target_downsampled)\n",
    "    valid_predicted=model.predict(valid_features)\n",
    "    result=f1_score(valid_target, valid_predicted)\n",
    "    if result>best_result8:\n",
    "        best_result8=result\n",
    "        best_est=est\n",
    "        probabilities_valid = model.predict_proba(valid_features)\n",
    "        probabilities_one_valid = probabilities_valid[:, 1]\n",
    "        auc_roc8 = roc_auc_score(valid_target, probabilities_one_valid)\n",
    "        \n",
    "print(\"Random Forest f1_score=\", best_result8)\n",
    "print (\"AUC-ROC=\", auc_roc8)\n",
    "print (\"n_estimators=\", best_est)"
   ]
  },
  {
   "cell_type": "markdown",
   "metadata": {},
   "source": [
    "**Logistic Regression downsample**"
   ]
  },
  {
   "cell_type": "code",
   "execution_count": 26,
   "metadata": {},
   "outputs": [
    {
     "name": "stdout",
     "output_type": "stream",
     "text": [
      "Logistic Regression f1 score= 0.5053763440860214\n",
      "AUC-ROC= 0.7769379869932647\n"
     ]
    }
   ],
   "source": [
    "model = LogisticRegression(random_state = RANDOM_STATE, solver = 'lbfgs', max_iter=1000)\n",
    "model.fit(features_downsampled,target_downsampled)\n",
    "valid_predicted = model.predict(valid_features)\n",
    "best_result9 = f1_score(valid_target, valid_predicted)\n",
    "probabilities_valid = model.predict_proba(valid_features)\n",
    "probabilities_one_valid = probabilities_valid[:, 1]\n",
    "auc_roc9 = roc_auc_score(valid_target, probabilities_one_valid)\n",
    "        \n",
    "print ('Logistic Regression f1 score=', best_result9)\n",
    "print (\"AUC-ROC=\", auc_roc9)"
   ]
  },
  {
   "cell_type": "markdown",
   "metadata": {},
   "source": [
    "**Conclusion**\n",
    "\n",
    "To combat the imbalance, two methods were used: increasing the sampling (upsampling) and decreasing the sampling (downsampling).\n",
    "\n",
    "In both methods, the best f1_score for the Random Forest model is 0.636 and 0.592, respectively.\n",
    "\n",
    "For testing we will use the Random Forest upsample model."
   ]
  },
  {
   "cell_type": "code",
   "execution_count": 27,
   "metadata": {},
   "outputs": [
    {
     "name": "stdout",
     "output_type": "stream",
     "text": [
      "                 Model   Default  Downsample  Upsample\n",
      "0        Decision Tree  0.470277    0.563670  0.573545\n",
      "1        Random Forest  0.584565    0.590775  0.639416\n",
      "2  Logistic Regression  0.303393    0.505376  0.508137\n"
     ]
    }
   ],
   "source": [
    "table1={'Model':['Decision Tree', 'Random Forest', 'Logistic Regression'],\\\n",
    "      'Default':[best_result1, best_result2, best_result3],\\\n",
    "      'Downsample':[best_result7, best_result8, best_result9],\\\n",
    "      'Upsample':[best_result4, best_result5, best_result6],}\n",
    "best_f1_scores=pd.DataFrame(table1)\n",
    "print(best_f1_scores)"
   ]
  },
  {
   "cell_type": "code",
   "execution_count": 28,
   "metadata": {},
   "outputs": [
    {
     "name": "stdout",
     "output_type": "stream",
     "text": [
      "                 Model   Default  Downsample  Upsample\n",
      "0        Decision Tree  0.665984    0.834350  0.839652\n",
      "1        Random Forest  0.858076    0.855725  0.854710\n",
      "2  Logistic Regression  0.773617    0.776938  0.777862\n"
     ]
    }
   ],
   "source": [
    "table2={'Model':['Decision Tree', 'Random Forest', 'Logistic Regression'],\\\n",
    "      'Default':[auc_roc1, auc_roc2, auc_roc3],\\\n",
    "      'Downsample':[auc_roc7, auc_roc8, auc_roc9],\\\n",
    "      'Upsample':[auc_roc4, auc_roc5, auc_roc6],}\n",
    "best_auc_roc_scores=pd.DataFrame(table2)\n",
    "print(best_auc_roc_scores)"
   ]
  },
  {
   "cell_type": "markdown",
   "metadata": {},
   "source": [
    "## Testing the model"
   ]
  },
  {
   "cell_type": "code",
   "execution_count": 29,
   "metadata": {},
   "outputs": [
    {
     "name": "stdout",
     "output_type": "stream",
     "text": [
      "f1 of the best model: 0.5943536404160475\n"
     ]
    }
   ],
   "source": [
    "model = RandomForestClassifier(random_state=RANDOM_STATE, n_estimators=51)\n",
    "model.fit(features_upsampled, target_upsampled)\n",
    "valid_predicted=model.predict(test_features)\n",
    "result=f1_score(test_target, valid_predicted)\n",
    "print('f1 of the best model:', result)"
   ]
  },
  {
   "cell_type": "markdown",
   "metadata": {},
   "source": [
    "**AUC-ROC**"
   ]
  },
  {
   "cell_type": "code",
   "execution_count": 30,
   "metadata": {},
   "outputs": [
    {
     "data": {
      "image/png": "[encoded data removed]",
      "text/plain": [
       "<Figure size 640x480 with 1 Axes>"
      ]
     },
     "metadata": {},
     "output_type": "display_data"
    },
    {
     "name": "stdout",
     "output_type": "stream",
     "text": [
      "AUC-ROC= 0.8445876708819489\n"
     ]
    }
   ],
   "source": [
    "probabilities_test = model.predict_proba(test_features)\n",
    "probabilities_one_test = probabilities_test[:, 1]\n",
    "auc_roc = roc_auc_score(test_target, probabilities_one_test)\n",
    "fpr, tpr, thresholds = roc_curve(test_target, probabilities_one_test)\n",
    "\n",
    "\n",
    "plt.figure()\n",
    "plt.plot(fpr, tpr)\n",
    "plt.plot([0, 1], [0, 1], linestyle='--')\n",
    "plt.xlim([0.0, 1.0])\n",
    "plt.ylim([0.0, 1.0])\n",
    "plt.xlabel('False Positive Rate')\n",
    "plt.ylabel('True Positive Rate')\n",
    "plt.title('ROC-curve')\n",
    "plt.show()\n",
    "print(\"AUC-ROC=\", auc_roc)"
   ]
  },
  {
   "cell_type": "markdown",
   "metadata": {},
   "source": [
    "## Conclusion\n",
    "The data of the bank's clients was studied and an adequate model was built to predict people's behavior, which will allow the bank to maintain its audience.\n",
    "\n",
    "At the first stage, gaps in the data were removed and a sample was prepared for machine learning. Next, three different models were built and the basic results from which we started were obtained.\n",
    "\n",
    "There is a strong imbalance in the database: there are 4 times more current bank clients than departed ones. To eliminate this drawback, two methods were used: increasing and decreasing the sample (upsample and downsample, respectively).\n",
    "\n",
    "The Random Forest upsample model showed the best results. The f1_score on the test sample is **0.594**, which is higher than the target, and AUC-ROC=**0.844**, which indicates the adequacy of the resulting model."
   ]
  }
 ],
 "metadata": {
  "ExecuteTimeLog": [
   {
    "duration": 666,
    "start_time": "2023-05-10T20:58:17.653Z"
   },
   {
    "duration": 50,
    "start_time": "2023-05-10T20:58:34.892Z"
   },
   {
    "duration": 29,
    "start_time": "2023-05-10T20:58:48.918Z"
   },
   {
    "duration": 553,
    "start_time": "2023-05-20T17:55:57.167Z"
   },
   {
    "duration": 23,
    "start_time": "2023-05-20T17:56:00.435Z"
   },
   {
    "duration": 63,
    "start_time": "2023-05-20T17:56:08.057Z"
   },
   {
    "duration": 5,
    "start_time": "2023-05-20T17:56:13.480Z"
   },
   {
    "duration": 17,
    "start_time": "2023-05-20T17:56:22.470Z"
   },
   {
    "duration": 11,
    "start_time": "2023-05-20T17:56:46.939Z"
   },
   {
    "duration": 17,
    "start_time": "2023-05-20T17:57:07.623Z"
   },
   {
    "duration": 11,
    "start_time": "2023-05-20T17:57:32.773Z"
   },
   {
    "duration": 50,
    "start_time": "2023-05-20T17:57:41.486Z"
   },
   {
    "duration": 14,
    "start_time": "2023-05-20T17:57:41.537Z"
   },
   {
    "duration": 24,
    "start_time": "2023-05-20T17:57:41.553Z"
   },
   {
    "duration": 12,
    "start_time": "2023-05-20T17:58:04.589Z"
   },
   {
    "duration": 1980,
    "start_time": "2023-05-20T18:00:02.534Z"
   },
   {
    "duration": 1187,
    "start_time": "2023-05-20T18:01:05.078Z"
   },
   {
    "duration": 938,
    "start_time": "2023-05-20T18:01:33.470Z"
   },
   {
    "duration": 1019,
    "start_time": "2023-05-20T18:01:41.362Z"
   },
   {
    "duration": 1177,
    "start_time": "2023-05-20T18:02:06.574Z"
   },
   {
    "duration": 1377,
    "start_time": "2023-05-20T18:02:16.489Z"
   },
   {
    "duration": 1267,
    "start_time": "2023-05-20T18:02:22.302Z"
   },
   {
    "duration": 1339,
    "start_time": "2023-05-20T18:02:29.617Z"
   },
   {
    "duration": 1003,
    "start_time": "2023-05-20T18:02:41.439Z"
   },
   {
    "duration": 1310,
    "start_time": "2023-05-20T18:03:07.264Z"
   },
   {
    "duration": 55,
    "start_time": "2023-05-20T18:03:43.485Z"
   },
   {
    "duration": 16,
    "start_time": "2023-05-20T18:03:43.542Z"
   },
   {
    "duration": 28,
    "start_time": "2023-05-20T18:03:43.560Z"
   },
   {
    "duration": 1476,
    "start_time": "2023-05-20T18:03:43.590Z"
   },
   {
    "duration": 1643,
    "start_time": "2023-05-20T18:03:45.068Z"
   },
   {
    "duration": 20,
    "start_time": "2023-05-20T18:04:53.701Z"
   },
   {
    "duration": 1319,
    "start_time": "2023-05-20T18:04:56.337Z"
   },
   {
    "duration": 73,
    "start_time": "2023-05-20T18:08:01.778Z"
   },
   {
    "duration": 14,
    "start_time": "2023-05-20T18:12:18.601Z"
   },
   {
    "duration": 24,
    "start_time": "2023-05-20T18:15:32.099Z"
   },
   {
    "duration": 1151,
    "start_time": "2023-05-20T18:15:36.675Z"
   },
   {
    "duration": 10,
    "start_time": "2023-05-20T18:15:57.576Z"
   },
   {
    "duration": 15,
    "start_time": "2023-05-20T18:16:05.181Z"
   },
   {
    "duration": 52,
    "start_time": "2023-05-20T18:16:17.819Z"
   },
   {
    "duration": 21,
    "start_time": "2023-05-20T18:16:17.873Z"
   },
   {
    "duration": 6,
    "start_time": "2023-05-20T18:16:17.896Z"
   },
   {
    "duration": 26,
    "start_time": "2023-05-20T18:16:17.904Z"
   },
   {
    "duration": 1855,
    "start_time": "2023-05-20T18:16:17.932Z"
   },
   {
    "duration": 1559,
    "start_time": "2023-05-20T18:16:19.788Z"
   },
   {
    "duration": 13,
    "start_time": "2023-05-20T18:16:21.350Z"
   },
   {
    "duration": 12,
    "start_time": "2023-05-20T18:16:28.185Z"
   },
   {
    "duration": 68,
    "start_time": "2023-05-20T18:16:34.279Z"
   },
   {
    "duration": 17,
    "start_time": "2023-05-20T18:16:34.352Z"
   },
   {
    "duration": 175,
    "start_time": "2023-05-20T18:16:34.370Z"
   },
   {
    "duration": 28,
    "start_time": "2023-05-20T18:16:34.548Z"
   },
   {
    "duration": 1864,
    "start_time": "2023-05-20T18:16:34.578Z"
   },
   {
    "duration": 1462,
    "start_time": "2023-05-20T18:16:36.445Z"
   },
   {
    "duration": 32,
    "start_time": "2023-05-20T18:16:37.909Z"
   },
   {
    "duration": 12,
    "start_time": "2023-05-20T18:17:54.650Z"
   },
   {
    "duration": 50,
    "start_time": "2023-05-20T18:18:43.967Z"
   },
   {
    "duration": 17,
    "start_time": "2023-05-20T18:18:44.019Z"
   },
   {
    "duration": 11,
    "start_time": "2023-05-20T18:18:44.038Z"
   },
   {
    "duration": 15,
    "start_time": "2023-05-20T18:18:44.052Z"
   },
   {
    "duration": 0,
    "start_time": "2023-05-20T18:18:44.069Z"
   },
   {
    "duration": 0,
    "start_time": "2023-05-20T18:18:44.071Z"
   },
   {
    "duration": 0,
    "start_time": "2023-05-20T18:18:44.072Z"
   },
   {
    "duration": 67,
    "start_time": "2023-05-20T18:19:25.792Z"
   },
   {
    "duration": 17,
    "start_time": "2023-05-20T18:19:25.862Z"
   },
   {
    "duration": 9,
    "start_time": "2023-05-20T18:19:25.880Z"
   },
   {
    "duration": 46,
    "start_time": "2023-05-20T18:19:25.891Z"
   },
   {
    "duration": 1785,
    "start_time": "2023-05-20T18:19:25.948Z"
   },
   {
    "duration": 1500,
    "start_time": "2023-05-20T18:19:27.736Z"
   },
   {
    "duration": 17,
    "start_time": "2023-05-20T18:19:29.237Z"
   },
   {
    "duration": 17,
    "start_time": "2023-05-20T18:19:45.102Z"
   },
   {
    "duration": 4,
    "start_time": "2023-05-20T18:22:52.088Z"
   },
   {
    "duration": 9,
    "start_time": "2023-05-20T18:25:42.402Z"
   },
   {
    "duration": 1090,
    "start_time": "2023-05-20T18:26:00.911Z"
   },
   {
    "duration": 18,
    "start_time": "2023-05-20T18:26:02.003Z"
   },
   {
    "duration": 36,
    "start_time": "2023-05-20T18:26:02.022Z"
   },
   {
    "duration": 44,
    "start_time": "2023-05-20T18:26:02.061Z"
   },
   {
    "duration": 1753,
    "start_time": "2023-05-20T18:26:02.107Z"
   },
   {
    "duration": 1514,
    "start_time": "2023-05-20T18:26:03.862Z"
   },
   {
    "duration": 14,
    "start_time": "2023-05-20T18:26:05.377Z"
   },
   {
    "duration": 39,
    "start_time": "2023-05-20T18:26:05.392Z"
   },
   {
    "duration": 15,
    "start_time": "2023-05-20T18:26:05.440Z"
   },
   {
    "duration": 10,
    "start_time": "2023-05-20T18:26:05.457Z"
   },
   {
    "duration": 52,
    "start_time": "2023-05-20T18:26:57.746Z"
   },
   {
    "duration": 239,
    "start_time": "2023-05-20T18:27:22.771Z"
   },
   {
    "duration": 15,
    "start_time": "2023-05-20T18:28:34.484Z"
   },
   {
    "duration": 105,
    "start_time": "2023-05-20T18:34:31.749Z"
   },
   {
    "duration": 16,
    "start_time": "2023-05-20T18:34:31.856Z"
   },
   {
    "duration": 24,
    "start_time": "2023-05-20T18:34:31.874Z"
   },
   {
    "duration": 20,
    "start_time": "2023-05-20T18:34:31.901Z"
   },
   {
    "duration": 1494,
    "start_time": "2023-05-20T18:34:31.923Z"
   },
   {
    "duration": 1359,
    "start_time": "2023-05-20T18:34:33.418Z"
   },
   {
    "duration": 17,
    "start_time": "2023-05-20T18:34:34.779Z"
   },
   {
    "duration": 33,
    "start_time": "2023-05-20T18:34:34.798Z"
   },
   {
    "duration": 12,
    "start_time": "2023-05-20T18:34:34.832Z"
   },
   {
    "duration": 23,
    "start_time": "2023-05-20T18:34:34.846Z"
   },
   {
    "duration": 34,
    "start_time": "2023-05-20T18:35:08.753Z"
   },
   {
    "duration": 34,
    "start_time": "2023-05-20T18:35:27.353Z"
   },
   {
    "duration": 14563,
    "start_time": "2023-05-20T18:35:31.500Z"
   },
   {
    "duration": 58,
    "start_time": "2023-05-20T18:39:48.878Z"
   },
   {
    "duration": 16,
    "start_time": "2023-05-20T18:39:48.943Z"
   },
   {
    "duration": 5,
    "start_time": "2023-05-20T18:39:48.961Z"
   },
   {
    "duration": 11,
    "start_time": "2023-05-20T18:39:48.967Z"
   },
   {
    "duration": 1760,
    "start_time": "2023-05-20T18:39:48.980Z"
   },
   {
    "duration": 1258,
    "start_time": "2023-05-20T18:39:50.742Z"
   },
   {
    "duration": 26,
    "start_time": "2023-05-20T18:39:52.002Z"
   },
   {
    "duration": 18,
    "start_time": "2023-05-20T18:39:52.030Z"
   },
   {
    "duration": 8,
    "start_time": "2023-05-20T18:39:52.050Z"
   },
   {
    "duration": 53,
    "start_time": "2023-05-20T18:39:52.060Z"
   },
   {
    "duration": 40,
    "start_time": "2023-05-20T18:39:59.882Z"
   },
   {
    "duration": 55,
    "start_time": "2023-05-20T18:40:22.660Z"
   },
   {
    "duration": 43,
    "start_time": "2023-05-20T18:40:25.573Z"
   },
   {
    "duration": 15463,
    "start_time": "2023-05-20T18:41:57.413Z"
   },
   {
    "duration": 33,
    "start_time": "2023-05-20T18:43:46.286Z"
   },
   {
    "duration": 21143,
    "start_time": "2023-05-20T18:43:48.308Z"
   },
   {
    "duration": 1023,
    "start_time": "2023-05-20T18:46:22.793Z"
   },
   {
    "duration": 7327,
    "start_time": "2023-05-20T18:47:41.815Z"
   },
   {
    "duration": 6388,
    "start_time": "2023-05-20T18:48:15.044Z"
   },
   {
    "duration": 984,
    "start_time": "2023-05-20T18:48:50.381Z"
   },
   {
    "duration": 11961,
    "start_time": "2023-05-20T18:50:39.668Z"
   },
   {
    "duration": 74,
    "start_time": "2023-05-20T18:51:18.752Z"
   },
   {
    "duration": 111,
    "start_time": "2023-05-20T18:51:35.698Z"
   },
   {
    "duration": 11396,
    "start_time": "2023-05-20T18:51:47.619Z"
   },
   {
    "duration": 9574,
    "start_time": "2023-05-20T18:53:25.893Z"
   },
   {
    "duration": 4578,
    "start_time": "2023-05-20T18:53:51.796Z"
   },
   {
    "duration": 2473,
    "start_time": "2023-05-20T18:54:25.680Z"
   },
   {
    "duration": 2447,
    "start_time": "2023-05-20T18:54:39.853Z"
   },
   {
    "duration": 2526,
    "start_time": "2023-05-20T18:54:57.422Z"
   },
   {
    "duration": 50,
    "start_time": "2023-05-20T18:55:09.963Z"
   },
   {
    "duration": 23,
    "start_time": "2023-05-20T18:55:10.015Z"
   },
   {
    "duration": 8,
    "start_time": "2023-05-20T18:55:10.040Z"
   },
   {
    "duration": 17,
    "start_time": "2023-05-20T18:55:10.049Z"
   },
   {
    "duration": 1451,
    "start_time": "2023-05-20T18:55:10.068Z"
   },
   {
    "duration": 1645,
    "start_time": "2023-05-20T18:55:11.521Z"
   },
   {
    "duration": 12,
    "start_time": "2023-05-20T18:55:13.167Z"
   },
   {
    "duration": 30,
    "start_time": "2023-05-20T18:55:13.181Z"
   },
   {
    "duration": 8,
    "start_time": "2023-05-20T18:55:13.213Z"
   },
   {
    "duration": 27,
    "start_time": "2023-05-20T18:55:13.222Z"
   },
   {
    "duration": 906,
    "start_time": "2023-05-20T18:55:13.251Z"
   },
   {
    "duration": 2461,
    "start_time": "2023-05-20T18:55:14.159Z"
   },
   {
    "duration": 4602,
    "start_time": "2023-05-20T18:55:16.625Z"
   },
   {
    "duration": 488,
    "start_time": "2023-05-20T18:57:40.711Z"
   },
   {
    "duration": 2572,
    "start_time": "2023-05-20T18:58:06.664Z"
   },
   {
    "duration": 22,
    "start_time": "2023-05-20T18:58:44.770Z"
   },
   {
    "duration": 10,
    "start_time": "2023-05-20T18:59:10.014Z"
   },
   {
    "duration": 28,
    "start_time": "2023-05-20T19:00:48.277Z"
   },
   {
    "duration": 26,
    "start_time": "2023-05-20T19:02:20.949Z"
   },
   {
    "duration": 21,
    "start_time": "2023-05-20T19:02:30.168Z"
   },
   {
    "duration": 15,
    "start_time": "2023-05-20T19:02:48.283Z"
   },
   {
    "duration": 49,
    "start_time": "2023-05-20T20:04:36.516Z"
   },
   {
    "duration": 15,
    "start_time": "2023-05-20T20:04:36.567Z"
   },
   {
    "duration": 6,
    "start_time": "2023-05-20T20:04:36.583Z"
   },
   {
    "duration": 10,
    "start_time": "2023-05-20T20:04:36.590Z"
   },
   {
    "duration": 1426,
    "start_time": "2023-05-20T20:04:36.602Z"
   },
   {
    "duration": 1530,
    "start_time": "2023-05-20T20:04:38.029Z"
   },
   {
    "duration": 13,
    "start_time": "2023-05-20T20:04:39.561Z"
   },
   {
    "duration": 17,
    "start_time": "2023-05-20T20:04:39.576Z"
   },
   {
    "duration": 5,
    "start_time": "2023-05-20T20:04:39.595Z"
   },
   {
    "duration": 17,
    "start_time": "2023-05-20T20:04:39.626Z"
   },
   {
    "duration": 548,
    "start_time": "2023-05-20T20:04:39.646Z"
   },
   {
    "duration": 2389,
    "start_time": "2023-05-20T20:04:40.196Z"
   },
   {
    "duration": 2243,
    "start_time": "2023-05-20T20:04:42.587Z"
   },
   {
    "duration": 95,
    "start_time": "2023-05-20T20:04:44.834Z"
   },
   {
    "duration": 15,
    "start_time": "2023-05-20T20:04:44.931Z"
   },
   {
    "duration": 1113,
    "start_time": "2023-05-20T20:05:58.242Z"
   },
   {
    "duration": 5,
    "start_time": "2023-05-20T20:06:21.151Z"
   },
   {
    "duration": 6,
    "start_time": "2023-05-20T20:07:43.969Z"
   },
   {
    "duration": 13,
    "start_time": "2023-05-20T20:07:55.107Z"
   },
   {
    "duration": 22,
    "start_time": "2023-05-20T20:08:09.762Z"
   },
   {
    "duration": 48,
    "start_time": "2023-05-20T20:08:41.181Z"
   },
   {
    "duration": 19,
    "start_time": "2023-05-20T20:08:45.888Z"
   },
   {
    "duration": 10,
    "start_time": "2023-05-20T20:08:48.551Z"
   },
   {
    "duration": 10,
    "start_time": "2023-05-20T20:10:41.258Z"
   },
   {
    "duration": 11,
    "start_time": "2023-05-20T20:11:22.516Z"
   },
   {
    "duration": 41,
    "start_time": "2023-05-20T20:11:24.778Z"
   },
   {
    "duration": 78,
    "start_time": "2023-05-20T20:11:45.946Z"
   },
   {
    "duration": 30,
    "start_time": "2023-05-20T20:12:52.700Z"
   },
   {
    "duration": 585,
    "start_time": "2023-05-20T20:14:17.849Z"
   },
   {
    "duration": 1834,
    "start_time": "2023-05-20T20:14:37.104Z"
   },
   {
    "duration": 614,
    "start_time": "2023-05-20T20:14:42.089Z"
   },
   {
    "duration": 412,
    "start_time": "2023-05-20T20:15:25.049Z"
   },
   {
    "duration": 593,
    "start_time": "2023-05-20T20:15:39.385Z"
   },
   {
    "duration": 2253,
    "start_time": "2023-05-20T20:15:59.854Z"
   },
   {
    "duration": 8523,
    "start_time": "2023-05-20T20:16:48.158Z"
   },
   {
    "duration": 3244,
    "start_time": "2023-05-20T20:17:37.774Z"
   },
   {
    "duration": 13948,
    "start_time": "2023-05-20T20:17:46.450Z"
   },
   {
    "duration": 3874,
    "start_time": "2023-05-20T20:18:26.187Z"
   },
   {
    "duration": 21,
    "start_time": "2023-05-20T20:18:36.564Z"
   },
   {
    "duration": 19,
    "start_time": "2023-05-20T20:18:39.162Z"
   },
   {
    "duration": 23,
    "start_time": "2023-05-20T20:18:42.858Z"
   },
   {
    "duration": 1595,
    "start_time": "2023-05-20T20:18:52.558Z"
   },
   {
    "duration": 6717,
    "start_time": "2023-05-20T20:18:58.658Z"
   },
   {
    "duration": 3396,
    "start_time": "2023-05-20T20:19:20.418Z"
   },
   {
    "duration": 3113,
    "start_time": "2023-05-20T20:19:31.340Z"
   },
   {
    "duration": 331,
    "start_time": "2023-05-20T20:19:42.680Z"
   },
   {
    "duration": 269,
    "start_time": "2023-05-20T20:19:52.188Z"
   },
   {
    "duration": 508,
    "start_time": "2023-05-20T20:19:56.011Z"
   },
   {
    "duration": 12172,
    "start_time": "2023-05-20T20:21:48.821Z"
   },
   {
    "duration": 8590,
    "start_time": "2023-05-20T20:22:17.377Z"
   },
   {
    "duration": 49489,
    "start_time": "2023-05-20T20:22:45.258Z"
   },
   {
    "duration": 8903,
    "start_time": "2023-05-20T20:24:14.208Z"
   },
   {
    "duration": 3333,
    "start_time": "2023-05-20T20:25:05.550Z"
   },
   {
    "duration": 17377,
    "start_time": "2023-05-20T20:25:35.872Z"
   },
   {
    "duration": 42753,
    "start_time": "2023-05-20T20:26:20.555Z"
   },
   {
    "duration": 7761,
    "start_time": "2023-05-20T20:27:19.866Z"
   },
   {
    "duration": 11735,
    "start_time": "2023-05-20T20:27:35.300Z"
   },
   {
    "duration": 6760,
    "start_time": "2023-05-20T20:28:04.750Z"
   },
   {
    "duration": 0,
    "start_time": "2023-05-20T20:28:41.425Z"
   },
   {
    "duration": 32168,
    "start_time": "2023-05-20T20:28:43.110Z"
   },
   {
    "duration": 10857,
    "start_time": "2023-05-20T20:30:47.297Z"
   },
   {
    "duration": 8969,
    "start_time": "2023-05-20T20:31:47.990Z"
   },
   {
    "duration": 12063,
    "start_time": "2023-05-20T20:32:02.173Z"
   },
   {
    "duration": 11857,
    "start_time": "2023-05-20T20:32:23.508Z"
   },
   {
    "duration": 3357,
    "start_time": "2023-05-20T20:33:27.879Z"
   },
   {
    "duration": 5,
    "start_time": "2023-05-20T20:34:10.414Z"
   },
   {
    "duration": 9,
    "start_time": "2023-05-20T20:35:16.583Z"
   },
   {
    "duration": 16,
    "start_time": "2023-05-20T20:35:31.319Z"
   },
   {
    "duration": 258,
    "start_time": "2023-05-20T20:35:41.748Z"
   },
   {
    "duration": 4514,
    "start_time": "2023-05-20T20:36:17.271Z"
   },
   {
    "duration": 3325,
    "start_time": "2023-05-20T20:36:36.550Z"
   },
   {
    "duration": 4436,
    "start_time": "2023-05-20T20:36:43.521Z"
   },
   {
    "duration": 1717,
    "start_time": "2023-05-20T20:36:56.288Z"
   },
   {
    "duration": 4495,
    "start_time": "2023-05-20T20:37:38.012Z"
   },
   {
    "duration": 182,
    "start_time": "2023-05-20T20:38:03.598Z"
   },
   {
    "duration": 50,
    "start_time": "2023-05-20T20:39:34.354Z"
   },
   {
    "duration": 47,
    "start_time": "2023-05-20T20:39:50.447Z"
   },
   {
    "duration": 485,
    "start_time": "2023-05-20T20:39:57.547Z"
   },
   {
    "duration": 469,
    "start_time": "2023-05-20T20:40:49.954Z"
   },
   {
    "duration": 511,
    "start_time": "2023-05-20T20:42:00.571Z"
   },
   {
    "duration": 831,
    "start_time": "2023-05-20T20:42:28.270Z"
   },
   {
    "duration": 493,
    "start_time": "2023-05-20T20:42:40.363Z"
   },
   {
    "duration": 495,
    "start_time": "2023-05-20T20:42:55.271Z"
   },
   {
    "duration": 70,
    "start_time": "2023-05-21T00:04:54.393Z"
   },
   {
    "duration": 1123,
    "start_time": "2023-05-21T00:04:58.152Z"
   },
   {
    "duration": 19,
    "start_time": "2023-05-21T00:04:59.276Z"
   },
   {
    "duration": 3,
    "start_time": "2023-05-21T00:04:59.297Z"
   },
   {
    "duration": 12,
    "start_time": "2023-05-21T00:04:59.301Z"
   },
   {
    "duration": 1765,
    "start_time": "2023-05-21T00:04:59.314Z"
   },
   {
    "duration": 1411,
    "start_time": "2023-05-21T00:05:01.080Z"
   },
   {
    "duration": 15,
    "start_time": "2023-05-21T00:05:02.493Z"
   },
   {
    "duration": 15,
    "start_time": "2023-05-21T00:05:02.509Z"
   },
   {
    "duration": 13,
    "start_time": "2023-05-21T00:05:02.525Z"
   },
   {
    "duration": 56,
    "start_time": "2023-05-21T00:05:02.539Z"
   },
   {
    "duration": 436,
    "start_time": "2023-05-21T00:05:02.597Z"
   },
   {
    "duration": 1934,
    "start_time": "2023-05-21T00:05:03.034Z"
   },
   {
    "duration": 3829,
    "start_time": "2023-05-21T00:05:04.969Z"
   },
   {
    "duration": 100,
    "start_time": "2023-05-21T00:05:08.802Z"
   },
   {
    "duration": 24,
    "start_time": "2023-05-21T00:05:08.904Z"
   },
   {
    "duration": 40,
    "start_time": "2023-05-21T00:05:08.929Z"
   },
   {
    "duration": 506,
    "start_time": "2023-05-21T00:05:08.970Z"
   },
   {
    "duration": 94,
    "start_time": "2023-05-21T00:05:09.478Z"
   },
   {
    "duration": 0,
    "start_time": "2023-05-21T00:05:09.574Z"
   },
   {
    "duration": 0,
    "start_time": "2023-05-21T00:05:09.576Z"
   },
   {
    "duration": 0,
    "start_time": "2023-05-21T00:05:09.577Z"
   },
   {
    "duration": 0,
    "start_time": "2023-05-21T00:05:09.579Z"
   },
   {
    "duration": 0,
    "start_time": "2023-05-21T00:05:09.581Z"
   },
   {
    "duration": 13,
    "start_time": "2023-05-21T00:07:56.496Z"
   },
   {
    "duration": 358,
    "start_time": "2023-05-21T00:07:58.464Z"
   },
   {
    "duration": 345,
    "start_time": "2023-05-21T00:08:04.949Z"
   },
   {
    "duration": 1909,
    "start_time": "2023-05-21T00:08:06.889Z"
   },
   {
    "duration": 1897,
    "start_time": "2023-05-21T00:08:52.273Z"
   },
   {
    "duration": 2108,
    "start_time": "2023-05-21T00:09:21.172Z"
   },
   {
    "duration": 115,
    "start_time": "2023-05-21T00:09:24.542Z"
   },
   {
    "duration": 559,
    "start_time": "2023-05-21T00:09:41.838Z"
   },
   {
    "duration": 405,
    "start_time": "2023-05-21T00:09:51.310Z"
   },
   {
    "duration": 7496,
    "start_time": "2023-05-21T00:09:54.700Z"
   },
   {
    "duration": 632,
    "start_time": "2023-05-21T00:10:10.724Z"
   },
   {
    "duration": 2991,
    "start_time": "2023-05-21T00:10:17.851Z"
   },
   {
    "duration": 231,
    "start_time": "2023-05-21T00:10:30.018Z"
   },
   {
    "duration": 12,
    "start_time": "2023-05-21T00:10:40.959Z"
   },
   {
    "duration": 217,
    "start_time": "2023-05-21T00:10:44.205Z"
   },
   {
    "duration": 573,
    "start_time": "2023-05-21T00:10:56.778Z"
   },
   {
    "duration": 731,
    "start_time": "2023-05-21T00:13:59.823Z"
   },
   {
    "duration": 997,
    "start_time": "2023-05-21T00:14:17.891Z"
   },
   {
    "duration": 294,
    "start_time": "2023-05-21T00:14:25.019Z"
   },
   {
    "duration": 291,
    "start_time": "2023-05-21T00:14:31.554Z"
   },
   {
    "duration": 459,
    "start_time": "2023-05-21T00:14:41.076Z"
   },
   {
    "duration": 1443,
    "start_time": "2023-05-21T00:14:45.468Z"
   },
   {
    "duration": 549,
    "start_time": "2023-05-21T00:14:50.534Z"
   },
   {
    "duration": 454,
    "start_time": "2023-05-21T00:15:39.081Z"
   },
   {
    "duration": 30,
    "start_time": "2023-05-21T00:15:52.290Z"
   },
   {
    "duration": 3797,
    "start_time": "2023-05-21T00:15:59.159Z"
   },
   {
    "duration": 7753,
    "start_time": "2023-05-21T00:16:18.733Z"
   },
   {
    "duration": 3735,
    "start_time": "2023-05-21T00:16:34.616Z"
   },
   {
    "duration": 18,
    "start_time": "2023-05-21T00:17:42.417Z"
   },
   {
    "duration": 11,
    "start_time": "2023-05-21T00:17:48.494Z"
   },
   {
    "duration": 530,
    "start_time": "2023-05-21T00:17:53.869Z"
   },
   {
    "duration": 4,
    "start_time": "2023-05-21T00:18:03.379Z"
   },
   {
    "duration": 10,
    "start_time": "2023-05-21T00:18:39.111Z"
   },
   {
    "duration": 3735,
    "start_time": "2023-05-21T00:19:10.699Z"
   },
   {
    "duration": 1279,
    "start_time": "2023-05-21T00:20:39.852Z"
   },
   {
    "duration": 187,
    "start_time": "2023-05-21T00:21:27.749Z"
   },
   {
    "duration": 3736,
    "start_time": "2023-05-21T00:22:00.540Z"
   },
   {
    "duration": 1421,
    "start_time": "2023-05-21T00:22:10.457Z"
   },
   {
    "duration": 1525,
    "start_time": "2023-05-21T00:22:17.159Z"
   },
   {
    "duration": 34,
    "start_time": "2023-05-21T00:23:01.671Z"
   },
   {
    "duration": 462,
    "start_time": "2023-05-21T00:24:00.085Z"
   },
   {
    "duration": 460,
    "start_time": "2023-05-21T00:24:08.870Z"
   },
   {
    "duration": 492,
    "start_time": "2023-05-21T00:25:49.353Z"
   },
   {
    "duration": 474,
    "start_time": "2023-05-21T00:25:57.446Z"
   },
   {
    "duration": 429,
    "start_time": "2023-05-21T00:26:23.778Z"
   },
   {
    "duration": 33,
    "start_time": "2023-05-21T00:27:08.952Z"
   },
   {
    "duration": 14,
    "start_time": "2023-05-21T00:28:54.697Z"
   },
   {
    "duration": 435,
    "start_time": "2023-05-21T00:29:00.760Z"
   },
   {
    "duration": 477,
    "start_time": "2023-05-21T00:29:21.115Z"
   },
   {
    "duration": 201,
    "start_time": "2023-05-21T00:30:49.599Z"
   },
   {
    "duration": 447,
    "start_time": "2023-05-21T00:31:18.623Z"
   },
   {
    "duration": 451,
    "start_time": "2023-05-21T00:31:28.288Z"
   },
   {
    "duration": 1116,
    "start_time": "2023-05-21T00:31:50.689Z"
   },
   {
    "duration": 2521,
    "start_time": "2023-05-21T00:32:01.375Z"
   },
   {
    "duration": 418,
    "start_time": "2023-05-21T00:32:11.373Z"
   },
   {
    "duration": 50,
    "start_time": "2023-05-21T00:42:02.297Z"
   },
   {
    "duration": 13,
    "start_time": "2023-05-21T00:42:02.350Z"
   },
   {
    "duration": 28,
    "start_time": "2023-05-21T00:42:02.365Z"
   },
   {
    "duration": 33,
    "start_time": "2023-05-21T00:42:02.394Z"
   },
   {
    "duration": 1384,
    "start_time": "2023-05-21T00:42:02.429Z"
   },
   {
    "duration": 1477,
    "start_time": "2023-05-21T00:42:03.814Z"
   },
   {
    "duration": 11,
    "start_time": "2023-05-21T00:42:05.294Z"
   },
   {
    "duration": 12,
    "start_time": "2023-05-21T00:42:05.307Z"
   },
   {
    "duration": 7,
    "start_time": "2023-05-21T00:42:05.322Z"
   },
   {
    "duration": 17,
    "start_time": "2023-05-21T00:42:05.331Z"
   },
   {
    "duration": 581,
    "start_time": "2023-05-21T00:42:05.349Z"
   },
   {
    "duration": 2764,
    "start_time": "2023-05-21T00:42:05.932Z"
   },
   {
    "duration": 1305,
    "start_time": "2023-05-21T00:42:08.698Z"
   },
   {
    "duration": 6,
    "start_time": "2023-05-21T00:42:10.095Z"
   },
   {
    "duration": 4,
    "start_time": "2023-05-21T00:42:10.102Z"
   },
   {
    "duration": 15,
    "start_time": "2023-05-21T00:42:10.108Z"
   },
   {
    "duration": 467,
    "start_time": "2023-05-21T00:42:10.124Z"
   },
   {
    "duration": 3721,
    "start_time": "2023-05-21T00:42:10.595Z"
   },
   {
    "duration": 787,
    "start_time": "2023-05-21T00:42:14.318Z"
   },
   {
    "duration": 5,
    "start_time": "2023-05-21T00:42:15.195Z"
   },
   {
    "duration": 131,
    "start_time": "2023-05-21T00:42:15.203Z"
   },
   {
    "duration": 200,
    "start_time": "2023-05-21T00:42:15.336Z"
   },
   {
    "duration": 1679,
    "start_time": "2023-05-21T00:42:15.537Z"
   },
   {
    "duration": 290,
    "start_time": "2023-05-21T00:42:17.218Z"
   },
   {
    "duration": 550,
    "start_time": "2023-05-21T00:42:17.596Z"
   },
   {
    "duration": 48,
    "start_time": "2023-05-21T00:42:52.496Z"
   },
   {
    "duration": 14,
    "start_time": "2023-05-21T00:45:51.441Z"
   },
   {
    "duration": 36,
    "start_time": "2023-05-21T00:45:59.483Z"
   },
   {
    "duration": 51,
    "start_time": "2023-05-21T00:46:40.634Z"
   },
   {
    "duration": 33,
    "start_time": "2023-05-21T00:46:45.517Z"
   },
   {
    "duration": 45,
    "start_time": "2023-05-21T00:46:54.607Z"
   },
   {
    "duration": 48,
    "start_time": "2023-05-21T00:47:21.576Z"
   },
   {
    "duration": 13,
    "start_time": "2023-05-21T00:47:21.626Z"
   },
   {
    "duration": 19,
    "start_time": "2023-05-21T00:47:21.641Z"
   },
   {
    "duration": 18,
    "start_time": "2023-05-21T00:47:21.662Z"
   },
   {
    "duration": 1260,
    "start_time": "2023-05-21T00:47:21.682Z"
   },
   {
    "duration": 1414,
    "start_time": "2023-05-21T00:47:22.943Z"
   },
   {
    "duration": 11,
    "start_time": "2023-05-21T00:47:24.360Z"
   },
   {
    "duration": 33,
    "start_time": "2023-05-21T00:47:24.373Z"
   },
   {
    "duration": 26,
    "start_time": "2023-05-21T00:47:24.408Z"
   },
   {
    "duration": 31,
    "start_time": "2023-05-21T00:47:24.437Z"
   },
   {
    "duration": 595,
    "start_time": "2023-05-21T00:47:24.469Z"
   },
   {
    "duration": 2720,
    "start_time": "2023-05-21T00:47:25.066Z"
   },
   {
    "duration": 1916,
    "start_time": "2023-05-21T00:47:27.787Z"
   },
   {
    "duration": 94,
    "start_time": "2023-05-21T00:47:29.706Z"
   },
   {
    "duration": 103,
    "start_time": "2023-05-21T00:47:29.801Z"
   },
   {
    "duration": 16,
    "start_time": "2023-05-21T00:47:29.906Z"
   },
   {
    "duration": 488,
    "start_time": "2023-05-21T00:47:29.924Z"
   },
   {
    "duration": 3886,
    "start_time": "2023-05-21T00:47:30.414Z"
   },
   {
    "duration": 997,
    "start_time": "2023-05-21T00:47:34.302Z"
   },
   {
    "duration": 95,
    "start_time": "2023-05-21T00:47:35.301Z"
   },
   {
    "duration": 104,
    "start_time": "2023-05-21T00:47:35.398Z"
   },
   {
    "duration": 191,
    "start_time": "2023-05-21T00:47:35.504Z"
   },
   {
    "duration": 1513,
    "start_time": "2023-05-21T00:47:35.697Z"
   },
   {
    "duration": 390,
    "start_time": "2023-05-21T00:47:37.211Z"
   },
   {
    "duration": 610,
    "start_time": "2023-05-21T00:47:37.603Z"
   },
   {
    "duration": 147,
    "start_time": "2023-05-21T00:47:38.215Z"
   },
   {
    "duration": 140,
    "start_time": "2023-05-21T00:49:03.830Z"
   },
   {
    "duration": 134,
    "start_time": "2023-05-21T00:49:25.451Z"
   },
   {
    "duration": 6,
    "start_time": "2023-05-21T00:51:32.564Z"
   },
   {
    "duration": 19,
    "start_time": "2023-05-21T00:51:34.953Z"
   },
   {
    "duration": 6,
    "start_time": "2023-05-21T00:51:43.634Z"
   },
   {
    "duration": 49,
    "start_time": "2023-05-21T01:29:49.987Z"
   },
   {
    "duration": 19,
    "start_time": "2023-05-21T01:30:04.095Z"
   },
   {
    "duration": 46,
    "start_time": "2023-05-21T01:30:31.206Z"
   },
   {
    "duration": 10,
    "start_time": "2023-05-21T01:37:09.894Z"
   },
   {
    "duration": 518,
    "start_time": "2023-05-21T01:39:03.780Z"
   },
   {
    "duration": 284,
    "start_time": "2023-05-21T01:52:35.292Z"
   },
   {
    "duration": 287,
    "start_time": "2023-05-21T01:52:53.772Z"
   },
   {
    "duration": 280,
    "start_time": "2023-05-21T01:52:58.870Z"
   },
   {
    "duration": 6,
    "start_time": "2023-05-21T01:53:25.469Z"
   },
   {
    "duration": 274,
    "start_time": "2023-05-21T01:55:07.100Z"
   },
   {
    "duration": 242,
    "start_time": "2023-05-21T01:55:41.137Z"
   },
   {
    "duration": 49,
    "start_time": "2023-05-21T02:11:19.621Z"
   },
   {
    "duration": 17,
    "start_time": "2023-05-21T02:11:19.672Z"
   },
   {
    "duration": 6,
    "start_time": "2023-05-21T02:11:19.691Z"
   },
   {
    "duration": 10,
    "start_time": "2023-05-21T02:11:19.699Z"
   },
   {
    "duration": 1487,
    "start_time": "2023-05-21T02:11:19.711Z"
   },
   {
    "duration": 1414,
    "start_time": "2023-05-21T02:11:21.199Z"
   },
   {
    "duration": 13,
    "start_time": "2023-05-21T02:11:22.615Z"
   },
   {
    "duration": 13,
    "start_time": "2023-05-21T02:11:22.630Z"
   },
   {
    "duration": 6,
    "start_time": "2023-05-21T02:11:22.644Z"
   },
   {
    "duration": 12,
    "start_time": "2023-05-21T02:11:22.652Z"
   },
   {
    "duration": 584,
    "start_time": "2023-05-21T02:11:22.666Z"
   },
   {
    "duration": 2756,
    "start_time": "2023-05-21T02:11:23.252Z"
   },
   {
    "duration": 395,
    "start_time": "2023-05-21T02:11:26.009Z"
   },
   {
    "duration": 8,
    "start_time": "2023-05-21T02:11:26.496Z"
   },
   {
    "duration": 8,
    "start_time": "2023-05-21T02:11:26.596Z"
   },
   {
    "duration": 14,
    "start_time": "2023-05-21T02:11:26.606Z"
   },
   {
    "duration": 459,
    "start_time": "2023-05-21T02:11:26.622Z"
   },
   {
    "duration": 3620,
    "start_time": "2023-05-21T02:11:27.083Z"
   },
   {
    "duration": 699,
    "start_time": "2023-05-21T02:11:30.705Z"
   },
   {
    "duration": 95,
    "start_time": "2023-05-21T02:11:31.500Z"
   },
   {
    "duration": 20,
    "start_time": "2023-05-21T02:11:31.597Z"
   },
   {
    "duration": 202,
    "start_time": "2023-05-21T02:11:31.619Z"
   },
   {
    "duration": 1493,
    "start_time": "2023-05-21T02:11:31.823Z"
   },
   {
    "duration": 285,
    "start_time": "2023-05-21T02:11:33.317Z"
   },
   {
    "duration": 440,
    "start_time": "2023-05-21T02:11:33.694Z"
   },
   {
    "duration": 137,
    "start_time": "2023-05-21T02:11:34.136Z"
   },
   {
    "duration": 46,
    "start_time": "2023-05-21T02:21:40.063Z"
   },
   {
    "duration": 13,
    "start_time": "2023-05-21T02:21:40.111Z"
   },
   {
    "duration": 5,
    "start_time": "2023-05-21T02:21:40.125Z"
   },
   {
    "duration": 10,
    "start_time": "2023-05-21T02:21:40.131Z"
   },
   {
    "duration": 1353,
    "start_time": "2023-05-21T02:21:40.142Z"
   },
   {
    "duration": 1234,
    "start_time": "2023-05-21T02:21:41.496Z"
   },
   {
    "duration": 12,
    "start_time": "2023-05-21T02:21:42.732Z"
   },
   {
    "duration": 12,
    "start_time": "2023-05-21T02:21:42.746Z"
   },
   {
    "duration": 7,
    "start_time": "2023-05-21T02:21:42.759Z"
   },
   {
    "duration": 35,
    "start_time": "2023-05-21T02:21:42.767Z"
   },
   {
    "duration": 563,
    "start_time": "2023-05-21T02:21:42.804Z"
   },
   {
    "duration": 2871,
    "start_time": "2023-05-21T02:21:43.369Z"
   },
   {
    "duration": 462,
    "start_time": "2023-05-21T02:21:46.241Z"
   },
   {
    "duration": 98,
    "start_time": "2023-05-21T02:21:46.798Z"
   },
   {
    "duration": 39,
    "start_time": "2023-05-21T02:21:46.897Z"
   },
   {
    "duration": 22,
    "start_time": "2023-05-21T02:21:46.938Z"
   },
   {
    "duration": 504,
    "start_time": "2023-05-21T02:21:46.962Z"
   },
   {
    "duration": 4060,
    "start_time": "2023-05-21T02:21:47.468Z"
   },
   {
    "duration": 766,
    "start_time": "2023-05-21T02:21:51.530Z"
   },
   {
    "duration": 96,
    "start_time": "2023-05-21T02:21:52.299Z"
   },
   {
    "duration": 10,
    "start_time": "2023-05-21T02:21:52.397Z"
   },
   {
    "duration": 200,
    "start_time": "2023-05-21T02:21:52.409Z"
   },
   {
    "duration": 1433,
    "start_time": "2023-05-21T02:21:52.611Z"
   },
   {
    "duration": 354,
    "start_time": "2023-05-21T02:21:54.046Z"
   },
   {
    "duration": 586,
    "start_time": "2023-05-21T02:21:54.402Z"
   },
   {
    "duration": 129,
    "start_time": "2023-05-21T02:21:54.989Z"
   },
   {
    "duration": 1778,
    "start_time": "2023-05-21T19:18:37.201Z"
   },
   {
    "duration": 19,
    "start_time": "2023-05-21T19:18:38.981Z"
   },
   {
    "duration": 5,
    "start_time": "2023-05-21T19:18:39.001Z"
   },
   {
    "duration": 21,
    "start_time": "2023-05-21T19:18:39.009Z"
   },
   {
    "duration": 1548,
    "start_time": "2023-05-21T19:18:39.033Z"
   },
   {
    "duration": 1381,
    "start_time": "2023-05-21T19:18:40.583Z"
   },
   {
    "duration": 20,
    "start_time": "2023-05-21T19:18:41.966Z"
   },
   {
    "duration": 14,
    "start_time": "2023-05-21T19:18:41.988Z"
   },
   {
    "duration": 5,
    "start_time": "2023-05-21T19:18:42.004Z"
   },
   {
    "duration": 17,
    "start_time": "2023-05-21T19:18:42.010Z"
   },
   {
    "duration": 12,
    "start_time": "2023-05-21T19:18:42.028Z"
   },
   {
    "duration": 143,
    "start_time": "2023-05-21T19:18:42.042Z"
   },
   {
    "duration": 0,
    "start_time": "2023-05-21T19:18:42.187Z"
   },
   {
    "duration": 0,
    "start_time": "2023-05-21T19:18:42.188Z"
   },
   {
    "duration": 0,
    "start_time": "2023-05-21T19:18:42.189Z"
   },
   {
    "duration": 0,
    "start_time": "2023-05-21T19:18:42.190Z"
   },
   {
    "duration": 0,
    "start_time": "2023-05-21T19:18:42.191Z"
   },
   {
    "duration": 0,
    "start_time": "2023-05-21T19:18:42.192Z"
   },
   {
    "duration": 0,
    "start_time": "2023-05-21T19:18:42.194Z"
   },
   {
    "duration": 0,
    "start_time": "2023-05-21T19:18:42.195Z"
   },
   {
    "duration": 0,
    "start_time": "2023-05-21T19:18:42.196Z"
   },
   {
    "duration": 0,
    "start_time": "2023-05-21T19:18:42.197Z"
   },
   {
    "duration": 0,
    "start_time": "2023-05-21T19:18:42.198Z"
   },
   {
    "duration": 0,
    "start_time": "2023-05-21T19:18:42.199Z"
   },
   {
    "duration": 0,
    "start_time": "2023-05-21T19:18:42.200Z"
   },
   {
    "duration": 0,
    "start_time": "2023-05-21T19:18:42.201Z"
   },
   {
    "duration": 0,
    "start_time": "2023-05-21T19:18:42.202Z"
   },
   {
    "duration": 47,
    "start_time": "2023-05-21T19:19:11.834Z"
   },
   {
    "duration": 13,
    "start_time": "2023-05-21T19:19:11.883Z"
   },
   {
    "duration": 4,
    "start_time": "2023-05-21T19:19:11.898Z"
   },
   {
    "duration": 19,
    "start_time": "2023-05-21T19:19:11.903Z"
   },
   {
    "duration": 1447,
    "start_time": "2023-05-21T19:19:11.924Z"
   },
   {
    "duration": 1355,
    "start_time": "2023-05-21T19:19:13.372Z"
   },
   {
    "duration": 13,
    "start_time": "2023-05-21T19:19:14.728Z"
   },
   {
    "duration": 13,
    "start_time": "2023-05-21T19:19:14.742Z"
   },
   {
    "duration": 32,
    "start_time": "2023-05-21T19:19:14.757Z"
   },
   {
    "duration": 14,
    "start_time": "2023-05-21T19:19:14.791Z"
   },
   {
    "duration": 11,
    "start_time": "2023-05-21T19:19:14.807Z"
   },
   {
    "duration": 566,
    "start_time": "2023-05-21T19:19:14.820Z"
   },
   {
    "duration": 3013,
    "start_time": "2023-05-21T19:19:15.388Z"
   },
   {
    "duration": 172,
    "start_time": "2023-05-21T19:19:18.405Z"
   },
   {
    "duration": 8,
    "start_time": "2023-05-21T19:19:18.579Z"
   },
   {
    "duration": 5,
    "start_time": "2023-05-21T19:19:18.678Z"
   },
   {
    "duration": 19,
    "start_time": "2023-05-21T19:19:18.684Z"
   },
   {
    "duration": 0,
    "start_time": "2023-05-21T19:19:18.705Z"
   },
   {
    "duration": 0,
    "start_time": "2023-05-21T19:19:18.706Z"
   },
   {
    "duration": 0,
    "start_time": "2023-05-21T19:19:18.707Z"
   },
   {
    "duration": 0,
    "start_time": "2023-05-21T19:19:18.708Z"
   },
   {
    "duration": 0,
    "start_time": "2023-05-21T19:19:18.709Z"
   },
   {
    "duration": 0,
    "start_time": "2023-05-21T19:19:18.711Z"
   },
   {
    "duration": 0,
    "start_time": "2023-05-21T19:19:18.712Z"
   },
   {
    "duration": 0,
    "start_time": "2023-05-21T19:19:18.713Z"
   },
   {
    "duration": 0,
    "start_time": "2023-05-21T19:19:18.714Z"
   },
   {
    "duration": 0,
    "start_time": "2023-05-21T19:19:18.715Z"
   },
   {
    "duration": 5,
    "start_time": "2023-05-21T19:20:39.722Z"
   },
   {
    "duration": 47,
    "start_time": "2023-05-21T19:20:42.108Z"
   },
   {
    "duration": 15,
    "start_time": "2023-05-21T19:20:42.157Z"
   },
   {
    "duration": 10,
    "start_time": "2023-05-21T19:20:42.173Z"
   },
   {
    "duration": 21,
    "start_time": "2023-05-21T19:20:42.184Z"
   },
   {
    "duration": 1454,
    "start_time": "2023-05-21T19:20:42.206Z"
   },
   {
    "duration": 1350,
    "start_time": "2023-05-21T19:20:43.661Z"
   },
   {
    "duration": 12,
    "start_time": "2023-05-21T19:20:45.013Z"
   },
   {
    "duration": 34,
    "start_time": "2023-05-21T19:20:45.026Z"
   },
   {
    "duration": 12,
    "start_time": "2023-05-21T19:20:45.062Z"
   },
   {
    "duration": 141,
    "start_time": "2023-05-21T19:20:45.076Z"
   },
   {
    "duration": 19,
    "start_time": "2023-05-21T19:20:45.219Z"
   },
   {
    "duration": 556,
    "start_time": "2023-05-21T19:20:45.239Z"
   },
   {
    "duration": 2987,
    "start_time": "2023-05-21T19:20:45.797Z"
   },
   {
    "duration": 101,
    "start_time": "2023-05-21T19:20:48.786Z"
   },
   {
    "duration": 8,
    "start_time": "2023-05-21T19:20:48.979Z"
   },
   {
    "duration": 91,
    "start_time": "2023-05-21T19:20:48.989Z"
   },
   {
    "duration": 31,
    "start_time": "2023-05-21T19:20:49.082Z"
   },
   {
    "duration": 0,
    "start_time": "2023-05-21T19:20:49.114Z"
   },
   {
    "duration": 0,
    "start_time": "2023-05-21T19:20:49.115Z"
   },
   {
    "duration": 0,
    "start_time": "2023-05-21T19:20:49.116Z"
   },
   {
    "duration": 0,
    "start_time": "2023-05-21T19:20:49.118Z"
   },
   {
    "duration": 0,
    "start_time": "2023-05-21T19:20:49.119Z"
   },
   {
    "duration": 0,
    "start_time": "2023-05-21T19:20:49.120Z"
   },
   {
    "duration": 0,
    "start_time": "2023-05-21T19:20:49.121Z"
   },
   {
    "duration": 0,
    "start_time": "2023-05-21T19:20:49.123Z"
   },
   {
    "duration": 0,
    "start_time": "2023-05-21T19:20:49.124Z"
   },
   {
    "duration": 0,
    "start_time": "2023-05-21T19:20:49.125Z"
   },
   {
    "duration": 11,
    "start_time": "2023-05-21T19:21:37.168Z"
   },
   {
    "duration": 6,
    "start_time": "2023-05-21T19:21:54.108Z"
   },
   {
    "duration": 48,
    "start_time": "2023-05-21T19:21:56.796Z"
   },
   {
    "duration": 14,
    "start_time": "2023-05-21T19:21:56.846Z"
   },
   {
    "duration": 4,
    "start_time": "2023-05-21T19:21:56.862Z"
   },
   {
    "duration": 12,
    "start_time": "2023-05-21T19:21:56.868Z"
   },
   {
    "duration": 1379,
    "start_time": "2023-05-21T19:21:56.882Z"
   },
   {
    "duration": 1438,
    "start_time": "2023-05-21T19:21:58.263Z"
   },
   {
    "duration": 12,
    "start_time": "2023-05-21T19:21:59.703Z"
   },
   {
    "duration": 13,
    "start_time": "2023-05-21T19:21:59.717Z"
   },
   {
    "duration": 3,
    "start_time": "2023-05-21T19:21:59.732Z"
   },
   {
    "duration": 13,
    "start_time": "2023-05-21T19:21:59.737Z"
   },
   {
    "duration": 13,
    "start_time": "2023-05-21T19:21:59.779Z"
   },
   {
    "duration": 529,
    "start_time": "2023-05-21T19:21:59.793Z"
   },
   {
    "duration": 3036,
    "start_time": "2023-05-21T19:22:00.324Z"
   },
   {
    "duration": 116,
    "start_time": "2023-05-21T19:22:03.363Z"
   },
   {
    "duration": 8,
    "start_time": "2023-05-21T19:22:03.481Z"
   },
   {
    "duration": 7,
    "start_time": "2023-05-21T19:22:03.578Z"
   },
   {
    "duration": 17,
    "start_time": "2023-05-21T19:22:03.586Z"
   },
   {
    "duration": 0,
    "start_time": "2023-05-21T19:22:03.605Z"
   },
   {
    "duration": 0,
    "start_time": "2023-05-21T19:22:03.606Z"
   },
   {
    "duration": 0,
    "start_time": "2023-05-21T19:22:03.607Z"
   },
   {
    "duration": 0,
    "start_time": "2023-05-21T19:22:03.609Z"
   },
   {
    "duration": 0,
    "start_time": "2023-05-21T19:22:03.610Z"
   },
   {
    "duration": 0,
    "start_time": "2023-05-21T19:22:03.611Z"
   },
   {
    "duration": 0,
    "start_time": "2023-05-21T19:22:03.612Z"
   },
   {
    "duration": 0,
    "start_time": "2023-05-21T19:22:03.613Z"
   },
   {
    "duration": 0,
    "start_time": "2023-05-21T19:22:03.614Z"
   },
   {
    "duration": 0,
    "start_time": "2023-05-21T19:22:03.615Z"
   },
   {
    "duration": 46,
    "start_time": "2023-05-21T19:25:14.465Z"
   },
   {
    "duration": 16,
    "start_time": "2023-05-21T19:25:14.513Z"
   },
   {
    "duration": 6,
    "start_time": "2023-05-21T19:25:14.531Z"
   },
   {
    "duration": 11,
    "start_time": "2023-05-21T19:25:14.539Z"
   },
   {
    "duration": 1396,
    "start_time": "2023-05-21T19:25:14.552Z"
   },
   {
    "duration": 1602,
    "start_time": "2023-05-21T19:25:15.950Z"
   },
   {
    "duration": 27,
    "start_time": "2023-05-21T19:25:17.555Z"
   },
   {
    "duration": 17,
    "start_time": "2023-05-21T19:25:17.585Z"
   },
   {
    "duration": 16,
    "start_time": "2023-05-21T19:25:17.604Z"
   },
   {
    "duration": 20,
    "start_time": "2023-05-21T19:25:17.622Z"
   },
   {
    "duration": 35,
    "start_time": "2023-05-21T19:25:17.644Z"
   },
   {
    "duration": 557,
    "start_time": "2023-05-21T19:25:17.681Z"
   },
   {
    "duration": 3066,
    "start_time": "2023-05-21T19:25:18.240Z"
   },
   {
    "duration": 76,
    "start_time": "2023-05-21T19:25:21.308Z"
   },
   {
    "duration": 97,
    "start_time": "2023-05-21T19:25:21.385Z"
   },
   {
    "duration": 95,
    "start_time": "2023-05-21T19:25:21.484Z"
   },
   {
    "duration": 15,
    "start_time": "2023-05-21T19:25:21.581Z"
   },
   {
    "duration": 484,
    "start_time": "2023-05-21T19:25:21.598Z"
   },
   {
    "duration": 3955,
    "start_time": "2023-05-21T19:25:22.084Z"
   },
   {
    "duration": 138,
    "start_time": "2023-05-21T19:25:26.041Z"
   },
   {
    "duration": 101,
    "start_time": "2023-05-21T19:25:26.181Z"
   },
   {
    "duration": 37,
    "start_time": "2023-05-21T19:25:26.284Z"
   },
   {
    "duration": 242,
    "start_time": "2023-05-21T19:25:26.323Z"
   },
   {
    "duration": 1724,
    "start_time": "2023-05-21T19:25:26.566Z"
   },
   {
    "duration": 286,
    "start_time": "2023-05-21T19:25:28.292Z"
   },
   {
    "duration": 524,
    "start_time": "2023-05-21T19:25:28.580Z"
   },
   {
    "duration": 140,
    "start_time": "2023-05-21T19:25:29.106Z"
   },
   {
    "duration": 145,
    "start_time": "2023-05-21T19:46:01.131Z"
   },
   {
    "duration": 15,
    "start_time": "2023-05-21T19:46:16.399Z"
   },
   {
    "duration": 13,
    "start_time": "2023-05-21T19:46:33.641Z"
   },
   {
    "duration": 1711,
    "start_time": "2023-05-21T19:47:37.301Z"
   },
   {
    "duration": 235,
    "start_time": "2023-05-21T19:48:06.909Z"
   },
   {
    "duration": 106,
    "start_time": "2023-05-21T19:48:49.519Z"
   },
   {
    "duration": 1734,
    "start_time": "2023-05-21T19:48:56.544Z"
   },
   {
    "duration": 133,
    "start_time": "2023-05-21T19:49:03.016Z"
   },
   {
    "duration": 248,
    "start_time": "2023-05-21T19:49:39.724Z"
   },
   {
    "duration": 138,
    "start_time": "2023-05-21T19:50:00.119Z"
   },
   {
    "duration": 163,
    "start_time": "2023-05-21T19:50:10.142Z"
   },
   {
    "duration": 125,
    "start_time": "2023-05-21T19:50:28.144Z"
   },
   {
    "duration": 127,
    "start_time": "2023-05-21T19:50:34.091Z"
   },
   {
    "duration": 119,
    "start_time": "2023-05-21T19:50:38.716Z"
   },
   {
    "duration": 137,
    "start_time": "2023-05-21T19:50:44.101Z"
   },
   {
    "duration": 133,
    "start_time": "2023-05-21T19:50:48.487Z"
   },
   {
    "duration": 140,
    "start_time": "2023-05-21T19:50:52.056Z"
   },
   {
    "duration": 128,
    "start_time": "2023-05-21T19:50:55.996Z"
   },
   {
    "duration": 45,
    "start_time": "2023-05-21T19:55:38.105Z"
   },
   {
    "duration": 15,
    "start_time": "2023-05-21T19:55:38.152Z"
   },
   {
    "duration": 6,
    "start_time": "2023-05-21T19:55:38.168Z"
   },
   {
    "duration": 15,
    "start_time": "2023-05-21T19:55:38.176Z"
   },
   {
    "duration": 1436,
    "start_time": "2023-05-21T19:55:38.194Z"
   },
   {
    "duration": 1392,
    "start_time": "2023-05-21T19:55:39.632Z"
   },
   {
    "duration": 12,
    "start_time": "2023-05-21T19:55:41.026Z"
   },
   {
    "duration": 14,
    "start_time": "2023-05-21T19:55:41.040Z"
   },
   {
    "duration": 4,
    "start_time": "2023-05-21T19:55:41.079Z"
   },
   {
    "duration": 16,
    "start_time": "2023-05-21T19:55:41.085Z"
   },
   {
    "duration": 16,
    "start_time": "2023-05-21T19:55:41.102Z"
   },
   {
    "duration": 593,
    "start_time": "2023-05-21T19:55:41.120Z"
   },
   {
    "duration": 2798,
    "start_time": "2023-05-21T19:55:41.715Z"
   },
   {
    "duration": 72,
    "start_time": "2023-05-21T19:55:44.515Z"
   },
   {
    "duration": 100,
    "start_time": "2023-05-21T19:55:44.678Z"
   },
   {
    "duration": 143,
    "start_time": "2023-05-21T19:55:44.779Z"
   },
   {
    "duration": 4,
    "start_time": "2023-05-21T19:55:44.923Z"
   },
   {
    "duration": 30,
    "start_time": "2023-05-21T19:55:44.929Z"
   },
   {
    "duration": 0,
    "start_time": "2023-05-21T19:55:44.961Z"
   },
   {
    "duration": 0,
    "start_time": "2023-05-21T19:55:44.962Z"
   },
   {
    "duration": 0,
    "start_time": "2023-05-21T19:55:44.963Z"
   },
   {
    "duration": 0,
    "start_time": "2023-05-21T19:55:44.964Z"
   },
   {
    "duration": 0,
    "start_time": "2023-05-21T19:55:44.965Z"
   },
   {
    "duration": 0,
    "start_time": "2023-05-21T19:55:44.966Z"
   },
   {
    "duration": 0,
    "start_time": "2023-05-21T19:55:44.967Z"
   },
   {
    "duration": 0,
    "start_time": "2023-05-21T19:55:44.968Z"
   },
   {
    "duration": 0,
    "start_time": "2023-05-21T19:55:44.978Z"
   },
   {
    "duration": 0,
    "start_time": "2023-05-21T19:55:44.979Z"
   },
   {
    "duration": 9,
    "start_time": "2023-05-21T20:02:51.707Z"
   },
   {
    "duration": 47,
    "start_time": "2023-05-21T20:03:16.604Z"
   },
   {
    "duration": 18,
    "start_time": "2023-05-21T20:03:21.183Z"
   },
   {
    "duration": 11,
    "start_time": "2023-05-21T20:03:33.930Z"
   },
   {
    "duration": 14,
    "start_time": "2023-05-21T20:04:08.371Z"
   },
   {
    "duration": 14,
    "start_time": "2023-05-21T20:04:15.816Z"
   },
   {
    "duration": 49,
    "start_time": "2023-05-21T20:04:27.301Z"
   },
   {
    "duration": 16,
    "start_time": "2023-05-21T20:04:27.352Z"
   },
   {
    "duration": 7,
    "start_time": "2023-05-21T20:04:27.369Z"
   },
   {
    "duration": 17,
    "start_time": "2023-05-21T20:04:27.378Z"
   },
   {
    "duration": 1568,
    "start_time": "2023-05-21T20:04:27.397Z"
   },
   {
    "duration": 1845,
    "start_time": "2023-05-21T20:04:28.967Z"
   },
   {
    "duration": 64,
    "start_time": "2023-05-21T20:04:30.814Z"
   },
   {
    "duration": 23,
    "start_time": "2023-05-21T20:04:30.880Z"
   },
   {
    "duration": 30,
    "start_time": "2023-05-21T20:04:30.905Z"
   },
   {
    "duration": 50,
    "start_time": "2023-05-21T20:04:30.936Z"
   },
   {
    "duration": 31,
    "start_time": "2023-05-21T20:04:30.987Z"
   },
   {
    "duration": 949,
    "start_time": "2023-05-21T20:04:31.020Z"
   },
   {
    "duration": 2837,
    "start_time": "2023-05-21T20:04:31.971Z"
   },
   {
    "duration": 75,
    "start_time": "2023-05-21T20:04:34.811Z"
   },
   {
    "duration": 100,
    "start_time": "2023-05-21T20:04:34.978Z"
   },
   {
    "duration": 152,
    "start_time": "2023-05-21T20:04:35.080Z"
   },
   {
    "duration": 4,
    "start_time": "2023-05-21T20:04:35.234Z"
   },
   {
    "duration": 19,
    "start_time": "2023-05-21T20:04:35.239Z"
   },
   {
    "duration": 0,
    "start_time": "2023-05-21T20:04:35.260Z"
   },
   {
    "duration": 0,
    "start_time": "2023-05-21T20:04:35.261Z"
   },
   {
    "duration": 0,
    "start_time": "2023-05-21T20:04:35.278Z"
   },
   {
    "duration": 0,
    "start_time": "2023-05-21T20:04:35.279Z"
   },
   {
    "duration": 0,
    "start_time": "2023-05-21T20:04:35.281Z"
   },
   {
    "duration": 0,
    "start_time": "2023-05-21T20:04:35.282Z"
   },
   {
    "duration": 0,
    "start_time": "2023-05-21T20:04:35.283Z"
   },
   {
    "duration": 0,
    "start_time": "2023-05-21T20:04:35.284Z"
   },
   {
    "duration": 0,
    "start_time": "2023-05-21T20:04:35.286Z"
   },
   {
    "duration": 0,
    "start_time": "2023-05-21T20:04:35.287Z"
   },
   {
    "duration": 47,
    "start_time": "2023-05-21T20:10:43.906Z"
   },
   {
    "duration": 14,
    "start_time": "2023-05-21T20:10:43.955Z"
   },
   {
    "duration": 14,
    "start_time": "2023-05-21T20:10:43.971Z"
   },
   {
    "duration": 25,
    "start_time": "2023-05-21T20:10:43.988Z"
   },
   {
    "duration": 1297,
    "start_time": "2023-05-21T20:10:44.015Z"
   },
   {
    "duration": 1665,
    "start_time": "2023-05-21T20:10:45.313Z"
   },
   {
    "duration": 11,
    "start_time": "2023-05-21T20:10:46.979Z"
   },
   {
    "duration": 12,
    "start_time": "2023-05-21T20:10:46.992Z"
   },
   {
    "duration": 6,
    "start_time": "2023-05-21T20:10:47.006Z"
   },
   {
    "duration": 11,
    "start_time": "2023-05-21T20:10:47.015Z"
   },
   {
    "duration": 19,
    "start_time": "2023-05-21T20:10:47.028Z"
   },
   {
    "duration": 586,
    "start_time": "2023-05-21T20:10:47.049Z"
   },
   {
    "duration": 2895,
    "start_time": "2023-05-21T20:10:47.637Z"
   },
   {
    "duration": 53,
    "start_time": "2023-05-21T20:10:50.533Z"
   },
   {
    "duration": 92,
    "start_time": "2023-05-21T20:10:50.588Z"
   },
   {
    "duration": 225,
    "start_time": "2023-05-21T20:10:50.682Z"
   },
   {
    "duration": 3,
    "start_time": "2023-05-21T20:10:50.909Z"
   },
   {
    "duration": 20,
    "start_time": "2023-05-21T20:10:50.914Z"
   },
   {
    "duration": 0,
    "start_time": "2023-05-21T20:10:50.935Z"
   },
   {
    "duration": 0,
    "start_time": "2023-05-21T20:10:50.937Z"
   },
   {
    "duration": 0,
    "start_time": "2023-05-21T20:10:50.938Z"
   },
   {
    "duration": 0,
    "start_time": "2023-05-21T20:10:50.939Z"
   },
   {
    "duration": 0,
    "start_time": "2023-05-21T20:10:50.940Z"
   },
   {
    "duration": 0,
    "start_time": "2023-05-21T20:10:50.941Z"
   },
   {
    "duration": 0,
    "start_time": "2023-05-21T20:10:50.943Z"
   },
   {
    "duration": 0,
    "start_time": "2023-05-21T20:10:50.943Z"
   },
   {
    "duration": 0,
    "start_time": "2023-05-21T20:10:50.944Z"
   },
   {
    "duration": 0,
    "start_time": "2023-05-21T20:10:50.978Z"
   },
   {
    "duration": 47,
    "start_time": "2023-05-21T20:11:33.323Z"
   },
   {
    "duration": 15,
    "start_time": "2023-05-21T20:11:33.372Z"
   },
   {
    "duration": 9,
    "start_time": "2023-05-21T20:11:33.388Z"
   },
   {
    "duration": 17,
    "start_time": "2023-05-21T20:11:33.399Z"
   },
   {
    "duration": 1273,
    "start_time": "2023-05-21T20:11:33.418Z"
   },
   {
    "duration": 1420,
    "start_time": "2023-05-21T20:11:34.692Z"
   },
   {
    "duration": 12,
    "start_time": "2023-05-21T20:11:36.114Z"
   },
   {
    "duration": 13,
    "start_time": "2023-05-21T20:11:36.128Z"
   },
   {
    "duration": 5,
    "start_time": "2023-05-21T20:11:36.142Z"
   },
   {
    "duration": 36,
    "start_time": "2023-05-21T20:11:36.150Z"
   },
   {
    "duration": 16,
    "start_time": "2023-05-21T20:11:36.188Z"
   },
   {
    "duration": 562,
    "start_time": "2023-05-21T20:11:36.206Z"
   },
   {
    "duration": 2773,
    "start_time": "2023-05-21T20:11:36.770Z"
   },
   {
    "duration": 133,
    "start_time": "2023-05-21T20:11:39.545Z"
   },
   {
    "duration": 97,
    "start_time": "2023-05-21T20:11:39.681Z"
   },
   {
    "duration": 143,
    "start_time": "2023-05-21T20:11:39.780Z"
   },
   {
    "duration": 4,
    "start_time": "2023-05-21T20:11:39.925Z"
   },
   {
    "duration": 18,
    "start_time": "2023-05-21T20:11:39.930Z"
   },
   {
    "duration": 490,
    "start_time": "2023-05-21T20:11:39.950Z"
   },
   {
    "duration": 4095,
    "start_time": "2023-05-21T20:11:40.442Z"
   },
   {
    "duration": 140,
    "start_time": "2023-05-21T20:11:44.539Z"
   },
   {
    "duration": 97,
    "start_time": "2023-05-21T20:11:44.681Z"
   },
   {
    "duration": 16,
    "start_time": "2023-05-21T20:11:44.780Z"
   },
   {
    "duration": 194,
    "start_time": "2023-05-21T20:11:44.798Z"
   },
   {
    "duration": 1608,
    "start_time": "2023-05-21T20:11:44.994Z"
   },
   {
    "duration": 81,
    "start_time": "2023-05-21T20:11:46.604Z"
   },
   {
    "duration": 615,
    "start_time": "2023-05-21T20:11:46.687Z"
   },
   {
    "duration": 149,
    "start_time": "2023-05-21T20:11:47.305Z"
   },
   {
    "duration": 598,
    "start_time": "2023-05-21T20:14:39.576Z"
   },
   {
    "duration": 3195,
    "start_time": "2023-05-21T20:15:24.016Z"
   },
   {
    "duration": 120,
    "start_time": "2023-05-21T20:15:27.262Z"
   },
   {
    "duration": 575,
    "start_time": "2023-05-21T20:16:12.128Z"
   },
   {
    "duration": 2938,
    "start_time": "2023-05-21T20:16:27.564Z"
   },
   {
    "duration": 109,
    "start_time": "2023-05-21T20:16:41.174Z"
   },
   {
    "duration": 472,
    "start_time": "2023-05-21T20:17:31.532Z"
   },
   {
    "duration": 48,
    "start_time": "2023-05-21T20:18:30.108Z"
   },
   {
    "duration": 17,
    "start_time": "2023-05-21T20:18:30.157Z"
   },
   {
    "duration": 42,
    "start_time": "2023-05-21T20:18:30.176Z"
   },
   {
    "duration": 46,
    "start_time": "2023-05-21T20:18:30.220Z"
   },
   {
    "duration": 1715,
    "start_time": "2023-05-21T20:18:30.268Z"
   },
   {
    "duration": 2538,
    "start_time": "2023-05-21T20:18:31.985Z"
   },
   {
    "duration": 13,
    "start_time": "2023-05-21T20:18:34.578Z"
   },
   {
    "duration": 14,
    "start_time": "2023-05-21T20:18:34.592Z"
   },
   {
    "duration": 6,
    "start_time": "2023-05-21T20:18:34.608Z"
   },
   {
    "duration": 74,
    "start_time": "2023-05-21T20:18:34.616Z"
   },
   {
    "duration": 26,
    "start_time": "2023-05-21T20:18:34.693Z"
   },
   {
    "duration": 702,
    "start_time": "2023-05-21T20:18:34.721Z"
   },
   {
    "duration": 3024,
    "start_time": "2023-05-21T20:18:35.425Z"
   },
   {
    "duration": 134,
    "start_time": "2023-05-21T20:18:38.450Z"
   },
   {
    "duration": 100,
    "start_time": "2023-05-21T20:18:38.586Z"
   },
   {
    "duration": 236,
    "start_time": "2023-05-21T20:18:38.687Z"
   },
   {
    "duration": 5,
    "start_time": "2023-05-21T20:18:38.924Z"
   },
   {
    "duration": 8,
    "start_time": "2023-05-21T20:18:38.931Z"
   },
   {
    "duration": 481,
    "start_time": "2023-05-21T20:18:38.940Z"
   },
   {
    "duration": 4163,
    "start_time": "2023-05-21T20:18:39.423Z"
   },
   {
    "duration": 99,
    "start_time": "2023-05-21T20:18:43.588Z"
   },
   {
    "duration": 7,
    "start_time": "2023-05-21T20:18:43.777Z"
   },
   {
    "duration": 107,
    "start_time": "2023-05-21T20:18:43.786Z"
   },
   {
    "duration": 208,
    "start_time": "2023-05-21T20:18:43.895Z"
   },
   {
    "duration": 1648,
    "start_time": "2023-05-21T20:18:44.105Z"
   },
   {
    "duration": 125,
    "start_time": "2023-05-21T20:18:45.755Z"
   },
   {
    "duration": 547,
    "start_time": "2023-05-21T20:18:45.882Z"
   },
   {
    "duration": 152,
    "start_time": "2023-05-21T20:18:46.432Z"
   },
   {
    "duration": 48,
    "start_time": "2023-05-21T20:23:00.566Z"
   },
   {
    "duration": 42,
    "start_time": "2023-05-21T20:23:00.616Z"
   },
   {
    "duration": 39,
    "start_time": "2023-05-21T20:23:00.660Z"
   },
   {
    "duration": 57,
    "start_time": "2023-05-21T20:23:00.701Z"
   },
   {
    "duration": 1646,
    "start_time": "2023-05-21T20:23:00.761Z"
   },
   {
    "duration": 1326,
    "start_time": "2023-05-21T20:23:02.408Z"
   },
   {
    "duration": 12,
    "start_time": "2023-05-21T20:23:03.736Z"
   },
   {
    "duration": 13,
    "start_time": "2023-05-21T20:23:03.750Z"
   },
   {
    "duration": 4,
    "start_time": "2023-05-21T20:23:03.779Z"
   },
   {
    "duration": 14,
    "start_time": "2023-05-21T20:23:03.784Z"
   },
   {
    "duration": 18,
    "start_time": "2023-05-21T20:23:03.799Z"
   },
   {
    "duration": 620,
    "start_time": "2023-05-21T20:23:03.819Z"
   },
   {
    "duration": 3064,
    "start_time": "2023-05-21T20:23:04.441Z"
   },
   {
    "duration": 83,
    "start_time": "2023-05-21T20:23:07.508Z"
   },
   {
    "duration": 116,
    "start_time": "2023-05-21T20:23:07.678Z"
   },
   {
    "duration": 136,
    "start_time": "2023-05-21T20:23:07.796Z"
   },
   {
    "duration": 4,
    "start_time": "2023-05-21T20:23:07.934Z"
   },
   {
    "duration": 10,
    "start_time": "2023-05-21T20:23:07.939Z"
   },
   {
    "duration": 481,
    "start_time": "2023-05-21T20:23:07.950Z"
   },
   {
    "duration": 4102,
    "start_time": "2023-05-21T20:23:08.432Z"
   },
   {
    "duration": 146,
    "start_time": "2023-05-21T20:23:12.536Z"
   },
   {
    "duration": 95,
    "start_time": "2023-05-21T20:23:12.683Z"
   },
   {
    "duration": 9,
    "start_time": "2023-05-21T20:23:12.780Z"
   },
   {
    "duration": 226,
    "start_time": "2023-05-21T20:23:12.791Z"
   },
   {
    "duration": 1686,
    "start_time": "2023-05-21T20:23:13.019Z"
   },
   {
    "duration": 172,
    "start_time": "2023-05-21T20:23:14.707Z"
   },
   {
    "duration": 540,
    "start_time": "2023-05-21T20:23:14.881Z"
   },
   {
    "duration": 176,
    "start_time": "2023-05-21T20:23:15.423Z"
   },
   {
    "duration": 1535,
    "start_time": "2023-05-22T00:40:56.715Z"
   },
   {
    "duration": 17,
    "start_time": "2023-05-22T00:40:58.252Z"
   },
   {
    "duration": 7,
    "start_time": "2023-05-22T00:40:58.270Z"
   },
   {
    "duration": 10,
    "start_time": "2023-05-22T00:40:58.278Z"
   },
   {
    "duration": 1272,
    "start_time": "2023-05-22T00:40:58.290Z"
   },
   {
    "duration": 1254,
    "start_time": "2023-05-22T00:40:59.564Z"
   },
   {
    "duration": 12,
    "start_time": "2023-05-22T00:41:00.819Z"
   },
   {
    "duration": 28,
    "start_time": "2023-05-22T00:41:00.832Z"
   },
   {
    "duration": 18,
    "start_time": "2023-05-22T00:41:00.861Z"
   },
   {
    "duration": 26,
    "start_time": "2023-05-22T00:41:00.881Z"
   },
   {
    "duration": 30,
    "start_time": "2023-05-22T00:41:00.908Z"
   },
   {
    "duration": 659,
    "start_time": "2023-05-22T00:41:00.940Z"
   },
   {
    "duration": 2805,
    "start_time": "2023-05-22T00:41:01.600Z"
   },
   {
    "duration": 441,
    "start_time": "2023-05-22T00:41:04.407Z"
   },
   {
    "duration": 0,
    "start_time": "2023-05-22T00:41:04.850Z"
   },
   {
    "duration": 0,
    "start_time": "2023-05-22T00:41:04.850Z"
   },
   {
    "duration": 0,
    "start_time": "2023-05-22T00:41:04.852Z"
   },
   {
    "duration": 0,
    "start_time": "2023-05-22T00:41:04.853Z"
   },
   {
    "duration": 0,
    "start_time": "2023-05-22T00:41:04.854Z"
   },
   {
    "duration": 0,
    "start_time": "2023-05-22T00:41:04.855Z"
   },
   {
    "duration": 0,
    "start_time": "2023-05-22T00:41:04.856Z"
   },
   {
    "duration": 0,
    "start_time": "2023-05-22T00:41:04.857Z"
   },
   {
    "duration": 0,
    "start_time": "2023-05-22T00:41:04.858Z"
   },
   {
    "duration": 0,
    "start_time": "2023-05-22T00:41:04.860Z"
   },
   {
    "duration": 0,
    "start_time": "2023-05-22T00:41:04.861Z"
   },
   {
    "duration": 0,
    "start_time": "2023-05-22T00:41:04.862Z"
   },
   {
    "duration": 0,
    "start_time": "2023-05-22T00:41:04.863Z"
   },
   {
    "duration": 0,
    "start_time": "2023-05-22T00:41:04.863Z"
   },
   {
    "duration": 2990,
    "start_time": "2023-05-22T00:41:21.004Z"
   },
   {
    "duration": 104,
    "start_time": "2023-05-22T00:41:23.996Z"
   },
   {
    "duration": 103,
    "start_time": "2023-05-22T00:41:24.102Z"
   },
   {
    "duration": 125,
    "start_time": "2023-05-22T00:41:24.295Z"
   },
   {
    "duration": 17,
    "start_time": "2023-05-22T00:41:24.422Z"
   },
   {
    "duration": 12,
    "start_time": "2023-05-22T00:41:24.441Z"
   },
   {
    "duration": 489,
    "start_time": "2023-05-22T00:41:24.454Z"
   },
   {
    "duration": 3671,
    "start_time": "2023-05-22T00:41:24.945Z"
   },
   {
    "duration": 182,
    "start_time": "2023-05-22T00:41:28.618Z"
   },
   {
    "duration": 105,
    "start_time": "2023-05-22T00:41:28.802Z"
   },
   {
    "duration": 98,
    "start_time": "2023-05-22T00:41:28.909Z"
   },
   {
    "duration": 188,
    "start_time": "2023-05-22T00:41:29.008Z"
   },
   {
    "duration": 1526,
    "start_time": "2023-05-22T00:41:29.197Z"
   },
   {
    "duration": 269,
    "start_time": "2023-05-22T00:41:30.726Z"
   },
   {
    "duration": 0,
    "start_time": "2023-05-22T00:41:30.997Z"
   },
   {
    "duration": 0,
    "start_time": "2023-05-22T00:41:30.998Z"
   },
   {
    "duration": 111,
    "start_time": "2023-05-22T00:41:50.385Z"
   },
   {
    "duration": 2,
    "start_time": "2023-05-22T00:43:26.963Z"
   },
   {
    "duration": 4,
    "start_time": "2023-05-22T00:43:47.037Z"
   },
   {
    "duration": 4,
    "start_time": "2023-05-22T00:44:34.946Z"
   },
   {
    "duration": 4,
    "start_time": "2023-05-22T00:44:42.211Z"
   },
   {
    "duration": 6,
    "start_time": "2023-05-22T00:45:20.549Z"
   },
   {
    "duration": 6,
    "start_time": "2023-05-22T00:45:29.508Z"
   },
   {
    "duration": 6,
    "start_time": "2023-05-22T00:46:09.028Z"
   },
   {
    "duration": 6,
    "start_time": "2023-05-22T00:46:59.125Z"
   },
   {
    "duration": 6,
    "start_time": "2023-05-22T00:47:29.050Z"
   },
   {
    "duration": 7,
    "start_time": "2023-05-22T00:48:15.024Z"
   },
   {
    "duration": 10,
    "start_time": "2023-05-22T00:49:02.880Z"
   },
   {
    "duration": 6,
    "start_time": "2023-05-22T00:49:15.741Z"
   },
   {
    "duration": 7,
    "start_time": "2023-05-22T00:49:30.855Z"
   },
   {
    "duration": 51,
    "start_time": "2023-05-22T00:49:48.822Z"
   },
   {
    "duration": 14,
    "start_time": "2023-05-22T00:49:48.875Z"
   },
   {
    "duration": 7,
    "start_time": "2023-05-22T00:49:48.891Z"
   },
   {
    "duration": 24,
    "start_time": "2023-05-22T00:49:48.900Z"
   },
   {
    "duration": 1544,
    "start_time": "2023-05-22T00:49:48.926Z"
   },
   {
    "duration": 1505,
    "start_time": "2023-05-22T00:49:50.472Z"
   },
   {
    "duration": 20,
    "start_time": "2023-05-22T00:49:51.978Z"
   },
   {
    "duration": 12,
    "start_time": "2023-05-22T00:49:52.000Z"
   },
   {
    "duration": 25,
    "start_time": "2023-05-22T00:49:52.013Z"
   },
   {
    "duration": 37,
    "start_time": "2023-05-22T00:49:52.040Z"
   },
   {
    "duration": 33,
    "start_time": "2023-05-22T00:49:52.078Z"
   },
   {
    "duration": 659,
    "start_time": "2023-05-22T00:49:52.112Z"
   },
   {
    "duration": 2838,
    "start_time": "2023-05-22T00:49:52.773Z"
   },
   {
    "duration": 183,
    "start_time": "2023-05-22T00:49:55.613Z"
   },
   {
    "duration": 98,
    "start_time": "2023-05-22T00:49:55.798Z"
   },
   {
    "duration": 132,
    "start_time": "2023-05-22T00:49:55.898Z"
   },
   {
    "duration": 4,
    "start_time": "2023-05-22T00:49:56.031Z"
   },
   {
    "duration": 23,
    "start_time": "2023-05-22T00:49:56.037Z"
   },
   {
    "duration": 470,
    "start_time": "2023-05-22T00:49:56.062Z"
   },
   {
    "duration": 3686,
    "start_time": "2023-05-22T00:49:56.534Z"
   },
   {
    "duration": 178,
    "start_time": "2023-05-22T00:50:00.222Z"
   },
   {
    "duration": 104,
    "start_time": "2023-05-22T00:50:00.402Z"
   },
   {
    "duration": 108,
    "start_time": "2023-05-22T00:50:00.507Z"
   },
   {
    "duration": 201,
    "start_time": "2023-05-22T00:50:00.617Z"
   },
   {
    "duration": 47,
    "start_time": "2023-05-22T00:50:03.385Z"
   },
   {
    "duration": 14,
    "start_time": "2023-05-22T00:50:03.434Z"
   },
   {
    "duration": 19,
    "start_time": "2023-05-22T00:50:03.449Z"
   },
   {
    "duration": 25,
    "start_time": "2023-05-22T00:50:03.469Z"
   },
   {
    "duration": 1255,
    "start_time": "2023-05-22T00:50:03.496Z"
   },
   {
    "duration": 1346,
    "start_time": "2023-05-22T00:50:04.753Z"
   },
   {
    "duration": 11,
    "start_time": "2023-05-22T00:50:06.101Z"
   },
   {
    "duration": 13,
    "start_time": "2023-05-22T00:50:06.114Z"
   },
   {
    "duration": 5,
    "start_time": "2023-05-22T00:50:06.129Z"
   },
   {
    "duration": 24,
    "start_time": "2023-05-22T00:50:06.136Z"
   },
   {
    "duration": 16,
    "start_time": "2023-05-22T00:50:06.161Z"
   },
   {
    "duration": 639,
    "start_time": "2023-05-22T00:50:06.179Z"
   },
   {
    "duration": 2751,
    "start_time": "2023-05-22T00:50:06.819Z"
   },
   {
    "duration": 132,
    "start_time": "2023-05-22T00:50:09.571Z"
   },
   {
    "duration": 9,
    "start_time": "2023-05-22T00:50:09.796Z"
   },
   {
    "duration": 136,
    "start_time": "2023-05-22T00:50:09.895Z"
   },
   {
    "duration": 4,
    "start_time": "2023-05-22T00:50:10.033Z"
   },
   {
    "duration": 12,
    "start_time": "2023-05-22T00:50:10.038Z"
   },
   {
    "duration": 458,
    "start_time": "2023-05-22T00:50:10.051Z"
   },
   {
    "duration": 3652,
    "start_time": "2023-05-22T00:50:10.511Z"
   },
   {
    "duration": 229,
    "start_time": "2023-05-22T00:50:14.165Z"
   },
   {
    "duration": 98,
    "start_time": "2023-05-22T00:50:14.399Z"
   },
   {
    "duration": 12,
    "start_time": "2023-05-22T00:50:14.498Z"
   },
   {
    "duration": 232,
    "start_time": "2023-05-22T00:50:14.512Z"
   },
   {
    "duration": 1568,
    "start_time": "2023-05-22T00:50:14.745Z"
   },
   {
    "duration": 90,
    "start_time": "2023-05-22T00:50:16.314Z"
   },
   {
    "duration": 189,
    "start_time": "2023-05-22T00:50:16.406Z"
   },
   {
    "duration": 10,
    "start_time": "2023-05-22T00:50:16.597Z"
   },
   {
    "duration": 432,
    "start_time": "2023-05-22T00:50:16.608Z"
   },
   {
    "duration": 143,
    "start_time": "2023-05-22T00:50:17.041Z"
   },
   {
    "duration": 1626,
    "start_time": "2023-05-22T03:01:04.334Z"
   },
   {
    "duration": 19,
    "start_time": "2023-05-22T03:01:05.962Z"
   },
   {
    "duration": 5,
    "start_time": "2023-05-22T03:01:05.983Z"
   },
   {
    "duration": 14,
    "start_time": "2023-05-22T03:01:05.990Z"
   },
   {
    "duration": 1504,
    "start_time": "2023-05-22T03:01:06.006Z"
   },
   {
    "duration": 1371,
    "start_time": "2023-05-22T03:01:07.512Z"
   },
   {
    "duration": 13,
    "start_time": "2023-05-22T03:01:08.885Z"
   },
   {
    "duration": 31,
    "start_time": "2023-05-22T03:01:08.900Z"
   },
   {
    "duration": 6,
    "start_time": "2023-05-22T03:01:08.933Z"
   },
   {
    "duration": 13,
    "start_time": "2023-05-22T03:01:08.943Z"
   },
   {
    "duration": 19,
    "start_time": "2023-05-22T03:01:08.959Z"
   },
   {
    "duration": 718,
    "start_time": "2023-05-22T03:01:08.979Z"
   },
   {
    "duration": 3209,
    "start_time": "2023-05-22T03:01:09.699Z"
   },
   {
    "duration": 221,
    "start_time": "2023-05-22T03:01:12.910Z"
   },
   {
    "duration": 102,
    "start_time": "2023-05-22T03:01:13.133Z"
   },
   {
    "duration": 164,
    "start_time": "2023-05-22T03:01:13.325Z"
   },
   {
    "duration": 4,
    "start_time": "2023-05-22T03:01:13.491Z"
   },
   {
    "duration": 20,
    "start_time": "2023-05-22T03:01:13.497Z"
   },
   {
    "duration": 530,
    "start_time": "2023-05-22T03:01:13.524Z"
   },
   {
    "duration": 4160,
    "start_time": "2023-05-22T03:01:14.055Z"
   },
   {
    "duration": 211,
    "start_time": "2023-05-22T03:01:18.217Z"
   },
   {
    "duration": 95,
    "start_time": "2023-05-22T03:01:18.430Z"
   },
   {
    "duration": 27,
    "start_time": "2023-05-22T03:01:18.526Z"
   },
   {
    "duration": 236,
    "start_time": "2023-05-22T03:01:18.554Z"
   },
   {
    "duration": 1701,
    "start_time": "2023-05-22T03:01:18.792Z"
   },
   {
    "duration": 140,
    "start_time": "2023-05-22T03:01:20.495Z"
   },
   {
    "duration": 100,
    "start_time": "2023-05-22T03:01:20.725Z"
   },
   {
    "duration": 48,
    "start_time": "2023-05-22T03:01:20.828Z"
   },
   {
    "duration": 507,
    "start_time": "2023-05-22T03:01:20.878Z"
   },
   {
    "duration": 153,
    "start_time": "2023-05-22T03:01:21.387Z"
   },
   {
    "duration": 66,
    "start_time": "2023-05-22T03:03:20.428Z"
   },
   {
    "duration": 27,
    "start_time": "2023-05-22T03:03:20.497Z"
   },
   {
    "duration": 18,
    "start_time": "2023-05-22T03:03:20.527Z"
   },
   {
    "duration": 21,
    "start_time": "2023-05-22T03:03:20.549Z"
   },
   {
    "duration": 1604,
    "start_time": "2023-05-22T03:03:20.573Z"
   },
   {
    "duration": 1445,
    "start_time": "2023-05-22T03:03:22.179Z"
   },
   {
    "duration": 13,
    "start_time": "2023-05-22T03:03:23.626Z"
   },
   {
    "duration": 15,
    "start_time": "2023-05-22T03:03:23.641Z"
   },
   {
    "duration": 9,
    "start_time": "2023-05-22T03:03:23.658Z"
   },
   {
    "duration": 156,
    "start_time": "2023-05-22T03:03:23.672Z"
   },
   {
    "duration": 30,
    "start_time": "2023-05-22T03:03:23.830Z"
   },
   {
    "duration": 683,
    "start_time": "2023-05-22T03:03:23.862Z"
   },
   {
    "duration": 3185,
    "start_time": "2023-05-22T03:03:24.546Z"
   },
   {
    "duration": 291,
    "start_time": "2023-05-22T03:03:27.734Z"
   },
   {
    "duration": 98,
    "start_time": "2023-05-22T03:03:28.027Z"
   },
   {
    "duration": 152,
    "start_time": "2023-05-22T03:03:28.127Z"
   },
   {
    "duration": 4,
    "start_time": "2023-05-22T03:03:28.281Z"
   },
   {
    "duration": 17,
    "start_time": "2023-05-22T03:03:28.287Z"
   },
   {
    "duration": 519,
    "start_time": "2023-05-22T03:03:28.306Z"
   },
   {
    "duration": 4091,
    "start_time": "2023-05-22T03:03:28.827Z"
   },
   {
    "duration": 114,
    "start_time": "2023-05-22T03:03:32.920Z"
   },
   {
    "duration": 90,
    "start_time": "2023-05-22T03:03:33.036Z"
   },
   {
    "duration": 98,
    "start_time": "2023-05-22T03:03:33.128Z"
   },
   {
    "duration": 222,
    "start_time": "2023-05-22T03:03:33.228Z"
   },
   {
    "duration": 1641,
    "start_time": "2023-05-22T03:03:33.451Z"
   },
   {
    "duration": 136,
    "start_time": "2023-05-22T03:03:35.094Z"
   },
   {
    "duration": 100,
    "start_time": "2023-05-22T03:03:35.232Z"
   },
   {
    "duration": 103,
    "start_time": "2023-05-22T03:03:35.337Z"
   },
   {
    "duration": 455,
    "start_time": "2023-05-22T03:03:35.442Z"
   },
   {
    "duration": 145,
    "start_time": "2023-05-22T03:03:35.898Z"
   },
   {
    "duration": 47,
    "start_time": "2023-05-22T03:04:49.444Z"
   },
   {
    "duration": 16,
    "start_time": "2023-05-22T03:04:49.493Z"
   },
   {
    "duration": 6,
    "start_time": "2023-05-22T03:04:49.511Z"
   },
   {
    "duration": 13,
    "start_time": "2023-05-22T03:04:49.519Z"
   },
   {
    "duration": 1285,
    "start_time": "2023-05-22T03:04:49.534Z"
   },
   {
    "duration": 1429,
    "start_time": "2023-05-22T03:04:50.824Z"
   },
   {
    "duration": 13,
    "start_time": "2023-05-22T03:04:52.254Z"
   },
   {
    "duration": 33,
    "start_time": "2023-05-22T03:04:52.269Z"
   },
   {
    "duration": 14,
    "start_time": "2023-05-22T03:04:52.304Z"
   },
   {
    "duration": 19,
    "start_time": "2023-05-22T03:04:52.321Z"
   },
   {
    "duration": 23,
    "start_time": "2023-05-22T03:04:52.342Z"
   },
   {
    "duration": 671,
    "start_time": "2023-05-22T03:04:52.367Z"
   },
   {
    "duration": 2980,
    "start_time": "2023-05-22T03:04:53.040Z"
   },
   {
    "duration": 111,
    "start_time": "2023-05-22T03:04:56.022Z"
   },
   {
    "duration": 91,
    "start_time": "2023-05-22T03:04:56.135Z"
   },
   {
    "duration": 214,
    "start_time": "2023-05-22T03:04:56.228Z"
   },
   {
    "duration": 4,
    "start_time": "2023-05-22T03:04:56.444Z"
   },
   {
    "duration": 10,
    "start_time": "2023-05-22T03:04:56.449Z"
   },
   {
    "duration": 495,
    "start_time": "2023-05-22T03:04:56.460Z"
   },
   {
    "duration": 1758,
    "start_time": "2023-05-22T12:55:52.024Z"
   },
   {
    "duration": 19,
    "start_time": "2023-05-22T12:55:53.784Z"
   },
   {
    "duration": 34,
    "start_time": "2023-05-22T12:55:53.804Z"
   },
   {
    "duration": 17,
    "start_time": "2023-05-22T12:55:53.840Z"
   },
   {
    "duration": 1572,
    "start_time": "2023-05-22T12:55:53.858Z"
   },
   {
    "duration": 1430,
    "start_time": "2023-05-22T12:55:55.432Z"
   },
   {
    "duration": 12,
    "start_time": "2023-05-22T12:55:56.863Z"
   },
   {
    "duration": 14,
    "start_time": "2023-05-22T12:55:56.876Z"
   },
   {
    "duration": 4,
    "start_time": "2023-05-22T12:55:56.891Z"
   },
   {
    "duration": 15,
    "start_time": "2023-05-22T12:55:56.897Z"
   },
   {
    "duration": 49,
    "start_time": "2023-05-22T12:55:56.913Z"
   },
   {
    "duration": 679,
    "start_time": "2023-05-22T12:55:56.964Z"
   },
   {
    "duration": 3059,
    "start_time": "2023-05-22T12:55:57.645Z"
   },
   {
    "duration": 152,
    "start_time": "2023-05-22T12:56:00.705Z"
   },
   {
    "duration": 97,
    "start_time": "2023-05-22T12:56:00.859Z"
   },
   {
    "duration": 255,
    "start_time": "2023-05-22T12:56:00.958Z"
   },
   {
    "duration": 4,
    "start_time": "2023-05-22T12:56:01.215Z"
   },
   {
    "duration": 35,
    "start_time": "2023-05-22T12:56:01.221Z"
   },
   {
    "duration": 533,
    "start_time": "2023-05-22T12:56:01.257Z"
   },
   {
    "duration": 4212,
    "start_time": "2023-05-22T12:56:01.792Z"
   },
   {
    "duration": 158,
    "start_time": "2023-05-22T12:56:06.006Z"
   },
   {
    "duration": 6,
    "start_time": "2023-05-22T12:56:06.251Z"
   },
   {
    "duration": 96,
    "start_time": "2023-05-22T12:56:06.259Z"
   },
   {
    "duration": 258,
    "start_time": "2023-05-22T12:56:06.357Z"
   },
   {
    "duration": 1699,
    "start_time": "2023-05-22T12:56:06.617Z"
   },
   {
    "duration": 133,
    "start_time": "2023-05-22T12:56:08.318Z"
   },
   {
    "duration": 98,
    "start_time": "2023-05-22T12:56:08.453Z"
   },
   {
    "duration": 7,
    "start_time": "2023-05-22T12:56:08.555Z"
   },
   {
    "duration": 467,
    "start_time": "2023-05-22T12:56:08.564Z"
   },
   {
    "duration": 155,
    "start_time": "2023-05-22T12:56:09.033Z"
   },
   {
    "duration": 1788,
    "start_time": "2023-05-22T13:14:10.069Z"
   },
   {
    "duration": 19,
    "start_time": "2023-05-22T13:14:11.858Z"
   },
   {
    "duration": 4,
    "start_time": "2023-05-22T13:14:11.878Z"
   },
   {
    "duration": 10,
    "start_time": "2023-05-22T13:14:11.884Z"
   },
   {
    "duration": 1377,
    "start_time": "2023-05-22T13:14:11.896Z"
   },
   {
    "duration": 1367,
    "start_time": "2023-05-22T13:14:13.275Z"
   },
   {
    "duration": 13,
    "start_time": "2023-05-22T13:14:14.644Z"
   },
   {
    "duration": 15,
    "start_time": "2023-05-22T13:14:14.659Z"
   },
   {
    "duration": 10,
    "start_time": "2023-05-22T13:14:14.676Z"
   },
   {
    "duration": 40,
    "start_time": "2023-05-22T13:14:14.689Z"
   },
   {
    "duration": 26,
    "start_time": "2023-05-22T13:14:14.731Z"
   },
   {
    "duration": 762,
    "start_time": "2023-05-22T13:14:14.758Z"
   },
   {
    "duration": 3485,
    "start_time": "2023-05-22T13:14:15.522Z"
   },
   {
    "duration": 121,
    "start_time": "2023-05-22T13:14:19.008Z"
   },
   {
    "duration": 97,
    "start_time": "2023-05-22T13:14:19.135Z"
   },
   {
    "duration": 211,
    "start_time": "2023-05-22T13:14:19.238Z"
   },
   {
    "duration": 3,
    "start_time": "2023-05-22T13:14:19.451Z"
   },
   {
    "duration": 22,
    "start_time": "2023-05-22T13:14:19.456Z"
   },
   {
    "duration": 590,
    "start_time": "2023-05-22T13:14:19.480Z"
   },
   {
    "duration": 4671,
    "start_time": "2023-05-22T13:14:20.071Z"
   },
   {
    "duration": 91,
    "start_time": "2023-05-22T13:14:24.744Z"
   },
   {
    "duration": 85,
    "start_time": "2023-05-22T13:14:24.837Z"
   },
   {
    "duration": 10,
    "start_time": "2023-05-22T13:14:24.925Z"
   },
   {
    "duration": 315,
    "start_time": "2023-05-22T13:14:24.937Z"
   },
   {
    "duration": 1809,
    "start_time": "2023-05-22T13:14:25.254Z"
   },
   {
    "duration": 70,
    "start_time": "2023-05-22T13:14:27.065Z"
   },
   {
    "duration": 92,
    "start_time": "2023-05-22T13:14:27.137Z"
   },
   {
    "duration": 104,
    "start_time": "2023-05-22T13:14:27.238Z"
   },
   {
    "duration": 524,
    "start_time": "2023-05-22T13:14:27.343Z"
   },
   {
    "duration": 141,
    "start_time": "2023-05-22T13:14:27.869Z"
   },
   {
    "duration": 127,
    "start_time": "2023-05-22T13:32:02.584Z"
   },
   {
    "duration": 13,
    "start_time": "2023-05-22T13:32:27.970Z"
   },
   {
    "duration": 61,
    "start_time": "2023-05-22T13:32:30.834Z"
   },
   {
    "duration": 42,
    "start_time": "2023-05-22T13:32:30.897Z"
   },
   {
    "duration": 25,
    "start_time": "2023-05-22T13:32:30.941Z"
   },
   {
    "duration": 58,
    "start_time": "2023-05-22T13:32:30.969Z"
   },
   {
    "duration": 0,
    "start_time": "2023-05-22T13:32:31.030Z"
   },
   {
    "duration": 0,
    "start_time": "2023-05-22T13:32:31.031Z"
   },
   {
    "duration": 0,
    "start_time": "2023-05-22T13:32:31.033Z"
   },
   {
    "duration": 0,
    "start_time": "2023-05-22T13:32:31.034Z"
   },
   {
    "duration": 0,
    "start_time": "2023-05-22T13:32:31.036Z"
   },
   {
    "duration": 0,
    "start_time": "2023-05-22T13:32:31.037Z"
   },
   {
    "duration": 0,
    "start_time": "2023-05-22T13:32:31.039Z"
   },
   {
    "duration": 0,
    "start_time": "2023-05-22T13:32:31.040Z"
   },
   {
    "duration": 0,
    "start_time": "2023-05-22T13:32:31.041Z"
   },
   {
    "duration": 0,
    "start_time": "2023-05-22T13:32:31.043Z"
   },
   {
    "duration": 0,
    "start_time": "2023-05-22T13:32:31.044Z"
   },
   {
    "duration": 0,
    "start_time": "2023-05-22T13:32:31.045Z"
   },
   {
    "duration": 0,
    "start_time": "2023-05-22T13:32:31.047Z"
   },
   {
    "duration": 0,
    "start_time": "2023-05-22T13:32:31.048Z"
   },
   {
    "duration": 0,
    "start_time": "2023-05-22T13:32:31.049Z"
   },
   {
    "duration": 0,
    "start_time": "2023-05-22T13:32:31.051Z"
   },
   {
    "duration": 0,
    "start_time": "2023-05-22T13:32:31.052Z"
   },
   {
    "duration": 0,
    "start_time": "2023-05-22T13:32:31.053Z"
   },
   {
    "duration": 0,
    "start_time": "2023-05-22T13:32:31.054Z"
   },
   {
    "duration": 0,
    "start_time": "2023-05-22T13:32:31.055Z"
   },
   {
    "duration": 0,
    "start_time": "2023-05-22T13:32:31.056Z"
   },
   {
    "duration": 0,
    "start_time": "2023-05-22T13:32:31.058Z"
   },
   {
    "duration": 0,
    "start_time": "2023-05-22T13:32:31.059Z"
   },
   {
    "duration": 0,
    "start_time": "2023-05-22T13:32:31.060Z"
   },
   {
    "duration": 0,
    "start_time": "2023-05-22T13:32:31.061Z"
   },
   {
    "duration": 0,
    "start_time": "2023-05-22T13:32:31.062Z"
   },
   {
    "duration": 16,
    "start_time": "2023-05-22T13:33:06.061Z"
   },
   {
    "duration": 15,
    "start_time": "2023-05-22T13:33:12.254Z"
   },
   {
    "duration": 14,
    "start_time": "2023-05-22T13:36:07.857Z"
   },
   {
    "duration": 9,
    "start_time": "2023-05-22T13:36:23.566Z"
   },
   {
    "duration": 18,
    "start_time": "2023-05-22T13:36:28.157Z"
   },
   {
    "duration": 11,
    "start_time": "2023-05-22T13:36:36.388Z"
   },
   {
    "duration": 21,
    "start_time": "2023-05-22T13:36:40.413Z"
   },
   {
    "duration": 17,
    "start_time": "2023-05-22T13:37:18.803Z"
   },
   {
    "duration": 18,
    "start_time": "2023-05-22T13:37:52.943Z"
   },
   {
    "duration": 12,
    "start_time": "2023-05-22T13:38:09.137Z"
   },
   {
    "duration": 48,
    "start_time": "2023-05-22T13:38:15.424Z"
   },
   {
    "duration": 14,
    "start_time": "2023-05-22T13:38:15.475Z"
   },
   {
    "duration": 9,
    "start_time": "2023-05-22T13:38:15.490Z"
   },
   {
    "duration": 40,
    "start_time": "2023-05-22T13:38:15.500Z"
   },
   {
    "duration": 0,
    "start_time": "2023-05-22T13:38:15.542Z"
   },
   {
    "duration": 0,
    "start_time": "2023-05-22T13:38:15.543Z"
   },
   {
    "duration": 0,
    "start_time": "2023-05-22T13:38:15.544Z"
   },
   {
    "duration": 0,
    "start_time": "2023-05-22T13:38:15.545Z"
   },
   {
    "duration": 0,
    "start_time": "2023-05-22T13:38:15.546Z"
   },
   {
    "duration": 0,
    "start_time": "2023-05-22T13:38:15.547Z"
   },
   {
    "duration": 0,
    "start_time": "2023-05-22T13:38:15.547Z"
   },
   {
    "duration": 0,
    "start_time": "2023-05-22T13:38:15.548Z"
   },
   {
    "duration": 0,
    "start_time": "2023-05-22T13:38:15.549Z"
   },
   {
    "duration": 0,
    "start_time": "2023-05-22T13:38:15.550Z"
   },
   {
    "duration": 0,
    "start_time": "2023-05-22T13:38:15.551Z"
   },
   {
    "duration": 0,
    "start_time": "2023-05-22T13:38:15.551Z"
   },
   {
    "duration": 0,
    "start_time": "2023-05-22T13:38:15.552Z"
   },
   {
    "duration": 0,
    "start_time": "2023-05-22T13:38:15.554Z"
   },
   {
    "duration": 0,
    "start_time": "2023-05-22T13:38:15.555Z"
   },
   {
    "duration": 0,
    "start_time": "2023-05-22T13:38:15.556Z"
   },
   {
    "duration": 0,
    "start_time": "2023-05-22T13:38:15.557Z"
   },
   {
    "duration": 0,
    "start_time": "2023-05-22T13:38:15.557Z"
   },
   {
    "duration": 0,
    "start_time": "2023-05-22T13:38:15.558Z"
   },
   {
    "duration": 0,
    "start_time": "2023-05-22T13:38:15.559Z"
   },
   {
    "duration": 0,
    "start_time": "2023-05-22T13:38:15.560Z"
   },
   {
    "duration": 0,
    "start_time": "2023-05-22T13:38:15.560Z"
   },
   {
    "duration": 1,
    "start_time": "2023-05-22T13:38:15.561Z"
   },
   {
    "duration": 0,
    "start_time": "2023-05-22T13:38:15.562Z"
   },
   {
    "duration": 0,
    "start_time": "2023-05-22T13:38:15.563Z"
   },
   {
    "duration": 0,
    "start_time": "2023-05-22T13:38:15.564Z"
   },
   {
    "duration": 13,
    "start_time": "2023-05-22T13:40:49.559Z"
   },
   {
    "duration": 48,
    "start_time": "2023-05-22T13:40:54.501Z"
   },
   {
    "duration": 14,
    "start_time": "2023-05-22T13:40:54.551Z"
   },
   {
    "duration": 8,
    "start_time": "2023-05-22T13:40:54.567Z"
   },
   {
    "duration": 28,
    "start_time": "2023-05-22T13:40:54.577Z"
   },
   {
    "duration": 0,
    "start_time": "2023-05-22T13:40:54.608Z"
   },
   {
    "duration": 0,
    "start_time": "2023-05-22T13:40:54.609Z"
   },
   {
    "duration": 1,
    "start_time": "2023-05-22T13:40:54.609Z"
   },
   {
    "duration": 0,
    "start_time": "2023-05-22T13:40:54.617Z"
   },
   {
    "duration": 0,
    "start_time": "2023-05-22T13:40:54.618Z"
   },
   {
    "duration": 0,
    "start_time": "2023-05-22T13:40:54.620Z"
   },
   {
    "duration": 0,
    "start_time": "2023-05-22T13:40:54.621Z"
   },
   {
    "duration": 0,
    "start_time": "2023-05-22T13:40:54.621Z"
   },
   {
    "duration": 0,
    "start_time": "2023-05-22T13:40:54.622Z"
   },
   {
    "duration": 0,
    "start_time": "2023-05-22T13:40:54.623Z"
   },
   {
    "duration": 0,
    "start_time": "2023-05-22T13:40:54.625Z"
   },
   {
    "duration": 0,
    "start_time": "2023-05-22T13:40:54.625Z"
   },
   {
    "duration": 0,
    "start_time": "2023-05-22T13:40:54.626Z"
   },
   {
    "duration": 0,
    "start_time": "2023-05-22T13:40:54.627Z"
   },
   {
    "duration": 0,
    "start_time": "2023-05-22T13:40:54.629Z"
   },
   {
    "duration": 0,
    "start_time": "2023-05-22T13:40:54.630Z"
   },
   {
    "duration": 0,
    "start_time": "2023-05-22T13:40:54.630Z"
   },
   {
    "duration": 0,
    "start_time": "2023-05-22T13:40:54.632Z"
   },
   {
    "duration": 0,
    "start_time": "2023-05-22T13:40:54.633Z"
   },
   {
    "duration": 0,
    "start_time": "2023-05-22T13:40:54.637Z"
   },
   {
    "duration": 0,
    "start_time": "2023-05-22T13:40:54.638Z"
   },
   {
    "duration": 0,
    "start_time": "2023-05-22T13:40:54.639Z"
   },
   {
    "duration": 0,
    "start_time": "2023-05-22T13:40:54.640Z"
   },
   {
    "duration": 0,
    "start_time": "2023-05-22T13:40:54.642Z"
   },
   {
    "duration": 0,
    "start_time": "2023-05-22T13:40:54.643Z"
   },
   {
    "duration": 0,
    "start_time": "2023-05-22T13:40:54.645Z"
   },
   {
    "duration": 12,
    "start_time": "2023-05-22T13:41:58.761Z"
   },
   {
    "duration": 49,
    "start_time": "2023-05-22T13:42:02.373Z"
   },
   {
    "duration": 15,
    "start_time": "2023-05-22T13:42:02.424Z"
   },
   {
    "duration": 25,
    "start_time": "2023-05-22T13:42:02.440Z"
   },
   {
    "duration": 32,
    "start_time": "2023-05-22T13:42:02.467Z"
   },
   {
    "duration": 1070,
    "start_time": "2023-05-22T13:42:02.501Z"
   },
   {
    "duration": 1390,
    "start_time": "2023-05-22T13:42:03.573Z"
   },
   {
    "duration": 63,
    "start_time": "2023-05-22T13:42:04.965Z"
   },
   {
    "duration": 13,
    "start_time": "2023-05-22T13:42:05.029Z"
   },
   {
    "duration": 27,
    "start_time": "2023-05-22T13:42:05.044Z"
   },
   {
    "duration": 61,
    "start_time": "2023-05-22T13:42:05.073Z"
   },
   {
    "duration": 37,
    "start_time": "2023-05-22T13:42:05.136Z"
   },
   {
    "duration": 0,
    "start_time": "2023-05-22T13:42:05.175Z"
   },
   {
    "duration": 0,
    "start_time": "2023-05-22T13:42:05.218Z"
   },
   {
    "duration": 0,
    "start_time": "2023-05-22T13:42:05.218Z"
   },
   {
    "duration": 0,
    "start_time": "2023-05-22T13:42:05.219Z"
   },
   {
    "duration": 0,
    "start_time": "2023-05-22T13:42:05.220Z"
   },
   {
    "duration": 0,
    "start_time": "2023-05-22T13:42:05.221Z"
   },
   {
    "duration": 0,
    "start_time": "2023-05-22T13:42:05.222Z"
   },
   {
    "duration": 0,
    "start_time": "2023-05-22T13:42:05.223Z"
   },
   {
    "duration": 0,
    "start_time": "2023-05-22T13:42:05.224Z"
   },
   {
    "duration": 0,
    "start_time": "2023-05-22T13:42:05.225Z"
   },
   {
    "duration": 0,
    "start_time": "2023-05-22T13:42:05.225Z"
   },
   {
    "duration": 0,
    "start_time": "2023-05-22T13:42:05.226Z"
   },
   {
    "duration": 0,
    "start_time": "2023-05-22T13:42:05.228Z"
   },
   {
    "duration": 0,
    "start_time": "2023-05-22T13:42:05.229Z"
   },
   {
    "duration": 0,
    "start_time": "2023-05-22T13:42:05.229Z"
   },
   {
    "duration": 0,
    "start_time": "2023-05-22T13:42:05.230Z"
   },
   {
    "duration": 0,
    "start_time": "2023-05-22T13:42:05.231Z"
   },
   {
    "duration": 0,
    "start_time": "2023-05-22T13:42:05.232Z"
   },
   {
    "duration": 0,
    "start_time": "2023-05-22T13:42:05.232Z"
   },
   {
    "duration": 20,
    "start_time": "2023-05-22T13:42:12.063Z"
   },
   {
    "duration": 17,
    "start_time": "2023-05-22T13:42:19.181Z"
   },
   {
    "duration": 18,
    "start_time": "2023-05-22T13:42:30.584Z"
   },
   {
    "duration": 47,
    "start_time": "2023-05-22T13:43:22.451Z"
   },
   {
    "duration": 13,
    "start_time": "2023-05-22T13:43:22.499Z"
   },
   {
    "duration": 12,
    "start_time": "2023-05-22T13:43:22.514Z"
   },
   {
    "duration": 31,
    "start_time": "2023-05-22T13:43:22.527Z"
   },
   {
    "duration": 0,
    "start_time": "2023-05-22T13:43:22.560Z"
   },
   {
    "duration": 0,
    "start_time": "2023-05-22T13:43:22.561Z"
   },
   {
    "duration": 0,
    "start_time": "2023-05-22T13:43:22.562Z"
   },
   {
    "duration": 0,
    "start_time": "2023-05-22T13:43:22.563Z"
   },
   {
    "duration": 0,
    "start_time": "2023-05-22T13:43:22.563Z"
   },
   {
    "duration": 0,
    "start_time": "2023-05-22T13:43:22.564Z"
   },
   {
    "duration": 0,
    "start_time": "2023-05-22T13:43:22.565Z"
   },
   {
    "duration": 0,
    "start_time": "2023-05-22T13:43:22.566Z"
   },
   {
    "duration": 0,
    "start_time": "2023-05-22T13:43:22.566Z"
   },
   {
    "duration": 0,
    "start_time": "2023-05-22T13:43:22.567Z"
   },
   {
    "duration": 0,
    "start_time": "2023-05-22T13:43:22.568Z"
   },
   {
    "duration": 0,
    "start_time": "2023-05-22T13:43:22.569Z"
   },
   {
    "duration": 0,
    "start_time": "2023-05-22T13:43:22.569Z"
   },
   {
    "duration": 0,
    "start_time": "2023-05-22T13:43:22.570Z"
   },
   {
    "duration": 0,
    "start_time": "2023-05-22T13:43:22.571Z"
   },
   {
    "duration": 0,
    "start_time": "2023-05-22T13:43:22.571Z"
   },
   {
    "duration": 0,
    "start_time": "2023-05-22T13:43:22.572Z"
   },
   {
    "duration": 0,
    "start_time": "2023-05-22T13:43:22.573Z"
   },
   {
    "duration": 0,
    "start_time": "2023-05-22T13:43:22.574Z"
   },
   {
    "duration": 0,
    "start_time": "2023-05-22T13:43:22.574Z"
   },
   {
    "duration": 0,
    "start_time": "2023-05-22T13:43:22.575Z"
   },
   {
    "duration": 0,
    "start_time": "2023-05-22T13:43:22.576Z"
   },
   {
    "duration": 0,
    "start_time": "2023-05-22T13:43:22.577Z"
   },
   {
    "duration": 0,
    "start_time": "2023-05-22T13:43:22.577Z"
   },
   {
    "duration": 0,
    "start_time": "2023-05-22T13:43:22.578Z"
   },
   {
    "duration": 0,
    "start_time": "2023-05-22T13:43:22.579Z"
   },
   {
    "duration": 47,
    "start_time": "2023-05-22T13:46:41.142Z"
   },
   {
    "duration": 14,
    "start_time": "2023-05-22T13:46:41.190Z"
   },
   {
    "duration": 5,
    "start_time": "2023-05-22T13:46:41.205Z"
   },
   {
    "duration": 10,
    "start_time": "2023-05-22T13:46:41.212Z"
   },
   {
    "duration": 1288,
    "start_time": "2023-05-22T13:46:41.224Z"
   },
   {
    "duration": 2247,
    "start_time": "2023-05-22T13:46:42.514Z"
   },
   {
    "duration": 60,
    "start_time": "2023-05-22T13:46:44.763Z"
   },
   {
    "duration": 11,
    "start_time": "2023-05-22T13:46:44.825Z"
   },
   {
    "duration": 8,
    "start_time": "2023-05-22T13:46:44.837Z"
   },
   {
    "duration": 16,
    "start_time": "2023-05-22T13:46:44.848Z"
   },
   {
    "duration": 60,
    "start_time": "2023-05-22T13:46:44.865Z"
   },
   {
    "duration": 1408,
    "start_time": "2023-05-22T13:46:44.927Z"
   },
   {
    "duration": 4165,
    "start_time": "2023-05-22T13:46:46.336Z"
   },
   {
    "duration": 28,
    "start_time": "2023-05-22T13:46:50.503Z"
   },
   {
    "duration": 90,
    "start_time": "2023-05-22T13:46:50.532Z"
   },
   {
    "duration": 222,
    "start_time": "2023-05-22T13:46:50.624Z"
   },
   {
    "duration": 4,
    "start_time": "2023-05-22T13:46:50.848Z"
   },
   {
    "duration": 23,
    "start_time": "2023-05-22T13:46:50.854Z"
   },
   {
    "duration": 557,
    "start_time": "2023-05-22T13:46:50.879Z"
   },
   {
    "duration": 4566,
    "start_time": "2023-05-22T13:46:51.438Z"
   },
   {
    "duration": 124,
    "start_time": "2023-05-22T13:46:56.006Z"
   },
   {
    "duration": 93,
    "start_time": "2023-05-22T13:46:56.133Z"
   },
   {
    "duration": 124,
    "start_time": "2023-05-22T13:46:56.228Z"
   },
   {
    "duration": 235,
    "start_time": "2023-05-22T13:46:56.354Z"
   },
   {
    "duration": 1729,
    "start_time": "2023-05-22T13:46:56.591Z"
   },
   {
    "duration": 96,
    "start_time": "2023-05-22T13:46:58.322Z"
   },
   {
    "duration": 8,
    "start_time": "2023-05-22T13:46:58.420Z"
   },
   {
    "duration": 91,
    "start_time": "2023-05-22T13:46:58.432Z"
   },
   {
    "duration": 492,
    "start_time": "2023-05-22T13:46:58.525Z"
   },
   {
    "duration": 136,
    "start_time": "2023-05-22T13:46:59.019Z"
   },
   {
    "duration": 13,
    "start_time": "2023-05-22T13:48:52.439Z"
   },
   {
    "duration": 13,
    "start_time": "2023-05-22T13:49:04.858Z"
   },
   {
    "duration": 48,
    "start_time": "2023-05-22T13:49:09.951Z"
   },
   {
    "duration": 13,
    "start_time": "2023-05-22T13:49:10.001Z"
   },
   {
    "duration": 9,
    "start_time": "2023-05-22T13:49:10.016Z"
   },
   {
    "duration": 29,
    "start_time": "2023-05-22T13:49:10.027Z"
   },
   {
    "duration": 0,
    "start_time": "2023-05-22T13:49:10.059Z"
   },
   {
    "duration": 0,
    "start_time": "2023-05-22T13:49:10.060Z"
   },
   {
    "duration": 0,
    "start_time": "2023-05-22T13:49:10.060Z"
   },
   {
    "duration": 0,
    "start_time": "2023-05-22T13:49:10.061Z"
   },
   {
    "duration": 0,
    "start_time": "2023-05-22T13:49:10.062Z"
   },
   {
    "duration": 0,
    "start_time": "2023-05-22T13:49:10.063Z"
   },
   {
    "duration": 0,
    "start_time": "2023-05-22T13:49:10.064Z"
   },
   {
    "duration": 0,
    "start_time": "2023-05-22T13:49:10.065Z"
   },
   {
    "duration": 0,
    "start_time": "2023-05-22T13:49:10.066Z"
   },
   {
    "duration": 0,
    "start_time": "2023-05-22T13:49:10.068Z"
   },
   {
    "duration": 0,
    "start_time": "2023-05-22T13:49:10.069Z"
   },
   {
    "duration": 0,
    "start_time": "2023-05-22T13:49:10.070Z"
   },
   {
    "duration": 0,
    "start_time": "2023-05-22T13:49:10.071Z"
   },
   {
    "duration": 0,
    "start_time": "2023-05-22T13:49:10.071Z"
   },
   {
    "duration": 0,
    "start_time": "2023-05-22T13:49:10.072Z"
   },
   {
    "duration": 0,
    "start_time": "2023-05-22T13:49:10.074Z"
   },
   {
    "duration": 1,
    "start_time": "2023-05-22T13:49:10.074Z"
   },
   {
    "duration": 0,
    "start_time": "2023-05-22T13:49:10.075Z"
   },
   {
    "duration": 0,
    "start_time": "2023-05-22T13:49:10.076Z"
   },
   {
    "duration": 0,
    "start_time": "2023-05-22T13:49:10.077Z"
   },
   {
    "duration": 0,
    "start_time": "2023-05-22T13:49:10.079Z"
   },
   {
    "duration": 0,
    "start_time": "2023-05-22T13:49:10.080Z"
   },
   {
    "duration": 0,
    "start_time": "2023-05-22T13:49:10.082Z"
   },
   {
    "duration": 0,
    "start_time": "2023-05-22T13:49:10.118Z"
   },
   {
    "duration": 0,
    "start_time": "2023-05-22T13:49:10.119Z"
   },
   {
    "duration": 0,
    "start_time": "2023-05-22T13:49:10.120Z"
   },
   {
    "duration": 12,
    "start_time": "2023-05-22T13:49:19.396Z"
   },
   {
    "duration": 11,
    "start_time": "2023-05-22T13:50:51.019Z"
   },
   {
    "duration": 48,
    "start_time": "2023-05-22T13:50:54.979Z"
   },
   {
    "duration": 14,
    "start_time": "2023-05-22T13:50:55.029Z"
   },
   {
    "duration": 26,
    "start_time": "2023-05-22T13:50:55.044Z"
   },
   {
    "duration": 18,
    "start_time": "2023-05-22T13:50:55.072Z"
   },
   {
    "duration": 1012,
    "start_time": "2023-05-22T13:50:55.091Z"
   },
   {
    "duration": 1660,
    "start_time": "2023-05-22T13:50:56.104Z"
   },
   {
    "duration": 11,
    "start_time": "2023-05-22T13:50:57.818Z"
   },
   {
    "duration": 12,
    "start_time": "2023-05-22T13:50:57.831Z"
   },
   {
    "duration": 9,
    "start_time": "2023-05-22T13:50:57.844Z"
   },
   {
    "duration": 271,
    "start_time": "2023-05-22T13:50:57.856Z"
   },
   {
    "duration": 22,
    "start_time": "2023-05-22T13:50:58.128Z"
   },
   {
    "duration": 0,
    "start_time": "2023-05-22T13:50:58.151Z"
   },
   {
    "duration": 0,
    "start_time": "2023-05-22T13:50:58.152Z"
   },
   {
    "duration": 0,
    "start_time": "2023-05-22T13:50:58.153Z"
   },
   {
    "duration": 0,
    "start_time": "2023-05-22T13:50:58.154Z"
   },
   {
    "duration": 0,
    "start_time": "2023-05-22T13:50:58.155Z"
   },
   {
    "duration": 0,
    "start_time": "2023-05-22T13:50:58.156Z"
   },
   {
    "duration": 0,
    "start_time": "2023-05-22T13:50:58.156Z"
   },
   {
    "duration": 0,
    "start_time": "2023-05-22T13:50:58.157Z"
   },
   {
    "duration": 0,
    "start_time": "2023-05-22T13:50:58.158Z"
   },
   {
    "duration": 0,
    "start_time": "2023-05-22T13:50:58.159Z"
   },
   {
    "duration": 0,
    "start_time": "2023-05-22T13:50:58.160Z"
   },
   {
    "duration": 0,
    "start_time": "2023-05-22T13:50:58.217Z"
   },
   {
    "duration": 0,
    "start_time": "2023-05-22T13:50:58.218Z"
   },
   {
    "duration": 0,
    "start_time": "2023-05-22T13:50:58.220Z"
   },
   {
    "duration": 0,
    "start_time": "2023-05-22T13:50:58.220Z"
   },
   {
    "duration": 0,
    "start_time": "2023-05-22T13:50:58.221Z"
   },
   {
    "duration": 0,
    "start_time": "2023-05-22T13:50:58.222Z"
   },
   {
    "duration": 0,
    "start_time": "2023-05-22T13:50:58.223Z"
   },
   {
    "duration": 0,
    "start_time": "2023-05-22T13:50:58.224Z"
   },
   {
    "duration": 18,
    "start_time": "2023-05-22T13:51:43.901Z"
   },
   {
    "duration": 14,
    "start_time": "2023-05-22T13:52:03.261Z"
   },
   {
    "duration": 19,
    "start_time": "2023-05-22T13:52:16.885Z"
   },
   {
    "duration": 1999,
    "start_time": "2023-05-22T13:53:30.427Z"
   },
   {
    "duration": 17,
    "start_time": "2023-05-22T13:53:32.428Z"
   },
   {
    "duration": 5,
    "start_time": "2023-05-22T13:53:32.447Z"
   },
   {
    "duration": 277,
    "start_time": "2023-05-22T13:53:32.454Z"
   },
   {
    "duration": 0,
    "start_time": "2023-05-22T13:53:32.734Z"
   },
   {
    "duration": 0,
    "start_time": "2023-05-22T13:53:32.735Z"
   },
   {
    "duration": 0,
    "start_time": "2023-05-22T13:53:32.736Z"
   },
   {
    "duration": 0,
    "start_time": "2023-05-22T13:53:32.737Z"
   },
   {
    "duration": 0,
    "start_time": "2023-05-22T13:53:32.738Z"
   },
   {
    "duration": 0,
    "start_time": "2023-05-22T13:53:32.739Z"
   },
   {
    "duration": 0,
    "start_time": "2023-05-22T13:53:32.740Z"
   },
   {
    "duration": 0,
    "start_time": "2023-05-22T13:53:32.741Z"
   },
   {
    "duration": 0,
    "start_time": "2023-05-22T13:53:32.742Z"
   },
   {
    "duration": 0,
    "start_time": "2023-05-22T13:53:32.742Z"
   },
   {
    "duration": 0,
    "start_time": "2023-05-22T13:53:32.743Z"
   },
   {
    "duration": 0,
    "start_time": "2023-05-22T13:53:32.744Z"
   },
   {
    "duration": 0,
    "start_time": "2023-05-22T13:53:32.745Z"
   },
   {
    "duration": 0,
    "start_time": "2023-05-22T13:53:32.746Z"
   },
   {
    "duration": 0,
    "start_time": "2023-05-22T13:53:32.747Z"
   },
   {
    "duration": 0,
    "start_time": "2023-05-22T13:53:32.748Z"
   },
   {
    "duration": 0,
    "start_time": "2023-05-22T13:53:32.749Z"
   },
   {
    "duration": 0,
    "start_time": "2023-05-22T13:53:32.750Z"
   },
   {
    "duration": 0,
    "start_time": "2023-05-22T13:53:32.751Z"
   },
   {
    "duration": 0,
    "start_time": "2023-05-22T13:53:32.752Z"
   },
   {
    "duration": 0,
    "start_time": "2023-05-22T13:53:32.753Z"
   },
   {
    "duration": 0,
    "start_time": "2023-05-22T13:53:32.753Z"
   },
   {
    "duration": 0,
    "start_time": "2023-05-22T13:53:32.754Z"
   },
   {
    "duration": 0,
    "start_time": "2023-05-22T13:53:32.755Z"
   },
   {
    "duration": 0,
    "start_time": "2023-05-22T13:53:32.756Z"
   },
   {
    "duration": 0,
    "start_time": "2023-05-22T13:53:32.757Z"
   },
   {
    "duration": 17,
    "start_time": "2023-05-22T13:54:57.985Z"
   },
   {
    "duration": 18,
    "start_time": "2023-05-22T13:55:07.064Z"
   },
   {
    "duration": 15,
    "start_time": "2023-05-22T13:59:51.059Z"
   },
   {
    "duration": 24,
    "start_time": "2023-05-22T14:01:39.944Z"
   },
   {
    "duration": 50,
    "start_time": "2023-05-22T14:02:05.442Z"
   },
   {
    "duration": 15,
    "start_time": "2023-05-22T14:02:05.493Z"
   },
   {
    "duration": 16,
    "start_time": "2023-05-22T14:02:05.509Z"
   },
   {
    "duration": 32,
    "start_time": "2023-05-22T14:02:05.526Z"
   },
   {
    "duration": 1058,
    "start_time": "2023-05-22T14:02:05.560Z"
   },
   {
    "duration": 1126,
    "start_time": "2023-05-22T14:02:06.620Z"
   },
   {
    "duration": 13,
    "start_time": "2023-05-22T14:02:07.747Z"
   },
   {
    "duration": 12,
    "start_time": "2023-05-22T14:02:07.817Z"
   },
   {
    "duration": 8,
    "start_time": "2023-05-22T14:02:07.831Z"
   },
   {
    "duration": 19,
    "start_time": "2023-05-22T14:02:07.841Z"
   },
   {
    "duration": 83,
    "start_time": "2023-05-22T14:02:07.862Z"
   },
   {
    "duration": 0,
    "start_time": "2023-05-22T14:02:07.947Z"
   },
   {
    "duration": 0,
    "start_time": "2023-05-22T14:02:07.948Z"
   },
   {
    "duration": 0,
    "start_time": "2023-05-22T14:02:07.949Z"
   },
   {
    "duration": 0,
    "start_time": "2023-05-22T14:02:07.950Z"
   },
   {
    "duration": 0,
    "start_time": "2023-05-22T14:02:07.951Z"
   },
   {
    "duration": 0,
    "start_time": "2023-05-22T14:02:07.952Z"
   },
   {
    "duration": 0,
    "start_time": "2023-05-22T14:02:07.952Z"
   },
   {
    "duration": 0,
    "start_time": "2023-05-22T14:02:07.953Z"
   },
   {
    "duration": 0,
    "start_time": "2023-05-22T14:02:07.954Z"
   },
   {
    "duration": 0,
    "start_time": "2023-05-22T14:02:07.955Z"
   },
   {
    "duration": 1,
    "start_time": "2023-05-22T14:02:07.955Z"
   },
   {
    "duration": 0,
    "start_time": "2023-05-22T14:02:07.956Z"
   },
   {
    "duration": 0,
    "start_time": "2023-05-22T14:02:07.957Z"
   },
   {
    "duration": 0,
    "start_time": "2023-05-22T14:02:07.958Z"
   },
   {
    "duration": 0,
    "start_time": "2023-05-22T14:02:07.959Z"
   },
   {
    "duration": 0,
    "start_time": "2023-05-22T14:02:07.960Z"
   },
   {
    "duration": 0,
    "start_time": "2023-05-22T14:02:07.960Z"
   },
   {
    "duration": 0,
    "start_time": "2023-05-22T14:02:07.961Z"
   },
   {
    "duration": 0,
    "start_time": "2023-05-22T14:02:07.962Z"
   },
   {
    "duration": 21,
    "start_time": "2023-05-22T14:02:44.626Z"
   },
   {
    "duration": 47,
    "start_time": "2023-05-22T14:02:54.232Z"
   },
   {
    "duration": 14,
    "start_time": "2023-05-22T14:02:54.280Z"
   },
   {
    "duration": 14,
    "start_time": "2023-05-22T14:02:54.295Z"
   },
   {
    "duration": 43,
    "start_time": "2023-05-22T14:02:54.311Z"
   },
   {
    "duration": 1277,
    "start_time": "2023-05-22T14:02:54.355Z"
   },
   {
    "duration": 1725,
    "start_time": "2023-05-22T14:02:55.633Z"
   },
   {
    "duration": 11,
    "start_time": "2023-05-22T14:02:57.361Z"
   },
   {
    "duration": 26,
    "start_time": "2023-05-22T14:02:57.373Z"
   },
   {
    "duration": 14,
    "start_time": "2023-05-22T14:02:57.401Z"
   },
   {
    "duration": 13,
    "start_time": "2023-05-22T14:02:57.418Z"
   },
   {
    "duration": 19,
    "start_time": "2023-05-22T14:02:57.433Z"
   },
   {
    "duration": 737,
    "start_time": "2023-05-22T14:02:57.453Z"
   },
   {
    "duration": 4147,
    "start_time": "2023-05-22T14:02:58.192Z"
   },
   {
    "duration": 178,
    "start_time": "2023-05-22T14:03:02.341Z"
   },
   {
    "duration": 115,
    "start_time": "2023-05-22T14:03:02.520Z"
   },
   {
    "duration": 134,
    "start_time": "2023-05-22T14:03:02.637Z"
   },
   {
    "duration": 4,
    "start_time": "2023-05-22T14:03:02.772Z"
   },
   {
    "duration": 17,
    "start_time": "2023-05-22T14:03:02.778Z"
   },
   {
    "duration": 602,
    "start_time": "2023-05-22T14:03:02.797Z"
   },
   {
    "duration": 4436,
    "start_time": "2023-05-22T14:03:03.401Z"
   },
   {
    "duration": 86,
    "start_time": "2023-05-22T14:03:07.839Z"
   },
   {
    "duration": 93,
    "start_time": "2023-05-22T14:03:07.927Z"
   },
   {
    "duration": 102,
    "start_time": "2023-05-22T14:03:08.022Z"
   },
   {
    "duration": 235,
    "start_time": "2023-05-22T14:03:08.126Z"
   },
   {
    "duration": 1629,
    "start_time": "2023-05-22T14:03:08.363Z"
   },
   {
    "duration": 126,
    "start_time": "2023-05-22T14:03:09.993Z"
   },
   {
    "duration": 101,
    "start_time": "2023-05-22T14:03:10.121Z"
   },
   {
    "duration": 7,
    "start_time": "2023-05-22T14:03:10.225Z"
   },
   {
    "duration": 474,
    "start_time": "2023-05-22T14:03:10.234Z"
   },
   {
    "duration": 144,
    "start_time": "2023-05-22T14:03:10.710Z"
   },
   {
    "duration": 15,
    "start_time": "2023-05-22T14:04:11.315Z"
   },
   {
    "duration": 13,
    "start_time": "2023-05-22T14:04:24.067Z"
   },
   {
    "duration": 52,
    "start_time": "2023-05-22T14:04:35.957Z"
   },
   {
    "duration": 18,
    "start_time": "2023-05-22T14:04:36.011Z"
   },
   {
    "duration": 5,
    "start_time": "2023-05-22T14:04:36.031Z"
   },
   {
    "duration": 17,
    "start_time": "2023-05-22T14:04:36.038Z"
   },
   {
    "duration": 1061,
    "start_time": "2023-05-22T14:04:36.057Z"
   },
   {
    "duration": 1960,
    "start_time": "2023-05-22T14:04:37.119Z"
   },
   {
    "duration": 10,
    "start_time": "2023-05-22T14:04:39.081Z"
   },
   {
    "duration": 10,
    "start_time": "2023-05-22T14:04:39.093Z"
   },
   {
    "duration": 17,
    "start_time": "2023-05-22T14:04:39.104Z"
   },
   {
    "duration": 20,
    "start_time": "2023-05-22T14:04:39.123Z"
   },
   {
    "duration": 10,
    "start_time": "2023-05-22T14:04:39.145Z"
   },
   {
    "duration": 719,
    "start_time": "2023-05-22T14:04:39.157Z"
   },
   {
    "duration": 2993,
    "start_time": "2023-05-22T14:04:39.878Z"
   },
   {
    "duration": 147,
    "start_time": "2023-05-22T14:04:42.874Z"
   },
   {
    "duration": 96,
    "start_time": "2023-05-22T14:04:43.023Z"
   },
   {
    "duration": 132,
    "start_time": "2023-05-22T14:04:43.120Z"
   },
   {
    "duration": 3,
    "start_time": "2023-05-22T14:04:43.254Z"
   },
   {
    "duration": 12,
    "start_time": "2023-05-22T14:04:43.258Z"
   },
   {
    "duration": 518,
    "start_time": "2023-05-22T14:04:43.272Z"
   },
   {
    "duration": 4393,
    "start_time": "2023-05-22T14:04:43.791Z"
   },
   {
    "duration": 133,
    "start_time": "2023-05-22T14:04:48.185Z"
   },
   {
    "duration": 99,
    "start_time": "2023-05-22T14:04:48.320Z"
   },
   {
    "duration": 39,
    "start_time": "2023-05-22T14:04:48.420Z"
   },
   {
    "duration": 222,
    "start_time": "2023-05-22T14:04:48.460Z"
   },
   {
    "duration": 1663,
    "start_time": "2023-05-22T14:04:48.684Z"
   },
   {
    "duration": 73,
    "start_time": "2023-05-22T14:04:50.349Z"
   },
   {
    "duration": 104,
    "start_time": "2023-05-22T14:04:50.424Z"
   },
   {
    "duration": 89,
    "start_time": "2023-05-22T14:04:50.530Z"
   },
   {
    "duration": 481,
    "start_time": "2023-05-22T14:04:50.620Z"
   },
   {
    "duration": 134,
    "start_time": "2023-05-22T14:04:51.103Z"
   },
   {
    "duration": 12,
    "start_time": "2023-05-22T14:04:51.240Z"
   },
   {
    "duration": 50,
    "start_time": "2023-05-22T14:04:57.395Z"
   },
   {
    "duration": 15,
    "start_time": "2023-05-22T14:04:57.447Z"
   },
   {
    "duration": 19,
    "start_time": "2023-05-22T14:04:57.464Z"
   },
   {
    "duration": 31,
    "start_time": "2023-05-22T14:04:57.485Z"
   },
   {
    "duration": 48,
    "start_time": "2023-05-22T14:05:14.033Z"
   },
   {
    "duration": 14,
    "start_time": "2023-05-22T14:05:14.083Z"
   },
   {
    "duration": 19,
    "start_time": "2023-05-22T14:05:14.099Z"
   },
   {
    "duration": 46,
    "start_time": "2023-05-22T14:05:14.121Z"
   },
   {
    "duration": 1196,
    "start_time": "2023-05-22T14:05:14.169Z"
   },
   {
    "duration": 646,
    "start_time": "2023-05-22T14:05:15.367Z"
   },
   {
    "duration": 11,
    "start_time": "2023-05-22T14:05:16.017Z"
   },
   {
    "duration": 13,
    "start_time": "2023-05-22T14:05:16.030Z"
   },
   {
    "duration": 6,
    "start_time": "2023-05-22T14:05:16.044Z"
   },
   {
    "duration": 17,
    "start_time": "2023-05-22T14:05:16.051Z"
   },
   {
    "duration": 14,
    "start_time": "2023-05-22T14:05:16.070Z"
   },
   {
    "duration": 69,
    "start_time": "2023-05-22T14:05:16.085Z"
   },
   {
    "duration": 0,
    "start_time": "2023-05-22T14:05:16.157Z"
   },
   {
    "duration": 0,
    "start_time": "2023-05-22T14:05:16.158Z"
   },
   {
    "duration": 0,
    "start_time": "2023-05-22T14:05:16.160Z"
   },
   {
    "duration": 0,
    "start_time": "2023-05-22T14:05:16.161Z"
   },
   {
    "duration": 1,
    "start_time": "2023-05-22T14:05:16.162Z"
   },
   {
    "duration": 0,
    "start_time": "2023-05-22T14:05:16.164Z"
   },
   {
    "duration": 0,
    "start_time": "2023-05-22T14:05:16.165Z"
   },
   {
    "duration": 0,
    "start_time": "2023-05-22T14:05:16.166Z"
   },
   {
    "duration": 0,
    "start_time": "2023-05-22T14:05:16.167Z"
   },
   {
    "duration": 0,
    "start_time": "2023-05-22T14:05:16.169Z"
   },
   {
    "duration": 0,
    "start_time": "2023-05-22T14:05:16.171Z"
   },
   {
    "duration": 0,
    "start_time": "2023-05-22T14:05:16.172Z"
   },
   {
    "duration": 0,
    "start_time": "2023-05-22T14:05:16.173Z"
   },
   {
    "duration": 0,
    "start_time": "2023-05-22T14:05:16.174Z"
   },
   {
    "duration": 0,
    "start_time": "2023-05-22T14:05:16.175Z"
   },
   {
    "duration": 0,
    "start_time": "2023-05-22T14:05:16.177Z"
   },
   {
    "duration": 0,
    "start_time": "2023-05-22T14:05:16.218Z"
   },
   {
    "duration": 0,
    "start_time": "2023-05-22T14:05:16.219Z"
   },
   {
    "duration": 50,
    "start_time": "2023-05-22T14:05:31.327Z"
   },
   {
    "duration": 14,
    "start_time": "2023-05-22T14:05:31.379Z"
   },
   {
    "duration": 75,
    "start_time": "2023-05-22T14:05:31.395Z"
   },
   {
    "duration": 53,
    "start_time": "2023-05-22T14:05:31.472Z"
   },
   {
    "duration": 12,
    "start_time": "2023-05-22T14:06:15.517Z"
   },
   {
    "duration": 47,
    "start_time": "2023-05-22T14:06:21.466Z"
   },
   {
    "duration": 14,
    "start_time": "2023-05-22T14:06:21.515Z"
   },
   {
    "duration": 20,
    "start_time": "2023-05-22T14:06:21.530Z"
   },
   {
    "duration": 45,
    "start_time": "2023-05-22T14:06:21.551Z"
   },
   {
    "duration": 50,
    "start_time": "2023-05-22T14:07:00.133Z"
   },
   {
    "duration": 15,
    "start_time": "2023-05-22T14:07:00.185Z"
   },
   {
    "duration": 39,
    "start_time": "2023-05-22T14:07:00.201Z"
   },
   {
    "duration": 63,
    "start_time": "2023-05-22T14:07:00.241Z"
   },
   {
    "duration": 53,
    "start_time": "2023-05-22T14:07:40.770Z"
   },
   {
    "duration": 14,
    "start_time": "2023-05-22T14:07:40.825Z"
   },
   {
    "duration": 7,
    "start_time": "2023-05-22T14:07:40.841Z"
   },
   {
    "duration": 47,
    "start_time": "2023-05-22T14:07:40.850Z"
   },
   {
    "duration": 49,
    "start_time": "2023-05-22T14:08:02.626Z"
   },
   {
    "duration": 14,
    "start_time": "2023-05-22T14:08:02.677Z"
   },
   {
    "duration": 30,
    "start_time": "2023-05-22T14:08:02.693Z"
   },
   {
    "duration": 37,
    "start_time": "2023-05-22T14:08:02.724Z"
   },
   {
    "duration": 47,
    "start_time": "2023-05-22T14:08:23.739Z"
   },
   {
    "duration": 14,
    "start_time": "2023-05-22T14:08:23.788Z"
   },
   {
    "duration": 10,
    "start_time": "2023-05-22T14:08:23.804Z"
   },
   {
    "duration": 24,
    "start_time": "2023-05-22T14:08:23.817Z"
   },
   {
    "duration": 0,
    "start_time": "2023-05-22T14:08:23.843Z"
   },
   {
    "duration": 0,
    "start_time": "2023-05-22T14:08:23.844Z"
   },
   {
    "duration": 0,
    "start_time": "2023-05-22T14:08:23.845Z"
   },
   {
    "duration": 1,
    "start_time": "2023-05-22T14:08:23.846Z"
   },
   {
    "duration": 0,
    "start_time": "2023-05-22T14:08:23.847Z"
   },
   {
    "duration": 0,
    "start_time": "2023-05-22T14:08:23.848Z"
   },
   {
    "duration": 0,
    "start_time": "2023-05-22T14:08:23.849Z"
   },
   {
    "duration": 0,
    "start_time": "2023-05-22T14:08:23.850Z"
   },
   {
    "duration": 1,
    "start_time": "2023-05-22T14:08:23.851Z"
   },
   {
    "duration": 0,
    "start_time": "2023-05-22T14:08:23.852Z"
   },
   {
    "duration": 0,
    "start_time": "2023-05-22T14:08:23.853Z"
   },
   {
    "duration": 0,
    "start_time": "2023-05-22T14:08:23.854Z"
   },
   {
    "duration": 0,
    "start_time": "2023-05-22T14:08:23.855Z"
   },
   {
    "duration": 0,
    "start_time": "2023-05-22T14:08:23.856Z"
   },
   {
    "duration": 0,
    "start_time": "2023-05-22T14:08:23.857Z"
   },
   {
    "duration": 0,
    "start_time": "2023-05-22T14:08:23.858Z"
   },
   {
    "duration": 0,
    "start_time": "2023-05-22T14:08:23.859Z"
   },
   {
    "duration": 0,
    "start_time": "2023-05-22T14:08:23.859Z"
   },
   {
    "duration": 0,
    "start_time": "2023-05-22T14:08:23.861Z"
   },
   {
    "duration": 0,
    "start_time": "2023-05-22T14:08:23.862Z"
   },
   {
    "duration": 0,
    "start_time": "2023-05-22T14:08:23.862Z"
   },
   {
    "duration": 0,
    "start_time": "2023-05-22T14:08:23.863Z"
   },
   {
    "duration": 1,
    "start_time": "2023-05-22T14:08:23.864Z"
   },
   {
    "duration": 0,
    "start_time": "2023-05-22T14:08:23.865Z"
   },
   {
    "duration": 0,
    "start_time": "2023-05-22T14:08:23.866Z"
   },
   {
    "duration": 0,
    "start_time": "2023-05-22T14:08:23.867Z"
   },
   {
    "duration": 63,
    "start_time": "2023-05-22T14:08:36.568Z"
   },
   {
    "duration": 14,
    "start_time": "2023-05-22T14:08:36.634Z"
   },
   {
    "duration": 5,
    "start_time": "2023-05-22T14:08:36.650Z"
   },
   {
    "duration": 28,
    "start_time": "2023-05-22T14:08:36.657Z"
   },
   {
    "duration": 1389,
    "start_time": "2023-05-22T14:08:36.686Z"
   },
   {
    "duration": 1562,
    "start_time": "2023-05-22T14:08:38.076Z"
   },
   {
    "duration": 16,
    "start_time": "2023-05-22T14:08:39.641Z"
   },
   {
    "duration": 71,
    "start_time": "2023-05-22T14:08:39.659Z"
   },
   {
    "duration": 13,
    "start_time": "2023-05-22T14:08:39.732Z"
   },
   {
    "duration": 13,
    "start_time": "2023-05-22T14:08:39.747Z"
   },
   {
    "duration": 71,
    "start_time": "2023-05-22T14:08:39.761Z"
   },
   {
    "duration": 0,
    "start_time": "2023-05-22T14:08:39.834Z"
   },
   {
    "duration": 0,
    "start_time": "2023-05-22T14:08:39.836Z"
   },
   {
    "duration": 0,
    "start_time": "2023-05-22T14:08:39.837Z"
   },
   {
    "duration": 0,
    "start_time": "2023-05-22T14:08:39.838Z"
   },
   {
    "duration": 1,
    "start_time": "2023-05-22T14:08:39.838Z"
   },
   {
    "duration": 0,
    "start_time": "2023-05-22T14:08:39.839Z"
   },
   {
    "duration": 0,
    "start_time": "2023-05-22T14:08:39.841Z"
   },
   {
    "duration": 0,
    "start_time": "2023-05-22T14:08:39.843Z"
   },
   {
    "duration": 0,
    "start_time": "2023-05-22T14:08:39.844Z"
   },
   {
    "duration": 0,
    "start_time": "2023-05-22T14:08:39.846Z"
   },
   {
    "duration": 0,
    "start_time": "2023-05-22T14:08:39.846Z"
   },
   {
    "duration": 0,
    "start_time": "2023-05-22T14:08:39.847Z"
   },
   {
    "duration": 0,
    "start_time": "2023-05-22T14:08:39.848Z"
   },
   {
    "duration": 0,
    "start_time": "2023-05-22T14:08:39.852Z"
   },
   {
    "duration": 0,
    "start_time": "2023-05-22T14:08:39.853Z"
   },
   {
    "duration": 0,
    "start_time": "2023-05-22T14:08:39.854Z"
   },
   {
    "duration": 0,
    "start_time": "2023-05-22T14:08:39.855Z"
   },
   {
    "duration": 0,
    "start_time": "2023-05-22T14:08:39.857Z"
   },
   {
    "duration": 0,
    "start_time": "2023-05-22T14:08:39.857Z"
   },
   {
    "duration": 39,
    "start_time": "2023-05-22T14:10:21.739Z"
   },
   {
    "duration": 2,
    "start_time": "2023-05-22T14:10:21.780Z"
   },
   {
    "duration": 20,
    "start_time": "2023-05-22T14:10:21.783Z"
   },
   {
    "duration": 25,
    "start_time": "2023-05-22T14:10:21.804Z"
   },
   {
    "duration": 40,
    "start_time": "2023-05-22T14:10:49.545Z"
   },
   {
    "duration": 3,
    "start_time": "2023-05-22T14:10:49.586Z"
   },
   {
    "duration": 14,
    "start_time": "2023-05-22T14:10:49.590Z"
   },
   {
    "duration": 31,
    "start_time": "2023-05-22T14:10:49.606Z"
   },
   {
    "duration": 40,
    "start_time": "2023-05-22T14:11:14.050Z"
   },
   {
    "duration": 3,
    "start_time": "2023-05-22T14:11:14.092Z"
   },
   {
    "duration": 15,
    "start_time": "2023-05-22T14:11:14.096Z"
   },
   {
    "duration": 52,
    "start_time": "2023-05-22T14:11:14.113Z"
   },
   {
    "duration": 39,
    "start_time": "2023-05-22T14:11:23.720Z"
   },
   {
    "duration": 3,
    "start_time": "2023-05-22T14:11:23.761Z"
   },
   {
    "duration": 7,
    "start_time": "2023-05-22T14:11:23.765Z"
   },
   {
    "duration": 31,
    "start_time": "2023-05-22T14:11:23.774Z"
   },
   {
    "duration": 19,
    "start_time": "2023-05-22T14:11:46.173Z"
   },
   {
    "duration": 40,
    "start_time": "2023-05-22T14:11:59.087Z"
   },
   {
    "duration": 2,
    "start_time": "2023-05-22T14:11:59.129Z"
   },
   {
    "duration": 8,
    "start_time": "2023-05-22T14:11:59.132Z"
   },
   {
    "duration": 13,
    "start_time": "2023-05-22T14:11:59.141Z"
   },
   {
    "duration": 21,
    "start_time": "2023-05-22T14:11:59.155Z"
   },
   {
    "duration": 18,
    "start_time": "2023-05-22T14:12:34.226Z"
   },
   {
    "duration": 41,
    "start_time": "2023-05-22T14:12:39.896Z"
   },
   {
    "duration": 3,
    "start_time": "2023-05-22T14:12:39.938Z"
   },
   {
    "duration": 6,
    "start_time": "2023-05-22T14:12:39.942Z"
   },
   {
    "duration": 13,
    "start_time": "2023-05-22T14:12:39.950Z"
   },
   {
    "duration": 17,
    "start_time": "2023-05-22T14:12:39.965Z"
   },
   {
    "duration": 11,
    "start_time": "2023-05-22T14:12:59.558Z"
   },
   {
    "duration": 13,
    "start_time": "2023-05-22T14:13:05.884Z"
   },
   {
    "duration": 40,
    "start_time": "2023-05-22T14:13:13.392Z"
   },
   {
    "duration": 3,
    "start_time": "2023-05-22T14:13:13.434Z"
   },
   {
    "duration": 11,
    "start_time": "2023-05-22T14:13:13.439Z"
   },
   {
    "duration": 21,
    "start_time": "2023-05-22T14:13:13.452Z"
   },
   {
    "duration": 15,
    "start_time": "2023-05-22T14:13:13.476Z"
   },
   {
    "duration": 25,
    "start_time": "2023-05-22T14:13:13.493Z"
   },
   {
    "duration": 1326,
    "start_time": "2023-05-22T14:13:13.520Z"
   },
   {
    "duration": 1473,
    "start_time": "2023-05-22T14:13:14.847Z"
   },
   {
    "duration": 11,
    "start_time": "2023-05-22T14:13:16.321Z"
   },
   {
    "duration": 27,
    "start_time": "2023-05-22T14:13:16.334Z"
   },
   {
    "duration": 5,
    "start_time": "2023-05-22T14:13:16.362Z"
   },
   {
    "duration": 59,
    "start_time": "2023-05-22T14:13:16.368Z"
   },
   {
    "duration": 22,
    "start_time": "2023-05-22T14:13:16.429Z"
   },
   {
    "duration": 1321,
    "start_time": "2023-05-22T14:13:16.454Z"
   },
   {
    "duration": 3448,
    "start_time": "2023-05-22T14:13:17.777Z"
   },
   {
    "duration": 107,
    "start_time": "2023-05-22T14:13:21.226Z"
   },
   {
    "duration": 7,
    "start_time": "2023-05-22T14:13:21.418Z"
   },
   {
    "duration": 138,
    "start_time": "2023-05-22T14:13:21.517Z"
   },
   {
    "duration": 4,
    "start_time": "2023-05-22T14:13:21.656Z"
   },
   {
    "duration": 12,
    "start_time": "2023-05-22T14:13:21.661Z"
   },
   {
    "duration": 539,
    "start_time": "2023-05-22T14:13:21.674Z"
   },
   {
    "duration": 1232,
    "start_time": "2023-05-22T14:13:22.217Z"
   },
   {
    "duration": 0,
    "start_time": "2023-05-22T14:13:23.451Z"
   },
   {
    "duration": 0,
    "start_time": "2023-05-22T14:13:23.452Z"
   },
   {
    "duration": 0,
    "start_time": "2023-05-22T14:13:23.453Z"
   },
   {
    "duration": 0,
    "start_time": "2023-05-22T14:13:23.455Z"
   },
   {
    "duration": 0,
    "start_time": "2023-05-22T14:13:23.456Z"
   },
   {
    "duration": 0,
    "start_time": "2023-05-22T14:13:23.456Z"
   },
   {
    "duration": 0,
    "start_time": "2023-05-22T14:13:23.457Z"
   },
   {
    "duration": 0,
    "start_time": "2023-05-22T14:13:23.458Z"
   },
   {
    "duration": 0,
    "start_time": "2023-05-22T14:13:23.458Z"
   },
   {
    "duration": 0,
    "start_time": "2023-05-22T14:13:23.459Z"
   },
   {
    "duration": 39,
    "start_time": "2023-05-22T14:13:52.731Z"
   },
   {
    "duration": 2,
    "start_time": "2023-05-22T14:13:52.772Z"
   },
   {
    "duration": 10,
    "start_time": "2023-05-22T14:13:52.776Z"
   },
   {
    "duration": 16,
    "start_time": "2023-05-22T14:13:52.787Z"
   },
   {
    "duration": 20,
    "start_time": "2023-05-22T14:13:52.805Z"
   },
   {
    "duration": 21,
    "start_time": "2023-05-22T14:13:52.827Z"
   },
   {
    "duration": 41,
    "start_time": "2023-05-22T14:15:01.692Z"
   },
   {
    "duration": 13,
    "start_time": "2023-05-22T14:15:01.735Z"
   },
   {
    "duration": 23,
    "start_time": "2023-05-22T14:15:01.750Z"
   },
   {
    "duration": 37,
    "start_time": "2023-05-22T14:15:01.775Z"
   },
   {
    "duration": 28,
    "start_time": "2023-05-22T14:15:01.814Z"
   },
   {
    "duration": 42,
    "start_time": "2023-05-22T14:15:01.844Z"
   },
   {
    "duration": 41,
    "start_time": "2023-05-22T14:16:05.396Z"
   },
   {
    "duration": 2,
    "start_time": "2023-05-22T14:16:05.439Z"
   },
   {
    "duration": 20,
    "start_time": "2023-05-22T14:16:05.443Z"
   },
   {
    "duration": 10,
    "start_time": "2023-05-22T14:16:05.464Z"
   },
   {
    "duration": 15,
    "start_time": "2023-05-22T14:16:05.476Z"
   },
   {
    "duration": 28,
    "start_time": "2023-05-22T14:16:05.492Z"
   },
   {
    "duration": 0,
    "start_time": "2023-05-22T14:16:05.522Z"
   },
   {
    "duration": 0,
    "start_time": "2023-05-22T14:16:05.524Z"
   },
   {
    "duration": 0,
    "start_time": "2023-05-22T14:16:05.524Z"
   },
   {
    "duration": 0,
    "start_time": "2023-05-22T14:16:05.525Z"
   },
   {
    "duration": 0,
    "start_time": "2023-05-22T14:16:05.526Z"
   },
   {
    "duration": 0,
    "start_time": "2023-05-22T14:16:05.527Z"
   },
   {
    "duration": 0,
    "start_time": "2023-05-22T14:16:05.528Z"
   },
   {
    "duration": 0,
    "start_time": "2023-05-22T14:16:05.529Z"
   },
   {
    "duration": 0,
    "start_time": "2023-05-22T14:16:05.530Z"
   },
   {
    "duration": 0,
    "start_time": "2023-05-22T14:16:05.531Z"
   },
   {
    "duration": 0,
    "start_time": "2023-05-22T14:16:05.532Z"
   },
   {
    "duration": 0,
    "start_time": "2023-05-22T14:16:05.533Z"
   },
   {
    "duration": 0,
    "start_time": "2023-05-22T14:16:05.534Z"
   },
   {
    "duration": 0,
    "start_time": "2023-05-22T14:16:05.535Z"
   },
   {
    "duration": 0,
    "start_time": "2023-05-22T14:16:05.536Z"
   },
   {
    "duration": 0,
    "start_time": "2023-05-22T14:16:05.537Z"
   },
   {
    "duration": 0,
    "start_time": "2023-05-22T14:16:05.538Z"
   },
   {
    "duration": 0,
    "start_time": "2023-05-22T14:16:05.539Z"
   },
   {
    "duration": 0,
    "start_time": "2023-05-22T14:16:05.539Z"
   },
   {
    "duration": 0,
    "start_time": "2023-05-22T14:16:05.540Z"
   },
   {
    "duration": 0,
    "start_time": "2023-05-22T14:16:05.541Z"
   },
   {
    "duration": 0,
    "start_time": "2023-05-22T14:16:05.542Z"
   },
   {
    "duration": 0,
    "start_time": "2023-05-22T14:16:05.542Z"
   },
   {
    "duration": 0,
    "start_time": "2023-05-22T14:16:05.543Z"
   },
   {
    "duration": 0,
    "start_time": "2023-05-22T14:16:05.544Z"
   },
   {
    "duration": 0,
    "start_time": "2023-05-22T14:16:05.545Z"
   },
   {
    "duration": 0,
    "start_time": "2023-05-22T14:16:05.546Z"
   },
   {
    "duration": 47,
    "start_time": "2023-05-22T14:16:17.923Z"
   },
   {
    "duration": 3,
    "start_time": "2023-05-22T14:16:17.972Z"
   },
   {
    "duration": 24,
    "start_time": "2023-05-22T14:16:17.977Z"
   },
   {
    "duration": 6,
    "start_time": "2023-05-22T14:16:18.003Z"
   },
   {
    "duration": 25,
    "start_time": "2023-05-22T14:16:18.012Z"
   },
   {
    "duration": 45,
    "start_time": "2023-05-22T14:16:18.039Z"
   },
   {
    "duration": 0,
    "start_time": "2023-05-22T14:16:18.087Z"
   },
   {
    "duration": 0,
    "start_time": "2023-05-22T14:16:18.088Z"
   },
   {
    "duration": 0,
    "start_time": "2023-05-22T14:16:18.090Z"
   },
   {
    "duration": 0,
    "start_time": "2023-05-22T14:16:18.091Z"
   },
   {
    "duration": 0,
    "start_time": "2023-05-22T14:16:18.092Z"
   },
   {
    "duration": 0,
    "start_time": "2023-05-22T14:16:18.093Z"
   },
   {
    "duration": 0,
    "start_time": "2023-05-22T14:16:18.095Z"
   },
   {
    "duration": 0,
    "start_time": "2023-05-22T14:16:18.096Z"
   },
   {
    "duration": 0,
    "start_time": "2023-05-22T14:16:18.097Z"
   },
   {
    "duration": 0,
    "start_time": "2023-05-22T14:16:18.099Z"
   },
   {
    "duration": 0,
    "start_time": "2023-05-22T14:16:18.100Z"
   },
   {
    "duration": 0,
    "start_time": "2023-05-22T14:16:18.101Z"
   },
   {
    "duration": 0,
    "start_time": "2023-05-22T14:16:18.102Z"
   },
   {
    "duration": 0,
    "start_time": "2023-05-22T14:16:18.104Z"
   },
   {
    "duration": 0,
    "start_time": "2023-05-22T14:16:18.105Z"
   },
   {
    "duration": 0,
    "start_time": "2023-05-22T14:16:18.106Z"
   },
   {
    "duration": 0,
    "start_time": "2023-05-22T14:16:18.108Z"
   },
   {
    "duration": 0,
    "start_time": "2023-05-22T14:16:18.109Z"
   },
   {
    "duration": 0,
    "start_time": "2023-05-22T14:16:18.117Z"
   },
   {
    "duration": 0,
    "start_time": "2023-05-22T14:16:18.119Z"
   },
   {
    "duration": 0,
    "start_time": "2023-05-22T14:16:18.120Z"
   },
   {
    "duration": 0,
    "start_time": "2023-05-22T14:16:18.122Z"
   },
   {
    "duration": 0,
    "start_time": "2023-05-22T14:16:18.123Z"
   },
   {
    "duration": 0,
    "start_time": "2023-05-22T14:16:18.125Z"
   },
   {
    "duration": 0,
    "start_time": "2023-05-22T14:16:18.132Z"
   },
   {
    "duration": 0,
    "start_time": "2023-05-22T14:16:18.133Z"
   },
   {
    "duration": 0,
    "start_time": "2023-05-22T14:16:18.134Z"
   },
   {
    "duration": 27,
    "start_time": "2023-05-22T14:16:29.174Z"
   },
   {
    "duration": 31,
    "start_time": "2023-05-22T14:16:42.149Z"
   },
   {
    "duration": 18,
    "start_time": "2023-05-22T14:17:23.660Z"
   },
   {
    "duration": 8,
    "start_time": "2023-05-22T14:17:31.810Z"
   },
   {
    "duration": 16,
    "start_time": "2023-05-22T14:17:43.795Z"
   },
   {
    "duration": 42,
    "start_time": "2023-05-22T14:18:10.756Z"
   },
   {
    "duration": 15,
    "start_time": "2023-05-22T14:18:26.692Z"
   },
   {
    "duration": 14,
    "start_time": "2023-05-22T14:18:40.426Z"
   },
   {
    "duration": 24,
    "start_time": "2023-05-22T14:19:25.254Z"
   },
   {
    "duration": 10,
    "start_time": "2023-05-22T14:20:00.340Z"
   },
   {
    "duration": 18,
    "start_time": "2023-05-22T14:20:49.427Z"
   },
   {
    "duration": 40,
    "start_time": "2023-05-22T14:21:07.273Z"
   },
   {
    "duration": 2,
    "start_time": "2023-05-22T14:21:07.315Z"
   },
   {
    "duration": 16,
    "start_time": "2023-05-22T14:21:07.318Z"
   },
   {
    "duration": 15,
    "start_time": "2023-05-22T14:21:07.336Z"
   },
   {
    "duration": 12,
    "start_time": "2023-05-22T14:21:07.353Z"
   },
   {
    "duration": 5,
    "start_time": "2023-05-22T14:21:07.366Z"
   },
   {
    "duration": 14,
    "start_time": "2023-05-22T14:21:07.373Z"
   },
   {
    "duration": 0,
    "start_time": "2023-05-22T14:21:07.389Z"
   },
   {
    "duration": 0,
    "start_time": "2023-05-22T14:21:07.390Z"
   },
   {
    "duration": 0,
    "start_time": "2023-05-22T14:21:07.391Z"
   },
   {
    "duration": 0,
    "start_time": "2023-05-22T14:21:07.392Z"
   },
   {
    "duration": 0,
    "start_time": "2023-05-22T14:21:07.394Z"
   },
   {
    "duration": 0,
    "start_time": "2023-05-22T14:21:07.395Z"
   },
   {
    "duration": 0,
    "start_time": "2023-05-22T14:21:07.396Z"
   },
   {
    "duration": 0,
    "start_time": "2023-05-22T14:21:07.397Z"
   },
   {
    "duration": 0,
    "start_time": "2023-05-22T14:21:07.398Z"
   },
   {
    "duration": 0,
    "start_time": "2023-05-22T14:21:07.417Z"
   },
   {
    "duration": 0,
    "start_time": "2023-05-22T14:21:07.418Z"
   },
   {
    "duration": 0,
    "start_time": "2023-05-22T14:21:07.419Z"
   },
   {
    "duration": 0,
    "start_time": "2023-05-22T14:21:07.421Z"
   },
   {
    "duration": 0,
    "start_time": "2023-05-22T14:21:07.422Z"
   },
   {
    "duration": 0,
    "start_time": "2023-05-22T14:21:07.422Z"
   },
   {
    "duration": 0,
    "start_time": "2023-05-22T14:21:07.423Z"
   },
   {
    "duration": 0,
    "start_time": "2023-05-22T14:21:07.424Z"
   },
   {
    "duration": 0,
    "start_time": "2023-05-22T14:21:07.425Z"
   },
   {
    "duration": 0,
    "start_time": "2023-05-22T14:21:07.427Z"
   },
   {
    "duration": 0,
    "start_time": "2023-05-22T14:21:07.428Z"
   },
   {
    "duration": 0,
    "start_time": "2023-05-22T14:21:07.428Z"
   },
   {
    "duration": 0,
    "start_time": "2023-05-22T14:21:07.430Z"
   },
   {
    "duration": 0,
    "start_time": "2023-05-22T14:21:07.430Z"
   },
   {
    "duration": 0,
    "start_time": "2023-05-22T14:21:07.431Z"
   },
   {
    "duration": 0,
    "start_time": "2023-05-22T14:21:07.432Z"
   },
   {
    "duration": 0,
    "start_time": "2023-05-22T14:21:07.433Z"
   },
   {
    "duration": 14,
    "start_time": "2023-05-22T14:22:32.563Z"
   },
   {
    "duration": 39,
    "start_time": "2023-05-22T14:22:36.105Z"
   },
   {
    "duration": 2,
    "start_time": "2023-05-22T14:22:36.146Z"
   },
   {
    "duration": 8,
    "start_time": "2023-05-22T14:22:36.150Z"
   },
   {
    "duration": 6,
    "start_time": "2023-05-22T14:22:36.159Z"
   },
   {
    "duration": 13,
    "start_time": "2023-05-22T14:22:36.167Z"
   },
   {
    "duration": 0,
    "start_time": "2023-05-22T14:22:36.182Z"
   },
   {
    "duration": 0,
    "start_time": "2023-05-22T14:22:36.183Z"
   },
   {
    "duration": 0,
    "start_time": "2023-05-22T14:22:36.184Z"
   },
   {
    "duration": 0,
    "start_time": "2023-05-22T14:22:36.185Z"
   },
   {
    "duration": 0,
    "start_time": "2023-05-22T14:22:36.186Z"
   },
   {
    "duration": 0,
    "start_time": "2023-05-22T14:22:36.187Z"
   },
   {
    "duration": 0,
    "start_time": "2023-05-22T14:22:36.187Z"
   },
   {
    "duration": 0,
    "start_time": "2023-05-22T14:22:36.188Z"
   },
   {
    "duration": 0,
    "start_time": "2023-05-22T14:22:36.189Z"
   },
   {
    "duration": 0,
    "start_time": "2023-05-22T14:22:36.190Z"
   },
   {
    "duration": 0,
    "start_time": "2023-05-22T14:22:36.191Z"
   },
   {
    "duration": 0,
    "start_time": "2023-05-22T14:22:36.192Z"
   },
   {
    "duration": 0,
    "start_time": "2023-05-22T14:22:36.193Z"
   },
   {
    "duration": 0,
    "start_time": "2023-05-22T14:22:36.193Z"
   },
   {
    "duration": 0,
    "start_time": "2023-05-22T14:22:36.194Z"
   },
   {
    "duration": 0,
    "start_time": "2023-05-22T14:22:36.217Z"
   },
   {
    "duration": 0,
    "start_time": "2023-05-22T14:22:36.218Z"
   },
   {
    "duration": 0,
    "start_time": "2023-05-22T14:22:36.219Z"
   },
   {
    "duration": 0,
    "start_time": "2023-05-22T14:22:36.220Z"
   },
   {
    "duration": 0,
    "start_time": "2023-05-22T14:22:36.221Z"
   },
   {
    "duration": 0,
    "start_time": "2023-05-22T14:22:36.222Z"
   },
   {
    "duration": 0,
    "start_time": "2023-05-22T14:22:36.223Z"
   },
   {
    "duration": 0,
    "start_time": "2023-05-22T14:22:36.223Z"
   },
   {
    "duration": 0,
    "start_time": "2023-05-22T14:22:36.224Z"
   },
   {
    "duration": 0,
    "start_time": "2023-05-22T14:22:36.225Z"
   },
   {
    "duration": 0,
    "start_time": "2023-05-22T14:22:36.226Z"
   },
   {
    "duration": 0,
    "start_time": "2023-05-22T14:22:36.227Z"
   },
   {
    "duration": 0,
    "start_time": "2023-05-22T14:22:36.227Z"
   },
   {
    "duration": 41,
    "start_time": "2023-05-22T14:24:16.051Z"
   },
   {
    "duration": 3,
    "start_time": "2023-05-22T14:24:16.094Z"
   },
   {
    "duration": 18,
    "start_time": "2023-05-22T14:24:16.099Z"
   },
   {
    "duration": 9,
    "start_time": "2023-05-22T14:24:16.120Z"
   },
   {
    "duration": 27,
    "start_time": "2023-05-22T14:24:16.131Z"
   },
   {
    "duration": 0,
    "start_time": "2023-05-22T14:24:16.160Z"
   },
   {
    "duration": 0,
    "start_time": "2023-05-22T14:24:16.163Z"
   },
   {
    "duration": 0,
    "start_time": "2023-05-22T14:24:16.164Z"
   },
   {
    "duration": 0,
    "start_time": "2023-05-22T14:24:16.165Z"
   },
   {
    "duration": 0,
    "start_time": "2023-05-22T14:24:16.166Z"
   },
   {
    "duration": 0,
    "start_time": "2023-05-22T14:24:16.166Z"
   },
   {
    "duration": 0,
    "start_time": "2023-05-22T14:24:16.168Z"
   },
   {
    "duration": 0,
    "start_time": "2023-05-22T14:24:16.168Z"
   },
   {
    "duration": 0,
    "start_time": "2023-05-22T14:24:16.169Z"
   },
   {
    "duration": 0,
    "start_time": "2023-05-22T14:24:16.170Z"
   },
   {
    "duration": 0,
    "start_time": "2023-05-22T14:24:16.172Z"
   },
   {
    "duration": 0,
    "start_time": "2023-05-22T14:24:16.172Z"
   },
   {
    "duration": 0,
    "start_time": "2023-05-22T14:24:16.174Z"
   },
   {
    "duration": 0,
    "start_time": "2023-05-22T14:24:16.174Z"
   },
   {
    "duration": 0,
    "start_time": "2023-05-22T14:24:16.175Z"
   },
   {
    "duration": 0,
    "start_time": "2023-05-22T14:24:16.176Z"
   },
   {
    "duration": 0,
    "start_time": "2023-05-22T14:24:16.177Z"
   },
   {
    "duration": 0,
    "start_time": "2023-05-22T14:24:16.178Z"
   },
   {
    "duration": 0,
    "start_time": "2023-05-22T14:24:16.179Z"
   },
   {
    "duration": 0,
    "start_time": "2023-05-22T14:24:16.180Z"
   },
   {
    "duration": 0,
    "start_time": "2023-05-22T14:24:16.180Z"
   },
   {
    "duration": 0,
    "start_time": "2023-05-22T14:24:16.181Z"
   },
   {
    "duration": 0,
    "start_time": "2023-05-22T14:24:16.182Z"
   },
   {
    "duration": 0,
    "start_time": "2023-05-22T14:24:16.183Z"
   },
   {
    "duration": 0,
    "start_time": "2023-05-22T14:24:16.184Z"
   },
   {
    "duration": 0,
    "start_time": "2023-05-22T14:24:16.185Z"
   },
   {
    "duration": 48,
    "start_time": "2023-05-22T14:24:33.188Z"
   },
   {
    "duration": 3,
    "start_time": "2023-05-22T14:24:33.239Z"
   },
   {
    "duration": 16,
    "start_time": "2023-05-22T14:24:33.243Z"
   },
   {
    "duration": 18,
    "start_time": "2023-05-22T14:24:33.261Z"
   },
   {
    "duration": 0,
    "start_time": "2023-05-22T14:24:33.282Z"
   },
   {
    "duration": 0,
    "start_time": "2023-05-22T14:24:33.283Z"
   },
   {
    "duration": 0,
    "start_time": "2023-05-22T14:24:33.284Z"
   },
   {
    "duration": 0,
    "start_time": "2023-05-22T14:24:33.285Z"
   },
   {
    "duration": 0,
    "start_time": "2023-05-22T14:24:33.286Z"
   },
   {
    "duration": 0,
    "start_time": "2023-05-22T14:24:33.287Z"
   },
   {
    "duration": 0,
    "start_time": "2023-05-22T14:24:33.288Z"
   },
   {
    "duration": 0,
    "start_time": "2023-05-22T14:24:33.289Z"
   },
   {
    "duration": 0,
    "start_time": "2023-05-22T14:24:33.290Z"
   },
   {
    "duration": 0,
    "start_time": "2023-05-22T14:24:33.291Z"
   },
   {
    "duration": 0,
    "start_time": "2023-05-22T14:24:33.292Z"
   },
   {
    "duration": 0,
    "start_time": "2023-05-22T14:24:33.293Z"
   },
   {
    "duration": 0,
    "start_time": "2023-05-22T14:24:33.294Z"
   },
   {
    "duration": 0,
    "start_time": "2023-05-22T14:24:33.317Z"
   },
   {
    "duration": 0,
    "start_time": "2023-05-22T14:24:33.318Z"
   },
   {
    "duration": 0,
    "start_time": "2023-05-22T14:24:33.319Z"
   },
   {
    "duration": 0,
    "start_time": "2023-05-22T14:24:33.320Z"
   },
   {
    "duration": 1,
    "start_time": "2023-05-22T14:24:33.321Z"
   },
   {
    "duration": 0,
    "start_time": "2023-05-22T14:24:33.322Z"
   },
   {
    "duration": 0,
    "start_time": "2023-05-22T14:24:33.324Z"
   },
   {
    "duration": 0,
    "start_time": "2023-05-22T14:24:33.325Z"
   },
   {
    "duration": 0,
    "start_time": "2023-05-22T14:24:33.326Z"
   },
   {
    "duration": 0,
    "start_time": "2023-05-22T14:24:33.327Z"
   },
   {
    "duration": 0,
    "start_time": "2023-05-22T14:24:33.328Z"
   },
   {
    "duration": 0,
    "start_time": "2023-05-22T14:24:33.329Z"
   },
   {
    "duration": 0,
    "start_time": "2023-05-22T14:24:33.330Z"
   },
   {
    "duration": 12,
    "start_time": "2023-05-22T14:24:53.228Z"
   },
   {
    "duration": 47,
    "start_time": "2023-05-22T14:26:13.881Z"
   },
   {
    "duration": 2,
    "start_time": "2023-05-22T14:26:13.930Z"
   },
   {
    "duration": 15,
    "start_time": "2023-05-22T14:26:13.933Z"
   },
   {
    "duration": 17,
    "start_time": "2023-05-22T14:26:13.950Z"
   },
   {
    "duration": 1579,
    "start_time": "2023-05-22T14:26:13.969Z"
   },
   {
    "duration": 2113,
    "start_time": "2023-05-22T14:26:15.550Z"
   },
   {
    "duration": 62,
    "start_time": "2023-05-22T14:26:17.665Z"
   },
   {
    "duration": 12,
    "start_time": "2023-05-22T14:26:17.729Z"
   },
   {
    "duration": 11,
    "start_time": "2023-05-22T14:26:17.743Z"
   },
   {
    "duration": 19,
    "start_time": "2023-05-22T14:26:17.755Z"
   },
   {
    "duration": 13,
    "start_time": "2023-05-22T14:26:17.775Z"
   },
   {
    "duration": 756,
    "start_time": "2023-05-22T14:26:17.789Z"
   },
   {
    "duration": 3260,
    "start_time": "2023-05-22T14:26:18.547Z"
   },
   {
    "duration": 112,
    "start_time": "2023-05-22T14:26:21.809Z"
   },
   {
    "duration": 95,
    "start_time": "2023-05-22T14:26:21.923Z"
   },
   {
    "duration": 175,
    "start_time": "2023-05-22T14:26:22.020Z"
   },
   {
    "duration": 4,
    "start_time": "2023-05-22T14:26:22.196Z"
   },
   {
    "duration": 10,
    "start_time": "2023-05-22T14:26:22.201Z"
   },
   {
    "duration": 556,
    "start_time": "2023-05-22T14:26:22.212Z"
   },
   {
    "duration": 4363,
    "start_time": "2023-05-22T14:26:22.769Z"
   },
   {
    "duration": 88,
    "start_time": "2023-05-22T14:26:27.134Z"
   },
   {
    "duration": 94,
    "start_time": "2023-05-22T14:26:27.224Z"
   },
   {
    "duration": 102,
    "start_time": "2023-05-22T14:26:27.320Z"
   },
   {
    "duration": 241,
    "start_time": "2023-05-22T14:26:27.423Z"
   },
   {
    "duration": 1730,
    "start_time": "2023-05-22T14:26:27.666Z"
   },
   {
    "duration": 31,
    "start_time": "2023-05-22T14:26:29.397Z"
   },
   {
    "duration": 9,
    "start_time": "2023-05-22T14:26:29.518Z"
   },
   {
    "duration": 7,
    "start_time": "2023-05-22T14:26:29.619Z"
   },
   {
    "duration": 494,
    "start_time": "2023-05-22T14:26:29.628Z"
   },
   {
    "duration": 145,
    "start_time": "2023-05-22T14:26:30.123Z"
   },
   {
    "duration": 48,
    "start_time": "2023-05-22T14:28:15.927Z"
   },
   {
    "duration": 13,
    "start_time": "2023-05-22T14:28:15.977Z"
   },
   {
    "duration": 12,
    "start_time": "2023-05-22T14:28:15.992Z"
   },
   {
    "duration": 19,
    "start_time": "2023-05-22T14:28:16.005Z"
   },
   {
    "duration": 1470,
    "start_time": "2023-05-22T14:28:16.026Z"
   },
   {
    "duration": 2184,
    "start_time": "2023-05-22T14:28:17.498Z"
   },
   {
    "duration": 11,
    "start_time": "2023-05-22T14:28:19.683Z"
   },
   {
    "duration": 22,
    "start_time": "2023-05-22T14:28:19.696Z"
   },
   {
    "duration": 4,
    "start_time": "2023-05-22T14:28:19.720Z"
   },
   {
    "duration": 15,
    "start_time": "2023-05-22T14:28:19.725Z"
   },
   {
    "duration": 13,
    "start_time": "2023-05-22T14:28:19.741Z"
   },
   {
    "duration": 728,
    "start_time": "2023-05-22T14:28:19.756Z"
   },
   {
    "duration": 3255,
    "start_time": "2023-05-22T14:28:20.486Z"
   },
   {
    "duration": 84,
    "start_time": "2023-05-22T14:28:23.743Z"
   },
   {
    "duration": 97,
    "start_time": "2023-05-22T14:28:23.921Z"
   },
   {
    "duration": 138,
    "start_time": "2023-05-22T14:28:24.020Z"
   },
   {
    "duration": 3,
    "start_time": "2023-05-22T14:28:24.160Z"
   },
   {
    "duration": 12,
    "start_time": "2023-05-22T14:28:24.165Z"
   },
   {
    "duration": 585,
    "start_time": "2023-05-22T14:28:24.178Z"
   },
   {
    "duration": 4324,
    "start_time": "2023-05-22T14:28:24.765Z"
   },
   {
    "duration": 132,
    "start_time": "2023-05-22T14:28:29.090Z"
   },
   {
    "duration": 94,
    "start_time": "2023-05-22T14:28:29.224Z"
   },
   {
    "duration": 38,
    "start_time": "2023-05-22T14:28:29.320Z"
   },
   {
    "duration": 224,
    "start_time": "2023-05-22T14:28:29.360Z"
   },
   {
    "duration": 1767,
    "start_time": "2023-05-22T14:28:29.586Z"
   },
   {
    "duration": 70,
    "start_time": "2023-05-22T14:28:31.355Z"
   },
   {
    "duration": 196,
    "start_time": "2023-05-22T14:28:31.427Z"
   },
   {
    "duration": 37,
    "start_time": "2023-05-22T14:28:31.625Z"
   },
   {
    "duration": 535,
    "start_time": "2023-05-22T14:28:31.664Z"
   },
   {
    "duration": 138,
    "start_time": "2023-05-22T14:28:32.200Z"
   },
   {
    "duration": 51,
    "start_time": "2023-05-22T14:29:00.059Z"
   },
   {
    "duration": 32,
    "start_time": "2023-05-22T14:29:00.112Z"
   },
   {
    "duration": 52,
    "start_time": "2023-05-22T14:29:00.146Z"
   },
   {
    "duration": 53,
    "start_time": "2023-05-22T14:29:00.199Z"
   },
   {
    "duration": 1573,
    "start_time": "2023-05-22T14:29:00.255Z"
   },
   {
    "duration": 1311,
    "start_time": "2023-05-22T14:29:01.830Z"
   },
   {
    "duration": 12,
    "start_time": "2023-05-22T14:29:03.143Z"
   },
   {
    "duration": 14,
    "start_time": "2023-05-22T14:29:03.156Z"
   },
   {
    "duration": 30,
    "start_time": "2023-05-22T14:29:03.172Z"
   },
   {
    "duration": 16,
    "start_time": "2023-05-22T14:29:03.204Z"
   },
   {
    "duration": 22,
    "start_time": "2023-05-22T14:29:03.221Z"
   },
   {
    "duration": 728,
    "start_time": "2023-05-22T14:29:03.244Z"
   },
   {
    "duration": 3405,
    "start_time": "2023-05-22T14:29:03.973Z"
   },
   {
    "duration": 48,
    "start_time": "2023-05-22T14:29:07.381Z"
   },
   {
    "duration": 93,
    "start_time": "2023-05-22T14:29:07.431Z"
   },
   {
    "duration": 219,
    "start_time": "2023-05-22T14:29:07.528Z"
   },
   {
    "duration": 4,
    "start_time": "2023-05-22T14:29:07.749Z"
   },
   {
    "duration": 11,
    "start_time": "2023-05-22T14:29:07.755Z"
   },
   {
    "duration": 577,
    "start_time": "2023-05-22T14:29:07.768Z"
   },
   {
    "duration": 4424,
    "start_time": "2023-05-22T14:29:08.347Z"
   },
   {
    "duration": 147,
    "start_time": "2023-05-22T14:29:12.772Z"
   },
   {
    "duration": 7,
    "start_time": "2023-05-22T14:29:12.921Z"
   },
   {
    "duration": 99,
    "start_time": "2023-05-22T14:29:12.931Z"
   },
   {
    "duration": 228,
    "start_time": "2023-05-22T14:29:13.032Z"
   },
   {
    "duration": 1791,
    "start_time": "2023-05-22T14:29:13.262Z"
   },
   {
    "duration": 67,
    "start_time": "2023-05-22T14:29:15.054Z"
   },
   {
    "duration": 195,
    "start_time": "2023-05-22T14:29:15.123Z"
   },
   {
    "duration": 7,
    "start_time": "2023-05-22T14:29:15.320Z"
   },
   {
    "duration": 493,
    "start_time": "2023-05-22T14:29:15.328Z"
   },
   {
    "duration": 134,
    "start_time": "2023-05-22T14:29:15.823Z"
   },
   {
    "duration": 2125,
    "start_time": "2023-05-22T18:56:12.634Z"
   },
   {
    "duration": 23,
    "start_time": "2023-05-22T18:56:14.762Z"
   },
   {
    "duration": 12,
    "start_time": "2023-05-22T18:56:14.787Z"
   },
   {
    "duration": 26,
    "start_time": "2023-05-22T18:56:14.801Z"
   },
   {
    "duration": 1513,
    "start_time": "2023-05-22T18:56:14.839Z"
   },
   {
    "duration": 1403,
    "start_time": "2023-05-22T18:56:16.353Z"
   },
   {
    "duration": 12,
    "start_time": "2023-05-22T18:56:17.759Z"
   },
   {
    "duration": 15,
    "start_time": "2023-05-22T18:56:17.772Z"
   },
   {
    "duration": 12,
    "start_time": "2023-05-22T18:56:17.788Z"
   },
   {
    "duration": 35,
    "start_time": "2023-05-22T18:56:17.801Z"
   },
   {
    "duration": 17,
    "start_time": "2023-05-22T18:56:17.840Z"
   },
   {
    "duration": 796,
    "start_time": "2023-05-22T18:56:17.859Z"
   },
   {
    "duration": 3519,
    "start_time": "2023-05-22T18:56:18.657Z"
   },
   {
    "duration": 340,
    "start_time": "2023-05-22T18:56:22.179Z"
   },
   {
    "duration": 18,
    "start_time": "2023-05-22T18:56:22.521Z"
   },
   {
    "duration": 238,
    "start_time": "2023-05-22T18:56:22.541Z"
   },
   {
    "duration": 4,
    "start_time": "2023-05-22T18:56:22.781Z"
   },
   {
    "duration": 9,
    "start_time": "2023-05-22T18:56:22.786Z"
   },
   {
    "duration": 598,
    "start_time": "2023-05-22T18:56:22.796Z"
   },
   {
    "duration": 4684,
    "start_time": "2023-05-22T18:56:23.396Z"
   },
   {
    "duration": 362,
    "start_time": "2023-05-22T18:56:28.081Z"
   },
   {
    "duration": 84,
    "start_time": "2023-05-22T18:56:28.445Z"
   },
   {
    "duration": 41,
    "start_time": "2023-05-22T18:56:28.531Z"
   },
   {
    "duration": 286,
    "start_time": "2023-05-22T18:56:28.574Z"
   },
   {
    "duration": 1885,
    "start_time": "2023-05-22T18:56:28.862Z"
   },
   {
    "duration": 376,
    "start_time": "2023-05-22T18:56:30.749Z"
   },
   {
    "duration": 19,
    "start_time": "2023-05-22T18:56:31.129Z"
   },
   {
    "duration": 108,
    "start_time": "2023-05-22T18:56:31.149Z"
   },
   {
    "duration": 557,
    "start_time": "2023-05-22T18:56:31.258Z"
   },
   {
    "duration": 149,
    "start_time": "2023-05-22T18:56:31.817Z"
   }
  ],
  "kernelspec": {
   "display_name": "Python 3 (ipykernel)",
   "language": "python",
   "name": "python3"
  },
  "language_info": {
   "codemirror_mode": {
    "name": "ipython",
    "version": 3
   },
   "file_extension": ".py",
   "mimetype": "text/x-python",
   "name": "python",
   "nbconvert_exporter": "python",
   "pygments_lexer": "ipython3",
   "version": "3.11.5"
  },
  "toc": {
   "base_numbering": 1,
   "nav_menu": {},
   "number_sections": true,
   "sideBar": true,
   "skip_h1_title": true,
   "title_cell": "Содержание",
   "title_sidebar": "Contents",
   "toc_cell": true,
   "toc_position": {
    "height": "calc(100% - 180px)",
    "left": "10px",
    "top": "150px",
    "width": "290.875px"
   },
   "toc_section_display": true,
   "toc_window_display": true
  }
 },
 "nbformat": 4,
 "nbformat_minor": 2
}
