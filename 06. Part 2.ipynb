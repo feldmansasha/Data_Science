{
 "cells": [
  {
   "cell_type": "markdown",
   "metadata": {
    "toc": true
   },
   "source": [
    "<h1>Содержание<span class=\"tocSkip\"></span></h1>\n",
    "<div class=\"toc\"><ul class=\"toc-item\"><li><span><a href=\"#Data-preparation\" data-toc-modified-id=\"Data-preparation-1\"><span class=\"toc-item-num\">1&nbsp;&nbsp;</span>Data preparation</a></span><ul class=\"toc-item\"><li><span><a href=\"#First-look-at-the-data\" data-toc-modified-id=\"First-look-at-the-data-1.1\"><span class=\"toc-item-num\">1.1&nbsp;&nbsp;</span>First look at the data</a></span></li><li><span><a href=\"#Verification-of-enrichment-efficiency-calculations\" data-toc-modified-id=\"Verification-of-enrichment-efficiency-calculations-1.2\"><span class=\"toc-item-num\">1.2&nbsp;&nbsp;</span>Verification of enrichment efficiency calculations</a></span></li><li><span><a href=\"#Analysis-of-unavailable-features\" data-toc-modified-id=\"Analysis-of-unavailable-features-1.3\"><span class=\"toc-item-num\">1.3&nbsp;&nbsp;</span>Analysis of unavailable features</a></span></li><li><span><a href=\"#Data-preprocessing\" data-toc-modified-id=\"Data-preprocessing-1.4\"><span class=\"toc-item-num\">1.4&nbsp;&nbsp;</span>Data preprocessing</a></span></li><li><span><a href=\"#Getting-rid-of-anomalies\" data-toc-modified-id=\"Getting-rid-of-anomalies-1.5\"><span class=\"toc-item-num\">1.5&nbsp;&nbsp;</span>Getting rid of anomalies</a></span></li><li><span><a href=\"#Conclusion\" data-toc-modified-id=\"Conclusion-1.6\"><span class=\"toc-item-num\">1.6&nbsp;&nbsp;</span>Conclusion</a></span></li></ul></li><li><span><a href=\"#Data-analysis\" data-toc-modified-id=\"Data-analysis-2\"><span class=\"toc-item-num\">2&nbsp;&nbsp;</span>Data analysis</a></span><ul class=\"toc-item\"><li><span><a href=\"#Metal-concentrations-at-different-stages\" data-toc-modified-id=\"Metal-concentrations-at-different-stages-2.1\"><span class=\"toc-item-num\">2.1&nbsp;&nbsp;</span>Metal concentrations at different stages</a></span></li><li><span><a href=\"#Granule-size-in-different-samples\" data-toc-modified-id=\"Granule-size-in-different-samples-2.2\"><span class=\"toc-item-num\">2.2&nbsp;&nbsp;</span>Granule size in different samples</a></span></li><li><span><a href=\"#Total-metal-concentration\" data-toc-modified-id=\"Total-metal-concentration-2.3\"><span class=\"toc-item-num\">2.3&nbsp;&nbsp;</span>Total metal concentration</a></span></li><li><span><a href=\"#Conclusion\" data-toc-modified-id=\"Conclusion-2.4\"><span class=\"toc-item-num\">2.4&nbsp;&nbsp;</span>Conclusion</a></span></li></ul></li><li><span><a href=\"#Models\" data-toc-modified-id=\"Models-3\"><span class=\"toc-item-num\">3&nbsp;&nbsp;</span>Models</a></span><ul class=\"toc-item\"><li><span><a href=\"#Preparing-a-test-sample\" data-toc-modified-id=\"Preparing-a-test-sample-3.1\"><span class=\"toc-item-num\">3.1&nbsp;&nbsp;</span>Preparing a test sample</a></span></li><li><span><a href=\"#sMAPE\" data-toc-modified-id=\"sMAPE-3.2\"><span class=\"toc-item-num\">3.2&nbsp;&nbsp;</span>sMAPE</a></span></li><li><span><a href=\"#Model-training\" data-toc-modified-id=\"Model-training-3.3\"><span class=\"toc-item-num\">3.3&nbsp;&nbsp;</span>Model training</a></span><ul class=\"toc-item\"><li><span><a href=\"#Linear-Regression\" data-toc-modified-id=\"Linear-Regression-3.3.1\"><span class=\"toc-item-num\">3.3.1&nbsp;&nbsp;</span>Linear Regression</a></span></li><li><span><a href=\"#Desicion-Tree\" data-toc-modified-id=\"Desicion-Tree-3.3.2\"><span class=\"toc-item-num\">3.3.2&nbsp;&nbsp;</span>Desicion Tree</a></span></li></ul></li><li><span><a href=\"#Best-result\" data-toc-modified-id=\"Best-result-3.4\"><span class=\"toc-item-num\">3.4&nbsp;&nbsp;</span>Best result</a></span></li><li><span><a href=\"#Checking-the-adequacy-of-the-model\" data-toc-modified-id=\"Checking-the-adequacy-of-the-model-3.5\"><span class=\"toc-item-num\">3.5&nbsp;&nbsp;</span>Checking the adequacy of the model</a></span></li><li><span><a href=\"#Conclusion\" data-toc-modified-id=\"Conclusion-3.6\"><span class=\"toc-item-num\">3.6&nbsp;&nbsp;</span>Conclusion</a></span></li></ul></li><li><span><a href=\"#Conclusion\" data-toc-modified-id=\"Conclusion-4\"><span class=\"toc-item-num\">4&nbsp;&nbsp;</span>Conclusion</a></span></li></ul></div>"
   ]
  },
  {
   "cell_type": "markdown",
   "metadata": {},
   "source": [
    "# Gold extraction from ore"
   ]
  },
  {
   "cell_type": "markdown",
   "metadata": {},
   "source": [
    "Create a prototype of a machine learning model for 'Cifra'. The company develops solutions for the efficient operation of industrial enterprises.\n",
    "\n",
    "The model must predict the recovery rate of gold from gold ore. Use data with extraction and purification parameters.\n",
    "\n",
    "The model will help optimize production so as not to launch an enterprise with unprofitable characteristics.\n",
    "\n",
    "You need:\n",
    "\n",
    "1. Prepare data;\n",
    "2. Conduct exploratory data analysis;\n",
    "3. Build and train the model.\n",
    "\n",
    "To complete the project, use the *pandas*, *matplotlib*, and *sklearn libraries.* Their documentation will help you."
   ]
  },
  {
   "cell_type": "markdown",
   "metadata": {},
   "source": [
    "## Data preparation"
   ]
  },
  {
   "cell_type": "markdown",
   "metadata": {},
   "source": [
    "### First look at the data"
   ]
  },
  {
   "cell_type": "code",
   "execution_count": 1,
   "metadata": {},
   "outputs": [],
   "source": [
    "import pandas as pd\n",
    "import numpy as np\n",
    "from matplotlib import pyplot as plt\n",
    "import seaborn as sns\n",
    "from sklearn.metrics import mean_absolute_error\n",
    "from sklearn.linear_model import LinearRegression\n",
    "from sklearn.model_selection import cross_val_score\n",
    "from sklearn.metrics import fbeta_score, make_scorer\n",
    "from sklearn.tree import DecisionTreeRegressor\n",
    "from sklearn.ensemble import RandomForestRegressor\n",
    "from sklearn.dummy import DummyRegressor\n",
    "from sklearn.model_selection import GridSearchCV"
   ]
  },
  {
   "cell_type": "code",
   "execution_count": 2,
   "metadata": {},
   "outputs": [],
   "source": [
    "train=pd.read_csv('gold_industry_train.csv')\n",
    "test=pd.read_csv('gold_industry_test.csv')\n",
    "full=pd.read_csv('gold_industry_full.csv')"
   ]
  },
  {
   "cell_type": "code",
   "execution_count": 3,
   "metadata": {},
   "outputs": [
    {
     "name": "stdout",
     "output_type": "stream",
     "text": [
      "<class 'pandas.core.frame.DataFrame'>\n",
      "RangeIndex: 14579 entries, 0 to 14578\n",
      "Data columns (total 87 columns):\n",
      " #   Column                                              Non-Null Count  Dtype  \n",
      "---  ------                                              --------------  -----  \n",
      " 0   date                                                14579 non-null  object \n",
      " 1   rougher.input.feed_au                               14579 non-null  float64\n",
      " 2   rougher.input.feed_ag                               14579 non-null  float64\n",
      " 3   rougher.input.feed_pb                               14507 non-null  float64\n",
      " 4   rougher.input.feed_sol                              14502 non-null  float64\n",
      " 5   rougher.input.feed_rate                             14572 non-null  float64\n",
      " 6   rougher.input.feed_size                             14478 non-null  float64\n",
      " 7   rougher.input.floatbank10_sulfate                   14548 non-null  float64\n",
      " 8   rougher.input.floatbank10_xanthate                  14572 non-null  float64\n",
      " 9   rougher.state.floatbank10_a_air                     14579 non-null  float64\n",
      " 10  rougher.state.floatbank10_a_level                   14579 non-null  float64\n",
      " 11  rougher.state.floatbank10_b_air                     14579 non-null  float64\n",
      " 12  rougher.state.floatbank10_b_level                   14579 non-null  float64\n",
      " 13  rougher.state.floatbank10_c_air                     14579 non-null  float64\n",
      " 14  rougher.state.floatbank10_c_level                   14579 non-null  float64\n",
      " 15  rougher.state.floatbank10_d_air                     14579 non-null  float64\n",
      " 16  rougher.state.floatbank10_d_level                   14579 non-null  float64\n",
      " 17  rougher.state.floatbank10_e_air                     14150 non-null  float64\n",
      " 18  rougher.state.floatbank10_e_level                   14579 non-null  float64\n",
      " 19  rougher.state.floatbank10_f_air                     14579 non-null  float64\n",
      " 20  rougher.state.floatbank10_f_level                   14579 non-null  float64\n",
      " 21  rougher.input.floatbank11_sulfate                   14543 non-null  float64\n",
      " 22  rougher.input.floatbank11_xanthate                  14172 non-null  float64\n",
      " 23  rougher.calculation.sulfate_to_au_concentrate       14578 non-null  float64\n",
      " 24  rougher.calculation.floatbank10_sulfate_to_au_feed  14578 non-null  float64\n",
      " 25  rougher.calculation.floatbank11_sulfate_to_au_feed  14578 non-null  float64\n",
      " 26  rougher.calculation.au_pb_ratio                     14579 non-null  float64\n",
      " 27  rougher.output.concentrate_au                       14579 non-null  float64\n",
      " 28  rougher.output.concentrate_ag                       14579 non-null  float64\n",
      " 29  rougher.output.concentrate_pb                       14579 non-null  float64\n",
      " 30  rougher.output.concentrate_sol                      14561 non-null  float64\n",
      " 31  rougher.output.recovery                             14579 non-null  float64\n",
      " 32  rougher.output.tail_au                              14579 non-null  float64\n",
      " 33  rougher.output.tail_ag                              14578 non-null  float64\n",
      " 34  rougher.output.tail_pb                              14579 non-null  float64\n",
      " 35  rougher.output.tail_sol                             14579 non-null  float64\n",
      " 36  primary_cleaner.input.sulfate                       14556 non-null  float64\n",
      " 37  primary_cleaner.input.depressant                    14551 non-null  float64\n",
      " 38  primary_cleaner.input.feed_size                     14579 non-null  float64\n",
      " 39  primary_cleaner.input.xanthate                      14518 non-null  float64\n",
      " 40  primary_cleaner.state.floatbank8_a_air              14576 non-null  float64\n",
      " 41  primary_cleaner.state.floatbank8_a_level            14579 non-null  float64\n",
      " 42  primary_cleaner.state.floatbank8_b_air              14576 non-null  float64\n",
      " 43  primary_cleaner.state.floatbank8_b_level            14579 non-null  float64\n",
      " 44  primary_cleaner.state.floatbank8_c_air              14579 non-null  float64\n",
      " 45  primary_cleaner.state.floatbank8_c_level            14579 non-null  float64\n",
      " 46  primary_cleaner.state.floatbank8_d_air              14578 non-null  float64\n",
      " 47  primary_cleaner.state.floatbank8_d_level            14579 non-null  float64\n",
      " 48  primary_cleaner.output.concentrate_au               14579 non-null  float64\n",
      " 49  primary_cleaner.output.concentrate_ag               14579 non-null  float64\n",
      " 50  primary_cleaner.output.concentrate_pb               14491 non-null  float64\n",
      " 51  primary_cleaner.output.concentrate_sol              14314 non-null  float64\n",
      " 52  primary_cleaner.output.tail_au                      14579 non-null  float64\n",
      " 53  primary_cleaner.output.tail_ag                      14575 non-null  float64\n",
      " 54  primary_cleaner.output.tail_pb                      14573 non-null  float64\n",
      " 55  primary_cleaner.output.tail_sol                     14534 non-null  float64\n",
      " 56  secondary_cleaner.state.floatbank2_a_air            14485 non-null  float64\n",
      " 57  secondary_cleaner.state.floatbank2_a_level          14579 non-null  float64\n",
      " 58  secondary_cleaner.state.floatbank2_b_air            14557 non-null  float64\n",
      " 59  secondary_cleaner.state.floatbank2_b_level          14579 non-null  float64\n",
      " 60  secondary_cleaner.state.floatbank3_a_air            14567 non-null  float64\n",
      " 61  secondary_cleaner.state.floatbank3_a_level          14579 non-null  float64\n",
      " 62  secondary_cleaner.state.floatbank3_b_air            14579 non-null  float64\n",
      " 63  secondary_cleaner.state.floatbank3_b_level          14579 non-null  float64\n",
      " 64  secondary_cleaner.state.floatbank4_a_air            14574 non-null  float64\n",
      " 65  secondary_cleaner.state.floatbank4_a_level          14579 non-null  float64\n",
      " 66  secondary_cleaner.state.floatbank4_b_air            14579 non-null  float64\n",
      " 67  secondary_cleaner.state.floatbank4_b_level          14579 non-null  float64\n",
      " 68  secondary_cleaner.state.floatbank5_a_air            14579 non-null  float64\n",
      " 69  secondary_cleaner.state.floatbank5_a_level          14579 non-null  float64\n",
      " 70  secondary_cleaner.state.floatbank5_b_air            14579 non-null  float64\n",
      " 71  secondary_cleaner.state.floatbank5_b_level          14579 non-null  float64\n",
      " 72  secondary_cleaner.state.floatbank6_a_air            14578 non-null  float64\n",
      " 73  secondary_cleaner.state.floatbank6_a_level          14579 non-null  float64\n",
      " 74  secondary_cleaner.output.tail_au                    14579 non-null  float64\n",
      " 75  secondary_cleaner.output.tail_ag                    14578 non-null  float64\n",
      " 76  secondary_cleaner.output.tail_pb                    14575 non-null  float64\n",
      " 77  secondary_cleaner.output.tail_sol                   13659 non-null  float64\n",
      " 78  final.output.concentrate_au                         14579 non-null  float64\n",
      " 79  final.output.concentrate_ag                         14578 non-null  float64\n",
      " 80  final.output.concentrate_pb                         14578 non-null  float64\n",
      " 81  final.output.concentrate_sol                        14387 non-null  float64\n",
      " 82  final.output.recovery                               14579 non-null  float64\n",
      " 83  final.output.tail_au                                14579 non-null  float64\n",
      " 84  final.output.tail_ag                                14578 non-null  float64\n",
      " 85  final.output.tail_pb                                14504 non-null  float64\n",
      " 86  final.output.tail_sol                               14574 non-null  float64\n",
      "dtypes: float64(86), object(1)\n",
      "memory usage: 9.7+ MB\n"
     ]
    }
   ],
   "source": [
    "train.info()"
   ]
  },
  {
   "cell_type": "code",
   "execution_count": 4,
   "metadata": {},
   "outputs": [
    {
     "name": "stdout",
     "output_type": "stream",
     "text": [
      "<class 'pandas.core.frame.DataFrame'>\n",
      "RangeIndex: 4860 entries, 0 to 4859\n",
      "Data columns (total 53 columns):\n",
      " #   Column                                      Non-Null Count  Dtype  \n",
      "---  ------                                      --------------  -----  \n",
      " 0   date                                        4860 non-null   object \n",
      " 1   rougher.input.feed_au                       4860 non-null   float64\n",
      " 2   rougher.input.feed_ag                       4860 non-null   float64\n",
      " 3   rougher.input.feed_pb                       4832 non-null   float64\n",
      " 4   rougher.input.feed_sol                      4838 non-null   float64\n",
      " 5   rougher.input.feed_rate                     4856 non-null   float64\n",
      " 6   rougher.input.feed_size                     4816 non-null   float64\n",
      " 7   rougher.input.floatbank10_sulfate           4857 non-null   float64\n",
      " 8   rougher.input.floatbank10_xanthate          4859 non-null   float64\n",
      " 9   rougher.state.floatbank10_a_air             4859 non-null   float64\n",
      " 10  rougher.state.floatbank10_a_level           4859 non-null   float64\n",
      " 11  rougher.state.floatbank10_b_air             4859 non-null   float64\n",
      " 12  rougher.state.floatbank10_b_level           4859 non-null   float64\n",
      " 13  rougher.state.floatbank10_c_air             4859 non-null   float64\n",
      " 14  rougher.state.floatbank10_c_level           4859 non-null   float64\n",
      " 15  rougher.state.floatbank10_d_air             4860 non-null   float64\n",
      " 16  rougher.state.floatbank10_d_level           4860 non-null   float64\n",
      " 17  rougher.state.floatbank10_e_air             4853 non-null   float64\n",
      " 18  rougher.state.floatbank10_e_level           4860 non-null   float64\n",
      " 19  rougher.state.floatbank10_f_air             4860 non-null   float64\n",
      " 20  rougher.state.floatbank10_f_level           4860 non-null   float64\n",
      " 21  rougher.input.floatbank11_sulfate           4852 non-null   float64\n",
      " 22  rougher.input.floatbank11_xanthate          4814 non-null   float64\n",
      " 23  primary_cleaner.input.sulfate               4859 non-null   float64\n",
      " 24  primary_cleaner.input.depressant            4851 non-null   float64\n",
      " 25  primary_cleaner.input.feed_size             4860 non-null   float64\n",
      " 26  primary_cleaner.input.xanthate              4817 non-null   float64\n",
      " 27  primary_cleaner.state.floatbank8_a_air      4859 non-null   float64\n",
      " 28  primary_cleaner.state.floatbank8_a_level    4859 non-null   float64\n",
      " 29  primary_cleaner.state.floatbank8_b_air      4859 non-null   float64\n",
      " 30  primary_cleaner.state.floatbank8_b_level    4859 non-null   float64\n",
      " 31  primary_cleaner.state.floatbank8_c_air      4858 non-null   float64\n",
      " 32  primary_cleaner.state.floatbank8_c_level    4859 non-null   float64\n",
      " 33  primary_cleaner.state.floatbank8_d_air      4858 non-null   float64\n",
      " 34  primary_cleaner.state.floatbank8_d_level    4859 non-null   float64\n",
      " 35  secondary_cleaner.state.floatbank2_a_air    4734 non-null   float64\n",
      " 36  secondary_cleaner.state.floatbank2_a_level  4859 non-null   float64\n",
      " 37  secondary_cleaner.state.floatbank2_b_air    4859 non-null   float64\n",
      " 38  secondary_cleaner.state.floatbank2_b_level  4859 non-null   float64\n",
      " 39  secondary_cleaner.state.floatbank3_a_air    4859 non-null   float64\n",
      " 40  secondary_cleaner.state.floatbank3_a_level  4859 non-null   float64\n",
      " 41  secondary_cleaner.state.floatbank3_b_air    4859 non-null   float64\n",
      " 42  secondary_cleaner.state.floatbank3_b_level  4859 non-null   float64\n",
      " 43  secondary_cleaner.state.floatbank4_a_air    4859 non-null   float64\n",
      " 44  secondary_cleaner.state.floatbank4_a_level  4859 non-null   float64\n",
      " 45  secondary_cleaner.state.floatbank4_b_air    4859 non-null   float64\n",
      " 46  secondary_cleaner.state.floatbank4_b_level  4859 non-null   float64\n",
      " 47  secondary_cleaner.state.floatbank5_a_air    4859 non-null   float64\n",
      " 48  secondary_cleaner.state.floatbank5_a_level  4859 non-null   float64\n",
      " 49  secondary_cleaner.state.floatbank5_b_air    4859 non-null   float64\n",
      " 50  secondary_cleaner.state.floatbank5_b_level  4859 non-null   float64\n",
      " 51  secondary_cleaner.state.floatbank6_a_air    4859 non-null   float64\n",
      " 52  secondary_cleaner.state.floatbank6_a_level  4859 non-null   float64\n",
      "dtypes: float64(52), object(1)\n",
      "memory usage: 2.0+ MB\n"
     ]
    }
   ],
   "source": [
    "test.info()"
   ]
  },
  {
   "cell_type": "code",
   "execution_count": 5,
   "metadata": {},
   "outputs": [
    {
     "name": "stdout",
     "output_type": "stream",
     "text": [
      "<class 'pandas.core.frame.DataFrame'>\n",
      "RangeIndex: 19439 entries, 0 to 19438\n",
      "Data columns (total 87 columns):\n",
      " #   Column                                              Non-Null Count  Dtype  \n",
      "---  ------                                              --------------  -----  \n",
      " 0   date                                                19439 non-null  object \n",
      " 1   rougher.input.feed_au                               19439 non-null  float64\n",
      " 2   rougher.input.feed_ag                               19439 non-null  float64\n",
      " 3   rougher.input.feed_pb                               19339 non-null  float64\n",
      " 4   rougher.input.feed_sol                              19340 non-null  float64\n",
      " 5   rougher.input.feed_rate                             19428 non-null  float64\n",
      " 6   rougher.input.feed_size                             19294 non-null  float64\n",
      " 7   rougher.input.floatbank10_sulfate                   19405 non-null  float64\n",
      " 8   rougher.input.floatbank10_xanthate                  19431 non-null  float64\n",
      " 9   rougher.state.floatbank10_a_air                     19438 non-null  float64\n",
      " 10  rougher.state.floatbank10_a_level                   19438 non-null  float64\n",
      " 11  rougher.state.floatbank10_b_air                     19438 non-null  float64\n",
      " 12  rougher.state.floatbank10_b_level                   19438 non-null  float64\n",
      " 13  rougher.state.floatbank10_c_air                     19438 non-null  float64\n",
      " 14  rougher.state.floatbank10_c_level                   19438 non-null  float64\n",
      " 15  rougher.state.floatbank10_d_air                     19439 non-null  float64\n",
      " 16  rougher.state.floatbank10_d_level                   19439 non-null  float64\n",
      " 17  rougher.state.floatbank10_e_air                     19003 non-null  float64\n",
      " 18  rougher.state.floatbank10_e_level                   19439 non-null  float64\n",
      " 19  rougher.state.floatbank10_f_air                     19439 non-null  float64\n",
      " 20  rougher.state.floatbank10_f_level                   19439 non-null  float64\n",
      " 21  rougher.input.floatbank11_sulfate                   19395 non-null  float64\n",
      " 22  rougher.input.floatbank11_xanthate                  18986 non-null  float64\n",
      " 23  rougher.calculation.sulfate_to_au_concentrate       19437 non-null  float64\n",
      " 24  rougher.calculation.floatbank10_sulfate_to_au_feed  19437 non-null  float64\n",
      " 25  rougher.calculation.floatbank11_sulfate_to_au_feed  19437 non-null  float64\n",
      " 26  rougher.calculation.au_pb_ratio                     19439 non-null  float64\n",
      " 27  rougher.output.concentrate_au                       19439 non-null  float64\n",
      " 28  rougher.output.concentrate_ag                       19439 non-null  float64\n",
      " 29  rougher.output.concentrate_pb                       19439 non-null  float64\n",
      " 30  rougher.output.concentrate_sol                      19416 non-null  float64\n",
      " 31  rougher.output.recovery                             19439 non-null  float64\n",
      " 32  rougher.output.tail_au                              19439 non-null  float64\n",
      " 33  rougher.output.tail_ag                              19438 non-null  float64\n",
      " 34  rougher.output.tail_pb                              19439 non-null  float64\n",
      " 35  rougher.output.tail_sol                             19439 non-null  float64\n",
      " 36  primary_cleaner.input.sulfate                       19415 non-null  float64\n",
      " 37  primary_cleaner.input.depressant                    19402 non-null  float64\n",
      " 38  primary_cleaner.input.feed_size                     19439 non-null  float64\n",
      " 39  primary_cleaner.input.xanthate                      19335 non-null  float64\n",
      " 40  primary_cleaner.state.floatbank8_a_air              19435 non-null  float64\n",
      " 41  primary_cleaner.state.floatbank8_a_level            19438 non-null  float64\n",
      " 42  primary_cleaner.state.floatbank8_b_air              19435 non-null  float64\n",
      " 43  primary_cleaner.state.floatbank8_b_level            19438 non-null  float64\n",
      " 44  primary_cleaner.state.floatbank8_c_air              19437 non-null  float64\n",
      " 45  primary_cleaner.state.floatbank8_c_level            19438 non-null  float64\n",
      " 46  primary_cleaner.state.floatbank8_d_air              19436 non-null  float64\n",
      " 47  primary_cleaner.state.floatbank8_d_level            19438 non-null  float64\n",
      " 48  primary_cleaner.output.concentrate_au               19439 non-null  float64\n",
      " 49  primary_cleaner.output.concentrate_ag               19439 non-null  float64\n",
      " 50  primary_cleaner.output.concentrate_pb               19323 non-null  float64\n",
      " 51  primary_cleaner.output.concentrate_sol              19069 non-null  float64\n",
      " 52  primary_cleaner.output.tail_au                      19439 non-null  float64\n",
      " 53  primary_cleaner.output.tail_ag                      19435 non-null  float64\n",
      " 54  primary_cleaner.output.tail_pb                      19418 non-null  float64\n",
      " 55  primary_cleaner.output.tail_sol                     19377 non-null  float64\n",
      " 56  secondary_cleaner.state.floatbank2_a_air            19219 non-null  float64\n",
      " 57  secondary_cleaner.state.floatbank2_a_level          19438 non-null  float64\n",
      " 58  secondary_cleaner.state.floatbank2_b_air            19416 non-null  float64\n",
      " 59  secondary_cleaner.state.floatbank2_b_level          19438 non-null  float64\n",
      " 60  secondary_cleaner.state.floatbank3_a_air            19426 non-null  float64\n",
      " 61  secondary_cleaner.state.floatbank3_a_level          19438 non-null  float64\n",
      " 62  secondary_cleaner.state.floatbank3_b_air            19438 non-null  float64\n",
      " 63  secondary_cleaner.state.floatbank3_b_level          19438 non-null  float64\n",
      " 64  secondary_cleaner.state.floatbank4_a_air            19433 non-null  float64\n",
      " 65  secondary_cleaner.state.floatbank4_a_level          19438 non-null  float64\n",
      " 66  secondary_cleaner.state.floatbank4_b_air            19438 non-null  float64\n",
      " 67  secondary_cleaner.state.floatbank4_b_level          19438 non-null  float64\n",
      " 68  secondary_cleaner.state.floatbank5_a_air            19438 non-null  float64\n",
      " 69  secondary_cleaner.state.floatbank5_a_level          19438 non-null  float64\n",
      " 70  secondary_cleaner.state.floatbank5_b_air            19438 non-null  float64\n",
      " 71  secondary_cleaner.state.floatbank5_b_level          19438 non-null  float64\n",
      " 72  secondary_cleaner.state.floatbank6_a_air            19437 non-null  float64\n",
      " 73  secondary_cleaner.state.floatbank6_a_level          19438 non-null  float64\n",
      " 74  secondary_cleaner.output.tail_au                    19439 non-null  float64\n",
      " 75  secondary_cleaner.output.tail_ag                    19437 non-null  float64\n",
      " 76  secondary_cleaner.output.tail_pb                    19427 non-null  float64\n",
      " 77  secondary_cleaner.output.tail_sol                   17691 non-null  float64\n",
      " 78  final.output.concentrate_au                         19439 non-null  float64\n",
      " 79  final.output.concentrate_ag                         19438 non-null  float64\n",
      " 80  final.output.concentrate_pb                         19438 non-null  float64\n",
      " 81  final.output.concentrate_sol                        19228 non-null  float64\n",
      " 82  final.output.recovery                               19439 non-null  float64\n",
      " 83  final.output.tail_au                                19439 non-null  float64\n",
      " 84  final.output.tail_ag                                19438 non-null  float64\n",
      " 85  final.output.tail_pb                                19338 non-null  float64\n",
      " 86  final.output.tail_sol                               19433 non-null  float64\n",
      "dtypes: float64(86), object(1)\n",
      "memory usage: 12.9+ MB\n"
     ]
    }
   ],
   "source": [
    "full.info()"
   ]
  },
  {
   "cell_type": "markdown",
   "metadata": {},
   "source": [
    "### Verification of enrichment efficiency calculations"
   ]
  },
  {
   "cell_type": "code",
   "execution_count": 6,
   "metadata": {},
   "outputs": [
    {
     "name": "stdout",
     "output_type": "stream",
     "text": [
      "Calculation by formula: 82.52119968211336\n",
      "Data in the training set: 82.52119968211336\n"
     ]
    }
   ],
   "source": [
    "C=train['rougher.output.concentrate_au']\n",
    "F=train['rougher.input.feed_au']\n",
    "T=train['rougher.output.tail_au']\n",
    "\n",
    "train['recovery']=100*(C*(F-T))/(F*(C-T))\n",
    "print (\"Calculation by formula:\",train['recovery'].mean())\n",
    "print(\"Data in the training set:\", train['rougher.output.recovery'].mean())"
   ]
  },
  {
   "cell_type": "markdown",
   "metadata": {},
   "source": [
    "The average values of the calculation and data in the training set are equal."
   ]
  },
  {
   "cell_type": "code",
   "execution_count": 7,
   "metadata": {},
   "outputs": [
    {
     "name": "stdout",
     "output_type": "stream",
     "text": [
      "1.1181885454685472e-14\n"
     ]
    }
   ],
   "source": [
    "print(mean_absolute_error(train['recovery'], train['rougher.output.recovery']))"
   ]
  },
  {
   "cell_type": "markdown",
   "metadata": {},
   "source": [
    "The average absolute error is very small, so the original data is correct. We can delete our calculations and use the ones provided."
   ]
  },
  {
   "cell_type": "code",
   "execution_count": 8,
   "metadata": {},
   "outputs": [],
   "source": [
    "train.drop('recovery', axis=1, inplace=True)"
   ]
  },
  {
   "cell_type": "markdown",
   "metadata": {},
   "source": [
    "### Analysis of unavailable features"
   ]
  },
  {
   "cell_type": "code",
   "execution_count": 9,
   "metadata": {},
   "outputs": [
    {
     "data": {
      "text/plain": [
       "Index(['final.output.concentrate_ag', 'final.output.concentrate_au',\n",
       "       'final.output.concentrate_pb', 'final.output.concentrate_sol',\n",
       "       'final.output.recovery', 'final.output.tail_ag', 'final.output.tail_au',\n",
       "       'final.output.tail_pb', 'final.output.tail_sol',\n",
       "       'primary_cleaner.output.concentrate_ag',\n",
       "       'primary_cleaner.output.concentrate_au',\n",
       "       'primary_cleaner.output.concentrate_pb',\n",
       "       'primary_cleaner.output.concentrate_sol',\n",
       "       'primary_cleaner.output.tail_ag', 'primary_cleaner.output.tail_au',\n",
       "       'primary_cleaner.output.tail_pb', 'primary_cleaner.output.tail_sol',\n",
       "       'rougher.calculation.au_pb_ratio',\n",
       "       'rougher.calculation.floatbank10_sulfate_to_au_feed',\n",
       "       'rougher.calculation.floatbank11_sulfate_to_au_feed',\n",
       "       'rougher.calculation.sulfate_to_au_concentrate',\n",
       "       'rougher.output.concentrate_ag', 'rougher.output.concentrate_au',\n",
       "       'rougher.output.concentrate_pb', 'rougher.output.concentrate_sol',\n",
       "       'rougher.output.recovery', 'rougher.output.tail_ag',\n",
       "       'rougher.output.tail_au', 'rougher.output.tail_pb',\n",
       "       'rougher.output.tail_sol', 'secondary_cleaner.output.tail_ag',\n",
       "       'secondary_cleaner.output.tail_au', 'secondary_cleaner.output.tail_pb',\n",
       "       'secondary_cleaner.output.tail_sol'],\n",
       "      dtype='object')"
      ]
     },
     "execution_count": 9,
     "metadata": {},
     "output_type": "execute_result"
    }
   ],
   "source": [
    "train_cols = train.columns\n",
    "test_cols = test.columns\n",
    "\n",
    "train_not_test = train_cols.difference(test_cols)\n",
    "train_not_test"
   ]
  },
  {
   "cell_type": "markdown",
   "metadata": {},
   "source": [
    "There are no product parameters (output) in the test sample for several reasons:\n",
    "1. Product parameters are measured at the next stages, so they are not in test\n",
    "2. There are no target features in this sample."
   ]
  },
  {
   "cell_type": "markdown",
   "metadata": {},
   "source": [
    "### Data preprocessing"
   ]
  },
  {
   "cell_type": "code",
   "execution_count": 10,
   "metadata": {},
   "outputs": [
    {
     "name": "stdout",
     "output_type": "stream",
     "text": [
      "35.05747126436781\n",
      "7.0754716981132075\n",
      "51.50574712643678\n"
     ]
    }
   ],
   "source": [
    "datas=[train, test, full];\n",
    "\n",
    "for data in datas:\n",
    "    print(data.isna().sum().mean());"
   ]
  },
  {
   "cell_type": "markdown",
   "metadata": {},
   "source": [
    "There are not that many gaps (relative to the total amount of data), so we can fill them using the ffill method, since the project description says that the data is indexed by date and time, and parameters adjacent in time are often similar."
   ]
  },
  {
   "cell_type": "code",
   "execution_count": 11,
   "metadata": {},
   "outputs": [],
   "source": [
    "for data in datas:\n",
    "    data=data.ffill(axis='rows', inplace=True)"
   ]
  },
  {
   "cell_type": "code",
   "execution_count": 12,
   "metadata": {},
   "outputs": [
    {
     "name": "stdout",
     "output_type": "stream",
     "text": [
      "0.0\n",
      "0.0\n",
      "0.0\n"
     ]
    }
   ],
   "source": [
    "for data in datas:\n",
    "    print(data.isna().sum().mean());"
   ]
  },
  {
   "cell_type": "code",
   "execution_count": 13,
   "metadata": {},
   "outputs": [
    {
     "name": "stdout",
     "output_type": "stream",
     "text": [
      "0\n",
      "0\n",
      "0\n"
     ]
    }
   ],
   "source": [
    "for data in datas:\n",
    "    print(data.duplicated().sum());"
   ]
  },
  {
   "cell_type": "markdown",
   "metadata": {},
   "source": [
    "There are no more gaps or duplicates in the data. We can continue to work."
   ]
  },
  {
   "cell_type": "markdown",
   "metadata": {},
   "source": [
    "### Getting rid of anomalies"
   ]
  },
  {
   "cell_type": "code",
   "execution_count": 14,
   "metadata": {},
   "outputs": [],
   "source": [
    "train=train.loc[train['rougher.input.feed_ag']>1]\n",
    "train=train.loc[train['rougher.input.feed_pb']>1]\n",
    "train=train.loc[train['rougher.input.feed_au']>1]\n",
    "\n",
    "train=train.loc[train['rougher.output.concentrate_ag']>1]\n",
    "train=train.loc[train['rougher.output.concentrate_pb']>1]\n",
    "train=train.loc[train['rougher.output.concentrate_au']>1]\n",
    "\n",
    "train=train.loc[train['primary_cleaner.output.concentrate_ag']>1]\n",
    "train=train.loc[train['primary_cleaner.output.concentrate_pb']>1]\n",
    "train=train.loc[train['primary_cleaner.output.concentrate_au']>1]\n",
    "\n",
    "train=train.loc[train['final.output.concentrate_ag']>1]\n",
    "train=train.loc[train['final.output.concentrate_pb']>1]\n",
    "train=train.loc[train['final.output.concentrate_au']>1]"
   ]
  },
  {
   "cell_type": "markdown",
   "metadata": {},
   "source": [
    "Based on the graphs of total concentrations, I decided to delete rows where the concentration values are less than one. These are anomalies and they could appear from errors or a failure, so the rest of the signs of these lines may also be incorrect."
   ]
  },
  {
   "cell_type": "markdown",
   "metadata": {},
   "source": [
    "### Conclusion\n",
    "\n",
    "1. We have studied the data provided.\n",
    "2. We made sure that the enrichment efficiency corresponded to reality by comparing it with our own calculations.\n",
    "3. Gaps in the data have been removed.\n",
    "4. Data anomalies were removed."
   ]
  },
  {
   "cell_type": "markdown",
   "metadata": {},
   "source": [
    "## Data analysis"
   ]
  },
  {
   "cell_type": "markdown",
   "metadata": {},
   "source": [
    "### Metal concentrations at different stages"
   ]
  },
  {
   "cell_type": "code",
   "execution_count": 15,
   "metadata": {},
   "outputs": [],
   "source": [
    "concentrate_ag = train[['rougher.input.feed_ag', 'rougher.output.concentrate_ag',\\\n",
    "                        'primary_cleaner.output.concentrate_ag', 'final.output.concentrate_ag']]\n",
    "concentrate_pb = train[['rougher.input.feed_pb', 'rougher.output.concentrate_pb',\\\n",
    "                        'primary_cleaner.output.concentrate_pb', 'final.output.concentrate_pb']]\n",
    "concentrate_au = train[['rougher.input.feed_au', 'rougher.output.concentrate_au',\\\n",
    "                        'primary_cleaner.output.concentrate_au', 'final.output.concentrate_au']]"
   ]
  },
  {
   "cell_type": "code",
   "execution_count": 16,
   "metadata": {},
   "outputs": [],
   "source": [
    "concentrate_ag = concentrate_ag.rename(columns={'rougher.input.feed_ag':'Сырье',\n",
    "                                                'rougher.output.concentrate_ag': 'Черновой конц.',\n",
    "                                                'primary_cleaner.output.concentrate_ag': 'Перв. очистка',\n",
    "                                                'final.output.concentrate_ag': 'Финал. конц.'})\n",
    "\n",
    "concentrate_pb = concentrate_pb.rename(columns={'rougher.input.feed_pb':'Сырье',\\\n",
    "                                                'rougher.output.concentrate_pb': 'Черновой конц.', \\\n",
    "                                'primary_cleaner.output.concentrate_pb': 'Перв. очистка',\\\n",
    "                              'final.output.concentrate_pb': 'Финал. конц.'})\n",
    "\n",
    "concentrate_au = concentrate_au.rename(columns={'rougher.input.feed_au':'Сырье',\\\n",
    "                                                'rougher.output.concentrate_au': 'Черновой конц.', \\\n",
    "                                'primary_cleaner.output.concentrate_au': 'Перв. очистка',\\\n",
    "                              'final.output.concentrate_au': 'Финал. конц.'})"
   ]
  },
  {
   "cell_type": "code",
   "execution_count": 17,
   "metadata": {},
   "outputs": [
    {
     "data": {
      "image/png": "[encoded data removed]",
      "text/plain": [
       "<Figure size 1600x500 with 2 Axes>"
      ]
     },
     "metadata": {},
     "output_type": "display_data"
    }
   ],
   "source": [
    "figure1, (plot1, plot2)=plt.subplots(1, 2, linewidth=2, figsize=(16, 5))\n",
    "\n",
    "concentrate_ag.mean().plot(ax=plot1, kind='bar')\n",
    "sns.violinplot(ax=plot2, data=concentrate_ag)\n",
    "plt.suptitle('Concentration of silver in metal at various stages')\n",
    "plot1.set_ylabel('Metal concentration')\n",
    "plot1.set_xlabel('Purification stages')\n",
    "plot2.set_ylabel('Metal concentration')\n",
    "plot2.set_xlabel('Purification stages')\n",
    "plt.show()"
   ]
  },
  {
   "cell_type": "code",
   "execution_count": 18,
   "metadata": {},
   "outputs": [
    {
     "data": {
      "image/png": "[encoded data removed]",
      "text/plain": [
       "<Figure size 1500x500 with 2 Axes>"
      ]
     },
     "metadata": {},
     "output_type": "display_data"
    }
   ],
   "source": [
    "figure2, (plot3, plot4)=plt.subplots(1, 2, linewidth=2, figsize=(15, 5))\n",
    "\n",
    "concentrate_pb.mean().plot(ax=plot3, kind='bar')\n",
    "sns.violinplot(ax=plot4, data=concentrate_pb)\n",
    "plt.suptitle('Lead concentration in metal at various stages')\n",
    "plot3.set_ylabel('Metal concentration')\n",
    "plot3.set_xlabel('Purification stages')\n",
    "plot4.set_ylabel('Metal concentration')\n",
    "plot4.set_xlabel('Purification stages')\n",
    "plt.show()"
   ]
  },
  {
   "cell_type": "code",
   "execution_count": 19,
   "metadata": {},
   "outputs": [
    {
     "data": {
      "image/png": "[encoded data removed]",
      "text/plain": [
       "<Figure size 1500x500 with 2 Axes>"
      ]
     },
     "metadata": {},
     "output_type": "display_data"
    }
   ],
   "source": [
    "figure3, (plot5, plot6)=plt.subplots(1, 2, linewidth=2, figsize=(15, 5))\n",
    "\n",
    "concentrate_au.mean().plot(ax=plot5, kind='bar')\n",
    "sns.violinplot(ax=plot6, data=concentrate_au)\n",
    "plt.suptitle('Concentration of gold in metal at various stages')\n",
    "plot5.set_ylabel('Metal concentration')\n",
    "plot5.set_xlabel('Purification stages')\n",
    "plot6.set_ylabel('Metal concentration')\n",
    "plot6.set_xlabel('Purification stages')\n",
    "plt.show()"
   ]
  },
  {
   "cell_type": "markdown",
   "metadata": {},
   "source": [
    "Silver: the concentration increases in the second stage, decreasing by 2 times towards the end.\n",
    "Lead: increases 2.5 times by the 3rd stage, at the last stage it practically does not change.\n",
    "Gold: increases at all stages, increases 4 times."
   ]
  },
  {
   "cell_type": "markdown",
   "metadata": {},
   "source": [
    "### Granule size in different samples"
   ]
  },
  {
   "cell_type": "code",
   "execution_count": 20,
   "metadata": {},
   "outputs": [
    {
     "data": {
      "image/png": "[encoded data removed]",
      "text/plain": [
       "<Figure size 1500x800 with 1 Axes>"
      ]
     },
     "metadata": {},
     "output_type": "display_data"
    }
   ],
   "source": [
    "plt.subplots(figsize = (15, 8))\n",
    "sns.histplot(train['rougher.input.feed_size'], stat='density', color='blue', bins=400)\n",
    "sns.histplot(test['rougher.input.feed_size'], stat='density', color='orange', alpha=0.5, bins=400)\n",
    "plt.title('Granule size in training and test sets')\n",
    "plt.xlabel('Granule size')\n",
    "plt.ylabel('Distribution density')\n",
    "plt.show()"
   ]
  },
  {
   "cell_type": "code",
   "execution_count": 21,
   "metadata": {},
   "outputs": [
    {
     "data": {
      "text/plain": [
       "count    13748.000000\n",
       "mean        59.079249\n",
       "std         23.195297\n",
       "min          0.049194\n",
       "25%         47.282824\n",
       "50%         54.464761\n",
       "75%         64.236595\n",
       "max        484.967466\n",
       "Name: rougher.input.feed_size, dtype: float64"
      ]
     },
     "execution_count": 21,
     "metadata": {},
     "output_type": "execute_result"
    }
   ],
   "source": [
    "train['rougher.input.feed_size'].describe()"
   ]
  },
  {
   "cell_type": "code",
   "execution_count": 22,
   "metadata": {},
   "outputs": [
    {
     "data": {
      "text/plain": [
       "count    4860.000000\n",
       "mean       59.136150\n",
       "std        19.512497\n",
       "min         0.046369\n",
       "25%        47.610795\n",
       "50%        55.461058\n",
       "75%        66.538910\n",
       "max       363.989699\n",
       "Name: rougher.input.feed_size, dtype: float64"
      ]
     },
     "execution_count": 22,
     "metadata": {},
     "output_type": "execute_result"
    }
   ],
   "source": [
    "test['rougher.input.feed_size'].describe()"
   ]
  },
  {
   "cell_type": "markdown",
   "metadata": {},
   "source": [
    "The average granule size differs by 0.003 microns. The range diagram indicators (median, lower and upper quantile) are also very close."
   ]
  },
  {
   "cell_type": "markdown",
   "metadata": {},
   "source": [
    "### Total metal concentration"
   ]
  },
  {
   "cell_type": "code",
   "execution_count": 23,
   "metadata": {},
   "outputs": [],
   "source": [
    "combined_input = train[['rougher.input.feed_ag', 'rougher.input.feed_pb',\\\n",
    "                 'rougher.input.feed_sol', 'rougher.input.feed_au']].sum(axis=1)"
   ]
  },
  {
   "cell_type": "code",
   "execution_count": 24,
   "metadata": {},
   "outputs": [
    {
     "data": {
      "image/png": "[encoded data removed]",
      "text/plain": [
       "<Figure size 1500x700 with 1 Axes>"
      ]
     },
     "metadata": {},
     "output_type": "display_data"
    }
   ],
   "source": [
    "plt.subplots(figsize = (15, 7))\n",
    "sns.histplot(combined_input, bins=400)\n",
    "plt.title('Total concentration of metals in raw materials')\n",
    "plt.xlabel('Metal concentration')\n",
    "plt.ylabel('Number of measurements')\n",
    "plt.show()"
   ]
  },
  {
   "cell_type": "code",
   "execution_count": 25,
   "metadata": {},
   "outputs": [],
   "source": [
    "combined_output = train[['rougher.output.concentrate_pb', 'rougher.output.concentrate_ag',\\\n",
    "                        'rougher.output.concentrate_sol', 'rougher.output.concentrate_au']].sum(axis=1)"
   ]
  },
  {
   "cell_type": "code",
   "execution_count": 26,
   "metadata": {},
   "outputs": [
    {
     "data": {
      "image/png": "[encoded data removed]",
      "text/plain": [
       "<Figure size 1500x700 with 1 Axes>"
      ]
     },
     "metadata": {},
     "output_type": "display_data"
    }
   ],
   "source": [
    "plt.subplots(figsize = (15, 7))\n",
    "sns.histplot(combined_output, bins=400)\n",
    "plt.title('Total concentration of metals in rough concentrate')\n",
    "plt.xlabel('Metal concentration')\n",
    "plt.ylabel('Number of measurements')\n",
    "plt.show()"
   ]
  },
  {
   "cell_type": "code",
   "execution_count": 27,
   "metadata": {},
   "outputs": [],
   "source": [
    "combined_cleaner = train[['primary_cleaner.output.concentrate_pb', 'primary_cleaner.output.concentrate_ag',\\\n",
    "                       'primary_cleaner.output.concentrate_sol', 'primary_cleaner.output.concentrate_au']].sum(axis=1)"
   ]
  },
  {
   "cell_type": "code",
   "execution_count": 28,
   "metadata": {},
   "outputs": [
    {
     "data": {
      "image/png": "[encoded data removed]",
      "text/plain": [
       "<Figure size 1500x700 with 1 Axes>"
      ]
     },
     "metadata": {},
     "output_type": "display_data"
    }
   ],
   "source": [
    "plt.subplots(figsize = (15, 7))\n",
    "sns.histplot(combined_cleaner, bins=400)\n",
    "plt.title('Total metal concentration after first purification')\n",
    "plt.xlabel('Metal concentration')\n",
    "plt.ylabel('Number of measurements')\n",
    "plt.show()"
   ]
  },
  {
   "cell_type": "code",
   "execution_count": 29,
   "metadata": {},
   "outputs": [],
   "source": [
    "combined_final = train[['final.output.concentrate_pb', 'final.output.concentrate_ag',\\\n",
    "                       'final.output.concentrate_sol', 'final.output.concentrate_au']].sum(axis=1)"
   ]
  },
  {
   "cell_type": "code",
   "execution_count": 30,
   "metadata": {},
   "outputs": [
    {
     "data": {
      "image/png": "[encoded data removed]",
      "text/plain": [
       "<Figure size 1500x700 with 1 Axes>"
      ]
     },
     "metadata": {},
     "output_type": "display_data"
    }
   ],
   "source": [
    "plt.subplots(figsize = (15, 7))\n",
    "sns.histplot(combined_final, bins=400)\n",
    "plt.title('Total concentration of metals in the final concentrate')\n",
    "plt.xlabel('Metal concentration')\n",
    "plt.ylabel('Number of measurements')\n",
    "plt.show()"
   ]
  },
  {
   "cell_type": "markdown",
   "metadata": {},
   "source": [
    "The total concentration of metals increases in the first two stages, decreasing in the third. This explains the decrease in silver content that we saw in paragraph 2.1. At the fourth stage, the concentration increases again, the graph has a normal distribution."
   ]
  },
  {
   "cell_type": "markdown",
   "metadata": {},
   "source": [
    "### Conclusion\n",
    "1. We analyzed the concentrations of metals in the raw materials. The gold and lead content increases at all stages, while the silver content decreases.\n",
    "2. The sizes of granules in the training and test samples are practically the same, which indicates the high quality of the data provided and allows you to create high-quality models.\n",
    "3. Thanks to the work carried out at stage 1.5, the graphs of total metal concentrations have a normal distribution and there are no anomalies."
   ]
  },
  {
   "cell_type": "markdown",
   "metadata": {},
   "source": [
    "## Models"
   ]
  },
  {
   "cell_type": "markdown",
   "metadata": {},
   "source": [
    "### Preparing a test sample"
   ]
  },
  {
   "cell_type": "code",
   "execution_count": 31,
   "metadata": {},
   "outputs": [],
   "source": [
    "data_target = full[['date', 'rougher.output.recovery', 'final.output.recovery']]\n",
    "test = test.merge(data_target, how = 'left', on = 'date')\n",
    "test.drop(['date'], axis=1, inplace=True)\n",
    "train = train.drop(set(train.columns)-set(test.columns), axis=1)"
   ]
  },
  {
   "cell_type": "markdown",
   "metadata": {},
   "source": [
    "Since the test sample does not have the necessary parameters, we will add them from full"
   ]
  },
  {
   "cell_type": "markdown",
   "metadata": {},
   "source": [
    "### sMAPE"
   ]
  },
  {
   "cell_type": "code",
   "execution_count": 32,
   "metadata": {},
   "outputs": [],
   "source": [
    "def smape_total(target_rougher, predicted_rougher, target_final, predicted_final):\n",
    "    return (0.25*smape(target_rougher, predicted_rougher)) + (0.75*smape(target_final, predicted_final))\n",
    "\n",
    "def smape(target, predicted):\n",
    "    return 1/len(target) * np.sum(2 * np.abs(\n",
    "       target - predicted) / (np.abs(target) + np.abs(predicted))*100)\n",
    "\n",
    "def smape_final(sMAPE_rougher, sMAPE_final):\n",
    "    return 0.25*sMAPE_rougher + 0.75*sMAPE_final"
   ]
  },
  {
   "cell_type": "code",
   "execution_count": 33,
   "metadata": {},
   "outputs": [],
   "source": [
    "features_train_rougher = train.drop(['rougher.output.recovery'], axis=1)\n",
    "target_train_rougher = train['rougher.output.recovery']\n",
    "\n",
    "features_train_final = train.drop(['rougher.output.recovery', 'final.output.recovery'], axis=1)\n",
    "target_train_final = train['final.output.recovery']\n",
    "\n",
    "features_test_rougher = test.drop(['rougher.output.recovery'], axis=1)\n",
    "target_test_rougher = test['rougher.output.recovery']\n",
    "\n",
    "features_test_final = test.drop(['rougher.output.recovery', 'final.output.recovery'], axis=1)\n",
    "target_test_final = test['final.output.recovery']"
   ]
  },
  {
   "cell_type": "markdown",
   "metadata": {},
   "source": [
    "### Model training"
   ]
  },
  {
   "cell_type": "markdown",
   "metadata": {},
   "source": [
    "#### Linear Regression"
   ]
  },
  {
   "cell_type": "code",
   "execution_count": 34,
   "metadata": {
    "scrolled": true
   },
   "outputs": [
    {
     "name": "stdout",
     "output_type": "stream",
     "text": [
      "Итоговое sMape для линейной регрессии: 8.570663568436034\n"
     ]
    }
   ],
   "source": [
    "model = LinearRegression()\n",
    "scorer = make_scorer(smape, greater_is_better=False)\n",
    "rougher_linear = cross_val_score(model, features_train_rougher, target_train_rougher, scoring=scorer)\n",
    "final_linear =  cross_val_score(model, features_train_final, target_train_final, scoring=scorer)\n",
    "print('Итоговое sMape для линейной регрессии:', -smape_final(rougher_linear, final_linear).mean())"
   ]
  },
  {
   "cell_type": "markdown",
   "metadata": {},
   "source": [
    "#### Desicion Tree"
   ]
  },
  {
   "cell_type": "code",
   "execution_count": 35,
   "metadata": {},
   "outputs": [
    {
     "name": "stdout",
     "output_type": "stream",
     "text": [
      "Итоговое sMAPE для решающего дерева: 8.153924268371169\n",
      "Глубина: 2\n",
      "min_samples_split: 2\n"
     ]
    }
   ],
   "source": [
    "best_depth=0\n",
    "best_result=100\n",
    "best_split=2;\n",
    "best_split_result=100\n",
    "\n",
    "for depth in range(1, 6):\n",
    "    for split in range(2, 10, 2):\n",
    "        model = DecisionTreeRegressor(random_state=12345, max_depth = depth, min_samples_split=split)\n",
    "        scorer = make_scorer(smape, greater_is_better=False)\n",
    "        rougher_tree = cross_val_score(model, features_train_rougher, target_train_rougher, scoring=scorer)\n",
    "        final_tree = cross_val_score(model, features_train_final, target_train_final, scoring=scorer)\n",
    "        if (-smape_final(rougher_tree, final_tree).mean()<best_result):\n",
    "            best_result=-smape_final(rougher_tree, final_tree).mean()\n",
    "            best_depth=depth\n",
    "            best_split=split\n",
    "        \n",
    "print('Итоговое sMAPE для решающего дерева:', best_result)\n",
    "print('Глубина:', best_depth)\n",
    "print('min_samples_split:', best_split)"
   ]
  },
  {
   "cell_type": "markdown",
   "metadata": {},
   "source": [
    "### Best result"
   ]
  },
  {
   "cell_type": "code",
   "execution_count": 36,
   "metadata": {},
   "outputs": [
    {
     "name": "stdout",
     "output_type": "stream",
     "text": [
      "Итоговое sMAPE на тестовой выборке: 7.71661798341127\n"
     ]
    }
   ],
   "source": [
    "model_rougher = DecisionTreeRegressor(random_state=12345, max_depth = best_depth, min_samples_split=best_split)\n",
    "model_final = DecisionTreeRegressor(random_state=12345, max_depth = best_depth, min_samples_split=best_split)\n",
    "model_rougher.fit(features_train_rougher, target_train_rougher)\n",
    "model_final.fit(features_train_final, target_train_final)\n",
    "test_predictions_rougher = model_rougher.predict(features_test_rougher)\n",
    "test_predictions_final = model_final.predict(features_test_final)\n",
    "print('Итоговое sMAPE на тестовой выборке:',smape_total(\n",
    "    target_test_rougher, test_predictions_rougher, target_test_final, test_predictions_final).mean())"
   ]
  },
  {
   "cell_type": "markdown",
   "metadata": {},
   "source": [
    "### Checking the adequacy of the model"
   ]
  },
  {
   "cell_type": "code",
   "execution_count": 37,
   "metadata": {},
   "outputs": [
    {
     "name": "stdout",
     "output_type": "stream",
     "text": [
      "Final sMAPE для DummyRegressor: 8.456633970072676\n"
     ]
    }
   ],
   "source": [
    "dummy_model_r = DummyRegressor(strategy=\"mean\")\n",
    "dummy_model_f = DummyRegressor(strategy=\"mean\")\n",
    "dummy_model_r.fit(features_train_rougher, target_train_rougher)\n",
    "dummy_model_f.fit(features_train_final, target_train_final)\n",
    "test_predictions_rougher = dummy_model_r.predict(features_test_rougher)\n",
    "test_predictions_final = dummy_model_f.predict(features_test_final)\n",
    "\n",
    "print('Final sMAPE для DummyRegressor:',smape_total(\n",
    "    target_test_rougher, test_predictions_rougher, target_test_final, test_predictions_final).mean())"
   ]
  },
  {
   "cell_type": "markdown",
   "metadata": {},
   "source": [
    "### Conclusion\n",
    "\n",
    "1. A test sample has been prepared.\n",
    "2. The sMAPE function has been created.\n",
    "3. Linear regression and decision tree models were trained. To improve the latter, hyperparameters were selected.\n",
    "4. The decision tree model with depth 2 showed the best results. On the test sample, we obtained an sMAPE value of **7.717**, which is less than that of the base model. This means that the resulting model is adequate."
   ]
  },
  {
   "cell_type": "markdown",
   "metadata": {},
   "source": [
    "## Conclusion\n",
    "At the data preparation stage, the correctness of the provided data was checked, differences in the sizes of the test and training samples were detected, anomalous values were removed and gaps were filled.\n",
    "\n",
    "When analyzing the data, we visualized both the concentrations of individual metals at 4 stages (raw materials, rough concentrate, after the first purification, final concentrate), and the total shares. After analyzing the sizes of granules in two samples, we came to the conclusion that the data provided was of good quality and the model could be trained on its basis.\n",
    "\n",
    "Two different models were trained, hyperparameters were selected for improvement, and the sMAPE function was created. As a result, we obtained an adequate model with a symmetrical average absolute percentage deviation of **7.717**"
   ]
  }
 ],
 "metadata": {
  "ExecuteTimeLog": [
   {
    "duration": 407,
    "start_time": "2023-06-09T22:38:51.080Z"
   },
   {
    "duration": 108,
    "start_time": "2023-06-09T22:38:53.033Z"
   },
   {
    "duration": 52,
    "start_time": "2023-06-09T22:39:57.981Z"
   },
   {
    "duration": 3,
    "start_time": "2023-06-09T22:40:11.490Z"
   },
   {
    "duration": 63,
    "start_time": "2023-06-09T22:40:11.494Z"
   },
   {
    "duration": 51,
    "start_time": "2023-06-09T22:40:27.684Z"
   },
   {
    "duration": 13,
    "start_time": "2023-06-09T22:42:25.447Z"
   },
   {
    "duration": 931,
    "start_time": "2023-06-09T22:42:51.106Z"
   },
   {
    "duration": 1617,
    "start_time": "2023-06-09T22:43:13.866Z"
   },
   {
    "duration": 22,
    "start_time": "2023-06-09T22:43:46.763Z"
   },
   {
    "duration": 11,
    "start_time": "2023-06-09T22:56:51.033Z"
   },
   {
    "duration": 11,
    "start_time": "2023-06-09T22:56:58.799Z"
   },
   {
    "duration": 3,
    "start_time": "2023-06-09T22:58:51.329Z"
   },
   {
    "duration": 4,
    "start_time": "2023-06-09T22:58:56.985Z"
   },
   {
    "duration": 4,
    "start_time": "2023-06-09T22:59:08.462Z"
   },
   {
    "duration": 8,
    "start_time": "2023-06-09T23:00:19.919Z"
   },
   {
    "duration": 12,
    "start_time": "2023-06-09T23:01:37.084Z"
   },
   {
    "duration": 793,
    "start_time": "2023-06-09T23:02:05.940Z"
   },
   {
    "duration": 3,
    "start_time": "2023-06-09T23:02:09.341Z"
   },
   {
    "duration": 846,
    "start_time": "2023-06-09T23:02:09.346Z"
   },
   {
    "duration": 3,
    "start_time": "2023-06-09T23:02:10.193Z"
   },
   {
    "duration": 40,
    "start_time": "2023-06-09T23:02:10.197Z"
   },
   {
    "duration": 69,
    "start_time": "2023-06-09T23:02:10.239Z"
   },
   {
    "duration": 1056,
    "start_time": "2023-06-09T23:09:02.448Z"
   },
   {
    "duration": 707,
    "start_time": "2023-06-09T23:09:03.506Z"
   },
   {
    "duration": 3,
    "start_time": "2023-06-09T23:09:04.214Z"
   },
   {
    "duration": 24,
    "start_time": "2023-06-09T23:09:04.218Z"
   },
   {
    "duration": 4,
    "start_time": "2023-06-09T23:09:04.243Z"
   },
   {
    "duration": 51,
    "start_time": "2023-06-10T17:46:18.283Z"
   },
   {
    "duration": 1207,
    "start_time": "2023-06-10T17:48:29.433Z"
   },
   {
    "duration": 5214,
    "start_time": "2023-06-10T17:48:30.643Z"
   },
   {
    "duration": 5,
    "start_time": "2023-06-10T17:48:35.862Z"
   },
   {
    "duration": 32,
    "start_time": "2023-06-10T17:48:35.870Z"
   },
   {
    "duration": 5,
    "start_time": "2023-06-10T17:48:35.905Z"
   },
   {
    "duration": 3,
    "start_time": "2023-06-10T17:49:45.088Z"
   },
   {
    "duration": 29,
    "start_time": "2023-06-10T17:50:11.435Z"
   },
   {
    "duration": 18,
    "start_time": "2023-06-10T17:50:34.485Z"
   },
   {
    "duration": 23,
    "start_time": "2023-06-10T17:50:43.775Z"
   },
   {
    "duration": 25,
    "start_time": "2023-06-10T17:52:30.249Z"
   },
   {
    "duration": 33,
    "start_time": "2023-06-10T17:53:29.188Z"
   },
   {
    "duration": 21,
    "start_time": "2023-06-10T17:54:02.584Z"
   },
   {
    "duration": 131,
    "start_time": "2023-06-10T17:54:19.100Z"
   },
   {
    "duration": 16,
    "start_time": "2023-06-10T17:54:24.418Z"
   },
   {
    "duration": 256,
    "start_time": "2023-06-10T17:55:25.952Z"
   },
   {
    "duration": 9,
    "start_time": "2023-06-10T17:56:54.699Z"
   },
   {
    "duration": 8,
    "start_time": "2023-06-10T17:56:58.060Z"
   },
   {
    "duration": 8,
    "start_time": "2023-06-10T17:58:24.287Z"
   },
   {
    "duration": 63,
    "start_time": "2023-06-10T17:58:40.181Z"
   },
   {
    "duration": 10,
    "start_time": "2023-06-10T17:59:18.594Z"
   },
   {
    "duration": 5,
    "start_time": "2023-06-10T17:59:33.303Z"
   },
   {
    "duration": 5,
    "start_time": "2023-06-10T17:59:51.044Z"
   },
   {
    "duration": 18,
    "start_time": "2023-06-10T18:00:18.148Z"
   },
   {
    "duration": 27,
    "start_time": "2023-06-10T18:00:29.677Z"
   },
   {
    "duration": 10,
    "start_time": "2023-06-10T18:00:41.701Z"
   },
   {
    "duration": 5,
    "start_time": "2023-06-10T18:09:59.315Z"
   },
   {
    "duration": 5,
    "start_time": "2023-06-10T18:10:01.486Z"
   },
   {
    "duration": 9,
    "start_time": "2023-06-10T18:10:03.070Z"
   },
   {
    "duration": 26,
    "start_time": "2023-06-10T18:10:04.844Z"
   },
   {
    "duration": 493,
    "start_time": "2023-06-10T18:10:24.847Z"
   },
   {
    "duration": 483,
    "start_time": "2023-06-10T18:10:28.623Z"
   },
   {
    "duration": 19,
    "start_time": "2023-06-10T18:11:47.110Z"
   },
   {
    "duration": 10,
    "start_time": "2023-06-10T18:11:50.325Z"
   },
   {
    "duration": 10,
    "start_time": "2023-06-10T18:12:17.545Z"
   },
   {
    "duration": 55,
    "start_time": "2023-06-10T18:12:24.898Z"
   },
   {
    "duration": 692,
    "start_time": "2023-06-10T18:12:29.243Z"
   },
   {
    "duration": 126,
    "start_time": "2023-06-10T18:13:35.171Z"
   },
   {
    "duration": 690,
    "start_time": "2023-06-10T18:13:41.820Z"
   },
   {
    "duration": 2048,
    "start_time": "2023-06-10T18:14:51.827Z"
   },
   {
    "duration": 19,
    "start_time": "2023-06-10T18:15:49.089Z"
   },
   {
    "duration": 13,
    "start_time": "2023-06-10T18:15:55.798Z"
   },
   {
    "duration": 11,
    "start_time": "2023-06-10T18:15:58.694Z"
   },
   {
    "duration": 679,
    "start_time": "2023-06-10T18:16:07.540Z"
   },
   {
    "duration": 691,
    "start_time": "2023-06-10T18:16:09.594Z"
   },
   {
    "duration": 748,
    "start_time": "2023-06-10T18:16:32.278Z"
   },
   {
    "duration": 758,
    "start_time": "2023-06-10T18:16:36.552Z"
   },
   {
    "duration": 596,
    "start_time": "2023-06-10T18:16:42.555Z"
   },
   {
    "duration": 740,
    "start_time": "2023-06-10T18:18:19.074Z"
   },
   {
    "duration": 453,
    "start_time": "2023-06-10T18:19:37.110Z"
   },
   {
    "duration": 24,
    "start_time": "2023-06-10T18:21:37.346Z"
   },
   {
    "duration": 59,
    "start_time": "2023-06-10T18:21:49.044Z"
   },
   {
    "duration": 26,
    "start_time": "2023-06-10T18:22:20.570Z"
   },
   {
    "duration": 661,
    "start_time": "2023-06-10T18:22:29.341Z"
   },
   {
    "duration": 718,
    "start_time": "2023-06-10T18:22:39.581Z"
   },
   {
    "duration": 900,
    "start_time": "2023-06-10T18:22:57.930Z"
   },
   {
    "duration": 778,
    "start_time": "2023-06-10T18:24:55.934Z"
   },
   {
    "duration": 824,
    "start_time": "2023-06-10T18:25:23.504Z"
   },
   {
    "duration": 685,
    "start_time": "2023-06-10T18:25:28.905Z"
   },
   {
    "duration": 778,
    "start_time": "2023-06-10T18:25:43.836Z"
   },
   {
    "duration": 777,
    "start_time": "2023-06-10T18:25:58.548Z"
   },
   {
    "duration": 848,
    "start_time": "2023-06-10T18:26:09.978Z"
   },
   {
    "duration": 725,
    "start_time": "2023-06-10T18:26:33.170Z"
   },
   {
    "duration": 821,
    "start_time": "2023-06-10T18:26:40.395Z"
   },
   {
    "duration": 20,
    "start_time": "2023-06-10T18:28:50.273Z"
   },
   {
    "duration": 25,
    "start_time": "2023-06-10T18:31:33.946Z"
   },
   {
    "duration": 930,
    "start_time": "2023-06-10T18:34:55.783Z"
   },
   {
    "duration": 917,
    "start_time": "2023-06-10T18:48:46.397Z"
   },
   {
    "duration": 13,
    "start_time": "2023-06-10T18:48:54.390Z"
   },
   {
    "duration": 857,
    "start_time": "2023-06-10T18:49:02.849Z"
   },
   {
    "duration": 3,
    "start_time": "2023-06-10T18:50:23.371Z"
   },
   {
    "duration": 782,
    "start_time": "2023-06-10T18:50:23.377Z"
   },
   {
    "duration": 19,
    "start_time": "2023-06-10T18:50:24.161Z"
   },
   {
    "duration": 8,
    "start_time": "2023-06-10T18:50:24.181Z"
   },
   {
    "duration": 7,
    "start_time": "2023-06-10T18:50:24.192Z"
   },
   {
    "duration": 22,
    "start_time": "2023-06-10T18:50:24.201Z"
   },
   {
    "duration": 32,
    "start_time": "2023-06-10T18:50:24.225Z"
   },
   {
    "duration": 29,
    "start_time": "2023-06-10T18:50:24.259Z"
   },
   {
    "duration": 15,
    "start_time": "2023-06-10T18:50:24.290Z"
   },
   {
    "duration": 18,
    "start_time": "2023-06-10T18:50:24.307Z"
   },
   {
    "duration": 258,
    "start_time": "2023-06-10T18:50:24.327Z"
   },
   {
    "duration": 6,
    "start_time": "2023-06-10T18:50:24.588Z"
   },
   {
    "duration": 8,
    "start_time": "2023-06-10T18:50:24.595Z"
   },
   {
    "duration": 16,
    "start_time": "2023-06-10T18:50:24.605Z"
   },
   {
    "duration": 1360,
    "start_time": "2023-06-10T18:50:24.623Z"
   },
   {
    "duration": 1221,
    "start_time": "2023-06-10T18:50:25.985Z"
   },
   {
    "duration": 987,
    "start_time": "2023-06-10T18:50:27.256Z"
   },
   {
    "duration": 899,
    "start_time": "2023-06-10T18:50:28.245Z"
   },
   {
    "duration": 13,
    "start_time": "2023-06-10T18:50:29.146Z"
   },
   {
    "duration": 16,
    "start_time": "2023-06-10T18:50:29.161Z"
   },
   {
    "duration": 779,
    "start_time": "2023-06-10T18:50:29.179Z"
   },
   {
    "duration": 7,
    "start_time": "2023-06-10T18:50:29.960Z"
   },
   {
    "duration": 664,
    "start_time": "2023-06-10T18:50:29.970Z"
   },
   {
    "duration": 7,
    "start_time": "2023-06-10T18:50:30.637Z"
   },
   {
    "duration": 691,
    "start_time": "2023-06-10T18:50:30.645Z"
   },
   {
    "duration": 13,
    "start_time": "2023-06-10T19:19:37.067Z"
   },
   {
    "duration": 13,
    "start_time": "2023-06-10T19:19:39.731Z"
   },
   {
    "duration": 5,
    "start_time": "2023-06-10T19:19:41.030Z"
   },
   {
    "duration": 7,
    "start_time": "2023-06-10T19:19:42.312Z"
   },
   {
    "duration": 224,
    "start_time": "2023-06-10T19:20:25.571Z"
   },
   {
    "duration": 4,
    "start_time": "2023-06-10T19:20:39.649Z"
   },
   {
    "duration": 114,
    "start_time": "2023-06-10T19:21:04.214Z"
   },
   {
    "duration": 16,
    "start_time": "2023-06-10T19:21:17.199Z"
   },
   {
    "duration": 13,
    "start_time": "2023-06-10T19:21:25.402Z"
   },
   {
    "duration": 11,
    "start_time": "2023-06-10T19:22:16.203Z"
   },
   {
    "duration": 56,
    "start_time": "2023-06-10T19:23:32.531Z"
   },
   {
    "duration": 752,
    "start_time": "2023-06-10T19:23:32.589Z"
   },
   {
    "duration": 37,
    "start_time": "2023-06-10T19:23:33.343Z"
   },
   {
    "duration": 10,
    "start_time": "2023-06-10T19:23:33.383Z"
   },
   {
    "duration": 5,
    "start_time": "2023-06-10T19:23:33.395Z"
   },
   {
    "duration": 20,
    "start_time": "2023-06-10T19:23:33.401Z"
   },
   {
    "duration": 37,
    "start_time": "2023-06-10T19:23:33.423Z"
   },
   {
    "duration": 70,
    "start_time": "2023-06-10T19:23:33.462Z"
   },
   {
    "duration": 14,
    "start_time": "2023-06-10T19:23:33.534Z"
   },
   {
    "duration": 18,
    "start_time": "2023-06-10T19:23:33.551Z"
   },
   {
    "duration": 247,
    "start_time": "2023-06-10T19:23:33.572Z"
   },
   {
    "duration": 5,
    "start_time": "2023-06-10T19:23:33.821Z"
   },
   {
    "duration": 5,
    "start_time": "2023-06-10T19:23:33.828Z"
   },
   {
    "duration": 22,
    "start_time": "2023-06-10T19:23:33.835Z"
   },
   {
    "duration": 1033,
    "start_time": "2023-06-10T19:23:33.859Z"
   },
   {
    "duration": 1106,
    "start_time": "2023-06-10T19:23:34.894Z"
   },
   {
    "duration": 1031,
    "start_time": "2023-06-10T19:23:36.001Z"
   },
   {
    "duration": 786,
    "start_time": "2023-06-10T19:23:37.034Z"
   },
   {
    "duration": 6,
    "start_time": "2023-06-10T19:23:37.821Z"
   },
   {
    "duration": 16,
    "start_time": "2023-06-10T19:23:37.829Z"
   },
   {
    "duration": 875,
    "start_time": "2023-06-10T19:23:37.856Z"
   },
   {
    "duration": 5,
    "start_time": "2023-06-10T19:23:38.734Z"
   },
   {
    "duration": 658,
    "start_time": "2023-06-10T19:23:38.741Z"
   },
   {
    "duration": 5,
    "start_time": "2023-06-10T19:23:39.401Z"
   },
   {
    "duration": 567,
    "start_time": "2023-06-10T19:23:39.409Z"
   },
   {
    "duration": 11,
    "start_time": "2023-06-10T19:23:39.978Z"
   },
   {
    "duration": 12,
    "start_time": "2023-06-10T19:23:39.991Z"
   },
   {
    "duration": 25,
    "start_time": "2023-06-10T19:23:40.007Z"
   },
   {
    "duration": 15,
    "start_time": "2023-06-10T19:23:40.033Z"
   },
   {
    "duration": 14,
    "start_time": "2023-06-10T19:23:40.049Z"
   },
   {
    "duration": 10,
    "start_time": "2023-06-10T19:23:40.064Z"
   },
   {
    "duration": 33,
    "start_time": "2023-06-10T19:23:40.075Z"
   },
   {
    "duration": 21,
    "start_time": "2023-06-10T19:23:40.110Z"
   },
   {
    "duration": 2133,
    "start_time": "2023-06-10T19:23:40.133Z"
   },
   {
    "duration": 141,
    "start_time": "2023-06-10T19:23:42.269Z"
   },
   {
    "duration": 0,
    "start_time": "2023-06-10T19:23:42.411Z"
   },
   {
    "duration": 0,
    "start_time": "2023-06-10T19:23:42.413Z"
   },
   {
    "duration": 13666,
    "start_time": "2023-06-10T19:24:10.013Z"
   },
   {
    "duration": 318,
    "start_time": "2023-06-10T19:24:30.575Z"
   },
   {
    "duration": 10,
    "start_time": "2023-06-10T19:24:39.603Z"
   },
   {
    "duration": 42,
    "start_time": "2023-06-11T22:21:18.990Z"
   },
   {
    "duration": 1532,
    "start_time": "2023-06-11T22:21:31.440Z"
   },
   {
    "duration": 2226,
    "start_time": "2023-06-11T22:21:32.974Z"
   },
   {
    "duration": 19,
    "start_time": "2023-06-11T22:21:35.201Z"
   },
   {
    "duration": 13,
    "start_time": "2023-06-11T22:21:35.221Z"
   },
   {
    "duration": 25,
    "start_time": "2023-06-11T22:21:35.236Z"
   },
   {
    "duration": 15,
    "start_time": "2023-06-11T22:21:35.262Z"
   },
   {
    "duration": 5,
    "start_time": "2023-06-11T22:21:35.280Z"
   },
   {
    "duration": 22,
    "start_time": "2023-06-11T22:21:35.286Z"
   },
   {
    "duration": 6,
    "start_time": "2023-06-11T22:21:35.310Z"
   },
   {
    "duration": 29,
    "start_time": "2023-06-11T22:21:35.318Z"
   },
   {
    "duration": 23,
    "start_time": "2023-06-11T22:21:35.349Z"
   },
   {
    "duration": 16,
    "start_time": "2023-06-11T22:21:35.374Z"
   },
   {
    "duration": 234,
    "start_time": "2023-06-11T22:21:35.391Z"
   },
   {
    "duration": 4,
    "start_time": "2023-06-11T22:21:35.628Z"
   },
   {
    "duration": 15,
    "start_time": "2023-06-11T22:21:35.634Z"
   },
   {
    "duration": 7,
    "start_time": "2023-06-11T22:21:35.650Z"
   },
   {
    "duration": 184,
    "start_time": "2023-06-11T22:21:35.659Z"
   },
   {
    "duration": 0,
    "start_time": "2023-06-11T22:21:35.845Z"
   },
   {
    "duration": 0,
    "start_time": "2023-06-11T22:21:35.847Z"
   },
   {
    "duration": 0,
    "start_time": "2023-06-11T22:21:35.848Z"
   },
   {
    "duration": 0,
    "start_time": "2023-06-11T22:21:35.850Z"
   },
   {
    "duration": 0,
    "start_time": "2023-06-11T22:21:35.851Z"
   },
   {
    "duration": 0,
    "start_time": "2023-06-11T22:21:35.852Z"
   },
   {
    "duration": 0,
    "start_time": "2023-06-11T22:21:35.872Z"
   },
   {
    "duration": 0,
    "start_time": "2023-06-11T22:21:35.874Z"
   },
   {
    "duration": 0,
    "start_time": "2023-06-11T22:21:35.875Z"
   },
   {
    "duration": 0,
    "start_time": "2023-06-11T22:21:35.877Z"
   },
   {
    "duration": 0,
    "start_time": "2023-06-11T22:21:35.878Z"
   },
   {
    "duration": 0,
    "start_time": "2023-06-11T22:21:35.879Z"
   },
   {
    "duration": 0,
    "start_time": "2023-06-11T22:21:35.881Z"
   },
   {
    "duration": 0,
    "start_time": "2023-06-11T22:21:35.882Z"
   },
   {
    "duration": 0,
    "start_time": "2023-06-11T22:21:35.883Z"
   },
   {
    "duration": 0,
    "start_time": "2023-06-11T22:21:35.884Z"
   },
   {
    "duration": 0,
    "start_time": "2023-06-11T22:21:35.886Z"
   },
   {
    "duration": 0,
    "start_time": "2023-06-11T22:21:35.887Z"
   },
   {
    "duration": 0,
    "start_time": "2023-06-11T22:21:35.888Z"
   },
   {
    "duration": 0,
    "start_time": "2023-06-11T22:21:35.889Z"
   },
   {
    "duration": 0,
    "start_time": "2023-06-11T22:21:35.892Z"
   },
   {
    "duration": 0,
    "start_time": "2023-06-11T22:21:35.893Z"
   },
   {
    "duration": 16,
    "start_time": "2023-06-11T22:22:09.190Z"
   },
   {
    "duration": 4,
    "start_time": "2023-06-11T22:22:14.174Z"
   },
   {
    "duration": 784,
    "start_time": "2023-06-11T22:22:14.180Z"
   },
   {
    "duration": 19,
    "start_time": "2023-06-11T22:22:14.966Z"
   },
   {
    "duration": 14,
    "start_time": "2023-06-11T22:22:14.986Z"
   },
   {
    "duration": 19,
    "start_time": "2023-06-11T22:22:15.002Z"
   },
   {
    "duration": 67,
    "start_time": "2023-06-11T22:22:15.023Z"
   },
   {
    "duration": 36,
    "start_time": "2023-06-11T22:22:15.091Z"
   },
   {
    "duration": 23,
    "start_time": "2023-06-11T22:22:15.129Z"
   },
   {
    "duration": 6,
    "start_time": "2023-06-11T22:22:15.153Z"
   },
   {
    "duration": 38,
    "start_time": "2023-06-11T22:22:15.161Z"
   },
   {
    "duration": 13,
    "start_time": "2023-06-11T22:22:15.201Z"
   },
   {
    "duration": 21,
    "start_time": "2023-06-11T22:22:15.216Z"
   },
   {
    "duration": 217,
    "start_time": "2023-06-11T22:22:15.239Z"
   },
   {
    "duration": 14,
    "start_time": "2023-06-11T22:22:15.459Z"
   },
   {
    "duration": 10,
    "start_time": "2023-06-11T22:22:15.475Z"
   },
   {
    "duration": 12,
    "start_time": "2023-06-11T22:22:15.486Z"
   },
   {
    "duration": 121,
    "start_time": "2023-06-11T22:22:15.500Z"
   },
   {
    "duration": 0,
    "start_time": "2023-06-11T22:22:15.623Z"
   },
   {
    "duration": 0,
    "start_time": "2023-06-11T22:22:15.624Z"
   },
   {
    "duration": 0,
    "start_time": "2023-06-11T22:22:15.626Z"
   },
   {
    "duration": 0,
    "start_time": "2023-06-11T22:22:15.627Z"
   },
   {
    "duration": 0,
    "start_time": "2023-06-11T22:22:15.628Z"
   },
   {
    "duration": 0,
    "start_time": "2023-06-11T22:22:15.630Z"
   },
   {
    "duration": 0,
    "start_time": "2023-06-11T22:22:15.631Z"
   },
   {
    "duration": 0,
    "start_time": "2023-06-11T22:22:15.632Z"
   },
   {
    "duration": 0,
    "start_time": "2023-06-11T22:22:15.634Z"
   },
   {
    "duration": 0,
    "start_time": "2023-06-11T22:22:15.635Z"
   },
   {
    "duration": 0,
    "start_time": "2023-06-11T22:22:15.636Z"
   },
   {
    "duration": 0,
    "start_time": "2023-06-11T22:22:15.638Z"
   },
   {
    "duration": 0,
    "start_time": "2023-06-11T22:22:15.639Z"
   },
   {
    "duration": 0,
    "start_time": "2023-06-11T22:22:15.672Z"
   },
   {
    "duration": 0,
    "start_time": "2023-06-11T22:22:15.674Z"
   },
   {
    "duration": 0,
    "start_time": "2023-06-11T22:22:15.675Z"
   },
   {
    "duration": 0,
    "start_time": "2023-06-11T22:22:15.676Z"
   },
   {
    "duration": 0,
    "start_time": "2023-06-11T22:22:15.678Z"
   },
   {
    "duration": 0,
    "start_time": "2023-06-11T22:22:15.679Z"
   },
   {
    "duration": 0,
    "start_time": "2023-06-11T22:22:15.680Z"
   },
   {
    "duration": 0,
    "start_time": "2023-06-11T22:22:15.681Z"
   },
   {
    "duration": 0,
    "start_time": "2023-06-11T22:22:15.683Z"
   },
   {
    "duration": 14,
    "start_time": "2023-06-11T22:22:35.834Z"
   },
   {
    "duration": 15,
    "start_time": "2023-06-11T22:22:43.873Z"
   },
   {
    "duration": 15,
    "start_time": "2023-06-11T22:22:56.339Z"
   },
   {
    "duration": 4,
    "start_time": "2023-06-11T22:23:05.106Z"
   },
   {
    "duration": 674,
    "start_time": "2023-06-11T22:23:05.112Z"
   },
   {
    "duration": 105,
    "start_time": "2023-06-11T22:23:05.788Z"
   },
   {
    "duration": 13,
    "start_time": "2023-06-11T22:23:05.895Z"
   },
   {
    "duration": 30,
    "start_time": "2023-06-11T22:23:05.910Z"
   },
   {
    "duration": 8,
    "start_time": "2023-06-11T22:23:05.942Z"
   },
   {
    "duration": 8,
    "start_time": "2023-06-11T22:23:05.952Z"
   },
   {
    "duration": 21,
    "start_time": "2023-06-11T22:23:05.972Z"
   },
   {
    "duration": 5,
    "start_time": "2023-06-11T22:23:05.995Z"
   },
   {
    "duration": 83,
    "start_time": "2023-06-11T22:23:06.003Z"
   },
   {
    "duration": 0,
    "start_time": "2023-06-11T22:23:06.088Z"
   },
   {
    "duration": 0,
    "start_time": "2023-06-11T22:23:06.090Z"
   },
   {
    "duration": 0,
    "start_time": "2023-06-11T22:23:06.091Z"
   },
   {
    "duration": 0,
    "start_time": "2023-06-11T22:23:06.092Z"
   },
   {
    "duration": 0,
    "start_time": "2023-06-11T22:23:06.093Z"
   },
   {
    "duration": 0,
    "start_time": "2023-06-11T22:23:06.094Z"
   },
   {
    "duration": 0,
    "start_time": "2023-06-11T22:23:06.097Z"
   },
   {
    "duration": 0,
    "start_time": "2023-06-11T22:23:06.097Z"
   },
   {
    "duration": 0,
    "start_time": "2023-06-11T22:23:06.099Z"
   },
   {
    "duration": 0,
    "start_time": "2023-06-11T22:23:06.101Z"
   },
   {
    "duration": 0,
    "start_time": "2023-06-11T22:23:06.102Z"
   },
   {
    "duration": 0,
    "start_time": "2023-06-11T22:23:06.104Z"
   },
   {
    "duration": 0,
    "start_time": "2023-06-11T22:23:06.105Z"
   },
   {
    "duration": 0,
    "start_time": "2023-06-11T22:23:06.106Z"
   },
   {
    "duration": 0,
    "start_time": "2023-06-11T22:23:06.107Z"
   },
   {
    "duration": 1,
    "start_time": "2023-06-11T22:23:06.108Z"
   },
   {
    "duration": 0,
    "start_time": "2023-06-11T22:23:06.110Z"
   },
   {
    "duration": 0,
    "start_time": "2023-06-11T22:23:06.111Z"
   },
   {
    "duration": 0,
    "start_time": "2023-06-11T22:23:06.112Z"
   },
   {
    "duration": 0,
    "start_time": "2023-06-11T22:23:06.113Z"
   },
   {
    "duration": 0,
    "start_time": "2023-06-11T22:23:06.114Z"
   },
   {
    "duration": 0,
    "start_time": "2023-06-11T22:23:06.115Z"
   },
   {
    "duration": 0,
    "start_time": "2023-06-11T22:23:06.116Z"
   },
   {
    "duration": 0,
    "start_time": "2023-06-11T22:23:06.117Z"
   },
   {
    "duration": 0,
    "start_time": "2023-06-11T22:23:06.118Z"
   },
   {
    "duration": 0,
    "start_time": "2023-06-11T22:23:06.120Z"
   },
   {
    "duration": 0,
    "start_time": "2023-06-11T22:23:06.121Z"
   },
   {
    "duration": 0,
    "start_time": "2023-06-11T22:23:06.122Z"
   },
   {
    "duration": 0,
    "start_time": "2023-06-11T22:23:06.123Z"
   },
   {
    "duration": 0,
    "start_time": "2023-06-11T22:23:06.125Z"
   },
   {
    "duration": 217,
    "start_time": "2023-06-11T22:23:15.479Z"
   },
   {
    "duration": 22,
    "start_time": "2023-06-11T22:23:20.291Z"
   },
   {
    "duration": 16,
    "start_time": "2023-06-11T22:23:33.668Z"
   },
   {
    "duration": 19,
    "start_time": "2023-06-11T22:23:37.493Z"
   },
   {
    "duration": 12,
    "start_time": "2023-06-11T22:23:55.808Z"
   },
   {
    "duration": 17,
    "start_time": "2023-06-11T22:23:57.688Z"
   },
   {
    "duration": 14,
    "start_time": "2023-06-11T22:24:04.038Z"
   },
   {
    "duration": 209,
    "start_time": "2023-06-11T22:24:07.271Z"
   },
   {
    "duration": 12,
    "start_time": "2023-06-11T22:28:01.402Z"
   },
   {
    "duration": 13,
    "start_time": "2023-06-11T22:28:02.665Z"
   },
   {
    "duration": 13,
    "start_time": "2023-06-11T22:28:21.834Z"
   },
   {
    "duration": 3,
    "start_time": "2023-06-11T22:28:29.837Z"
   },
   {
    "duration": 713,
    "start_time": "2023-06-11T22:28:29.842Z"
   },
   {
    "duration": 30,
    "start_time": "2023-06-11T22:28:30.557Z"
   },
   {
    "duration": 33,
    "start_time": "2023-06-11T22:28:30.588Z"
   },
   {
    "duration": 59,
    "start_time": "2023-06-11T22:28:30.624Z"
   },
   {
    "duration": 30,
    "start_time": "2023-06-11T22:28:30.690Z"
   },
   {
    "duration": 66,
    "start_time": "2023-06-11T22:28:30.721Z"
   },
   {
    "duration": 46,
    "start_time": "2023-06-11T22:28:30.789Z"
   },
   {
    "duration": 50,
    "start_time": "2023-06-11T22:28:30.837Z"
   },
   {
    "duration": 69,
    "start_time": "2023-06-11T22:28:30.889Z"
   },
   {
    "duration": 82,
    "start_time": "2023-06-11T22:28:30.959Z"
   },
   {
    "duration": 64,
    "start_time": "2023-06-11T22:28:31.043Z"
   },
   {
    "duration": 243,
    "start_time": "2023-06-11T22:28:31.109Z"
   },
   {
    "duration": 4,
    "start_time": "2023-06-11T22:28:31.355Z"
   },
   {
    "duration": 58,
    "start_time": "2023-06-11T22:28:31.361Z"
   },
   {
    "duration": 34,
    "start_time": "2023-06-11T22:28:31.421Z"
   },
   {
    "duration": 151,
    "start_time": "2023-06-11T22:28:31.457Z"
   },
   {
    "duration": 0,
    "start_time": "2023-06-11T22:28:31.609Z"
   },
   {
    "duration": 0,
    "start_time": "2023-06-11T22:28:31.610Z"
   },
   {
    "duration": 0,
    "start_time": "2023-06-11T22:28:31.611Z"
   },
   {
    "duration": 0,
    "start_time": "2023-06-11T22:28:31.613Z"
   },
   {
    "duration": 0,
    "start_time": "2023-06-11T22:28:31.614Z"
   },
   {
    "duration": 0,
    "start_time": "2023-06-11T22:28:31.615Z"
   },
   {
    "duration": 0,
    "start_time": "2023-06-11T22:28:31.673Z"
   },
   {
    "duration": 0,
    "start_time": "2023-06-11T22:28:31.675Z"
   },
   {
    "duration": 0,
    "start_time": "2023-06-11T22:28:31.678Z"
   },
   {
    "duration": 0,
    "start_time": "2023-06-11T22:28:31.680Z"
   },
   {
    "duration": 0,
    "start_time": "2023-06-11T22:28:31.680Z"
   },
   {
    "duration": 0,
    "start_time": "2023-06-11T22:28:31.681Z"
   },
   {
    "duration": 0,
    "start_time": "2023-06-11T22:28:31.682Z"
   },
   {
    "duration": 0,
    "start_time": "2023-06-11T22:28:31.683Z"
   },
   {
    "duration": 0,
    "start_time": "2023-06-11T22:28:31.683Z"
   },
   {
    "duration": 0,
    "start_time": "2023-06-11T22:28:31.684Z"
   },
   {
    "duration": 0,
    "start_time": "2023-06-11T22:28:31.687Z"
   },
   {
    "duration": 0,
    "start_time": "2023-06-11T22:28:31.688Z"
   },
   {
    "duration": 0,
    "start_time": "2023-06-11T22:28:31.689Z"
   },
   {
    "duration": 0,
    "start_time": "2023-06-11T22:28:31.697Z"
   },
   {
    "duration": 0,
    "start_time": "2023-06-11T22:28:31.698Z"
   },
   {
    "duration": 0,
    "start_time": "2023-06-11T22:28:31.700Z"
   },
   {
    "duration": 12,
    "start_time": "2023-06-11T22:28:40.938Z"
   },
   {
    "duration": 15,
    "start_time": "2023-06-11T22:28:42.590Z"
   },
   {
    "duration": 16,
    "start_time": "2023-06-11T22:28:59.547Z"
   },
   {
    "duration": 14,
    "start_time": "2023-06-11T22:29:11.541Z"
   },
   {
    "duration": 3,
    "start_time": "2023-06-11T22:29:15.189Z"
   },
   {
    "duration": 668,
    "start_time": "2023-06-11T22:29:15.194Z"
   },
   {
    "duration": 25,
    "start_time": "2023-06-11T22:29:15.863Z"
   },
   {
    "duration": 18,
    "start_time": "2023-06-11T22:29:15.889Z"
   },
   {
    "duration": 14,
    "start_time": "2023-06-11T22:29:15.909Z"
   },
   {
    "duration": 10,
    "start_time": "2023-06-11T22:29:15.925Z"
   },
   {
    "duration": 12,
    "start_time": "2023-06-11T22:29:15.936Z"
   },
   {
    "duration": 16,
    "start_time": "2023-06-11T22:29:15.949Z"
   },
   {
    "duration": 15,
    "start_time": "2023-06-11T22:29:15.966Z"
   },
   {
    "duration": 18,
    "start_time": "2023-06-11T22:29:15.983Z"
   },
   {
    "duration": 14,
    "start_time": "2023-06-11T22:29:16.003Z"
   },
   {
    "duration": 17,
    "start_time": "2023-06-11T22:29:16.019Z"
   },
   {
    "duration": 219,
    "start_time": "2023-06-11T22:29:16.037Z"
   },
   {
    "duration": 4,
    "start_time": "2023-06-11T22:29:16.258Z"
   },
   {
    "duration": 27,
    "start_time": "2023-06-11T22:29:16.263Z"
   },
   {
    "duration": 6,
    "start_time": "2023-06-11T22:29:16.292Z"
   },
   {
    "duration": 112,
    "start_time": "2023-06-11T22:29:16.300Z"
   },
   {
    "duration": 0,
    "start_time": "2023-06-11T22:29:16.414Z"
   },
   {
    "duration": 0,
    "start_time": "2023-06-11T22:29:16.414Z"
   },
   {
    "duration": 0,
    "start_time": "2023-06-11T22:29:16.415Z"
   },
   {
    "duration": 0,
    "start_time": "2023-06-11T22:29:16.416Z"
   },
   {
    "duration": 0,
    "start_time": "2023-06-11T22:29:16.417Z"
   },
   {
    "duration": 0,
    "start_time": "2023-06-11T22:29:16.418Z"
   },
   {
    "duration": 0,
    "start_time": "2023-06-11T22:29:16.419Z"
   },
   {
    "duration": 0,
    "start_time": "2023-06-11T22:29:16.420Z"
   },
   {
    "duration": 0,
    "start_time": "2023-06-11T22:29:16.420Z"
   },
   {
    "duration": 0,
    "start_time": "2023-06-11T22:29:16.421Z"
   },
   {
    "duration": 0,
    "start_time": "2023-06-11T22:29:16.422Z"
   },
   {
    "duration": 0,
    "start_time": "2023-06-11T22:29:16.422Z"
   },
   {
    "duration": 0,
    "start_time": "2023-06-11T22:29:16.424Z"
   },
   {
    "duration": 0,
    "start_time": "2023-06-11T22:29:16.424Z"
   },
   {
    "duration": 0,
    "start_time": "2023-06-11T22:29:16.425Z"
   },
   {
    "duration": 0,
    "start_time": "2023-06-11T22:29:16.426Z"
   },
   {
    "duration": 0,
    "start_time": "2023-06-11T22:29:16.427Z"
   },
   {
    "duration": 0,
    "start_time": "2023-06-11T22:29:16.428Z"
   },
   {
    "duration": 0,
    "start_time": "2023-06-11T22:29:16.429Z"
   },
   {
    "duration": 0,
    "start_time": "2023-06-11T22:29:16.430Z"
   },
   {
    "duration": 0,
    "start_time": "2023-06-11T22:29:16.431Z"
   },
   {
    "duration": 0,
    "start_time": "2023-06-11T22:29:16.432Z"
   },
   {
    "duration": 13,
    "start_time": "2023-06-11T22:29:23.685Z"
   },
   {
    "duration": 13,
    "start_time": "2023-06-11T22:29:25.923Z"
   },
   {
    "duration": 125,
    "start_time": "2023-06-11T22:30:30.637Z"
   },
   {
    "duration": 876,
    "start_time": "2023-06-11T22:30:40.460Z"
   },
   {
    "duration": 4,
    "start_time": "2023-06-11T22:30:47.264Z"
   },
   {
    "duration": 750,
    "start_time": "2023-06-11T22:30:47.270Z"
   },
   {
    "duration": 19,
    "start_time": "2023-06-11T22:30:48.022Z"
   },
   {
    "duration": 32,
    "start_time": "2023-06-11T22:30:48.043Z"
   },
   {
    "duration": 21,
    "start_time": "2023-06-11T22:30:48.077Z"
   },
   {
    "duration": 10,
    "start_time": "2023-06-11T22:30:48.100Z"
   },
   {
    "duration": 14,
    "start_time": "2023-06-11T22:30:48.111Z"
   },
   {
    "duration": 51,
    "start_time": "2023-06-11T22:30:48.127Z"
   },
   {
    "duration": 6,
    "start_time": "2023-06-11T22:30:48.180Z"
   },
   {
    "duration": 85,
    "start_time": "2023-06-11T22:30:48.187Z"
   },
   {
    "duration": 14,
    "start_time": "2023-06-11T22:30:48.274Z"
   },
   {
    "duration": 32,
    "start_time": "2023-06-11T22:30:48.290Z"
   },
   {
    "duration": 561,
    "start_time": "2023-06-11T22:30:48.324Z"
   },
   {
    "duration": 4,
    "start_time": "2023-06-11T22:30:48.890Z"
   },
   {
    "duration": 12,
    "start_time": "2023-06-11T22:30:48.896Z"
   },
   {
    "duration": 15,
    "start_time": "2023-06-11T22:30:48.909Z"
   },
   {
    "duration": 1276,
    "start_time": "2023-06-11T22:30:48.926Z"
   },
   {
    "duration": 389,
    "start_time": "2023-06-11T22:30:50.203Z"
   },
   {
    "duration": 0,
    "start_time": "2023-06-11T22:30:50.594Z"
   },
   {
    "duration": 0,
    "start_time": "2023-06-11T22:30:50.595Z"
   },
   {
    "duration": 0,
    "start_time": "2023-06-11T22:30:50.597Z"
   },
   {
    "duration": 0,
    "start_time": "2023-06-11T22:30:50.598Z"
   },
   {
    "duration": 0,
    "start_time": "2023-06-11T22:30:50.600Z"
   },
   {
    "duration": 0,
    "start_time": "2023-06-11T22:30:50.601Z"
   },
   {
    "duration": 0,
    "start_time": "2023-06-11T22:30:50.603Z"
   },
   {
    "duration": 0,
    "start_time": "2023-06-11T22:30:50.604Z"
   },
   {
    "duration": 0,
    "start_time": "2023-06-11T22:30:50.605Z"
   },
   {
    "duration": 0,
    "start_time": "2023-06-11T22:30:50.607Z"
   },
   {
    "duration": 0,
    "start_time": "2023-06-11T22:30:50.609Z"
   },
   {
    "duration": 0,
    "start_time": "2023-06-11T22:30:50.610Z"
   },
   {
    "duration": 0,
    "start_time": "2023-06-11T22:30:50.671Z"
   },
   {
    "duration": 0,
    "start_time": "2023-06-11T22:30:50.672Z"
   },
   {
    "duration": 0,
    "start_time": "2023-06-11T22:30:50.674Z"
   },
   {
    "duration": 0,
    "start_time": "2023-06-11T22:30:50.675Z"
   },
   {
    "duration": 0,
    "start_time": "2023-06-11T22:30:50.676Z"
   },
   {
    "duration": 0,
    "start_time": "2023-06-11T22:30:50.677Z"
   },
   {
    "duration": 0,
    "start_time": "2023-06-11T22:30:50.678Z"
   },
   {
    "duration": 0,
    "start_time": "2023-06-11T22:30:50.679Z"
   },
   {
    "duration": 0,
    "start_time": "2023-06-11T22:30:50.680Z"
   },
   {
    "duration": 9,
    "start_time": "2023-06-11T22:33:33.155Z"
   },
   {
    "duration": 12,
    "start_time": "2023-06-11T22:33:36.271Z"
   },
   {
    "duration": 762,
    "start_time": "2023-06-11T22:33:37.529Z"
   },
   {
    "duration": 18,
    "start_time": "2023-06-11T22:34:42.234Z"
   },
   {
    "duration": 5,
    "start_time": "2023-06-11T22:36:47.630Z"
   },
   {
    "duration": 701,
    "start_time": "2023-06-11T22:36:49.000Z"
   },
   {
    "duration": 6,
    "start_time": "2023-06-11T22:37:05.230Z"
   },
   {
    "duration": 6,
    "start_time": "2023-06-11T22:37:06.718Z"
   },
   {
    "duration": 861,
    "start_time": "2023-06-11T22:37:07.855Z"
   },
   {
    "duration": 842,
    "start_time": "2023-06-11T22:37:13.492Z"
   },
   {
    "duration": 808,
    "start_time": "2023-06-11T22:38:24.137Z"
   },
   {
    "duration": 899,
    "start_time": "2023-06-11T22:38:39.394Z"
   },
   {
    "duration": 902,
    "start_time": "2023-06-11T22:38:47.207Z"
   },
   {
    "duration": 698,
    "start_time": "2023-06-11T22:38:59.101Z"
   },
   {
    "duration": 751,
    "start_time": "2023-06-11T22:39:02.997Z"
   },
   {
    "duration": 16,
    "start_time": "2023-06-11T22:39:22.855Z"
   },
   {
    "duration": 794,
    "start_time": "2023-06-11T22:39:25.783Z"
   },
   {
    "duration": 702,
    "start_time": "2023-06-11T22:39:35.188Z"
   },
   {
    "duration": 850,
    "start_time": "2023-06-11T22:39:42.029Z"
   },
   {
    "duration": 819,
    "start_time": "2023-06-11T22:39:47.429Z"
   },
   {
    "duration": 830,
    "start_time": "2023-06-11T22:40:23.240Z"
   },
   {
    "duration": 941,
    "start_time": "2023-06-11T22:40:40.494Z"
   },
   {
    "duration": 764,
    "start_time": "2023-06-11T22:41:17.687Z"
   },
   {
    "duration": 9,
    "start_time": "2023-06-11T22:41:42.080Z"
   },
   {
    "duration": 887,
    "start_time": "2023-06-11T22:41:44.323Z"
   },
   {
    "duration": 4,
    "start_time": "2023-06-11T22:42:01.622Z"
   },
   {
    "duration": 782,
    "start_time": "2023-06-11T22:42:01.628Z"
   },
   {
    "duration": 16,
    "start_time": "2023-06-11T22:42:02.411Z"
   },
   {
    "duration": 29,
    "start_time": "2023-06-11T22:42:02.429Z"
   },
   {
    "duration": 51,
    "start_time": "2023-06-11T22:42:02.460Z"
   },
   {
    "duration": 26,
    "start_time": "2023-06-11T22:42:02.512Z"
   },
   {
    "duration": 51,
    "start_time": "2023-06-11T22:42:02.539Z"
   },
   {
    "duration": 35,
    "start_time": "2023-06-11T22:42:02.592Z"
   },
   {
    "duration": 16,
    "start_time": "2023-06-11T22:42:02.629Z"
   },
   {
    "duration": 68,
    "start_time": "2023-06-11T22:42:02.646Z"
   },
   {
    "duration": 18,
    "start_time": "2023-06-11T22:42:02.716Z"
   },
   {
    "duration": 19,
    "start_time": "2023-06-11T22:42:02.736Z"
   },
   {
    "duration": 223,
    "start_time": "2023-06-11T22:42:02.756Z"
   },
   {
    "duration": 5,
    "start_time": "2023-06-11T22:42:02.986Z"
   },
   {
    "duration": 11,
    "start_time": "2023-06-11T22:42:02.993Z"
   },
   {
    "duration": 1294,
    "start_time": "2023-06-11T22:42:03.006Z"
   },
   {
    "duration": 991,
    "start_time": "2023-06-11T22:42:04.301Z"
   },
   {
    "duration": 793,
    "start_time": "2023-06-11T22:42:05.294Z"
   },
   {
    "duration": 697,
    "start_time": "2023-06-11T22:42:06.090Z"
   },
   {
    "duration": 5,
    "start_time": "2023-06-11T22:42:06.789Z"
   },
   {
    "duration": 26,
    "start_time": "2023-06-11T22:42:06.796Z"
   },
   {
    "duration": 705,
    "start_time": "2023-06-11T22:42:06.823Z"
   },
   {
    "duration": 4,
    "start_time": "2023-06-11T22:42:07.530Z"
   },
   {
    "duration": 520,
    "start_time": "2023-06-11T22:42:07.536Z"
   },
   {
    "duration": 5,
    "start_time": "2023-06-11T22:42:08.058Z"
   },
   {
    "duration": 503,
    "start_time": "2023-06-11T22:42:08.071Z"
   },
   {
    "duration": 11,
    "start_time": "2023-06-11T22:42:08.584Z"
   },
   {
    "duration": 12,
    "start_time": "2023-06-11T22:42:08.596Z"
   },
   {
    "duration": 4,
    "start_time": "2023-06-11T22:42:08.610Z"
   },
   {
    "duration": 10,
    "start_time": "2023-06-11T22:42:08.615Z"
   },
   {
    "duration": 6,
    "start_time": "2023-06-11T22:42:08.627Z"
   },
   {
    "duration": 25,
    "start_time": "2023-06-11T22:42:08.635Z"
   },
   {
    "duration": 32,
    "start_time": "2023-06-11T22:42:08.662Z"
   },
   {
    "duration": 23,
    "start_time": "2023-06-11T22:42:08.695Z"
   },
   {
    "duration": 2264,
    "start_time": "2023-06-11T22:42:08.720Z"
   },
   {
    "duration": 13017,
    "start_time": "2023-06-11T22:42:10.988Z"
   },
   {
    "duration": 297,
    "start_time": "2023-06-11T22:42:24.007Z"
   },
   {
    "duration": 7,
    "start_time": "2023-06-11T22:42:24.306Z"
   },
   {
    "duration": 812,
    "start_time": "2023-06-11T22:43:20.964Z"
   },
   {
    "duration": 980,
    "start_time": "2023-06-11T22:43:28.585Z"
   },
   {
    "duration": 742,
    "start_time": "2023-06-11T22:43:32.447Z"
   },
   {
    "duration": 678,
    "start_time": "2023-06-11T22:43:46.208Z"
   },
   {
    "duration": 896,
    "start_time": "2023-06-11T22:43:56.424Z"
   },
   {
    "duration": 688,
    "start_time": "2023-06-11T23:01:21.588Z"
   },
   {
    "duration": 888,
    "start_time": "2023-06-11T23:01:25.683Z"
   },
   {
    "duration": 13,
    "start_time": "2023-06-11T23:01:42.089Z"
   },
   {
    "duration": 112,
    "start_time": "2023-06-11T23:01:57.396Z"
   },
   {
    "duration": 131,
    "start_time": "2023-06-11T23:02:18.177Z"
   },
   {
    "duration": 31843,
    "start_time": "2023-06-11T23:02:31.383Z"
   },
   {
    "duration": 3,
    "start_time": "2023-06-11T23:03:40.036Z"
   },
   {
    "duration": 493,
    "start_time": "2023-06-11T23:03:52.543Z"
   },
   {
    "duration": 3226,
    "start_time": "2023-06-11T23:04:19.819Z"
   },
   {
    "duration": 12,
    "start_time": "2023-06-11T23:04:40.480Z"
   },
   {
    "duration": 9,
    "start_time": "2023-06-11T23:04:43.085Z"
   },
   {
    "duration": 10,
    "start_time": "2023-06-11T23:05:01.289Z"
   },
   {
    "duration": 149,
    "start_time": "2023-06-11T23:05:19.643Z"
   },
   {
    "duration": 257,
    "start_time": "2023-06-11T23:05:35.012Z"
   },
   {
    "duration": 404,
    "start_time": "2023-06-11T23:05:45.301Z"
   },
   {
    "duration": 902,
    "start_time": "2023-06-11T23:06:03.713Z"
   },
   {
    "duration": 850,
    "start_time": "2023-06-11T23:06:11.407Z"
   },
   {
    "duration": 699,
    "start_time": "2023-06-11T23:06:18.288Z"
   },
   {
    "duration": 900,
    "start_time": "2023-06-11T23:06:23.843Z"
   },
   {
    "duration": 519,
    "start_time": "2023-06-11T23:06:31.018Z"
   },
   {
    "duration": 777,
    "start_time": "2023-06-11T23:06:38.325Z"
   },
   {
    "duration": 984,
    "start_time": "2023-06-11T23:06:45.545Z"
   },
   {
    "duration": 972,
    "start_time": "2023-06-11T23:06:54.514Z"
   },
   {
    "duration": 866,
    "start_time": "2023-06-11T23:07:01.522Z"
   },
   {
    "duration": 3306,
    "start_time": "2023-06-11T23:07:23.703Z"
   },
   {
    "duration": 991,
    "start_time": "2023-06-11T23:07:42.558Z"
   },
   {
    "duration": 970,
    "start_time": "2023-06-11T23:09:13.706Z"
   },
   {
    "duration": 896,
    "start_time": "2023-06-11T23:09:19.887Z"
   },
   {
    "duration": 867,
    "start_time": "2023-06-11T23:09:26.518Z"
   },
   {
    "duration": 1075,
    "start_time": "2023-06-11T23:09:29.669Z"
   },
   {
    "duration": 1218,
    "start_time": "2023-06-11T23:09:33.678Z"
   },
   {
    "duration": 9,
    "start_time": "2023-06-11T23:10:38.973Z"
   },
   {
    "duration": 165,
    "start_time": "2023-06-11T23:10:40.560Z"
   },
   {
    "duration": 91,
    "start_time": "2023-06-11T23:10:57.786Z"
   },
   {
    "duration": 5,
    "start_time": "2023-06-11T23:11:05.379Z"
   },
   {
    "duration": 7,
    "start_time": "2023-06-11T23:11:07.082Z"
   },
   {
    "duration": 5,
    "start_time": "2023-06-11T23:11:26.139Z"
   },
   {
    "duration": 505,
    "start_time": "2023-06-11T23:11:28.569Z"
   },
   {
    "duration": 486,
    "start_time": "2023-06-11T23:11:38.185Z"
   },
   {
    "duration": 602,
    "start_time": "2023-06-11T23:11:43.319Z"
   },
   {
    "duration": 489,
    "start_time": "2023-06-11T23:11:56.821Z"
   },
   {
    "duration": 473,
    "start_time": "2023-06-11T23:12:09.492Z"
   },
   {
    "duration": 5,
    "start_time": "2023-06-11T23:12:15.885Z"
   },
   {
    "duration": 522,
    "start_time": "2023-06-11T23:12:17.116Z"
   },
   {
    "duration": 141,
    "start_time": "2023-06-11T23:12:40.175Z"
   },
   {
    "duration": 167,
    "start_time": "2023-06-11T23:12:46.850Z"
   },
   {
    "duration": 605,
    "start_time": "2023-06-11T23:13:15.346Z"
   },
   {
    "duration": 545,
    "start_time": "2023-06-11T23:13:24.248Z"
   },
   {
    "duration": 3564,
    "start_time": "2023-06-11T23:13:41.056Z"
   },
   {
    "duration": 114,
    "start_time": "2023-06-11T23:15:02.099Z"
   },
   {
    "duration": 5,
    "start_time": "2023-06-11T23:15:04.775Z"
   },
   {
    "duration": 576,
    "start_time": "2023-06-11T23:15:06.269Z"
   },
   {
    "duration": 119,
    "start_time": "2023-06-11T23:16:01.122Z"
   },
   {
    "duration": 6,
    "start_time": "2023-06-11T23:16:03.372Z"
   },
   {
    "duration": 597,
    "start_time": "2023-06-11T23:16:04.884Z"
   },
   {
    "duration": 9,
    "start_time": "2023-06-11T23:21:19.599Z"
   },
   {
    "duration": 4,
    "start_time": "2023-06-11T23:21:29.227Z"
   },
   {
    "duration": 715,
    "start_time": "2023-06-11T23:21:29.232Z"
   },
   {
    "duration": 26,
    "start_time": "2023-06-11T23:21:29.948Z"
   },
   {
    "duration": 12,
    "start_time": "2023-06-11T23:21:29.976Z"
   },
   {
    "duration": 17,
    "start_time": "2023-06-11T23:21:29.990Z"
   },
   {
    "duration": 21,
    "start_time": "2023-06-11T23:21:30.009Z"
   },
   {
    "duration": 62,
    "start_time": "2023-06-11T23:21:30.032Z"
   },
   {
    "duration": 53,
    "start_time": "2023-06-11T23:21:30.096Z"
   },
   {
    "duration": 20,
    "start_time": "2023-06-11T23:21:30.151Z"
   },
   {
    "duration": 46,
    "start_time": "2023-06-11T23:21:30.173Z"
   },
   {
    "duration": 21,
    "start_time": "2023-06-11T23:21:30.221Z"
   },
   {
    "duration": 36,
    "start_time": "2023-06-11T23:21:30.243Z"
   },
   {
    "duration": 240,
    "start_time": "2023-06-11T23:21:30.281Z"
   },
   {
    "duration": 51,
    "start_time": "2023-06-11T23:21:30.524Z"
   },
   {
    "duration": 33,
    "start_time": "2023-06-11T23:21:30.577Z"
   },
   {
    "duration": 1175,
    "start_time": "2023-06-11T23:21:30.613Z"
   },
   {
    "duration": 1028,
    "start_time": "2023-06-11T23:21:31.790Z"
   },
   {
    "duration": 833,
    "start_time": "2023-06-11T23:21:32.820Z"
   },
   {
    "duration": 1229,
    "start_time": "2023-06-11T23:21:33.655Z"
   },
   {
    "duration": 5,
    "start_time": "2023-06-11T23:21:34.886Z"
   },
   {
    "duration": 656,
    "start_time": "2023-06-11T23:21:34.893Z"
   },
   {
    "duration": 5,
    "start_time": "2023-06-11T23:21:35.552Z"
   },
   {
    "duration": 620,
    "start_time": "2023-06-11T23:21:35.558Z"
   },
   {
    "duration": 5,
    "start_time": "2023-06-11T23:21:36.179Z"
   },
   {
    "duration": 609,
    "start_time": "2023-06-11T23:21:36.186Z"
   },
   {
    "duration": 7,
    "start_time": "2023-06-11T23:21:36.797Z"
   },
   {
    "duration": 11,
    "start_time": "2023-06-11T23:21:36.805Z"
   },
   {
    "duration": 22,
    "start_time": "2023-06-11T23:21:36.818Z"
   },
   {
    "duration": 7,
    "start_time": "2023-06-11T23:21:36.841Z"
   },
   {
    "duration": 23,
    "start_time": "2023-06-11T23:21:36.849Z"
   },
   {
    "duration": 9,
    "start_time": "2023-06-11T23:21:36.873Z"
   },
   {
    "duration": 11,
    "start_time": "2023-06-11T23:21:36.884Z"
   },
   {
    "duration": 16,
    "start_time": "2023-06-11T23:21:36.897Z"
   },
   {
    "duration": 20,
    "start_time": "2023-06-11T23:21:36.915Z"
   },
   {
    "duration": 1941,
    "start_time": "2023-06-11T23:21:36.937Z"
   },
   {
    "duration": 13810,
    "start_time": "2023-06-11T23:21:38.879Z"
   },
   {
    "duration": 295,
    "start_time": "2023-06-11T23:21:52.690Z"
   },
   {
    "duration": 8,
    "start_time": "2023-06-11T23:21:52.987Z"
   },
   {
    "duration": 4,
    "start_time": "2023-06-11T23:25:34.961Z"
   },
   {
    "duration": 726,
    "start_time": "2023-06-11T23:25:47.881Z"
   },
   {
    "duration": 723,
    "start_time": "2023-06-11T23:26:53.930Z"
   },
   {
    "duration": 5,
    "start_time": "2023-06-11T23:27:14.445Z"
   },
   {
    "duration": 5,
    "start_time": "2023-06-11T23:28:23.016Z"
   },
   {
    "duration": 6,
    "start_time": "2023-06-11T23:28:44.673Z"
   },
   {
    "duration": 13,
    "start_time": "2023-06-11T23:30:25.565Z"
   },
   {
    "duration": 13,
    "start_time": "2023-06-11T23:31:05.790Z"
   },
   {
    "duration": 6,
    "start_time": "2023-06-11T23:32:45.326Z"
   },
   {
    "duration": 7,
    "start_time": "2023-06-11T23:33:31.632Z"
   },
   {
    "duration": 9,
    "start_time": "2023-06-11T23:34:07.984Z"
   },
   {
    "duration": 10,
    "start_time": "2023-06-11T23:35:32.764Z"
   },
   {
    "duration": 142,
    "start_time": "2023-06-11T23:35:37.224Z"
   },
   {
    "duration": 723,
    "start_time": "2023-06-11T23:35:42.012Z"
   },
   {
    "duration": 12,
    "start_time": "2023-06-11T23:36:12.814Z"
   },
   {
    "duration": 9,
    "start_time": "2023-06-11T23:36:29.675Z"
   },
   {
    "duration": 12,
    "start_time": "2023-06-11T23:36:39.791Z"
   },
   {
    "duration": 11,
    "start_time": "2023-06-11T23:36:57.116Z"
   },
   {
    "duration": 141,
    "start_time": "2023-06-11T23:37:44.541Z"
   },
   {
    "duration": 10,
    "start_time": "2023-06-11T23:37:46.639Z"
   },
   {
    "duration": 710,
    "start_time": "2023-06-11T23:37:48.022Z"
   },
   {
    "duration": 145,
    "start_time": "2023-06-11T23:37:52.338Z"
   },
   {
    "duration": 598,
    "start_time": "2023-06-11T23:38:01.374Z"
   },
   {
    "duration": 10,
    "start_time": "2023-06-11T23:38:06.048Z"
   },
   {
    "duration": 4,
    "start_time": "2023-06-11T23:38:10.031Z"
   },
   {
    "duration": 748,
    "start_time": "2023-06-11T23:38:10.037Z"
   },
   {
    "duration": 15,
    "start_time": "2023-06-11T23:38:10.787Z"
   },
   {
    "duration": 11,
    "start_time": "2023-06-11T23:38:10.804Z"
   },
   {
    "duration": 15,
    "start_time": "2023-06-11T23:38:10.816Z"
   },
   {
    "duration": 7,
    "start_time": "2023-06-11T23:38:10.832Z"
   },
   {
    "duration": 32,
    "start_time": "2023-06-11T23:38:10.840Z"
   },
   {
    "duration": 18,
    "start_time": "2023-06-11T23:38:10.874Z"
   },
   {
    "duration": 5,
    "start_time": "2023-06-11T23:38:10.893Z"
   },
   {
    "duration": 18,
    "start_time": "2023-06-11T23:38:10.899Z"
   },
   {
    "duration": 13,
    "start_time": "2023-06-11T23:38:10.918Z"
   },
   {
    "duration": 13,
    "start_time": "2023-06-11T23:38:10.932Z"
   },
   {
    "duration": 238,
    "start_time": "2023-06-11T23:38:10.972Z"
   },
   {
    "duration": 6,
    "start_time": "2023-06-11T23:38:11.212Z"
   },
   {
    "duration": 11,
    "start_time": "2023-06-11T23:38:11.219Z"
   },
   {
    "duration": 1057,
    "start_time": "2023-06-11T23:38:11.231Z"
   },
   {
    "duration": 1088,
    "start_time": "2023-06-11T23:38:12.290Z"
   },
   {
    "duration": 928,
    "start_time": "2023-06-11T23:38:13.380Z"
   },
   {
    "duration": 1187,
    "start_time": "2023-06-11T23:38:14.309Z"
   },
   {
    "duration": 5,
    "start_time": "2023-06-11T23:38:15.498Z"
   },
   {
    "duration": 608,
    "start_time": "2023-06-11T23:38:15.505Z"
   },
   {
    "duration": 5,
    "start_time": "2023-06-11T23:38:16.114Z"
   },
   {
    "duration": 602,
    "start_time": "2023-06-11T23:38:16.121Z"
   },
   {
    "duration": 4,
    "start_time": "2023-06-11T23:38:16.725Z"
   },
   {
    "duration": 621,
    "start_time": "2023-06-11T23:38:16.731Z"
   },
   {
    "duration": 5,
    "start_time": "2023-06-11T23:38:17.354Z"
   },
   {
    "duration": 597,
    "start_time": "2023-06-11T23:38:17.361Z"
   },
   {
    "duration": 28,
    "start_time": "2023-06-11T23:38:17.960Z"
   },
   {
    "duration": 0,
    "start_time": "2023-06-11T23:38:17.989Z"
   },
   {
    "duration": 0,
    "start_time": "2023-06-11T23:38:17.990Z"
   },
   {
    "duration": 0,
    "start_time": "2023-06-11T23:38:17.992Z"
   },
   {
    "duration": 0,
    "start_time": "2023-06-11T23:38:17.992Z"
   },
   {
    "duration": 0,
    "start_time": "2023-06-11T23:38:17.993Z"
   },
   {
    "duration": 0,
    "start_time": "2023-06-11T23:38:17.994Z"
   },
   {
    "duration": 0,
    "start_time": "2023-06-11T23:38:17.995Z"
   },
   {
    "duration": 0,
    "start_time": "2023-06-11T23:38:17.996Z"
   },
   {
    "duration": 0,
    "start_time": "2023-06-11T23:38:17.997Z"
   },
   {
    "duration": 0,
    "start_time": "2023-06-11T23:38:17.998Z"
   },
   {
    "duration": 0,
    "start_time": "2023-06-11T23:38:17.999Z"
   },
   {
    "duration": 0,
    "start_time": "2023-06-11T23:38:18.000Z"
   },
   {
    "duration": 0,
    "start_time": "2023-06-11T23:38:18.001Z"
   },
   {
    "duration": 6,
    "start_time": "2023-06-11T23:38:27.843Z"
   },
   {
    "duration": 10,
    "start_time": "2023-06-11T23:38:37.900Z"
   },
   {
    "duration": 15,
    "start_time": "2023-06-11T23:39:33.593Z"
   },
   {
    "duration": 14,
    "start_time": "2023-06-11T23:39:37.982Z"
   },
   {
    "duration": 9,
    "start_time": "2023-06-11T23:39:59.157Z"
   },
   {
    "duration": 14,
    "start_time": "2023-06-11T23:40:04.283Z"
   },
   {
    "duration": 15,
    "start_time": "2023-06-11T23:40:38.672Z"
   },
   {
    "duration": 15,
    "start_time": "2023-06-11T23:40:49.678Z"
   },
   {
    "duration": 5,
    "start_time": "2023-06-11T23:41:34.987Z"
   },
   {
    "duration": 11,
    "start_time": "2023-06-11T23:41:54.933Z"
   },
   {
    "duration": 10,
    "start_time": "2023-06-11T23:41:59.190Z"
   },
   {
    "duration": 15,
    "start_time": "2023-06-11T23:42:03.747Z"
   },
   {
    "duration": 23,
    "start_time": "2023-06-11T23:42:35.086Z"
   },
   {
    "duration": 18,
    "start_time": "2023-06-11T23:42:44.351Z"
   },
   {
    "duration": 18,
    "start_time": "2023-06-11T23:42:49.734Z"
   },
   {
    "duration": 17,
    "start_time": "2023-06-11T23:42:55.137Z"
   },
   {
    "duration": 19,
    "start_time": "2023-06-11T23:43:00.516Z"
   },
   {
    "duration": 5,
    "start_time": "2023-06-11T23:47:12.859Z"
   },
   {
    "duration": 677,
    "start_time": "2023-06-11T23:47:12.866Z"
   },
   {
    "duration": 16,
    "start_time": "2023-06-11T23:47:13.545Z"
   },
   {
    "duration": 12,
    "start_time": "2023-06-11T23:47:13.571Z"
   },
   {
    "duration": 20,
    "start_time": "2023-06-11T23:47:13.585Z"
   },
   {
    "duration": 8,
    "start_time": "2023-06-11T23:47:13.607Z"
   },
   {
    "duration": 11,
    "start_time": "2023-06-11T23:47:13.617Z"
   },
   {
    "duration": 27,
    "start_time": "2023-06-11T23:47:13.630Z"
   },
   {
    "duration": 10,
    "start_time": "2023-06-11T23:47:13.671Z"
   },
   {
    "duration": 47,
    "start_time": "2023-06-11T23:47:13.683Z"
   },
   {
    "duration": 16,
    "start_time": "2023-06-11T23:47:13.732Z"
   },
   {
    "duration": 19,
    "start_time": "2023-06-11T23:47:13.750Z"
   },
   {
    "duration": 505,
    "start_time": "2023-06-11T23:47:13.771Z"
   },
   {
    "duration": 6,
    "start_time": "2023-06-11T23:47:14.278Z"
   },
   {
    "duration": 12,
    "start_time": "2023-06-11T23:47:14.286Z"
   },
   {
    "duration": 4976,
    "start_time": "2023-06-11T23:47:14.299Z"
   },
   {
    "duration": 814,
    "start_time": "2023-06-11T23:47:19.277Z"
   },
   {
    "duration": 832,
    "start_time": "2023-06-11T23:47:20.093Z"
   },
   {
    "duration": 1223,
    "start_time": "2023-06-11T23:47:20.927Z"
   },
   {
    "duration": 6,
    "start_time": "2023-06-11T23:47:22.152Z"
   },
   {
    "duration": 630,
    "start_time": "2023-06-11T23:47:22.172Z"
   },
   {
    "duration": 5,
    "start_time": "2023-06-11T23:47:22.804Z"
   },
   {
    "duration": 606,
    "start_time": "2023-06-11T23:47:22.811Z"
   },
   {
    "duration": 5,
    "start_time": "2023-06-11T23:47:23.420Z"
   },
   {
    "duration": 625,
    "start_time": "2023-06-11T23:47:23.426Z"
   },
   {
    "duration": 6,
    "start_time": "2023-06-11T23:47:24.053Z"
   },
   {
    "duration": 615,
    "start_time": "2023-06-11T23:47:24.060Z"
   },
   {
    "duration": 9,
    "start_time": "2023-06-11T23:47:24.677Z"
   },
   {
    "duration": 24,
    "start_time": "2023-06-11T23:47:24.688Z"
   },
   {
    "duration": 5,
    "start_time": "2023-06-11T23:47:24.713Z"
   },
   {
    "duration": 7,
    "start_time": "2023-06-11T23:47:24.719Z"
   },
   {
    "duration": 25,
    "start_time": "2023-06-11T23:47:24.727Z"
   },
   {
    "duration": 14,
    "start_time": "2023-06-11T23:47:24.753Z"
   },
   {
    "duration": 30,
    "start_time": "2023-06-11T23:47:24.769Z"
   },
   {
    "duration": 19,
    "start_time": "2023-06-11T23:47:24.800Z"
   },
   {
    "duration": 2355,
    "start_time": "2023-06-11T23:47:24.821Z"
   },
   {
    "duration": 12359,
    "start_time": "2023-06-11T23:47:27.178Z"
   },
   {
    "duration": 296,
    "start_time": "2023-06-11T23:47:39.538Z"
   },
   {
    "duration": 9,
    "start_time": "2023-06-11T23:47:39.836Z"
   },
   {
    "duration": 14,
    "start_time": "2023-06-11T23:48:59.517Z"
   },
   {
    "duration": 4,
    "start_time": "2023-06-11T23:49:16.491Z"
   },
   {
    "duration": 693,
    "start_time": "2023-06-11T23:49:16.498Z"
   },
   {
    "duration": 15,
    "start_time": "2023-06-11T23:49:17.193Z"
   },
   {
    "duration": 11,
    "start_time": "2023-06-11T23:49:17.209Z"
   },
   {
    "duration": 26,
    "start_time": "2023-06-11T23:49:17.222Z"
   },
   {
    "duration": 6,
    "start_time": "2023-06-11T23:49:17.250Z"
   },
   {
    "duration": 5,
    "start_time": "2023-06-11T23:49:17.276Z"
   },
   {
    "duration": 31,
    "start_time": "2023-06-11T23:49:17.282Z"
   },
   {
    "duration": 6,
    "start_time": "2023-06-11T23:49:17.315Z"
   },
   {
    "duration": 21,
    "start_time": "2023-06-11T23:49:17.322Z"
   },
   {
    "duration": 13,
    "start_time": "2023-06-11T23:49:17.345Z"
   },
   {
    "duration": 14,
    "start_time": "2023-06-11T23:49:17.360Z"
   },
   {
    "duration": 240,
    "start_time": "2023-06-11T23:49:17.376Z"
   },
   {
    "duration": 5,
    "start_time": "2023-06-11T23:49:17.619Z"
   },
   {
    "duration": 24,
    "start_time": "2023-06-11T23:49:17.625Z"
   },
   {
    "duration": 1056,
    "start_time": "2023-06-11T23:49:17.650Z"
   },
   {
    "duration": 1090,
    "start_time": "2023-06-11T23:49:18.708Z"
   },
   {
    "duration": 1116,
    "start_time": "2023-06-11T23:49:19.800Z"
   },
   {
    "duration": 1320,
    "start_time": "2023-06-11T23:49:20.917Z"
   },
   {
    "duration": 5,
    "start_time": "2023-06-11T23:49:22.239Z"
   },
   {
    "duration": 645,
    "start_time": "2023-06-11T23:49:22.246Z"
   },
   {
    "duration": 9,
    "start_time": "2023-06-11T23:49:22.892Z"
   },
   {
    "duration": 155,
    "start_time": "2023-06-11T23:49:22.903Z"
   },
   {
    "duration": 0,
    "start_time": "2023-06-11T23:49:23.059Z"
   },
   {
    "duration": 0,
    "start_time": "2023-06-11T23:49:23.060Z"
   },
   {
    "duration": 0,
    "start_time": "2023-06-11T23:49:23.061Z"
   },
   {
    "duration": 0,
    "start_time": "2023-06-11T23:49:23.062Z"
   },
   {
    "duration": 0,
    "start_time": "2023-06-11T23:49:23.063Z"
   },
   {
    "duration": 0,
    "start_time": "2023-06-11T23:49:23.072Z"
   },
   {
    "duration": 0,
    "start_time": "2023-06-11T23:49:23.073Z"
   },
   {
    "duration": 0,
    "start_time": "2023-06-11T23:49:23.074Z"
   },
   {
    "duration": 0,
    "start_time": "2023-06-11T23:49:23.075Z"
   },
   {
    "duration": 0,
    "start_time": "2023-06-11T23:49:23.076Z"
   },
   {
    "duration": 0,
    "start_time": "2023-06-11T23:49:23.077Z"
   },
   {
    "duration": 0,
    "start_time": "2023-06-11T23:49:23.078Z"
   },
   {
    "duration": 0,
    "start_time": "2023-06-11T23:49:23.079Z"
   },
   {
    "duration": 0,
    "start_time": "2023-06-11T23:49:23.080Z"
   },
   {
    "duration": 0,
    "start_time": "2023-06-11T23:49:23.081Z"
   },
   {
    "duration": 0,
    "start_time": "2023-06-11T23:49:23.082Z"
   },
   {
    "duration": 619,
    "start_time": "2023-06-11T23:49:32.345Z"
   },
   {
    "duration": 16,
    "start_time": "2023-06-11T23:50:02.230Z"
   },
   {
    "duration": 23,
    "start_time": "2023-06-11T23:51:14.932Z"
   },
   {
    "duration": 16,
    "start_time": "2023-06-11T23:51:30.924Z"
   },
   {
    "duration": 16,
    "start_time": "2023-06-11T23:51:45.184Z"
   },
   {
    "duration": 16,
    "start_time": "2023-06-11T23:51:49.451Z"
   },
   {
    "duration": 3,
    "start_time": "2023-06-11T23:56:02.660Z"
   },
   {
    "duration": 6,
    "start_time": "2023-06-12T00:00:28.070Z"
   },
   {
    "duration": 4,
    "start_time": "2023-06-12T00:00:30.973Z"
   },
   {
    "duration": 703,
    "start_time": "2023-06-12T00:00:30.978Z"
   },
   {
    "duration": 18,
    "start_time": "2023-06-12T00:00:31.683Z"
   },
   {
    "duration": 27,
    "start_time": "2023-06-12T00:00:31.704Z"
   },
   {
    "duration": 29,
    "start_time": "2023-06-12T00:00:31.733Z"
   },
   {
    "duration": 12,
    "start_time": "2023-06-12T00:00:31.764Z"
   },
   {
    "duration": 27,
    "start_time": "2023-06-12T00:00:31.778Z"
   },
   {
    "duration": 21,
    "start_time": "2023-06-12T00:00:31.807Z"
   },
   {
    "duration": 13,
    "start_time": "2023-06-12T00:00:31.830Z"
   },
   {
    "duration": 26,
    "start_time": "2023-06-12T00:00:31.845Z"
   },
   {
    "duration": 20,
    "start_time": "2023-06-12T00:00:31.873Z"
   },
   {
    "duration": 19,
    "start_time": "2023-06-12T00:00:31.895Z"
   },
   {
    "duration": 211,
    "start_time": "2023-06-12T00:00:31.916Z"
   },
   {
    "duration": 5,
    "start_time": "2023-06-12T00:00:32.130Z"
   },
   {
    "duration": 21,
    "start_time": "2023-06-12T00:00:32.137Z"
   },
   {
    "duration": 711,
    "start_time": "2023-06-12T00:00:32.160Z"
   },
   {
    "duration": 800,
    "start_time": "2023-06-12T00:00:32.873Z"
   },
   {
    "duration": 784,
    "start_time": "2023-06-12T00:00:33.675Z"
   },
   {
    "duration": 1225,
    "start_time": "2023-06-12T00:00:34.461Z"
   },
   {
    "duration": 5,
    "start_time": "2023-06-12T00:00:35.688Z"
   },
   {
    "duration": 643,
    "start_time": "2023-06-12T00:00:35.694Z"
   },
   {
    "duration": 5,
    "start_time": "2023-06-12T00:00:36.339Z"
   },
   {
    "duration": 148,
    "start_time": "2023-06-12T00:00:36.346Z"
   },
   {
    "duration": 0,
    "start_time": "2023-06-12T00:00:36.496Z"
   },
   {
    "duration": 0,
    "start_time": "2023-06-12T00:00:36.497Z"
   },
   {
    "duration": 0,
    "start_time": "2023-06-12T00:00:36.498Z"
   },
   {
    "duration": 0,
    "start_time": "2023-06-12T00:00:36.499Z"
   },
   {
    "duration": 0,
    "start_time": "2023-06-12T00:00:36.500Z"
   },
   {
    "duration": 0,
    "start_time": "2023-06-12T00:00:36.501Z"
   },
   {
    "duration": 0,
    "start_time": "2023-06-12T00:00:36.502Z"
   },
   {
    "duration": 0,
    "start_time": "2023-06-12T00:00:36.503Z"
   },
   {
    "duration": 0,
    "start_time": "2023-06-12T00:00:36.504Z"
   },
   {
    "duration": 0,
    "start_time": "2023-06-12T00:00:36.505Z"
   },
   {
    "duration": 0,
    "start_time": "2023-06-12T00:00:36.507Z"
   },
   {
    "duration": 0,
    "start_time": "2023-06-12T00:00:36.507Z"
   },
   {
    "duration": 0,
    "start_time": "2023-06-12T00:00:36.509Z"
   },
   {
    "duration": 0,
    "start_time": "2023-06-12T00:00:36.509Z"
   },
   {
    "duration": 0,
    "start_time": "2023-06-12T00:00:36.510Z"
   },
   {
    "duration": 0,
    "start_time": "2023-06-12T00:00:36.511Z"
   },
   {
    "duration": 5,
    "start_time": "2023-06-12T00:01:08.338Z"
   },
   {
    "duration": 710,
    "start_time": "2023-06-12T00:01:08.345Z"
   },
   {
    "duration": 26,
    "start_time": "2023-06-12T00:01:09.056Z"
   },
   {
    "duration": 13,
    "start_time": "2023-06-12T00:01:09.083Z"
   },
   {
    "duration": 21,
    "start_time": "2023-06-12T00:01:09.098Z"
   },
   {
    "duration": 7,
    "start_time": "2023-06-12T00:01:09.120Z"
   },
   {
    "duration": 19,
    "start_time": "2023-06-12T00:01:09.129Z"
   },
   {
    "duration": 30,
    "start_time": "2023-06-12T00:01:09.150Z"
   },
   {
    "duration": 5,
    "start_time": "2023-06-12T00:01:09.182Z"
   },
   {
    "duration": 34,
    "start_time": "2023-06-12T00:01:09.188Z"
   },
   {
    "duration": 16,
    "start_time": "2023-06-12T00:01:09.224Z"
   },
   {
    "duration": 36,
    "start_time": "2023-06-12T00:01:09.242Z"
   },
   {
    "duration": 224,
    "start_time": "2023-06-12T00:01:09.285Z"
   },
   {
    "duration": 6,
    "start_time": "2023-06-12T00:01:09.512Z"
   },
   {
    "duration": 26,
    "start_time": "2023-06-12T00:01:09.520Z"
   },
   {
    "duration": 824,
    "start_time": "2023-06-12T00:01:09.548Z"
   },
   {
    "duration": 999,
    "start_time": "2023-06-12T00:01:10.374Z"
   },
   {
    "duration": 1197,
    "start_time": "2023-06-12T00:01:11.375Z"
   },
   {
    "duration": 1719,
    "start_time": "2023-06-12T00:01:12.573Z"
   },
   {
    "duration": 5,
    "start_time": "2023-06-12T00:01:14.293Z"
   },
   {
    "duration": 695,
    "start_time": "2023-06-12T00:01:14.300Z"
   },
   {
    "duration": 5,
    "start_time": "2023-06-12T00:01:14.997Z"
   },
   {
    "duration": 733,
    "start_time": "2023-06-12T00:01:15.004Z"
   },
   {
    "duration": 5,
    "start_time": "2023-06-12T00:01:15.740Z"
   },
   {
    "duration": 684,
    "start_time": "2023-06-12T00:01:15.746Z"
   },
   {
    "duration": 5,
    "start_time": "2023-06-12T00:01:16.432Z"
   },
   {
    "duration": 646,
    "start_time": "2023-06-12T00:01:16.439Z"
   },
   {
    "duration": 13,
    "start_time": "2023-06-12T00:01:17.088Z"
   },
   {
    "duration": 43,
    "start_time": "2023-06-12T00:01:17.104Z"
   },
   {
    "duration": 12,
    "start_time": "2023-06-12T00:01:17.149Z"
   },
   {
    "duration": 38,
    "start_time": "2023-06-12T00:01:17.163Z"
   },
   {
    "duration": 32,
    "start_time": "2023-06-12T00:01:17.203Z"
   },
   {
    "duration": 18,
    "start_time": "2023-06-12T00:01:17.237Z"
   },
   {
    "duration": 38,
    "start_time": "2023-06-12T00:01:17.257Z"
   },
   {
    "duration": 43,
    "start_time": "2023-06-12T00:01:17.297Z"
   },
   {
    "duration": 2435,
    "start_time": "2023-06-12T00:01:17.341Z"
   },
   {
    "duration": 15240,
    "start_time": "2023-06-12T00:01:19.778Z"
   },
   {
    "duration": 321,
    "start_time": "2023-06-12T00:01:35.020Z"
   },
   {
    "duration": 10,
    "start_time": "2023-06-12T00:01:35.342Z"
   },
   {
    "duration": 937,
    "start_time": "2023-06-12T00:03:05.000Z"
   },
   {
    "duration": 17,
    "start_time": "2023-06-12T00:09:00.895Z"
   },
   {
    "duration": 11,
    "start_time": "2023-06-12T00:09:21.906Z"
   },
   {
    "duration": 17,
    "start_time": "2023-06-12T00:10:05.449Z"
   },
   {
    "duration": 12,
    "start_time": "2023-06-12T00:10:13.050Z"
   },
   {
    "duration": 2469,
    "start_time": "2023-06-12T00:11:58.404Z"
   },
   {
    "duration": 2738,
    "start_time": "2023-06-12T00:12:05.438Z"
   },
   {
    "duration": 5,
    "start_time": "2023-06-12T00:13:42.785Z"
   },
   {
    "duration": 801,
    "start_time": "2023-06-12T00:13:42.792Z"
   },
   {
    "duration": 19,
    "start_time": "2023-06-12T00:13:43.595Z"
   },
   {
    "duration": 15,
    "start_time": "2023-06-12T00:13:43.616Z"
   },
   {
    "duration": 45,
    "start_time": "2023-06-12T00:13:43.634Z"
   },
   {
    "duration": 9,
    "start_time": "2023-06-12T00:13:43.681Z"
   },
   {
    "duration": 5,
    "start_time": "2023-06-12T00:13:43.692Z"
   },
   {
    "duration": 16,
    "start_time": "2023-06-12T00:13:43.699Z"
   },
   {
    "duration": 6,
    "start_time": "2023-06-12T00:13:43.717Z"
   },
   {
    "duration": 49,
    "start_time": "2023-06-12T00:13:43.724Z"
   },
   {
    "duration": 13,
    "start_time": "2023-06-12T00:13:43.775Z"
   },
   {
    "duration": 17,
    "start_time": "2023-06-12T00:13:43.790Z"
   },
   {
    "duration": 564,
    "start_time": "2023-06-12T00:13:43.809Z"
   },
   {
    "duration": 6,
    "start_time": "2023-06-12T00:13:44.377Z"
   },
   {
    "duration": 14,
    "start_time": "2023-06-12T00:13:44.385Z"
   },
   {
    "duration": 1177,
    "start_time": "2023-06-12T00:13:44.401Z"
   },
   {
    "duration": 1095,
    "start_time": "2023-06-12T00:13:45.580Z"
   },
   {
    "duration": 834,
    "start_time": "2023-06-12T00:13:46.677Z"
   },
   {
    "duration": 5863,
    "start_time": "2023-06-12T00:13:47.513Z"
   },
   {
    "duration": 6,
    "start_time": "2023-06-12T00:13:53.377Z"
   },
   {
    "duration": 1102,
    "start_time": "2023-06-12T00:13:53.384Z"
   },
   {
    "duration": 7,
    "start_time": "2023-06-12T00:13:54.488Z"
   },
   {
    "duration": 1417,
    "start_time": "2023-06-12T00:13:54.497Z"
   },
   {
    "duration": 5,
    "start_time": "2023-06-12T00:13:55.916Z"
   },
   {
    "duration": 759,
    "start_time": "2023-06-12T00:13:55.923Z"
   },
   {
    "duration": 6,
    "start_time": "2023-06-12T00:13:56.684Z"
   },
   {
    "duration": 810,
    "start_time": "2023-06-12T00:13:56.692Z"
   },
   {
    "duration": 11,
    "start_time": "2023-06-12T00:13:57.505Z"
   },
   {
    "duration": 15,
    "start_time": "2023-06-12T00:13:57.518Z"
   },
   {
    "duration": 9,
    "start_time": "2023-06-12T00:13:57.535Z"
   },
   {
    "duration": 28,
    "start_time": "2023-06-12T00:13:57.546Z"
   },
   {
    "duration": 21,
    "start_time": "2023-06-12T00:13:57.576Z"
   },
   {
    "duration": 7,
    "start_time": "2023-06-12T00:13:57.599Z"
   },
   {
    "duration": 15,
    "start_time": "2023-06-12T00:13:57.608Z"
   },
   {
    "duration": 2856,
    "start_time": "2023-06-12T00:13:57.626Z"
   },
   {
    "duration": 14681,
    "start_time": "2023-06-12T00:14:00.484Z"
   },
   {
    "duration": 349,
    "start_time": "2023-06-12T00:14:15.167Z"
   },
   {
    "duration": 8,
    "start_time": "2023-06-12T00:14:15.518Z"
   },
   {
    "duration": 23079,
    "start_time": "2023-06-12T00:17:09.293Z"
   },
   {
    "duration": 1430,
    "start_time": "2023-06-12T00:18:03.282Z"
   },
   {
    "duration": 1094,
    "start_time": "2023-06-12T00:18:04.714Z"
   },
   {
    "duration": 72,
    "start_time": "2023-06-12T00:18:05.810Z"
   },
   {
    "duration": 88,
    "start_time": "2023-06-12T00:18:05.884Z"
   },
   {
    "duration": 17,
    "start_time": "2023-06-12T00:18:05.974Z"
   },
   {
    "duration": 18,
    "start_time": "2023-06-12T00:18:05.993Z"
   },
   {
    "duration": 61,
    "start_time": "2023-06-12T00:18:06.012Z"
   },
   {
    "duration": 25,
    "start_time": "2023-06-12T00:18:06.074Z"
   },
   {
    "duration": 16,
    "start_time": "2023-06-12T00:18:06.101Z"
   },
   {
    "duration": 67,
    "start_time": "2023-06-12T00:18:06.119Z"
   },
   {
    "duration": 23,
    "start_time": "2023-06-12T00:18:06.188Z"
   },
   {
    "duration": 68,
    "start_time": "2023-06-12T00:18:06.213Z"
   },
   {
    "duration": 358,
    "start_time": "2023-06-12T00:18:06.282Z"
   },
   {
    "duration": 6,
    "start_time": "2023-06-12T00:18:06.671Z"
   },
   {
    "duration": 9,
    "start_time": "2023-06-12T00:18:06.678Z"
   },
   {
    "duration": 790,
    "start_time": "2023-06-12T00:18:06.688Z"
   },
   {
    "duration": 792,
    "start_time": "2023-06-12T00:18:07.480Z"
   },
   {
    "duration": 881,
    "start_time": "2023-06-12T00:18:08.274Z"
   },
   {
    "duration": 1389,
    "start_time": "2023-06-12T00:18:09.157Z"
   },
   {
    "duration": 6,
    "start_time": "2023-06-12T00:18:10.547Z"
   },
   {
    "duration": 686,
    "start_time": "2023-06-12T00:18:10.554Z"
   },
   {
    "duration": 5,
    "start_time": "2023-06-12T00:18:11.241Z"
   },
   {
    "duration": 683,
    "start_time": "2023-06-12T00:18:11.247Z"
   },
   {
    "duration": 5,
    "start_time": "2023-06-12T00:18:11.932Z"
   },
   {
    "duration": 809,
    "start_time": "2023-06-12T00:18:11.938Z"
   },
   {
    "duration": 5,
    "start_time": "2023-06-12T00:18:12.749Z"
   },
   {
    "duration": 621,
    "start_time": "2023-06-12T00:18:12.755Z"
   },
   {
    "duration": 11,
    "start_time": "2023-06-12T00:18:13.378Z"
   },
   {
    "duration": 29,
    "start_time": "2023-06-12T00:18:13.390Z"
   },
   {
    "duration": 25,
    "start_time": "2023-06-12T00:18:13.421Z"
   },
   {
    "duration": 32,
    "start_time": "2023-06-12T00:18:13.447Z"
   },
   {
    "duration": 20,
    "start_time": "2023-06-12T00:18:13.481Z"
   },
   {
    "duration": 22,
    "start_time": "2023-06-12T00:18:13.502Z"
   },
   {
    "duration": 22,
    "start_time": "2023-06-12T00:18:13.526Z"
   },
   {
    "duration": 139,
    "start_time": "2023-06-12T00:18:13.550Z"
   },
   {
    "duration": 0,
    "start_time": "2023-06-12T00:18:13.690Z"
   },
   {
    "duration": 0,
    "start_time": "2023-06-12T00:18:13.691Z"
   },
   {
    "duration": 0,
    "start_time": "2023-06-12T00:18:13.692Z"
   },
   {
    "duration": 15,
    "start_time": "2023-06-12T00:19:51.188Z"
   },
   {
    "duration": 5,
    "start_time": "2023-06-12T00:19:54.473Z"
   },
   {
    "duration": 3853,
    "start_time": "2023-06-12T00:19:56.235Z"
   },
   {
    "duration": 11,
    "start_time": "2023-06-12T00:20:15.701Z"
   },
   {
    "duration": 8661,
    "start_time": "2023-06-12T00:20:36.921Z"
   },
   {
    "duration": 417,
    "start_time": "2023-06-12T00:20:55.518Z"
   },
   {
    "duration": 432,
    "start_time": "2023-06-12T00:21:09.299Z"
   },
   {
    "duration": 212,
    "start_time": "2023-06-12T00:22:01.601Z"
   },
   {
    "duration": 474,
    "start_time": "2023-06-12T00:23:11.743Z"
   },
   {
    "duration": 1396,
    "start_time": "2023-06-12T00:23:24.605Z"
   },
   {
    "duration": 749,
    "start_time": "2023-06-12T00:23:26.004Z"
   },
   {
    "duration": 25,
    "start_time": "2023-06-12T00:23:26.755Z"
   },
   {
    "duration": 13,
    "start_time": "2023-06-12T00:23:26.783Z"
   },
   {
    "duration": 17,
    "start_time": "2023-06-12T00:23:26.797Z"
   },
   {
    "duration": 7,
    "start_time": "2023-06-12T00:23:26.816Z"
   },
   {
    "duration": 6,
    "start_time": "2023-06-12T00:23:26.825Z"
   },
   {
    "duration": 54,
    "start_time": "2023-06-12T00:23:26.833Z"
   },
   {
    "duration": 6,
    "start_time": "2023-06-12T00:23:26.889Z"
   },
   {
    "duration": 45,
    "start_time": "2023-06-12T00:23:26.899Z"
   },
   {
    "duration": 13,
    "start_time": "2023-06-12T00:23:26.945Z"
   },
   {
    "duration": 14,
    "start_time": "2023-06-12T00:23:26.960Z"
   },
   {
    "duration": 249,
    "start_time": "2023-06-12T00:23:26.976Z"
   },
   {
    "duration": 5,
    "start_time": "2023-06-12T00:23:27.226Z"
   },
   {
    "duration": 8,
    "start_time": "2023-06-12T00:23:27.233Z"
   },
   {
    "duration": 837,
    "start_time": "2023-06-12T00:23:27.243Z"
   },
   {
    "duration": 807,
    "start_time": "2023-06-12T00:23:28.082Z"
   },
   {
    "duration": 858,
    "start_time": "2023-06-12T00:23:28.891Z"
   },
   {
    "duration": 1398,
    "start_time": "2023-06-12T00:23:29.751Z"
   },
   {
    "duration": 4,
    "start_time": "2023-06-12T00:23:31.151Z"
   },
   {
    "duration": 695,
    "start_time": "2023-06-12T00:23:31.157Z"
   },
   {
    "duration": 5,
    "start_time": "2023-06-12T00:23:31.854Z"
   },
   {
    "duration": 571,
    "start_time": "2023-06-12T00:23:31.872Z"
   },
   {
    "duration": 5,
    "start_time": "2023-06-12T00:23:32.444Z"
   },
   {
    "duration": 733,
    "start_time": "2023-06-12T00:23:32.450Z"
   },
   {
    "duration": 5,
    "start_time": "2023-06-12T00:23:33.185Z"
   },
   {
    "duration": 587,
    "start_time": "2023-06-12T00:23:33.192Z"
   },
   {
    "duration": 10,
    "start_time": "2023-06-12T00:23:33.783Z"
   },
   {
    "duration": 12,
    "start_time": "2023-06-12T00:23:33.794Z"
   },
   {
    "duration": 7,
    "start_time": "2023-06-12T00:23:33.807Z"
   },
   {
    "duration": 5,
    "start_time": "2023-06-12T00:23:33.816Z"
   },
   {
    "duration": 8,
    "start_time": "2023-06-12T00:23:33.823Z"
   },
   {
    "duration": 42,
    "start_time": "2023-06-12T00:23:33.833Z"
   },
   {
    "duration": 2402,
    "start_time": "2023-06-12T00:23:33.877Z"
   },
   {
    "duration": 8828,
    "start_time": "2023-06-12T00:23:36.281Z"
   },
   {
    "duration": 622,
    "start_time": "2023-06-12T00:23:45.111Z"
   },
   {
    "duration": 488,
    "start_time": "2023-06-12T00:23:57.565Z"
   },
   {
    "duration": 15,
    "start_time": "2023-06-12T00:24:47.047Z"
   },
   {
    "duration": 13,
    "start_time": "2023-06-12T00:25:02.185Z"
   },
   {
    "duration": 13,
    "start_time": "2023-06-12T00:25:07.081Z"
   },
   {
    "duration": 8,
    "start_time": "2023-06-12T00:25:24.245Z"
   },
   {
    "duration": 1375,
    "start_time": "2023-06-12T00:26:38.038Z"
   },
   {
    "duration": 1367,
    "start_time": "2023-06-12T00:26:39.415Z"
   },
   {
    "duration": 18,
    "start_time": "2023-06-12T00:26:40.783Z"
   },
   {
    "duration": 69,
    "start_time": "2023-06-12T00:26:40.803Z"
   },
   {
    "duration": 20,
    "start_time": "2023-06-12T00:26:40.874Z"
   },
   {
    "duration": 9,
    "start_time": "2023-06-12T00:26:40.895Z"
   },
   {
    "duration": 5,
    "start_time": "2023-06-12T00:26:40.905Z"
   },
   {
    "duration": 72,
    "start_time": "2023-06-12T00:26:40.911Z"
   },
   {
    "duration": 7,
    "start_time": "2023-06-12T00:26:40.985Z"
   },
   {
    "duration": 29,
    "start_time": "2023-06-12T00:26:40.994Z"
   },
   {
    "duration": 13,
    "start_time": "2023-06-12T00:26:41.072Z"
   },
   {
    "duration": 14,
    "start_time": "2023-06-12T00:26:41.086Z"
   },
   {
    "duration": 316,
    "start_time": "2023-06-12T00:26:41.102Z"
   },
   {
    "duration": 5,
    "start_time": "2023-06-12T00:26:41.421Z"
   },
   {
    "duration": 15,
    "start_time": "2023-06-12T00:26:41.428Z"
   },
   {
    "duration": 882,
    "start_time": "2023-06-12T00:26:41.444Z"
   },
   {
    "duration": 854,
    "start_time": "2023-06-12T00:26:42.327Z"
   },
   {
    "duration": 1007,
    "start_time": "2023-06-12T00:26:43.184Z"
   },
   {
    "duration": 1544,
    "start_time": "2023-06-12T00:26:44.193Z"
   },
   {
    "duration": 5,
    "start_time": "2023-06-12T00:26:45.739Z"
   },
   {
    "duration": 741,
    "start_time": "2023-06-12T00:26:45.745Z"
   },
   {
    "duration": 5,
    "start_time": "2023-06-12T00:26:46.488Z"
   },
   {
    "duration": 731,
    "start_time": "2023-06-12T00:26:46.495Z"
   },
   {
    "duration": 4,
    "start_time": "2023-06-12T00:26:47.229Z"
   },
   {
    "duration": 898,
    "start_time": "2023-06-12T00:26:47.235Z"
   },
   {
    "duration": 5,
    "start_time": "2023-06-12T00:26:48.135Z"
   },
   {
    "duration": 711,
    "start_time": "2023-06-12T00:26:48.142Z"
   },
   {
    "duration": 21,
    "start_time": "2023-06-12T00:26:48.855Z"
   },
   {
    "duration": 18,
    "start_time": "2023-06-12T00:26:48.878Z"
   },
   {
    "duration": 14,
    "start_time": "2023-06-12T00:26:48.898Z"
   },
   {
    "duration": 20,
    "start_time": "2023-06-12T00:26:48.913Z"
   },
   {
    "duration": 11,
    "start_time": "2023-06-12T00:26:48.935Z"
   },
   {
    "duration": 25,
    "start_time": "2023-06-12T00:26:48.947Z"
   },
   {
    "duration": 3001,
    "start_time": "2023-06-12T00:26:48.974Z"
   },
   {
    "duration": 8991,
    "start_time": "2023-06-12T00:26:51.977Z"
   },
   {
    "duration": 417,
    "start_time": "2023-06-12T00:27:00.972Z"
   },
   {
    "duration": 9,
    "start_time": "2023-06-12T00:27:01.391Z"
   },
   {
    "duration": 8,
    "start_time": "2023-06-12T00:28:00.269Z"
   },
   {
    "duration": 332,
    "start_time": "2023-06-12T00:28:44.454Z"
   },
   {
    "duration": 1396,
    "start_time": "2023-06-12T00:28:49.953Z"
   },
   {
    "duration": 2122,
    "start_time": "2023-06-12T00:28:53.754Z"
   },
   {
    "duration": 1362,
    "start_time": "2023-06-12T00:30:15.423Z"
   },
   {
    "duration": 730,
    "start_time": "2023-06-12T00:30:16.787Z"
   },
   {
    "duration": 19,
    "start_time": "2023-06-12T00:30:17.519Z"
   },
   {
    "duration": 13,
    "start_time": "2023-06-12T00:30:17.540Z"
   },
   {
    "duration": 18,
    "start_time": "2023-06-12T00:30:17.573Z"
   },
   {
    "duration": 8,
    "start_time": "2023-06-12T00:30:17.593Z"
   },
   {
    "duration": 13,
    "start_time": "2023-06-12T00:30:17.602Z"
   },
   {
    "duration": 21,
    "start_time": "2023-06-12T00:30:17.617Z"
   },
   {
    "duration": 7,
    "start_time": "2023-06-12T00:30:17.640Z"
   },
   {
    "duration": 31,
    "start_time": "2023-06-12T00:30:17.648Z"
   },
   {
    "duration": 12,
    "start_time": "2023-06-12T00:30:17.681Z"
   },
   {
    "duration": 21,
    "start_time": "2023-06-12T00:30:17.694Z"
   },
   {
    "duration": 234,
    "start_time": "2023-06-12T00:30:17.717Z"
   },
   {
    "duration": 5,
    "start_time": "2023-06-12T00:30:17.954Z"
   },
   {
    "duration": 13,
    "start_time": "2023-06-12T00:30:17.961Z"
   },
   {
    "duration": 794,
    "start_time": "2023-06-12T00:30:17.976Z"
   },
   {
    "duration": 694,
    "start_time": "2023-06-12T00:30:18.772Z"
   },
   {
    "duration": 888,
    "start_time": "2023-06-12T00:30:19.467Z"
   },
   {
    "duration": 1293,
    "start_time": "2023-06-12T00:30:20.357Z"
   },
   {
    "duration": 4,
    "start_time": "2023-06-12T00:30:21.652Z"
   },
   {
    "duration": 626,
    "start_time": "2023-06-12T00:30:21.657Z"
   },
   {
    "duration": 5,
    "start_time": "2023-06-12T00:30:22.285Z"
   },
   {
    "duration": 577,
    "start_time": "2023-06-12T00:30:22.291Z"
   },
   {
    "duration": 4,
    "start_time": "2023-06-12T00:30:22.871Z"
   },
   {
    "duration": 753,
    "start_time": "2023-06-12T00:30:22.876Z"
   },
   {
    "duration": 5,
    "start_time": "2023-06-12T00:30:23.631Z"
   },
   {
    "duration": 603,
    "start_time": "2023-06-12T00:30:23.638Z"
   },
   {
    "duration": 13,
    "start_time": "2023-06-12T00:30:24.243Z"
   },
   {
    "duration": 27,
    "start_time": "2023-06-12T00:30:24.257Z"
   },
   {
    "duration": 8,
    "start_time": "2023-06-12T00:30:24.285Z"
   },
   {
    "duration": 7,
    "start_time": "2023-06-12T00:30:24.295Z"
   },
   {
    "duration": 19,
    "start_time": "2023-06-12T00:30:24.304Z"
   },
   {
    "duration": 29,
    "start_time": "2023-06-12T00:30:24.325Z"
   },
   {
    "duration": 2621,
    "start_time": "2023-06-12T00:30:24.355Z"
   },
   {
    "duration": 8157,
    "start_time": "2023-06-12T00:30:26.978Z"
   },
   {
    "duration": 292,
    "start_time": "2023-06-12T00:30:35.136Z"
   },
   {
    "duration": 8,
    "start_time": "2023-06-12T00:30:35.429Z"
   },
   {
    "duration": 2291,
    "start_time": "2023-06-12T00:32:00.468Z"
   },
   {
    "duration": 280,
    "start_time": "2023-06-12T00:32:30.693Z"
   },
   {
    "duration": 2952,
    "start_time": "2023-06-12T00:36:44.821Z"
   },
   {
    "duration": 8144,
    "start_time": "2023-06-12T00:36:55.091Z"
   },
   {
    "duration": 87,
    "start_time": "2023-06-12T00:38:55.959Z"
   },
   {
    "duration": 94,
    "start_time": "2023-06-12T00:39:05.436Z"
   },
   {
    "duration": 90,
    "start_time": "2023-06-12T00:39:22.452Z"
   },
   {
    "duration": 7947,
    "start_time": "2023-06-12T00:39:26.244Z"
   },
   {
    "duration": 8054,
    "start_time": "2023-06-12T00:39:56.763Z"
   },
   {
    "duration": 59283,
    "start_time": "2023-06-12T00:40:14.376Z"
   },
   {
    "duration": 0,
    "start_time": "2023-06-12T00:41:57.457Z"
   },
   {
    "duration": 30933,
    "start_time": "2023-06-12T00:42:01.925Z"
   },
   {
    "duration": 9090,
    "start_time": "2023-06-12T00:42:41.094Z"
   },
   {
    "duration": 277,
    "start_time": "2023-06-12T00:43:08.699Z"
   },
   {
    "duration": 4,
    "start_time": "2023-06-12T01:27:55.868Z"
   },
   {
    "duration": 697,
    "start_time": "2023-06-12T01:27:55.875Z"
   },
   {
    "duration": 747,
    "start_time": "2023-06-12T01:27:56.574Z"
   },
   {
    "duration": 12,
    "start_time": "2023-06-12T01:27:57.323Z"
   },
   {
    "duration": 36,
    "start_time": "2023-06-12T01:27:57.337Z"
   },
   {
    "duration": 8,
    "start_time": "2023-06-12T01:27:57.374Z"
   },
   {
    "duration": 14,
    "start_time": "2023-06-12T01:27:57.383Z"
   },
   {
    "duration": 17,
    "start_time": "2023-06-12T01:27:57.399Z"
   },
   {
    "duration": 6,
    "start_time": "2023-06-12T01:27:57.417Z"
   },
   {
    "duration": 20,
    "start_time": "2023-06-12T01:27:57.425Z"
   },
   {
    "duration": 36,
    "start_time": "2023-06-12T01:27:57.447Z"
   },
   {
    "duration": 17,
    "start_time": "2023-06-12T01:27:57.485Z"
   },
   {
    "duration": 227,
    "start_time": "2023-06-12T01:27:57.504Z"
   },
   {
    "duration": 5,
    "start_time": "2023-06-12T01:27:57.735Z"
   },
   {
    "duration": 11,
    "start_time": "2023-06-12T01:27:57.742Z"
   },
   {
    "duration": 820,
    "start_time": "2023-06-12T01:27:57.754Z"
   },
   {
    "duration": 797,
    "start_time": "2023-06-12T01:27:58.577Z"
   },
   {
    "duration": 926,
    "start_time": "2023-06-12T01:27:59.376Z"
   },
   {
    "duration": 1908,
    "start_time": "2023-06-12T01:28:00.304Z"
   },
   {
    "duration": 5,
    "start_time": "2023-06-12T01:28:02.214Z"
   },
   {
    "duration": 606,
    "start_time": "2023-06-12T01:28:02.220Z"
   },
   {
    "duration": 6,
    "start_time": "2023-06-12T01:28:02.828Z"
   },
   {
    "duration": 597,
    "start_time": "2023-06-12T01:28:02.836Z"
   },
   {
    "duration": 4,
    "start_time": "2023-06-12T01:28:03.435Z"
   },
   {
    "duration": 1306,
    "start_time": "2023-06-12T01:28:03.440Z"
   },
   {
    "duration": 5,
    "start_time": "2023-06-12T01:28:04.748Z"
   },
   {
    "duration": 617,
    "start_time": "2023-06-12T01:28:04.754Z"
   },
   {
    "duration": 11,
    "start_time": "2023-06-12T01:28:05.373Z"
   },
   {
    "duration": 25,
    "start_time": "2023-06-12T01:28:05.385Z"
   },
   {
    "duration": 15,
    "start_time": "2023-06-12T01:28:05.411Z"
   },
   {
    "duration": 19,
    "start_time": "2023-06-12T01:28:05.428Z"
   },
   {
    "duration": 22,
    "start_time": "2023-06-12T01:28:05.448Z"
   },
   {
    "duration": 46,
    "start_time": "2023-06-12T01:28:05.472Z"
   },
   {
    "duration": 2457,
    "start_time": "2023-06-12T01:28:05.520Z"
   },
   {
    "duration": 8398,
    "start_time": "2023-06-12T01:28:07.978Z"
   },
   {
    "duration": 293,
    "start_time": "2023-06-12T01:28:16.378Z"
   },
   {
    "duration": 8,
    "start_time": "2023-06-12T01:28:16.673Z"
   },
   {
    "duration": 1460,
    "start_time": "2023-06-12T01:28:44.797Z"
   },
   {
    "duration": 756,
    "start_time": "2023-06-12T01:28:46.259Z"
   },
   {
    "duration": 76,
    "start_time": "2023-06-12T01:28:47.018Z"
   },
   {
    "duration": 16,
    "start_time": "2023-06-12T01:28:47.097Z"
   },
   {
    "duration": 77,
    "start_time": "2023-06-12T01:28:47.116Z"
   },
   {
    "duration": 24,
    "start_time": "2023-06-12T01:28:47.195Z"
   },
   {
    "duration": 62,
    "start_time": "2023-06-12T01:28:47.221Z"
   },
   {
    "duration": 26,
    "start_time": "2023-06-12T01:28:47.285Z"
   },
   {
    "duration": 6,
    "start_time": "2023-06-12T01:28:47.312Z"
   },
   {
    "duration": 63,
    "start_time": "2023-06-12T01:28:47.320Z"
   },
   {
    "duration": 12,
    "start_time": "2023-06-12T01:28:47.385Z"
   },
   {
    "duration": 15,
    "start_time": "2023-06-12T01:28:47.398Z"
   },
   {
    "duration": 486,
    "start_time": "2023-06-12T01:28:47.414Z"
   },
   {
    "duration": 6,
    "start_time": "2023-06-12T01:28:47.902Z"
   },
   {
    "duration": 62,
    "start_time": "2023-06-12T01:28:47.910Z"
   },
   {
    "duration": 1121,
    "start_time": "2023-06-12T01:28:47.974Z"
   },
   {
    "duration": 1184,
    "start_time": "2023-06-12T01:28:49.096Z"
   },
   {
    "duration": 1123,
    "start_time": "2023-06-12T01:28:50.282Z"
   },
   {
    "duration": 2471,
    "start_time": "2023-06-12T01:28:51.407Z"
   },
   {
    "duration": 5,
    "start_time": "2023-06-12T01:28:53.879Z"
   },
   {
    "duration": 697,
    "start_time": "2023-06-12T01:28:53.885Z"
   },
   {
    "duration": 6,
    "start_time": "2023-06-12T01:28:54.583Z"
   },
   {
    "duration": 711,
    "start_time": "2023-06-12T01:28:54.591Z"
   },
   {
    "duration": 5,
    "start_time": "2023-06-12T01:28:55.304Z"
   },
   {
    "duration": 902,
    "start_time": "2023-06-12T01:28:55.311Z"
   },
   {
    "duration": 5,
    "start_time": "2023-06-12T01:28:56.215Z"
   },
   {
    "duration": 700,
    "start_time": "2023-06-12T01:28:56.222Z"
   },
   {
    "duration": 12,
    "start_time": "2023-06-12T01:28:56.924Z"
   },
   {
    "duration": 21,
    "start_time": "2023-06-12T01:28:56.938Z"
   },
   {
    "duration": 9,
    "start_time": "2023-06-12T01:28:56.972Z"
   },
   {
    "duration": 25,
    "start_time": "2023-06-12T01:28:56.983Z"
   },
   {
    "duration": 9,
    "start_time": "2023-06-12T01:28:57.010Z"
   },
   {
    "duration": 23,
    "start_time": "2023-06-12T01:28:57.022Z"
   },
   {
    "duration": 2727,
    "start_time": "2023-06-12T01:28:57.047Z"
   },
   {
    "duration": 8033,
    "start_time": "2023-06-12T01:28:59.777Z"
   },
   {
    "duration": 288,
    "start_time": "2023-06-12T01:29:07.812Z"
   },
   {
    "duration": 7,
    "start_time": "2023-06-12T01:29:08.102Z"
   },
   {
    "duration": 5,
    "start_time": "2023-06-12T01:29:30.950Z"
   },
   {
    "duration": 784,
    "start_time": "2023-06-12T01:29:30.958Z"
   },
   {
    "duration": 17,
    "start_time": "2023-06-12T01:29:31.744Z"
   },
   {
    "duration": 18,
    "start_time": "2023-06-12T01:29:31.771Z"
   },
   {
    "duration": 17,
    "start_time": "2023-06-12T01:29:31.791Z"
   },
   {
    "duration": 13,
    "start_time": "2023-06-12T01:29:31.810Z"
   },
   {
    "duration": 8,
    "start_time": "2023-06-12T01:29:31.825Z"
   },
   {
    "duration": 18,
    "start_time": "2023-06-12T01:29:31.835Z"
   },
   {
    "duration": 17,
    "start_time": "2023-06-12T01:29:31.855Z"
   },
   {
    "duration": 15,
    "start_time": "2023-06-12T01:29:31.876Z"
   },
   {
    "duration": 13,
    "start_time": "2023-06-12T01:29:31.893Z"
   },
   {
    "duration": 17,
    "start_time": "2023-06-12T01:29:31.907Z"
   },
   {
    "duration": 233,
    "start_time": "2023-06-12T01:29:31.926Z"
   },
   {
    "duration": 11,
    "start_time": "2023-06-12T01:29:32.161Z"
   },
   {
    "duration": 24,
    "start_time": "2023-06-12T01:29:32.173Z"
   },
   {
    "duration": 1117,
    "start_time": "2023-06-12T01:29:32.198Z"
   },
   {
    "duration": 1161,
    "start_time": "2023-06-12T01:29:33.317Z"
   },
   {
    "duration": 942,
    "start_time": "2023-06-12T01:29:34.480Z"
   },
   {
    "duration": 1317,
    "start_time": "2023-06-12T01:29:35.423Z"
   },
   {
    "duration": 0,
    "start_time": "2023-06-12T01:29:36.743Z"
   },
   {
    "duration": 0,
    "start_time": "2023-06-12T01:29:36.744Z"
   },
   {
    "duration": 0,
    "start_time": "2023-06-12T01:29:36.746Z"
   },
   {
    "duration": 0,
    "start_time": "2023-06-12T01:29:36.747Z"
   },
   {
    "duration": 0,
    "start_time": "2023-06-12T01:29:36.748Z"
   },
   {
    "duration": 0,
    "start_time": "2023-06-12T01:29:36.750Z"
   },
   {
    "duration": 0,
    "start_time": "2023-06-12T01:29:36.751Z"
   },
   {
    "duration": 0,
    "start_time": "2023-06-12T01:29:36.773Z"
   },
   {
    "duration": 0,
    "start_time": "2023-06-12T01:29:36.774Z"
   },
   {
    "duration": 0,
    "start_time": "2023-06-12T01:29:36.775Z"
   },
   {
    "duration": 0,
    "start_time": "2023-06-12T01:29:36.776Z"
   },
   {
    "duration": 0,
    "start_time": "2023-06-12T01:29:36.778Z"
   },
   {
    "duration": 0,
    "start_time": "2023-06-12T01:29:36.780Z"
   },
   {
    "duration": 0,
    "start_time": "2023-06-12T01:29:36.781Z"
   },
   {
    "duration": 0,
    "start_time": "2023-06-12T01:29:36.782Z"
   },
   {
    "duration": 0,
    "start_time": "2023-06-12T01:29:36.783Z"
   },
   {
    "duration": 0,
    "start_time": "2023-06-12T01:29:36.785Z"
   },
   {
    "duration": 0,
    "start_time": "2023-06-12T01:29:36.786Z"
   },
   {
    "duration": 6,
    "start_time": "2023-06-12T01:30:07.820Z"
   },
   {
    "duration": 738,
    "start_time": "2023-06-12T01:30:07.828Z"
   },
   {
    "duration": 16,
    "start_time": "2023-06-12T01:30:08.568Z"
   },
   {
    "duration": 22,
    "start_time": "2023-06-12T01:30:08.585Z"
   },
   {
    "duration": 16,
    "start_time": "2023-06-12T01:30:08.610Z"
   },
   {
    "duration": 7,
    "start_time": "2023-06-12T01:30:08.628Z"
   },
   {
    "duration": 6,
    "start_time": "2023-06-12T01:30:08.637Z"
   },
   {
    "duration": 41,
    "start_time": "2023-06-12T01:30:08.645Z"
   },
   {
    "duration": 5,
    "start_time": "2023-06-12T01:30:08.687Z"
   },
   {
    "duration": 26,
    "start_time": "2023-06-12T01:30:08.694Z"
   },
   {
    "duration": 14,
    "start_time": "2023-06-12T01:30:08.722Z"
   },
   {
    "duration": 36,
    "start_time": "2023-06-12T01:30:08.738Z"
   },
   {
    "duration": 218,
    "start_time": "2023-06-12T01:30:08.776Z"
   },
   {
    "duration": 6,
    "start_time": "2023-06-12T01:30:08.998Z"
   },
   {
    "duration": 33,
    "start_time": "2023-06-12T01:30:09.005Z"
   },
   {
    "duration": 792,
    "start_time": "2023-06-12T01:30:09.039Z"
   },
   {
    "duration": 849,
    "start_time": "2023-06-12T01:30:09.833Z"
   },
   {
    "duration": 784,
    "start_time": "2023-06-12T01:30:10.684Z"
   },
   {
    "duration": 1577,
    "start_time": "2023-06-12T01:30:11.472Z"
   },
   {
    "duration": 4,
    "start_time": "2023-06-12T01:30:13.051Z"
   },
   {
    "duration": 687,
    "start_time": "2023-06-12T01:30:13.057Z"
   },
   {
    "duration": 5,
    "start_time": "2023-06-12T01:30:13.745Z"
   },
   {
    "duration": 724,
    "start_time": "2023-06-12T01:30:13.752Z"
   },
   {
    "duration": 6,
    "start_time": "2023-06-12T01:30:14.478Z"
   },
   {
    "duration": 974,
    "start_time": "2023-06-12T01:30:14.485Z"
   },
   {
    "duration": 12,
    "start_time": "2023-06-12T01:30:15.461Z"
   },
   {
    "duration": 612,
    "start_time": "2023-06-12T01:30:15.475Z"
   },
   {
    "duration": 3,
    "start_time": "2023-06-12T01:30:16.089Z"
   },
   {
    "duration": 10,
    "start_time": "2023-06-12T01:30:16.094Z"
   },
   {
    "duration": 13,
    "start_time": "2023-06-12T01:30:16.107Z"
   },
   {
    "duration": 24,
    "start_time": "2023-06-12T01:30:16.121Z"
   },
   {
    "duration": 23,
    "start_time": "2023-06-12T01:30:16.146Z"
   },
   {
    "duration": 6,
    "start_time": "2023-06-12T01:30:16.170Z"
   },
   {
    "duration": 18,
    "start_time": "2023-06-12T01:30:16.178Z"
   },
   {
    "duration": 2976,
    "start_time": "2023-06-12T01:30:16.198Z"
   },
   {
    "duration": 8035,
    "start_time": "2023-06-12T01:30:19.176Z"
   },
   {
    "duration": 293,
    "start_time": "2023-06-12T01:30:27.213Z"
   },
   {
    "duration": 8,
    "start_time": "2023-06-12T01:30:27.508Z"
   },
   {
    "duration": 1449,
    "start_time": "2023-06-12T01:31:35.308Z"
   },
   {
    "duration": 731,
    "start_time": "2023-06-12T01:31:36.758Z"
   },
   {
    "duration": 20,
    "start_time": "2023-06-12T01:31:37.490Z"
   },
   {
    "duration": 11,
    "start_time": "2023-06-12T01:31:37.512Z"
   },
   {
    "duration": 19,
    "start_time": "2023-06-12T01:31:37.525Z"
   },
   {
    "duration": 33,
    "start_time": "2023-06-12T01:31:37.546Z"
   },
   {
    "duration": 8,
    "start_time": "2023-06-12T01:31:37.582Z"
   },
   {
    "duration": 32,
    "start_time": "2023-06-12T01:31:37.592Z"
   },
   {
    "duration": 9,
    "start_time": "2023-06-12T01:31:37.626Z"
   },
   {
    "duration": 25,
    "start_time": "2023-06-12T01:31:37.637Z"
   },
   {
    "duration": 17,
    "start_time": "2023-06-12T01:31:37.672Z"
   },
   {
    "duration": 21,
    "start_time": "2023-06-12T01:31:37.691Z"
   },
   {
    "duration": 244,
    "start_time": "2023-06-12T01:31:37.714Z"
   },
   {
    "duration": 16,
    "start_time": "2023-06-12T01:31:37.960Z"
   },
   {
    "duration": 14,
    "start_time": "2023-06-12T01:31:37.978Z"
   },
   {
    "duration": 792,
    "start_time": "2023-06-12T01:31:37.994Z"
   },
   {
    "duration": 695,
    "start_time": "2023-06-12T01:31:38.788Z"
   },
   {
    "duration": 882,
    "start_time": "2023-06-12T01:31:39.485Z"
   },
   {
    "duration": 1409,
    "start_time": "2023-06-12T01:31:40.374Z"
   },
   {
    "duration": 4,
    "start_time": "2023-06-12T01:31:41.786Z"
   },
   {
    "duration": 628,
    "start_time": "2023-06-12T01:31:41.792Z"
   },
   {
    "duration": 5,
    "start_time": "2023-06-12T01:31:42.422Z"
   },
   {
    "duration": 606,
    "start_time": "2023-06-12T01:31:42.429Z"
   },
   {
    "duration": 5,
    "start_time": "2023-06-12T01:31:43.038Z"
   },
   {
    "duration": 963,
    "start_time": "2023-06-12T01:31:43.044Z"
   },
   {
    "duration": 5,
    "start_time": "2023-06-12T01:31:44.009Z"
   },
   {
    "duration": 737,
    "start_time": "2023-06-12T01:31:44.015Z"
   },
   {
    "duration": 34,
    "start_time": "2023-06-12T01:31:44.753Z"
   },
   {
    "duration": 25,
    "start_time": "2023-06-12T01:31:44.790Z"
   },
   {
    "duration": 43,
    "start_time": "2023-06-12T01:31:44.819Z"
   },
   {
    "duration": 3218,
    "start_time": "2023-06-12T01:31:44.864Z"
   },
   {
    "duration": 8706,
    "start_time": "2023-06-12T01:31:48.173Z"
   },
   {
    "duration": 361,
    "start_time": "2023-06-12T01:31:56.881Z"
   },
   {
    "duration": 9,
    "start_time": "2023-06-12T01:31:57.244Z"
   },
   {
    "duration": 6,
    "start_time": "2023-06-12T01:32:18.878Z"
   },
   {
    "duration": 5,
    "start_time": "2023-06-12T01:32:47.936Z"
   },
   {
    "duration": 5,
    "start_time": "2023-06-12T01:33:06.434Z"
   },
   {
    "duration": 9,
    "start_time": "2023-06-12T01:34:33.111Z"
   },
   {
    "duration": 11,
    "start_time": "2023-06-12T01:34:42.350Z"
   },
   {
    "duration": 10,
    "start_time": "2023-06-12T01:34:46.789Z"
   },
   {
    "duration": 5,
    "start_time": "2023-06-12T01:35:28.552Z"
   },
   {
    "duration": 781,
    "start_time": "2023-06-12T01:35:28.559Z"
   },
   {
    "duration": 16,
    "start_time": "2023-06-12T01:35:29.342Z"
   },
   {
    "duration": 23,
    "start_time": "2023-06-12T01:35:29.360Z"
   },
   {
    "duration": 50,
    "start_time": "2023-06-12T01:35:29.385Z"
   },
   {
    "duration": 8,
    "start_time": "2023-06-12T01:35:29.437Z"
   },
   {
    "duration": 16,
    "start_time": "2023-06-12T01:35:29.447Z"
   },
   {
    "duration": 24,
    "start_time": "2023-06-12T01:35:29.464Z"
   },
   {
    "duration": 16,
    "start_time": "2023-06-12T01:35:29.489Z"
   },
   {
    "duration": 29,
    "start_time": "2023-06-12T01:35:29.506Z"
   },
   {
    "duration": 13,
    "start_time": "2023-06-12T01:35:29.536Z"
   },
   {
    "duration": 23,
    "start_time": "2023-06-12T01:35:29.551Z"
   },
   {
    "duration": 221,
    "start_time": "2023-06-12T01:35:29.575Z"
   },
   {
    "duration": 6,
    "start_time": "2023-06-12T01:35:29.799Z"
   },
   {
    "duration": 24,
    "start_time": "2023-06-12T01:35:29.806Z"
   },
   {
    "duration": 1579,
    "start_time": "2023-06-12T01:35:29.832Z"
   },
   {
    "duration": 1117,
    "start_time": "2023-06-12T01:35:31.413Z"
   },
   {
    "duration": 1250,
    "start_time": "2023-06-12T01:35:32.532Z"
   },
   {
    "duration": 2247,
    "start_time": "2023-06-12T01:35:33.784Z"
   },
   {
    "duration": 8,
    "start_time": "2023-06-12T01:35:36.033Z"
   },
   {
    "duration": 8,
    "start_time": "2023-06-12T01:35:36.042Z"
   },
   {
    "duration": 21,
    "start_time": "2023-06-12T01:35:36.051Z"
   },
   {
    "duration": 648,
    "start_time": "2023-06-12T01:35:36.074Z"
   },
   {
    "duration": 5,
    "start_time": "2023-06-12T01:35:36.724Z"
   },
   {
    "duration": 941,
    "start_time": "2023-06-12T01:35:36.731Z"
   },
   {
    "duration": 6,
    "start_time": "2023-06-12T01:35:37.674Z"
   },
   {
    "duration": 617,
    "start_time": "2023-06-12T01:35:37.682Z"
   },
   {
    "duration": 5,
    "start_time": "2023-06-12T01:35:38.300Z"
   },
   {
    "duration": 639,
    "start_time": "2023-06-12T01:35:38.306Z"
   },
   {
    "duration": 32,
    "start_time": "2023-06-12T01:35:38.947Z"
   },
   {
    "duration": 6,
    "start_time": "2023-06-12T01:35:38.982Z"
   },
   {
    "duration": 23,
    "start_time": "2023-06-12T01:35:38.989Z"
   },
   {
    "duration": 4273,
    "start_time": "2023-06-12T01:35:39.015Z"
   },
   {
    "duration": 9628,
    "start_time": "2023-06-12T01:35:43.290Z"
   },
   {
    "duration": 314,
    "start_time": "2023-06-12T01:35:52.920Z"
   },
   {
    "duration": 8,
    "start_time": "2023-06-12T01:35:53.235Z"
   },
   {
    "duration": 124,
    "start_time": "2023-06-12T01:36:59.482Z"
   },
   {
    "duration": 8,
    "start_time": "2023-06-12T01:37:23.619Z"
   },
   {
    "duration": 14,
    "start_time": "2023-06-12T01:41:53.715Z"
   },
   {
    "duration": 12,
    "start_time": "2023-06-12T01:43:27.900Z"
   },
   {
    "duration": 12,
    "start_time": "2023-06-12T01:44:13.046Z"
   },
   {
    "duration": 4,
    "start_time": "2023-06-12T01:44:36.383Z"
   },
   {
    "duration": 719,
    "start_time": "2023-06-12T01:44:36.389Z"
   },
   {
    "duration": 17,
    "start_time": "2023-06-12T01:44:37.109Z"
   },
   {
    "duration": 11,
    "start_time": "2023-06-12T01:44:37.128Z"
   },
   {
    "duration": 35,
    "start_time": "2023-06-12T01:44:37.142Z"
   },
   {
    "duration": 7,
    "start_time": "2023-06-12T01:44:37.178Z"
   },
   {
    "duration": 13,
    "start_time": "2023-06-12T01:44:37.186Z"
   },
   {
    "duration": 23,
    "start_time": "2023-06-12T01:44:37.201Z"
   },
   {
    "duration": 4,
    "start_time": "2023-06-12T01:44:37.226Z"
   },
   {
    "duration": 25,
    "start_time": "2023-06-12T01:44:37.232Z"
   },
   {
    "duration": 22,
    "start_time": "2023-06-12T01:44:37.259Z"
   },
   {
    "duration": 13,
    "start_time": "2023-06-12T01:44:37.282Z"
   },
   {
    "duration": 219,
    "start_time": "2023-06-12T01:44:37.296Z"
   },
   {
    "duration": 5,
    "start_time": "2023-06-12T01:44:37.518Z"
   },
   {
    "duration": 6,
    "start_time": "2023-06-12T01:44:43.932Z"
   },
   {
    "duration": 6,
    "start_time": "2023-06-12T01:45:27.594Z"
   },
   {
    "duration": 6,
    "start_time": "2023-06-12T01:46:42.584Z"
   },
   {
    "duration": 6,
    "start_time": "2023-06-12T01:48:07.688Z"
   },
   {
    "duration": 957,
    "start_time": "2023-06-12T01:48:09.672Z"
   },
   {
    "duration": 1051,
    "start_time": "2023-06-12T01:48:47.483Z"
   },
   {
    "duration": 889,
    "start_time": "2023-06-12T01:48:55.405Z"
   },
   {
    "duration": 1038,
    "start_time": "2023-06-12T01:49:42.987Z"
   },
   {
    "duration": 1073,
    "start_time": "2023-06-12T01:49:47.434Z"
   },
   {
    "duration": 6,
    "start_time": "2023-06-12T01:50:16.260Z"
   },
   {
    "duration": 1203,
    "start_time": "2023-06-12T01:50:18.786Z"
   },
   {
    "duration": 3,
    "start_time": "2023-06-12T01:50:23.496Z"
   },
   {
    "duration": 674,
    "start_time": "2023-06-12T01:50:23.501Z"
   },
   {
    "duration": 17,
    "start_time": "2023-06-12T01:50:24.177Z"
   },
   {
    "duration": 12,
    "start_time": "2023-06-12T01:50:24.196Z"
   },
   {
    "duration": 16,
    "start_time": "2023-06-12T01:50:24.210Z"
   },
   {
    "duration": 8,
    "start_time": "2023-06-12T01:50:24.227Z"
   },
   {
    "duration": 35,
    "start_time": "2023-06-12T01:50:24.237Z"
   },
   {
    "duration": 12,
    "start_time": "2023-06-12T01:50:24.274Z"
   },
   {
    "duration": 7,
    "start_time": "2023-06-12T01:50:24.288Z"
   },
   {
    "duration": 18,
    "start_time": "2023-06-12T01:50:24.296Z"
   },
   {
    "duration": 14,
    "start_time": "2023-06-12T01:50:24.316Z"
   },
   {
    "duration": 46,
    "start_time": "2023-06-12T01:50:24.332Z"
   },
   {
    "duration": 218,
    "start_time": "2023-06-12T01:50:24.380Z"
   },
   {
    "duration": 5,
    "start_time": "2023-06-12T01:50:24.602Z"
   },
   {
    "duration": 9,
    "start_time": "2023-06-12T01:50:24.609Z"
   },
   {
    "duration": 958,
    "start_time": "2023-06-12T01:50:24.620Z"
   },
   {
    "duration": 1310,
    "start_time": "2023-06-12T01:50:25.580Z"
   },
   {
    "duration": 1282,
    "start_time": "2023-06-12T01:50:26.892Z"
   },
   {
    "duration": 1296,
    "start_time": "2023-06-12T01:50:28.176Z"
   },
   {
    "duration": 7,
    "start_time": "2023-06-12T01:50:29.473Z"
   },
   {
    "duration": 23,
    "start_time": "2023-06-12T01:50:29.481Z"
   },
   {
    "duration": 15,
    "start_time": "2023-06-12T01:50:29.506Z"
   },
   {
    "duration": 1006,
    "start_time": "2023-06-12T01:50:29.522Z"
   },
   {
    "duration": 5,
    "start_time": "2023-06-12T01:50:30.530Z"
   },
   {
    "duration": 593,
    "start_time": "2023-06-12T01:50:30.536Z"
   },
   {
    "duration": 5,
    "start_time": "2023-06-12T01:50:31.131Z"
   },
   {
    "duration": 602,
    "start_time": "2023-06-12T01:50:31.137Z"
   },
   {
    "duration": 5,
    "start_time": "2023-06-12T01:50:31.741Z"
   },
   {
    "duration": 563,
    "start_time": "2023-06-12T01:50:31.748Z"
   },
   {
    "duration": 19,
    "start_time": "2023-06-12T01:50:32.313Z"
   },
   {
    "duration": 5,
    "start_time": "2023-06-12T01:50:32.333Z"
   },
   {
    "duration": 19,
    "start_time": "2023-06-12T01:50:32.339Z"
   },
   {
    "duration": 2705,
    "start_time": "2023-06-12T01:50:32.372Z"
   },
   {
    "duration": 8213,
    "start_time": "2023-06-12T01:50:35.079Z"
   },
   {
    "duration": 339,
    "start_time": "2023-06-12T01:50:43.294Z"
   },
   {
    "duration": 9,
    "start_time": "2023-06-12T01:50:43.635Z"
   },
   {
    "duration": 6,
    "start_time": "2023-06-12T01:51:55.246Z"
   },
   {
    "duration": 942,
    "start_time": "2023-06-12T01:51:57.045Z"
   },
   {
    "duration": 12,
    "start_time": "2023-06-12T01:52:03.605Z"
   },
   {
    "duration": 4,
    "start_time": "2023-06-12T01:53:01.477Z"
   },
   {
    "duration": 739,
    "start_time": "2023-06-12T01:53:01.483Z"
   },
   {
    "duration": 766,
    "start_time": "2023-06-12T01:53:02.224Z"
   },
   {
    "duration": 11,
    "start_time": "2023-06-12T01:53:02.992Z"
   },
   {
    "duration": 72,
    "start_time": "2023-06-12T01:53:03.005Z"
   },
   {
    "duration": 6,
    "start_time": "2023-06-12T01:53:03.079Z"
   },
   {
    "duration": 43,
    "start_time": "2023-06-12T01:53:03.087Z"
   },
   {
    "duration": 51,
    "start_time": "2023-06-12T01:53:03.131Z"
   },
   {
    "duration": 6,
    "start_time": "2023-06-12T01:53:03.184Z"
   },
   {
    "duration": 85,
    "start_time": "2023-06-12T01:53:03.192Z"
   },
   {
    "duration": 14,
    "start_time": "2023-06-12T01:53:03.279Z"
   },
   {
    "duration": 87,
    "start_time": "2023-06-12T01:53:03.294Z"
   },
   {
    "duration": 412,
    "start_time": "2023-06-12T01:53:03.382Z"
   },
   {
    "duration": 5,
    "start_time": "2023-06-12T01:53:03.796Z"
   },
   {
    "duration": 11,
    "start_time": "2023-06-12T01:53:03.803Z"
   },
   {
    "duration": 1077,
    "start_time": "2023-06-12T01:53:03.816Z"
   },
   {
    "duration": 900,
    "start_time": "2023-06-12T01:53:04.894Z"
   },
   {
    "duration": 979,
    "start_time": "2023-06-12T01:53:05.795Z"
   },
   {
    "duration": 1157,
    "start_time": "2023-06-12T01:53:06.775Z"
   },
   {
    "duration": 8,
    "start_time": "2023-06-12T01:53:07.934Z"
   },
   {
    "duration": 7,
    "start_time": "2023-06-12T01:53:07.943Z"
   },
   {
    "duration": 21,
    "start_time": "2023-06-12T01:53:07.952Z"
   },
   {
    "duration": 567,
    "start_time": "2023-06-12T01:53:07.975Z"
   },
   {
    "duration": 5,
    "start_time": "2023-06-12T01:53:08.543Z"
   },
   {
    "duration": 1156,
    "start_time": "2023-06-12T01:53:08.550Z"
   },
   {
    "duration": 5,
    "start_time": "2023-06-12T01:53:09.708Z"
   },
   {
    "duration": 601,
    "start_time": "2023-06-12T01:53:09.715Z"
   },
   {
    "duration": 5,
    "start_time": "2023-06-12T01:53:10.319Z"
   },
   {
    "duration": 651,
    "start_time": "2023-06-12T01:53:10.325Z"
   },
   {
    "duration": 18,
    "start_time": "2023-06-12T01:53:10.977Z"
   },
   {
    "duration": 5,
    "start_time": "2023-06-12T01:53:10.996Z"
   },
   {
    "duration": 13,
    "start_time": "2023-06-12T01:53:11.002Z"
   },
   {
    "duration": 2656,
    "start_time": "2023-06-12T01:53:11.017Z"
   },
   {
    "duration": 8109,
    "start_time": "2023-06-12T01:53:13.675Z"
   },
   {
    "duration": 287,
    "start_time": "2023-06-12T01:53:21.785Z"
   },
   {
    "duration": 8,
    "start_time": "2023-06-12T01:53:22.073Z"
   },
   {
    "duration": 893,
    "start_time": "2023-06-12T01:53:22.083Z"
   },
   {
    "duration": 6,
    "start_time": "2023-06-12T01:53:33.847Z"
   },
   {
    "duration": 923,
    "start_time": "2023-06-12T01:53:37.196Z"
   },
   {
    "duration": 3,
    "start_time": "2023-06-12T01:53:56.236Z"
   },
   {
    "duration": 770,
    "start_time": "2023-06-12T01:53:56.241Z"
   },
   {
    "duration": 18,
    "start_time": "2023-06-12T01:53:57.014Z"
   },
   {
    "duration": 13,
    "start_time": "2023-06-12T01:53:57.035Z"
   },
   {
    "duration": 25,
    "start_time": "2023-06-12T01:53:57.071Z"
   },
   {
    "duration": 9,
    "start_time": "2023-06-12T01:53:57.098Z"
   },
   {
    "duration": 19,
    "start_time": "2023-06-12T01:53:57.108Z"
   },
   {
    "duration": 50,
    "start_time": "2023-06-12T01:53:57.129Z"
   },
   {
    "duration": 27,
    "start_time": "2023-06-12T01:53:57.181Z"
   },
   {
    "duration": 71,
    "start_time": "2023-06-12T01:53:57.210Z"
   },
   {
    "duration": 15,
    "start_time": "2023-06-12T01:53:57.283Z"
   },
   {
    "duration": 72,
    "start_time": "2023-06-12T01:53:57.300Z"
   },
   {
    "duration": 507,
    "start_time": "2023-06-12T01:53:57.374Z"
   },
   {
    "duration": 6,
    "start_time": "2023-06-12T01:53:57.884Z"
   },
   {
    "duration": 23,
    "start_time": "2023-06-12T01:53:57.892Z"
   },
   {
    "duration": 1458,
    "start_time": "2023-06-12T01:53:57.917Z"
   },
   {
    "duration": 1145,
    "start_time": "2023-06-12T01:53:59.377Z"
   },
   {
    "duration": 954,
    "start_time": "2023-06-12T01:54:00.524Z"
   },
   {
    "duration": 1814,
    "start_time": "2023-06-12T01:54:01.479Z"
   },
   {
    "duration": 8,
    "start_time": "2023-06-12T01:54:03.295Z"
   },
   {
    "duration": 6,
    "start_time": "2023-06-12T01:54:03.304Z"
   },
   {
    "duration": 3,
    "start_time": "2023-06-12T01:54:03.312Z"
   },
   {
    "duration": 600,
    "start_time": "2023-06-12T01:54:03.317Z"
   },
   {
    "duration": 4,
    "start_time": "2023-06-12T01:54:03.919Z"
   },
   {
    "duration": 577,
    "start_time": "2023-06-12T01:54:03.925Z"
   },
   {
    "duration": 5,
    "start_time": "2023-06-12T01:54:04.504Z"
   },
   {
    "duration": 577,
    "start_time": "2023-06-12T01:54:04.511Z"
   },
   {
    "duration": 5,
    "start_time": "2023-06-12T01:54:05.090Z"
   },
   {
    "duration": 565,
    "start_time": "2023-06-12T01:54:05.096Z"
   },
   {
    "duration": 23,
    "start_time": "2023-06-12T01:54:05.662Z"
   },
   {
    "duration": 5,
    "start_time": "2023-06-12T01:54:05.686Z"
   },
   {
    "duration": 19,
    "start_time": "2023-06-12T01:54:05.692Z"
   },
   {
    "duration": 2363,
    "start_time": "2023-06-12T01:54:05.713Z"
   },
   {
    "duration": 8541,
    "start_time": "2023-06-12T01:54:08.077Z"
   },
   {
    "duration": 318,
    "start_time": "2023-06-12T01:54:16.620Z"
   },
   {
    "duration": 8,
    "start_time": "2023-06-12T01:54:16.939Z"
   },
   {
    "duration": 1549,
    "start_time": "2023-06-12T01:54:49.439Z"
   },
   {
    "duration": 1528,
    "start_time": "2023-06-12T01:54:50.990Z"
   },
   {
    "duration": 18,
    "start_time": "2023-06-12T01:54:52.572Z"
   },
   {
    "duration": 28,
    "start_time": "2023-06-12T01:54:52.591Z"
   },
   {
    "duration": 57,
    "start_time": "2023-06-12T01:54:52.621Z"
   },
   {
    "duration": 8,
    "start_time": "2023-06-12T01:54:52.679Z"
   },
   {
    "duration": 23,
    "start_time": "2023-06-12T01:54:52.688Z"
   },
   {
    "duration": 25,
    "start_time": "2023-06-12T01:54:52.713Z"
   },
   {
    "duration": 10,
    "start_time": "2023-06-12T01:54:52.740Z"
   },
   {
    "duration": 34,
    "start_time": "2023-06-12T01:54:52.752Z"
   },
   {
    "duration": 14,
    "start_time": "2023-06-12T01:54:52.787Z"
   },
   {
    "duration": 31,
    "start_time": "2023-06-12T01:54:52.803Z"
   },
   {
    "duration": 238,
    "start_time": "2023-06-12T01:54:52.835Z"
   },
   {
    "duration": 5,
    "start_time": "2023-06-12T01:54:53.076Z"
   },
   {
    "duration": 46,
    "start_time": "2023-06-12T01:54:53.082Z"
   },
   {
    "duration": 1054,
    "start_time": "2023-06-12T01:54:53.130Z"
   },
   {
    "duration": 1042,
    "start_time": "2023-06-12T01:54:54.185Z"
   },
   {
    "duration": 1056,
    "start_time": "2023-06-12T01:54:55.229Z"
   },
   {
    "duration": 1303,
    "start_time": "2023-06-12T01:54:56.287Z"
   },
   {
    "duration": 9,
    "start_time": "2023-06-12T01:54:57.591Z"
   },
   {
    "duration": 8,
    "start_time": "2023-06-12T01:54:57.602Z"
   },
   {
    "duration": 11,
    "start_time": "2023-06-12T01:54:57.612Z"
   },
   {
    "duration": 604,
    "start_time": "2023-06-12T01:54:57.624Z"
   },
   {
    "duration": 5,
    "start_time": "2023-06-12T01:54:58.229Z"
   },
   {
    "duration": 564,
    "start_time": "2023-06-12T01:54:58.235Z"
   },
   {
    "duration": 5,
    "start_time": "2023-06-12T01:54:58.801Z"
   },
   {
    "duration": 727,
    "start_time": "2023-06-12T01:54:58.807Z"
   },
   {
    "duration": 5,
    "start_time": "2023-06-12T01:54:59.536Z"
   },
   {
    "duration": 588,
    "start_time": "2023-06-12T01:54:59.542Z"
   },
   {
    "duration": 21,
    "start_time": "2023-06-12T01:55:00.132Z"
   },
   {
    "duration": 18,
    "start_time": "2023-06-12T01:55:00.154Z"
   },
   {
    "duration": 44,
    "start_time": "2023-06-12T01:55:00.173Z"
   },
   {
    "duration": 2752,
    "start_time": "2023-06-12T01:55:00.219Z"
   },
   {
    "duration": 10366,
    "start_time": "2023-06-12T01:55:02.973Z"
   },
   {
    "duration": 283,
    "start_time": "2023-06-12T01:55:13.340Z"
   },
   {
    "duration": 7,
    "start_time": "2023-06-12T01:55:13.624Z"
   },
   {
    "duration": 101,
    "start_time": "2023-06-12T01:55:32.622Z"
   },
   {
    "duration": 7,
    "start_time": "2023-06-12T01:55:41.046Z"
   },
   {
    "duration": 2,
    "start_time": "2023-06-12T02:04:55.603Z"
   },
   {
    "duration": 1939,
    "start_time": "2023-06-12T02:18:55.157Z"
   },
   {
    "duration": 985,
    "start_time": "2023-06-12T02:18:57.099Z"
   },
   {
    "duration": 18,
    "start_time": "2023-06-12T02:18:58.085Z"
   },
   {
    "duration": 11,
    "start_time": "2023-06-12T02:18:58.104Z"
   },
   {
    "duration": 21,
    "start_time": "2023-06-12T02:18:58.117Z"
   },
   {
    "duration": 7,
    "start_time": "2023-06-12T02:18:58.140Z"
   },
   {
    "duration": 9,
    "start_time": "2023-06-12T02:18:58.148Z"
   },
   {
    "duration": 18,
    "start_time": "2023-06-12T02:18:58.184Z"
   },
   {
    "duration": 26,
    "start_time": "2023-06-12T02:18:58.203Z"
   },
   {
    "duration": 26,
    "start_time": "2023-06-12T02:18:58.231Z"
   },
   {
    "duration": 19,
    "start_time": "2023-06-12T02:18:58.258Z"
   },
   {
    "duration": 14,
    "start_time": "2023-06-12T02:18:58.288Z"
   },
   {
    "duration": 214,
    "start_time": "2023-06-12T02:18:58.304Z"
   },
   {
    "duration": 5,
    "start_time": "2023-06-12T02:18:58.521Z"
   },
   {
    "duration": 33,
    "start_time": "2023-06-12T02:18:58.528Z"
   },
   {
    "duration": 822,
    "start_time": "2023-06-12T02:18:58.563Z"
   },
   {
    "duration": 880,
    "start_time": "2023-06-12T02:18:59.387Z"
   },
   {
    "duration": 902,
    "start_time": "2023-06-12T02:19:00.272Z"
   },
   {
    "duration": 1325,
    "start_time": "2023-06-12T02:19:01.184Z"
   },
   {
    "duration": 8,
    "start_time": "2023-06-12T02:19:02.511Z"
   },
   {
    "duration": 72,
    "start_time": "2023-06-12T02:19:02.521Z"
   },
   {
    "duration": 10,
    "start_time": "2023-06-12T02:19:02.595Z"
   },
   {
    "duration": 598,
    "start_time": "2023-06-12T02:19:02.606Z"
   },
   {
    "duration": 5,
    "start_time": "2023-06-12T02:19:03.205Z"
   },
   {
    "duration": 584,
    "start_time": "2023-06-12T02:19:03.211Z"
   },
   {
    "duration": 5,
    "start_time": "2023-06-12T02:19:03.796Z"
   },
   {
    "duration": 750,
    "start_time": "2023-06-12T02:19:03.802Z"
   },
   {
    "duration": 5,
    "start_time": "2023-06-12T02:19:04.554Z"
   },
   {
    "duration": 599,
    "start_time": "2023-06-12T02:19:04.560Z"
   },
   {
    "duration": 32,
    "start_time": "2023-06-12T02:19:05.161Z"
   },
   {
    "duration": 6,
    "start_time": "2023-06-12T02:19:05.195Z"
   },
   {
    "duration": 20,
    "start_time": "2023-06-12T02:19:05.203Z"
   },
   {
    "duration": 3665,
    "start_time": "2023-06-12T02:19:05.224Z"
   },
   {
    "duration": 9304,
    "start_time": "2023-06-12T02:19:08.891Z"
   },
   {
    "duration": 591,
    "start_time": "2023-06-12T02:19:18.197Z"
   },
   {
    "duration": 7,
    "start_time": "2023-06-12T02:19:18.790Z"
   },
   {
    "duration": 1513,
    "start_time": "2023-06-12T02:24:44.087Z"
   },
   {
    "duration": 1211,
    "start_time": "2023-06-12T02:24:45.602Z"
   },
   {
    "duration": 75,
    "start_time": "2023-06-12T02:24:46.815Z"
   },
   {
    "duration": 13,
    "start_time": "2023-06-12T02:24:46.892Z"
   },
   {
    "duration": 76,
    "start_time": "2023-06-12T02:24:46.906Z"
   },
   {
    "duration": 9,
    "start_time": "2023-06-12T02:24:46.988Z"
   },
   {
    "duration": 25,
    "start_time": "2023-06-12T02:24:46.998Z"
   },
   {
    "duration": 63,
    "start_time": "2023-06-12T02:24:47.024Z"
   },
   {
    "duration": 17,
    "start_time": "2023-06-12T02:24:47.090Z"
   },
   {
    "duration": 74,
    "start_time": "2023-06-12T02:24:47.111Z"
   },
   {
    "duration": 13,
    "start_time": "2023-06-12T02:24:47.188Z"
   },
   {
    "duration": 14,
    "start_time": "2023-06-12T02:24:47.203Z"
   },
   {
    "duration": 569,
    "start_time": "2023-06-12T02:24:47.218Z"
   },
   {
    "duration": 6,
    "start_time": "2023-06-12T02:24:47.789Z"
   },
   {
    "duration": 8,
    "start_time": "2023-06-12T02:24:47.796Z"
   },
   {
    "duration": 1086,
    "start_time": "2023-06-12T02:24:47.806Z"
   },
   {
    "duration": 894,
    "start_time": "2023-06-12T02:24:48.893Z"
   },
   {
    "duration": 896,
    "start_time": "2023-06-12T02:24:49.789Z"
   },
   {
    "duration": 1303,
    "start_time": "2023-06-12T02:24:50.687Z"
   },
   {
    "duration": 9,
    "start_time": "2023-06-12T02:24:51.992Z"
   },
   {
    "duration": 58,
    "start_time": "2023-06-12T02:24:52.003Z"
   },
   {
    "duration": 53,
    "start_time": "2023-06-12T02:24:52.063Z"
   },
   {
    "duration": 631,
    "start_time": "2023-06-12T02:24:52.118Z"
   },
   {
    "duration": 6,
    "start_time": "2023-06-12T02:24:52.750Z"
   },
   {
    "duration": 622,
    "start_time": "2023-06-12T02:24:52.757Z"
   },
   {
    "duration": 5,
    "start_time": "2023-06-12T02:24:53.384Z"
   },
   {
    "duration": 790,
    "start_time": "2023-06-12T02:24:53.391Z"
   },
   {
    "duration": 5,
    "start_time": "2023-06-12T02:24:54.187Z"
   },
   {
    "duration": 727,
    "start_time": "2023-06-12T02:24:54.193Z"
   },
   {
    "duration": 23,
    "start_time": "2023-06-12T02:24:54.922Z"
   },
   {
    "duration": 6,
    "start_time": "2023-06-12T02:24:54.946Z"
   },
   {
    "duration": 52,
    "start_time": "2023-06-12T02:24:54.953Z"
   },
   {
    "duration": 3579,
    "start_time": "2023-06-12T02:24:55.007Z"
   },
   {
    "duration": 8169,
    "start_time": "2023-06-12T02:24:58.587Z"
   },
   {
    "duration": 295,
    "start_time": "2023-06-12T02:25:06.757Z"
   },
   {
    "duration": 7,
    "start_time": "2023-06-12T02:25:07.054Z"
   },
   {
    "duration": 10,
    "start_time": "2023-06-13T05:04:50.193Z"
   },
   {
    "duration": 271,
    "start_time": "2023-06-13T05:04:56.624Z"
   },
   {
    "duration": 2280,
    "start_time": "2023-06-13T13:48:58.810Z"
   },
   {
    "duration": 3982,
    "start_time": "2023-06-13T13:49:01.093Z"
   },
   {
    "duration": 20,
    "start_time": "2023-06-13T13:49:05.077Z"
   },
   {
    "duration": 25,
    "start_time": "2023-06-13T13:49:05.099Z"
   },
   {
    "duration": 45,
    "start_time": "2023-06-13T13:49:05.127Z"
   },
   {
    "duration": 8,
    "start_time": "2023-06-13T13:49:05.174Z"
   },
   {
    "duration": 13,
    "start_time": "2023-06-13T13:49:05.183Z"
   },
   {
    "duration": 47,
    "start_time": "2023-06-13T13:49:05.198Z"
   },
   {
    "duration": 15,
    "start_time": "2023-06-13T13:49:05.247Z"
   },
   {
    "duration": 40,
    "start_time": "2023-06-13T13:49:05.264Z"
   },
   {
    "duration": 17,
    "start_time": "2023-06-13T13:49:05.305Z"
   },
   {
    "duration": 33,
    "start_time": "2023-06-13T13:49:05.323Z"
   },
   {
    "duration": 245,
    "start_time": "2023-06-13T13:49:05.358Z"
   },
   {
    "duration": 6,
    "start_time": "2023-06-13T13:49:05.607Z"
   },
   {
    "duration": 83,
    "start_time": "2023-06-13T13:49:05.614Z"
   },
   {
    "duration": 1276,
    "start_time": "2023-06-13T13:49:05.699Z"
   },
   {
    "duration": 0,
    "start_time": "2023-06-13T13:49:06.977Z"
   },
   {
    "duration": 0,
    "start_time": "2023-06-13T13:49:06.978Z"
   },
   {
    "duration": 0,
    "start_time": "2023-06-13T13:49:06.979Z"
   },
   {
    "duration": 0,
    "start_time": "2023-06-13T13:49:06.980Z"
   },
   {
    "duration": 0,
    "start_time": "2023-06-13T13:49:06.981Z"
   },
   {
    "duration": 0,
    "start_time": "2023-06-13T13:49:06.982Z"
   },
   {
    "duration": 0,
    "start_time": "2023-06-13T13:49:06.983Z"
   },
   {
    "duration": 0,
    "start_time": "2023-06-13T13:49:06.984Z"
   },
   {
    "duration": 0,
    "start_time": "2023-06-13T13:49:06.985Z"
   },
   {
    "duration": 0,
    "start_time": "2023-06-13T13:49:06.986Z"
   },
   {
    "duration": 0,
    "start_time": "2023-06-13T13:49:06.987Z"
   },
   {
    "duration": 1,
    "start_time": "2023-06-13T13:49:06.988Z"
   },
   {
    "duration": 0,
    "start_time": "2023-06-13T13:49:06.990Z"
   },
   {
    "duration": 0,
    "start_time": "2023-06-13T13:49:06.991Z"
   },
   {
    "duration": 0,
    "start_time": "2023-06-13T13:49:06.992Z"
   },
   {
    "duration": 0,
    "start_time": "2023-06-13T13:49:06.993Z"
   },
   {
    "duration": 0,
    "start_time": "2023-06-13T13:49:06.994Z"
   },
   {
    "duration": 0,
    "start_time": "2023-06-13T13:49:06.995Z"
   },
   {
    "duration": 0,
    "start_time": "2023-06-13T13:49:06.996Z"
   },
   {
    "duration": 0,
    "start_time": "2023-06-13T13:49:06.997Z"
   },
   {
    "duration": 1083,
    "start_time": "2023-06-13T13:49:29.644Z"
   },
   {
    "duration": 1218,
    "start_time": "2023-06-13T13:49:43.003Z"
   },
   {
    "duration": 1108,
    "start_time": "2023-06-13T13:49:48.334Z"
   },
   {
    "duration": 1112,
    "start_time": "2023-06-13T13:50:23.401Z"
   },
   {
    "duration": 934,
    "start_time": "2023-06-13T13:50:36.308Z"
   },
   {
    "duration": 1034,
    "start_time": "2023-06-13T13:51:13.499Z"
   },
   {
    "duration": 1067,
    "start_time": "2023-06-13T13:52:44.541Z"
   },
   {
    "duration": 1067,
    "start_time": "2023-06-13T13:52:55.745Z"
   },
   {
    "duration": 1077,
    "start_time": "2023-06-13T13:53:08.606Z"
   },
   {
    "duration": 1038,
    "start_time": "2023-06-13T13:53:17.582Z"
   },
   {
    "duration": 5,
    "start_time": "2023-06-13T13:53:52.748Z"
   },
   {
    "duration": 790,
    "start_time": "2023-06-13T13:53:52.755Z"
   },
   {
    "duration": 26,
    "start_time": "2023-06-13T13:53:53.547Z"
   },
   {
    "duration": 18,
    "start_time": "2023-06-13T13:53:53.574Z"
   },
   {
    "duration": 35,
    "start_time": "2023-06-13T13:53:53.594Z"
   },
   {
    "duration": 16,
    "start_time": "2023-06-13T13:53:53.631Z"
   },
   {
    "duration": 4,
    "start_time": "2023-06-13T13:53:53.649Z"
   },
   {
    "duration": 35,
    "start_time": "2023-06-13T13:53:53.655Z"
   },
   {
    "duration": 23,
    "start_time": "2023-06-13T13:53:53.692Z"
   },
   {
    "duration": 26,
    "start_time": "2023-06-13T13:53:53.717Z"
   },
   {
    "duration": 15,
    "start_time": "2023-06-13T13:53:53.745Z"
   },
   {
    "duration": 15,
    "start_time": "2023-06-13T13:53:53.762Z"
   },
   {
    "duration": 301,
    "start_time": "2023-06-13T13:53:53.779Z"
   },
   {
    "duration": 6,
    "start_time": "2023-06-13T13:53:54.082Z"
   },
   {
    "duration": 7,
    "start_time": "2023-06-13T13:53:54.090Z"
   },
   {
    "duration": 1677,
    "start_time": "2023-06-13T13:53:54.099Z"
   },
   {
    "duration": 1552,
    "start_time": "2023-06-13T13:53:55.778Z"
   },
   {
    "duration": 1070,
    "start_time": "2023-06-13T13:53:57.331Z"
   },
   {
    "duration": 1672,
    "start_time": "2023-06-13T13:53:58.402Z"
   },
   {
    "duration": 10,
    "start_time": "2023-06-13T13:54:00.076Z"
   },
   {
    "duration": 42,
    "start_time": "2023-06-13T13:54:00.088Z"
   },
   {
    "duration": 45,
    "start_time": "2023-06-13T13:54:00.133Z"
   },
   {
    "duration": 729,
    "start_time": "2023-06-13T13:54:00.181Z"
   },
   {
    "duration": 6,
    "start_time": "2023-06-13T13:54:00.913Z"
   },
   {
    "duration": 955,
    "start_time": "2023-06-13T13:54:00.921Z"
   },
   {
    "duration": 5,
    "start_time": "2023-06-13T13:54:01.879Z"
   },
   {
    "duration": 813,
    "start_time": "2023-06-13T13:54:01.886Z"
   },
   {
    "duration": 5,
    "start_time": "2023-06-13T13:54:02.701Z"
   },
   {
    "duration": 701,
    "start_time": "2023-06-13T13:54:02.710Z"
   },
   {
    "duration": 22,
    "start_time": "2023-06-13T13:54:03.413Z"
   },
   {
    "duration": 193,
    "start_time": "2023-06-13T13:54:03.437Z"
   },
   {
    "duration": 12,
    "start_time": "2023-06-13T13:54:03.632Z"
   },
   {
    "duration": 2814,
    "start_time": "2023-06-13T13:54:03.646Z"
   },
   {
    "duration": 9181,
    "start_time": "2023-06-13T13:54:06.556Z"
   },
   {
    "duration": 324,
    "start_time": "2023-06-13T13:54:15.738Z"
   },
   {
    "duration": 8,
    "start_time": "2023-06-13T13:54:16.064Z"
   },
   {
    "duration": 720,
    "start_time": "2023-06-13T13:54:19.094Z"
   },
   {
    "duration": 752,
    "start_time": "2023-06-13T13:54:26.597Z"
   },
   {
    "duration": 959,
    "start_time": "2023-06-13T13:55:03.303Z"
   },
   {
    "duration": 688,
    "start_time": "2023-06-13T13:55:11.859Z"
   },
   {
    "duration": 935,
    "start_time": "2023-06-13T13:55:16.987Z"
   },
   {
    "duration": 721,
    "start_time": "2023-06-13T13:55:23.084Z"
   },
   {
    "duration": 1697,
    "start_time": "2023-06-13T13:57:13.544Z"
   },
   {
    "duration": 1452,
    "start_time": "2023-06-13T13:59:55.190Z"
   },
   {
    "duration": 1243,
    "start_time": "2023-06-13T13:59:56.644Z"
   },
   {
    "duration": 68,
    "start_time": "2023-06-13T13:59:57.889Z"
   },
   {
    "duration": 14,
    "start_time": "2023-06-13T13:59:57.958Z"
   },
   {
    "duration": 19,
    "start_time": "2023-06-13T13:59:57.974Z"
   },
   {
    "duration": 67,
    "start_time": "2023-06-13T13:59:57.994Z"
   },
   {
    "duration": 5,
    "start_time": "2023-06-13T13:59:58.062Z"
   },
   {
    "duration": 27,
    "start_time": "2023-06-13T13:59:58.069Z"
   },
   {
    "duration": 7,
    "start_time": "2023-06-13T13:59:58.097Z"
   },
   {
    "duration": 15,
    "start_time": "2023-06-13T13:59:58.157Z"
   },
   {
    "duration": 15,
    "start_time": "2023-06-13T13:59:58.173Z"
   },
   {
    "duration": 72,
    "start_time": "2023-06-13T13:59:58.190Z"
   },
   {
    "duration": 505,
    "start_time": "2023-06-13T13:59:58.264Z"
   },
   {
    "duration": 6,
    "start_time": "2023-06-13T13:59:58.771Z"
   },
   {
    "duration": 20,
    "start_time": "2023-06-13T13:59:58.779Z"
   },
   {
    "duration": 1028,
    "start_time": "2023-06-13T13:59:58.800Z"
   },
   {
    "duration": 1008,
    "start_time": "2023-06-13T13:59:59.830Z"
   },
   {
    "duration": 1222,
    "start_time": "2023-06-13T14:00:00.840Z"
   },
   {
    "duration": 1791,
    "start_time": "2023-06-13T14:00:02.065Z"
   },
   {
    "duration": 10,
    "start_time": "2023-06-13T14:00:03.859Z"
   },
   {
    "duration": 31,
    "start_time": "2023-06-13T14:00:03.870Z"
   },
   {
    "duration": 57,
    "start_time": "2023-06-13T14:00:03.903Z"
   },
   {
    "duration": 1400,
    "start_time": "2023-06-13T14:00:03.962Z"
   },
   {
    "duration": 5,
    "start_time": "2023-06-13T14:00:05.364Z"
   },
   {
    "duration": 1508,
    "start_time": "2023-06-13T14:00:05.371Z"
   },
   {
    "duration": 6,
    "start_time": "2023-06-13T14:00:06.881Z"
   },
   {
    "duration": 1869,
    "start_time": "2023-06-13T14:00:06.890Z"
   },
   {
    "duration": 6,
    "start_time": "2023-06-13T14:00:08.762Z"
   },
   {
    "duration": 1500,
    "start_time": "2023-06-13T14:00:08.770Z"
   },
   {
    "duration": 23,
    "start_time": "2023-06-13T14:00:10.271Z"
   },
   {
    "duration": 62,
    "start_time": "2023-06-13T14:00:10.296Z"
   },
   {
    "duration": 96,
    "start_time": "2023-06-13T14:00:10.360Z"
   },
   {
    "duration": 3604,
    "start_time": "2023-06-13T14:00:10.458Z"
   },
   {
    "duration": 16827,
    "start_time": "2023-06-13T14:00:14.064Z"
   },
   {
    "duration": 495,
    "start_time": "2023-06-13T14:00:30.893Z"
   },
   {
    "duration": 9,
    "start_time": "2023-06-13T14:00:31.390Z"
   },
   {
    "duration": 115,
    "start_time": "2023-06-13T14:02:17.530Z"
   },
   {
    "duration": 18,
    "start_time": "2023-06-13T14:02:24.862Z"
   },
   {
    "duration": 18,
    "start_time": "2023-06-13T14:02:37.549Z"
   },
   {
    "duration": 17,
    "start_time": "2023-06-13T14:03:06.318Z"
   },
   {
    "duration": 7,
    "start_time": "2023-06-13T14:03:13.803Z"
   },
   {
    "duration": 14,
    "start_time": "2023-06-13T14:04:02.232Z"
   },
   {
    "duration": 1759,
    "start_time": "2023-06-13T14:07:33.280Z"
   },
   {
    "duration": 4,
    "start_time": "2023-06-13T14:07:58.486Z"
   },
   {
    "duration": 909,
    "start_time": "2023-06-13T14:07:58.492Z"
   },
   {
    "duration": 19,
    "start_time": "2023-06-13T14:07:59.403Z"
   },
   {
    "duration": 13,
    "start_time": "2023-06-13T14:07:59.424Z"
   },
   {
    "duration": 21,
    "start_time": "2023-06-13T14:07:59.456Z"
   },
   {
    "duration": 9,
    "start_time": "2023-06-13T14:07:59.478Z"
   },
   {
    "duration": 7,
    "start_time": "2023-06-13T14:07:59.489Z"
   },
   {
    "duration": 21,
    "start_time": "2023-06-13T14:07:59.498Z"
   },
   {
    "duration": 35,
    "start_time": "2023-06-13T14:07:59.522Z"
   },
   {
    "duration": 19,
    "start_time": "2023-06-13T14:07:59.558Z"
   },
   {
    "duration": 16,
    "start_time": "2023-06-13T14:07:59.579Z"
   },
   {
    "duration": 17,
    "start_time": "2023-06-13T14:07:59.597Z"
   },
   {
    "duration": 280,
    "start_time": "2023-06-13T14:07:59.617Z"
   },
   {
    "duration": 44,
    "start_time": "2023-06-13T14:07:59.899Z"
   },
   {
    "duration": 15,
    "start_time": "2023-06-13T14:07:59.946Z"
   },
   {
    "duration": 15,
    "start_time": "2023-06-13T14:07:59.963Z"
   },
   {
    "duration": 1240,
    "start_time": "2023-06-13T14:07:59.980Z"
   },
   {
    "duration": 1012,
    "start_time": "2023-06-13T14:08:01.222Z"
   },
   {
    "duration": 1080,
    "start_time": "2023-06-13T14:08:02.236Z"
   },
   {
    "duration": 1478,
    "start_time": "2023-06-13T14:08:03.318Z"
   },
   {
    "duration": 9,
    "start_time": "2023-06-13T14:08:04.797Z"
   },
   {
    "duration": 11,
    "start_time": "2023-06-13T14:08:04.808Z"
   },
   {
    "duration": 6,
    "start_time": "2023-06-13T14:08:04.820Z"
   },
   {
    "duration": 877,
    "start_time": "2023-06-13T14:08:04.827Z"
   },
   {
    "duration": 5,
    "start_time": "2023-06-13T14:08:05.757Z"
   },
   {
    "duration": 1639,
    "start_time": "2023-06-13T14:08:05.763Z"
   },
   {
    "duration": 6,
    "start_time": "2023-06-13T14:08:07.457Z"
   },
   {
    "duration": 1497,
    "start_time": "2023-06-13T14:08:07.466Z"
   },
   {
    "duration": 6,
    "start_time": "2023-06-13T14:08:08.966Z"
   },
   {
    "duration": 862,
    "start_time": "2023-06-13T14:08:08.973Z"
   },
   {
    "duration": 23,
    "start_time": "2023-06-13T14:08:09.837Z"
   },
   {
    "duration": 5,
    "start_time": "2023-06-13T14:08:09.862Z"
   },
   {
    "duration": 22,
    "start_time": "2023-06-13T14:08:09.869Z"
   },
   {
    "duration": 2765,
    "start_time": "2023-06-13T14:08:09.893Z"
   },
   {
    "duration": 8317,
    "start_time": "2023-06-13T14:08:12.665Z"
   },
   {
    "duration": 300,
    "start_time": "2023-06-13T14:08:20.983Z"
   },
   {
    "duration": 9,
    "start_time": "2023-06-13T14:08:21.287Z"
   },
   {
    "duration": 4,
    "start_time": "2023-06-13T14:10:00.192Z"
   },
   {
    "duration": 11,
    "start_time": "2023-06-13T14:10:44.586Z"
   },
   {
    "duration": 2273,
    "start_time": "2023-06-13T14:10:47.688Z"
   },
   {
    "duration": 1723,
    "start_time": "2023-06-13T14:12:04.253Z"
   },
   {
    "duration": 1321,
    "start_time": "2023-06-13T14:12:05.978Z"
   },
   {
    "duration": 21,
    "start_time": "2023-06-13T14:12:07.301Z"
   },
   {
    "duration": 33,
    "start_time": "2023-06-13T14:12:07.324Z"
   },
   {
    "duration": 21,
    "start_time": "2023-06-13T14:12:07.359Z"
   },
   {
    "duration": 17,
    "start_time": "2023-06-13T14:12:07.382Z"
   },
   {
    "duration": 14,
    "start_time": "2023-06-13T14:12:07.401Z"
   },
   {
    "duration": 42,
    "start_time": "2023-06-13T14:12:07.417Z"
   },
   {
    "duration": 7,
    "start_time": "2023-06-13T14:12:07.461Z"
   },
   {
    "duration": 32,
    "start_time": "2023-06-13T14:12:07.471Z"
   },
   {
    "duration": 14,
    "start_time": "2023-06-13T14:12:07.505Z"
   },
   {
    "duration": 15,
    "start_time": "2023-06-13T14:12:07.520Z"
   },
   {
    "duration": 252,
    "start_time": "2023-06-13T14:12:07.537Z"
   },
   {
    "duration": 50,
    "start_time": "2023-06-13T14:12:07.792Z"
   },
   {
    "duration": 15,
    "start_time": "2023-06-13T14:12:07.844Z"
   },
   {
    "duration": 8,
    "start_time": "2023-06-13T14:12:07.861Z"
   },
   {
    "duration": 1077,
    "start_time": "2023-06-13T14:12:07.871Z"
   },
   {
    "duration": 1056,
    "start_time": "2023-06-13T14:12:08.955Z"
   },
   {
    "duration": 1193,
    "start_time": "2023-06-13T14:12:10.013Z"
   },
   {
    "duration": 1500,
    "start_time": "2023-06-13T14:12:11.208Z"
   },
   {
    "duration": 9,
    "start_time": "2023-06-13T14:12:12.710Z"
   },
   {
    "duration": 9,
    "start_time": "2023-06-13T14:12:12.721Z"
   },
   {
    "duration": 28,
    "start_time": "2023-06-13T14:12:12.731Z"
   },
   {
    "duration": 708,
    "start_time": "2023-06-13T14:12:12.761Z"
   },
   {
    "duration": 6,
    "start_time": "2023-06-13T14:12:13.472Z"
   },
   {
    "duration": 699,
    "start_time": "2023-06-13T14:12:13.479Z"
   },
   {
    "duration": 5,
    "start_time": "2023-06-13T14:12:14.181Z"
   },
   {
    "duration": 1280,
    "start_time": "2023-06-13T14:12:14.190Z"
   },
   {
    "duration": 5,
    "start_time": "2023-06-13T14:12:15.472Z"
   },
   {
    "duration": 1372,
    "start_time": "2023-06-13T14:12:15.479Z"
   },
   {
    "duration": 21,
    "start_time": "2023-06-13T14:12:16.856Z"
   },
   {
    "duration": 4,
    "start_time": "2023-06-13T14:12:16.879Z"
   },
   {
    "duration": 31,
    "start_time": "2023-06-13T14:12:16.885Z"
   },
   {
    "duration": 2645,
    "start_time": "2023-06-13T14:12:16.918Z"
   },
   {
    "duration": 8543,
    "start_time": "2023-06-13T14:12:19.566Z"
   },
   {
    "duration": 310,
    "start_time": "2023-06-13T14:12:28.112Z"
   },
   {
    "duration": 9,
    "start_time": "2023-06-13T14:12:28.423Z"
   },
   {
    "duration": 1427,
    "start_time": "2023-06-13T14:37:58.372Z"
   },
   {
    "duration": 1354,
    "start_time": "2023-06-13T14:38:10.904Z"
   },
   {
    "duration": 1404,
    "start_time": "2023-06-13T14:38:21.377Z"
   },
   {
    "duration": 1343,
    "start_time": "2023-06-13T14:38:26.929Z"
   },
   {
    "duration": 1383,
    "start_time": "2023-06-13T14:38:32.004Z"
   },
   {
    "duration": 300,
    "start_time": "2023-06-13T14:39:08.556Z"
   },
   {
    "duration": 1383,
    "start_time": "2023-06-13T14:39:11.497Z"
   },
   {
    "duration": 1373,
    "start_time": "2023-06-13T14:39:21.689Z"
   },
   {
    "duration": 1580,
    "start_time": "2023-06-13T14:39:35.814Z"
   },
   {
    "duration": 1482,
    "start_time": "2023-06-13T14:39:43.768Z"
   },
   {
    "duration": 1414,
    "start_time": "2023-06-13T14:40:02.503Z"
   },
   {
    "duration": 1202,
    "start_time": "2023-06-13T14:40:12.154Z"
   },
   {
    "duration": 1497,
    "start_time": "2023-06-13T14:40:35.552Z"
   },
   {
    "duration": 1418,
    "start_time": "2023-06-13T14:41:27.598Z"
   },
   {
    "duration": 1343,
    "start_time": "2023-06-13T14:41:38.673Z"
   },
   {
    "duration": 1282,
    "start_time": "2023-06-13T14:41:49.102Z"
   },
   {
    "duration": 1369,
    "start_time": "2023-06-13T14:42:12.311Z"
   },
   {
    "duration": 1445,
    "start_time": "2023-06-13T14:42:18.340Z"
   },
   {
    "duration": 1290,
    "start_time": "2023-06-13T14:42:24.670Z"
   },
   {
    "duration": 1319,
    "start_time": "2023-06-13T14:42:33.414Z"
   },
   {
    "duration": 107,
    "start_time": "2023-06-13T14:43:51.050Z"
   },
   {
    "duration": 112,
    "start_time": "2023-06-13T14:44:59.281Z"
   },
   {
    "duration": 104,
    "start_time": "2023-06-13T14:45:32.192Z"
   },
   {
    "duration": 0,
    "start_time": "2023-06-13T14:46:52.066Z"
   },
   {
    "duration": 104,
    "start_time": "2023-06-13T14:46:54.349Z"
   },
   {
    "duration": 3815,
    "start_time": "2023-06-13T14:46:58.346Z"
   },
   {
    "duration": 1233,
    "start_time": "2023-06-13T14:47:13.542Z"
   },
   {
    "duration": 1227,
    "start_time": "2023-06-13T14:47:44.074Z"
   },
   {
    "duration": 465,
    "start_time": "2023-06-13T14:48:03.351Z"
   },
   {
    "duration": 1349,
    "start_time": "2023-06-13T14:48:22.243Z"
   },
   {
    "duration": 1255,
    "start_time": "2023-06-13T14:48:26.825Z"
   },
   {
    "duration": 1331,
    "start_time": "2023-06-13T14:48:40.783Z"
   },
   {
    "duration": 1202,
    "start_time": "2023-06-13T14:48:49.698Z"
   },
   {
    "duration": 6645,
    "start_time": "2023-06-13T14:48:59.950Z"
   },
   {
    "duration": 1385,
    "start_time": "2023-06-13T14:49:09.747Z"
   },
   {
    "duration": 1416,
    "start_time": "2023-06-13T14:49:17.342Z"
   },
   {
    "duration": 1405,
    "start_time": "2023-06-13T14:49:43.520Z"
   },
   {
    "duration": 1390,
    "start_time": "2023-06-13T14:49:57.159Z"
   },
   {
    "duration": 1410,
    "start_time": "2023-06-13T14:50:10.379Z"
   },
   {
    "duration": 111,
    "start_time": "2023-06-13T14:50:17.680Z"
   },
   {
    "duration": 1405,
    "start_time": "2023-06-13T14:50:20.801Z"
   },
   {
    "duration": 1382,
    "start_time": "2023-06-13T14:50:35.331Z"
   },
   {
    "duration": 1391,
    "start_time": "2023-06-13T14:50:42.148Z"
   },
   {
    "duration": 1152,
    "start_time": "2023-06-13T14:50:49.286Z"
   },
   {
    "duration": 1376,
    "start_time": "2023-06-13T14:50:54.990Z"
   },
   {
    "duration": 1318,
    "start_time": "2023-06-13T14:51:04.304Z"
   },
   {
    "duration": 1343,
    "start_time": "2023-06-13T14:51:13.409Z"
   },
   {
    "duration": 1495,
    "start_time": "2023-06-13T14:51:58.057Z"
   },
   {
    "duration": 3815,
    "start_time": "2023-06-13T14:53:25.646Z"
   },
   {
    "duration": 8240,
    "start_time": "2023-06-13T14:53:43.980Z"
   },
   {
    "duration": 8348,
    "start_time": "2023-06-13T14:54:33.846Z"
   },
   {
    "duration": 4,
    "start_time": "2023-06-13T14:55:05.764Z"
   },
   {
    "duration": 751,
    "start_time": "2023-06-13T14:55:05.771Z"
   },
   {
    "duration": 17,
    "start_time": "2023-06-13T14:55:06.524Z"
   },
   {
    "duration": 15,
    "start_time": "2023-06-13T14:55:06.556Z"
   },
   {
    "duration": 19,
    "start_time": "2023-06-13T14:55:06.572Z"
   },
   {
    "duration": 8,
    "start_time": "2023-06-13T14:55:06.593Z"
   },
   {
    "duration": 5,
    "start_time": "2023-06-13T14:55:06.603Z"
   },
   {
    "duration": 53,
    "start_time": "2023-06-13T14:55:06.609Z"
   },
   {
    "duration": 6,
    "start_time": "2023-06-13T14:55:06.664Z"
   },
   {
    "duration": 27,
    "start_time": "2023-06-13T14:55:06.673Z"
   },
   {
    "duration": 17,
    "start_time": "2023-06-13T14:55:06.702Z"
   },
   {
    "duration": 16,
    "start_time": "2023-06-13T14:55:06.721Z"
   },
   {
    "duration": 261,
    "start_time": "2023-06-13T14:55:06.757Z"
   },
   {
    "duration": 50,
    "start_time": "2023-06-13T14:55:07.019Z"
   },
   {
    "duration": 7,
    "start_time": "2023-06-13T14:55:07.070Z"
   },
   {
    "duration": 13,
    "start_time": "2023-06-13T14:55:07.079Z"
   },
   {
    "duration": 1117,
    "start_time": "2023-06-13T14:55:07.094Z"
   },
   {
    "duration": 1251,
    "start_time": "2023-06-13T14:55:08.213Z"
   },
   {
    "duration": 1400,
    "start_time": "2023-06-13T14:55:09.466Z"
   },
   {
    "duration": 1818,
    "start_time": "2023-06-13T14:55:10.868Z"
   },
   {
    "duration": 10,
    "start_time": "2023-06-13T14:55:12.687Z"
   },
   {
    "duration": 10,
    "start_time": "2023-06-13T14:55:12.698Z"
   },
   {
    "duration": 28,
    "start_time": "2023-06-13T14:55:12.709Z"
   },
   {
    "duration": 948,
    "start_time": "2023-06-13T14:55:12.738Z"
   },
   {
    "duration": 6,
    "start_time": "2023-06-13T14:55:13.689Z"
   },
   {
    "duration": 706,
    "start_time": "2023-06-13T14:55:13.698Z"
   },
   {
    "duration": 5,
    "start_time": "2023-06-13T14:55:14.406Z"
   },
   {
    "duration": 938,
    "start_time": "2023-06-13T14:55:14.414Z"
   },
   {
    "duration": 5,
    "start_time": "2023-06-13T14:55:15.357Z"
   },
   {
    "duration": 724,
    "start_time": "2023-06-13T14:55:15.363Z"
   },
   {
    "duration": 22,
    "start_time": "2023-06-13T14:55:16.089Z"
   },
   {
    "duration": 4,
    "start_time": "2023-06-13T14:55:16.113Z"
   },
   {
    "duration": 12,
    "start_time": "2023-06-13T14:55:16.119Z"
   },
   {
    "duration": 2632,
    "start_time": "2023-06-13T14:55:16.133Z"
   },
   {
    "duration": 1469,
    "start_time": "2023-06-13T14:55:25.507Z"
   },
   {
    "duration": 787,
    "start_time": "2023-06-13T14:55:26.978Z"
   },
   {
    "duration": 20,
    "start_time": "2023-06-13T14:55:27.766Z"
   },
   {
    "duration": 11,
    "start_time": "2023-06-13T14:55:27.788Z"
   },
   {
    "duration": 17,
    "start_time": "2023-06-13T14:55:27.801Z"
   },
   {
    "duration": 37,
    "start_time": "2023-06-13T14:55:27.820Z"
   },
   {
    "duration": 4,
    "start_time": "2023-06-13T14:55:27.859Z"
   },
   {
    "duration": 21,
    "start_time": "2023-06-13T14:55:27.864Z"
   },
   {
    "duration": 6,
    "start_time": "2023-06-13T14:55:27.887Z"
   },
   {
    "duration": 15,
    "start_time": "2023-06-13T14:55:27.896Z"
   },
   {
    "duration": 12,
    "start_time": "2023-06-13T14:55:27.913Z"
   },
   {
    "duration": 38,
    "start_time": "2023-06-13T14:55:27.927Z"
   },
   {
    "duration": 261,
    "start_time": "2023-06-13T14:55:27.967Z"
   },
   {
    "duration": 62,
    "start_time": "2023-06-13T14:55:28.229Z"
   },
   {
    "duration": 6,
    "start_time": "2023-06-13T14:55:28.293Z"
   },
   {
    "duration": 8,
    "start_time": "2023-06-13T14:55:28.301Z"
   },
   {
    "duration": 1112,
    "start_time": "2023-06-13T14:55:28.311Z"
   },
   {
    "duration": 1155,
    "start_time": "2023-06-13T14:55:29.425Z"
   },
   {
    "duration": 1694,
    "start_time": "2023-06-13T14:55:30.582Z"
   },
   {
    "duration": 1723,
    "start_time": "2023-06-13T14:55:32.278Z"
   },
   {
    "duration": 11,
    "start_time": "2023-06-13T14:55:34.056Z"
   },
   {
    "duration": 42,
    "start_time": "2023-06-13T14:55:34.070Z"
   },
   {
    "duration": 44,
    "start_time": "2023-06-13T14:55:34.114Z"
   },
   {
    "duration": 1408,
    "start_time": "2023-06-13T14:55:34.160Z"
   },
   {
    "duration": 6,
    "start_time": "2023-06-13T14:55:35.570Z"
   },
   {
    "duration": 1409,
    "start_time": "2023-06-13T14:55:35.578Z"
   },
   {
    "duration": 7,
    "start_time": "2023-06-13T14:55:36.990Z"
   },
   {
    "duration": 1662,
    "start_time": "2023-06-13T14:55:37.000Z"
   },
   {
    "duration": 5,
    "start_time": "2023-06-13T14:55:38.664Z"
   },
   {
    "duration": 1420,
    "start_time": "2023-06-13T14:55:38.671Z"
   },
   {
    "duration": 79,
    "start_time": "2023-06-13T14:55:40.093Z"
   },
   {
    "duration": 22,
    "start_time": "2023-06-13T14:55:40.174Z"
   },
   {
    "duration": 67,
    "start_time": "2023-06-13T14:55:40.198Z"
   },
   {
    "duration": 2894,
    "start_time": "2023-06-13T14:55:40.267Z"
   },
   {
    "duration": 14999,
    "start_time": "2023-06-13T14:55:43.163Z"
   },
   {
    "duration": 166,
    "start_time": "2023-06-13T14:55:58.164Z"
   },
   {
    "duration": 9,
    "start_time": "2023-06-13T14:55:58.332Z"
   },
   {
    "duration": 83,
    "start_time": "2023-06-13T22:16:58.550Z"
   },
   {
    "duration": 2831,
    "start_time": "2023-06-13T22:22:33.021Z"
   },
   {
    "duration": 2686,
    "start_time": "2023-06-13T22:22:35.854Z"
   },
   {
    "duration": 30,
    "start_time": "2023-06-13T22:22:38.545Z"
   },
   {
    "duration": 28,
    "start_time": "2023-06-13T22:22:38.580Z"
   },
   {
    "duration": 60,
    "start_time": "2023-06-13T22:22:38.621Z"
   },
   {
    "duration": 10,
    "start_time": "2023-06-13T22:22:38.684Z"
   },
   {
    "duration": 69,
    "start_time": "2023-06-13T22:22:38.695Z"
   },
   {
    "duration": 99,
    "start_time": "2023-06-13T22:22:38.767Z"
   },
   {
    "duration": 8,
    "start_time": "2023-06-13T22:22:38.869Z"
   },
   {
    "duration": 27,
    "start_time": "2023-06-13T22:22:38.879Z"
   },
   {
    "duration": 100,
    "start_time": "2023-06-13T22:22:38.908Z"
   },
   {
    "duration": 71,
    "start_time": "2023-06-13T22:22:39.010Z"
   },
   {
    "duration": 283,
    "start_time": "2023-06-13T22:22:39.083Z"
   },
   {
    "duration": 59,
    "start_time": "2023-06-13T22:22:39.370Z"
   },
   {
    "duration": 40,
    "start_time": "2023-06-13T22:22:39.431Z"
   },
   {
    "duration": 20,
    "start_time": "2023-06-13T22:22:39.473Z"
   },
   {
    "duration": 1345,
    "start_time": "2023-06-13T22:22:39.496Z"
   },
   {
    "duration": 1085,
    "start_time": "2023-06-13T22:22:40.846Z"
   },
   {
    "duration": 1307,
    "start_time": "2023-06-13T22:22:41.933Z"
   },
   {
    "duration": 1689,
    "start_time": "2023-06-13T22:22:43.243Z"
   },
   {
    "duration": 18,
    "start_time": "2023-06-13T22:22:44.939Z"
   },
   {
    "duration": 41,
    "start_time": "2023-06-13T22:22:44.961Z"
   },
   {
    "duration": 130,
    "start_time": "2023-06-13T22:22:45.004Z"
   },
   {
    "duration": 1039,
    "start_time": "2023-06-13T22:22:45.137Z"
   },
   {
    "duration": 20,
    "start_time": "2023-06-13T22:22:46.178Z"
   },
   {
    "duration": 768,
    "start_time": "2023-06-13T22:22:46.209Z"
   },
   {
    "duration": 4,
    "start_time": "2023-06-13T22:22:46.979Z"
   },
   {
    "duration": 944,
    "start_time": "2023-06-13T22:22:46.985Z"
   },
   {
    "duration": 8,
    "start_time": "2023-06-13T22:22:47.935Z"
   },
   {
    "duration": 773,
    "start_time": "2023-06-13T22:22:47.949Z"
   },
   {
    "duration": 26,
    "start_time": "2023-06-13T22:22:48.735Z"
   },
   {
    "duration": 5,
    "start_time": "2023-06-13T22:22:48.764Z"
   },
   {
    "duration": 25,
    "start_time": "2023-06-13T22:22:48.771Z"
   },
   {
    "duration": 7304,
    "start_time": "2023-06-13T22:22:48.798Z"
   },
   {
    "duration": 9909,
    "start_time": "2023-06-13T22:22:56.106Z"
   },
   {
    "duration": 190,
    "start_time": "2023-06-13T22:23:06.032Z"
   },
   {
    "duration": 9,
    "start_time": "2023-06-13T22:23:06.225Z"
   },
   {
    "duration": 1768,
    "start_time": "2023-06-13T22:23:06.237Z"
   },
   {
    "duration": 1593,
    "start_time": "2023-06-13T22:23:19.223Z"
   },
   {
    "duration": 1452,
    "start_time": "2023-06-13T22:24:09.557Z"
   },
   {
    "duration": 4,
    "start_time": "2023-06-13T22:33:16.064Z"
   },
   {
    "duration": 1197,
    "start_time": "2023-06-13T22:33:16.071Z"
   },
   {
    "duration": 26,
    "start_time": "2023-06-13T22:33:17.270Z"
   },
   {
    "duration": 80,
    "start_time": "2023-06-13T22:33:17.305Z"
   },
   {
    "duration": 101,
    "start_time": "2023-06-13T22:33:17.388Z"
   },
   {
    "duration": 27,
    "start_time": "2023-06-13T22:33:17.491Z"
   },
   {
    "duration": 46,
    "start_time": "2023-06-13T22:33:17.520Z"
   },
   {
    "duration": 22,
    "start_time": "2023-06-13T22:33:17.569Z"
   },
   {
    "duration": 23,
    "start_time": "2023-06-13T22:33:17.593Z"
   },
   {
    "duration": 44,
    "start_time": "2023-06-13T22:33:17.628Z"
   },
   {
    "duration": 15,
    "start_time": "2023-06-13T22:33:17.674Z"
   },
   {
    "duration": 35,
    "start_time": "2023-06-13T22:33:17.691Z"
   },
   {
    "duration": 535,
    "start_time": "2023-06-13T22:33:17.728Z"
   },
   {
    "duration": 38,
    "start_time": "2023-06-13T22:33:18.297Z"
   },
   {
    "duration": 15,
    "start_time": "2023-06-13T22:33:18.338Z"
   },
   {
    "duration": 102,
    "start_time": "2023-06-13T22:33:18.396Z"
   },
   {
    "duration": 1731,
    "start_time": "2023-06-13T22:33:18.500Z"
   },
   {
    "duration": 1607,
    "start_time": "2023-06-13T22:33:20.234Z"
   },
   {
    "duration": 1686,
    "start_time": "2023-06-13T22:33:21.844Z"
   },
   {
    "duration": 2176,
    "start_time": "2023-06-13T22:33:23.540Z"
   },
   {
    "duration": 23,
    "start_time": "2023-06-13T22:33:25.719Z"
   },
   {
    "duration": 23,
    "start_time": "2023-06-13T22:33:25.746Z"
   },
   {
    "duration": 14,
    "start_time": "2023-06-13T22:33:25.771Z"
   },
   {
    "duration": 944,
    "start_time": "2023-06-13T22:33:25.786Z"
   },
   {
    "duration": 9,
    "start_time": "2023-06-13T22:33:26.732Z"
   },
   {
    "duration": 728,
    "start_time": "2023-06-13T22:33:26.743Z"
   },
   {
    "duration": 5,
    "start_time": "2023-06-13T22:33:27.472Z"
   },
   {
    "duration": 884,
    "start_time": "2023-06-13T22:33:27.478Z"
   },
   {
    "duration": 6,
    "start_time": "2023-06-13T22:33:28.365Z"
   },
   {
    "duration": 784,
    "start_time": "2023-06-13T22:33:28.373Z"
   },
   {
    "duration": 20,
    "start_time": "2023-06-13T22:33:29.159Z"
   },
   {
    "duration": 26,
    "start_time": "2023-06-13T22:33:29.182Z"
   },
   {
    "duration": 53,
    "start_time": "2023-06-13T22:33:29.210Z"
   },
   {
    "duration": 8351,
    "start_time": "2023-06-13T22:33:29.265Z"
   },
   {
    "duration": 9629,
    "start_time": "2023-06-13T22:33:37.621Z"
   },
   {
    "duration": 197,
    "start_time": "2023-06-13T22:33:47.252Z"
   },
   {
    "duration": 8,
    "start_time": "2023-06-13T22:33:47.450Z"
   },
   {
    "duration": 4,
    "start_time": "2023-06-13T22:35:13.667Z"
   },
   {
    "duration": 9574,
    "start_time": "2023-06-13T22:49:58.464Z"
   },
   {
    "duration": 9640,
    "start_time": "2023-06-13T22:50:44.041Z"
   },
   {
    "duration": 9972,
    "start_time": "2023-06-13T22:51:24.045Z"
   },
   {
    "duration": 10252,
    "start_time": "2023-06-13T22:52:12.482Z"
   },
   {
    "duration": 161,
    "start_time": "2023-06-13T22:56:35.480Z"
   },
   {
    "duration": 161,
    "start_time": "2023-06-13T22:56:40.617Z"
   },
   {
    "duration": 47880,
    "start_time": "2023-06-13T22:56:44.785Z"
   },
   {
    "duration": 289,
    "start_time": "2023-06-13T22:57:55.327Z"
   },
   {
    "duration": 162,
    "start_time": "2023-06-13T22:58:28.978Z"
   },
   {
    "duration": 207,
    "start_time": "2023-06-13T22:58:41.247Z"
   },
   {
    "duration": 117,
    "start_time": "2023-06-13T22:59:04.150Z"
   },
   {
    "duration": 154,
    "start_time": "2023-06-13T22:59:11.783Z"
   },
   {
    "duration": 9,
    "start_time": "2023-06-13T22:59:23.226Z"
   },
   {
    "duration": 948,
    "start_time": "2023-06-13T22:59:23.238Z"
   },
   {
    "duration": 26,
    "start_time": "2023-06-13T22:59:24.188Z"
   },
   {
    "duration": 28,
    "start_time": "2023-06-13T22:59:24.218Z"
   },
   {
    "duration": 33,
    "start_time": "2023-06-13T22:59:24.251Z"
   },
   {
    "duration": 52,
    "start_time": "2023-06-13T22:59:24.286Z"
   },
   {
    "duration": 30,
    "start_time": "2023-06-13T22:59:24.340Z"
   },
   {
    "duration": 37,
    "start_time": "2023-06-13T22:59:24.372Z"
   },
   {
    "duration": 10,
    "start_time": "2023-06-13T22:59:24.418Z"
   },
   {
    "duration": 36,
    "start_time": "2023-06-13T22:59:24.430Z"
   },
   {
    "duration": 15,
    "start_time": "2023-06-13T22:59:24.467Z"
   },
   {
    "duration": 30,
    "start_time": "2023-06-13T22:59:24.484Z"
   },
   {
    "duration": 324,
    "start_time": "2023-06-13T22:59:24.531Z"
   },
   {
    "duration": 49,
    "start_time": "2023-06-13T22:59:24.859Z"
   },
   {
    "duration": 10,
    "start_time": "2023-06-13T22:59:24.920Z"
   },
   {
    "duration": 32,
    "start_time": "2023-06-13T22:59:24.932Z"
   },
   {
    "duration": 1343,
    "start_time": "2023-06-13T22:59:24.966Z"
   },
   {
    "duration": 1805,
    "start_time": "2023-06-13T22:59:26.310Z"
   },
   {
    "duration": 1255,
    "start_time": "2023-06-13T22:59:28.117Z"
   },
   {
    "duration": 1284,
    "start_time": "2023-06-13T22:59:29.373Z"
   },
   {
    "duration": 8,
    "start_time": "2023-06-13T22:59:30.659Z"
   },
   {
    "duration": 38,
    "start_time": "2023-06-13T22:59:30.669Z"
   },
   {
    "duration": 211,
    "start_time": "2023-06-13T22:59:30.711Z"
   },
   {
    "duration": 958,
    "start_time": "2023-06-13T22:59:30.924Z"
   },
   {
    "duration": 21,
    "start_time": "2023-06-13T22:59:31.896Z"
   },
   {
    "duration": 832,
    "start_time": "2023-06-13T22:59:31.919Z"
   },
   {
    "duration": 5,
    "start_time": "2023-06-13T22:59:32.753Z"
   },
   {
    "duration": 855,
    "start_time": "2023-06-13T22:59:32.759Z"
   },
   {
    "duration": 8,
    "start_time": "2023-06-13T22:59:33.616Z"
   },
   {
    "duration": 876,
    "start_time": "2023-06-13T22:59:33.627Z"
   },
   {
    "duration": 21,
    "start_time": "2023-06-13T22:59:34.513Z"
   },
   {
    "duration": 26,
    "start_time": "2023-06-13T22:59:34.536Z"
   },
   {
    "duration": 28,
    "start_time": "2023-06-13T22:59:34.563Z"
   },
   {
    "duration": 9433,
    "start_time": "2023-06-13T22:59:34.593Z"
   },
   {
    "duration": 133,
    "start_time": "2023-06-13T22:59:44.034Z"
   },
   {
    "duration": 0,
    "start_time": "2023-06-13T22:59:44.169Z"
   },
   {
    "duration": 0,
    "start_time": "2023-06-13T22:59:44.169Z"
   },
   {
    "duration": 0,
    "start_time": "2023-06-13T22:59:44.171Z"
   },
   {
    "duration": 17419,
    "start_time": "2023-06-13T22:59:57.750Z"
   },
   {
    "duration": 17522,
    "start_time": "2023-06-13T23:00:26.555Z"
   },
   {
    "duration": 5180,
    "start_time": "2023-06-13T23:01:11.526Z"
   },
   {
    "duration": 14310,
    "start_time": "2023-06-13T23:01:28.556Z"
   },
   {
    "duration": 13960,
    "start_time": "2023-06-13T23:02:42.964Z"
   },
   {
    "duration": 18098,
    "start_time": "2023-06-13T23:03:31.426Z"
   },
   {
    "duration": 37266,
    "start_time": "2023-06-13T23:03:58.862Z"
   },
   {
    "duration": 13984,
    "start_time": "2023-06-13T23:05:01.225Z"
   },
   {
    "duration": 5792,
    "start_time": "2023-06-13T23:08:27.824Z"
   },
   {
    "duration": 11760,
    "start_time": "2023-06-13T23:08:58.246Z"
   },
   {
    "duration": 19245,
    "start_time": "2023-06-13T23:09:32.665Z"
   },
   {
    "duration": 117535,
    "start_time": "2023-06-13T23:09:51.912Z"
   },
   {
    "duration": 91161,
    "start_time": "2023-06-13T23:11:54.063Z"
   },
   {
    "duration": 219888,
    "start_time": "2023-06-13T23:13:34.340Z"
   },
   {
    "duration": 10,
    "start_time": "2023-06-13T23:17:14.230Z"
   },
   {
    "duration": 7929,
    "start_time": "2023-06-13T23:17:28.880Z"
   },
   {
    "duration": 15,
    "start_time": "2023-06-13T23:18:08.953Z"
   },
   {
    "duration": 1572,
    "start_time": "2023-06-13T23:24:57.715Z"
   },
   {
    "duration": 1941,
    "start_time": "2023-06-13T23:24:59.289Z"
   },
   {
    "duration": 82,
    "start_time": "2023-06-13T23:25:01.232Z"
   },
   {
    "duration": 248,
    "start_time": "2023-06-13T23:25:01.317Z"
   },
   {
    "duration": 199,
    "start_time": "2023-06-13T23:25:01.567Z"
   },
   {
    "duration": 34,
    "start_time": "2023-06-13T23:25:01.769Z"
   },
   {
    "duration": 129,
    "start_time": "2023-06-13T23:25:01.804Z"
   },
   {
    "duration": 57,
    "start_time": "2023-06-13T23:25:01.936Z"
   },
   {
    "duration": 20,
    "start_time": "2023-06-13T23:25:01.998Z"
   },
   {
    "duration": 41,
    "start_time": "2023-06-13T23:25:02.030Z"
   },
   {
    "duration": 15,
    "start_time": "2023-06-13T23:25:02.073Z"
   },
   {
    "duration": 66,
    "start_time": "2023-06-13T23:25:02.091Z"
   },
   {
    "duration": 311,
    "start_time": "2023-06-13T23:25:02.159Z"
   },
   {
    "duration": 53,
    "start_time": "2023-06-13T23:25:02.471Z"
   },
   {
    "duration": 30,
    "start_time": "2023-06-13T23:25:02.526Z"
   },
   {
    "duration": 79,
    "start_time": "2023-06-13T23:25:02.558Z"
   },
   {
    "duration": 949,
    "start_time": "2023-06-13T23:25:02.638Z"
   },
   {
    "duration": 973,
    "start_time": "2023-06-13T23:25:03.588Z"
   },
   {
    "duration": 1238,
    "start_time": "2023-06-13T23:25:04.563Z"
   },
   {
    "duration": 2924,
    "start_time": "2023-06-13T23:25:05.805Z"
   },
   {
    "duration": 9,
    "start_time": "2023-06-13T23:25:08.731Z"
   },
   {
    "duration": 23,
    "start_time": "2023-06-13T23:25:08.741Z"
   },
   {
    "duration": 39,
    "start_time": "2023-06-13T23:25:08.765Z"
   },
   {
    "duration": 852,
    "start_time": "2023-06-13T23:25:08.806Z"
   },
   {
    "duration": 5,
    "start_time": "2023-06-13T23:25:09.660Z"
   },
   {
    "duration": 907,
    "start_time": "2023-06-13T23:25:09.667Z"
   },
   {
    "duration": 5,
    "start_time": "2023-06-13T23:25:10.576Z"
   },
   {
    "duration": 849,
    "start_time": "2023-06-13T23:25:10.584Z"
   },
   {
    "duration": 5,
    "start_time": "2023-06-13T23:25:11.435Z"
   },
   {
    "duration": 693,
    "start_time": "2023-06-13T23:25:11.442Z"
   },
   {
    "duration": 24,
    "start_time": "2023-06-13T23:25:12.137Z"
   },
   {
    "duration": 4,
    "start_time": "2023-06-13T23:25:12.162Z"
   },
   {
    "duration": 42,
    "start_time": "2023-06-13T23:25:12.168Z"
   },
   {
    "duration": 6396,
    "start_time": "2023-06-13T23:25:12.217Z"
   },
   {
    "duration": 16634,
    "start_time": "2023-06-13T23:25:18.615Z"
   },
   {
    "duration": 327,
    "start_time": "2023-06-13T23:25:35.251Z"
   },
   {
    "duration": 25,
    "start_time": "2023-06-13T23:25:35.580Z"
   },
   {
    "duration": 64,
    "start_time": "2023-06-14T01:48:44.812Z"
   },
   {
    "duration": 2677,
    "start_time": "2023-06-14T01:48:48.226Z"
   },
   {
    "duration": 1688,
    "start_time": "2023-06-14T01:48:50.905Z"
   },
   {
    "duration": 25,
    "start_time": "2023-06-14T01:48:52.594Z"
   },
   {
    "duration": 47,
    "start_time": "2023-06-14T01:48:52.620Z"
   },
   {
    "duration": 89,
    "start_time": "2023-06-14T01:48:52.669Z"
   },
   {
    "duration": 8,
    "start_time": "2023-06-14T01:48:52.759Z"
   },
   {
    "duration": 70,
    "start_time": "2023-06-14T01:48:52.769Z"
   },
   {
    "duration": 21,
    "start_time": "2023-06-14T01:48:52.840Z"
   },
   {
    "duration": 66,
    "start_time": "2023-06-14T01:48:52.862Z"
   },
   {
    "duration": 34,
    "start_time": "2023-06-14T01:48:52.930Z"
   },
   {
    "duration": 38,
    "start_time": "2023-06-14T01:48:52.965Z"
   },
   {
    "duration": 62,
    "start_time": "2023-06-14T01:48:53.004Z"
   },
   {
    "duration": 270,
    "start_time": "2023-06-14T01:48:53.068Z"
   },
   {
    "duration": 52,
    "start_time": "2023-06-14T01:48:53.341Z"
   },
   {
    "duration": 18,
    "start_time": "2023-06-14T01:48:53.394Z"
   },
   {
    "duration": 48,
    "start_time": "2023-06-14T01:48:53.414Z"
   },
   {
    "duration": 1008,
    "start_time": "2023-06-14T01:48:53.464Z"
   },
   {
    "duration": 1137,
    "start_time": "2023-06-14T01:48:54.474Z"
   },
   {
    "duration": 956,
    "start_time": "2023-06-14T01:48:55.613Z"
   },
   {
    "duration": 1192,
    "start_time": "2023-06-14T01:48:56.571Z"
   },
   {
    "duration": 8,
    "start_time": "2023-06-14T01:48:57.765Z"
   },
   {
    "duration": 61,
    "start_time": "2023-06-14T01:48:57.775Z"
   },
   {
    "duration": 23,
    "start_time": "2023-06-14T01:48:57.838Z"
   },
   {
    "duration": 741,
    "start_time": "2023-06-14T01:48:57.863Z"
   },
   {
    "duration": 6,
    "start_time": "2023-06-14T01:48:58.605Z"
   },
   {
    "duration": 712,
    "start_time": "2023-06-14T01:48:58.612Z"
   },
   {
    "duration": 5,
    "start_time": "2023-06-14T01:48:59.329Z"
   },
   {
    "duration": 818,
    "start_time": "2023-06-14T01:48:59.336Z"
   },
   {
    "duration": 4,
    "start_time": "2023-06-14T01:49:00.156Z"
   },
   {
    "duration": 692,
    "start_time": "2023-06-14T01:49:00.161Z"
   },
   {
    "duration": 6,
    "start_time": "2023-06-14T01:49:00.855Z"
   },
   {
    "duration": 95,
    "start_time": "2023-06-14T01:49:00.863Z"
   },
   {
    "duration": 67,
    "start_time": "2023-06-14T01:49:00.960Z"
   },
   {
    "duration": 121,
    "start_time": "2023-06-14T01:49:01.028Z"
   },
   {
    "duration": 5051,
    "start_time": "2023-06-14T01:49:01.150Z"
   },
   {
    "duration": 15868,
    "start_time": "2023-06-14T01:49:06.221Z"
   },
   {
    "duration": 377,
    "start_time": "2023-06-14T01:49:22.091Z"
   },
   {
    "duration": 7,
    "start_time": "2023-06-14T01:49:22.469Z"
   },
   {
    "duration": 8,
    "start_time": "2023-06-14T01:49:30.976Z"
   },
   {
    "duration": 7,
    "start_time": "2023-06-14T01:49:33.245Z"
   },
   {
    "duration": 9,
    "start_time": "2023-06-14T01:49:35.724Z"
   },
   {
    "duration": 1328,
    "start_time": "2023-06-14T02:23:28.230Z"
   },
   {
    "duration": 1642,
    "start_time": "2023-06-14T02:23:29.559Z"
   },
   {
    "duration": 22,
    "start_time": "2023-06-14T02:23:31.203Z"
   },
   {
    "duration": 97,
    "start_time": "2023-06-14T02:23:31.231Z"
   },
   {
    "duration": 78,
    "start_time": "2023-06-14T02:23:31.330Z"
   },
   {
    "duration": 26,
    "start_time": "2023-06-14T02:23:31.409Z"
   },
   {
    "duration": 15,
    "start_time": "2023-06-14T02:23:31.437Z"
   },
   {
    "duration": 53,
    "start_time": "2023-06-14T02:23:31.454Z"
   },
   {
    "duration": 42,
    "start_time": "2023-06-14T02:23:31.515Z"
   },
   {
    "duration": 86,
    "start_time": "2023-06-14T02:23:31.558Z"
   },
   {
    "duration": 33,
    "start_time": "2023-06-14T02:23:31.646Z"
   },
   {
    "duration": 87,
    "start_time": "2023-06-14T02:23:31.681Z"
   },
   {
    "duration": 262,
    "start_time": "2023-06-14T02:23:31.770Z"
   },
   {
    "duration": 35,
    "start_time": "2023-06-14T02:23:32.034Z"
   },
   {
    "duration": 5,
    "start_time": "2023-06-14T02:23:32.070Z"
   },
   {
    "duration": 49,
    "start_time": "2023-06-14T02:23:32.076Z"
   },
   {
    "duration": 904,
    "start_time": "2023-06-14T02:23:32.126Z"
   },
   {
    "duration": 983,
    "start_time": "2023-06-14T02:23:33.031Z"
   },
   {
    "duration": 1035,
    "start_time": "2023-06-14T02:23:34.015Z"
   },
   {
    "duration": 1159,
    "start_time": "2023-06-14T02:23:35.052Z"
   },
   {
    "duration": 23,
    "start_time": "2023-06-14T02:23:36.213Z"
   },
   {
    "duration": 35,
    "start_time": "2023-06-14T02:23:36.238Z"
   },
   {
    "duration": 5,
    "start_time": "2023-06-14T02:23:36.275Z"
   },
   {
    "duration": 784,
    "start_time": "2023-06-14T02:23:36.282Z"
   },
   {
    "duration": 6,
    "start_time": "2023-06-14T02:23:37.068Z"
   },
   {
    "duration": 643,
    "start_time": "2023-06-14T02:23:37.075Z"
   },
   {
    "duration": 4,
    "start_time": "2023-06-14T02:23:37.727Z"
   },
   {
    "duration": 686,
    "start_time": "2023-06-14T02:23:37.732Z"
   },
   {
    "duration": 5,
    "start_time": "2023-06-14T02:23:38.425Z"
   },
   {
    "duration": 592,
    "start_time": "2023-06-14T02:23:38.432Z"
   },
   {
    "duration": 21,
    "start_time": "2023-06-14T02:23:39.027Z"
   },
   {
    "duration": 4,
    "start_time": "2023-06-14T02:23:39.050Z"
   },
   {
    "duration": 23,
    "start_time": "2023-06-14T02:23:39.056Z"
   },
   {
    "duration": 6421,
    "start_time": "2023-06-14T02:23:39.098Z"
   },
   {
    "duration": 14709,
    "start_time": "2023-06-14T02:23:45.522Z"
   },
   {
    "duration": 337,
    "start_time": "2023-06-14T02:24:00.233Z"
   },
   {
    "duration": 6,
    "start_time": "2023-06-14T02:24:00.572Z"
   },
   {
    "duration": 683,
    "start_time": "2023-06-14T02:24:29.042Z"
   },
   {
    "duration": 629,
    "start_time": "2023-06-14T02:24:37.211Z"
   },
   {
    "duration": 2246,
    "start_time": "2023-06-14T02:26:00.831Z"
   },
   {
    "duration": 1543,
    "start_time": "2023-06-14T02:26:03.079Z"
   },
   {
    "duration": 91,
    "start_time": "2023-06-14T02:26:04.623Z"
   },
   {
    "duration": 42,
    "start_time": "2023-06-14T02:26:04.715Z"
   },
   {
    "duration": 51,
    "start_time": "2023-06-14T02:26:04.759Z"
   },
   {
    "duration": 14,
    "start_time": "2023-06-14T02:26:04.812Z"
   },
   {
    "duration": 28,
    "start_time": "2023-06-14T02:26:04.828Z"
   },
   {
    "duration": 34,
    "start_time": "2023-06-14T02:26:04.900Z"
   },
   {
    "duration": 20,
    "start_time": "2023-06-14T02:26:04.935Z"
   },
   {
    "duration": 71,
    "start_time": "2023-06-14T02:26:04.956Z"
   },
   {
    "duration": 17,
    "start_time": "2023-06-14T02:26:05.028Z"
   },
   {
    "duration": 12,
    "start_time": "2023-06-14T02:26:05.047Z"
   },
   {
    "duration": 274,
    "start_time": "2023-06-14T02:26:05.060Z"
   },
   {
    "duration": 34,
    "start_time": "2023-06-14T02:26:05.337Z"
   },
   {
    "duration": 5,
    "start_time": "2023-06-14T02:26:05.372Z"
   },
   {
    "duration": 62,
    "start_time": "2023-06-14T02:26:05.378Z"
   },
   {
    "duration": 980,
    "start_time": "2023-06-14T02:26:05.442Z"
   },
   {
    "duration": 864,
    "start_time": "2023-06-14T02:26:06.432Z"
   },
   {
    "duration": 1124,
    "start_time": "2023-06-14T02:26:07.322Z"
   },
   {
    "duration": 1007,
    "start_time": "2023-06-14T02:26:08.448Z"
   },
   {
    "duration": 9,
    "start_time": "2023-06-14T02:26:09.456Z"
   },
   {
    "duration": 32,
    "start_time": "2023-06-14T02:26:09.466Z"
   },
   {
    "duration": 10,
    "start_time": "2023-06-14T02:26:09.504Z"
   },
   {
    "duration": 739,
    "start_time": "2023-06-14T02:26:09.515Z"
   },
   {
    "duration": 4,
    "start_time": "2023-06-14T02:26:10.256Z"
   },
   {
    "duration": 618,
    "start_time": "2023-06-14T02:26:10.261Z"
   },
   {
    "duration": 19,
    "start_time": "2023-06-14T02:26:10.881Z"
   },
   {
    "duration": 724,
    "start_time": "2023-06-14T02:26:10.901Z"
   },
   {
    "duration": 10,
    "start_time": "2023-06-14T02:26:11.626Z"
   },
   {
    "duration": 623,
    "start_time": "2023-06-14T02:26:11.637Z"
   },
   {
    "duration": 36,
    "start_time": "2023-06-14T02:26:12.262Z"
   },
   {
    "duration": 18,
    "start_time": "2023-06-14T02:26:12.308Z"
   },
   {
    "duration": 15,
    "start_time": "2023-06-14T02:26:12.333Z"
   },
   {
    "duration": 7561,
    "start_time": "2023-06-14T02:26:12.350Z"
   },
   {
    "duration": 15097,
    "start_time": "2023-06-14T02:26:19.915Z"
   },
   {
    "duration": 354,
    "start_time": "2023-06-14T02:26:35.026Z"
   },
   {
    "duration": 49,
    "start_time": "2023-06-14T02:26:35.381Z"
   },
   {
    "duration": 1513,
    "start_time": "2023-06-15T01:58:38.509Z"
   },
   {
    "duration": 2347,
    "start_time": "2023-06-15T01:58:40.023Z"
   },
   {
    "duration": 19,
    "start_time": "2023-06-15T01:58:42.372Z"
   },
   {
    "duration": 11,
    "start_time": "2023-06-15T01:58:42.393Z"
   },
   {
    "duration": 19,
    "start_time": "2023-06-15T01:58:42.406Z"
   },
   {
    "duration": 6,
    "start_time": "2023-06-15T01:58:42.427Z"
   },
   {
    "duration": 8,
    "start_time": "2023-06-15T01:58:42.435Z"
   },
   {
    "duration": 17,
    "start_time": "2023-06-15T01:58:42.444Z"
   },
   {
    "duration": 7,
    "start_time": "2023-06-15T01:58:42.462Z"
   },
   {
    "duration": 38,
    "start_time": "2023-06-15T01:58:42.473Z"
   },
   {
    "duration": 16,
    "start_time": "2023-06-15T01:58:42.513Z"
   },
   {
    "duration": 29,
    "start_time": "2023-06-15T01:58:42.531Z"
   },
   {
    "duration": 248,
    "start_time": "2023-06-15T01:58:42.562Z"
   },
   {
    "duration": 38,
    "start_time": "2023-06-15T01:58:42.812Z"
   },
   {
    "duration": 6,
    "start_time": "2023-06-15T01:58:42.851Z"
   },
   {
    "duration": 28,
    "start_time": "2023-06-15T01:58:42.858Z"
   },
   {
    "duration": 968,
    "start_time": "2023-06-15T01:58:42.887Z"
   },
   {
    "duration": 1086,
    "start_time": "2023-06-15T01:58:43.856Z"
   },
   {
    "duration": 1074,
    "start_time": "2023-06-15T01:58:44.943Z"
   },
   {
    "duration": 977,
    "start_time": "2023-06-15T01:58:46.019Z"
   },
   {
    "duration": 7,
    "start_time": "2023-06-15T01:58:46.999Z"
   },
   {
    "duration": 9,
    "start_time": "2023-06-15T01:58:47.007Z"
   },
   {
    "duration": 7,
    "start_time": "2023-06-15T01:58:47.017Z"
   },
   {
    "duration": 528,
    "start_time": "2023-06-15T01:58:47.025Z"
   },
   {
    "duration": 3,
    "start_time": "2023-06-15T01:58:47.555Z"
   },
   {
    "duration": 643,
    "start_time": "2023-06-15T01:58:47.560Z"
   },
   {
    "duration": 4,
    "start_time": "2023-06-15T01:58:48.205Z"
   },
   {
    "duration": 506,
    "start_time": "2023-06-15T01:58:48.211Z"
   },
   {
    "duration": 4,
    "start_time": "2023-06-15T01:58:48.718Z"
   },
   {
    "duration": 615,
    "start_time": "2023-06-15T01:58:48.723Z"
   },
   {
    "duration": 17,
    "start_time": "2023-06-15T01:58:49.339Z"
   },
   {
    "duration": 3,
    "start_time": "2023-06-15T01:58:49.358Z"
   },
   {
    "duration": 12,
    "start_time": "2023-06-15T01:58:49.362Z"
   },
   {
    "duration": 2331,
    "start_time": "2023-06-15T01:58:49.376Z"
   },
   {
    "duration": 34166,
    "start_time": "2023-06-15T01:58:51.708Z"
   },
   {
    "duration": 320,
    "start_time": "2023-06-15T01:59:25.875Z"
   },
   {
    "duration": 7,
    "start_time": "2023-06-15T01:59:26.196Z"
   }
  ],
  "kernelspec": {
   "display_name": "Python 3 (ipykernel)",
   "language": "python",
   "name": "python3"
  },
  "language_info": {
   "codemirror_mode": {
    "name": "ipython",
    "version": 3
   },
   "file_extension": ".py",
   "mimetype": "text/x-python",
   "name": "python",
   "nbconvert_exporter": "python",
   "pygments_lexer": "ipython3",
   "version": "3.11.5"
  },
  "toc": {
   "base_numbering": 1,
   "nav_menu": {},
   "number_sections": true,
   "sideBar": true,
   "skip_h1_title": true,
   "title_cell": "Содержание",
   "title_sidebar": "Contents",
   "toc_cell": true,
   "toc_position": {
    "height": "calc(100% - 180px)",
    "left": "10px",
    "top": "150px",
    "width": "291px"
   },
   "toc_section_display": true,
   "toc_window_display": true
  }
 },
 "nbformat": 4,
 "nbformat_minor": 2
}
