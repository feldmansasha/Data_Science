{
 "cells": [
  {
   "cell_type": "markdown",
   "metadata": {},
   "source": [
    "# Selecting location for oil well"
   ]
  },
  {
   "cell_type": "markdown",
   "metadata": {},
   "source": [
    "Let's say you work for the mining company. We need to decide where to drill a new well.\n",
    "\n",
    "You were provided with oil samples in three regions: in each 10,000 fields, where the quality of oil and the volume of its reserves were measured. Build a machine learning model that will help determine the region where mining will bring the greatest profit. Analyze the possible profits and risks using the *Bootstrap.* technique\n",
    "\n",
    "Steps to select a location:\n",
    "\n",
    "- Deposits are searched for in the selected region, and the characteristic values are determined for each;\n",
    "- Build a model and estimate the volume of reserves;\n",
    "- Deposits with the highest estimated values are selected. The number of fields depends on the company’s budget and the cost of developing one well;\n",
    "- Profit is equal to the total profit of the selected fields."
   ]
  },
  {
   "cell_type": "markdown",
   "metadata": {},
   "source": [
    "## Preparation of the data"
   ]
  },
  {
   "cell_type": "code",
   "execution_count": 1,
   "metadata": {},
   "outputs": [],
   "source": [
    "import pandas as pd\n",
    "from sklearn.preprocessing import StandardScaler\n",
    "from sklearn.model_selection import train_test_split\n",
    "from sklearn.linear_model import LinearRegression\n",
    "from sklearn.metrics import f1_score, roc_auc_score, mean_squared_error, r2_score\n",
    "\n",
    "from numpy.random import RandomState\n",
    "RANDOM_STATE=RandomState(12345)\n",
    "\n",
    "POINTS=500\n",
    "BEST_POINTS=200\n",
    "BUDGET=10e9 \n",
    "BARREL=45e4\n",
    "MAX_LOSS=0.025\n",
    "BOOTSTRAP_NUMBER=1000"
   ]
  },
  {
   "cell_type": "code",
   "execution_count": 2,
   "metadata": {},
   "outputs": [],
   "source": [
    "region_1=pd.read_csv('geo_data_0.csv')\n",
    "region_2=pd.read_csv('geo_data_1.csv')\n",
    "region_3=pd.read_csv('geo_data_2.csv')"
   ]
  },
  {
   "cell_type": "code",
   "execution_count": 3,
   "metadata": {},
   "outputs": [
    {
     "name": "stdout",
     "output_type": "stream",
     "text": [
      "<class 'pandas.core.frame.DataFrame'>\n",
      "RangeIndex: 100000 entries, 0 to 99999\n",
      "Data columns (total 5 columns):\n",
      " #   Column   Non-Null Count   Dtype  \n",
      "---  ------   --------------   -----  \n",
      " 0   id       100000 non-null  object \n",
      " 1   f0       100000 non-null  float64\n",
      " 2   f1       100000 non-null  float64\n",
      " 3   f2       100000 non-null  float64\n",
      " 4   product  100000 non-null  float64\n",
      "dtypes: float64(4), object(1)\n",
      "memory usage: 3.8+ MB\n",
      "None\n",
      "<class 'pandas.core.frame.DataFrame'>\n",
      "RangeIndex: 100000 entries, 0 to 99999\n",
      "Data columns (total 5 columns):\n",
      " #   Column   Non-Null Count   Dtype  \n",
      "---  ------   --------------   -----  \n",
      " 0   id       100000 non-null  object \n",
      " 1   f0       100000 non-null  float64\n",
      " 2   f1       100000 non-null  float64\n",
      " 3   f2       100000 non-null  float64\n",
      " 4   product  100000 non-null  float64\n",
      "dtypes: float64(4), object(1)\n",
      "memory usage: 3.8+ MB\n",
      "None\n",
      "<class 'pandas.core.frame.DataFrame'>\n",
      "RangeIndex: 100000 entries, 0 to 99999\n",
      "Data columns (total 5 columns):\n",
      " #   Column   Non-Null Count   Dtype  \n",
      "---  ------   --------------   -----  \n",
      " 0   id       100000 non-null  object \n",
      " 1   f0       100000 non-null  float64\n",
      " 2   f1       100000 non-null  float64\n",
      " 3   f2       100000 non-null  float64\n",
      " 4   product  100000 non-null  float64\n",
      "dtypes: float64(4), object(1)\n",
      "memory usage: 3.8+ MB\n",
      "None\n"
     ]
    }
   ],
   "source": [
    "print(region_1.info())\n",
    "print(region_2.info())\n",
    "print(region_3.info())"
   ]
  },
  {
   "cell_type": "code",
   "execution_count": 4,
   "metadata": {},
   "outputs": [
    {
     "name": "stdout",
     "output_type": "stream",
     "text": [
      "      id        f0        f1        f2     product\n",
      "0  txEyH  0.705745 -0.497823  1.221170  105.280062\n",
      "1  2acmU  1.334711 -0.340164  4.365080   73.037750\n",
      "2  409Wp  1.022732  0.151990  1.419926   85.265647\n",
      "3  iJLyR -0.032172  0.139033  2.978566  168.620776\n",
      "4  Xdl7t  1.988431  0.155413  4.751769  154.036647\n",
      "      id         f0         f1        f2     product\n",
      "0  kBEdx -15.001348  -8.276000 -0.005876    3.179103\n",
      "1  62mP7  14.272088  -3.475083  0.999183   26.953261\n",
      "2  vyE1P   6.263187  -5.948386  5.001160  134.766305\n",
      "3  KcrkZ -13.081196 -11.506057  4.999415  137.945408\n",
      "4  AHL4O  12.702195  -8.147433  5.004363  134.766305\n",
      "      id        f0        f1        f2     product\n",
      "0  fwXo0 -1.146987  0.963328 -0.828965   27.758673\n",
      "1  WJtFt  0.262778  0.269839 -2.530187   56.069697\n",
      "2  ovLUW  0.194587  0.289035 -5.586433   62.871910\n",
      "3  q6cA6  2.236060 -0.553760  0.930038  114.572842\n",
      "4  WPMUX -0.515993  1.716266  5.899011  149.600746\n"
     ]
    }
   ],
   "source": [
    "print(region_1.head())\n",
    "print(region_2.head())\n",
    "print(region_3.head())"
   ]
  },
  {
   "cell_type": "code",
   "execution_count": 5,
   "metadata": {},
   "outputs": [
    {
     "name": "stdout",
     "output_type": "stream",
     "text": [
      "Number of duplicate rows in region #1: 0\n",
      "Number of duplicate rows in region #2: 0\n",
      "Number of duplicate rows in region #3: 0\n"
     ]
    }
   ],
   "source": [
    "print(\"Number of duplicate rows in region #1:\", region_1.duplicated().sum())\n",
    "print(\"Number of duplicate rows in region #2:\", region_2.duplicated().sum())\n",
    "print(\"Number of duplicate rows in region #3:\", region_3.duplicated().sum())"
   ]
  },
  {
   "cell_type": "markdown",
   "metadata": {},
   "source": [
    "**Conclusion**\n",
    "\n",
    "High quality source data: no gaps, no duplicate lines."
   ]
  },
  {
   "cell_type": "markdown",
   "metadata": {},
   "source": [
    "## Model training and validation"
   ]
  },
  {
   "cell_type": "markdown",
   "metadata": {},
   "source": [
    "We divide the sample into training and testing for each region:"
   ]
  },
  {
   "cell_type": "code",
   "execution_count": 6,
   "metadata": {},
   "outputs": [],
   "source": [
    "features_1_train, features_1_valid, target_1_train, target_1_valid = \\\n",
    "train_test_split(region_1.drop(columns=['product', 'id']), region_1['product'], test_size=0.25, random_state=RANDOM_STATE)\n",
    "\n",
    "features_2_train, features_2_valid, target_2_train, target_2_valid = \\\n",
    "train_test_split(region_2.drop(columns=['product', 'id']), region_2['product'], test_size=0.25, random_state=RANDOM_STATE)\n",
    "\n",
    "features_3_train, features_3_valid, target_3_train, target_3_valid = \\\n",
    "train_test_split(region_3.drop(columns=['product', 'id']), region_3['product'], test_size=0.25, random_state=RANDOM_STATE)"
   ]
  },
  {
   "cell_type": "code",
   "execution_count": 7,
   "metadata": {},
   "outputs": [],
   "source": [
    "def learn_model(features_train, target_train, features_valid, target_valid):\n",
    "    model=LinearRegression()\n",
    "    model.fit(features_train, target_train)\n",
    "    predictions_valid=model.predict(features_valid)\n",
    "    print('Average volume of predicted raw materials in region: {:.2f} thousands barrels'.format(predictions_valid.mean()))\n",
    "    print('RMSE: {:.2f}'.format(mean_squared_error(target_valid, predictions_valid) ** 0.5))\n",
    "    return predictions_valid"
   ]
  },
  {
   "cell_type": "markdown",
   "metadata": {},
   "source": [
    "Training the model in each region"
   ]
  },
  {
   "cell_type": "code",
   "execution_count": 8,
   "metadata": {},
   "outputs": [
    {
     "name": "stdout",
     "output_type": "stream",
     "text": [
      "Average volume of predicted raw materials in region: 92.59 thousands barrels\n",
      "RMSE: 37.58\n"
     ]
    }
   ],
   "source": [
    "predictions_1_valid=learn_model(features_1_train, target_1_train, features_1_valid, target_1_valid)"
   ]
  },
  {
   "cell_type": "code",
   "execution_count": 9,
   "metadata": {},
   "outputs": [
    {
     "name": "stdout",
     "output_type": "stream",
     "text": [
      "Average volume of predicted raw materials in region: 68.77 thousands barrels\n",
      "RMSE: 0.89\n"
     ]
    }
   ],
   "source": [
    "predictions_2_valid=learn_model(features_2_train, target_2_train, features_2_valid, target_2_valid)"
   ]
  },
  {
   "cell_type": "code",
   "execution_count": 10,
   "metadata": {},
   "outputs": [
    {
     "name": "stdout",
     "output_type": "stream",
     "text": [
      "Average volume of predicted raw materials in region: 95.09 thousands barrels\n",
      "RMSE: 39.96\n"
     ]
    }
   ],
   "source": [
    "predictions_3_valid=learn_model(features_3_train, target_3_train, features_3_valid, target_3_valid)"
   ]
  },
  {
   "cell_type": "markdown",
   "metadata": {},
   "source": [
    "**Conclusion**\n",
    "\n",
    "The smallest error is in region No. 2.\n",
    "\n",
    "At the same time, the average oil reserve there is 35% less than in the first or third regions."
   ]
  },
  {
   "cell_type": "code",
   "execution_count": 11,
   "metadata": {},
   "outputs": [
    {
     "name": "stdout",
     "output_type": "stream",
     "text": [
      "Sufficient volume of raw materials for break-even development of a new well: 111.11 thousands barrels\n"
     ]
    }
   ],
   "source": [
    "budger_per_each=BUDGET/BEST_POINTS\n",
    "min_amount=budger_per_each/BARREL\n",
    "print('Sufficient volume of raw materials for break-even development of a new well: {:.2f} thousands barrels'.format(min_amount))"
   ]
  },
  {
   "cell_type": "markdown",
   "metadata": {},
   "source": [
    "The profit function, which calculates the profit and production volume in each region:"
   ]
  },
  {
   "cell_type": "code",
   "execution_count": 12,
   "metadata": {},
   "outputs": [],
   "source": [
    "def profit (target_valid, predictions_valid):\n",
    "    predictions_valid=pd.Series(predictions_valid)\n",
    "    predictions_valid=predictions_valid.sample(POINTS, replace=True, random_state=RANDOM_STATE)\n",
    "    predictions_valid=predictions_valid.sort_values(ascending=False)[:BEST_POINTS]\n",
    "    volume=(target_valid.reset_index(drop=True)[predictions_valid.index]).sum()\n",
    "    result=volume*BARREL-BUDGET\n",
    "    result/=10**6\n",
    "    return result, volume"
   ]
  },
  {
   "cell_type": "code",
   "execution_count": 13,
   "metadata": {},
   "outputs": [
    {
     "name": "stdout",
     "output_type": "stream",
     "text": [
      "Profit from the first region: 334.51 mln rubles\n",
      "Production volume: 22965.57 thousands barrels\n"
     ]
    }
   ],
   "source": [
    "profit_1, volume1=profit(target_1_valid, predictions_1_valid)\n",
    "print('Profit from the first region: {:.2f} mln rubles'.format(profit_1))\n",
    "print('Production volume: {:.2f} thousands barrels'.format(volume1))"
   ]
  },
  {
   "cell_type": "code",
   "execution_count": 14,
   "metadata": {},
   "outputs": [
    {
     "name": "stdout",
     "output_type": "stream",
     "text": [
      "Profit from the second region: 338.61 mln rubles\n",
      "Production volume: 22974.68 thousands barrels\n"
     ]
    }
   ],
   "source": [
    "profit_2, volume2=profit(target_2_valid, predictions_2_valid)\n",
    "print('Profit from the second region: {:.2f} mln rubles'.format(profit_2))\n",
    "print('Production volume: {:.2f} thousands barrels'.format(volume2))"
   ]
  },
  {
   "cell_type": "code",
   "execution_count": 15,
   "metadata": {},
   "outputs": [
    {
     "name": "stdout",
     "output_type": "stream",
     "text": [
      "Profit from the third region: 407.97 mln rubles\n",
      "Production volume: 23128.83 thousands barrels\n"
     ]
    }
   ],
   "source": [
    "profit_3, volume3=profit(target_3_valid, predictions_3_valid)\n",
    "print('Profit from the third region: {:.2f} mln rubles'.format(profit_3))\n",
    "print('Production volume: {:.2f} thousands barrels'.format(volume3))"
   ]
  },
  {
   "cell_type": "markdown",
   "metadata": {},
   "source": [
    "**Conclusion**\n",
    "\n",
    "1. The minimum volume of raw materials that is advisable to extract is 111.11 thousand barrels, which is higher than the average for all the regions. This means that it is profitable to develop only part of the wells.\n",
    "2. A profit function has been created that calculates the profit from the region and the volume of extracted raw materials."
   ]
  },
  {
   "cell_type": "markdown",
   "metadata": {},
   "source": [
    "## Calculation of profits and risks"
   ]
  },
  {
   "cell_type": "code",
   "execution_count": 16,
   "metadata": {},
   "outputs": [],
   "source": [
    "def profit_bootstrap (target_valid, predictions_valid):\n",
    "    profits=[]\n",
    "    \n",
    "    for i in range (BOOTSTRAP_NUMBER):\n",
    "        answer, volume=profit(target_valid, predictions_valid)\n",
    "        profits.append(answer)\n",
    "    \n",
    "    profits=pd.Series(profits)\n",
    "    profit_mean=profits.mean()\n",
    "    \n",
    "    lower=profits.quantile(0.025)\n",
    "    upper=profits.quantile(0.975)\n",
    "    \n",
    "    loss_chance = (profits < 0).sum() / BOOTSTRAP_NUMBER \n",
    "    \n",
    "    print('Average profit (million rubles): {:.2f}'.format(profit_mean))\n",
    "    print('95% confidence interval (million rubles): ({:.2f}, {:.2f})'.format(lower, upper))\n",
    "    \n",
    "    if loss_chance < MAX_LOSS: \n",
    "        print('The risk of loss is {}, which is less than the maximum permissible probability {}'.format(loss_chance, MAX_LOSS))\n",
    "    else:\n",
    "        print('The risk of loss is {}, which is more than the maximum permissible probability {}'.format(loss_chance, MAX_LOSS))    "
   ]
  },
  {
   "cell_type": "code",
   "execution_count": 17,
   "metadata": {},
   "outputs": [
    {
     "name": "stdout",
     "output_type": "stream",
     "text": [
      "Average profit (million rubles): 394.14\n",
      "95% confidence interval (million rubles): (-69.45, 915.50)\n",
      "The risk of loss is 0.061, which is more than the maximum permissible probability 0.025\n"
     ]
    }
   ],
   "source": [
    "profit_bootstrap(target_1_valid, predictions_1_valid)"
   ]
  },
  {
   "cell_type": "code",
   "execution_count": 18,
   "metadata": {},
   "outputs": [
    {
     "name": "stdout",
     "output_type": "stream",
     "text": [
      "Average profit (million rubles): 454.46\n",
      "95% confidence interval (million rubles): (64.53, 855.13)\n",
      "The risk of loss is 0.007, which is less than the maximum permissible probability 0.025\n"
     ]
    }
   ],
   "source": [
    "profit_bootstrap(target_2_valid, predictions_2_valid)"
   ]
  },
  {
   "cell_type": "code",
   "execution_count": 19,
   "metadata": {},
   "outputs": [
    {
     "name": "stdout",
     "output_type": "stream",
     "text": [
      "Average profit (million rubles): 353.74\n",
      "95% confidence interval (million rubles): (-162.65, 847.76)\n",
      "The risk of loss is 0.076, which is more than the maximum permissible probability 0.025\n"
     ]
    }
   ],
   "source": [
    "profit_bootstrap(target_3_valid, predictions_3_valid)"
   ]
  },
  {
   "cell_type": "markdown",
   "metadata": {},
   "source": [
    "**Conclusion**\n",
    "\n",
    "The only suitable region for drilling wells is the second (geo_data_1).\n",
    "\n",
    "1. Only in the second region the risk of losses is lower than the specified maximum risk.\n",
    "2. The second region has the highest average profit.\n",
    "3. The confidence interval is already only in region number 2."
   ]
  }
 ],
 "metadata": {
  "ExecuteTimeLog": [
   {
    "duration": 431,
    "start_time": "2023-06-03T18:59:37.854Z"
   },
   {
    "duration": 377,
    "start_time": "2023-06-03T18:59:46.856Z"
   },
   {
    "duration": 518,
    "start_time": "2023-06-03T19:00:26.634Z"
   },
   {
    "duration": 15,
    "start_time": "2023-06-03T19:00:46.929Z"
   },
   {
    "duration": 13,
    "start_time": "2023-06-03T19:00:53.081Z"
   },
   {
    "duration": 41,
    "start_time": "2023-06-03T19:01:21.665Z"
   },
   {
    "duration": 12,
    "start_time": "2023-06-03T19:01:59.085Z"
   },
   {
    "duration": 42,
    "start_time": "2023-06-03T19:03:15.161Z"
   },
   {
    "duration": 107,
    "start_time": "2023-06-03T19:04:04.489Z"
   },
   {
    "duration": 112,
    "start_time": "2023-06-03T19:04:14.238Z"
   },
   {
    "duration": 109,
    "start_time": "2023-06-03T19:04:21.829Z"
   },
   {
    "duration": 14,
    "start_time": "2023-06-03T19:05:10.556Z"
   },
   {
    "duration": 18,
    "start_time": "2023-06-03T19:05:18.408Z"
   },
   {
    "duration": 863,
    "start_time": "2023-06-03T19:05:22.700Z"
   },
   {
    "duration": 37,
    "start_time": "2023-06-03T19:06:01.300Z"
   },
   {
    "duration": 35,
    "start_time": "2023-06-03T19:06:09.078Z"
   },
   {
    "duration": 36,
    "start_time": "2023-06-03T19:06:12.105Z"
   },
   {
    "duration": 10,
    "start_time": "2023-06-03T19:19:05.071Z"
   },
   {
    "duration": 971,
    "start_time": "2023-06-03T19:19:28.057Z"
   },
   {
    "duration": 30,
    "start_time": "2023-06-03T19:19:29.030Z"
   },
   {
    "duration": 9,
    "start_time": "2023-06-03T19:19:29.062Z"
   },
   {
    "duration": 100,
    "start_time": "2023-06-03T19:19:29.072Z"
   },
   {
    "duration": 52,
    "start_time": "2023-06-03T19:19:29.173Z"
   },
   {
    "duration": 16,
    "start_time": "2023-06-03T19:20:04.768Z"
   },
   {
    "duration": 19,
    "start_time": "2023-06-03T19:20:27.073Z"
   },
   {
    "duration": 17,
    "start_time": "2023-06-03T19:20:37.116Z"
   },
   {
    "duration": 40,
    "start_time": "2023-06-03T19:21:37.296Z"
   },
   {
    "duration": 380,
    "start_time": "2023-06-03T19:23:17.518Z"
   },
   {
    "duration": 30,
    "start_time": "2023-06-03T19:23:17.900Z"
   },
   {
    "duration": 12,
    "start_time": "2023-06-03T19:23:17.931Z"
   },
   {
    "duration": 134,
    "start_time": "2023-06-03T19:23:17.945Z"
   },
   {
    "duration": 75,
    "start_time": "2023-06-03T19:23:18.084Z"
   },
   {
    "duration": 0,
    "start_time": "2023-06-03T19:23:18.161Z"
   },
   {
    "duration": 70,
    "start_time": "2023-06-03T19:23:40.496Z"
   },
   {
    "duration": 92,
    "start_time": "2023-06-03T19:30:09.963Z"
   },
   {
    "duration": 31,
    "start_time": "2023-06-03T19:30:17.120Z"
   },
   {
    "duration": 24,
    "start_time": "2023-06-03T19:30:42.630Z"
   },
   {
    "duration": 29,
    "start_time": "2023-06-03T19:32:05.956Z"
   },
   {
    "duration": 3,
    "start_time": "2023-06-03T19:32:12.308Z"
   },
   {
    "duration": 32,
    "start_time": "2023-06-03T19:32:15.953Z"
   },
   {
    "duration": 32,
    "start_time": "2023-06-03T19:33:22.700Z"
   },
   {
    "duration": 9,
    "start_time": "2023-06-03T19:33:24.805Z"
   },
   {
    "duration": 9,
    "start_time": "2023-06-03T19:33:27.589Z"
   },
   {
    "duration": 16,
    "start_time": "2023-06-03T19:33:31.224Z"
   },
   {
    "duration": 12,
    "start_time": "2023-06-03T19:33:43.802Z"
   },
   {
    "duration": 28,
    "start_time": "2023-06-03T19:34:29.731Z"
   },
   {
    "duration": 263,
    "start_time": "2023-06-03T19:35:39.433Z"
   },
   {
    "duration": 235,
    "start_time": "2023-06-03T19:35:47.750Z"
   },
   {
    "duration": 104,
    "start_time": "2023-06-03T19:36:13.888Z"
   },
   {
    "duration": 66,
    "start_time": "2023-06-03T19:36:38.622Z"
   },
   {
    "duration": 111,
    "start_time": "2023-06-03T19:38:11.582Z"
   },
   {
    "duration": 36,
    "start_time": "2023-06-03T19:38:37.756Z"
   },
   {
    "duration": 13,
    "start_time": "2023-06-03T19:42:46.389Z"
   },
   {
    "duration": 322,
    "start_time": "2023-06-03T19:49:16.399Z"
   },
   {
    "duration": 30,
    "start_time": "2023-06-03T19:49:16.722Z"
   },
   {
    "duration": 10,
    "start_time": "2023-06-03T19:49:16.754Z"
   },
   {
    "duration": 116,
    "start_time": "2023-06-03T19:49:16.765Z"
   },
   {
    "duration": 776,
    "start_time": "2023-06-03T19:49:16.884Z"
   },
   {
    "duration": 25,
    "start_time": "2023-06-03T19:49:17.661Z"
   },
   {
    "duration": 203,
    "start_time": "2023-06-03T19:49:17.687Z"
   },
   {
    "duration": 26,
    "start_time": "2023-06-03T19:49:50.068Z"
   },
   {
    "duration": 152,
    "start_time": "2023-06-03T19:49:55.938Z"
   },
   {
    "duration": 757,
    "start_time": "2023-06-03T19:50:14.891Z"
   },
   {
    "duration": 772,
    "start_time": "2023-06-03T19:50:27.707Z"
   },
   {
    "duration": 17,
    "start_time": "2023-06-03T19:50:57.910Z"
   },
   {
    "duration": 16,
    "start_time": "2023-06-03T19:51:33.303Z"
   },
   {
    "duration": 4,
    "start_time": "2023-06-03T19:51:43.327Z"
   },
   {
    "duration": 254,
    "start_time": "2023-06-03T19:51:47.165Z"
   },
   {
    "duration": 13,
    "start_time": "2023-06-03T19:51:56.326Z"
   },
   {
    "duration": 26,
    "start_time": "2023-06-03T19:52:02.307Z"
   },
   {
    "duration": 31,
    "start_time": "2023-06-03T19:52:05.164Z"
   },
   {
    "duration": 268,
    "start_time": "2023-06-03T19:52:46.388Z"
   },
   {
    "duration": 296,
    "start_time": "2023-06-03T19:53:34.411Z"
   },
   {
    "duration": 8,
    "start_time": "2023-06-03T19:57:28.558Z"
   },
   {
    "duration": 314,
    "start_time": "2023-06-03T19:58:09.655Z"
   },
   {
    "duration": 35,
    "start_time": "2023-06-03T19:58:09.971Z"
   },
   {
    "duration": 10,
    "start_time": "2023-06-03T19:58:10.007Z"
   },
   {
    "duration": 107,
    "start_time": "2023-06-03T19:58:10.018Z"
   },
   {
    "duration": 5,
    "start_time": "2023-06-03T19:58:10.127Z"
   },
   {
    "duration": 32,
    "start_time": "2023-06-03T19:58:10.133Z"
   },
   {
    "duration": 20,
    "start_time": "2023-06-03T19:58:10.166Z"
   },
   {
    "duration": 101,
    "start_time": "2023-06-03T19:58:10.187Z"
   },
   {
    "duration": 315,
    "start_time": "2023-06-03T19:58:34.408Z"
   },
   {
    "duration": 29,
    "start_time": "2023-06-03T19:58:34.725Z"
   },
   {
    "duration": 9,
    "start_time": "2023-06-03T19:58:34.756Z"
   },
   {
    "duration": 111,
    "start_time": "2023-06-03T19:58:34.766Z"
   },
   {
    "duration": 9,
    "start_time": "2023-06-03T19:58:34.879Z"
   },
   {
    "duration": 38,
    "start_time": "2023-06-03T19:58:34.889Z"
   },
   {
    "duration": 10,
    "start_time": "2023-06-03T19:58:34.929Z"
   },
   {
    "duration": 150,
    "start_time": "2023-06-03T19:58:34.941Z"
   },
   {
    "duration": 17,
    "start_time": "2023-06-03T19:59:34.297Z"
   },
   {
    "duration": 39,
    "start_time": "2023-06-03T19:59:40.250Z"
   },
   {
    "duration": 383,
    "start_time": "2023-06-03T20:01:46.832Z"
   },
   {
    "duration": 34,
    "start_time": "2023-06-03T20:01:47.217Z"
   },
   {
    "duration": 10,
    "start_time": "2023-06-03T20:01:47.253Z"
   },
   {
    "duration": 124,
    "start_time": "2023-06-03T20:01:47.264Z"
   },
   {
    "duration": 13,
    "start_time": "2023-06-03T20:01:47.390Z"
   },
   {
    "duration": 37,
    "start_time": "2023-06-03T20:01:47.404Z"
   },
   {
    "duration": 163,
    "start_time": "2023-06-03T20:01:47.443Z"
   },
   {
    "duration": 2,
    "start_time": "2023-06-03T20:18:58.721Z"
   },
   {
    "duration": 2,
    "start_time": "2023-06-03T20:19:02.703Z"
   },
   {
    "duration": 4,
    "start_time": "2023-06-03T20:19:48.212Z"
   },
   {
    "duration": 8,
    "start_time": "2023-06-03T20:20:24.119Z"
   },
   {
    "duration": 3,
    "start_time": "2023-06-03T20:20:32.531Z"
   },
   {
    "duration": 8,
    "start_time": "2023-06-03T20:36:45.356Z"
   },
   {
    "duration": 323,
    "start_time": "2023-06-03T20:38:06.405Z"
   },
   {
    "duration": 31,
    "start_time": "2023-06-03T20:38:06.730Z"
   },
   {
    "duration": 22,
    "start_time": "2023-06-03T20:38:06.762Z"
   },
   {
    "duration": 102,
    "start_time": "2023-06-03T20:38:06.786Z"
   },
   {
    "duration": 6,
    "start_time": "2023-06-03T20:38:06.889Z"
   },
   {
    "duration": 29,
    "start_time": "2023-06-03T20:38:06.896Z"
   },
   {
    "duration": 166,
    "start_time": "2023-06-03T20:38:06.926Z"
   },
   {
    "duration": 3,
    "start_time": "2023-06-03T20:38:07.186Z"
   },
   {
    "duration": 95,
    "start_time": "2023-06-03T20:38:07.191Z"
   },
   {
    "duration": 12,
    "start_time": "2023-06-03T20:38:07.288Z"
   },
   {
    "duration": 329,
    "start_time": "2023-06-03T20:39:01.088Z"
   },
   {
    "duration": 33,
    "start_time": "2023-06-03T20:39:01.419Z"
   },
   {
    "duration": 12,
    "start_time": "2023-06-03T20:39:01.453Z"
   },
   {
    "duration": 125,
    "start_time": "2023-06-03T20:39:01.466Z"
   },
   {
    "duration": 6,
    "start_time": "2023-06-03T20:39:01.594Z"
   },
   {
    "duration": 61,
    "start_time": "2023-06-03T20:39:01.602Z"
   },
   {
    "duration": 129,
    "start_time": "2023-06-03T20:39:01.664Z"
   },
   {
    "duration": 102,
    "start_time": "2023-06-03T20:39:01.884Z"
   },
   {
    "duration": 19,
    "start_time": "2023-06-03T20:39:01.988Z"
   },
   {
    "duration": 20,
    "start_time": "2023-06-03T20:39:02.009Z"
   },
   {
    "duration": 8,
    "start_time": "2023-06-03T20:39:07.511Z"
   },
   {
    "duration": 9,
    "start_time": "2023-06-03T20:43:39.780Z"
   },
   {
    "duration": 9,
    "start_time": "2023-06-03T20:44:23.871Z"
   },
   {
    "duration": 14,
    "start_time": "2023-06-03T20:44:28.861Z"
   },
   {
    "duration": 7,
    "start_time": "2023-06-03T20:50:09.575Z"
   },
   {
    "duration": 3,
    "start_time": "2023-06-03T20:50:14.590Z"
   },
   {
    "duration": 7,
    "start_time": "2023-06-03T20:50:25.553Z"
   },
   {
    "duration": 3,
    "start_time": "2023-06-03T20:51:06.810Z"
   },
   {
    "duration": 5,
    "start_time": "2023-06-03T20:51:10.735Z"
   },
   {
    "duration": 8,
    "start_time": "2023-06-03T20:51:18.281Z"
   },
   {
    "duration": 7,
    "start_time": "2023-06-03T20:51:28.560Z"
   },
   {
    "duration": 8,
    "start_time": "2023-06-03T20:53:15.462Z"
   },
   {
    "duration": 8,
    "start_time": "2023-06-03T20:53:33.729Z"
   },
   {
    "duration": 8,
    "start_time": "2023-06-03T20:53:40.741Z"
   },
   {
    "duration": 17,
    "start_time": "2023-06-03T20:54:28.761Z"
   },
   {
    "duration": 14,
    "start_time": "2023-06-03T20:55:38.097Z"
   },
   {
    "duration": 17,
    "start_time": "2023-06-03T20:55:48.962Z"
   },
   {
    "duration": 17,
    "start_time": "2023-06-03T20:55:51.687Z"
   },
   {
    "duration": 8,
    "start_time": "2023-06-03T20:55:55.397Z"
   },
   {
    "duration": 13,
    "start_time": "2023-06-03T20:56:08.258Z"
   },
   {
    "duration": 15,
    "start_time": "2023-06-03T20:57:29.177Z"
   },
   {
    "duration": 17,
    "start_time": "2023-06-03T20:57:47.257Z"
   },
   {
    "duration": 78,
    "start_time": "2023-06-03T20:59:01.090Z"
   },
   {
    "duration": 90,
    "start_time": "2023-06-03T20:59:26.234Z"
   },
   {
    "duration": 6,
    "start_time": "2023-06-03T20:59:31.102Z"
   },
   {
    "duration": 9,
    "start_time": "2023-06-03T20:59:42.641Z"
   },
   {
    "duration": 6,
    "start_time": "2023-06-03T21:00:19.578Z"
   },
   {
    "duration": 6,
    "start_time": "2023-06-03T21:00:37.536Z"
   },
   {
    "duration": 8,
    "start_time": "2023-06-03T21:00:40.979Z"
   },
   {
    "duration": 2,
    "start_time": "2023-06-03T21:01:47.925Z"
   },
   {
    "duration": 11,
    "start_time": "2023-06-03T21:01:50.085Z"
   },
   {
    "duration": 4,
    "start_time": "2023-06-03T21:01:55.009Z"
   },
   {
    "duration": 10,
    "start_time": "2023-06-03T21:01:57.408Z"
   },
   {
    "duration": 5,
    "start_time": "2023-06-03T21:02:02.958Z"
   },
   {
    "duration": 3,
    "start_time": "2023-06-03T21:02:37.759Z"
   },
   {
    "duration": 9,
    "start_time": "2023-06-03T21:02:40.649Z"
   },
   {
    "duration": 3,
    "start_time": "2023-06-03T21:02:49.524Z"
   },
   {
    "duration": 8,
    "start_time": "2023-06-03T21:02:54.842Z"
   },
   {
    "duration": 2,
    "start_time": "2023-06-03T21:03:04.186Z"
   },
   {
    "duration": 4,
    "start_time": "2023-06-03T21:03:07.180Z"
   },
   {
    "duration": 3,
    "start_time": "2023-06-03T21:03:15.611Z"
   },
   {
    "duration": 3,
    "start_time": "2023-06-03T21:03:17.671Z"
   },
   {
    "duration": 2,
    "start_time": "2023-06-03T21:03:21.725Z"
   },
   {
    "duration": 3,
    "start_time": "2023-06-03T21:03:23.150Z"
   },
   {
    "duration": 336,
    "start_time": "2023-06-03T21:03:27.516Z"
   },
   {
    "duration": 37,
    "start_time": "2023-06-03T21:03:27.854Z"
   },
   {
    "duration": 8,
    "start_time": "2023-06-03T21:03:27.893Z"
   },
   {
    "duration": 105,
    "start_time": "2023-06-03T21:03:27.903Z"
   },
   {
    "duration": 5,
    "start_time": "2023-06-03T21:03:28.010Z"
   },
   {
    "duration": 46,
    "start_time": "2023-06-03T21:03:28.016Z"
   },
   {
    "duration": 123,
    "start_time": "2023-06-03T21:03:28.064Z"
   },
   {
    "duration": 3,
    "start_time": "2023-06-03T21:03:28.189Z"
   },
   {
    "duration": 192,
    "start_time": "2023-06-03T21:03:28.193Z"
   },
   {
    "duration": 35,
    "start_time": "2023-06-03T21:03:28.386Z"
   },
   {
    "duration": 3,
    "start_time": "2023-06-03T21:03:42.544Z"
   },
   {
    "duration": 3,
    "start_time": "2023-06-03T21:03:43.902Z"
   },
   {
    "duration": 2,
    "start_time": "2023-06-03T21:03:50.283Z"
   },
   {
    "duration": 3,
    "start_time": "2023-06-03T21:03:51.745Z"
   },
   {
    "duration": 8,
    "start_time": "2023-06-03T21:03:55.123Z"
   },
   {
    "duration": 318,
    "start_time": "2023-06-03T21:04:04.544Z"
   },
   {
    "duration": 35,
    "start_time": "2023-06-03T21:04:04.864Z"
   },
   {
    "duration": 9,
    "start_time": "2023-06-03T21:04:04.900Z"
   },
   {
    "duration": 111,
    "start_time": "2023-06-03T21:04:04.910Z"
   },
   {
    "duration": 6,
    "start_time": "2023-06-03T21:04:05.023Z"
   },
   {
    "duration": 32,
    "start_time": "2023-06-03T21:04:05.031Z"
   },
   {
    "duration": 127,
    "start_time": "2023-06-03T21:04:05.064Z"
   },
   {
    "duration": 94,
    "start_time": "2023-06-03T21:04:05.192Z"
   },
   {
    "duration": 103,
    "start_time": "2023-06-03T21:04:05.288Z"
   },
   {
    "duration": 21,
    "start_time": "2023-06-03T21:04:05.393Z"
   },
   {
    "duration": 4,
    "start_time": "2023-06-03T21:04:17.709Z"
   },
   {
    "duration": 3,
    "start_time": "2023-06-03T21:04:27.306Z"
   },
   {
    "duration": 4,
    "start_time": "2023-06-03T21:04:28.629Z"
   },
   {
    "duration": 8,
    "start_time": "2023-06-03T21:04:44.040Z"
   },
   {
    "duration": 6,
    "start_time": "2023-06-03T21:05:57.657Z"
   },
   {
    "duration": 7,
    "start_time": "2023-06-03T21:06:48.235Z"
   },
   {
    "duration": 7,
    "start_time": "2023-06-03T21:06:50.224Z"
   },
   {
    "duration": 6,
    "start_time": "2023-06-03T21:06:50.950Z"
   },
   {
    "duration": 8,
    "start_time": "2023-06-03T21:06:51.448Z"
   },
   {
    "duration": 8,
    "start_time": "2023-06-03T21:06:51.897Z"
   },
   {
    "duration": 9,
    "start_time": "2023-06-03T21:06:55.945Z"
   },
   {
    "duration": 85,
    "start_time": "2023-06-03T21:09:10.542Z"
   },
   {
    "duration": 3,
    "start_time": "2023-06-03T21:09:22.166Z"
   },
   {
    "duration": 6,
    "start_time": "2023-06-03T21:09:44.133Z"
   },
   {
    "duration": 9,
    "start_time": "2023-06-03T21:09:48.546Z"
   },
   {
    "duration": 6,
    "start_time": "2023-06-03T21:10:39.667Z"
   },
   {
    "duration": 3,
    "start_time": "2023-06-03T21:11:05.777Z"
   },
   {
    "duration": 7,
    "start_time": "2023-06-03T21:11:08.055Z"
   },
   {
    "duration": 3,
    "start_time": "2023-06-03T21:11:24.543Z"
   },
   {
    "duration": 7,
    "start_time": "2023-06-03T21:11:26.226Z"
   },
   {
    "duration": 10,
    "start_time": "2023-06-03T21:11:47.782Z"
   },
   {
    "duration": 13,
    "start_time": "2023-06-03T21:11:55.910Z"
   },
   {
    "duration": 15,
    "start_time": "2023-06-03T21:12:27.240Z"
   },
   {
    "duration": 14,
    "start_time": "2023-06-03T21:13:10.107Z"
   },
   {
    "duration": 3,
    "start_time": "2023-06-03T21:15:16.270Z"
   },
   {
    "duration": 11,
    "start_time": "2023-06-03T21:15:18.331Z"
   },
   {
    "duration": 3,
    "start_time": "2023-06-03T21:15:25.533Z"
   },
   {
    "duration": 14,
    "start_time": "2023-06-03T21:15:26.638Z"
   },
   {
    "duration": 3,
    "start_time": "2023-06-03T21:17:12.796Z"
   },
   {
    "duration": 14,
    "start_time": "2023-06-03T21:17:14.410Z"
   },
   {
    "duration": 3,
    "start_time": "2023-06-03T21:17:29.672Z"
   },
   {
    "duration": 15,
    "start_time": "2023-06-03T21:17:31.176Z"
   },
   {
    "duration": 3,
    "start_time": "2023-06-03T21:19:45.689Z"
   },
   {
    "duration": 15,
    "start_time": "2023-06-03T21:19:51.832Z"
   },
   {
    "duration": 14,
    "start_time": "2023-06-03T21:21:13.758Z"
   },
   {
    "duration": 16,
    "start_time": "2023-06-03T21:21:28.644Z"
   },
   {
    "duration": 3,
    "start_time": "2023-06-03T21:24:13.668Z"
   },
   {
    "duration": 15,
    "start_time": "2023-06-03T21:24:16.226Z"
   },
   {
    "duration": 4,
    "start_time": "2023-06-03T21:24:22.581Z"
   },
   {
    "duration": 15,
    "start_time": "2023-06-03T21:24:29.716Z"
   },
   {
    "duration": 14,
    "start_time": "2023-06-03T21:26:05.844Z"
   },
   {
    "duration": 4,
    "start_time": "2023-06-03T21:29:12.025Z"
   },
   {
    "duration": 17,
    "start_time": "2023-06-03T21:29:14.052Z"
   },
   {
    "duration": 16,
    "start_time": "2023-06-03T21:29:17.143Z"
   },
   {
    "duration": 16,
    "start_time": "2023-06-03T21:29:17.835Z"
   },
   {
    "duration": 19,
    "start_time": "2023-06-03T21:29:18.329Z"
   },
   {
    "duration": 18,
    "start_time": "2023-06-03T21:29:18.975Z"
   },
   {
    "duration": 18,
    "start_time": "2023-06-03T21:29:19.639Z"
   },
   {
    "duration": 3,
    "start_time": "2023-06-03T21:29:27.024Z"
   },
   {
    "duration": 11,
    "start_time": "2023-06-03T21:29:30.371Z"
   },
   {
    "duration": 11,
    "start_time": "2023-06-03T21:29:31.545Z"
   },
   {
    "duration": 10,
    "start_time": "2023-06-03T21:29:32.064Z"
   },
   {
    "duration": 9,
    "start_time": "2023-06-03T21:29:32.508Z"
   },
   {
    "duration": 10,
    "start_time": "2023-06-03T21:29:32.898Z"
   },
   {
    "duration": 11,
    "start_time": "2023-06-03T21:29:38.381Z"
   },
   {
    "duration": 3,
    "start_time": "2023-06-03T21:30:10.888Z"
   },
   {
    "duration": 9,
    "start_time": "2023-06-03T21:30:12.868Z"
   },
   {
    "duration": 10,
    "start_time": "2023-06-03T21:30:19.465Z"
   },
   {
    "duration": 8,
    "start_time": "2023-06-03T21:30:20.765Z"
   },
   {
    "duration": 9,
    "start_time": "2023-06-03T21:30:21.434Z"
   },
   {
    "duration": 9,
    "start_time": "2023-06-03T21:30:22.197Z"
   },
   {
    "duration": 4,
    "start_time": "2023-06-03T21:30:24.455Z"
   },
   {
    "duration": 321,
    "start_time": "2023-06-03T21:30:37.811Z"
   },
   {
    "duration": 31,
    "start_time": "2023-06-03T21:30:38.133Z"
   },
   {
    "duration": 22,
    "start_time": "2023-06-03T21:30:38.165Z"
   },
   {
    "duration": 101,
    "start_time": "2023-06-03T21:30:38.188Z"
   },
   {
    "duration": 5,
    "start_time": "2023-06-03T21:30:38.292Z"
   },
   {
    "duration": 23,
    "start_time": "2023-06-03T21:30:38.298Z"
   },
   {
    "duration": 169,
    "start_time": "2023-06-03T21:30:38.323Z"
   },
   {
    "duration": 193,
    "start_time": "2023-06-03T21:30:38.493Z"
   },
   {
    "duration": 10,
    "start_time": "2023-06-03T21:30:38.687Z"
   },
   {
    "duration": 5,
    "start_time": "2023-06-03T21:30:38.699Z"
   },
   {
    "duration": 12,
    "start_time": "2023-06-03T21:30:38.705Z"
   },
   {
    "duration": 324,
    "start_time": "2023-06-03T21:31:21.668Z"
   },
   {
    "duration": 29,
    "start_time": "2023-06-03T21:31:21.994Z"
   },
   {
    "duration": 9,
    "start_time": "2023-06-03T21:31:22.024Z"
   },
   {
    "duration": 110,
    "start_time": "2023-06-03T21:31:22.035Z"
   },
   {
    "duration": 6,
    "start_time": "2023-06-03T21:31:22.147Z"
   },
   {
    "duration": 22,
    "start_time": "2023-06-03T21:31:22.154Z"
   },
   {
    "duration": 107,
    "start_time": "2023-06-03T21:31:22.184Z"
   },
   {
    "duration": 3,
    "start_time": "2023-06-03T21:31:22.384Z"
   },
   {
    "duration": 104,
    "start_time": "2023-06-03T21:31:22.389Z"
   },
   {
    "duration": 4,
    "start_time": "2023-06-03T21:31:22.494Z"
   },
   {
    "duration": 11,
    "start_time": "2023-06-03T21:31:22.499Z"
   },
   {
    "duration": 3,
    "start_time": "2023-06-03T21:31:27.457Z"
   },
   {
    "duration": 9,
    "start_time": "2023-06-03T21:31:29.185Z"
   },
   {
    "duration": 9,
    "start_time": "2023-06-03T21:31:29.866Z"
   },
   {
    "duration": 8,
    "start_time": "2023-06-03T21:31:32.651Z"
   },
   {
    "duration": 316,
    "start_time": "2023-06-03T21:32:09.620Z"
   },
   {
    "duration": 9,
    "start_time": "2023-06-03T21:32:13.833Z"
   },
   {
    "duration": 349,
    "start_time": "2023-06-03T21:32:18.944Z"
   },
   {
    "duration": 32,
    "start_time": "2023-06-03T21:32:19.295Z"
   },
   {
    "duration": 9,
    "start_time": "2023-06-03T21:32:19.328Z"
   },
   {
    "duration": 126,
    "start_time": "2023-06-03T21:32:19.339Z"
   },
   {
    "duration": 6,
    "start_time": "2023-06-03T21:32:19.467Z"
   },
   {
    "duration": 50,
    "start_time": "2023-06-03T21:32:19.474Z"
   },
   {
    "duration": 162,
    "start_time": "2023-06-03T21:32:19.526Z"
   },
   {
    "duration": 108,
    "start_time": "2023-06-03T21:32:19.689Z"
   },
   {
    "duration": 88,
    "start_time": "2023-06-03T21:32:19.799Z"
   },
   {
    "duration": 21,
    "start_time": "2023-06-03T21:32:19.889Z"
   },
   {
    "duration": 13,
    "start_time": "2023-06-03T21:32:19.912Z"
   },
   {
    "duration": 342,
    "start_time": "2023-06-03T21:32:51.730Z"
   },
   {
    "duration": 41,
    "start_time": "2023-06-03T21:32:52.076Z"
   },
   {
    "duration": 10,
    "start_time": "2023-06-03T21:32:52.118Z"
   },
   {
    "duration": 120,
    "start_time": "2023-06-03T21:32:52.129Z"
   },
   {
    "duration": 8,
    "start_time": "2023-06-03T21:32:52.251Z"
   },
   {
    "duration": 34,
    "start_time": "2023-06-03T21:32:52.260Z"
   },
   {
    "duration": 198,
    "start_time": "2023-06-03T21:32:52.295Z"
   },
   {
    "duration": 3,
    "start_time": "2023-06-03T21:32:52.494Z"
   },
   {
    "duration": 192,
    "start_time": "2023-06-03T21:32:52.499Z"
   },
   {
    "duration": 7,
    "start_time": "2023-06-03T21:32:52.692Z"
   },
   {
    "duration": 9,
    "start_time": "2023-06-03T21:32:52.700Z"
   },
   {
    "duration": 342,
    "start_time": "2023-06-03T21:33:14.212Z"
   },
   {
    "duration": 320,
    "start_time": "2023-06-03T21:33:16.379Z"
   },
   {
    "duration": 30,
    "start_time": "2023-06-03T21:33:16.701Z"
   },
   {
    "duration": 9,
    "start_time": "2023-06-03T21:33:16.733Z"
   },
   {
    "duration": 118,
    "start_time": "2023-06-03T21:33:16.744Z"
   },
   {
    "duration": 5,
    "start_time": "2023-06-03T21:33:16.864Z"
   },
   {
    "duration": 47,
    "start_time": "2023-06-03T21:33:16.870Z"
   },
   {
    "duration": 170,
    "start_time": "2023-06-03T21:33:16.918Z"
   },
   {
    "duration": 97,
    "start_time": "2023-06-03T21:33:17.089Z"
   },
   {
    "duration": 15,
    "start_time": "2023-06-03T21:33:17.188Z"
   },
   {
    "duration": 81,
    "start_time": "2023-06-03T21:33:17.204Z"
   },
   {
    "duration": 10,
    "start_time": "2023-06-03T21:33:17.286Z"
   },
   {
    "duration": 10,
    "start_time": "2023-06-03T21:33:19.854Z"
   },
   {
    "duration": 9,
    "start_time": "2023-06-03T21:33:20.767Z"
   },
   {
    "duration": 10,
    "start_time": "2023-06-03T21:33:21.387Z"
   },
   {
    "duration": 317,
    "start_time": "2023-06-03T21:33:59.953Z"
   },
   {
    "duration": 312,
    "start_time": "2023-06-03T21:34:02.846Z"
   },
   {
    "duration": 36,
    "start_time": "2023-06-03T21:34:03.160Z"
   },
   {
    "duration": 10,
    "start_time": "2023-06-03T21:34:03.198Z"
   },
   {
    "duration": 113,
    "start_time": "2023-06-03T21:34:03.210Z"
   },
   {
    "duration": 6,
    "start_time": "2023-06-03T21:34:03.325Z"
   },
   {
    "duration": 33,
    "start_time": "2023-06-03T21:34:03.333Z"
   },
   {
    "duration": 125,
    "start_time": "2023-06-03T21:34:03.367Z"
   },
   {
    "duration": 5,
    "start_time": "2023-06-03T21:34:03.586Z"
   },
   {
    "duration": 102,
    "start_time": "2023-06-03T21:34:03.593Z"
   },
   {
    "duration": 6,
    "start_time": "2023-06-03T21:34:03.696Z"
   },
   {
    "duration": 11,
    "start_time": "2023-06-03T21:34:03.703Z"
   },
   {
    "duration": 335,
    "start_time": "2023-06-03T22:21:53.229Z"
   },
   {
    "duration": 34,
    "start_time": "2023-06-03T22:21:53.566Z"
   },
   {
    "duration": 9,
    "start_time": "2023-06-03T22:21:53.602Z"
   },
   {
    "duration": 118,
    "start_time": "2023-06-03T22:21:53.613Z"
   },
   {
    "duration": 5,
    "start_time": "2023-06-03T22:21:53.733Z"
   },
   {
    "duration": 152,
    "start_time": "2023-06-03T22:21:53.740Z"
   },
   {
    "duration": 4,
    "start_time": "2023-06-03T22:21:53.893Z"
   },
   {
    "duration": 101,
    "start_time": "2023-06-03T22:21:53.986Z"
   },
   {
    "duration": 7,
    "start_time": "2023-06-03T22:21:54.088Z"
   },
   {
    "duration": 15,
    "start_time": "2023-06-03T22:21:54.096Z"
   },
   {
    "duration": 110,
    "start_time": "2023-06-03T22:24:41.861Z"
   },
   {
    "duration": 3,
    "start_time": "2023-06-03T22:27:21.408Z"
   },
   {
    "duration": 4,
    "start_time": "2023-06-03T22:32:45.236Z"
   },
   {
    "duration": 12,
    "start_time": "2023-06-03T22:33:04.090Z"
   },
   {
    "duration": 4,
    "start_time": "2023-06-03T22:33:33.624Z"
   },
   {
    "duration": 344,
    "start_time": "2023-06-03T22:33:35.786Z"
   },
   {
    "duration": 32,
    "start_time": "2023-06-03T22:33:36.132Z"
   },
   {
    "duration": 9,
    "start_time": "2023-06-03T22:33:36.165Z"
   },
   {
    "duration": 104,
    "start_time": "2023-06-03T22:33:36.185Z"
   },
   {
    "duration": 5,
    "start_time": "2023-06-03T22:33:36.291Z"
   },
   {
    "duration": 190,
    "start_time": "2023-06-03T22:33:36.297Z"
   },
   {
    "duration": 6,
    "start_time": "2023-06-03T22:33:36.488Z"
   },
   {
    "duration": 104,
    "start_time": "2023-06-03T22:33:36.496Z"
   },
   {
    "duration": 14,
    "start_time": "2023-06-03T22:33:36.602Z"
   },
   {
    "duration": 22,
    "start_time": "2023-06-03T22:33:36.685Z"
   },
   {
    "duration": 6,
    "start_time": "2023-06-03T22:33:36.709Z"
   },
   {
    "duration": 880,
    "start_time": "2023-06-03T22:33:36.716Z"
   },
   {
    "duration": 4,
    "start_time": "2023-06-03T22:33:58.881Z"
   },
   {
    "duration": 854,
    "start_time": "2023-06-03T22:34:00.708Z"
   },
   {
    "duration": 4,
    "start_time": "2023-06-03T22:34:49.980Z"
   },
   {
    "duration": 4,
    "start_time": "2023-06-03T22:34:55.209Z"
   },
   {
    "duration": 914,
    "start_time": "2023-06-03T22:34:56.847Z"
   },
   {
    "duration": 3,
    "start_time": "2023-06-03T22:35:30.915Z"
   },
   {
    "duration": 842,
    "start_time": "2023-06-03T22:35:32.711Z"
   },
   {
    "duration": 3,
    "start_time": "2023-06-03T22:35:44.496Z"
   },
   {
    "duration": 893,
    "start_time": "2023-06-03T22:35:46.416Z"
   },
   {
    "duration": 312,
    "start_time": "2023-06-03T22:36:35.238Z"
   },
   {
    "duration": 32,
    "start_time": "2023-06-03T22:36:35.552Z"
   },
   {
    "duration": 9,
    "start_time": "2023-06-03T22:36:35.586Z"
   },
   {
    "duration": 111,
    "start_time": "2023-06-03T22:36:35.596Z"
   },
   {
    "duration": 5,
    "start_time": "2023-06-03T22:36:35.709Z"
   },
   {
    "duration": 171,
    "start_time": "2023-06-03T22:36:35.716Z"
   },
   {
    "duration": 105,
    "start_time": "2023-06-03T22:36:35.889Z"
   },
   {
    "duration": 31,
    "start_time": "2023-06-03T22:36:35.996Z"
   },
   {
    "duration": 16,
    "start_time": "2023-06-03T22:36:36.029Z"
   },
   {
    "duration": 44,
    "start_time": "2023-06-03T22:36:36.047Z"
   },
   {
    "duration": 35,
    "start_time": "2023-06-03T22:36:36.092Z"
   },
   {
    "duration": 850,
    "start_time": "2023-06-03T22:36:36.128Z"
   },
   {
    "duration": 8,
    "start_time": "2023-06-03T22:38:23.632Z"
   },
   {
    "duration": 10,
    "start_time": "2023-06-03T22:40:01.568Z"
   },
   {
    "duration": 29,
    "start_time": "2023-06-03T22:40:30.320Z"
   },
   {
    "duration": 310,
    "start_time": "2023-06-03T22:40:32.735Z"
   },
   {
    "duration": 30,
    "start_time": "2023-06-03T22:40:33.047Z"
   },
   {
    "duration": 13,
    "start_time": "2023-06-03T22:40:33.078Z"
   },
   {
    "duration": 118,
    "start_time": "2023-06-03T22:40:33.092Z"
   },
   {
    "duration": 11,
    "start_time": "2023-06-03T22:40:33.212Z"
   },
   {
    "duration": 59,
    "start_time": "2023-06-03T22:40:33.224Z"
   },
   {
    "duration": 107,
    "start_time": "2023-06-03T22:40:33.285Z"
   },
   {
    "duration": 92,
    "start_time": "2023-06-03T22:40:33.393Z"
   },
   {
    "duration": 123,
    "start_time": "2023-06-03T22:40:33.486Z"
   },
   {
    "duration": 13,
    "start_time": "2023-06-03T22:40:33.610Z"
   },
   {
    "duration": 22,
    "start_time": "2023-06-03T22:40:33.624Z"
   },
   {
    "duration": 10,
    "start_time": "2023-06-03T22:40:33.647Z"
   },
   {
    "duration": 848,
    "start_time": "2023-06-03T22:40:33.658Z"
   },
   {
    "duration": 3,
    "start_time": "2023-06-03T22:42:28.734Z"
   },
   {
    "duration": 811,
    "start_time": "2023-06-03T22:42:37.145Z"
   },
   {
    "duration": 3,
    "start_time": "2023-06-03T22:42:47.597Z"
   },
   {
    "duration": 813,
    "start_time": "2023-06-03T22:42:50.195Z"
   },
   {
    "duration": 2,
    "start_time": "2023-06-03T22:44:26.475Z"
   },
   {
    "duration": 3,
    "start_time": "2023-06-03T22:44:35.161Z"
   },
   {
    "duration": 815,
    "start_time": "2023-06-03T22:44:38.473Z"
   },
   {
    "duration": 321,
    "start_time": "2023-06-03T22:45:50.978Z"
   },
   {
    "duration": 30,
    "start_time": "2023-06-03T22:45:51.301Z"
   },
   {
    "duration": 8,
    "start_time": "2023-06-03T22:45:51.332Z"
   },
   {
    "duration": 114,
    "start_time": "2023-06-03T22:45:51.341Z"
   },
   {
    "duration": 10,
    "start_time": "2023-06-03T22:45:51.457Z"
   },
   {
    "duration": 30,
    "start_time": "2023-06-03T22:45:51.468Z"
   },
   {
    "duration": 187,
    "start_time": "2023-06-03T22:45:51.500Z"
   },
   {
    "duration": 96,
    "start_time": "2023-06-03T22:45:51.690Z"
   },
   {
    "duration": 7,
    "start_time": "2023-06-03T22:45:51.787Z"
   },
   {
    "duration": 5,
    "start_time": "2023-06-03T22:45:51.796Z"
   },
   {
    "duration": 13,
    "start_time": "2023-06-03T22:45:51.802Z"
   },
   {
    "duration": 19,
    "start_time": "2023-06-03T22:45:51.816Z"
   },
   {
    "duration": 655,
    "start_time": "2023-06-03T22:45:51.836Z"
   },
   {
    "duration": 3,
    "start_time": "2023-06-03T22:46:11.199Z"
   },
   {
    "duration": 675,
    "start_time": "2023-06-03T22:46:12.852Z"
   },
   {
    "duration": 3,
    "start_time": "2023-06-03T22:46:52.480Z"
   },
   {
    "duration": 670,
    "start_time": "2023-06-03T22:46:54.378Z"
   },
   {
    "duration": 3,
    "start_time": "2023-06-03T22:47:02.213Z"
   },
   {
    "duration": 3,
    "start_time": "2023-06-03T22:47:24.741Z"
   },
   {
    "duration": 8,
    "start_time": "2023-06-03T22:47:30.615Z"
   },
   {
    "duration": 653,
    "start_time": "2023-06-03T22:47:39.661Z"
   },
   {
    "duration": 675,
    "start_time": "2023-06-03T22:47:53.167Z"
   },
   {
    "duration": 2,
    "start_time": "2023-06-03T22:49:29.319Z"
   },
   {
    "duration": 12,
    "start_time": "2023-06-03T22:49:51.726Z"
   },
   {
    "duration": 3,
    "start_time": "2023-06-03T22:50:24.055Z"
   },
   {
    "duration": 3,
    "start_time": "2023-06-03T22:50:45.755Z"
   },
   {
    "duration": 13,
    "start_time": "2023-06-03T22:50:47.397Z"
   },
   {
    "duration": 2,
    "start_time": "2023-06-03T22:51:36.940Z"
   },
   {
    "duration": 12,
    "start_time": "2023-06-03T22:51:38.737Z"
   },
   {
    "duration": 3,
    "start_time": "2023-06-03T22:51:56.228Z"
   },
   {
    "duration": 665,
    "start_time": "2023-06-03T22:51:57.941Z"
   },
   {
    "duration": 3,
    "start_time": "2023-06-03T22:52:35.131Z"
   },
   {
    "duration": 690,
    "start_time": "2023-06-03T22:52:36.509Z"
   },
   {
    "duration": 4,
    "start_time": "2023-06-03T22:54:53.078Z"
   },
   {
    "duration": 705,
    "start_time": "2023-06-03T22:54:55.785Z"
   },
   {
    "duration": 3,
    "start_time": "2023-06-03T22:55:03.643Z"
   },
   {
    "duration": 656,
    "start_time": "2023-06-03T22:55:06.298Z"
   },
   {
    "duration": 315,
    "start_time": "2023-06-03T22:56:04.099Z"
   },
   {
    "duration": 30,
    "start_time": "2023-06-03T22:56:04.415Z"
   },
   {
    "duration": 8,
    "start_time": "2023-06-03T22:56:04.447Z"
   },
   {
    "duration": 145,
    "start_time": "2023-06-03T22:56:04.457Z"
   },
   {
    "duration": 10,
    "start_time": "2023-06-03T22:56:04.603Z"
   },
   {
    "duration": 24,
    "start_time": "2023-06-03T22:56:04.614Z"
   },
   {
    "duration": 245,
    "start_time": "2023-06-03T22:56:04.640Z"
   },
   {
    "duration": 99,
    "start_time": "2023-06-03T22:56:04.887Z"
   },
   {
    "duration": 11,
    "start_time": "2023-06-03T22:56:04.987Z"
   },
   {
    "duration": 5,
    "start_time": "2023-06-03T22:56:05.000Z"
   },
   {
    "duration": 12,
    "start_time": "2023-06-03T22:56:05.006Z"
   },
   {
    "duration": 3,
    "start_time": "2023-06-03T22:56:05.019Z"
   },
   {
    "duration": 691,
    "start_time": "2023-06-03T22:56:05.023Z"
   },
   {
    "duration": 0,
    "start_time": "2023-06-03T22:56:05.715Z"
   },
   {
    "duration": 0,
    "start_time": "2023-06-03T22:56:05.716Z"
   },
   {
    "duration": 4,
    "start_time": "2023-06-03T22:56:17.314Z"
   },
   {
    "duration": 725,
    "start_time": "2023-06-03T22:56:18.779Z"
   },
   {
    "duration": 3,
    "start_time": "2023-06-03T22:56:26.107Z"
   },
   {
    "duration": 333,
    "start_time": "2023-06-03T22:56:30.113Z"
   },
   {
    "duration": 30,
    "start_time": "2023-06-03T22:56:30.448Z"
   },
   {
    "duration": 16,
    "start_time": "2023-06-03T22:56:30.479Z"
   },
   {
    "duration": 147,
    "start_time": "2023-06-03T22:56:30.497Z"
   },
   {
    "duration": 10,
    "start_time": "2023-06-03T22:56:30.646Z"
   },
   {
    "duration": 49,
    "start_time": "2023-06-03T22:56:30.657Z"
   },
   {
    "duration": 181,
    "start_time": "2023-06-03T22:56:30.708Z"
   },
   {
    "duration": 94,
    "start_time": "2023-06-03T22:56:30.891Z"
   },
   {
    "duration": 37,
    "start_time": "2023-06-03T22:56:30.986Z"
   },
   {
    "duration": 34,
    "start_time": "2023-06-03T22:56:31.024Z"
   },
   {
    "duration": 61,
    "start_time": "2023-06-03T22:56:31.060Z"
   },
   {
    "duration": 23,
    "start_time": "2023-06-03T22:56:31.122Z"
   },
   {
    "duration": 1319,
    "start_time": "2023-06-03T22:56:31.147Z"
   },
   {
    "duration": 1252,
    "start_time": "2023-06-03T22:56:32.468Z"
   },
   {
    "duration": 856,
    "start_time": "2023-06-03T22:56:33.721Z"
   },
   {
    "duration": 5,
    "start_time": "2023-06-03T22:58:50.037Z"
   },
   {
    "duration": 4,
    "start_time": "2023-06-03T22:58:59.195Z"
   },
   {
    "duration": 672,
    "start_time": "2023-06-03T22:59:01.524Z"
   },
   {
    "duration": 656,
    "start_time": "2023-06-03T22:59:08.014Z"
   },
   {
    "duration": 656,
    "start_time": "2023-06-03T22:59:11.878Z"
   },
   {
    "duration": 323,
    "start_time": "2023-06-04T00:20:01.878Z"
   },
   {
    "duration": 33,
    "start_time": "2023-06-04T00:20:02.203Z"
   },
   {
    "duration": 38,
    "start_time": "2023-06-04T00:20:02.237Z"
   },
   {
    "duration": 157,
    "start_time": "2023-06-04T00:20:02.277Z"
   },
   {
    "duration": 2,
    "start_time": "2023-06-04T00:20:02.437Z"
   },
   {
    "duration": 86,
    "start_time": "2023-06-04T00:20:02.440Z"
   },
   {
    "duration": 165,
    "start_time": "2023-06-04T00:20:02.528Z"
   },
   {
    "duration": 5,
    "start_time": "2023-06-04T00:20:02.784Z"
   },
   {
    "duration": 97,
    "start_time": "2023-06-04T00:20:02.791Z"
   },
   {
    "duration": 5,
    "start_time": "2023-06-04T00:20:02.890Z"
   },
   {
    "duration": 32,
    "start_time": "2023-06-04T00:20:02.897Z"
   },
   {
    "duration": 28,
    "start_time": "2023-06-04T00:20:02.931Z"
   },
   {
    "duration": 680,
    "start_time": "2023-06-04T00:20:02.960Z"
   },
   {
    "duration": 665,
    "start_time": "2023-06-04T00:20:03.642Z"
   },
   {
    "duration": 659,
    "start_time": "2023-06-04T00:20:04.308Z"
   },
   {
    "duration": 19,
    "start_time": "2023-06-04T00:22:43.779Z"
   },
   {
    "duration": 11,
    "start_time": "2023-06-04T00:23:21.209Z"
   },
   {
    "duration": 11,
    "start_time": "2023-06-04T00:23:41.106Z"
   },
   {
    "duration": 14,
    "start_time": "2023-06-04T00:23:51.422Z"
   },
   {
    "duration": 12,
    "start_time": "2023-06-04T00:23:53.296Z"
   },
   {
    "duration": 13,
    "start_time": "2023-06-04T00:23:54.843Z"
   },
   {
    "duration": 2,
    "start_time": "2023-06-04T00:34:24.409Z"
   },
   {
    "duration": 83,
    "start_time": "2023-06-04T00:35:21.441Z"
   },
   {
    "duration": 5,
    "start_time": "2023-06-04T00:35:49.932Z"
   },
   {
    "duration": 5,
    "start_time": "2023-06-04T00:35:51.505Z"
   },
   {
    "duration": 5,
    "start_time": "2023-06-04T00:35:53.313Z"
   },
   {
    "duration": 5,
    "start_time": "2023-06-04T00:36:13.097Z"
   },
   {
    "duration": 6,
    "start_time": "2023-06-04T00:36:18.526Z"
   },
   {
    "duration": 7,
    "start_time": "2023-06-04T00:36:45.980Z"
   },
   {
    "duration": 5,
    "start_time": "2023-06-04T00:36:47.984Z"
   },
   {
    "duration": 5,
    "start_time": "2023-06-04T00:36:49.588Z"
   },
   {
    "duration": 5,
    "start_time": "2023-06-04T00:37:05.485Z"
   },
   {
    "duration": 5,
    "start_time": "2023-06-04T00:37:06.871Z"
   },
   {
    "duration": 5,
    "start_time": "2023-06-04T00:37:18.795Z"
   },
   {
    "duration": 5,
    "start_time": "2023-06-04T00:37:40.609Z"
   },
   {
    "duration": 5,
    "start_time": "2023-06-04T00:37:42.210Z"
   },
   {
    "duration": 6,
    "start_time": "2023-06-04T00:37:44.401Z"
   },
   {
    "duration": 312,
    "start_time": "2023-06-04T00:37:51.209Z"
   },
   {
    "duration": 31,
    "start_time": "2023-06-04T00:37:51.523Z"
   },
   {
    "duration": 9,
    "start_time": "2023-06-04T00:37:51.555Z"
   },
   {
    "duration": 109,
    "start_time": "2023-06-04T00:37:51.565Z"
   },
   {
    "duration": 25,
    "start_time": "2023-06-04T00:37:51.676Z"
   },
   {
    "duration": 10,
    "start_time": "2023-06-04T00:37:51.703Z"
   },
   {
    "duration": 171,
    "start_time": "2023-06-04T00:37:51.715Z"
   },
   {
    "duration": 99,
    "start_time": "2023-06-04T00:37:51.888Z"
   },
   {
    "duration": 2,
    "start_time": "2023-06-04T00:37:51.989Z"
   },
   {
    "duration": 191,
    "start_time": "2023-06-04T00:37:51.993Z"
   },
   {
    "duration": 14,
    "start_time": "2023-06-04T00:37:52.185Z"
   },
   {
    "duration": 8,
    "start_time": "2023-06-04T00:37:52.201Z"
   },
   {
    "duration": 7,
    "start_time": "2023-06-04T00:37:52.211Z"
   },
   {
    "duration": 8,
    "start_time": "2023-06-04T00:37:52.220Z"
   },
   {
    "duration": 5,
    "start_time": "2023-06-04T00:37:52.229Z"
   },
   {
    "duration": 967,
    "start_time": "2023-06-04T00:37:52.235Z"
   },
   {
    "duration": 1134,
    "start_time": "2023-06-04T00:37:53.203Z"
   },
   {
    "duration": 672,
    "start_time": "2023-06-04T00:37:54.338Z"
   },
   {
    "duration": 4,
    "start_time": "2023-06-04T00:38:31.686Z"
   },
   {
    "duration": 309,
    "start_time": "2023-06-04T00:46:40.823Z"
   },
   {
    "duration": 28,
    "start_time": "2023-06-04T00:46:41.134Z"
   },
   {
    "duration": 9,
    "start_time": "2023-06-04T00:46:41.163Z"
   },
   {
    "duration": 101,
    "start_time": "2023-06-04T00:46:41.173Z"
   },
   {
    "duration": 18,
    "start_time": "2023-06-04T00:46:41.284Z"
   },
   {
    "duration": 14,
    "start_time": "2023-06-04T00:46:41.304Z"
   },
   {
    "duration": 109,
    "start_time": "2023-06-04T00:46:41.386Z"
   },
   {
    "duration": 192,
    "start_time": "2023-06-04T00:46:41.497Z"
   },
   {
    "duration": 95,
    "start_time": "2023-06-04T00:46:41.694Z"
   },
   {
    "duration": 5,
    "start_time": "2023-06-04T00:46:41.791Z"
   },
   {
    "duration": 9,
    "start_time": "2023-06-04T00:46:41.797Z"
   },
   {
    "duration": 7,
    "start_time": "2023-06-04T00:46:41.807Z"
   },
   {
    "duration": 6,
    "start_time": "2023-06-04T00:46:41.815Z"
   },
   {
    "duration": 6,
    "start_time": "2023-06-04T00:46:41.824Z"
   },
   {
    "duration": 5,
    "start_time": "2023-06-04T00:46:41.832Z"
   },
   {
    "duration": 652,
    "start_time": "2023-06-04T00:46:41.884Z"
   },
   {
    "duration": 655,
    "start_time": "2023-06-04T00:46:42.538Z"
   },
   {
    "duration": 658,
    "start_time": "2023-06-04T00:46:43.194Z"
   },
   {
    "duration": 316,
    "start_time": "2023-06-04T01:05:13.452Z"
   },
   {
    "duration": 32,
    "start_time": "2023-06-04T01:05:13.770Z"
   },
   {
    "duration": 9,
    "start_time": "2023-06-04T01:05:13.803Z"
   },
   {
    "duration": 110,
    "start_time": "2023-06-04T01:05:13.813Z"
   },
   {
    "duration": 20,
    "start_time": "2023-06-04T01:05:13.925Z"
   },
   {
    "duration": 42,
    "start_time": "2023-06-04T01:05:13.946Z"
   },
   {
    "duration": 104,
    "start_time": "2023-06-04T01:05:13.990Z"
   },
   {
    "duration": 189,
    "start_time": "2023-06-04T01:05:14.096Z"
   },
   {
    "duration": 98,
    "start_time": "2023-06-04T01:05:14.288Z"
   },
   {
    "duration": 29,
    "start_time": "2023-06-04T01:05:14.387Z"
   },
   {
    "duration": 49,
    "start_time": "2023-06-04T01:05:14.417Z"
   },
   {
    "duration": 45,
    "start_time": "2023-06-04T01:05:14.468Z"
   },
   {
    "duration": 43,
    "start_time": "2023-06-04T01:05:14.515Z"
   },
   {
    "duration": 10,
    "start_time": "2023-06-04T01:05:14.561Z"
   },
   {
    "duration": 8,
    "start_time": "2023-06-04T01:05:14.572Z"
   },
   {
    "duration": 742,
    "start_time": "2023-06-04T01:05:14.581Z"
   },
   {
    "duration": 1393,
    "start_time": "2023-06-04T01:05:15.324Z"
   },
   {
    "duration": 771,
    "start_time": "2023-06-04T01:05:16.718Z"
   },
   {
    "duration": 2752,
    "start_time": "2023-06-04T08:31:12.457Z"
   },
   {
    "duration": 38,
    "start_time": "2023-06-04T08:31:15.211Z"
   },
   {
    "duration": 13,
    "start_time": "2023-06-04T08:31:15.251Z"
   },
   {
    "duration": 128,
    "start_time": "2023-06-04T08:31:15.266Z"
   },
   {
    "duration": 33,
    "start_time": "2023-06-04T08:31:15.396Z"
   },
   {
    "duration": 48,
    "start_time": "2023-06-04T08:31:15.431Z"
   },
   {
    "duration": 113,
    "start_time": "2023-06-04T08:31:15.481Z"
   },
   {
    "duration": 187,
    "start_time": "2023-06-04T08:31:15.598Z"
   },
   {
    "duration": 86,
    "start_time": "2023-06-04T08:31:15.793Z"
   },
   {
    "duration": 95,
    "start_time": "2023-06-04T08:31:15.883Z"
   },
   {
    "duration": 13,
    "start_time": "2023-06-04T08:31:15.980Z"
   },
   {
    "duration": 8,
    "start_time": "2023-06-04T08:31:15.994Z"
   },
   {
    "duration": 10,
    "start_time": "2023-06-04T08:31:16.004Z"
   },
   {
    "duration": 6,
    "start_time": "2023-06-04T08:31:16.015Z"
   },
   {
    "duration": 5,
    "start_time": "2023-06-04T08:31:16.023Z"
   },
   {
    "duration": 897,
    "start_time": "2023-06-04T08:31:16.029Z"
   },
   {
    "duration": 1017,
    "start_time": "2023-06-04T08:31:16.929Z"
   },
   {
    "duration": 887,
    "start_time": "2023-06-04T08:31:17.948Z"
   },
   {
    "duration": 2199,
    "start_time": "2023-06-04T16:18:26.628Z"
   },
   {
    "duration": 31,
    "start_time": "2023-06-04T16:18:28.829Z"
   },
   {
    "duration": 45,
    "start_time": "2023-06-04T16:18:28.861Z"
   },
   {
    "duration": 308,
    "start_time": "2023-06-04T16:18:28.912Z"
   },
   {
    "duration": 75,
    "start_time": "2023-06-04T16:18:29.223Z"
   },
   {
    "duration": 113,
    "start_time": "2023-06-04T16:18:29.299Z"
   },
   {
    "duration": 102,
    "start_time": "2023-06-04T16:18:29.420Z"
   },
   {
    "duration": 208,
    "start_time": "2023-06-04T16:18:29.526Z"
   },
   {
    "duration": 65,
    "start_time": "2023-06-04T16:18:29.735Z"
   },
   {
    "duration": 140,
    "start_time": "2023-06-04T16:18:29.803Z"
   },
   {
    "duration": 10,
    "start_time": "2023-06-04T16:18:29.945Z"
   },
   {
    "duration": 6,
    "start_time": "2023-06-04T16:18:29.957Z"
   },
   {
    "duration": 26,
    "start_time": "2023-06-04T16:18:29.984Z"
   },
   {
    "duration": 70,
    "start_time": "2023-06-04T16:18:30.013Z"
   },
   {
    "duration": 79,
    "start_time": "2023-06-04T16:18:30.085Z"
   },
   {
    "duration": 1037,
    "start_time": "2023-06-04T16:18:30.165Z"
   },
   {
    "duration": 777,
    "start_time": "2023-06-04T16:18:31.213Z"
   },
   {
    "duration": 740,
    "start_time": "2023-06-04T16:18:31.998Z"
   },
   {
    "duration": 4,
    "start_time": "2023-06-04T16:19:23.855Z"
   },
   {
    "duration": 451,
    "start_time": "2023-06-04T16:19:23.861Z"
   },
   {
    "duration": 61,
    "start_time": "2023-06-04T16:19:24.315Z"
   },
   {
    "duration": 55,
    "start_time": "2023-06-04T16:19:24.379Z"
   },
   {
    "duration": 143,
    "start_time": "2023-06-04T16:19:24.436Z"
   },
   {
    "duration": 126,
    "start_time": "2023-06-04T16:19:24.581Z"
   },
   {
    "duration": 0,
    "start_time": "2023-06-04T16:19:24.708Z"
   },
   {
    "duration": 0,
    "start_time": "2023-06-04T16:19:24.709Z"
   },
   {
    "duration": 0,
    "start_time": "2023-06-04T16:19:24.710Z"
   },
   {
    "duration": 0,
    "start_time": "2023-06-04T16:19:24.711Z"
   },
   {
    "duration": 0,
    "start_time": "2023-06-04T16:19:24.711Z"
   },
   {
    "duration": 0,
    "start_time": "2023-06-04T16:19:24.712Z"
   },
   {
    "duration": 0,
    "start_time": "2023-06-04T16:19:24.714Z"
   },
   {
    "duration": 0,
    "start_time": "2023-06-04T16:19:24.715Z"
   },
   {
    "duration": 0,
    "start_time": "2023-06-04T16:19:24.716Z"
   },
   {
    "duration": 0,
    "start_time": "2023-06-04T16:19:24.717Z"
   },
   {
    "duration": 0,
    "start_time": "2023-06-04T16:19:24.717Z"
   },
   {
    "duration": 0,
    "start_time": "2023-06-04T16:19:24.718Z"
   },
   {
    "duration": 0,
    "start_time": "2023-06-04T16:19:24.719Z"
   },
   {
    "duration": 0,
    "start_time": "2023-06-04T16:19:24.720Z"
   },
   {
    "duration": 23,
    "start_time": "2023-06-04T16:19:31.758Z"
   },
   {
    "duration": 17,
    "start_time": "2023-06-04T16:19:52.730Z"
   },
   {
    "duration": 38,
    "start_time": "2023-06-04T16:19:56.376Z"
   },
   {
    "duration": 4,
    "start_time": "2023-06-04T16:22:22.856Z"
   },
   {
    "duration": 16,
    "start_time": "2023-06-04T16:22:45.359Z"
   },
   {
    "duration": 3,
    "start_time": "2023-06-04T16:23:39.070Z"
   },
   {
    "duration": 40,
    "start_time": "2023-06-04T16:23:40.702Z"
   },
   {
    "duration": 3,
    "start_time": "2023-06-04T16:23:54.859Z"
   },
   {
    "duration": 48,
    "start_time": "2023-06-04T16:23:56.747Z"
   },
   {
    "duration": 89,
    "start_time": "2023-06-04T16:24:07.402Z"
   },
   {
    "duration": 19,
    "start_time": "2023-06-04T16:24:44.332Z"
   },
   {
    "duration": 44,
    "start_time": "2023-06-04T16:24:47.084Z"
   },
   {
    "duration": 4,
    "start_time": "2023-06-04T16:26:15.369Z"
   },
   {
    "duration": 4,
    "start_time": "2023-06-04T16:26:19.064Z"
   },
   {
    "duration": 471,
    "start_time": "2023-06-04T16:26:19.071Z"
   },
   {
    "duration": 35,
    "start_time": "2023-06-04T16:26:19.543Z"
   },
   {
    "duration": 33,
    "start_time": "2023-06-04T16:26:19.579Z"
   },
   {
    "duration": 169,
    "start_time": "2023-06-04T16:26:19.614Z"
   },
   {
    "duration": 18,
    "start_time": "2023-06-04T16:26:19.793Z"
   },
   {
    "duration": 69,
    "start_time": "2023-06-04T16:26:19.812Z"
   },
   {
    "duration": 33,
    "start_time": "2023-06-04T16:26:19.883Z"
   },
   {
    "duration": 25,
    "start_time": "2023-06-04T16:26:19.929Z"
   },
   {
    "duration": 189,
    "start_time": "2023-06-04T16:26:19.956Z"
   },
   {
    "duration": 162,
    "start_time": "2023-06-04T16:26:20.148Z"
   },
   {
    "duration": 134,
    "start_time": "2023-06-04T16:26:20.319Z"
   },
   {
    "duration": 91,
    "start_time": "2023-06-04T16:26:20.459Z"
   },
   {
    "duration": 173,
    "start_time": "2023-06-04T16:26:20.552Z"
   },
   {
    "duration": 31,
    "start_time": "2023-06-04T16:26:20.726Z"
   },
   {
    "duration": 7,
    "start_time": "2023-06-04T16:26:20.759Z"
   },
   {
    "duration": 5,
    "start_time": "2023-06-04T16:26:20.767Z"
   },
   {
    "duration": 7,
    "start_time": "2023-06-04T16:26:20.774Z"
   },
   {
    "duration": 41,
    "start_time": "2023-06-04T16:26:20.783Z"
   },
   {
    "duration": 1386,
    "start_time": "2023-06-04T16:26:20.828Z"
   },
   {
    "duration": 1533,
    "start_time": "2023-06-04T16:26:22.221Z"
   },
   {
    "duration": 1806,
    "start_time": "2023-06-04T16:26:23.756Z"
   },
   {
    "duration": 4,
    "start_time": "2023-06-04T16:26:26.841Z"
   },
   {
    "duration": 614,
    "start_time": "2023-06-04T16:26:26.849Z"
   },
   {
    "duration": 55,
    "start_time": "2023-06-04T16:26:27.465Z"
   },
   {
    "duration": 12,
    "start_time": "2023-06-04T16:26:27.522Z"
   },
   {
    "duration": 159,
    "start_time": "2023-06-04T16:26:27.540Z"
   },
   {
    "duration": 17,
    "start_time": "2023-06-04T16:26:27.700Z"
   },
   {
    "duration": 87,
    "start_time": "2023-06-04T16:26:27.719Z"
   },
   {
    "duration": 4,
    "start_time": "2023-06-04T16:26:27.814Z"
   },
   {
    "duration": 103,
    "start_time": "2023-06-04T16:26:27.819Z"
   },
   {
    "duration": 183,
    "start_time": "2023-06-04T16:26:27.924Z"
   },
   {
    "duration": 141,
    "start_time": "2023-06-04T16:26:28.109Z"
   },
   {
    "duration": 160,
    "start_time": "2023-06-04T16:26:28.252Z"
   },
   {
    "duration": 13,
    "start_time": "2023-06-04T16:26:28.417Z"
   },
   {
    "duration": 108,
    "start_time": "2023-06-04T16:26:28.443Z"
   },
   {
    "duration": 6,
    "start_time": "2023-06-04T16:26:28.553Z"
   },
   {
    "duration": 18,
    "start_time": "2023-06-04T16:26:28.561Z"
   },
   {
    "duration": 24,
    "start_time": "2023-06-04T16:26:28.599Z"
   },
   {
    "duration": 53,
    "start_time": "2023-06-04T16:26:28.626Z"
   },
   {
    "duration": 1378,
    "start_time": "2023-06-04T16:26:28.681Z"
   },
   {
    "duration": 778,
    "start_time": "2023-06-04T16:26:30.060Z"
   },
   {
    "duration": 803,
    "start_time": "2023-06-04T16:26:30.839Z"
   },
   {
    "duration": 1189,
    "start_time": "2023-06-04T16:31:00.713Z"
   },
   {
    "duration": 431,
    "start_time": "2023-06-04T16:31:01.911Z"
   },
   {
    "duration": 35,
    "start_time": "2023-06-04T16:31:02.344Z"
   },
   {
    "duration": 39,
    "start_time": "2023-06-04T16:31:02.380Z"
   },
   {
    "duration": 204,
    "start_time": "2023-06-04T16:31:02.424Z"
   },
   {
    "duration": 24,
    "start_time": "2023-06-04T16:31:02.637Z"
   },
   {
    "duration": 160,
    "start_time": "2023-06-04T16:31:02.662Z"
   },
   {
    "duration": 47,
    "start_time": "2023-06-04T16:31:02.824Z"
   },
   {
    "duration": 248,
    "start_time": "2023-06-04T16:31:02.872Z"
   },
   {
    "duration": 0,
    "start_time": "2023-06-04T16:31:03.137Z"
   },
   {
    "duration": 0,
    "start_time": "2023-06-04T16:31:03.141Z"
   },
   {
    "duration": 0,
    "start_time": "2023-06-04T16:31:03.143Z"
   },
   {
    "duration": 0,
    "start_time": "2023-06-04T16:31:03.144Z"
   },
   {
    "duration": 0,
    "start_time": "2023-06-04T16:31:03.145Z"
   },
   {
    "duration": 0,
    "start_time": "2023-06-04T16:31:03.147Z"
   },
   {
    "duration": 0,
    "start_time": "2023-06-04T16:31:03.148Z"
   },
   {
    "duration": 0,
    "start_time": "2023-06-04T16:31:03.149Z"
   },
   {
    "duration": 0,
    "start_time": "2023-06-04T16:31:03.151Z"
   },
   {
    "duration": 0,
    "start_time": "2023-06-04T16:31:03.152Z"
   },
   {
    "duration": 0,
    "start_time": "2023-06-04T16:31:03.153Z"
   },
   {
    "duration": 1116,
    "start_time": "2023-06-05T01:04:56.718Z"
   },
   {
    "duration": 841,
    "start_time": "2023-06-05T01:04:57.837Z"
   },
   {
    "duration": 89,
    "start_time": "2023-06-05T01:04:58.680Z"
   },
   {
    "duration": 13,
    "start_time": "2023-06-05T01:04:58.770Z"
   },
   {
    "duration": 299,
    "start_time": "2023-06-05T01:04:58.786Z"
   },
   {
    "duration": 90,
    "start_time": "2023-06-05T01:04:59.087Z"
   },
   {
    "duration": 4,
    "start_time": "2023-06-05T01:04:59.179Z"
   },
   {
    "duration": 267,
    "start_time": "2023-06-05T01:04:59.185Z"
   },
   {
    "duration": 1,
    "start_time": "2023-06-05T01:04:59.453Z"
   },
   {
    "duration": 0,
    "start_time": "2023-06-05T01:04:59.455Z"
   },
   {
    "duration": 0,
    "start_time": "2023-06-05T01:04:59.456Z"
   },
   {
    "duration": 0,
    "start_time": "2023-06-05T01:04:59.457Z"
   },
   {
    "duration": 0,
    "start_time": "2023-06-05T01:04:59.458Z"
   },
   {
    "duration": 0,
    "start_time": "2023-06-05T01:04:59.459Z"
   },
   {
    "duration": 0,
    "start_time": "2023-06-05T01:04:59.460Z"
   },
   {
    "duration": 0,
    "start_time": "2023-06-05T01:04:59.461Z"
   },
   {
    "duration": 0,
    "start_time": "2023-06-05T01:04:59.462Z"
   },
   {
    "duration": 0,
    "start_time": "2023-06-05T01:04:59.463Z"
   },
   {
    "duration": 0,
    "start_time": "2023-06-05T01:04:59.464Z"
   },
   {
    "duration": 4,
    "start_time": "2023-06-05T01:05:20.936Z"
   },
   {
    "duration": 25,
    "start_time": "2023-06-05T01:05:23.016Z"
   },
   {
    "duration": 6,
    "start_time": "2023-06-05T01:05:26.008Z"
   },
   {
    "duration": 406,
    "start_time": "2023-06-05T01:05:26.017Z"
   },
   {
    "duration": 43,
    "start_time": "2023-06-05T01:05:26.425Z"
   },
   {
    "duration": 11,
    "start_time": "2023-06-05T01:05:26.469Z"
   },
   {
    "duration": 137,
    "start_time": "2023-06-05T01:05:26.482Z"
   },
   {
    "duration": 43,
    "start_time": "2023-06-05T01:05:26.620Z"
   },
   {
    "duration": 4,
    "start_time": "2023-06-05T01:05:26.665Z"
   },
   {
    "duration": 23,
    "start_time": "2023-06-05T01:05:26.671Z"
   },
   {
    "duration": 102,
    "start_time": "2023-06-05T01:05:26.742Z"
   },
   {
    "duration": 199,
    "start_time": "2023-06-05T01:05:26.849Z"
   },
   {
    "duration": 94,
    "start_time": "2023-06-05T01:05:27.051Z"
   },
   {
    "duration": 6,
    "start_time": "2023-06-05T01:05:27.146Z"
   },
   {
    "duration": 12,
    "start_time": "2023-06-05T01:05:27.153Z"
   },
   {
    "duration": 5,
    "start_time": "2023-06-05T01:05:27.167Z"
   },
   {
    "duration": 6,
    "start_time": "2023-06-05T01:05:27.173Z"
   },
   {
    "duration": 5,
    "start_time": "2023-06-05T01:05:27.181Z"
   },
   {
    "duration": 1958,
    "start_time": "2023-06-05T01:05:27.187Z"
   },
   {
    "duration": 904,
    "start_time": "2023-06-05T01:05:29.146Z"
   },
   {
    "duration": 907,
    "start_time": "2023-06-05T01:05:30.052Z"
   },
   {
    "duration": 1070,
    "start_time": "2023-06-05T01:08:08.075Z"
   },
   {
    "duration": 422,
    "start_time": "2023-06-05T01:08:09.148Z"
   },
   {
    "duration": 89,
    "start_time": "2023-06-05T01:08:09.571Z"
   },
   {
    "duration": 12,
    "start_time": "2023-06-05T01:08:09.662Z"
   },
   {
    "duration": 308,
    "start_time": "2023-06-05T01:08:09.676Z"
   },
   {
    "duration": 91,
    "start_time": "2023-06-05T01:08:09.986Z"
   },
   {
    "duration": 63,
    "start_time": "2023-06-05T01:08:10.079Z"
   },
   {
    "duration": 28,
    "start_time": "2023-06-05T01:08:10.145Z"
   },
   {
    "duration": 171,
    "start_time": "2023-06-05T01:08:10.175Z"
   },
   {
    "duration": 195,
    "start_time": "2023-06-05T01:08:10.348Z"
   },
   {
    "duration": 110,
    "start_time": "2023-06-05T01:08:10.545Z"
   },
   {
    "duration": 13,
    "start_time": "2023-06-05T01:08:10.657Z"
   },
   {
    "duration": 8,
    "start_time": "2023-06-05T01:08:10.672Z"
   },
   {
    "duration": 11,
    "start_time": "2023-06-05T01:08:10.683Z"
   },
   {
    "duration": 5,
    "start_time": "2023-06-05T01:08:10.695Z"
   },
   {
    "duration": 44,
    "start_time": "2023-06-05T01:08:10.702Z"
   },
   {
    "duration": 1424,
    "start_time": "2023-06-05T01:08:10.748Z"
   },
   {
    "duration": 927,
    "start_time": "2023-06-05T01:08:12.174Z"
   },
   {
    "duration": 881,
    "start_time": "2023-06-05T01:08:13.103Z"
   },
   {
    "duration": 1049,
    "start_time": "2023-06-05T01:09:11.879Z"
   },
   {
    "duration": 378,
    "start_time": "2023-06-05T01:09:12.930Z"
   },
   {
    "duration": 37,
    "start_time": "2023-06-05T01:09:13.310Z"
   },
   {
    "duration": 13,
    "start_time": "2023-06-05T01:09:13.348Z"
   },
   {
    "duration": 161,
    "start_time": "2023-06-05T01:09:13.364Z"
   },
   {
    "duration": 42,
    "start_time": "2023-06-05T01:09:13.527Z"
   },
   {
    "duration": 4,
    "start_time": "2023-06-05T01:09:13.571Z"
   },
   {
    "duration": 23,
    "start_time": "2023-06-05T01:09:13.576Z"
   },
   {
    "duration": 112,
    "start_time": "2023-06-05T01:09:13.645Z"
   },
   {
    "duration": 190,
    "start_time": "2023-06-05T01:09:13.762Z"
   },
   {
    "duration": 219,
    "start_time": "2023-06-05T01:09:13.953Z"
   },
   {
    "duration": 8,
    "start_time": "2023-06-05T01:09:14.173Z"
   },
   {
    "duration": 13,
    "start_time": "2023-06-05T01:09:14.183Z"
   },
   {
    "duration": 6,
    "start_time": "2023-06-05T01:09:14.200Z"
   },
   {
    "duration": 7,
    "start_time": "2023-06-05T01:09:14.207Z"
   },
   {
    "duration": 5,
    "start_time": "2023-06-05T01:09:14.215Z"
   },
   {
    "duration": 903,
    "start_time": "2023-06-05T01:09:14.222Z"
   },
   {
    "duration": 885,
    "start_time": "2023-06-05T01:09:15.127Z"
   },
   {
    "duration": 872,
    "start_time": "2023-06-05T01:09:16.014Z"
   }
  ],
  "kernelspec": {
   "display_name": "Python 3 (ipykernel)",
   "language": "python",
   "name": "python3"
  },
  "language_info": {
   "codemirror_mode": {
    "name": "ipython",
    "version": 3
   },
   "file_extension": ".py",
   "mimetype": "text/x-python",
   "name": "python",
   "nbconvert_exporter": "python",
   "pygments_lexer": "ipython3",
   "version": "3.11.5"
  },
  "toc": {
   "base_numbering": 1,
   "nav_menu": {},
   "number_sections": true,
   "sideBar": true,
   "skip_h1_title": true,
   "title_cell": "Table of Contents",
   "title_sidebar": "Contents",
   "toc_cell": false,
   "toc_position": {
    "height": "calc(100% - 180px)",
    "left": "10px",
    "top": "150px",
    "width": "255px"
   },
   "toc_section_display": true,
   "toc_window_display": true
  }
 },
 "nbformat": 4,
 "nbformat_minor": 2
}
