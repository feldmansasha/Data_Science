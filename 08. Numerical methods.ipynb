{
 "cells": [
  {
   "cell_type": "markdown",
   "metadata": {},
   "source": [
    "# Determining the cost of cars"
   ]
  },
  {
   "cell_type": "markdown",
   "metadata": {},
   "source": [
    "The service for selling used cars is developing an application to attract new customers. Here you can quickly find out the market value of your car. Historical data is at your disposal: technical characteristics, configurations and prices of cars. You need to build a model to determine the cost.\n",
    "\n",
    "The following are important to the customer:\n",
    "\n",
    "- quality of prediction;\n",
    "- prediction speed;\n",
    "- studying time."
   ]
  },
  {
   "cell_type": "markdown",
   "metadata": {},
   "source": [
    "## Data preparation"
   ]
  },
  {
   "cell_type": "code",
   "execution_count": 1,
   "metadata": {},
   "outputs": [],
   "source": [
    "import matplotlib.pyplot as plt\n",
    "import numpy as np\n",
    "import pandas as pd\n",
    "import warnings\n",
    "import seaborn as sns\n",
    "import time\n",
    "from sklearn.model_selection import train_test_split, GridSearchCV\n",
    "from sklearn.preprocessing import StandardScaler, OrdinalEncoder\n",
    "from sklearn.metrics import mean_squared_error\n",
    "from sklearn.linear_model import LinearRegression\n",
    "from sklearn.tree import DecisionTreeRegressor\n",
    "from catboost import CatBoostRegressor, cv\n",
    "from lightgbm import LGBMRegressor\n",
    "warnings.filterwarnings('ignore')\n",
    "\n",
    "RANDOM_STATE=12345"
   ]
  },
  {
   "cell_type": "code",
   "execution_count": 2,
   "metadata": {},
   "outputs": [],
   "source": [
    "cars=pd.read_csv('/datasets/autos.csv')"
   ]
  },
  {
   "cell_type": "code",
   "execution_count": 3,
   "metadata": {},
   "outputs": [
    {
     "data": {
      "text/html": [
       "<div>\n",
       "<style scoped>\n",
       "    .dataframe tbody tr th:only-of-type {\n",
       "        vertical-align: middle;\n",
       "    }\n",
       "\n",
       "    .dataframe tbody tr th {\n",
       "        vertical-align: top;\n",
       "    }\n",
       "\n",
       "    .dataframe thead th {\n",
       "        text-align: right;\n",
       "    }\n",
       "</style>\n",
       "<table border=\"1\" class=\"dataframe\">\n",
       "  <thead>\n",
       "    <tr style=\"text-align: right;\">\n",
       "      <th></th>\n",
       "      <th>DateCrawled</th>\n",
       "      <th>Price</th>\n",
       "      <th>VehicleType</th>\n",
       "      <th>RegistrationYear</th>\n",
       "      <th>Gearbox</th>\n",
       "      <th>Power</th>\n",
       "      <th>Model</th>\n",
       "      <th>Kilometer</th>\n",
       "      <th>RegistrationMonth</th>\n",
       "      <th>FuelType</th>\n",
       "      <th>Brand</th>\n",
       "      <th>Repaired</th>\n",
       "      <th>DateCreated</th>\n",
       "      <th>NumberOfPictures</th>\n",
       "      <th>PostalCode</th>\n",
       "      <th>LastSeen</th>\n",
       "    </tr>\n",
       "  </thead>\n",
       "  <tbody>\n",
       "    <tr>\n",
       "      <th>120785</th>\n",
       "      <td>2016-03-29 14:51:07</td>\n",
       "      <td>3999</td>\n",
       "      <td>wagon</td>\n",
       "      <td>2008</td>\n",
       "      <td>manual</td>\n",
       "      <td>150</td>\n",
       "      <td>astra</td>\n",
       "      <td>150000</td>\n",
       "      <td>12</td>\n",
       "      <td>gasoline</td>\n",
       "      <td>opel</td>\n",
       "      <td>no</td>\n",
       "      <td>2016-03-29 00:00:00</td>\n",
       "      <td>0</td>\n",
       "      <td>88456</td>\n",
       "      <td>2016-04-06 00:44:29</td>\n",
       "    </tr>\n",
       "    <tr>\n",
       "      <th>340136</th>\n",
       "      <td>2016-04-04 13:39:37</td>\n",
       "      <td>2900</td>\n",
       "      <td>small</td>\n",
       "      <td>2007</td>\n",
       "      <td>manual</td>\n",
       "      <td>86</td>\n",
       "      <td>ibiza</td>\n",
       "      <td>125000</td>\n",
       "      <td>7</td>\n",
       "      <td>petrol</td>\n",
       "      <td>seat</td>\n",
       "      <td>no</td>\n",
       "      <td>2016-04-04 00:00:00</td>\n",
       "      <td>0</td>\n",
       "      <td>90425</td>\n",
       "      <td>2016-04-06 14:45:11</td>\n",
       "    </tr>\n",
       "    <tr>\n",
       "      <th>98671</th>\n",
       "      <td>2016-03-07 20:47:45</td>\n",
       "      <td>1000</td>\n",
       "      <td>bus</td>\n",
       "      <td>2000</td>\n",
       "      <td>manual</td>\n",
       "      <td>125</td>\n",
       "      <td>zafira</td>\n",
       "      <td>150000</td>\n",
       "      <td>12</td>\n",
       "      <td>petrol</td>\n",
       "      <td>opel</td>\n",
       "      <td>yes</td>\n",
       "      <td>2016-03-07 00:00:00</td>\n",
       "      <td>0</td>\n",
       "      <td>45527</td>\n",
       "      <td>2016-03-07 20:47:45</td>\n",
       "    </tr>\n",
       "    <tr>\n",
       "      <th>87131</th>\n",
       "      <td>2016-03-11 16:49:19</td>\n",
       "      <td>1100</td>\n",
       "      <td>coupe</td>\n",
       "      <td>1994</td>\n",
       "      <td>manual</td>\n",
       "      <td>116</td>\n",
       "      <td>other</td>\n",
       "      <td>150000</td>\n",
       "      <td>5</td>\n",
       "      <td>petrol</td>\n",
       "      <td>toyota</td>\n",
       "      <td>no</td>\n",
       "      <td>2016-03-11 00:00:00</td>\n",
       "      <td>0</td>\n",
       "      <td>18273</td>\n",
       "      <td>2016-03-11 16:49:19</td>\n",
       "    </tr>\n",
       "    <tr>\n",
       "      <th>155040</th>\n",
       "      <td>2016-03-19 20:51:00</td>\n",
       "      <td>849</td>\n",
       "      <td>small</td>\n",
       "      <td>1997</td>\n",
       "      <td>NaN</td>\n",
       "      <td>0</td>\n",
       "      <td>fiesta</td>\n",
       "      <td>150000</td>\n",
       "      <td>4</td>\n",
       "      <td>NaN</td>\n",
       "      <td>ford</td>\n",
       "      <td>NaN</td>\n",
       "      <td>2016-03-19 00:00:00</td>\n",
       "      <td>0</td>\n",
       "      <td>59457</td>\n",
       "      <td>2016-03-24 16:47:35</td>\n",
       "    </tr>\n",
       "  </tbody>\n",
       "</table>\n",
       "</div>"
      ],
      "text/plain": [
       "                DateCrawled  Price VehicleType  RegistrationYear Gearbox  \\\n",
       "120785  2016-03-29 14:51:07   3999       wagon              2008  manual   \n",
       "340136  2016-04-04 13:39:37   2900       small              2007  manual   \n",
       "98671   2016-03-07 20:47:45   1000         bus              2000  manual   \n",
       "87131   2016-03-11 16:49:19   1100       coupe              1994  manual   \n",
       "155040  2016-03-19 20:51:00    849       small              1997     NaN   \n",
       "\n",
       "        Power   Model  Kilometer  RegistrationMonth  FuelType   Brand  \\\n",
       "120785    150   astra     150000                 12  gasoline    opel   \n",
       "340136     86   ibiza     125000                  7    petrol    seat   \n",
       "98671     125  zafira     150000                 12    petrol    opel   \n",
       "87131     116   other     150000                  5    petrol  toyota   \n",
       "155040      0  fiesta     150000                  4       NaN    ford   \n",
       "\n",
       "       Repaired          DateCreated  NumberOfPictures  PostalCode  \\\n",
       "120785       no  2016-03-29 00:00:00                 0       88456   \n",
       "340136       no  2016-04-04 00:00:00                 0       90425   \n",
       "98671       yes  2016-03-07 00:00:00                 0       45527   \n",
       "87131        no  2016-03-11 00:00:00                 0       18273   \n",
       "155040      NaN  2016-03-19 00:00:00                 0       59457   \n",
       "\n",
       "                   LastSeen  \n",
       "120785  2016-04-06 00:44:29  \n",
       "340136  2016-04-06 14:45:11  \n",
       "98671   2016-03-07 20:47:45  \n",
       "87131   2016-03-11 16:49:19  \n",
       "155040  2016-03-24 16:47:35  "
      ]
     },
     "execution_count": 3,
     "metadata": {},
     "output_type": "execute_result"
    }
   ],
   "source": [
    "cars.sample(5)"
   ]
  },
  {
   "cell_type": "code",
   "execution_count": 4,
   "metadata": {},
   "outputs": [
    {
     "name": "stdout",
     "output_type": "stream",
     "text": [
      "<class 'pandas.core.frame.DataFrame'>\n",
      "RangeIndex: 354369 entries, 0 to 354368\n",
      "Data columns (total 16 columns):\n",
      " #   Column             Non-Null Count   Dtype \n",
      "---  ------             --------------   ----- \n",
      " 0   DateCrawled        354369 non-null  object\n",
      " 1   Price              354369 non-null  int64 \n",
      " 2   VehicleType        316879 non-null  object\n",
      " 3   RegistrationYear   354369 non-null  int64 \n",
      " 4   Gearbox            334536 non-null  object\n",
      " 5   Power              354369 non-null  int64 \n",
      " 6   Model              334664 non-null  object\n",
      " 7   Kilometer          354369 non-null  int64 \n",
      " 8   RegistrationMonth  354369 non-null  int64 \n",
      " 9   FuelType           321474 non-null  object\n",
      " 10  Brand              354369 non-null  object\n",
      " 11  Repaired           283215 non-null  object\n",
      " 12  DateCreated        354369 non-null  object\n",
      " 13  NumberOfPictures   354369 non-null  int64 \n",
      " 14  PostalCode         354369 non-null  int64 \n",
      " 15  LastSeen           354369 non-null  object\n",
      "dtypes: int64(7), object(9)\n",
      "memory usage: 43.3+ MB\n"
     ]
    }
   ],
   "source": [
    "cars.info()"
   ]
  },
  {
   "cell_type": "code",
   "execution_count": 5,
   "metadata": {},
   "outputs": [
    {
     "data": {
      "text/html": [
       "<div>\n",
       "<style scoped>\n",
       "    .dataframe tbody tr th:only-of-type {\n",
       "        vertical-align: middle;\n",
       "    }\n",
       "\n",
       "    .dataframe tbody tr th {\n",
       "        vertical-align: top;\n",
       "    }\n",
       "\n",
       "    .dataframe thead th {\n",
       "        text-align: right;\n",
       "    }\n",
       "</style>\n",
       "<table border=\"1\" class=\"dataframe\">\n",
       "  <thead>\n",
       "    <tr style=\"text-align: right;\">\n",
       "      <th></th>\n",
       "      <th>Price</th>\n",
       "      <th>RegistrationYear</th>\n",
       "      <th>Power</th>\n",
       "      <th>Kilometer</th>\n",
       "      <th>RegistrationMonth</th>\n",
       "      <th>NumberOfPictures</th>\n",
       "      <th>PostalCode</th>\n",
       "    </tr>\n",
       "  </thead>\n",
       "  <tbody>\n",
       "    <tr>\n",
       "      <th>count</th>\n",
       "      <td>354369.000000</td>\n",
       "      <td>354369.000000</td>\n",
       "      <td>354369.000000</td>\n",
       "      <td>354369.000000</td>\n",
       "      <td>354369.000000</td>\n",
       "      <td>354369.0</td>\n",
       "      <td>354369.000000</td>\n",
       "    </tr>\n",
       "    <tr>\n",
       "      <th>mean</th>\n",
       "      <td>4416.656776</td>\n",
       "      <td>2004.234448</td>\n",
       "      <td>110.094337</td>\n",
       "      <td>128211.172535</td>\n",
       "      <td>5.714645</td>\n",
       "      <td>0.0</td>\n",
       "      <td>50508.689087</td>\n",
       "    </tr>\n",
       "    <tr>\n",
       "      <th>std</th>\n",
       "      <td>4514.158514</td>\n",
       "      <td>90.227958</td>\n",
       "      <td>189.850405</td>\n",
       "      <td>37905.341530</td>\n",
       "      <td>3.726421</td>\n",
       "      <td>0.0</td>\n",
       "      <td>25783.096248</td>\n",
       "    </tr>\n",
       "    <tr>\n",
       "      <th>min</th>\n",
       "      <td>0.000000</td>\n",
       "      <td>1000.000000</td>\n",
       "      <td>0.000000</td>\n",
       "      <td>5000.000000</td>\n",
       "      <td>0.000000</td>\n",
       "      <td>0.0</td>\n",
       "      <td>1067.000000</td>\n",
       "    </tr>\n",
       "    <tr>\n",
       "      <th>25%</th>\n",
       "      <td>1050.000000</td>\n",
       "      <td>1999.000000</td>\n",
       "      <td>69.000000</td>\n",
       "      <td>125000.000000</td>\n",
       "      <td>3.000000</td>\n",
       "      <td>0.0</td>\n",
       "      <td>30165.000000</td>\n",
       "    </tr>\n",
       "    <tr>\n",
       "      <th>50%</th>\n",
       "      <td>2700.000000</td>\n",
       "      <td>2003.000000</td>\n",
       "      <td>105.000000</td>\n",
       "      <td>150000.000000</td>\n",
       "      <td>6.000000</td>\n",
       "      <td>0.0</td>\n",
       "      <td>49413.000000</td>\n",
       "    </tr>\n",
       "    <tr>\n",
       "      <th>75%</th>\n",
       "      <td>6400.000000</td>\n",
       "      <td>2008.000000</td>\n",
       "      <td>143.000000</td>\n",
       "      <td>150000.000000</td>\n",
       "      <td>9.000000</td>\n",
       "      <td>0.0</td>\n",
       "      <td>71083.000000</td>\n",
       "    </tr>\n",
       "    <tr>\n",
       "      <th>max</th>\n",
       "      <td>20000.000000</td>\n",
       "      <td>9999.000000</td>\n",
       "      <td>20000.000000</td>\n",
       "      <td>150000.000000</td>\n",
       "      <td>12.000000</td>\n",
       "      <td>0.0</td>\n",
       "      <td>99998.000000</td>\n",
       "    </tr>\n",
       "  </tbody>\n",
       "</table>\n",
       "</div>"
      ],
      "text/plain": [
       "               Price  RegistrationYear          Power      Kilometer  \\\n",
       "count  354369.000000     354369.000000  354369.000000  354369.000000   \n",
       "mean     4416.656776       2004.234448     110.094337  128211.172535   \n",
       "std      4514.158514         90.227958     189.850405   37905.341530   \n",
       "min         0.000000       1000.000000       0.000000    5000.000000   \n",
       "25%      1050.000000       1999.000000      69.000000  125000.000000   \n",
       "50%      2700.000000       2003.000000     105.000000  150000.000000   \n",
       "75%      6400.000000       2008.000000     143.000000  150000.000000   \n",
       "max     20000.000000       9999.000000   20000.000000  150000.000000   \n",
       "\n",
       "       RegistrationMonth  NumberOfPictures     PostalCode  \n",
       "count      354369.000000          354369.0  354369.000000  \n",
       "mean            5.714645               0.0   50508.689087  \n",
       "std             3.726421               0.0   25783.096248  \n",
       "min             0.000000               0.0    1067.000000  \n",
       "25%             3.000000               0.0   30165.000000  \n",
       "50%             6.000000               0.0   49413.000000  \n",
       "75%             9.000000               0.0   71083.000000  \n",
       "max            12.000000               0.0   99998.000000  "
      ]
     },
     "execution_count": 5,
     "metadata": {},
     "output_type": "execute_result"
    }
   ],
   "source": [
    "cars.describe()"
   ]
  },
  {
   "cell_type": "code",
   "execution_count": 6,
   "metadata": {},
   "outputs": [],
   "source": [
    "cars=cars.drop([\"DateCrawled\", \"DateCreated\", \"LastSeen\", \"NumberOfPictures\", \"PostalCode\", \"RegistrationMonth\"], axis=1)"
   ]
  },
  {
   "cell_type": "markdown",
   "metadata": {},
   "source": [
    "We remove columns that are not needed for training for models."
   ]
  },
  {
   "cell_type": "code",
   "execution_count": 7,
   "metadata": {},
   "outputs": [
    {
     "data": {
      "text/plain": [
       "<AxesSubplot:xlabel='Power', ylabel='Count'>"
      ]
     },
     "execution_count": 7,
     "metadata": {},
     "output_type": "execute_result"
    },
    {
     "data": {
      "image/png": "[encoded data removed]",
      "text/plain": [
       "<Figure size 1080x432 with 1 Axes>"
      ]
     },
     "metadata": {
      "needs_background": "light"
     },
     "output_type": "display_data"
    }
   ],
   "source": [
    "plt.subplots(figsize = (15, 6))\n",
    "sns.histplot(cars['Power'], bins=500)"
   ]
  },
  {
   "cell_type": "markdown",
   "metadata": {},
   "source": [
    "We see a wide range of power values. Let's take the range from 30 to 600 forces. Minimum - the weakest cars\n",
    "(they are also called quadricycles), the maximum is exclusive sports cars."
   ]
  },
  {
   "cell_type": "code",
   "execution_count": 8,
   "metadata": {},
   "outputs": [
    {
     "data": {
      "text/plain": [
       "<AxesSubplot:xlabel='Power', ylabel='Count'>"
      ]
     },
     "execution_count": 8,
     "metadata": {},
     "output_type": "execute_result"
    },
    {
     "data": {
      "image/png": "[encoded data removed]",
      "text/plain": [
       "<Figure size 1080x432 with 1 Axes>"
      ]
     },
     "metadata": {
      "needs_background": "light"
     },
     "output_type": "display_data"
    }
   ],
   "source": [
    "cars=cars[cars['Power']<600]\n",
    "cars=cars[cars['Power']>30]\n",
    "plt.subplots(figsize = (15, 6))\n",
    "sns.histplot(cars['Power'], bins=500)"
   ]
  },
  {
   "cell_type": "code",
   "execution_count": 9,
   "metadata": {},
   "outputs": [
    {
     "data": {
      "text/plain": [
       "<AxesSubplot:xlabel='Kilometer', ylabel='Count'>"
      ]
     },
     "execution_count": 9,
     "metadata": {},
     "output_type": "execute_result"
    },
    {
     "data": {
      "image/png": "[encoded data removed]",
      "text/plain": [
       "<Figure size 432x288 with 1 Axes>"
      ]
     },
     "metadata": {
      "needs_background": "light"
     },
     "output_type": "display_data"
    }
   ],
   "source": [
    "sns.histplot(cars['Kilometer'], bins=50)"
   ]
  },
  {
   "cell_type": "code",
   "execution_count": 10,
   "metadata": {},
   "outputs": [
    {
     "data": {
      "text/html": [
       "<div>\n",
       "<style scoped>\n",
       "    .dataframe tbody tr th:only-of-type {\n",
       "        vertical-align: middle;\n",
       "    }\n",
       "\n",
       "    .dataframe tbody tr th {\n",
       "        vertical-align: top;\n",
       "    }\n",
       "\n",
       "    .dataframe thead th {\n",
       "        text-align: right;\n",
       "    }\n",
       "</style>\n",
       "<table border=\"1\" class=\"dataframe\">\n",
       "  <thead>\n",
       "    <tr style=\"text-align: right;\">\n",
       "      <th></th>\n",
       "      <th>Price</th>\n",
       "      <th>RegistrationYear</th>\n",
       "      <th>Power</th>\n",
       "      <th>Kilometer</th>\n",
       "    </tr>\n",
       "  </thead>\n",
       "  <tbody>\n",
       "    <tr>\n",
       "      <th>count</th>\n",
       "      <td>242620.000000</td>\n",
       "      <td>242620.000000</td>\n",
       "      <td>242620.000000</td>\n",
       "      <td>242620.000000</td>\n",
       "    </tr>\n",
       "    <tr>\n",
       "      <th>mean</th>\n",
       "      <td>3805.933328</td>\n",
       "      <td>2002.414912</td>\n",
       "      <td>122.723440</td>\n",
       "      <td>146566.750474</td>\n",
       "    </tr>\n",
       "    <tr>\n",
       "      <th>std</th>\n",
       "      <td>3888.861721</td>\n",
       "      <td>15.536459</td>\n",
       "      <td>54.206039</td>\n",
       "      <td>8604.902151</td>\n",
       "    </tr>\n",
       "    <tr>\n",
       "      <th>min</th>\n",
       "      <td>0.000000</td>\n",
       "      <td>1910.000000</td>\n",
       "      <td>31.000000</td>\n",
       "      <td>125000.000000</td>\n",
       "    </tr>\n",
       "    <tr>\n",
       "      <th>25%</th>\n",
       "      <td>1000.000000</td>\n",
       "      <td>1999.000000</td>\n",
       "      <td>80.000000</td>\n",
       "      <td>150000.000000</td>\n",
       "    </tr>\n",
       "    <tr>\n",
       "      <th>50%</th>\n",
       "      <td>2400.000000</td>\n",
       "      <td>2002.000000</td>\n",
       "      <td>115.000000</td>\n",
       "      <td>150000.000000</td>\n",
       "    </tr>\n",
       "    <tr>\n",
       "      <th>75%</th>\n",
       "      <td>5200.000000</td>\n",
       "      <td>2006.000000</td>\n",
       "      <td>150.000000</td>\n",
       "      <td>150000.000000</td>\n",
       "    </tr>\n",
       "    <tr>\n",
       "      <th>max</th>\n",
       "      <td>20000.000000</td>\n",
       "      <td>9000.000000</td>\n",
       "      <td>599.000000</td>\n",
       "      <td>150000.000000</td>\n",
       "    </tr>\n",
       "  </tbody>\n",
       "</table>\n",
       "</div>"
      ],
      "text/plain": [
       "               Price  RegistrationYear          Power      Kilometer\n",
       "count  242620.000000     242620.000000  242620.000000  242620.000000\n",
       "mean     3805.933328       2002.414912     122.723440  146566.750474\n",
       "std      3888.861721         15.536459      54.206039    8604.902151\n",
       "min         0.000000       1910.000000      31.000000  125000.000000\n",
       "25%      1000.000000       1999.000000      80.000000  150000.000000\n",
       "50%      2400.000000       2002.000000     115.000000  150000.000000\n",
       "75%      5200.000000       2006.000000     150.000000  150000.000000\n",
       "max     20000.000000       9000.000000     599.000000  150000.000000"
      ]
     },
     "execution_count": 10,
     "metadata": {},
     "output_type": "execute_result"
    }
   ],
   "source": [
    "cars[cars['Kilometer']>100000].describe()"
   ]
  },
  {
   "cell_type": "markdown",
   "metadata": {},
   "source": [
    "There is an extremum at a mileage value of 150 thousand kilometers. This indicates an upper limit on the service website. At such long mileage, it is difficult to predict the condition of the car: a lot depends on the operating conditions and the accuracy of the drivers. Therefore, it is not so important whether the mileage is 150 or 450 thousand. We'll leave it unnamed."
   ]
  },
  {
   "cell_type": "code",
   "execution_count": 11,
   "metadata": {},
   "outputs": [
    {
     "data": {
      "text/plain": [
       "<AxesSubplot:xlabel='Price', ylabel='Count'>"
      ]
     },
     "execution_count": 11,
     "metadata": {},
     "output_type": "execute_result"
    },
    {
     "data": {
      "image/png": "[encoded data removed]",
      "text/plain": [
       "<Figure size 1080x432 with 1 Axes>"
      ]
     },
     "metadata": {
      "needs_background": "light"
     },
     "output_type": "display_data"
    }
   ],
   "source": [
    "cars=cars[cars['Price']>0]\n",
    "plt.subplots(figsize = (15, 6))\n",
    "sns.histplot(cars['Price'], bins=100)"
   ]
  },
  {
   "cell_type": "code",
   "execution_count": 12,
   "metadata": {},
   "outputs": [
    {
     "data": {
      "text/html": [
       "<div>\n",
       "<style scoped>\n",
       "    .dataframe tbody tr th:only-of-type {\n",
       "        vertical-align: middle;\n",
       "    }\n",
       "\n",
       "    .dataframe tbody tr th {\n",
       "        vertical-align: top;\n",
       "    }\n",
       "\n",
       "    .dataframe thead th {\n",
       "        text-align: right;\n",
       "    }\n",
       "</style>\n",
       "<table border=\"1\" class=\"dataframe\">\n",
       "  <thead>\n",
       "    <tr style=\"text-align: right;\">\n",
       "      <th></th>\n",
       "      <th>Price</th>\n",
       "      <th>RegistrationYear</th>\n",
       "      <th>Power</th>\n",
       "      <th>Kilometer</th>\n",
       "    </tr>\n",
       "  </thead>\n",
       "  <tbody>\n",
       "    <tr>\n",
       "      <th>count</th>\n",
       "      <td>305976.000000</td>\n",
       "      <td>305976.000000</td>\n",
       "      <td>305976.000000</td>\n",
       "      <td>305976.000000</td>\n",
       "    </tr>\n",
       "    <tr>\n",
       "      <th>mean</th>\n",
       "      <td>4813.650061</td>\n",
       "      <td>2003.563420</td>\n",
       "      <td>120.488895</td>\n",
       "      <td>128611.394358</td>\n",
       "    </tr>\n",
       "    <tr>\n",
       "      <th>std</th>\n",
       "      <td>4588.526517</td>\n",
       "      <td>32.547045</td>\n",
       "      <td>53.548601</td>\n",
       "      <td>36534.048389</td>\n",
       "    </tr>\n",
       "    <tr>\n",
       "      <th>min</th>\n",
       "      <td>1.000000</td>\n",
       "      <td>1000.000000</td>\n",
       "      <td>31.000000</td>\n",
       "      <td>5000.000000</td>\n",
       "    </tr>\n",
       "    <tr>\n",
       "      <th>25%</th>\n",
       "      <td>1300.000000</td>\n",
       "      <td>1999.000000</td>\n",
       "      <td>75.000000</td>\n",
       "      <td>125000.000000</td>\n",
       "    </tr>\n",
       "    <tr>\n",
       "      <th>50%</th>\n",
       "      <td>3100.000000</td>\n",
       "      <td>2003.000000</td>\n",
       "      <td>110.000000</td>\n",
       "      <td>150000.000000</td>\n",
       "    </tr>\n",
       "    <tr>\n",
       "      <th>75%</th>\n",
       "      <td>6950.000000</td>\n",
       "      <td>2008.000000</td>\n",
       "      <td>150.000000</td>\n",
       "      <td>150000.000000</td>\n",
       "    </tr>\n",
       "    <tr>\n",
       "      <th>max</th>\n",
       "      <td>20000.000000</td>\n",
       "      <td>9999.000000</td>\n",
       "      <td>599.000000</td>\n",
       "      <td>150000.000000</td>\n",
       "    </tr>\n",
       "  </tbody>\n",
       "</table>\n",
       "</div>"
      ],
      "text/plain": [
       "               Price  RegistrationYear          Power      Kilometer\n",
       "count  305976.000000     305976.000000  305976.000000  305976.000000\n",
       "mean     4813.650061       2003.563420     120.488895  128611.394358\n",
       "std      4588.526517         32.547045      53.548601   36534.048389\n",
       "min         1.000000       1000.000000      31.000000    5000.000000\n",
       "25%      1300.000000       1999.000000      75.000000  125000.000000\n",
       "50%      3100.000000       2003.000000     110.000000  150000.000000\n",
       "75%      6950.000000       2008.000000     150.000000  150000.000000\n",
       "max     20000.000000       9999.000000     599.000000  150000.000000"
      ]
     },
     "execution_count": 12,
     "metadata": {},
     "output_type": "execute_result"
    }
   ],
   "source": [
    "cars.describe()"
   ]
  },
  {
   "cell_type": "markdown",
   "metadata": {},
   "source": [
    "Let's leave only those ads that have a non-zero price.\n",
    "The minimum price may be indicated (1 euro) if the car is not running and is sold for spare parts."
   ]
  },
  {
   "cell_type": "code",
   "execution_count": 13,
   "metadata": {},
   "outputs": [],
   "source": [
    "cars=cars[cars['RegistrationYear']>1950]\n",
    "cars=cars[cars['RegistrationYear']<2020]"
   ]
  },
  {
   "cell_type": "code",
   "execution_count": 14,
   "metadata": {},
   "outputs": [
    {
     "data": {
      "text/plain": [
       "<AxesSubplot:xlabel='RegistrationYear', ylabel='Count'>"
      ]
     },
     "execution_count": 14,
     "metadata": {},
     "output_type": "execute_result"
    },
    {
     "data": {
      "image/png": "[encoded data removed]",
      "text/plain": [
       "<Figure size 1080x432 with 1 Axes>"
      ]
     },
     "metadata": {
      "needs_background": "light"
     },
     "output_type": "display_data"
    }
   ],
   "source": [
    "plt.subplots(figsize = (15, 6))\n",
    "sns.histplot(cars['RegistrationYear'], bins=300)"
   ]
  },
  {
   "cell_type": "code",
   "execution_count": 15,
   "metadata": {},
   "outputs": [
    {
     "data": {
      "text/html": [
       "<div>\n",
       "<style scoped>\n",
       "    .dataframe tbody tr th:only-of-type {\n",
       "        vertical-align: middle;\n",
       "    }\n",
       "\n",
       "    .dataframe tbody tr th {\n",
       "        vertical-align: top;\n",
       "    }\n",
       "\n",
       "    .dataframe thead th {\n",
       "        text-align: right;\n",
       "    }\n",
       "</style>\n",
       "<table border=\"1\" class=\"dataframe\">\n",
       "  <thead>\n",
       "    <tr style=\"text-align: right;\">\n",
       "      <th></th>\n",
       "      <th>Price</th>\n",
       "      <th>RegistrationYear</th>\n",
       "      <th>Power</th>\n",
       "      <th>Kilometer</th>\n",
       "    </tr>\n",
       "  </thead>\n",
       "  <tbody>\n",
       "    <tr>\n",
       "      <th>count</th>\n",
       "      <td>305920.000000</td>\n",
       "      <td>305920.000000</td>\n",
       "      <td>305920.000000</td>\n",
       "      <td>305920.000000</td>\n",
       "    </tr>\n",
       "    <tr>\n",
       "      <th>mean</th>\n",
       "      <td>4813.098019</td>\n",
       "      <td>2003.351376</td>\n",
       "      <td>120.489968</td>\n",
       "      <td>128626.863232</td>\n",
       "    </tr>\n",
       "    <tr>\n",
       "      <th>std</th>\n",
       "      <td>4588.188386</td>\n",
       "      <td>6.809983</td>\n",
       "      <td>53.536033</td>\n",
       "      <td>36511.969542</td>\n",
       "    </tr>\n",
       "    <tr>\n",
       "      <th>min</th>\n",
       "      <td>1.000000</td>\n",
       "      <td>1951.000000</td>\n",
       "      <td>31.000000</td>\n",
       "      <td>5000.000000</td>\n",
       "    </tr>\n",
       "    <tr>\n",
       "      <th>25%</th>\n",
       "      <td>1300.000000</td>\n",
       "      <td>1999.000000</td>\n",
       "      <td>75.000000</td>\n",
       "      <td>125000.000000</td>\n",
       "    </tr>\n",
       "    <tr>\n",
       "      <th>50%</th>\n",
       "      <td>3100.000000</td>\n",
       "      <td>2003.000000</td>\n",
       "      <td>110.000000</td>\n",
       "      <td>150000.000000</td>\n",
       "    </tr>\n",
       "    <tr>\n",
       "      <th>75%</th>\n",
       "      <td>6950.000000</td>\n",
       "      <td>2008.000000</td>\n",
       "      <td>150.000000</td>\n",
       "      <td>150000.000000</td>\n",
       "    </tr>\n",
       "    <tr>\n",
       "      <th>max</th>\n",
       "      <td>20000.000000</td>\n",
       "      <td>2019.000000</td>\n",
       "      <td>599.000000</td>\n",
       "      <td>150000.000000</td>\n",
       "    </tr>\n",
       "  </tbody>\n",
       "</table>\n",
       "</div>"
      ],
      "text/plain": [
       "               Price  RegistrationYear          Power      Kilometer\n",
       "count  305920.000000     305920.000000  305920.000000  305920.000000\n",
       "mean     4813.098019       2003.351376     120.489968  128626.863232\n",
       "std      4588.188386          6.809983      53.536033   36511.969542\n",
       "min         1.000000       1951.000000      31.000000    5000.000000\n",
       "25%      1300.000000       1999.000000      75.000000  125000.000000\n",
       "50%      3100.000000       2003.000000     110.000000  150000.000000\n",
       "75%      6950.000000       2008.000000     150.000000  150000.000000\n",
       "max     20000.000000       2019.000000     599.000000  150000.000000"
      ]
     },
     "execution_count": 15,
     "metadata": {},
     "output_type": "execute_result"
    }
   ],
   "source": [
    "cars.describe()"
   ]
  },
  {
   "cell_type": "code",
   "execution_count": 16,
   "metadata": {},
   "outputs": [
    {
     "name": "stdout",
     "output_type": "stream",
     "text": [
      "<class 'pandas.core.frame.DataFrame'>\n",
      "Int64Index: 305920 entries, 1 to 354368\n",
      "Data columns (total 10 columns):\n",
      " #   Column            Non-Null Count   Dtype \n",
      "---  ------            --------------   ----- \n",
      " 0   Price             305920 non-null  int64 \n",
      " 1   VehicleType       284694 non-null  object\n",
      " 2   RegistrationYear  305920 non-null  int64 \n",
      " 3   Gearbox           299931 non-null  object\n",
      " 4   Power             305920 non-null  int64 \n",
      " 5   Model             293763 non-null  object\n",
      " 6   Kilometer         305920 non-null  int64 \n",
      " 7   FuelType          286317 non-null  object\n",
      " 8   Brand             305920 non-null  object\n",
      " 9   Repaired          259123 non-null  object\n",
      "dtypes: int64(4), object(6)\n",
      "memory usage: 25.7+ MB\n"
     ]
    }
   ],
   "source": [
    "cars.info()"
   ]
  },
  {
   "cell_type": "code",
   "execution_count": 17,
   "metadata": {},
   "outputs": [],
   "source": [
    "cars[\"Repaired\"]=cars[\"Repaired\"].fillna(\"no\")\n",
    "cars['Kilometer'] = cars['Kilometer'].fillna(cars['Kilometer'].mean())\n",
    "cars[\"VehicleType\"]=cars[\"VehicleType\"].fillna(\"other\")"
   ]
  },
  {
   "cell_type": "code",
   "execution_count": 18,
   "metadata": {},
   "outputs": [
    {
     "data": {
      "text/plain": [
       "array(['manual', 'auto', nan], dtype=object)"
      ]
     },
     "execution_count": 18,
     "metadata": {},
     "output_type": "execute_result"
    }
   ],
   "source": [
    "cars['Gearbox'].unique()"
   ]
  },
  {
   "cell_type": "code",
   "execution_count": 19,
   "metadata": {},
   "outputs": [],
   "source": [
    "cars[\"Gearbox\"]=cars[\"Gearbox\"].fillna(\"other\")"
   ]
  },
  {
   "cell_type": "code",
   "execution_count": 20,
   "metadata": {},
   "outputs": [
    {
     "name": "stdout",
     "output_type": "stream",
     "text": [
      "<class 'pandas.core.frame.DataFrame'>\n",
      "Int64Index: 305920 entries, 1 to 354368\n",
      "Data columns (total 10 columns):\n",
      " #   Column            Non-Null Count   Dtype \n",
      "---  ------            --------------   ----- \n",
      " 0   Price             305920 non-null  int64 \n",
      " 1   VehicleType       305920 non-null  object\n",
      " 2   RegistrationYear  305920 non-null  int64 \n",
      " 3   Gearbox           305920 non-null  object\n",
      " 4   Power             305920 non-null  int64 \n",
      " 5   Model             293763 non-null  object\n",
      " 6   Kilometer         305920 non-null  int64 \n",
      " 7   FuelType          286317 non-null  object\n",
      " 8   Brand             305920 non-null  object\n",
      " 9   Repaired          305920 non-null  object\n",
      "dtypes: int64(4), object(6)\n",
      "memory usage: 25.7+ MB\n"
     ]
    }
   ],
   "source": [
    "cars.info()"
   ]
  },
  {
   "cell_type": "code",
   "execution_count": 21,
   "metadata": {},
   "outputs": [
    {
     "data": {
      "text/plain": [
       "0.8600777981171548"
      ]
     },
     "execution_count": 21,
     "metadata": {},
     "output_type": "execute_result"
    }
   ],
   "source": [
    "# КОД РЕВЬЮЕРА\n",
    "263115 / 305920"
   ]
  },
  {
   "cell_type": "code",
   "execution_count": 22,
   "metadata": {},
   "outputs": [
    {
     "data": {
      "text/plain": [
       "9.295240585774057"
      ]
     },
     "execution_count": 22,
     "metadata": {},
     "output_type": "execute_result"
    }
   ],
   "source": [
    "#Новый процент пропусков\n",
    "(1-277484/305920)*100"
   ]
  },
  {
   "cell_type": "code",
   "execution_count": 23,
   "metadata": {},
   "outputs": [],
   "source": [
    "cars=cars.dropna()"
   ]
  },
  {
   "cell_type": "code",
   "execution_count": 24,
   "metadata": {},
   "outputs": [
    {
     "name": "stdout",
     "output_type": "stream",
     "text": [
      "<class 'pandas.core.frame.DataFrame'>\n",
      "Int64Index: 277484 entries, 2 to 354368\n",
      "Data columns (total 10 columns):\n",
      " #   Column            Non-Null Count   Dtype \n",
      "---  ------            --------------   ----- \n",
      " 0   Price             277484 non-null  int64 \n",
      " 1   VehicleType       277484 non-null  object\n",
      " 2   RegistrationYear  277484 non-null  int64 \n",
      " 3   Gearbox           277484 non-null  object\n",
      " 4   Power             277484 non-null  int64 \n",
      " 5   Model             277484 non-null  object\n",
      " 6   Kilometer         277484 non-null  int64 \n",
      " 7   FuelType          277484 non-null  object\n",
      " 8   Brand             277484 non-null  object\n",
      " 9   Repaired          277484 non-null  object\n",
      "dtypes: int64(4), object(6)\n",
      "memory usage: 23.3+ MB\n"
     ]
    }
   ],
   "source": [
    "cars.info()"
   ]
  },
  {
   "cell_type": "code",
   "execution_count": 25,
   "metadata": {},
   "outputs": [
    {
     "data": {
      "text/plain": [
       "44674"
      ]
     },
     "execution_count": 25,
     "metadata": {},
     "output_type": "execute_result"
    }
   ],
   "source": [
    "cars.duplicated().sum()"
   ]
  },
  {
   "cell_type": "code",
   "execution_count": 26,
   "metadata": {},
   "outputs": [],
   "source": [
    "cars=cars.drop_duplicates()"
   ]
  },
  {
   "cell_type": "code",
   "execution_count": 27,
   "metadata": {},
   "outputs": [
    {
     "data": {
      "text/plain": [
       "1    180665\n",
       "0     52145\n",
       "Name: IsManualGearbox, dtype: int64"
      ]
     },
     "metadata": {},
     "output_type": "display_data"
    },
    {
     "data": {
      "text/plain": [
       "manual    180665\n",
       "auto       48274\n",
       "other       3871\n",
       "Name: Gearbox, dtype: int64"
      ]
     },
     "execution_count": 27,
     "metadata": {},
     "output_type": "execute_result"
    }
   ],
   "source": [
    "cars['IsManualGearbox'] = 0\n",
    "cars.loc[cars['Gearbox'] == 'manual', 'IsManualGearbox'] = 1\n",
    "display(cars['IsManualGearbox'].value_counts())\n",
    "cars['Gearbox'].value_counts()"
   ]
  },
  {
   "cell_type": "code",
   "execution_count": 28,
   "metadata": {},
   "outputs": [
    {
     "data": {
      "text/plain": [
       "0    209043\n",
       "1     23767\n",
       "Name: IsRepaired, dtype: int64"
      ]
     },
     "metadata": {},
     "output_type": "display_data"
    },
    {
     "data": {
      "text/plain": [
       "no     209043\n",
       "yes     23767\n",
       "Name: Repaired, dtype: int64"
      ]
     },
     "execution_count": 28,
     "metadata": {},
     "output_type": "execute_result"
    }
   ],
   "source": [
    "cars['IsRepaired'] = 0\n",
    "cars.loc[cars['Repaired'] == 'yes', 'IsRepaired'] = 1\n",
    "display(cars['IsRepaired'].value_counts())\n",
    "cars['Repaired'].value_counts()"
   ]
  },
  {
   "cell_type": "markdown",
   "metadata": {},
   "source": [
    "Replaced values in the 'Repair' and 'Gearbox' columns with 0 and 1"
   ]
  },
  {
   "cell_type": "code",
   "execution_count": 29,
   "metadata": {},
   "outputs": [
    {
     "name": "stdout",
     "output_type": "stream",
     "text": [
      "<class 'pandas.core.frame.DataFrame'>\n",
      "Int64Index: 232810 entries, 2 to 354368\n",
      "Data columns (total 10 columns):\n",
      " #   Column            Non-Null Count   Dtype \n",
      "---  ------            --------------   ----- \n",
      " 0   Price             232810 non-null  int16 \n",
      " 1   VehicleType       232810 non-null  object\n",
      " 2   RegistrationYear  232810 non-null  int16 \n",
      " 3   Power             232810 non-null  int16 \n",
      " 4   Model             232810 non-null  object\n",
      " 5   Kilometer         232810 non-null  int32 \n",
      " 6   FuelType          232810 non-null  object\n",
      " 7   Brand             232810 non-null  object\n",
      " 8   IsManualGearbox   232810 non-null  int8  \n",
      " 9   IsRepaired        232810 non-null  int8  \n",
      "dtypes: int16(3), int32(1), int8(2), object(4)\n",
      "memory usage: 11.5+ MB\n"
     ]
    }
   ],
   "source": [
    "cars.drop(['Repaired','Gearbox'], inplace=True, axis=1)\n",
    "cars['IsRepaired'] = pd.to_numeric(cars['IsRepaired'], downcast='integer')\n",
    "cars['IsManualGearbox'] = pd.to_numeric(cars['IsManualGearbox'], downcast='integer')\n",
    "cars['RegistrationYear'] = pd.to_numeric(cars['RegistrationYear'], downcast='integer')\n",
    "cars['Power'] = pd.to_numeric(cars['Power'], downcast='integer')\n",
    "cars['Kilometer'] = pd.to_numeric(cars['Kilometer'], downcast='integer')\n",
    "cars['Price'] = pd.to_numeric(cars['Price'], downcast='integer')\n",
    "cars.info()"
   ]
  },
  {
   "cell_type": "markdown",
   "metadata": {},
   "source": [
    "Changed data types to remove extra commas and reduce memory usage."
   ]
  },
  {
   "cell_type": "code",
   "execution_count": 30,
   "metadata": {},
   "outputs": [
    {
     "data": {
      "text/html": [
       "<div>\n",
       "<style scoped>\n",
       "    .dataframe tbody tr th:only-of-type {\n",
       "        vertical-align: middle;\n",
       "    }\n",
       "\n",
       "    .dataframe tbody tr th {\n",
       "        vertical-align: top;\n",
       "    }\n",
       "\n",
       "    .dataframe thead th {\n",
       "        text-align: right;\n",
       "    }\n",
       "</style>\n",
       "<table border=\"1\" class=\"dataframe\">\n",
       "  <thead>\n",
       "    <tr style=\"text-align: right;\">\n",
       "      <th></th>\n",
       "      <th>Price</th>\n",
       "      <th>VehicleType</th>\n",
       "      <th>RegistrationYear</th>\n",
       "      <th>Power</th>\n",
       "      <th>Model</th>\n",
       "      <th>Kilometer</th>\n",
       "      <th>FuelType</th>\n",
       "      <th>Brand</th>\n",
       "      <th>IsManualGearbox</th>\n",
       "      <th>IsRepaired</th>\n",
       "    </tr>\n",
       "  </thead>\n",
       "  <tbody>\n",
       "    <tr>\n",
       "      <th>124916</th>\n",
       "      <td>3950</td>\n",
       "      <td>small</td>\n",
       "      <td>2007</td>\n",
       "      <td>84</td>\n",
       "      <td>fortwo</td>\n",
       "      <td>125000</td>\n",
       "      <td>petrol</td>\n",
       "      <td>smart</td>\n",
       "      <td>0</td>\n",
       "      <td>0</td>\n",
       "    </tr>\n",
       "    <tr>\n",
       "      <th>82568</th>\n",
       "      <td>4300</td>\n",
       "      <td>other</td>\n",
       "      <td>2017</td>\n",
       "      <td>170</td>\n",
       "      <td>a6</td>\n",
       "      <td>150000</td>\n",
       "      <td>petrol</td>\n",
       "      <td>audi</td>\n",
       "      <td>1</td>\n",
       "      <td>0</td>\n",
       "    </tr>\n",
       "    <tr>\n",
       "      <th>55838</th>\n",
       "      <td>800</td>\n",
       "      <td>sedan</td>\n",
       "      <td>1990</td>\n",
       "      <td>55</td>\n",
       "      <td>golf</td>\n",
       "      <td>150000</td>\n",
       "      <td>petrol</td>\n",
       "      <td>volkswagen</td>\n",
       "      <td>1</td>\n",
       "      <td>0</td>\n",
       "    </tr>\n",
       "    <tr>\n",
       "      <th>53935</th>\n",
       "      <td>2000</td>\n",
       "      <td>bus</td>\n",
       "      <td>2000</td>\n",
       "      <td>116</td>\n",
       "      <td>galaxy</td>\n",
       "      <td>150000</td>\n",
       "      <td>petrol</td>\n",
       "      <td>ford</td>\n",
       "      <td>1</td>\n",
       "      <td>0</td>\n",
       "    </tr>\n",
       "    <tr>\n",
       "      <th>257834</th>\n",
       "      <td>8799</td>\n",
       "      <td>wagon</td>\n",
       "      <td>2010</td>\n",
       "      <td>131</td>\n",
       "      <td>insignia</td>\n",
       "      <td>150000</td>\n",
       "      <td>gasoline</td>\n",
       "      <td>opel</td>\n",
       "      <td>1</td>\n",
       "      <td>0</td>\n",
       "    </tr>\n",
       "    <tr>\n",
       "      <th>147480</th>\n",
       "      <td>1700</td>\n",
       "      <td>small</td>\n",
       "      <td>2008</td>\n",
       "      <td>68</td>\n",
       "      <td>c1</td>\n",
       "      <td>150000</td>\n",
       "      <td>petrol</td>\n",
       "      <td>citroen</td>\n",
       "      <td>1</td>\n",
       "      <td>1</td>\n",
       "    </tr>\n",
       "    <tr>\n",
       "      <th>97114</th>\n",
       "      <td>4000</td>\n",
       "      <td>sedan</td>\n",
       "      <td>2000</td>\n",
       "      <td>118</td>\n",
       "      <td>3er</td>\n",
       "      <td>150000</td>\n",
       "      <td>petrol</td>\n",
       "      <td>bmw</td>\n",
       "      <td>1</td>\n",
       "      <td>0</td>\n",
       "    </tr>\n",
       "    <tr>\n",
       "      <th>282555</th>\n",
       "      <td>2500</td>\n",
       "      <td>coupe</td>\n",
       "      <td>2001</td>\n",
       "      <td>218</td>\n",
       "      <td>clk</td>\n",
       "      <td>150000</td>\n",
       "      <td>lpg</td>\n",
       "      <td>mercedes_benz</td>\n",
       "      <td>0</td>\n",
       "      <td>0</td>\n",
       "    </tr>\n",
       "    <tr>\n",
       "      <th>321264</th>\n",
       "      <td>15550</td>\n",
       "      <td>convertible</td>\n",
       "      <td>2004</td>\n",
       "      <td>231</td>\n",
       "      <td>3er</td>\n",
       "      <td>80000</td>\n",
       "      <td>petrol</td>\n",
       "      <td>bmw</td>\n",
       "      <td>0</td>\n",
       "      <td>0</td>\n",
       "    </tr>\n",
       "    <tr>\n",
       "      <th>66524</th>\n",
       "      <td>4950</td>\n",
       "      <td>sedan</td>\n",
       "      <td>2009</td>\n",
       "      <td>80</td>\n",
       "      <td>golf</td>\n",
       "      <td>150000</td>\n",
       "      <td>petrol</td>\n",
       "      <td>volkswagen</td>\n",
       "      <td>1</td>\n",
       "      <td>1</td>\n",
       "    </tr>\n",
       "  </tbody>\n",
       "</table>\n",
       "</div>"
      ],
      "text/plain": [
       "        Price  VehicleType  RegistrationYear  Power     Model  Kilometer  \\\n",
       "124916   3950        small              2007     84    fortwo     125000   \n",
       "82568    4300        other              2017    170        a6     150000   \n",
       "55838     800        sedan              1990     55      golf     150000   \n",
       "53935    2000          bus              2000    116    galaxy     150000   \n",
       "257834   8799        wagon              2010    131  insignia     150000   \n",
       "147480   1700        small              2008     68        c1     150000   \n",
       "97114    4000        sedan              2000    118       3er     150000   \n",
       "282555   2500        coupe              2001    218       clk     150000   \n",
       "321264  15550  convertible              2004    231       3er      80000   \n",
       "66524    4950        sedan              2009     80      golf     150000   \n",
       "\n",
       "        FuelType          Brand  IsManualGearbox  IsRepaired  \n",
       "124916    petrol          smart                0           0  \n",
       "82568     petrol           audi                1           0  \n",
       "55838     petrol     volkswagen                1           0  \n",
       "53935     petrol           ford                1           0  \n",
       "257834  gasoline           opel                1           0  \n",
       "147480    petrol        citroen                1           1  \n",
       "97114     petrol            bmw                1           0  \n",
       "282555       lpg  mercedes_benz                0           0  \n",
       "321264    petrol            bmw                0           0  \n",
       "66524     petrol     volkswagen                1           1  "
      ]
     },
     "execution_count": 30,
     "metadata": {},
     "output_type": "execute_result"
    }
   ],
   "source": [
    "cars.sample(10)"
   ]
  },
  {
   "cell_type": "markdown",
   "metadata": {},
   "source": [
    "### Conclusion"
   ]
  },
  {
   "cell_type": "markdown",
   "metadata": {},
   "source": [
    "Unfortunately, the source data is not of very high quality. We had to do a lot of work:\n",
    "1. Removed unnecessary columns.\n",
    "2. Removed emissions in the “Year of Manufacture” and “Power” columns.\n",
    "3. Replaced data types to improve readability and speed.\n",
    "4. Removed duplicates and omissions."
   ]
  },
  {
   "cell_type": "markdown",
   "metadata": {},
   "source": [
    "## Model training"
   ]
  },
  {
   "cell_type": "code",
   "execution_count": 31,
   "metadata": {},
   "outputs": [],
   "source": [
    "features = cars.drop('Price', axis=1)\n",
    "target = cars['Price']"
   ]
  },
  {
   "cell_type": "code",
   "execution_count": 32,
   "metadata": {},
   "outputs": [],
   "source": [
    "features_train, feat_test, target_train, tar_test = train_test_split(\n",
    "    features, target, test_size=0.4, random_state=RANDOM_STATE)\n",
    "\n",
    "features_test, features_valid, target_test, target_valid= train_test_split(\n",
    "    feat_test, tar_test, test_size=0.5, random_state=RANDOM_STATE)"
   ]
  },
  {
   "cell_type": "code",
   "execution_count": 33,
   "metadata": {},
   "outputs": [
    {
     "name": "stdout",
     "output_type": "stream",
     "text": [
      "139686\n",
      "139686\n",
      "\n",
      "46562\n",
      "46562\n",
      "\n",
      "46562\n",
      "46562\n",
      "\n"
     ]
    }
   ],
   "source": [
    "print(features_train.shape[0])\n",
    "print(target_train.shape[0])\n",
    "print()\n",
    "print(features_test.shape[0])\n",
    "print(target_test.shape[0])\n",
    "print()\n",
    "print(features_valid.shape[0])\n",
    "print(target_valid.shape[0])\n",
    "print()"
   ]
  },
  {
   "cell_type": "code",
   "execution_count": 34,
   "metadata": {},
   "outputs": [],
   "source": [
    "scaler=StandardScaler()"
   ]
  },
  {
   "cell_type": "code",
   "execution_count": 35,
   "metadata": {},
   "outputs": [],
   "source": [
    "sc_features = ['RegistrationYear', 'Power', 'Kilometer']"
   ]
  },
  {
   "cell_type": "code",
   "execution_count": 36,
   "metadata": {},
   "outputs": [
    {
     "data": {
      "text/plain": [
       "StandardScaler()"
      ]
     },
     "execution_count": 36,
     "metadata": {},
     "output_type": "execute_result"
    }
   ],
   "source": [
    "scaler.fit(features_train[sc_features])"
   ]
  },
  {
   "cell_type": "code",
   "execution_count": 37,
   "metadata": {},
   "outputs": [],
   "source": [
    "features_train[sc_features] = scaler.transform(features_train[sc_features])\n",
    "features_test[sc_features] = scaler.transform(features_test[sc_features])\n",
    "features_valid[sc_features] = scaler.transform(features_valid[sc_features])"
   ]
  },
  {
   "cell_type": "code",
   "execution_count": 38,
   "metadata": {},
   "outputs": [
    {
     "data": {
      "text/plain": [
       "['VehicleType', 'Model', 'FuelType', 'Brand']"
      ]
     },
     "execution_count": 38,
     "metadata": {},
     "output_type": "execute_result"
    }
   ],
   "source": [
    "ordinal_features = features_train.select_dtypes(include='object').columns.to_list()\n",
    "ordinal_features"
   ]
  },
  {
   "cell_type": "code",
   "execution_count": 39,
   "metadata": {},
   "outputs": [],
   "source": [
    "encoder_ordinal = OrdinalEncoder(handle_unknown='use_encoded_value', unknown_value=-1)"
   ]
  },
  {
   "cell_type": "code",
   "execution_count": 40,
   "metadata": {},
   "outputs": [
    {
     "data": {
      "text/plain": [
       "OrdinalEncoder(handle_unknown='use_encoded_value', unknown_value=-1)"
      ]
     },
     "execution_count": 40,
     "metadata": {},
     "output_type": "execute_result"
    }
   ],
   "source": [
    "encoder_ordinal.fit(features_train[ordinal_features])"
   ]
  },
  {
   "cell_type": "code",
   "execution_count": 41,
   "metadata": {},
   "outputs": [],
   "source": [
    "features_train_ordinal = features_train.copy()\n",
    "features_test_ordinal = features_test.copy()\n",
    "features_valid_ordinal = features_valid.copy()"
   ]
  },
  {
   "cell_type": "code",
   "execution_count": 42,
   "metadata": {},
   "outputs": [],
   "source": [
    "features_train_ordinal[ordinal_features] = encoder_ordinal.transform(features_train_ordinal[ordinal_features])\n",
    "features_test_ordinal[ordinal_features] = encoder_ordinal.transform(features_test_ordinal[ordinal_features])\n",
    "features_valid_ordinal[ordinal_features] = encoder_ordinal.transform(features_valid_ordinal[ordinal_features])"
   ]
  },
  {
   "cell_type": "markdown",
   "metadata": {},
   "source": [
    "### DecisionTreeRegressor"
   ]
  },
  {
   "cell_type": "code",
   "execution_count": 43,
   "metadata": {},
   "outputs": [
    {
     "name": "stdout",
     "output_type": "stream",
     "text": [
      "Best parameters: {'criterion': 'mse', 'max_depth': 13, 'random_state': 12345}\n",
      "Best RMSE: 1988.6642237827937\n",
      "Mean RMSE: 2222.547355640356\n",
      "CPU times: user 35.3 s, sys: 50.9 ms, total: 35.3 s\n",
      "Wall time: 35.9 s\n"
     ]
    }
   ],
   "source": [
    "%%time\n",
    "\n",
    "regressor = DecisionTreeRegressor() \n",
    "max_depth_list = [x for x in range(2, 31)]\n",
    "hyperparams = [{'criterion':['mse'], \n",
    "                'max_depth':max_depth_list, \n",
    "                'random_state':[RANDOM_STATE]}]\n",
    "\n",
    "clf_dt = GridSearchCV(regressor, hyperparams, scoring='neg_mean_squared_error')\n",
    "clf_dt.fit(features_train_ordinal, target_train)\n",
    "print(\"Best parameters:\", clf_dt.best_params_)\n",
    "best= clf_dt.cv_results_['mean_test_score']\n",
    "mean=clf_dt.cv_results_['mean_test_score'].mean()\n",
    "print(\"Best RMSE:\", (max(best)*-1) ** 0.5)\n",
    "print(\"Mean RMSE:\", (mean*-1) ** 0.5)"
   ]
  },
  {
   "cell_type": "markdown",
   "metadata": {},
   "source": [
    "### CatboostRegressor"
   ]
  },
  {
   "cell_type": "code",
   "execution_count": 44,
   "metadata": {},
   "outputs": [
    {
     "name": "stdout",
     "output_type": "stream",
     "text": [
      "Best parameters: {'criterion': 'mse', 'max_depth': 13, 'random_state': 12345}\n",
      "Best RMSE: 1645.4298410266933\n",
      "Mean RMSE: 1659.6763023382143\n",
      "CPU times: user 3min 25s, sys: 1.74 s, total: 3min 27s\n",
      "Wall time: 3min 42s\n"
     ]
    }
   ],
   "source": [
    "%%time\n",
    "\n",
    "regressor = CatBoostRegressor() \n",
    "hyperparams = [{'learning_rate':[0.1, 0.5, 0.8],\n",
    "                'random_state':[RANDOM_STATE],\n",
    "                'verbose':[False]}]\n",
    "\n",
    "clf_cb = GridSearchCV(regressor, hyperparams, scoring='neg_mean_squared_error')\n",
    "clf_cb.fit(features_train_ordinal, target_train)\n",
    "print(\"Best parameters:\", clf_dt.best_params_)\n",
    "best= clf_cb.cv_results_['mean_test_score']\n",
    "mean=clf_cb.cv_results_['mean_test_score'].mean()\n",
    "print(\"Best RMSE:\", (max(best)*-1) ** 0.5)\n",
    "print(\"Mean RMSE:\", (mean*-1) ** 0.5)"
   ]
  },
  {
   "cell_type": "markdown",
   "metadata": {},
   "source": [
    "### LGBMRegressor"
   ]
  },
  {
   "cell_type": "code",
   "execution_count": 45,
   "metadata": {},
   "outputs": [
    {
     "name": "stdout",
     "output_type": "stream",
     "text": [
      "Best parameters: {'learning_rate': 0.1, 'num_leaves': 200, 'random_state': 12345}\n",
      "Best RMSE: 1630.873157485926\n",
      "Mean RMSE: 1654.6788992220452\n",
      "CPU times: user 6min 17s, sys: 2.37 s, total: 6min 19s\n",
      "Wall time: 6min 24s\n"
     ]
    }
   ],
   "source": [
    "%%time\n",
    "\n",
    "regressor = LGBMRegressor() \n",
    "hyperparams = [{'num_leaves':[100, 200], \n",
    "                'learning_rate':[0.1, 0.3, 0.5],\n",
    "                'random_state':[RANDOM_STATE]}]\n",
    "\n",
    "clf_lgb = GridSearchCV(regressor, hyperparams, scoring='neg_mean_squared_error')\n",
    "clf_lgb.fit(features_train_ordinal, target_train)\n",
    "print(\"Best parameters:\", clf_lgb.best_params_)\n",
    "best= clf_lgb.cv_results_['mean_test_score']\n",
    "mean=clf_lgb.cv_results_['mean_test_score'].mean()\n",
    "print(\"Best RMSE:\", (max(best)*-1) ** 0.5)\n",
    "print(\"Mean RMSE:\", (mean*-1) ** 0.5)"
   ]
  },
  {
   "cell_type": "markdown",
   "metadata": {},
   "source": [
    "### Conclusion"
   ]
  },
  {
   "cell_type": "markdown",
   "metadata": {},
   "source": [
    "We selected hyperparameters for 3 models: DecisionTree, CatBoost and LightGBM"
   ]
  },
  {
   "cell_type": "markdown",
   "metadata": {},
   "source": [
    "## Model analysis"
   ]
  },
  {
   "cell_type": "markdown",
   "metadata": {},
   "source": [
    "### DecisionTreeRegressor"
   ]
  },
  {
   "cell_type": "code",
   "execution_count": 46,
   "metadata": {},
   "outputs": [
    {
     "name": "stdout",
     "output_type": "stream",
     "text": [
      "CPU times: user 279 ms, sys: 143 µs, total: 279 ms\n",
      "Wall time: 308 ms\n"
     ]
    },
    {
     "data": {
      "text/plain": [
       "0.3083832263946533"
      ]
     },
     "execution_count": 46,
     "metadata": {},
     "output_type": "execute_result"
    }
   ],
   "source": [
    "%%time\n",
    "start=time.time()\n",
    "model = DecisionTreeRegressor(**clf_dt.best_params_) \n",
    "model.fit(features_train_ordinal, target_train)\n",
    "end=time.time()\n",
    "DT_fit_time=end-start\n",
    "DT_fit_time"
   ]
  },
  {
   "cell_type": "code",
   "execution_count": 47,
   "metadata": {},
   "outputs": [
    {
     "name": "stdout",
     "output_type": "stream",
     "text": [
      "CPU times: user 11 ms, sys: 0 ns, total: 11 ms\n",
      "Wall time: 9.67 ms\n"
     ]
    },
    {
     "data": {
      "text/plain": [
       "0.009606122970581055"
      ]
     },
     "execution_count": 47,
     "metadata": {},
     "output_type": "execute_result"
    }
   ],
   "source": [
    "%%time\n",
    "start=time.time()\n",
    "target_predict = model.predict(features_test_ordinal)\n",
    "end=time.time()\n",
    "DT_predict_time=end-start\n",
    "DT_predict_time"
   ]
  },
  {
   "cell_type": "code",
   "execution_count": 48,
   "metadata": {},
   "outputs": [
    {
     "data": {
      "text/plain": [
       "1965.5797663573135"
      ]
     },
     "execution_count": 48,
     "metadata": {},
     "output_type": "execute_result"
    }
   ],
   "source": [
    "DT_rmse = mean_squared_error(target_test, target_predict) ** 0.5\n",
    "DT_rmse"
   ]
  },
  {
   "cell_type": "markdown",
   "metadata": {},
   "source": [
    "### CatBoostRegressor"
   ]
  },
  {
   "cell_type": "code",
   "execution_count": 49,
   "metadata": {},
   "outputs": [
    {
     "name": "stdout",
     "output_type": "stream",
     "text": [
      "CPU times: user 15.5 s, sys: 98.6 ms, total: 15.6 s\n",
      "Wall time: 16.7 s\n"
     ]
    },
    {
     "data": {
      "text/plain": [
       "16.655490398406982"
      ]
     },
     "execution_count": 49,
     "metadata": {},
     "output_type": "execute_result"
    }
   ],
   "source": [
    "%%time\n",
    "start=time.time()\n",
    "model = CatBoostRegressor(**clf_cb.best_params_) \n",
    "model.fit(features_train_ordinal, target_train)\n",
    "end=time.time()\n",
    "CBR_fit_time=end-start\n",
    "CBR_fit_time"
   ]
  },
  {
   "cell_type": "code",
   "execution_count": 50,
   "metadata": {},
   "outputs": [
    {
     "name": "stdout",
     "output_type": "stream",
     "text": [
      "CPU times: user 43.4 ms, sys: 0 ns, total: 43.4 ms\n",
      "Wall time: 42.2 ms\n"
     ]
    },
    {
     "data": {
      "text/plain": [
       "0.042122840881347656"
      ]
     },
     "execution_count": 50,
     "metadata": {},
     "output_type": "execute_result"
    }
   ],
   "source": [
    "%%time\n",
    "start=time.time()\n",
    "target_predict = model.predict(features_test_ordinal)\n",
    "end=time.time()\n",
    "CBR_predict_time=end-start\n",
    "CBR_predict_time"
   ]
  },
  {
   "cell_type": "code",
   "execution_count": 51,
   "metadata": {},
   "outputs": [
    {
     "data": {
      "text/plain": [
       "1615.838484473922"
      ]
     },
     "execution_count": 51,
     "metadata": {},
     "output_type": "execute_result"
    }
   ],
   "source": [
    "CBR_rmse = mean_squared_error(target_test, target_predict) ** 0.5\n",
    "CBR_rmse"
   ]
  },
  {
   "cell_type": "markdown",
   "metadata": {},
   "source": [
    "### LGBMRegressor"
   ]
  },
  {
   "cell_type": "code",
   "execution_count": 52,
   "metadata": {},
   "outputs": [
    {
     "name": "stdout",
     "output_type": "stream",
     "text": [
      "CPU times: user 10.7 s, sys: 78.1 ms, total: 10.8 s\n",
      "Wall time: 10.8 s\n"
     ]
    },
    {
     "data": {
      "text/plain": [
       "10.842126369476318"
      ]
     },
     "execution_count": 52,
     "metadata": {},
     "output_type": "execute_result"
    }
   ],
   "source": [
    "%%time\n",
    "start=time.time()\n",
    "model = LGBMRegressor(**clf_lgb.best_params_)\n",
    "model.fit(features_train_ordinal, target_train)\n",
    "end=time.time()\n",
    "LGBM_fit_time=end-start\n",
    "LGBM_fit_time"
   ]
  },
  {
   "cell_type": "code",
   "execution_count": 53,
   "metadata": {},
   "outputs": [
    {
     "name": "stdout",
     "output_type": "stream",
     "text": [
      "CPU times: user 524 ms, sys: 0 ns, total: 524 ms\n",
      "Wall time: 511 ms\n"
     ]
    },
    {
     "data": {
      "text/plain": [
       "0.510408878326416"
      ]
     },
     "execution_count": 53,
     "metadata": {},
     "output_type": "execute_result"
    }
   ],
   "source": [
    "%%time\n",
    "start=time.time()\n",
    "target_predict = model.predict(features_test_ordinal)\n",
    "end=time.time()\n",
    "LGBM_predict_time=end-start\n",
    "LGBM_predict_time"
   ]
  },
  {
   "cell_type": "code",
   "execution_count": 54,
   "metadata": {},
   "outputs": [
    {
     "data": {
      "text/plain": [
       "1607.978352338832"
      ]
     },
     "execution_count": 54,
     "metadata": {},
     "output_type": "execute_result"
    }
   ],
   "source": [
    "LGBM_rmse= mean_squared_error(target_test, target_predict) ** 0.5\n",
    "LGBM_rmse"
   ]
  },
  {
   "cell_type": "markdown",
   "metadata": {},
   "source": [
    "### Comparison of models"
   ]
  },
  {
   "cell_type": "code",
   "execution_count": 55,
   "metadata": {},
   "outputs": [
    {
     "data": {
      "text/html": [
       "<div>\n",
       "<style scoped>\n",
       "    .dataframe tbody tr th:only-of-type {\n",
       "        vertical-align: middle;\n",
       "    }\n",
       "\n",
       "    .dataframe tbody tr th {\n",
       "        vertical-align: top;\n",
       "    }\n",
       "\n",
       "    .dataframe thead th {\n",
       "        text-align: right;\n",
       "    }\n",
       "</style>\n",
       "<table border=\"1\" class=\"dataframe\">\n",
       "  <thead>\n",
       "    <tr style=\"text-align: right;\">\n",
       "      <th></th>\n",
       "      <th>Bремя обучения модели, мс</th>\n",
       "      <th>Время предсказания, мс</th>\n",
       "      <th>RMSE</th>\n",
       "    </tr>\n",
       "  </thead>\n",
       "  <tbody>\n",
       "    <tr>\n",
       "      <th>DecisionTreeRegressor</th>\n",
       "      <td>308</td>\n",
       "      <td>9</td>\n",
       "      <td>1965</td>\n",
       "    </tr>\n",
       "    <tr>\n",
       "      <th>CatBoostRegressor</th>\n",
       "      <td>16655</td>\n",
       "      <td>42</td>\n",
       "      <td>1615</td>\n",
       "    </tr>\n",
       "    <tr>\n",
       "      <th>LGBMRegressor</th>\n",
       "      <td>10842</td>\n",
       "      <td>510</td>\n",
       "      <td>1607</td>\n",
       "    </tr>\n",
       "  </tbody>\n",
       "</table>\n",
       "</div>"
      ],
      "text/plain": [
       "                       Bремя обучения модели, мс  Время предсказания, мс  RMSE\n",
       "DecisionTreeRegressor                        308                       9  1965\n",
       "CatBoostRegressor                          16655                      42  1615\n",
       "LGBMRegressor                              10842                     510  1607"
      ]
     },
     "execution_count": 55,
     "metadata": {},
     "output_type": "execute_result"
    }
   ],
   "source": [
    "columns=['DecisionTreeRegressor', 'CatBoostRegressor', 'LGBMRegressor']\n",
    "info={'Bремя обучения модели, мс':[DT_fit_time, CBR_fit_time, LGBM_fit_time],\n",
    "     'Время предсказания, мс':[DT_predict_time, CBR_predict_time, LGBM_predict_time],\n",
    "     'RMSE':[DT_rmse, CBR_rmse, LGBM_rmse]}\n",
    "final_result=pd.DataFrame(data=info, index=columns)\n",
    "final_result['Bремя обучения модели, мс']=final_result['Bремя обучения модели, мс']*1000\n",
    "final_result['Bремя обучения модели, мс']=final_result['Bремя обучения модели, мс'].astype('int')\n",
    "final_result['Время предсказания, мс']=final_result['Время предсказания, мс']*1000\n",
    "final_result['Время предсказания, мс']=final_result['Время предсказания, мс'].astype('int')\n",
    "final_result['RMSE']=final_result['RMSE'].astype('int')\n",
    "final_result"
   ]
  },
  {
   "cell_type": "markdown",
   "metadata": {},
   "source": [
    "### Валидация CatBoost"
   ]
  },
  {
   "cell_type": "code",
   "execution_count": 56,
   "metadata": {},
   "outputs": [
    {
     "name": "stdout",
     "output_type": "stream",
     "text": [
      "CPU times: user 15.6 s, sys: 83.3 ms, total: 15.7 s\n",
      "Wall time: 16.7 s\n"
     ]
    },
    {
     "data": {
      "text/plain": [
       "<catboost.core.CatBoostRegressor at 0x7f4a4e6fa640>"
      ]
     },
     "execution_count": 56,
     "metadata": {},
     "output_type": "execute_result"
    }
   ],
   "source": [
    "%%time\n",
    "model = CatBoostRegressor(**clf_cb.best_params_) \n",
    "model.fit(features_train_ordinal, target_train)"
   ]
  },
  {
   "cell_type": "code",
   "execution_count": 57,
   "metadata": {},
   "outputs": [
    {
     "name": "stdout",
     "output_type": "stream",
     "text": [
      "CPU times: user 43.1 ms, sys: 40 µs, total: 43.1 ms\n",
      "Wall time: 41.6 ms\n"
     ]
    }
   ],
   "source": [
    "%%time\n",
    "target_predict = model.predict(features_valid_ordinal)"
   ]
  },
  {
   "cell_type": "code",
   "execution_count": 58,
   "metadata": {},
   "outputs": [
    {
     "data": {
      "text/plain": [
       "1632.3204792087918"
      ]
     },
     "execution_count": 58,
     "metadata": {},
     "output_type": "execute_result"
    }
   ],
   "source": [
    "CBR_rmse_valid = mean_squared_error(target_valid, target_predict) ** 0.5\n",
    "CBR_rmse_valid"
   ]
  },
  {
   "cell_type": "markdown",
   "metadata": {},
   "source": [
    "### Conclusion"
   ]
  },
  {
   "cell_type": "markdown",
   "metadata": {},
   "source": [
    "After comparing the 3 models, we can draw the following conclusions:\n",
    "1. Decision Tree learns the fastest, 25 and 62 times, respectively.\n",
    "2. In terms of prediction time, the Solution Tree is also in the lead, but the superiority is not so significant: 4 and 50 times.\n",
    "3. But with the RMSE metric the situation is the opposite: the LightGBM model itself is the most accurate, CatBoost has almost the same accuracy, and Decision Tree is 19% worse."
   ]
  },
  {
   "cell_type": "markdown",
   "metadata": {},
   "source": [
    "## Conclusion"
   ]
  },
  {
   "cell_type": "markdown",
   "metadata": {},
   "source": [
    "1. Completed data preparation. Unfortunately, there are too many omissions, outliers and inaccuracies.\n",
    "2. We made a selection of hyperparameters for 3 models.\n",
    "3. Analyzed the performance of the resulting models.\n",
    "\n",
    "All models confidently exceeded the RMSE requirement:\n",
    "\n",
    "Decision Tree: 1965\n",
    "\n",
    "CatBoost: 1615\n",
    "\n",
    "LightGBM: 1607\n",
    "\n",
    "Each model can be used for different tasks:\n",
    "\n",
    "a) DecisionTree is the fastest and can be used to roughly estimate a car.\n",
    "\n",
    "b) LightGBM predicts the cost most accurately, but also takes a long time to work. Suitable for evaluating the most expensive and rare cars, where accuracy is especially important.\n",
    "\n",
    "c) The optimal solution is CatBoost. It takes a long time to train, but the prediction time is an order of magnitude lower than that of LightGBM, and the difference in accuracy is less than 0.5%"
   ]
  }
 ],
 "metadata": {
  "ExecuteTimeLog": [
   {
    "duration": 476,
    "start_time": "2023-07-20T18:57:15.770Z"
   },
   {
    "duration": 3173,
    "start_time": "2023-07-20T18:57:16.249Z"
   },
   {
    "duration": 31,
    "start_time": "2023-07-20T18:57:19.424Z"
   },
   {
    "duration": 25,
    "start_time": "2023-07-20T18:57:25.101Z"
   },
   {
    "duration": 127,
    "start_time": "2023-07-20T18:58:20.994Z"
   },
   {
    "duration": 115,
    "start_time": "2023-07-20T18:58:50.049Z"
   },
   {
    "duration": 67,
    "start_time": "2023-07-20T19:02:34.143Z"
   },
   {
    "duration": 7,
    "start_time": "2023-07-20T19:02:37.871Z"
   },
   {
    "duration": 11,
    "start_time": "2023-07-20T19:02:42.240Z"
   },
   {
    "duration": 8,
    "start_time": "2023-07-20T19:02:45.570Z"
   },
   {
    "duration": 16,
    "start_time": "2023-07-20T19:02:51.257Z"
   },
   {
    "duration": 5,
    "start_time": "2023-07-20T19:02:56.783Z"
   },
   {
    "duration": 13,
    "start_time": "2023-07-20T19:03:03.997Z"
   },
   {
    "duration": 8,
    "start_time": "2023-07-20T19:03:08.850Z"
   },
   {
    "duration": 9,
    "start_time": "2023-07-20T19:03:26.795Z"
   },
   {
    "duration": 55,
    "start_time": "2023-07-20T19:03:32.459Z"
   },
   {
    "duration": 36,
    "start_time": "2023-07-20T19:03:41.087Z"
   },
   {
    "duration": 1894,
    "start_time": "2023-07-20T19:04:29.549Z"
   },
   {
    "duration": 738,
    "start_time": "2023-07-20T19:04:37.509Z"
   },
   {
    "duration": 434,
    "start_time": "2023-07-20T19:06:43.940Z"
   },
   {
    "duration": 9,
    "start_time": "2023-07-20T19:07:00.553Z"
   },
   {
    "duration": 36,
    "start_time": "2023-07-20T19:07:45.764Z"
   },
   {
    "duration": 265,
    "start_time": "2023-07-20T19:07:58.146Z"
   },
   {
    "duration": 3,
    "start_time": "2023-07-20T19:08:20.758Z"
   },
   {
    "duration": 909,
    "start_time": "2023-07-20T19:08:20.764Z"
   },
   {
    "duration": 27,
    "start_time": "2023-07-20T19:08:21.676Z"
   },
   {
    "duration": 221,
    "start_time": "2023-07-20T19:08:21.706Z"
   },
   {
    "duration": 117,
    "start_time": "2023-07-20T19:08:21.930Z"
   },
   {
    "duration": 43,
    "start_time": "2023-07-20T19:08:22.049Z"
   },
   {
    "duration": 23,
    "start_time": "2023-07-20T19:08:22.094Z"
   },
   {
    "duration": 60,
    "start_time": "2023-07-20T19:08:22.119Z"
   },
   {
    "duration": 274,
    "start_time": "2023-07-20T19:08:22.181Z"
   },
   {
    "duration": 260,
    "start_time": "2023-07-20T19:10:11.947Z"
   },
   {
    "duration": 203,
    "start_time": "2023-07-20T19:10:17.331Z"
   },
   {
    "duration": 214,
    "start_time": "2023-07-20T19:10:24.384Z"
   },
   {
    "duration": 9,
    "start_time": "2023-07-20T19:11:12.686Z"
   },
   {
    "duration": 531,
    "start_time": "2023-07-20T19:11:25.116Z"
   },
   {
    "duration": 2448,
    "start_time": "2023-07-20T19:11:28.899Z"
   },
   {
    "duration": 947,
    "start_time": "2023-07-20T19:11:39.780Z"
   },
   {
    "duration": 844,
    "start_time": "2023-07-20T19:12:01.479Z"
   },
   {
    "duration": 939,
    "start_time": "2023-07-20T19:12:07.141Z"
   },
   {
    "duration": 15402,
    "start_time": "2023-07-20T19:12:20.670Z"
   },
   {
    "duration": 478,
    "start_time": "2023-07-20T19:12:45.407Z"
   },
   {
    "duration": 1137,
    "start_time": "2023-07-20T19:12:49.583Z"
   },
   {
    "duration": 1054,
    "start_time": "2023-07-20T19:12:53.165Z"
   },
   {
    "duration": 1062,
    "start_time": "2023-07-20T19:13:16.190Z"
   },
   {
    "duration": 1788,
    "start_time": "2023-07-20T19:14:20.177Z"
   },
   {
    "duration": 18,
    "start_time": "2023-07-20T19:14:23.305Z"
   },
   {
    "duration": 999,
    "start_time": "2023-07-20T19:14:41.174Z"
   },
   {
    "duration": 23,
    "start_time": "2023-07-20T19:14:51.866Z"
   },
   {
    "duration": 3,
    "start_time": "2023-07-20T19:15:16.631Z"
   },
   {
    "duration": 899,
    "start_time": "2023-07-20T19:15:16.636Z"
   },
   {
    "duration": 41,
    "start_time": "2023-07-20T19:15:17.537Z"
   },
   {
    "duration": 132,
    "start_time": "2023-07-20T19:15:17.581Z"
   },
   {
    "duration": 118,
    "start_time": "2023-07-20T19:15:17.715Z"
   },
   {
    "duration": 63,
    "start_time": "2023-07-20T19:15:17.835Z"
   },
   {
    "duration": 22,
    "start_time": "2023-07-20T19:15:17.900Z"
   },
   {
    "duration": 980,
    "start_time": "2023-07-20T19:15:17.924Z"
   },
   {
    "duration": 1613,
    "start_time": "2023-07-20T19:15:18.906Z"
   },
   {
    "duration": 20,
    "start_time": "2023-07-20T19:15:20.521Z"
   },
   {
    "duration": 1004,
    "start_time": "2023-07-20T19:16:10.228Z"
   },
   {
    "duration": 19,
    "start_time": "2023-07-20T19:16:19.267Z"
   },
   {
    "duration": 1060,
    "start_time": "2023-07-20T19:16:57.535Z"
   },
   {
    "duration": 19,
    "start_time": "2023-07-20T19:17:01.866Z"
   },
   {
    "duration": 1007,
    "start_time": "2023-07-20T19:17:07.988Z"
   },
   {
    "duration": 20,
    "start_time": "2023-07-20T19:17:11.080Z"
   },
   {
    "duration": 926,
    "start_time": "2023-07-20T19:17:35.210Z"
   },
   {
    "duration": 18,
    "start_time": "2023-07-20T19:17:38.373Z"
   },
   {
    "duration": 70,
    "start_time": "2023-07-20T19:18:56.488Z"
   },
   {
    "duration": 1064,
    "start_time": "2023-07-20T19:19:16.495Z"
   },
   {
    "duration": 1043,
    "start_time": "2023-07-20T19:19:27.305Z"
   },
   {
    "duration": 376,
    "start_time": "2023-07-20T19:19:33.450Z"
   },
   {
    "duration": 362,
    "start_time": "2023-07-20T19:19:37.662Z"
   },
   {
    "duration": 388,
    "start_time": "2023-07-20T19:20:54.235Z"
   },
   {
    "duration": 414,
    "start_time": "2023-07-20T19:20:59.753Z"
   },
   {
    "duration": 425,
    "start_time": "2023-07-20T19:21:03.830Z"
   },
   {
    "duration": 72,
    "start_time": "2023-07-20T19:21:28.979Z"
   },
   {
    "duration": 347,
    "start_time": "2023-07-20T19:21:54.350Z"
   },
   {
    "duration": 453,
    "start_time": "2023-07-20T19:22:01.937Z"
   },
   {
    "duration": 2229,
    "start_time": "2023-07-20T19:22:35.374Z"
   },
   {
    "duration": 132,
    "start_time": "2023-07-20T19:23:15.130Z"
   },
   {
    "duration": 116,
    "start_time": "2023-07-20T19:23:53.556Z"
   },
   {
    "duration": 405,
    "start_time": "2023-07-20T19:23:57.244Z"
   },
   {
    "duration": 411,
    "start_time": "2023-07-20T19:24:03.006Z"
   },
   {
    "duration": 467,
    "start_time": "2023-07-20T19:24:05.928Z"
   },
   {
    "duration": 474,
    "start_time": "2023-07-20T19:24:10.662Z"
   },
   {
    "duration": 475,
    "start_time": "2023-07-20T19:24:15.308Z"
   },
   {
    "duration": 265,
    "start_time": "2023-07-20T19:24:54.497Z"
   },
   {
    "duration": 85,
    "start_time": "2023-07-20T19:25:00.218Z"
   },
   {
    "duration": 68,
    "start_time": "2023-07-20T19:25:09.072Z"
   },
   {
    "duration": 25,
    "start_time": "2023-07-20T19:25:18.796Z"
   },
   {
    "duration": 74,
    "start_time": "2023-07-20T19:25:22.545Z"
   },
   {
    "duration": 404,
    "start_time": "2023-07-20T19:25:57.790Z"
   },
   {
    "duration": 581,
    "start_time": "2023-07-20T19:26:03.419Z"
   },
   {
    "duration": 325,
    "start_time": "2023-07-20T19:26:08.044Z"
   },
   {
    "duration": 1957,
    "start_time": "2023-07-20T19:26:36.068Z"
   },
   {
    "duration": 72,
    "start_time": "2023-07-20T19:26:52.410Z"
   },
   {
    "duration": 67,
    "start_time": "2023-07-20T19:29:31.858Z"
   },
   {
    "duration": 290,
    "start_time": "2023-07-20T19:30:05.411Z"
   },
   {
    "duration": 345,
    "start_time": "2023-07-20T19:30:19.233Z"
   },
   {
    "duration": 449,
    "start_time": "2023-07-20T19:30:24.899Z"
   },
   {
    "duration": 9,
    "start_time": "2023-07-20T19:31:03.910Z"
   },
   {
    "duration": 1837,
    "start_time": "2023-07-20T19:31:14.789Z"
   },
   {
    "duration": 4,
    "start_time": "2023-07-20T19:31:19.505Z"
   },
   {
    "duration": 823,
    "start_time": "2023-07-20T19:31:19.510Z"
   },
   {
    "duration": 34,
    "start_time": "2023-07-20T19:31:20.334Z"
   },
   {
    "duration": 127,
    "start_time": "2023-07-20T19:31:20.370Z"
   },
   {
    "duration": 114,
    "start_time": "2023-07-20T19:31:20.499Z"
   },
   {
    "duration": 55,
    "start_time": "2023-07-20T19:31:20.615Z"
   },
   {
    "duration": 25,
    "start_time": "2023-07-20T19:31:20.672Z"
   },
   {
    "duration": 949,
    "start_time": "2023-07-20T19:31:20.698Z"
   },
   {
    "duration": 1038,
    "start_time": "2023-07-20T19:31:21.650Z"
   },
   {
    "duration": 304,
    "start_time": "2023-07-20T19:31:22.690Z"
   },
   {
    "duration": 343,
    "start_time": "2023-07-20T19:31:22.996Z"
   },
   {
    "duration": 75,
    "start_time": "2023-07-20T19:31:23.340Z"
   },
   {
    "duration": 72,
    "start_time": "2023-07-20T19:31:23.417Z"
   },
   {
    "duration": 423,
    "start_time": "2023-07-20T19:31:23.491Z"
   },
   {
    "duration": 16,
    "start_time": "2023-07-20T19:31:23.916Z"
   },
   {
    "duration": 462,
    "start_time": "2023-07-20T19:31:53.916Z"
   },
   {
    "duration": 70,
    "start_time": "2023-07-20T19:32:10.336Z"
   },
   {
    "duration": 1306,
    "start_time": "2023-07-20T19:32:45.523Z"
   },
   {
    "duration": 444,
    "start_time": "2023-07-20T19:33:01.588Z"
   },
   {
    "duration": 437,
    "start_time": "2023-07-20T19:33:19.275Z"
   },
   {
    "duration": 412,
    "start_time": "2023-07-20T19:33:24.688Z"
   },
   {
    "duration": 314,
    "start_time": "2023-07-20T19:33:32.513Z"
   },
   {
    "duration": 949,
    "start_time": "2023-07-20T19:33:35.983Z"
   },
   {
    "duration": 7575,
    "start_time": "2023-07-20T19:33:41.100Z"
   },
   {
    "duration": 1506,
    "start_time": "2023-07-20T19:34:11.483Z"
   },
   {
    "duration": 413,
    "start_time": "2023-07-20T19:34:26.060Z"
   },
   {
    "duration": 1360,
    "start_time": "2023-07-20T19:35:00.356Z"
   },
   {
    "duration": 964,
    "start_time": "2023-07-20T19:35:01.718Z"
   },
   {
    "duration": 27,
    "start_time": "2023-07-20T19:35:02.684Z"
   },
   {
    "duration": 138,
    "start_time": "2023-07-20T19:35:02.713Z"
   },
   {
    "duration": 217,
    "start_time": "2023-07-20T19:35:02.853Z"
   },
   {
    "duration": 53,
    "start_time": "2023-07-20T19:35:03.073Z"
   },
   {
    "duration": 60,
    "start_time": "2023-07-20T19:35:03.129Z"
   },
   {
    "duration": 1030,
    "start_time": "2023-07-20T19:35:03.192Z"
   },
   {
    "duration": 1064,
    "start_time": "2023-07-20T19:35:04.224Z"
   },
   {
    "duration": 299,
    "start_time": "2023-07-20T19:35:05.290Z"
   },
   {
    "duration": 334,
    "start_time": "2023-07-20T19:35:05.591Z"
   },
   {
    "duration": 81,
    "start_time": "2023-07-20T19:35:05.927Z"
   },
   {
    "duration": 82,
    "start_time": "2023-07-20T19:35:06.011Z"
   },
   {
    "duration": 438,
    "start_time": "2023-07-20T19:35:06.097Z"
   },
   {
    "duration": 76,
    "start_time": "2023-07-20T19:35:06.538Z"
   },
   {
    "duration": 308,
    "start_time": "2023-07-20T19:35:06.616Z"
   },
   {
    "duration": 588,
    "start_time": "2023-07-20T19:35:10.489Z"
   },
   {
    "duration": 548,
    "start_time": "2023-07-20T19:35:14.782Z"
   },
   {
    "duration": 909,
    "start_time": "2023-07-20T19:35:18.954Z"
   },
   {
    "duration": 2433,
    "start_time": "2023-07-20T19:35:24.212Z"
   },
   {
    "duration": 3903,
    "start_time": "2023-07-20T19:35:31.660Z"
   },
   {
    "duration": 46,
    "start_time": "2023-07-20T19:36:17.593Z"
   },
   {
    "duration": 4490,
    "start_time": "2023-07-20T19:36:39.719Z"
   },
   {
    "duration": 416,
    "start_time": "2023-07-20T19:36:55.474Z"
   },
   {
    "duration": 610,
    "start_time": "2023-07-20T19:37:02.245Z"
   },
   {
    "duration": 695,
    "start_time": "2023-07-20T19:37:06.836Z"
   },
   {
    "duration": 74,
    "start_time": "2023-07-20T19:37:22.867Z"
   },
   {
    "duration": 18,
    "start_time": "2023-07-20T19:38:30.559Z"
   },
   {
    "duration": 71,
    "start_time": "2023-07-20T19:39:09.859Z"
   },
   {
    "duration": 118,
    "start_time": "2023-07-20T19:41:09.562Z"
   },
   {
    "duration": 18,
    "start_time": "2023-07-20T19:41:19.224Z"
   },
   {
    "duration": 20,
    "start_time": "2023-07-20T19:41:47.079Z"
   },
   {
    "duration": 182,
    "start_time": "2023-07-20T19:42:30.743Z"
   },
   {
    "duration": 156,
    "start_time": "2023-07-20T19:43:00.230Z"
   },
   {
    "duration": 139,
    "start_time": "2023-07-20T19:43:06.289Z"
   },
   {
    "duration": 68,
    "start_time": "2023-07-20T19:44:00.258Z"
   },
   {
    "duration": 1730,
    "start_time": "2023-07-20T19:45:21.250Z"
   },
   {
    "duration": 19,
    "start_time": "2023-07-20T19:45:32.408Z"
   },
   {
    "duration": 16,
    "start_time": "2023-07-20T19:45:39.610Z"
   },
   {
    "duration": 15,
    "start_time": "2023-07-20T19:46:04.518Z"
   },
   {
    "duration": 13,
    "start_time": "2023-07-20T19:46:16.013Z"
   },
   {
    "duration": 12,
    "start_time": "2023-07-20T19:46:26.252Z"
   },
   {
    "duration": 3,
    "start_time": "2023-07-20T19:46:38.704Z"
   },
   {
    "duration": 946,
    "start_time": "2023-07-20T19:46:38.709Z"
   },
   {
    "duration": 27,
    "start_time": "2023-07-20T19:46:39.657Z"
   },
   {
    "duration": 127,
    "start_time": "2023-07-20T19:46:39.686Z"
   },
   {
    "duration": 111,
    "start_time": "2023-07-20T19:46:39.815Z"
   },
   {
    "duration": 55,
    "start_time": "2023-07-20T19:46:39.928Z"
   },
   {
    "duration": 23,
    "start_time": "2023-07-20T19:46:39.985Z"
   },
   {
    "duration": 958,
    "start_time": "2023-07-20T19:46:40.010Z"
   },
   {
    "duration": 1451,
    "start_time": "2023-07-20T19:46:40.970Z"
   },
   {
    "duration": 306,
    "start_time": "2023-07-20T19:46:42.424Z"
   },
   {
    "duration": 341,
    "start_time": "2023-07-20T19:46:42.731Z"
   },
   {
    "duration": 71,
    "start_time": "2023-07-20T19:46:43.074Z"
   },
   {
    "duration": 86,
    "start_time": "2023-07-20T19:46:43.147Z"
   },
   {
    "duration": 466,
    "start_time": "2023-07-20T19:46:43.235Z"
   },
   {
    "duration": 75,
    "start_time": "2023-07-20T19:46:43.703Z"
   },
   {
    "duration": 3933,
    "start_time": "2023-07-20T19:46:43.779Z"
   },
   {
    "duration": 60,
    "start_time": "2023-07-20T19:46:47.714Z"
   },
   {
    "duration": 672,
    "start_time": "2023-07-20T19:46:47.776Z"
   },
   {
    "duration": 73,
    "start_time": "2023-07-20T19:46:48.450Z"
   },
   {
    "duration": 70,
    "start_time": "2023-07-20T19:46:48.525Z"
   },
   {
    "duration": 16,
    "start_time": "2023-07-20T19:46:48.598Z"
   },
   {
    "duration": 176,
    "start_time": "2023-07-20T19:46:48.616Z"
   },
   {
    "duration": 159,
    "start_time": "2023-07-20T19:46:48.793Z"
   },
   {
    "duration": 23,
    "start_time": "2023-07-20T19:46:48.954Z"
   },
   {
    "duration": 53,
    "start_time": "2023-07-20T19:46:48.979Z"
   },
   {
    "duration": 1809,
    "start_time": "2023-07-20T19:47:09.408Z"
   },
   {
    "duration": 13,
    "start_time": "2023-07-20T19:47:16.320Z"
   },
   {
    "duration": 11,
    "start_time": "2023-07-20T19:47:20.565Z"
   },
   {
    "duration": 11,
    "start_time": "2023-07-20T19:47:21.302Z"
   },
   {
    "duration": 12,
    "start_time": "2023-07-20T19:47:21.892Z"
   },
   {
    "duration": 61,
    "start_time": "2023-07-20T19:49:18.462Z"
   },
   {
    "duration": 58,
    "start_time": "2023-07-20T19:49:23.236Z"
   },
   {
    "duration": 3,
    "start_time": "2023-07-20T19:49:43.511Z"
   },
   {
    "duration": 856,
    "start_time": "2023-07-20T19:49:43.516Z"
   },
   {
    "duration": 23,
    "start_time": "2023-07-20T19:49:44.374Z"
   },
   {
    "duration": 128,
    "start_time": "2023-07-20T19:49:44.399Z"
   },
   {
    "duration": 109,
    "start_time": "2023-07-20T19:49:44.529Z"
   },
   {
    "duration": 58,
    "start_time": "2023-07-20T19:49:44.640Z"
   },
   {
    "duration": 21,
    "start_time": "2023-07-20T19:49:44.700Z"
   },
   {
    "duration": 945,
    "start_time": "2023-07-20T19:49:44.723Z"
   },
   {
    "duration": 990,
    "start_time": "2023-07-20T19:49:45.671Z"
   },
   {
    "duration": 316,
    "start_time": "2023-07-20T19:49:46.664Z"
   },
   {
    "duration": 339,
    "start_time": "2023-07-20T19:49:46.982Z"
   },
   {
    "duration": 86,
    "start_time": "2023-07-20T19:49:47.323Z"
   },
   {
    "duration": 75,
    "start_time": "2023-07-20T19:49:47.410Z"
   },
   {
    "duration": 480,
    "start_time": "2023-07-20T19:49:47.487Z"
   },
   {
    "duration": 75,
    "start_time": "2023-07-20T19:49:47.970Z"
   },
   {
    "duration": 3999,
    "start_time": "2023-07-20T19:49:48.047Z"
   },
   {
    "duration": 50,
    "start_time": "2023-07-20T19:49:52.048Z"
   },
   {
    "duration": 682,
    "start_time": "2023-07-20T19:49:52.099Z"
   },
   {
    "duration": 68,
    "start_time": "2023-07-20T19:49:52.783Z"
   },
   {
    "duration": 80,
    "start_time": "2023-07-20T19:49:52.853Z"
   },
   {
    "duration": 36,
    "start_time": "2023-07-20T19:49:52.935Z"
   },
   {
    "duration": 84,
    "start_time": "2023-07-20T19:49:52.973Z"
   },
   {
    "duration": 146,
    "start_time": "2023-07-20T19:49:53.059Z"
   },
   {
    "duration": 174,
    "start_time": "2023-07-20T19:49:53.208Z"
   },
   {
    "duration": 18,
    "start_time": "2023-07-20T19:49:53.384Z"
   },
   {
    "duration": 12,
    "start_time": "2023-07-20T19:54:29.835Z"
   },
   {
    "duration": 293,
    "start_time": "2023-07-20T19:55:29.690Z"
   },
   {
    "duration": 23,
    "start_time": "2023-07-20T19:55:37.593Z"
   },
   {
    "duration": 3,
    "start_time": "2023-07-20T19:55:51.667Z"
   },
   {
    "duration": 58,
    "start_time": "2023-07-20T19:55:56.649Z"
   },
   {
    "duration": 4,
    "start_time": "2023-07-20T19:56:12.544Z"
   },
   {
    "duration": 4,
    "start_time": "2023-07-20T19:56:51.948Z"
   },
   {
    "duration": 7626,
    "start_time": "2023-07-20T19:57:47.648Z"
   },
   {
    "duration": 2189,
    "start_time": "2023-07-20T19:58:31.918Z"
   },
   {
    "duration": 941,
    "start_time": "2023-07-20T19:58:34.110Z"
   },
   {
    "duration": 889,
    "start_time": "2023-07-20T19:58:35.053Z"
   },
   {
    "duration": 32,
    "start_time": "2023-07-20T19:58:35.944Z"
   },
   {
    "duration": 162,
    "start_time": "2023-07-20T19:58:35.978Z"
   },
   {
    "duration": 106,
    "start_time": "2023-07-20T19:58:36.142Z"
   },
   {
    "duration": 55,
    "start_time": "2023-07-20T19:58:36.250Z"
   },
   {
    "duration": 22,
    "start_time": "2023-07-20T19:58:36.306Z"
   },
   {
    "duration": 112,
    "start_time": "2023-07-20T19:58:36.330Z"
   },
   {
    "duration": 0,
    "start_time": "2023-07-20T19:58:36.444Z"
   },
   {
    "duration": 0,
    "start_time": "2023-07-20T19:58:36.445Z"
   },
   {
    "duration": 0,
    "start_time": "2023-07-20T19:58:36.447Z"
   },
   {
    "duration": 0,
    "start_time": "2023-07-20T19:58:36.449Z"
   },
   {
    "duration": 0,
    "start_time": "2023-07-20T19:58:36.450Z"
   },
   {
    "duration": 0,
    "start_time": "2023-07-20T19:58:36.466Z"
   },
   {
    "duration": 0,
    "start_time": "2023-07-20T19:58:36.468Z"
   },
   {
    "duration": 0,
    "start_time": "2023-07-20T19:58:36.469Z"
   },
   {
    "duration": 0,
    "start_time": "2023-07-20T19:58:36.470Z"
   },
   {
    "duration": 0,
    "start_time": "2023-07-20T19:58:36.473Z"
   },
   {
    "duration": 0,
    "start_time": "2023-07-20T19:58:36.475Z"
   },
   {
    "duration": 0,
    "start_time": "2023-07-20T19:58:36.476Z"
   },
   {
    "duration": 0,
    "start_time": "2023-07-20T19:58:36.478Z"
   },
   {
    "duration": 0,
    "start_time": "2023-07-20T19:58:36.480Z"
   },
   {
    "duration": 0,
    "start_time": "2023-07-20T19:58:36.481Z"
   },
   {
    "duration": 0,
    "start_time": "2023-07-20T19:58:36.483Z"
   },
   {
    "duration": 0,
    "start_time": "2023-07-20T19:58:36.484Z"
   },
   {
    "duration": 0,
    "start_time": "2023-07-20T19:58:36.486Z"
   },
   {
    "duration": 0,
    "start_time": "2023-07-20T19:58:36.487Z"
   },
   {
    "duration": 2244,
    "start_time": "2023-07-20T19:59:16.196Z"
   },
   {
    "duration": 318,
    "start_time": "2023-07-20T19:59:18.443Z"
   },
   {
    "duration": 914,
    "start_time": "2023-07-20T19:59:18.763Z"
   },
   {
    "duration": 26,
    "start_time": "2023-07-20T19:59:19.680Z"
   },
   {
    "duration": 131,
    "start_time": "2023-07-20T19:59:19.709Z"
   },
   {
    "duration": 115,
    "start_time": "2023-07-20T19:59:19.842Z"
   },
   {
    "duration": 53,
    "start_time": "2023-07-20T19:59:19.967Z"
   },
   {
    "duration": 23,
    "start_time": "2023-07-20T19:59:20.022Z"
   },
   {
    "duration": 175,
    "start_time": "2023-07-20T19:59:20.047Z"
   },
   {
    "duration": 0,
    "start_time": "2023-07-20T19:59:20.225Z"
   },
   {
    "duration": 0,
    "start_time": "2023-07-20T19:59:20.226Z"
   },
   {
    "duration": 0,
    "start_time": "2023-07-20T19:59:20.227Z"
   },
   {
    "duration": 0,
    "start_time": "2023-07-20T19:59:20.228Z"
   },
   {
    "duration": 0,
    "start_time": "2023-07-20T19:59:20.229Z"
   },
   {
    "duration": 0,
    "start_time": "2023-07-20T19:59:20.231Z"
   },
   {
    "duration": 0,
    "start_time": "2023-07-20T19:59:20.232Z"
   },
   {
    "duration": 0,
    "start_time": "2023-07-20T19:59:20.233Z"
   },
   {
    "duration": 0,
    "start_time": "2023-07-20T19:59:20.234Z"
   },
   {
    "duration": 0,
    "start_time": "2023-07-20T19:59:20.235Z"
   },
   {
    "duration": 0,
    "start_time": "2023-07-20T19:59:20.237Z"
   },
   {
    "duration": 0,
    "start_time": "2023-07-20T19:59:20.238Z"
   },
   {
    "duration": 0,
    "start_time": "2023-07-20T19:59:20.239Z"
   },
   {
    "duration": 0,
    "start_time": "2023-07-20T19:59:20.267Z"
   },
   {
    "duration": 0,
    "start_time": "2023-07-20T19:59:20.268Z"
   },
   {
    "duration": 0,
    "start_time": "2023-07-20T19:59:20.270Z"
   },
   {
    "duration": 0,
    "start_time": "2023-07-20T19:59:20.271Z"
   },
   {
    "duration": 0,
    "start_time": "2023-07-20T19:59:20.272Z"
   },
   {
    "duration": 0,
    "start_time": "2023-07-20T19:59:20.273Z"
   },
   {
    "duration": 2347,
    "start_time": "2023-07-20T19:59:42.745Z"
   },
   {
    "duration": 70,
    "start_time": "2023-07-20T19:59:45.095Z"
   },
   {
    "duration": 947,
    "start_time": "2023-07-20T19:59:45.168Z"
   },
   {
    "duration": 26,
    "start_time": "2023-07-20T19:59:46.117Z"
   },
   {
    "duration": 137,
    "start_time": "2023-07-20T19:59:46.146Z"
   },
   {
    "duration": 125,
    "start_time": "2023-07-20T19:59:46.285Z"
   },
   {
    "duration": 61,
    "start_time": "2023-07-20T19:59:46.412Z"
   },
   {
    "duration": 25,
    "start_time": "2023-07-20T19:59:46.474Z"
   },
   {
    "duration": 1055,
    "start_time": "2023-07-20T19:59:46.502Z"
   },
   {
    "duration": 988,
    "start_time": "2023-07-20T19:59:47.559Z"
   },
   {
    "duration": 340,
    "start_time": "2023-07-20T19:59:48.550Z"
   },
   {
    "duration": 327,
    "start_time": "2023-07-20T19:59:48.892Z"
   },
   {
    "duration": 86,
    "start_time": "2023-07-20T19:59:49.222Z"
   },
   {
    "duration": 77,
    "start_time": "2023-07-20T19:59:49.312Z"
   },
   {
    "duration": 582,
    "start_time": "2023-07-20T19:59:49.391Z"
   },
   {
    "duration": 70,
    "start_time": "2023-07-20T19:59:49.975Z"
   },
   {
    "duration": 3911,
    "start_time": "2023-07-20T19:59:50.047Z"
   },
   {
    "duration": 50,
    "start_time": "2023-07-20T19:59:53.960Z"
   },
   {
    "duration": 710,
    "start_time": "2023-07-20T19:59:54.013Z"
   },
   {
    "duration": 77,
    "start_time": "2023-07-20T19:59:54.725Z"
   },
   {
    "duration": 76,
    "start_time": "2023-07-20T19:59:54.804Z"
   },
   {
    "duration": 19,
    "start_time": "2023-07-20T19:59:54.882Z"
   },
   {
    "duration": 87,
    "start_time": "2023-07-20T19:59:54.903Z"
   },
   {
    "duration": 158,
    "start_time": "2023-07-20T19:59:54.991Z"
   },
   {
    "duration": 167,
    "start_time": "2023-07-20T19:59:55.152Z"
   },
   {
    "duration": 15,
    "start_time": "2023-07-20T19:59:55.322Z"
   },
   {
    "duration": 78,
    "start_time": "2023-07-20T19:59:55.339Z"
   },
   {
    "duration": 4,
    "start_time": "2023-07-20T19:59:55.420Z"
   },
   {
    "duration": 36,
    "start_time": "2023-07-20T20:03:43.917Z"
   },
   {
    "duration": 14,
    "start_time": "2023-07-20T20:03:50.718Z"
   },
   {
    "duration": 15,
    "start_time": "2023-07-20T20:05:31.849Z"
   },
   {
    "duration": 9,
    "start_time": "2023-07-20T20:05:50.744Z"
   },
   {
    "duration": 48,
    "start_time": "2023-07-20T20:22:23.363Z"
   },
   {
    "duration": 211,
    "start_time": "2023-07-20T20:23:30.871Z"
   },
   {
    "duration": 83,
    "start_time": "2023-07-20T20:24:29.977Z"
   },
   {
    "duration": 63,
    "start_time": "2023-07-20T20:24:33.148Z"
   },
   {
    "duration": 187,
    "start_time": "2023-07-20T20:24:38.370Z"
   },
   {
    "duration": 2160,
    "start_time": "2023-07-20T20:24:53.621Z"
   },
   {
    "duration": 6,
    "start_time": "2023-07-20T20:24:55.784Z"
   },
   {
    "duration": 848,
    "start_time": "2023-07-20T20:24:55.792Z"
   },
   {
    "duration": 30,
    "start_time": "2023-07-20T20:24:56.642Z"
   },
   {
    "duration": 121,
    "start_time": "2023-07-20T20:24:56.674Z"
   },
   {
    "duration": 114,
    "start_time": "2023-07-20T20:24:56.797Z"
   },
   {
    "duration": 57,
    "start_time": "2023-07-20T20:24:56.913Z"
   },
   {
    "duration": 22,
    "start_time": "2023-07-20T20:24:56.972Z"
   },
   {
    "duration": 1225,
    "start_time": "2023-07-20T20:24:56.996Z"
   },
   {
    "duration": 981,
    "start_time": "2023-07-20T20:24:58.222Z"
   },
   {
    "duration": 307,
    "start_time": "2023-07-20T20:24:59.204Z"
   },
   {
    "duration": 339,
    "start_time": "2023-07-20T20:24:59.514Z"
   },
   {
    "duration": 82,
    "start_time": "2023-07-20T20:24:59.855Z"
   },
   {
    "duration": 72,
    "start_time": "2023-07-20T20:24:59.940Z"
   },
   {
    "duration": 775,
    "start_time": "2023-07-20T20:25:00.014Z"
   },
   {
    "duration": 81,
    "start_time": "2023-07-20T20:25:00.791Z"
   },
   {
    "duration": 3828,
    "start_time": "2023-07-20T20:25:00.874Z"
   },
   {
    "duration": 45,
    "start_time": "2023-07-20T20:25:04.705Z"
   },
   {
    "duration": 705,
    "start_time": "2023-07-20T20:25:04.752Z"
   },
   {
    "duration": 71,
    "start_time": "2023-07-20T20:25:05.460Z"
   },
   {
    "duration": 72,
    "start_time": "2023-07-20T20:25:05.533Z"
   },
   {
    "duration": 110,
    "start_time": "2023-07-20T20:25:05.607Z"
   },
   {
    "duration": 60,
    "start_time": "2023-07-20T20:25:05.719Z"
   },
   {
    "duration": 146,
    "start_time": "2023-07-20T20:25:05.781Z"
   },
   {
    "duration": 141,
    "start_time": "2023-07-20T20:25:05.929Z"
   },
   {
    "duration": 16,
    "start_time": "2023-07-20T20:25:06.072Z"
   },
   {
    "duration": 58,
    "start_time": "2023-07-20T20:25:06.090Z"
   },
   {
    "duration": 18,
    "start_time": "2023-07-20T20:25:06.150Z"
   },
   {
    "duration": 231,
    "start_time": "2023-07-20T20:25:06.170Z"
   },
   {
    "duration": 52,
    "start_time": "2023-07-20T20:25:21.654Z"
   },
   {
    "duration": 110,
    "start_time": "2023-07-20T20:26:26.080Z"
   },
   {
    "duration": 130,
    "start_time": "2023-07-20T20:26:37.947Z"
   },
   {
    "duration": 6,
    "start_time": "2023-07-20T20:26:57.327Z"
   },
   {
    "duration": 135,
    "start_time": "2023-07-20T20:27:01.019Z"
   },
   {
    "duration": 122,
    "start_time": "2023-07-20T20:27:24.405Z"
   },
   {
    "duration": 37142,
    "start_time": "2023-07-20T20:27:30.381Z"
   },
   {
    "duration": 716,
    "start_time": "2023-07-20T20:36:03.720Z"
   },
   {
    "duration": 176,
    "start_time": "2023-07-20T20:39:28.275Z"
   },
   {
    "duration": 180,
    "start_time": "2023-07-20T20:39:44.707Z"
   },
   {
    "duration": 1949,
    "start_time": "2023-07-20T20:42:47.382Z"
   },
   {
    "duration": 12,
    "start_time": "2023-07-20T20:48:44.841Z"
   },
   {
    "duration": 16,
    "start_time": "2023-07-20T20:48:54.198Z"
   },
   {
    "duration": 308,
    "start_time": "2023-07-20T20:49:04.376Z"
   },
   {
    "duration": 15,
    "start_time": "2023-07-20T20:49:21.737Z"
   },
   {
    "duration": 14,
    "start_time": "2023-07-20T20:49:26.714Z"
   },
   {
    "duration": 7,
    "start_time": "2023-07-20T20:49:35.150Z"
   },
   {
    "duration": 8,
    "start_time": "2023-07-20T20:49:43.222Z"
   },
   {
    "duration": 2283,
    "start_time": "2023-07-20T20:49:49.270Z"
   },
   {
    "duration": 6,
    "start_time": "2023-07-20T20:49:51.557Z"
   },
   {
    "duration": 886,
    "start_time": "2023-07-20T20:49:51.565Z"
   },
   {
    "duration": 28,
    "start_time": "2023-07-20T20:49:52.453Z"
   },
   {
    "duration": 146,
    "start_time": "2023-07-20T20:49:52.484Z"
   },
   {
    "duration": 132,
    "start_time": "2023-07-20T20:49:52.633Z"
   },
   {
    "duration": 48,
    "start_time": "2023-07-20T20:49:52.768Z"
   },
   {
    "duration": 23,
    "start_time": "2023-07-20T20:49:52.819Z"
   },
   {
    "duration": 1543,
    "start_time": "2023-07-20T20:49:52.844Z"
   },
   {
    "duration": 984,
    "start_time": "2023-07-20T20:49:54.389Z"
   },
   {
    "duration": 326,
    "start_time": "2023-07-20T20:49:55.375Z"
   },
   {
    "duration": 355,
    "start_time": "2023-07-20T20:49:55.704Z"
   },
   {
    "duration": 78,
    "start_time": "2023-07-20T20:49:56.062Z"
   },
   {
    "duration": 463,
    "start_time": "2023-07-20T20:49:56.144Z"
   },
   {
    "duration": 463,
    "start_time": "2023-07-20T20:49:56.609Z"
   },
   {
    "duration": 67,
    "start_time": "2023-07-20T20:49:57.074Z"
   },
   {
    "duration": 4094,
    "start_time": "2023-07-20T20:49:57.143Z"
   },
   {
    "duration": 53,
    "start_time": "2023-07-20T20:50:01.239Z"
   },
   {
    "duration": 799,
    "start_time": "2023-07-20T20:50:01.294Z"
   },
   {
    "duration": 85,
    "start_time": "2023-07-20T20:50:02.096Z"
   },
   {
    "duration": 67,
    "start_time": "2023-07-20T20:50:02.183Z"
   },
   {
    "duration": 162,
    "start_time": "2023-07-20T20:50:02.252Z"
   },
   {
    "duration": 77,
    "start_time": "2023-07-20T20:50:02.417Z"
   },
   {
    "duration": 158,
    "start_time": "2023-07-20T20:50:02.497Z"
   },
   {
    "duration": 152,
    "start_time": "2023-07-20T20:50:02.657Z"
   },
   {
    "duration": 78,
    "start_time": "2023-07-20T20:50:02.812Z"
   },
   {
    "duration": 15,
    "start_time": "2023-07-20T20:50:02.892Z"
   },
   {
    "duration": 13,
    "start_time": "2023-07-20T20:50:15.879Z"
   },
   {
    "duration": 15,
    "start_time": "2023-07-20T20:50:55.020Z"
   },
   {
    "duration": 14,
    "start_time": "2023-07-20T20:50:59.828Z"
   },
   {
    "duration": 8,
    "start_time": "2023-07-20T20:51:08.218Z"
   },
   {
    "duration": 2269,
    "start_time": "2023-07-20T20:52:44.686Z"
   },
   {
    "duration": 10,
    "start_time": "2023-07-20T20:52:46.959Z"
   },
   {
    "duration": 869,
    "start_time": "2023-07-20T20:52:46.972Z"
   },
   {
    "duration": 28,
    "start_time": "2023-07-20T20:52:47.844Z"
   },
   {
    "duration": 131,
    "start_time": "2023-07-20T20:52:47.874Z"
   },
   {
    "duration": 102,
    "start_time": "2023-07-20T20:52:48.007Z"
   },
   {
    "duration": 58,
    "start_time": "2023-07-20T20:52:48.111Z"
   },
   {
    "duration": 21,
    "start_time": "2023-07-20T20:52:48.171Z"
   },
   {
    "duration": 954,
    "start_time": "2023-07-20T20:52:48.194Z"
   },
   {
    "duration": 1638,
    "start_time": "2023-07-20T20:52:49.151Z"
   },
   {
    "duration": 1896,
    "start_time": "2023-07-20T20:52:50.791Z"
   },
   {
    "duration": 0,
    "start_time": "2023-07-20T20:52:52.688Z"
   },
   {
    "duration": 0,
    "start_time": "2023-07-20T20:52:52.690Z"
   },
   {
    "duration": 0,
    "start_time": "2023-07-20T20:52:52.691Z"
   },
   {
    "duration": 0,
    "start_time": "2023-07-20T20:52:52.692Z"
   },
   {
    "duration": 0,
    "start_time": "2023-07-20T20:52:52.693Z"
   },
   {
    "duration": 0,
    "start_time": "2023-07-20T20:52:52.694Z"
   },
   {
    "duration": 0,
    "start_time": "2023-07-20T20:52:52.695Z"
   },
   {
    "duration": 0,
    "start_time": "2023-07-20T20:52:52.695Z"
   },
   {
    "duration": 0,
    "start_time": "2023-07-20T20:52:52.697Z"
   },
   {
    "duration": 0,
    "start_time": "2023-07-20T20:52:52.698Z"
   },
   {
    "duration": 0,
    "start_time": "2023-07-20T20:52:52.699Z"
   },
   {
    "duration": 0,
    "start_time": "2023-07-20T20:52:52.700Z"
   },
   {
    "duration": 0,
    "start_time": "2023-07-20T20:52:52.701Z"
   },
   {
    "duration": 0,
    "start_time": "2023-07-20T20:52:52.702Z"
   },
   {
    "duration": 0,
    "start_time": "2023-07-20T20:52:52.703Z"
   },
   {
    "duration": 0,
    "start_time": "2023-07-20T20:52:52.704Z"
   },
   {
    "duration": 0,
    "start_time": "2023-07-20T20:52:52.705Z"
   },
   {
    "duration": 2294,
    "start_time": "2023-07-20T20:52:59.859Z"
   },
   {
    "duration": 6,
    "start_time": "2023-07-20T20:53:02.156Z"
   },
   {
    "duration": 892,
    "start_time": "2023-07-20T20:53:02.163Z"
   },
   {
    "duration": 29,
    "start_time": "2023-07-20T20:53:03.057Z"
   },
   {
    "duration": 147,
    "start_time": "2023-07-20T20:53:03.088Z"
   },
   {
    "duration": 101,
    "start_time": "2023-07-20T20:53:03.237Z"
   },
   {
    "duration": 60,
    "start_time": "2023-07-20T20:53:03.339Z"
   },
   {
    "duration": 23,
    "start_time": "2023-07-20T20:53:03.401Z"
   },
   {
    "duration": 1011,
    "start_time": "2023-07-20T20:53:03.426Z"
   },
   {
    "duration": 972,
    "start_time": "2023-07-20T20:53:04.440Z"
   },
   {
    "duration": 338,
    "start_time": "2023-07-20T20:53:05.414Z"
   },
   {
    "duration": 71,
    "start_time": "2023-07-20T20:53:05.754Z"
   },
   {
    "duration": 66,
    "start_time": "2023-07-20T20:53:05.826Z"
   },
   {
    "duration": 453,
    "start_time": "2023-07-20T20:53:05.893Z"
   },
   {
    "duration": 64,
    "start_time": "2023-07-20T20:53:06.348Z"
   },
   {
    "duration": 4177,
    "start_time": "2023-07-20T20:53:06.413Z"
   },
   {
    "duration": 49,
    "start_time": "2023-07-20T20:53:10.592Z"
   },
   {
    "duration": 730,
    "start_time": "2023-07-20T20:53:10.643Z"
   },
   {
    "duration": 59,
    "start_time": "2023-07-20T20:53:11.375Z"
   },
   {
    "duration": 77,
    "start_time": "2023-07-20T20:53:11.436Z"
   },
   {
    "duration": 122,
    "start_time": "2023-07-20T20:53:11.515Z"
   },
   {
    "duration": 12,
    "start_time": "2023-07-20T20:53:11.639Z"
   },
   {
    "duration": 0,
    "start_time": "2023-07-20T20:53:11.653Z"
   },
   {
    "duration": 0,
    "start_time": "2023-07-20T20:53:11.655Z"
   },
   {
    "duration": 0,
    "start_time": "2023-07-20T20:53:11.666Z"
   },
   {
    "duration": 0,
    "start_time": "2023-07-20T20:53:11.668Z"
   },
   {
    "duration": 1,
    "start_time": "2023-07-20T20:53:11.669Z"
   },
   {
    "duration": 11,
    "start_time": "2023-07-20T20:53:22.846Z"
   },
   {
    "duration": 2181,
    "start_time": "2023-07-20T20:53:38.994Z"
   },
   {
    "duration": 7,
    "start_time": "2023-07-20T20:53:41.178Z"
   },
   {
    "duration": 888,
    "start_time": "2023-07-20T20:53:41.186Z"
   },
   {
    "duration": 25,
    "start_time": "2023-07-20T20:53:42.076Z"
   },
   {
    "duration": 133,
    "start_time": "2023-07-20T20:53:42.102Z"
   },
   {
    "duration": 121,
    "start_time": "2023-07-20T20:53:42.237Z"
   },
   {
    "duration": 55,
    "start_time": "2023-07-20T20:53:42.360Z"
   },
   {
    "duration": 22,
    "start_time": "2023-07-20T20:53:42.417Z"
   },
   {
    "duration": 956,
    "start_time": "2023-07-20T20:53:42.441Z"
   },
   {
    "duration": 993,
    "start_time": "2023-07-20T20:53:43.399Z"
   },
   {
    "duration": 346,
    "start_time": "2023-07-20T20:53:44.394Z"
   },
   {
    "duration": 74,
    "start_time": "2023-07-20T20:53:44.742Z"
   },
   {
    "duration": 74,
    "start_time": "2023-07-20T20:53:44.817Z"
   },
   {
    "duration": 451,
    "start_time": "2023-07-20T20:53:44.893Z"
   },
   {
    "duration": 66,
    "start_time": "2023-07-20T20:53:45.346Z"
   },
   {
    "duration": 2,
    "start_time": "2023-07-20T20:53:45.414Z"
   },
   {
    "duration": 66,
    "start_time": "2023-07-20T20:53:45.418Z"
   },
   {
    "duration": 672,
    "start_time": "2023-07-20T20:53:45.486Z"
   },
   {
    "duration": 62,
    "start_time": "2023-07-20T20:53:46.160Z"
   },
   {
    "duration": 81,
    "start_time": "2023-07-20T20:53:46.224Z"
   },
   {
    "duration": 115,
    "start_time": "2023-07-20T20:53:46.306Z"
   },
   {
    "duration": 62,
    "start_time": "2023-07-20T20:53:46.423Z"
   },
   {
    "duration": 140,
    "start_time": "2023-07-20T20:53:46.487Z"
   },
   {
    "duration": 150,
    "start_time": "2023-07-20T20:53:46.629Z"
   },
   {
    "duration": 73,
    "start_time": "2023-07-20T20:53:46.781Z"
   },
   {
    "duration": 22,
    "start_time": "2023-07-20T20:53:46.857Z"
   },
   {
    "duration": 8,
    "start_time": "2023-07-20T20:53:46.881Z"
   },
   {
    "duration": 1856,
    "start_time": "2023-07-20T20:54:03.547Z"
   },
   {
    "duration": 20,
    "start_time": "2023-07-20T20:54:09.424Z"
   },
   {
    "duration": 8,
    "start_time": "2023-07-20T20:54:40.789Z"
   },
   {
    "duration": 52849,
    "start_time": "2023-07-20T20:54:51.776Z"
   },
   {
    "duration": 2077,
    "start_time": "2023-07-20T20:56:08.326Z"
   },
   {
    "duration": 1430,
    "start_time": "2023-07-20T20:56:10.406Z"
   },
   {
    "duration": 890,
    "start_time": "2023-07-20T20:56:11.838Z"
   },
   {
    "duration": 28,
    "start_time": "2023-07-20T20:56:12.730Z"
   },
   {
    "duration": 135,
    "start_time": "2023-07-20T20:56:12.768Z"
   },
   {
    "duration": 120,
    "start_time": "2023-07-20T20:56:12.905Z"
   },
   {
    "duration": 61,
    "start_time": "2023-07-20T20:56:13.027Z"
   },
   {
    "duration": 26,
    "start_time": "2023-07-20T20:56:13.090Z"
   },
   {
    "duration": 1151,
    "start_time": "2023-07-20T20:56:13.118Z"
   },
   {
    "duration": 976,
    "start_time": "2023-07-20T20:56:14.271Z"
   },
   {
    "duration": 360,
    "start_time": "2023-07-20T20:56:15.249Z"
   },
   {
    "duration": 82,
    "start_time": "2023-07-20T20:56:15.611Z"
   },
   {
    "duration": 73,
    "start_time": "2023-07-20T20:56:15.695Z"
   },
   {
    "duration": 464,
    "start_time": "2023-07-20T20:56:15.771Z"
   },
   {
    "duration": 70,
    "start_time": "2023-07-20T20:56:16.237Z"
   },
   {
    "duration": 3,
    "start_time": "2023-07-20T20:56:16.309Z"
   },
   {
    "duration": 83,
    "start_time": "2023-07-20T20:56:16.313Z"
   },
   {
    "duration": 828,
    "start_time": "2023-07-20T20:56:16.398Z"
   },
   {
    "duration": 69,
    "start_time": "2023-07-20T20:56:17.228Z"
   },
   {
    "duration": 79,
    "start_time": "2023-07-20T20:56:17.298Z"
   },
   {
    "duration": 111,
    "start_time": "2023-07-20T20:56:17.378Z"
   },
   {
    "duration": 76,
    "start_time": "2023-07-20T20:56:17.491Z"
   },
   {
    "duration": 136,
    "start_time": "2023-07-20T20:56:17.569Z"
   },
   {
    "duration": 143,
    "start_time": "2023-07-20T20:56:17.707Z"
   },
   {
    "duration": 67,
    "start_time": "2023-07-20T20:56:17.852Z"
   },
   {
    "duration": 13,
    "start_time": "2023-07-20T20:56:17.921Z"
   },
   {
    "duration": 15,
    "start_time": "2023-07-20T20:56:17.936Z"
   },
   {
    "duration": 32,
    "start_time": "2023-07-20T20:56:17.952Z"
   },
   {
    "duration": 9,
    "start_time": "2023-07-20T20:56:17.986Z"
   },
   {
    "duration": 65893,
    "start_time": "2023-07-20T20:56:17.997Z"
   },
   {
    "duration": 21367,
    "start_time": "2023-07-20T20:57:23.891Z"
   },
   {
    "duration": 5,
    "start_time": "2023-07-20T20:58:13.416Z"
   },
   {
    "duration": 5,
    "start_time": "2023-07-20T20:58:27.553Z"
   },
   {
    "duration": 255070,
    "start_time": "2023-07-20T20:59:36.498Z"
   },
   {
    "duration": 9,
    "start_time": "2023-07-20T21:04:27.355Z"
   },
   {
    "duration": 12474,
    "start_time": "2023-07-20T21:04:28.929Z"
   },
   {
    "duration": 470352,
    "start_time": "2023-07-20T21:05:24.389Z"
   },
   {
    "duration": 14,
    "start_time": "2023-07-20T21:18:10.793Z"
   },
   {
    "duration": 547,
    "start_time": "2023-07-20T21:19:16.393Z"
   },
   {
    "duration": 5,
    "start_time": "2023-07-20T21:20:32.907Z"
   },
   {
    "duration": 10,
    "start_time": "2023-07-20T21:23:56.231Z"
   },
   {
    "duration": 137,
    "start_time": "2023-07-20T21:26:05.458Z"
   },
   {
    "duration": 6,
    "start_time": "2023-07-20T21:26:40.215Z"
   },
   {
    "duration": 434276,
    "start_time": "2023-07-20T21:26:44.739Z"
   },
   {
    "duration": 138,
    "start_time": "2023-07-20T21:34:41.944Z"
   },
   {
    "duration": 1977,
    "start_time": "2023-07-20T21:35:02.720Z"
   },
   {
    "duration": 12,
    "start_time": "2023-07-20T21:37:49.520Z"
   },
   {
    "duration": 22,
    "start_time": "2023-07-20T21:38:02.099Z"
   },
   {
    "duration": 16,
    "start_time": "2023-07-20T21:39:07.087Z"
   },
   {
    "duration": 23,
    "start_time": "2023-07-20T21:39:13.582Z"
   },
   {
    "duration": 10,
    "start_time": "2023-07-20T21:39:23.561Z"
   },
   {
    "duration": 11,
    "start_time": "2023-07-20T21:39:32.390Z"
   },
   {
    "duration": 11,
    "start_time": "2023-07-20T21:41:13.625Z"
   },
   {
    "duration": 55,
    "start_time": "2023-07-20T21:41:28.969Z"
   },
   {
    "duration": 1957,
    "start_time": "2023-07-20T21:41:40.653Z"
   },
   {
    "duration": 150,
    "start_time": "2023-07-20T21:41:59.051Z"
   },
   {
    "duration": 36,
    "start_time": "2023-07-20T21:42:36.705Z"
   },
   {
    "duration": 20,
    "start_time": "2023-07-20T21:42:53.422Z"
   },
   {
    "duration": 15,
    "start_time": "2023-07-20T21:43:32.898Z"
   },
   {
    "duration": 11,
    "start_time": "2023-07-20T21:44:28.782Z"
   },
   {
    "duration": 19,
    "start_time": "2023-07-20T21:44:42.666Z"
   },
   {
    "duration": 35,
    "start_time": "2023-07-20T21:45:18.499Z"
   },
   {
    "duration": 28,
    "start_time": "2023-07-20T21:45:30.171Z"
   },
   {
    "duration": 26,
    "start_time": "2023-07-20T21:46:14.739Z"
   },
   {
    "duration": 31,
    "start_time": "2023-07-20T21:48:57.309Z"
   },
   {
    "duration": 59,
    "start_time": "2023-07-20T21:49:52.621Z"
   },
   {
    "duration": 126,
    "start_time": "2023-07-20T21:50:03.181Z"
   },
   {
    "duration": 31,
    "start_time": "2023-07-20T21:50:06.443Z"
   },
   {
    "duration": 33817,
    "start_time": "2023-07-20T21:50:10.660Z"
   },
   {
    "duration": 33978,
    "start_time": "2023-07-20T21:51:36.811Z"
   },
   {
    "duration": 137,
    "start_time": "2023-07-20T21:54:38.834Z"
   },
   {
    "duration": 126,
    "start_time": "2023-07-20T21:55:19.118Z"
   },
   {
    "duration": 6001,
    "start_time": "2023-07-20T21:55:46.104Z"
   },
   {
    "duration": 194,
    "start_time": "2023-07-20T21:56:59.436Z"
   },
   {
    "duration": 5978,
    "start_time": "2023-07-20T21:57:03.991Z"
   },
   {
    "duration": 11,
    "start_time": "2023-07-20T22:02:44.715Z"
   },
   {
    "duration": 51,
    "start_time": "2023-07-20T22:02:48.590Z"
   },
   {
    "duration": 14,
    "start_time": "2023-07-20T22:04:15.514Z"
   },
   {
    "duration": 40,
    "start_time": "2023-07-20T22:04:19.866Z"
   },
   {
    "duration": 1970,
    "start_time": "2023-07-20T22:04:30.549Z"
   },
   {
    "duration": 41,
    "start_time": "2023-07-20T22:05:00.184Z"
   },
   {
    "duration": 17,
    "start_time": "2023-07-20T22:05:22.684Z"
   },
   {
    "duration": 18,
    "start_time": "2023-07-20T22:05:31.090Z"
   },
   {
    "duration": 94,
    "start_time": "2023-07-20T22:05:44.357Z"
   },
   {
    "duration": 16,
    "start_time": "2023-07-20T22:05:59.010Z"
   },
   {
    "duration": 19,
    "start_time": "2023-07-20T22:06:03.485Z"
   },
   {
    "duration": 650,
    "start_time": "2023-07-20T22:07:24.057Z"
   },
   {
    "duration": 1006,
    "start_time": "2023-07-20T22:07:32.857Z"
   },
   {
    "duration": 122,
    "start_time": "2023-07-20T22:07:49.544Z"
   },
   {
    "duration": 6,
    "start_time": "2023-07-20T22:08:15.001Z"
   },
   {
    "duration": 43791,
    "start_time": "2023-07-20T22:08:21.952Z"
   },
   {
    "duration": 1350,
    "start_time": "2023-07-20T22:09:13.117Z"
   },
   {
    "duration": 916,
    "start_time": "2023-07-20T22:09:14.469Z"
   },
   {
    "duration": 27,
    "start_time": "2023-07-20T22:09:15.388Z"
   },
   {
    "duration": 130,
    "start_time": "2023-07-20T22:09:15.417Z"
   },
   {
    "duration": 108,
    "start_time": "2023-07-20T22:09:15.549Z"
   },
   {
    "duration": 52,
    "start_time": "2023-07-20T22:09:15.666Z"
   },
   {
    "duration": 34,
    "start_time": "2023-07-20T22:09:15.720Z"
   },
   {
    "duration": 1045,
    "start_time": "2023-07-20T22:09:15.756Z"
   },
   {
    "duration": 965,
    "start_time": "2023-07-20T22:09:16.803Z"
   },
   {
    "duration": 346,
    "start_time": "2023-07-20T22:09:17.772Z"
   },
   {
    "duration": 78,
    "start_time": "2023-07-20T22:09:18.121Z"
   },
   {
    "duration": 67,
    "start_time": "2023-07-20T22:09:18.201Z"
   },
   {
    "duration": 576,
    "start_time": "2023-07-20T22:09:18.269Z"
   },
   {
    "duration": 74,
    "start_time": "2023-07-20T22:09:18.847Z"
   },
   {
    "duration": 3,
    "start_time": "2023-07-20T22:09:18.923Z"
   },
   {
    "duration": 65,
    "start_time": "2023-07-20T22:09:18.928Z"
   },
   {
    "duration": 670,
    "start_time": "2023-07-20T22:09:18.996Z"
   },
   {
    "duration": 61,
    "start_time": "2023-07-20T22:09:19.669Z"
   },
   {
    "duration": 77,
    "start_time": "2023-07-20T22:09:19.732Z"
   },
   {
    "duration": 109,
    "start_time": "2023-07-20T22:09:19.811Z"
   },
   {
    "duration": 65,
    "start_time": "2023-07-20T22:09:19.922Z"
   },
   {
    "duration": 125,
    "start_time": "2023-07-20T22:09:19.989Z"
   },
   {
    "duration": 138,
    "start_time": "2023-07-20T22:09:20.115Z"
   },
   {
    "duration": 44,
    "start_time": "2023-07-20T22:09:20.255Z"
   },
   {
    "duration": 51,
    "start_time": "2023-07-20T22:09:20.301Z"
   },
   {
    "duration": 100,
    "start_time": "2023-07-20T22:09:20.353Z"
   },
   {
    "duration": 25,
    "start_time": "2023-07-20T22:09:20.455Z"
   },
   {
    "duration": 1033,
    "start_time": "2023-07-20T22:09:20.483Z"
   },
   {
    "duration": 6,
    "start_time": "2023-07-20T22:10:07.877Z"
   },
   {
    "duration": 816,
    "start_time": "2023-07-20T22:10:07.886Z"
   },
   {
    "duration": 24,
    "start_time": "2023-07-20T22:10:08.704Z"
   },
   {
    "duration": 124,
    "start_time": "2023-07-20T22:10:08.730Z"
   },
   {
    "duration": 104,
    "start_time": "2023-07-20T22:10:08.868Z"
   },
   {
    "duration": 46,
    "start_time": "2023-07-20T22:10:08.973Z"
   },
   {
    "duration": 23,
    "start_time": "2023-07-20T22:10:09.021Z"
   },
   {
    "duration": 997,
    "start_time": "2023-07-20T22:10:09.046Z"
   },
   {
    "duration": 1125,
    "start_time": "2023-07-20T22:10:10.045Z"
   },
   {
    "duration": 363,
    "start_time": "2023-07-20T22:10:11.172Z"
   },
   {
    "duration": 73,
    "start_time": "2023-07-20T22:10:11.537Z"
   },
   {
    "duration": 61,
    "start_time": "2023-07-20T22:10:11.612Z"
   },
   {
    "duration": 451,
    "start_time": "2023-07-20T22:10:11.674Z"
   },
   {
    "duration": 66,
    "start_time": "2023-07-20T22:10:12.129Z"
   },
   {
    "duration": 3,
    "start_time": "2023-07-20T22:10:12.197Z"
   },
   {
    "duration": 46,
    "start_time": "2023-07-20T22:10:12.202Z"
   },
   {
    "duration": 899,
    "start_time": "2023-07-20T22:10:12.251Z"
   },
   {
    "duration": 69,
    "start_time": "2023-07-20T22:10:13.152Z"
   },
   {
    "duration": 81,
    "start_time": "2023-07-20T22:10:13.224Z"
   },
   {
    "duration": 109,
    "start_time": "2023-07-20T22:10:13.306Z"
   },
   {
    "duration": 62,
    "start_time": "2023-07-20T22:10:13.417Z"
   },
   {
    "duration": 126,
    "start_time": "2023-07-20T22:10:13.480Z"
   },
   {
    "duration": 138,
    "start_time": "2023-07-20T22:10:13.608Z"
   },
   {
    "duration": 46,
    "start_time": "2023-07-20T22:10:13.747Z"
   },
   {
    "duration": 39,
    "start_time": "2023-07-20T22:10:13.795Z"
   },
   {
    "duration": 135,
    "start_time": "2023-07-20T22:10:13.836Z"
   },
   {
    "duration": 27,
    "start_time": "2023-07-20T22:10:13.974Z"
   },
   {
    "duration": 636,
    "start_time": "2023-07-20T22:10:14.004Z"
   },
   {
    "duration": 347,
    "start_time": "2023-07-20T22:10:14.642Z"
   },
   {
    "duration": 1340,
    "start_time": "2023-07-20T22:11:23.157Z"
   },
   {
    "duration": 863,
    "start_time": "2023-07-20T22:11:24.499Z"
   },
   {
    "duration": 28,
    "start_time": "2023-07-20T22:11:25.364Z"
   },
   {
    "duration": 131,
    "start_time": "2023-07-20T22:11:25.394Z"
   },
   {
    "duration": 113,
    "start_time": "2023-07-20T22:11:25.528Z"
   },
   {
    "duration": 60,
    "start_time": "2023-07-20T22:11:25.642Z"
   },
   {
    "duration": 21,
    "start_time": "2023-07-20T22:11:25.704Z"
   },
   {
    "duration": 270,
    "start_time": "2023-07-20T22:11:25.727Z"
   },
   {
    "duration": 0,
    "start_time": "2023-07-20T22:11:26.000Z"
   },
   {
    "duration": 0,
    "start_time": "2023-07-20T22:11:26.001Z"
   },
   {
    "duration": 0,
    "start_time": "2023-07-20T22:11:26.002Z"
   },
   {
    "duration": 0,
    "start_time": "2023-07-20T22:11:26.003Z"
   },
   {
    "duration": 0,
    "start_time": "2023-07-20T22:11:26.004Z"
   },
   {
    "duration": 0,
    "start_time": "2023-07-20T22:11:26.005Z"
   },
   {
    "duration": 0,
    "start_time": "2023-07-20T22:11:26.006Z"
   },
   {
    "duration": 0,
    "start_time": "2023-07-20T22:11:26.007Z"
   },
   {
    "duration": 0,
    "start_time": "2023-07-20T22:11:26.008Z"
   },
   {
    "duration": 0,
    "start_time": "2023-07-20T22:11:26.010Z"
   },
   {
    "duration": 0,
    "start_time": "2023-07-20T22:11:26.010Z"
   },
   {
    "duration": 0,
    "start_time": "2023-07-20T22:11:26.012Z"
   },
   {
    "duration": 0,
    "start_time": "2023-07-20T22:11:26.013Z"
   },
   {
    "duration": 0,
    "start_time": "2023-07-20T22:11:26.014Z"
   },
   {
    "duration": 0,
    "start_time": "2023-07-20T22:11:26.015Z"
   },
   {
    "duration": 0,
    "start_time": "2023-07-20T22:11:26.016Z"
   },
   {
    "duration": 0,
    "start_time": "2023-07-20T22:11:26.017Z"
   },
   {
    "duration": 0,
    "start_time": "2023-07-20T22:11:26.018Z"
   },
   {
    "duration": 0,
    "start_time": "2023-07-20T22:11:26.020Z"
   },
   {
    "duration": 0,
    "start_time": "2023-07-20T22:11:26.021Z"
   },
   {
    "duration": 0,
    "start_time": "2023-07-20T22:11:26.022Z"
   },
   {
    "duration": 0,
    "start_time": "2023-07-20T22:11:26.023Z"
   },
   {
    "duration": 25,
    "start_time": "2023-07-20T22:11:50.364Z"
   },
   {
    "duration": 1361,
    "start_time": "2023-07-20T22:11:55.176Z"
   },
   {
    "duration": 863,
    "start_time": "2023-07-20T22:11:56.539Z"
   },
   {
    "duration": 27,
    "start_time": "2023-07-20T22:11:57.404Z"
   },
   {
    "duration": 123,
    "start_time": "2023-07-20T22:11:57.433Z"
   },
   {
    "duration": 114,
    "start_time": "2023-07-20T22:11:57.558Z"
   },
   {
    "duration": 53,
    "start_time": "2023-07-20T22:11:57.674Z"
   },
   {
    "duration": 41,
    "start_time": "2023-07-20T22:11:57.729Z"
   },
   {
    "duration": 1057,
    "start_time": "2023-07-20T22:11:57.771Z"
   },
   {
    "duration": 945,
    "start_time": "2023-07-20T22:11:58.829Z"
   },
   {
    "duration": 367,
    "start_time": "2023-07-20T22:11:59.778Z"
   },
   {
    "duration": 84,
    "start_time": "2023-07-20T22:12:00.147Z"
   },
   {
    "duration": 77,
    "start_time": "2023-07-20T22:12:00.233Z"
   },
   {
    "duration": 595,
    "start_time": "2023-07-20T22:12:00.312Z"
   },
   {
    "duration": 66,
    "start_time": "2023-07-20T22:12:00.909Z"
   },
   {
    "duration": 10,
    "start_time": "2023-07-20T22:12:00.977Z"
   },
   {
    "duration": 101,
    "start_time": "2023-07-20T22:12:00.989Z"
   },
   {
    "duration": 701,
    "start_time": "2023-07-20T22:12:01.092Z"
   },
   {
    "duration": 62,
    "start_time": "2023-07-20T22:12:01.795Z"
   },
   {
    "duration": 147,
    "start_time": "2023-07-20T22:12:01.867Z"
   },
   {
    "duration": 114,
    "start_time": "2023-07-20T22:12:02.016Z"
   },
   {
    "duration": 68,
    "start_time": "2023-07-20T22:12:02.132Z"
   },
   {
    "duration": 152,
    "start_time": "2023-07-20T22:12:02.202Z"
   },
   {
    "duration": 137,
    "start_time": "2023-07-20T22:12:02.356Z"
   },
   {
    "duration": 39,
    "start_time": "2023-07-20T22:12:02.495Z"
   },
   {
    "duration": 53,
    "start_time": "2023-07-20T22:12:02.536Z"
   },
   {
    "duration": 102,
    "start_time": "2023-07-20T22:12:02.591Z"
   },
   {
    "duration": 20,
    "start_time": "2023-07-20T22:12:02.695Z"
   },
   {
    "duration": 671,
    "start_time": "2023-07-20T22:12:02.718Z"
   },
   {
    "duration": 352,
    "start_time": "2023-07-20T22:12:03.391Z"
   },
   {
    "duration": 71123,
    "start_time": "2023-07-20T22:12:03.744Z"
   },
   {
    "duration": 2005,
    "start_time": "2023-07-20T22:19:47.959Z"
   },
   {
    "duration": 2902,
    "start_time": "2023-07-20T22:19:49.966Z"
   },
   {
    "duration": 31,
    "start_time": "2023-07-20T22:19:52.870Z"
   },
   {
    "duration": 129,
    "start_time": "2023-07-20T22:19:52.903Z"
   },
   {
    "duration": 112,
    "start_time": "2023-07-20T22:19:53.034Z"
   },
   {
    "duration": 63,
    "start_time": "2023-07-20T22:19:53.147Z"
   },
   {
    "duration": 49,
    "start_time": "2023-07-20T22:19:53.212Z"
   },
   {
    "duration": 1073,
    "start_time": "2023-07-20T22:19:53.262Z"
   },
   {
    "duration": 986,
    "start_time": "2023-07-20T22:19:54.336Z"
   },
   {
    "duration": 345,
    "start_time": "2023-07-20T22:19:55.326Z"
   },
   {
    "duration": 70,
    "start_time": "2023-07-20T22:19:55.673Z"
   },
   {
    "duration": 72,
    "start_time": "2023-07-20T22:19:55.744Z"
   },
   {
    "duration": 585,
    "start_time": "2023-07-20T22:19:55.818Z"
   },
   {
    "duration": 70,
    "start_time": "2023-07-20T22:19:56.405Z"
   },
   {
    "duration": 3,
    "start_time": "2023-07-20T22:19:56.477Z"
   },
   {
    "duration": 79,
    "start_time": "2023-07-20T22:19:56.482Z"
   },
   {
    "duration": 688,
    "start_time": "2023-07-20T22:19:56.562Z"
   },
   {
    "duration": 61,
    "start_time": "2023-07-20T22:19:57.252Z"
   },
   {
    "duration": 72,
    "start_time": "2023-07-20T22:19:57.315Z"
   },
   {
    "duration": 106,
    "start_time": "2023-07-20T22:19:57.389Z"
   },
   {
    "duration": 70,
    "start_time": "2023-07-20T22:19:57.497Z"
   },
   {
    "duration": 122,
    "start_time": "2023-07-20T22:19:57.569Z"
   },
   {
    "duration": 144,
    "start_time": "2023-07-20T22:19:57.693Z"
   },
   {
    "duration": 48,
    "start_time": "2023-07-20T22:19:57.839Z"
   },
   {
    "duration": 39,
    "start_time": "2023-07-20T22:19:57.888Z"
   },
   {
    "duration": 117,
    "start_time": "2023-07-20T22:19:57.929Z"
   },
   {
    "duration": 26,
    "start_time": "2023-07-20T22:19:58.048Z"
   },
   {
    "duration": 715,
    "start_time": "2023-07-20T22:19:58.078Z"
   },
   {
    "duration": 231,
    "start_time": "2023-07-20T22:19:58.795Z"
   },
   {
    "duration": 124,
    "start_time": "2023-07-20T22:19:59.028Z"
   },
   {
    "duration": 352,
    "start_time": "2023-07-20T22:20:39.592Z"
   },
   {
    "duration": 46340,
    "start_time": "2023-07-20T22:20:48.179Z"
   },
   {
    "duration": 3996,
    "start_time": "2023-07-20T22:23:21.258Z"
   },
   {
    "duration": 69,
    "start_time": "2023-07-20T22:24:13.635Z"
   },
   {
    "duration": 86,
    "start_time": "2023-07-20T22:24:35.573Z"
   },
   {
    "duration": 4,
    "start_time": "2023-07-20T22:24:43.025Z"
   },
   {
    "duration": 6,
    "start_time": "2023-07-20T22:24:51.497Z"
   },
   {
    "duration": 24,
    "start_time": "2023-07-20T22:25:14.200Z"
   },
   {
    "duration": 18,
    "start_time": "2023-07-20T22:27:56.984Z"
   },
   {
    "duration": 124,
    "start_time": "2023-07-20T22:28:34.476Z"
   },
   {
    "duration": 206,
    "start_time": "2023-07-20T22:30:06.338Z"
   },
   {
    "duration": 63,
    "start_time": "2023-07-20T22:31:12.157Z"
   },
   {
    "duration": 5,
    "start_time": "2023-07-20T22:32:40.700Z"
   },
   {
    "duration": 907,
    "start_time": "2023-07-20T22:32:40.707Z"
   },
   {
    "duration": 23,
    "start_time": "2023-07-20T22:32:41.616Z"
   },
   {
    "duration": 128,
    "start_time": "2023-07-20T22:32:41.641Z"
   },
   {
    "duration": 109,
    "start_time": "2023-07-20T22:32:41.770Z"
   },
   {
    "duration": 48,
    "start_time": "2023-07-20T22:32:41.881Z"
   },
   {
    "duration": 36,
    "start_time": "2023-07-20T22:32:41.931Z"
   },
   {
    "duration": 1098,
    "start_time": "2023-07-20T22:32:41.969Z"
   },
   {
    "duration": 1012,
    "start_time": "2023-07-20T22:32:43.069Z"
   },
   {
    "duration": 340,
    "start_time": "2023-07-20T22:32:44.084Z"
   },
   {
    "duration": 74,
    "start_time": "2023-07-20T22:32:44.426Z"
   },
   {
    "duration": 66,
    "start_time": "2023-07-20T22:32:44.502Z"
   },
   {
    "duration": 454,
    "start_time": "2023-07-20T22:32:44.570Z"
   },
   {
    "duration": 73,
    "start_time": "2023-07-20T22:32:45.026Z"
   },
   {
    "duration": 3,
    "start_time": "2023-07-20T22:32:45.101Z"
   },
   {
    "duration": 63,
    "start_time": "2023-07-20T22:32:45.106Z"
   },
   {
    "duration": 903,
    "start_time": "2023-07-20T22:32:45.171Z"
   },
   {
    "duration": 61,
    "start_time": "2023-07-20T22:32:46.075Z"
   },
   {
    "duration": 85,
    "start_time": "2023-07-20T22:32:46.138Z"
   },
   {
    "duration": 113,
    "start_time": "2023-07-20T22:32:46.225Z"
   },
   {
    "duration": 60,
    "start_time": "2023-07-20T22:32:46.340Z"
   },
   {
    "duration": 125,
    "start_time": "2023-07-20T22:32:46.402Z"
   },
   {
    "duration": 139,
    "start_time": "2023-07-20T22:32:46.529Z"
   },
   {
    "duration": 42,
    "start_time": "2023-07-20T22:32:46.670Z"
   },
   {
    "duration": 57,
    "start_time": "2023-07-20T22:32:46.713Z"
   },
   {
    "duration": 110,
    "start_time": "2023-07-20T22:32:46.772Z"
   },
   {
    "duration": 20,
    "start_time": "2023-07-20T22:32:46.884Z"
   },
   {
    "duration": 228,
    "start_time": "2023-07-20T22:32:46.907Z"
   },
   {
    "duration": 81,
    "start_time": "2023-07-20T22:32:47.137Z"
   },
   {
    "duration": 45267,
    "start_time": "2023-07-20T22:32:47.220Z"
   },
   {
    "duration": 317982,
    "start_time": "2023-07-20T22:33:32.489Z"
   },
   {
    "duration": 288398,
    "start_time": "2023-07-20T22:38:50.473Z"
   },
   {
    "duration": 3936,
    "start_time": "2023-07-20T23:26:46.146Z"
   },
   {
    "duration": 140,
    "start_time": "2023-07-20T23:27:16.490Z"
   },
   {
    "duration": 5,
    "start_time": "2023-07-20T23:27:22.558Z"
   },
   {
    "duration": 6,
    "start_time": "2023-07-20T23:27:24.698Z"
   },
   {
    "duration": 813,
    "start_time": "2023-07-20T23:27:24.706Z"
   },
   {
    "duration": 23,
    "start_time": "2023-07-20T23:27:25.520Z"
   },
   {
    "duration": 140,
    "start_time": "2023-07-20T23:27:25.545Z"
   },
   {
    "duration": 100,
    "start_time": "2023-07-20T23:27:25.687Z"
   },
   {
    "duration": 45,
    "start_time": "2023-07-20T23:27:25.788Z"
   },
   {
    "duration": 33,
    "start_time": "2023-07-20T23:27:25.835Z"
   },
   {
    "duration": 1002,
    "start_time": "2023-07-20T23:27:25.870Z"
   },
   {
    "duration": 1188,
    "start_time": "2023-07-20T23:27:26.874Z"
   },
   {
    "duration": 326,
    "start_time": "2023-07-20T23:27:28.068Z"
   },
   {
    "duration": 72,
    "start_time": "2023-07-20T23:27:28.395Z"
   },
   {
    "duration": 55,
    "start_time": "2023-07-20T23:27:28.469Z"
   },
   {
    "duration": 455,
    "start_time": "2023-07-20T23:27:28.525Z"
   },
   {
    "duration": 55,
    "start_time": "2023-07-20T23:27:28.982Z"
   },
   {
    "duration": 2,
    "start_time": "2023-07-20T23:27:29.039Z"
   },
   {
    "duration": 62,
    "start_time": "2023-07-20T23:27:29.043Z"
   },
   {
    "duration": 665,
    "start_time": "2023-07-20T23:27:29.107Z"
   },
   {
    "duration": 54,
    "start_time": "2023-07-20T23:27:29.774Z"
   },
   {
    "duration": 75,
    "start_time": "2023-07-20T23:27:29.830Z"
   },
   {
    "duration": 129,
    "start_time": "2023-07-20T23:27:29.907Z"
   },
   {
    "duration": 61,
    "start_time": "2023-07-20T23:27:30.038Z"
   },
   {
    "duration": 171,
    "start_time": "2023-07-20T23:27:30.101Z"
   },
   {
    "duration": 140,
    "start_time": "2023-07-20T23:27:30.274Z"
   },
   {
    "duration": 52,
    "start_time": "2023-07-20T23:27:30.416Z"
   },
   {
    "duration": 60,
    "start_time": "2023-07-20T23:27:30.470Z"
   },
   {
    "duration": 118,
    "start_time": "2023-07-20T23:27:30.532Z"
   },
   {
    "duration": 49,
    "start_time": "2023-07-20T23:27:30.652Z"
   },
   {
    "duration": 243,
    "start_time": "2023-07-20T23:27:30.704Z"
   },
   {
    "duration": 93,
    "start_time": "2023-07-20T23:27:30.949Z"
   },
   {
    "duration": 5,
    "start_time": "2023-07-20T23:27:31.044Z"
   },
   {
    "duration": 39,
    "start_time": "2023-07-20T23:27:31.050Z"
   },
   {
    "duration": 70,
    "start_time": "2023-07-20T23:27:31.091Z"
   },
   {
    "duration": 4103,
    "start_time": "2023-07-20T23:27:31.163Z"
   },
   {
    "duration": 89,
    "start_time": "2023-07-20T23:27:48.550Z"
   },
   {
    "duration": 4,
    "start_time": "2023-07-20T23:28:02.418Z"
   },
   {
    "duration": 135,
    "start_time": "2023-07-20T23:28:17.038Z"
   },
   {
    "duration": 397,
    "start_time": "2023-07-20T23:29:26.091Z"
   },
   {
    "duration": 18,
    "start_time": "2023-07-20T23:29:29.306Z"
   },
   {
    "duration": 5,
    "start_time": "2023-07-20T23:29:33.220Z"
   },
   {
    "duration": 5,
    "start_time": "2023-07-20T23:29:39.494Z"
   },
   {
    "duration": 24006,
    "start_time": "2023-07-20T23:30:20.522Z"
   },
   {
    "duration": 63,
    "start_time": "2023-07-20T23:31:38.481Z"
   },
   {
    "duration": 6,
    "start_time": "2023-07-20T23:32:10.726Z"
   },
   {
    "duration": 3,
    "start_time": "2023-07-20T23:32:27.388Z"
   },
   {
    "duration": 5,
    "start_time": "2023-07-20T23:33:15.514Z"
   },
   {
    "duration": 816,
    "start_time": "2023-07-20T23:33:15.521Z"
   },
   {
    "duration": 32,
    "start_time": "2023-07-20T23:33:16.339Z"
   },
   {
    "duration": 183,
    "start_time": "2023-07-20T23:33:16.372Z"
   },
   {
    "duration": 98,
    "start_time": "2023-07-20T23:33:16.558Z"
   },
   {
    "duration": 52,
    "start_time": "2023-07-20T23:33:16.658Z"
   },
   {
    "duration": 22,
    "start_time": "2023-07-20T23:33:16.712Z"
   },
   {
    "duration": 1164,
    "start_time": "2023-07-20T23:33:16.736Z"
   },
   {
    "duration": 911,
    "start_time": "2023-07-20T23:33:17.903Z"
   },
   {
    "duration": 340,
    "start_time": "2023-07-20T23:33:18.816Z"
   },
   {
    "duration": 68,
    "start_time": "2023-07-20T23:33:19.158Z"
   },
   {
    "duration": 66,
    "start_time": "2023-07-20T23:33:19.228Z"
   },
   {
    "duration": 474,
    "start_time": "2023-07-20T23:33:19.297Z"
   },
   {
    "duration": 57,
    "start_time": "2023-07-20T23:33:19.773Z"
   },
   {
    "duration": 2,
    "start_time": "2023-07-20T23:33:19.832Z"
   },
   {
    "duration": 65,
    "start_time": "2023-07-20T23:33:19.836Z"
   },
   {
    "duration": 686,
    "start_time": "2023-07-20T23:33:19.903Z"
   },
   {
    "duration": 56,
    "start_time": "2023-07-20T23:33:20.591Z"
   },
   {
    "duration": 85,
    "start_time": "2023-07-20T23:33:20.649Z"
   },
   {
    "duration": 102,
    "start_time": "2023-07-20T23:33:20.735Z"
   },
   {
    "duration": 68,
    "start_time": "2023-07-20T23:33:20.839Z"
   },
   {
    "duration": 124,
    "start_time": "2023-07-20T23:33:20.909Z"
   },
   {
    "duration": 138,
    "start_time": "2023-07-20T23:33:21.034Z"
   },
   {
    "duration": 41,
    "start_time": "2023-07-20T23:33:21.174Z"
   },
   {
    "duration": 55,
    "start_time": "2023-07-20T23:33:21.216Z"
   },
   {
    "duration": 97,
    "start_time": "2023-07-20T23:33:21.273Z"
   },
   {
    "duration": 18,
    "start_time": "2023-07-20T23:33:21.372Z"
   },
   {
    "duration": 233,
    "start_time": "2023-07-20T23:33:21.392Z"
   },
   {
    "duration": 80,
    "start_time": "2023-07-20T23:33:21.627Z"
   },
   {
    "duration": 4,
    "start_time": "2023-07-20T23:33:21.710Z"
   },
   {
    "duration": 41,
    "start_time": "2023-07-20T23:33:21.715Z"
   },
   {
    "duration": 121,
    "start_time": "2023-07-20T23:33:21.758Z"
   },
   {
    "duration": 425,
    "start_time": "2023-07-20T23:33:21.881Z"
   },
   {
    "duration": 17,
    "start_time": "2023-07-20T23:33:22.307Z"
   },
   {
    "duration": 35,
    "start_time": "2023-07-20T23:33:22.326Z"
   },
   {
    "duration": 24292,
    "start_time": "2023-07-20T23:33:22.364Z"
   },
   {
    "duration": 59,
    "start_time": "2023-07-20T23:33:46.660Z"
   },
   {
    "duration": 10871,
    "start_time": "2023-07-20T23:35:55.399Z"
   },
   {
    "duration": 610,
    "start_time": "2023-07-20T23:36:06.272Z"
   },
   {
    "duration": 86,
    "start_time": "2023-07-20T23:36:06.884Z"
   },
   {
    "duration": 8,
    "start_time": "2023-07-20T23:43:00.840Z"
   },
   {
    "duration": 400,
    "start_time": "2023-07-20T23:44:20.482Z"
   },
   {
    "duration": 558,
    "start_time": "2023-07-20T23:44:50.423Z"
   },
   {
    "duration": 533,
    "start_time": "2023-07-20T23:44:53.629Z"
   },
   {
    "duration": 516,
    "start_time": "2023-07-20T23:45:05.253Z"
   },
   {
    "duration": 511,
    "start_time": "2023-07-20T23:45:53.224Z"
   },
   {
    "duration": 402,
    "start_time": "2023-07-20T23:47:31.120Z"
   },
   {
    "duration": 394,
    "start_time": "2023-07-20T23:47:35.824Z"
   },
   {
    "duration": 390,
    "start_time": "2023-07-20T23:47:42.422Z"
   },
   {
    "duration": 20,
    "start_time": "2023-07-20T23:48:25.617Z"
   },
   {
    "duration": 24656,
    "start_time": "2023-07-20T23:49:46.046Z"
   },
   {
    "duration": 63,
    "start_time": "2023-07-20T23:50:15.041Z"
   },
   {
    "duration": 12435,
    "start_time": "2023-07-20T23:50:52.842Z"
   },
   {
    "duration": 733,
    "start_time": "2023-07-20T23:51:43.595Z"
   },
   {
    "duration": 666,
    "start_time": "2023-07-20T23:51:50.302Z"
   },
   {
    "duration": 620,
    "start_time": "2023-07-20T23:51:53.760Z"
   },
   {
    "duration": 6,
    "start_time": "2023-07-20T23:52:41.408Z"
   },
   {
    "duration": 6,
    "start_time": "2023-07-20T23:54:31.126Z"
   },
   {
    "duration": 3,
    "start_time": "2023-07-20T23:56:05.035Z"
   },
   {
    "duration": 10,
    "start_time": "2023-07-20T23:59:33.649Z"
   },
   {
    "duration": 10506,
    "start_time": "2023-07-20T23:59:40.368Z"
   },
   {
    "duration": 4,
    "start_time": "2023-07-20T23:59:55.035Z"
   },
   {
    "duration": 5,
    "start_time": "2023-07-21T00:00:29.860Z"
   },
   {
    "duration": 9,
    "start_time": "2023-07-21T00:00:33.825Z"
   },
   {
    "duration": 10,
    "start_time": "2023-07-21T00:00:49.115Z"
   },
   {
    "duration": 11,
    "start_time": "2023-07-21T00:00:53.157Z"
   },
   {
    "duration": 10,
    "start_time": "2023-07-21T00:01:04.572Z"
   },
   {
    "duration": 10,
    "start_time": "2023-07-21T00:01:28.293Z"
   },
   {
    "duration": 10,
    "start_time": "2023-07-21T00:01:34.626Z"
   },
   {
    "duration": 11,
    "start_time": "2023-07-21T00:02:17.242Z"
   },
   {
    "duration": 558,
    "start_time": "2023-07-21T00:02:22.224Z"
   },
   {
    "duration": 11,
    "start_time": "2023-07-21T00:02:25.911Z"
   },
   {
    "duration": 12,
    "start_time": "2023-07-21T00:03:36.316Z"
   },
   {
    "duration": 6,
    "start_time": "2023-07-21T00:03:42.318Z"
   },
   {
    "duration": 6,
    "start_time": "2023-07-21T00:03:44.523Z"
   },
   {
    "duration": 6,
    "start_time": "2023-07-21T00:03:47.114Z"
   },
   {
    "duration": 17,
    "start_time": "2023-07-21T00:03:53.630Z"
   },
   {
    "duration": 6,
    "start_time": "2023-07-21T00:04:14.215Z"
   },
   {
    "duration": 799,
    "start_time": "2023-07-21T00:04:14.224Z"
   },
   {
    "duration": 24,
    "start_time": "2023-07-21T00:04:15.025Z"
   },
   {
    "duration": 129,
    "start_time": "2023-07-21T00:04:15.051Z"
   },
   {
    "duration": 112,
    "start_time": "2023-07-21T00:04:15.183Z"
   },
   {
    "duration": 47,
    "start_time": "2023-07-21T00:04:15.297Z"
   },
   {
    "duration": 39,
    "start_time": "2023-07-21T00:04:15.346Z"
   },
   {
    "duration": 1282,
    "start_time": "2023-07-21T00:04:15.387Z"
   },
   {
    "duration": 928,
    "start_time": "2023-07-21T00:04:16.671Z"
   },
   {
    "duration": 349,
    "start_time": "2023-07-21T00:04:17.601Z"
   },
   {
    "duration": 74,
    "start_time": "2023-07-21T00:04:17.953Z"
   },
   {
    "duration": 72,
    "start_time": "2023-07-21T00:04:18.029Z"
   },
   {
    "duration": 442,
    "start_time": "2023-07-21T00:04:18.103Z"
   },
   {
    "duration": 65,
    "start_time": "2023-07-21T00:04:18.549Z"
   },
   {
    "duration": 3,
    "start_time": "2023-07-21T00:04:18.616Z"
   },
   {
    "duration": 60,
    "start_time": "2023-07-21T00:04:18.620Z"
   },
   {
    "duration": 677,
    "start_time": "2023-07-21T00:04:18.682Z"
   },
   {
    "duration": 58,
    "start_time": "2023-07-21T00:04:19.361Z"
   },
   {
    "duration": 72,
    "start_time": "2023-07-21T00:04:19.421Z"
   },
   {
    "duration": 108,
    "start_time": "2023-07-21T00:04:19.494Z"
   },
   {
    "duration": 63,
    "start_time": "2023-07-21T00:04:19.604Z"
   },
   {
    "duration": 134,
    "start_time": "2023-07-21T00:04:19.669Z"
   },
   {
    "duration": 137,
    "start_time": "2023-07-21T00:04:19.805Z"
   },
   {
    "duration": 47,
    "start_time": "2023-07-21T00:04:19.944Z"
   },
   {
    "duration": 42,
    "start_time": "2023-07-21T00:04:19.993Z"
   },
   {
    "duration": 114,
    "start_time": "2023-07-21T00:04:20.037Z"
   },
   {
    "duration": 31,
    "start_time": "2023-07-21T00:04:20.154Z"
   },
   {
    "duration": 230,
    "start_time": "2023-07-21T00:04:20.187Z"
   },
   {
    "duration": 83,
    "start_time": "2023-07-21T00:04:20.419Z"
   },
   {
    "duration": 5,
    "start_time": "2023-07-21T00:04:20.504Z"
   },
   {
    "duration": 16,
    "start_time": "2023-07-21T00:04:20.511Z"
   },
   {
    "duration": 23,
    "start_time": "2023-07-21T00:04:20.529Z"
   },
   {
    "duration": 415,
    "start_time": "2023-07-21T00:04:20.554Z"
   },
   {
    "duration": 21,
    "start_time": "2023-07-21T00:04:20.971Z"
   },
   {
    "duration": 6,
    "start_time": "2023-07-21T00:04:20.995Z"
   },
   {
    "duration": 24807,
    "start_time": "2023-07-21T00:04:21.003Z"
   },
   {
    "duration": 62,
    "start_time": "2023-07-21T00:04:45.812Z"
   },
   {
    "duration": 6,
    "start_time": "2023-07-21T00:04:45.876Z"
   },
   {
    "duration": 10687,
    "start_time": "2023-07-21T00:04:45.883Z"
   },
   {
    "duration": 704,
    "start_time": "2023-07-21T00:04:56.572Z"
   },
   {
    "duration": 5,
    "start_time": "2023-07-21T00:04:57.280Z"
   },
   {
    "duration": 14,
    "start_time": "2023-07-21T00:04:57.287Z"
   },
   {
    "duration": 14,
    "start_time": "2023-07-21T00:06:22.436Z"
   },
   {
    "duration": 13,
    "start_time": "2023-07-21T00:06:37.112Z"
   },
   {
    "duration": 14,
    "start_time": "2023-07-21T00:06:43.050Z"
   },
   {
    "duration": 15,
    "start_time": "2023-07-21T00:07:36.508Z"
   },
   {
    "duration": 1966,
    "start_time": "2023-07-21T00:07:47.172Z"
   },
   {
    "duration": 14,
    "start_time": "2023-07-21T00:08:21.496Z"
   },
   {
    "duration": 17,
    "start_time": "2023-07-21T00:09:06.078Z"
   },
   {
    "duration": 212,
    "start_time": "2023-07-21T00:11:30.184Z"
   },
   {
    "duration": 92,
    "start_time": "2023-07-21T00:11:32.296Z"
   },
   {
    "duration": 1362,
    "start_time": "2023-07-21T00:12:08.359Z"
   },
   {
    "duration": 858,
    "start_time": "2023-07-21T00:12:09.723Z"
   },
   {
    "duration": 29,
    "start_time": "2023-07-21T00:12:10.583Z"
   },
   {
    "duration": 131,
    "start_time": "2023-07-21T00:12:10.614Z"
   },
   {
    "duration": 109,
    "start_time": "2023-07-21T00:12:10.748Z"
   },
   {
    "duration": 55,
    "start_time": "2023-07-21T00:12:10.867Z"
   },
   {
    "duration": 30,
    "start_time": "2023-07-21T00:12:10.924Z"
   },
   {
    "duration": 1028,
    "start_time": "2023-07-21T00:12:10.955Z"
   },
   {
    "duration": 977,
    "start_time": "2023-07-21T00:12:11.984Z"
   },
   {
    "duration": 356,
    "start_time": "2023-07-21T00:12:12.963Z"
   },
   {
    "duration": 76,
    "start_time": "2023-07-21T00:12:13.321Z"
   },
   {
    "duration": 54,
    "start_time": "2023-07-21T00:12:13.399Z"
   },
   {
    "duration": 464,
    "start_time": "2023-07-21T00:12:13.454Z"
   },
   {
    "duration": 74,
    "start_time": "2023-07-21T00:12:13.922Z"
   },
   {
    "duration": 2,
    "start_time": "2023-07-21T00:12:13.999Z"
   },
   {
    "duration": 68,
    "start_time": "2023-07-21T00:12:14.003Z"
   },
   {
    "duration": 811,
    "start_time": "2023-07-21T00:12:14.073Z"
   },
   {
    "duration": 55,
    "start_time": "2023-07-21T00:12:14.886Z"
   },
   {
    "duration": 77,
    "start_time": "2023-07-21T00:12:14.943Z"
   },
   {
    "duration": 145,
    "start_time": "2023-07-21T00:12:15.022Z"
   },
   {
    "duration": 57,
    "start_time": "2023-07-21T00:12:15.169Z"
   },
   {
    "duration": 130,
    "start_time": "2023-07-21T00:12:15.228Z"
   },
   {
    "duration": 140,
    "start_time": "2023-07-21T00:12:15.360Z"
   },
   {
    "duration": 42,
    "start_time": "2023-07-21T00:12:15.502Z"
   },
   {
    "duration": 58,
    "start_time": "2023-07-21T00:12:15.546Z"
   },
   {
    "duration": 109,
    "start_time": "2023-07-21T00:12:15.606Z"
   },
   {
    "duration": 19,
    "start_time": "2023-07-21T00:12:15.717Z"
   },
   {
    "duration": 315,
    "start_time": "2023-07-21T00:12:15.738Z"
   },
   {
    "duration": 0,
    "start_time": "2023-07-21T00:12:16.055Z"
   },
   {
    "duration": 0,
    "start_time": "2023-07-21T00:12:16.067Z"
   },
   {
    "duration": 0,
    "start_time": "2023-07-21T00:12:16.069Z"
   },
   {
    "duration": 0,
    "start_time": "2023-07-21T00:12:16.070Z"
   },
   {
    "duration": 0,
    "start_time": "2023-07-21T00:12:16.071Z"
   },
   {
    "duration": 0,
    "start_time": "2023-07-21T00:12:16.072Z"
   },
   {
    "duration": 0,
    "start_time": "2023-07-21T00:12:16.073Z"
   },
   {
    "duration": 0,
    "start_time": "2023-07-21T00:12:16.074Z"
   },
   {
    "duration": 0,
    "start_time": "2023-07-21T00:12:16.075Z"
   },
   {
    "duration": 0,
    "start_time": "2023-07-21T00:12:16.076Z"
   },
   {
    "duration": 0,
    "start_time": "2023-07-21T00:12:16.077Z"
   },
   {
    "duration": 0,
    "start_time": "2023-07-21T00:12:16.078Z"
   },
   {
    "duration": 0,
    "start_time": "2023-07-21T00:12:16.079Z"
   },
   {
    "duration": 0,
    "start_time": "2023-07-21T00:12:16.080Z"
   },
   {
    "duration": 5,
    "start_time": "2023-07-21T00:12:25.368Z"
   },
   {
    "duration": 889,
    "start_time": "2023-07-21T00:12:25.375Z"
   },
   {
    "duration": 23,
    "start_time": "2023-07-21T00:12:26.267Z"
   },
   {
    "duration": 131,
    "start_time": "2023-07-21T00:12:26.292Z"
   },
   {
    "duration": 107,
    "start_time": "2023-07-21T00:12:26.425Z"
   },
   {
    "duration": 61,
    "start_time": "2023-07-21T00:12:26.534Z"
   },
   {
    "duration": 22,
    "start_time": "2023-07-21T00:12:26.597Z"
   },
   {
    "duration": 927,
    "start_time": "2023-07-21T00:12:26.620Z"
   },
   {
    "duration": 1109,
    "start_time": "2023-07-21T00:12:27.549Z"
   },
   {
    "duration": 353,
    "start_time": "2023-07-21T00:12:28.661Z"
   },
   {
    "duration": 74,
    "start_time": "2023-07-21T00:12:29.016Z"
   },
   {
    "duration": 62,
    "start_time": "2023-07-21T00:12:29.092Z"
   },
   {
    "duration": 468,
    "start_time": "2023-07-21T00:12:29.155Z"
   },
   {
    "duration": 70,
    "start_time": "2023-07-21T00:12:29.625Z"
   },
   {
    "duration": 3,
    "start_time": "2023-07-21T00:12:29.696Z"
   },
   {
    "duration": 181,
    "start_time": "2023-07-21T00:12:29.700Z"
   },
   {
    "duration": 911,
    "start_time": "2023-07-21T00:12:29.883Z"
   },
   {
    "duration": 76,
    "start_time": "2023-07-21T00:12:30.797Z"
   },
   {
    "duration": 77,
    "start_time": "2023-07-21T00:12:30.875Z"
   },
   {
    "duration": 135,
    "start_time": "2023-07-21T00:12:30.954Z"
   },
   {
    "duration": 61,
    "start_time": "2023-07-21T00:12:31.090Z"
   },
   {
    "duration": 145,
    "start_time": "2023-07-21T00:12:31.153Z"
   },
   {
    "duration": 137,
    "start_time": "2023-07-21T00:12:31.300Z"
   },
   {
    "duration": 49,
    "start_time": "2023-07-21T00:12:31.440Z"
   },
   {
    "duration": 67,
    "start_time": "2023-07-21T00:12:31.491Z"
   },
   {
    "duration": 112,
    "start_time": "2023-07-21T00:12:31.560Z"
   },
   {
    "duration": 21,
    "start_time": "2023-07-21T00:12:31.673Z"
   },
   {
    "duration": 262,
    "start_time": "2023-07-21T00:12:31.698Z"
   },
   {
    "duration": 93,
    "start_time": "2023-07-21T00:12:31.962Z"
   },
   {
    "duration": 11,
    "start_time": "2023-07-21T00:12:32.057Z"
   },
   {
    "duration": 22,
    "start_time": "2023-07-21T00:12:32.070Z"
   },
   {
    "duration": 19,
    "start_time": "2023-07-21T00:12:32.094Z"
   },
   {
    "duration": 209,
    "start_time": "2023-07-21T00:12:32.114Z"
   },
   {
    "duration": 146,
    "start_time": "2023-07-21T00:12:32.325Z"
   },
   {
    "duration": 11,
    "start_time": "2023-07-21T00:12:32.473Z"
   },
   {
    "duration": 0,
    "start_time": "2023-07-21T00:12:32.486Z"
   },
   {
    "duration": 0,
    "start_time": "2023-07-21T00:12:32.487Z"
   },
   {
    "duration": 0,
    "start_time": "2023-07-21T00:12:32.488Z"
   },
   {
    "duration": 0,
    "start_time": "2023-07-21T00:12:32.489Z"
   },
   {
    "duration": 0,
    "start_time": "2023-07-21T00:12:32.490Z"
   },
   {
    "duration": 0,
    "start_time": "2023-07-21T00:12:32.492Z"
   },
   {
    "duration": 0,
    "start_time": "2023-07-21T00:12:32.493Z"
   },
   {
    "duration": 6,
    "start_time": "2023-07-21T00:13:31.626Z"
   },
   {
    "duration": 941,
    "start_time": "2023-07-21T00:13:31.634Z"
   },
   {
    "duration": 22,
    "start_time": "2023-07-21T00:13:32.577Z"
   },
   {
    "duration": 136,
    "start_time": "2023-07-21T00:13:32.601Z"
   },
   {
    "duration": 120,
    "start_time": "2023-07-21T00:13:32.740Z"
   },
   {
    "duration": 54,
    "start_time": "2023-07-21T00:13:32.862Z"
   },
   {
    "duration": 23,
    "start_time": "2023-07-21T00:13:32.918Z"
   },
   {
    "duration": 931,
    "start_time": "2023-07-21T00:13:32.942Z"
   },
   {
    "duration": 1178,
    "start_time": "2023-07-21T00:13:33.875Z"
   },
   {
    "duration": 327,
    "start_time": "2023-07-21T00:13:35.055Z"
   },
   {
    "duration": 64,
    "start_time": "2023-07-21T00:13:35.383Z"
   },
   {
    "duration": 66,
    "start_time": "2023-07-21T00:13:35.449Z"
   },
   {
    "duration": 452,
    "start_time": "2023-07-21T00:13:35.518Z"
   },
   {
    "duration": 57,
    "start_time": "2023-07-21T00:13:35.972Z"
   },
   {
    "duration": 2,
    "start_time": "2023-07-21T00:13:36.031Z"
   },
   {
    "duration": 67,
    "start_time": "2023-07-21T00:13:36.034Z"
   },
   {
    "duration": 652,
    "start_time": "2023-07-21T00:13:36.103Z"
   },
   {
    "duration": 59,
    "start_time": "2023-07-21T00:13:36.756Z"
   },
   {
    "duration": 76,
    "start_time": "2023-07-21T00:13:36.817Z"
   },
   {
    "duration": 114,
    "start_time": "2023-07-21T00:13:36.894Z"
   },
   {
    "duration": 60,
    "start_time": "2023-07-21T00:13:37.009Z"
   },
   {
    "duration": 120,
    "start_time": "2023-07-21T00:13:37.071Z"
   },
   {
    "duration": 138,
    "start_time": "2023-07-21T00:13:37.193Z"
   },
   {
    "duration": 47,
    "start_time": "2023-07-21T00:13:37.333Z"
   },
   {
    "duration": 39,
    "start_time": "2023-07-21T00:13:37.381Z"
   },
   {
    "duration": 105,
    "start_time": "2023-07-21T00:13:37.421Z"
   },
   {
    "duration": 18,
    "start_time": "2023-07-21T00:13:37.528Z"
   },
   {
    "duration": 229,
    "start_time": "2023-07-21T00:13:37.548Z"
   },
   {
    "duration": 71,
    "start_time": "2023-07-21T00:13:37.779Z"
   },
   {
    "duration": 4,
    "start_time": "2023-07-21T00:13:37.852Z"
   },
   {
    "duration": 4,
    "start_time": "2023-07-21T00:13:37.868Z"
   },
   {
    "duration": 12,
    "start_time": "2023-07-21T00:13:37.874Z"
   },
   {
    "duration": 198,
    "start_time": "2023-07-21T00:13:37.888Z"
   },
   {
    "duration": 135,
    "start_time": "2023-07-21T00:13:38.087Z"
   },
   {
    "duration": 10,
    "start_time": "2023-07-21T00:13:38.224Z"
   },
   {
    "duration": 0,
    "start_time": "2023-07-21T00:13:38.236Z"
   },
   {
    "duration": 0,
    "start_time": "2023-07-21T00:13:38.237Z"
   },
   {
    "duration": 0,
    "start_time": "2023-07-21T00:13:38.238Z"
   },
   {
    "duration": 0,
    "start_time": "2023-07-21T00:13:38.239Z"
   },
   {
    "duration": 0,
    "start_time": "2023-07-21T00:13:38.240Z"
   },
   {
    "duration": 0,
    "start_time": "2023-07-21T00:13:38.241Z"
   },
   {
    "duration": 0,
    "start_time": "2023-07-21T00:13:38.242Z"
   },
   {
    "duration": 5,
    "start_time": "2023-07-21T00:15:15.205Z"
   },
   {
    "duration": 839,
    "start_time": "2023-07-21T00:15:15.212Z"
   },
   {
    "duration": 29,
    "start_time": "2023-07-21T00:15:16.053Z"
   },
   {
    "duration": 134,
    "start_time": "2023-07-21T00:15:16.084Z"
   },
   {
    "duration": 108,
    "start_time": "2023-07-21T00:15:16.220Z"
   },
   {
    "duration": 58,
    "start_time": "2023-07-21T00:15:16.330Z"
   },
   {
    "duration": 23,
    "start_time": "2023-07-21T00:15:16.390Z"
   },
   {
    "duration": 1196,
    "start_time": "2023-07-21T00:15:16.416Z"
   },
   {
    "duration": 959,
    "start_time": "2023-07-21T00:15:17.614Z"
   },
   {
    "duration": 342,
    "start_time": "2023-07-21T00:15:18.575Z"
   },
   {
    "duration": 78,
    "start_time": "2023-07-21T00:15:18.920Z"
   },
   {
    "duration": 68,
    "start_time": "2023-07-21T00:15:19.000Z"
   },
   {
    "duration": 444,
    "start_time": "2023-07-21T00:15:19.070Z"
   },
   {
    "duration": 66,
    "start_time": "2023-07-21T00:15:19.519Z"
   },
   {
    "duration": 3,
    "start_time": "2023-07-21T00:15:19.587Z"
   },
   {
    "duration": 81,
    "start_time": "2023-07-21T00:15:19.591Z"
   },
   {
    "duration": 671,
    "start_time": "2023-07-21T00:15:19.674Z"
   },
   {
    "duration": 65,
    "start_time": "2023-07-21T00:15:20.348Z"
   },
   {
    "duration": 72,
    "start_time": "2023-07-21T00:15:20.415Z"
   },
   {
    "duration": 106,
    "start_time": "2023-07-21T00:15:20.489Z"
   },
   {
    "duration": 57,
    "start_time": "2023-07-21T00:15:20.597Z"
   },
   {
    "duration": 119,
    "start_time": "2023-07-21T00:15:20.668Z"
   },
   {
    "duration": 138,
    "start_time": "2023-07-21T00:15:20.789Z"
   },
   {
    "duration": 47,
    "start_time": "2023-07-21T00:15:20.929Z"
   },
   {
    "duration": 41,
    "start_time": "2023-07-21T00:15:20.979Z"
   },
   {
    "duration": 120,
    "start_time": "2023-07-21T00:15:21.022Z"
   },
   {
    "duration": 32,
    "start_time": "2023-07-21T00:15:21.145Z"
   },
   {
    "duration": 223,
    "start_time": "2023-07-21T00:15:21.179Z"
   },
   {
    "duration": 95,
    "start_time": "2023-07-21T00:15:21.404Z"
   },
   {
    "duration": 4,
    "start_time": "2023-07-21T00:15:21.501Z"
   },
   {
    "duration": 38,
    "start_time": "2023-07-21T00:15:21.507Z"
   },
   {
    "duration": 13,
    "start_time": "2023-07-21T00:15:21.546Z"
   },
   {
    "duration": 419,
    "start_time": "2023-07-21T00:15:21.560Z"
   },
   {
    "duration": 19,
    "start_time": "2023-07-21T00:15:21.981Z"
   },
   {
    "duration": 18,
    "start_time": "2023-07-21T00:15:22.002Z"
   },
   {
    "duration": 24046,
    "start_time": "2023-07-21T00:15:22.021Z"
   },
   {
    "duration": 64,
    "start_time": "2023-07-21T00:15:46.069Z"
   },
   {
    "duration": 5,
    "start_time": "2023-07-21T00:15:46.135Z"
   },
   {
    "duration": 10133,
    "start_time": "2023-07-21T00:15:46.142Z"
   },
   {
    "duration": 709,
    "start_time": "2023-07-21T00:15:56.277Z"
   },
   {
    "duration": 5,
    "start_time": "2023-07-21T00:15:56.991Z"
   },
   {
    "duration": 72,
    "start_time": "2023-07-21T00:15:56.997Z"
   },
   {
    "duration": 9,
    "start_time": "2023-07-21T00:16:22.987Z"
   },
   {
    "duration": 13,
    "start_time": "2023-07-21T00:16:28.150Z"
   },
   {
    "duration": 14,
    "start_time": "2023-07-21T00:17:00.564Z"
   },
   {
    "duration": 6,
    "start_time": "2023-07-21T00:23:10.757Z"
   },
   {
    "duration": 798,
    "start_time": "2023-07-21T00:23:10.765Z"
   },
   {
    "duration": 24,
    "start_time": "2023-07-21T00:23:11.566Z"
   },
   {
    "duration": 125,
    "start_time": "2023-07-21T00:23:11.592Z"
   },
   {
    "duration": 97,
    "start_time": "2023-07-21T00:23:11.720Z"
   },
   {
    "duration": 56,
    "start_time": "2023-07-21T00:23:11.819Z"
   },
   {
    "duration": 20,
    "start_time": "2023-07-21T00:23:11.877Z"
   },
   {
    "duration": 1251,
    "start_time": "2023-07-21T00:23:11.899Z"
   },
   {
    "duration": 965,
    "start_time": "2023-07-21T00:23:13.152Z"
   },
   {
    "duration": 339,
    "start_time": "2023-07-21T00:23:14.119Z"
   },
   {
    "duration": 68,
    "start_time": "2023-07-21T00:23:14.460Z"
   },
   {
    "duration": 75,
    "start_time": "2023-07-21T00:23:14.530Z"
   },
   {
    "duration": 468,
    "start_time": "2023-07-21T00:23:14.607Z"
   },
   {
    "duration": 59,
    "start_time": "2023-07-21T00:23:15.079Z"
   },
   {
    "duration": 2,
    "start_time": "2023-07-21T00:23:15.140Z"
   },
   {
    "duration": 71,
    "start_time": "2023-07-21T00:23:15.143Z"
   },
   {
    "duration": 707,
    "start_time": "2023-07-21T00:23:15.216Z"
   },
   {
    "duration": 68,
    "start_time": "2023-07-21T00:23:15.925Z"
   },
   {
    "duration": 74,
    "start_time": "2023-07-21T00:23:15.995Z"
   },
   {
    "duration": 112,
    "start_time": "2023-07-21T00:23:16.071Z"
   },
   {
    "duration": 59,
    "start_time": "2023-07-21T00:23:16.185Z"
   },
   {
    "duration": 139,
    "start_time": "2023-07-21T00:23:16.246Z"
   },
   {
    "duration": 138,
    "start_time": "2023-07-21T00:23:16.387Z"
   },
   {
    "duration": 47,
    "start_time": "2023-07-21T00:23:16.526Z"
   },
   {
    "duration": 40,
    "start_time": "2023-07-21T00:23:16.575Z"
   },
   {
    "duration": 109,
    "start_time": "2023-07-21T00:23:16.616Z"
   },
   {
    "duration": 19,
    "start_time": "2023-07-21T00:23:16.727Z"
   },
   {
    "duration": 232,
    "start_time": "2023-07-21T00:23:16.748Z"
   },
   {
    "duration": 76,
    "start_time": "2023-07-21T00:23:16.982Z"
   },
   {
    "duration": 145,
    "start_time": "2023-07-21T00:23:17.060Z"
   },
   {
    "duration": 135,
    "start_time": "2023-07-21T00:23:17.206Z"
   },
   {
    "duration": 138,
    "start_time": "2023-07-21T00:23:17.343Z"
   },
   {
    "duration": 404,
    "start_time": "2023-07-21T00:23:17.483Z"
   },
   {
    "duration": 22,
    "start_time": "2023-07-21T00:23:17.889Z"
   },
   {
    "duration": 6,
    "start_time": "2023-07-21T00:23:17.913Z"
   },
   {
    "duration": 24099,
    "start_time": "2023-07-21T00:23:17.921Z"
   },
   {
    "duration": 62,
    "start_time": "2023-07-21T00:23:42.022Z"
   },
   {
    "duration": 5,
    "start_time": "2023-07-21T00:23:42.085Z"
   },
   {
    "duration": 9,
    "start_time": "2023-07-21T00:23:52.901Z"
   },
   {
    "duration": 797,
    "start_time": "2023-07-21T00:23:52.911Z"
   },
   {
    "duration": 25,
    "start_time": "2023-07-21T00:23:53.709Z"
   },
   {
    "duration": 133,
    "start_time": "2023-07-21T00:23:53.736Z"
   },
   {
    "duration": 118,
    "start_time": "2023-07-21T00:23:53.870Z"
   },
   {
    "duration": 46,
    "start_time": "2023-07-21T00:23:53.989Z"
   },
   {
    "duration": 34,
    "start_time": "2023-07-21T00:23:54.037Z"
   },
   {
    "duration": 1269,
    "start_time": "2023-07-21T00:23:54.072Z"
   },
   {
    "duration": 931,
    "start_time": "2023-07-21T00:23:55.343Z"
   },
   {
    "duration": 330,
    "start_time": "2023-07-21T00:23:56.276Z"
   },
   {
    "duration": 70,
    "start_time": "2023-07-21T00:23:56.607Z"
   },
   {
    "duration": 53,
    "start_time": "2023-07-21T00:23:56.679Z"
   },
   {
    "duration": 446,
    "start_time": "2023-07-21T00:23:56.734Z"
   },
   {
    "duration": 51,
    "start_time": "2023-07-21T00:23:57.182Z"
   },
   {
    "duration": 2,
    "start_time": "2023-07-21T00:23:57.235Z"
   },
   {
    "duration": 59,
    "start_time": "2023-07-21T00:23:57.239Z"
   },
   {
    "duration": 678,
    "start_time": "2023-07-21T00:23:57.300Z"
   },
   {
    "duration": 55,
    "start_time": "2023-07-21T00:23:57.979Z"
   },
   {
    "duration": 76,
    "start_time": "2023-07-21T00:23:58.036Z"
   },
   {
    "duration": 105,
    "start_time": "2023-07-21T00:23:58.114Z"
   },
   {
    "duration": 65,
    "start_time": "2023-07-21T00:23:58.221Z"
   },
   {
    "duration": 121,
    "start_time": "2023-07-21T00:23:58.288Z"
   },
   {
    "duration": 152,
    "start_time": "2023-07-21T00:23:58.411Z"
   },
   {
    "duration": 49,
    "start_time": "2023-07-21T00:23:58.566Z"
   },
   {
    "duration": 59,
    "start_time": "2023-07-21T00:23:58.617Z"
   },
   {
    "duration": 108,
    "start_time": "2023-07-21T00:23:58.678Z"
   },
   {
    "duration": 22,
    "start_time": "2023-07-21T00:23:58.789Z"
   },
   {
    "duration": 236,
    "start_time": "2023-07-21T00:23:58.814Z"
   },
   {
    "duration": 97,
    "start_time": "2023-07-21T00:23:59.052Z"
   },
   {
    "duration": 45328,
    "start_time": "2023-07-21T00:23:59.151Z"
   },
   {
    "duration": 313290,
    "start_time": "2023-07-21T00:24:44.481Z"
   },
   {
    "duration": 275802,
    "start_time": "2023-07-21T00:29:57.773Z"
   },
   {
    "duration": 469,
    "start_time": "2023-07-21T00:34:33.577Z"
   },
   {
    "duration": 31,
    "start_time": "2023-07-21T00:34:34.047Z"
   },
   {
    "duration": 5,
    "start_time": "2023-07-21T00:34:34.080Z"
   },
   {
    "duration": 23942,
    "start_time": "2023-07-21T00:34:34.086Z"
   },
   {
    "duration": 62,
    "start_time": "2023-07-21T00:34:58.030Z"
   },
   {
    "duration": 5,
    "start_time": "2023-07-21T00:34:58.093Z"
   },
   {
    "duration": 9985,
    "start_time": "2023-07-21T00:34:58.100Z"
   },
   {
    "duration": 709,
    "start_time": "2023-07-21T00:35:08.168Z"
   },
   {
    "duration": 5,
    "start_time": "2023-07-21T00:35:08.878Z"
   },
   {
    "duration": 23,
    "start_time": "2023-07-21T00:35:08.885Z"
   },
   {
    "duration": 1330,
    "start_time": "2023-07-21T00:35:45.986Z"
   },
   {
    "duration": 889,
    "start_time": "2023-07-21T00:35:47.318Z"
   },
   {
    "duration": 30,
    "start_time": "2023-07-21T00:35:48.209Z"
   },
   {
    "duration": 136,
    "start_time": "2023-07-21T00:35:48.240Z"
   },
   {
    "duration": 113,
    "start_time": "2023-07-21T00:35:48.378Z"
   },
   {
    "duration": 55,
    "start_time": "2023-07-21T00:35:48.493Z"
   },
   {
    "duration": 35,
    "start_time": "2023-07-21T00:35:48.550Z"
   },
   {
    "duration": 1045,
    "start_time": "2023-07-21T00:35:48.588Z"
   },
   {
    "duration": 945,
    "start_time": "2023-07-21T00:35:49.634Z"
   },
   {
    "duration": 334,
    "start_time": "2023-07-21T00:35:50.581Z"
   },
   {
    "duration": 74,
    "start_time": "2023-07-21T00:35:50.917Z"
   },
   {
    "duration": 55,
    "start_time": "2023-07-21T00:35:50.993Z"
   },
   {
    "duration": 574,
    "start_time": "2023-07-21T00:35:51.050Z"
   },
   {
    "duration": 68,
    "start_time": "2023-07-21T00:35:51.626Z"
   },
   {
    "duration": 280,
    "start_time": "2023-07-21T00:35:51.695Z"
   },
   {
    "duration": 45,
    "start_time": "2023-07-21T00:35:51.977Z"
   },
   {
    "duration": 702,
    "start_time": "2023-07-21T00:35:52.023Z"
   },
   {
    "duration": 63,
    "start_time": "2023-07-21T00:35:52.726Z"
   },
   {
    "duration": 64,
    "start_time": "2023-07-21T00:35:52.790Z"
   },
   {
    "duration": 101,
    "start_time": "2023-07-21T00:35:52.867Z"
   },
   {
    "duration": 56,
    "start_time": "2023-07-21T00:35:52.970Z"
   },
   {
    "duration": 127,
    "start_time": "2023-07-21T00:35:53.028Z"
   },
   {
    "duration": 146,
    "start_time": "2023-07-21T00:35:53.157Z"
   },
   {
    "duration": 39,
    "start_time": "2023-07-21T00:35:53.305Z"
   },
   {
    "duration": 52,
    "start_time": "2023-07-21T00:35:53.345Z"
   },
   {
    "duration": 101,
    "start_time": "2023-07-21T00:35:53.399Z"
   },
   {
    "duration": 17,
    "start_time": "2023-07-21T00:35:53.502Z"
   },
   {
    "duration": 221,
    "start_time": "2023-07-21T00:35:53.523Z"
   },
   {
    "duration": 91,
    "start_time": "2023-07-21T00:35:53.745Z"
   },
   {
    "duration": 45817,
    "start_time": "2023-07-21T00:35:53.838Z"
   },
   {
    "duration": 12,
    "start_time": "2023-07-21T00:36:39.657Z"
   },
   {
    "duration": 7,
    "start_time": "2023-07-21T00:36:39.671Z"
   },
   {
    "duration": 412,
    "start_time": "2023-07-21T00:36:39.680Z"
   },
   {
    "duration": 20,
    "start_time": "2023-07-21T00:36:40.093Z"
   },
   {
    "duration": 13,
    "start_time": "2023-07-21T00:36:40.114Z"
   },
   {
    "duration": 24509,
    "start_time": "2023-07-21T00:36:40.130Z"
   },
   {
    "duration": 63,
    "start_time": "2023-07-21T00:37:04.640Z"
   },
   {
    "duration": 5,
    "start_time": "2023-07-21T00:37:04.705Z"
   },
   {
    "duration": 9859,
    "start_time": "2023-07-21T00:37:04.711Z"
   },
   {
    "duration": 709,
    "start_time": "2023-07-21T00:37:14.571Z"
   },
   {
    "duration": 5,
    "start_time": "2023-07-21T00:37:15.282Z"
   },
   {
    "duration": 25,
    "start_time": "2023-07-21T00:37:15.289Z"
   },
   {
    "duration": 116,
    "start_time": "2023-07-21T00:43:36.728Z"
   },
   {
    "duration": 138,
    "start_time": "2023-07-21T00:43:58.468Z"
   },
   {
    "duration": 119,
    "start_time": "2023-07-21T00:46:36.360Z"
   },
   {
    "duration": 113,
    "start_time": "2023-07-21T00:55:46.978Z"
   },
   {
    "duration": 114,
    "start_time": "2023-07-21T00:55:49.611Z"
   },
   {
    "duration": 18,
    "start_time": "2023-07-21T00:56:01.650Z"
   },
   {
    "duration": 38,
    "start_time": "2023-07-21T01:00:21.590Z"
   },
   {
    "duration": 133,
    "start_time": "2023-07-21T01:01:22.701Z"
   },
   {
    "duration": 115,
    "start_time": "2023-07-21T01:14:06.134Z"
   },
   {
    "duration": 1338,
    "start_time": "2023-07-21T01:25:19.251Z"
   },
   {
    "duration": 860,
    "start_time": "2023-07-21T01:25:20.591Z"
   },
   {
    "duration": 30,
    "start_time": "2023-07-21T01:25:21.453Z"
   },
   {
    "duration": 127,
    "start_time": "2023-07-21T01:25:21.485Z"
   },
   {
    "duration": 114,
    "start_time": "2023-07-21T01:25:21.614Z"
   },
   {
    "duration": 56,
    "start_time": "2023-07-21T01:25:21.729Z"
   },
   {
    "duration": 1029,
    "start_time": "2023-07-21T01:25:21.786Z"
   },
   {
    "duration": 957,
    "start_time": "2023-07-21T01:25:22.817Z"
   },
   {
    "duration": 356,
    "start_time": "2023-07-21T01:25:23.776Z"
   },
   {
    "duration": 79,
    "start_time": "2023-07-21T01:25:24.133Z"
   },
   {
    "duration": 437,
    "start_time": "2023-07-21T01:25:24.214Z"
   },
   {
    "duration": 61,
    "start_time": "2023-07-21T01:25:24.652Z"
   },
   {
    "duration": 58,
    "start_time": "2023-07-21T01:25:24.715Z"
   },
   {
    "duration": 800,
    "start_time": "2023-07-21T01:25:24.776Z"
   },
   {
    "duration": 64,
    "start_time": "2023-07-21T01:25:25.578Z"
   },
   {
    "duration": 86,
    "start_time": "2023-07-21T01:25:25.643Z"
   },
   {
    "duration": 110,
    "start_time": "2023-07-21T01:25:25.731Z"
   },
   {
    "duration": 62,
    "start_time": "2023-07-21T01:25:25.843Z"
   },
   {
    "duration": 131,
    "start_time": "2023-07-21T01:25:25.907Z"
   },
   {
    "duration": 137,
    "start_time": "2023-07-21T01:25:26.039Z"
   },
   {
    "duration": 39,
    "start_time": "2023-07-21T01:25:26.178Z"
   },
   {
    "duration": 53,
    "start_time": "2023-07-21T01:25:26.219Z"
   },
   {
    "duration": 109,
    "start_time": "2023-07-21T01:25:26.274Z"
   },
   {
    "duration": 19,
    "start_time": "2023-07-21T01:25:26.385Z"
   },
   {
    "duration": 222,
    "start_time": "2023-07-21T01:25:26.406Z"
   },
   {
    "duration": 83,
    "start_time": "2023-07-21T01:25:26.630Z"
   },
   {
    "duration": 44760,
    "start_time": "2023-07-21T01:25:26.715Z"
   },
   {
    "duration": 313074,
    "start_time": "2023-07-21T01:26:11.477Z"
   },
   {
    "duration": 279820,
    "start_time": "2023-07-21T01:31:24.552Z"
   },
   {
    "duration": 411,
    "start_time": "2023-07-21T01:36:04.374Z"
   },
   {
    "duration": 22,
    "start_time": "2023-07-21T01:36:04.787Z"
   },
   {
    "duration": 6,
    "start_time": "2023-07-21T01:36:04.811Z"
   },
   {
    "duration": 23858,
    "start_time": "2023-07-21T01:36:04.819Z"
   },
   {
    "duration": 60,
    "start_time": "2023-07-21T01:36:28.679Z"
   },
   {
    "duration": 6,
    "start_time": "2023-07-21T01:36:28.740Z"
   },
   {
    "duration": 10240,
    "start_time": "2023-07-21T01:36:28.747Z"
   },
   {
    "duration": 704,
    "start_time": "2023-07-21T01:36:38.989Z"
   },
   {
    "duration": 73,
    "start_time": "2023-07-21T01:36:39.695Z"
   },
   {
    "duration": 13,
    "start_time": "2023-07-21T01:36:39.770Z"
   },
   {
    "duration": 61,
    "start_time": "2023-07-21T01:38:14.470Z"
   },
   {
    "duration": 205,
    "start_time": "2023-07-21T01:38:16.258Z"
   },
   {
    "duration": 1344,
    "start_time": "2023-07-21T01:38:56.180Z"
   },
   {
    "duration": 882,
    "start_time": "2023-07-21T01:38:57.526Z"
   },
   {
    "duration": 29,
    "start_time": "2023-07-21T01:38:58.410Z"
   },
   {
    "duration": 139,
    "start_time": "2023-07-21T01:38:58.442Z"
   },
   {
    "duration": 119,
    "start_time": "2023-07-21T01:38:58.583Z"
   },
   {
    "duration": 88,
    "start_time": "2023-07-21T01:38:58.703Z"
   },
   {
    "duration": 1917,
    "start_time": "2023-07-21T01:38:58.793Z"
   },
   {
    "duration": 963,
    "start_time": "2023-07-21T01:39:00.711Z"
   },
   {
    "duration": 348,
    "start_time": "2023-07-21T01:39:01.677Z"
   },
   {
    "duration": 80,
    "start_time": "2023-07-21T01:39:02.028Z"
   },
   {
    "duration": 466,
    "start_time": "2023-07-21T01:39:02.110Z"
   },
   {
    "duration": 60,
    "start_time": "2023-07-21T01:39:02.578Z"
   },
   {
    "duration": 71,
    "start_time": "2023-07-21T01:39:02.640Z"
   },
   {
    "duration": 818,
    "start_time": "2023-07-21T01:39:02.712Z"
   },
   {
    "duration": 63,
    "start_time": "2023-07-21T01:39:03.531Z"
   },
   {
    "duration": 75,
    "start_time": "2023-07-21T01:39:03.595Z"
   },
   {
    "duration": 97,
    "start_time": "2023-07-21T01:39:03.672Z"
   },
   {
    "duration": 56,
    "start_time": "2023-07-21T01:39:03.771Z"
   },
   {
    "duration": 149,
    "start_time": "2023-07-21T01:39:03.829Z"
   },
   {
    "duration": 135,
    "start_time": "2023-07-21T01:39:03.980Z"
   },
   {
    "duration": 38,
    "start_time": "2023-07-21T01:39:04.117Z"
   },
   {
    "duration": 39,
    "start_time": "2023-07-21T01:39:04.167Z"
   },
   {
    "duration": 106,
    "start_time": "2023-07-21T01:39:04.207Z"
   },
   {
    "duration": 18,
    "start_time": "2023-07-21T01:39:04.315Z"
   },
   {
    "duration": 225,
    "start_time": "2023-07-21T01:39:04.335Z"
   },
   {
    "duration": 79,
    "start_time": "2023-07-21T01:39:04.562Z"
   },
   {
    "duration": 44688,
    "start_time": "2023-07-21T01:39:04.643Z"
   },
   {
    "duration": 312395,
    "start_time": "2023-07-21T01:39:49.334Z"
   },
   {
    "duration": 284039,
    "start_time": "2023-07-21T01:45:01.731Z"
   },
   {
    "duration": 407,
    "start_time": "2023-07-21T01:49:45.771Z"
   },
   {
    "duration": 21,
    "start_time": "2023-07-21T01:49:46.180Z"
   },
   {
    "duration": 6,
    "start_time": "2023-07-21T01:49:46.204Z"
   },
   {
    "duration": 26167,
    "start_time": "2023-07-21T01:49:46.212Z"
   },
   {
    "duration": 62,
    "start_time": "2023-07-21T01:50:12.381Z"
   },
   {
    "duration": 5,
    "start_time": "2023-07-21T01:50:12.445Z"
   },
   {
    "duration": 10019,
    "start_time": "2023-07-21T01:50:12.451Z"
   },
   {
    "duration": 628,
    "start_time": "2023-07-21T01:50:22.472Z"
   },
   {
    "duration": 69,
    "start_time": "2023-07-21T01:50:23.102Z"
   },
   {
    "duration": 36,
    "start_time": "2023-07-21T01:50:23.172Z"
   },
   {
    "duration": 1806,
    "start_time": "2023-07-21T12:09:47.068Z"
   },
   {
    "duration": 3007,
    "start_time": "2023-07-21T12:12:57.771Z"
   },
   {
    "duration": 36,
    "start_time": "2023-07-21T12:13:00.780Z"
   },
   {
    "duration": 156,
    "start_time": "2023-07-21T12:13:00.818Z"
   },
   {
    "duration": 138,
    "start_time": "2023-07-21T12:13:00.976Z"
   },
   {
    "duration": 49,
    "start_time": "2023-07-21T12:13:05.768Z"
   },
   {
    "duration": 1138,
    "start_time": "2023-07-21T12:19:41.502Z"
   },
   {
    "duration": 1040,
    "start_time": "2023-07-21T12:19:48.974Z"
   },
   {
    "duration": 353,
    "start_time": "2023-07-21T12:20:43.580Z"
   },
   {
    "duration": 83,
    "start_time": "2023-07-21T12:20:43.936Z"
   },
   {
    "duration": 573,
    "start_time": "2023-07-21T12:20:47.786Z"
   },
   {
    "duration": 71,
    "start_time": "2023-07-21T12:22:05.346Z"
   },
   {
    "duration": 51,
    "start_time": "2023-07-21T12:22:07.640Z"
   },
   {
    "duration": 817,
    "start_time": "2023-07-21T12:22:21.842Z"
   },
   {
    "duration": 57,
    "start_time": "2023-07-21T12:22:22.663Z"
   },
   {
    "duration": 87,
    "start_time": "2023-07-21T12:22:25.240Z"
   },
   {
    "duration": 97,
    "start_time": "2023-07-21T12:22:25.810Z"
   },
   {
    "duration": 63,
    "start_time": "2023-07-21T12:22:27.609Z"
   },
   {
    "duration": 119,
    "start_time": "2023-07-21T12:22:29.040Z"
   },
   {
    "duration": 134,
    "start_time": "2023-07-21T12:22:29.413Z"
   },
   {
    "duration": 42,
    "start_time": "2023-07-21T12:23:11.504Z"
   },
   {
    "duration": 46,
    "start_time": "2023-07-21T12:23:11.726Z"
   },
   {
    "duration": 92,
    "start_time": "2023-07-21T12:23:12.139Z"
   },
   {
    "duration": 25,
    "start_time": "2023-07-21T12:23:13.962Z"
   },
   {
    "duration": 42,
    "start_time": "2023-07-21T12:23:29.282Z"
   },
   {
    "duration": 4,
    "start_time": "2023-07-21T12:25:44.694Z"
   },
   {
    "duration": 1597,
    "start_time": "2023-07-21T13:45:33.886Z"
   },
   {
    "duration": 1006,
    "start_time": "2023-07-21T13:45:35.485Z"
   },
   {
    "duration": 24,
    "start_time": "2023-07-21T13:45:36.492Z"
   },
   {
    "duration": 122,
    "start_time": "2023-07-21T13:45:36.517Z"
   },
   {
    "duration": 93,
    "start_time": "2023-07-21T13:45:36.641Z"
   },
   {
    "duration": 38,
    "start_time": "2023-07-21T13:45:36.736Z"
   },
   {
    "duration": 889,
    "start_time": "2023-07-21T13:45:36.775Z"
   },
   {
    "duration": 789,
    "start_time": "2023-07-21T13:45:37.665Z"
   },
   {
    "duration": 297,
    "start_time": "2023-07-21T13:45:38.456Z"
   },
   {
    "duration": 53,
    "start_time": "2023-07-21T13:45:38.755Z"
   },
   {
    "duration": 473,
    "start_time": "2023-07-21T13:45:38.809Z"
   },
   {
    "duration": 54,
    "start_time": "2023-07-21T13:45:39.284Z"
   },
   {
    "duration": 38,
    "start_time": "2023-07-21T13:45:39.340Z"
   },
   {
    "duration": 602,
    "start_time": "2023-07-21T13:45:39.382Z"
   },
   {
    "duration": 54,
    "start_time": "2023-07-21T13:45:39.985Z"
   },
   {
    "duration": 65,
    "start_time": "2023-07-21T13:45:40.041Z"
   },
   {
    "duration": 33,
    "start_time": "2023-07-21T13:45:40.108Z"
   },
   {
    "duration": 61,
    "start_time": "2023-07-21T13:45:40.142Z"
   },
   {
    "duration": 9,
    "start_time": "2023-07-21T13:45:40.222Z"
   },
   {
    "duration": 137,
    "start_time": "2023-07-21T13:45:40.233Z"
   },
   {
    "duration": 153,
    "start_time": "2023-07-21T13:45:40.372Z"
   },
   {
    "duration": 42,
    "start_time": "2023-07-21T13:45:40.527Z"
   },
   {
    "duration": 53,
    "start_time": "2023-07-21T13:45:40.571Z"
   },
   {
    "duration": 93,
    "start_time": "2023-07-21T13:45:40.627Z"
   },
   {
    "duration": 16,
    "start_time": "2023-07-21T13:45:40.721Z"
   },
   {
    "duration": 317,
    "start_time": "2023-07-21T13:45:40.739Z"
   },
   {
    "duration": 0,
    "start_time": "2023-07-21T13:45:41.057Z"
   },
   {
    "duration": 0,
    "start_time": "2023-07-21T13:45:41.059Z"
   },
   {
    "duration": 0,
    "start_time": "2023-07-21T13:45:41.059Z"
   },
   {
    "duration": 0,
    "start_time": "2023-07-21T13:45:41.060Z"
   },
   {
    "duration": 0,
    "start_time": "2023-07-21T13:45:41.061Z"
   },
   {
    "duration": 0,
    "start_time": "2023-07-21T13:45:41.062Z"
   },
   {
    "duration": 0,
    "start_time": "2023-07-21T13:45:41.063Z"
   },
   {
    "duration": 0,
    "start_time": "2023-07-21T13:45:41.064Z"
   },
   {
    "duration": 0,
    "start_time": "2023-07-21T13:45:41.065Z"
   },
   {
    "duration": 0,
    "start_time": "2023-07-21T13:45:41.133Z"
   },
   {
    "duration": 0,
    "start_time": "2023-07-21T13:45:41.135Z"
   },
   {
    "duration": 0,
    "start_time": "2023-07-21T13:45:41.136Z"
   },
   {
    "duration": 0,
    "start_time": "2023-07-21T13:45:41.137Z"
   },
   {
    "duration": 0,
    "start_time": "2023-07-21T13:45:41.138Z"
   },
   {
    "duration": 45,
    "start_time": "2023-07-21T13:46:20.306Z"
   },
   {
    "duration": 15,
    "start_time": "2023-07-21T13:47:12.783Z"
   },
   {
    "duration": 11,
    "start_time": "2023-07-21T13:47:24.759Z"
   },
   {
    "duration": 6,
    "start_time": "2023-07-21T13:49:15.544Z"
   },
   {
    "duration": 91,
    "start_time": "2023-07-21T13:49:27.914Z"
   },
   {
    "duration": 84,
    "start_time": "2023-07-21T13:49:33.581Z"
   },
   {
    "duration": 62,
    "start_time": "2023-07-21T13:49:46.418Z"
   },
   {
    "duration": 40,
    "start_time": "2023-07-21T13:50:26.361Z"
   },
   {
    "duration": 62,
    "start_time": "2023-07-21T13:51:27.002Z"
   },
   {
    "duration": 4,
    "start_time": "2023-07-21T13:52:02.660Z"
   },
   {
    "duration": 903,
    "start_time": "2023-07-21T13:52:02.666Z"
   },
   {
    "duration": 18,
    "start_time": "2023-07-21T13:52:03.570Z"
   },
   {
    "duration": 106,
    "start_time": "2023-07-21T13:52:03.589Z"
   },
   {
    "duration": 89,
    "start_time": "2023-07-21T13:52:03.697Z"
   },
   {
    "duration": 43,
    "start_time": "2023-07-21T13:52:03.787Z"
   },
   {
    "duration": 842,
    "start_time": "2023-07-21T13:52:03.833Z"
   },
   {
    "duration": 1990,
    "start_time": "2023-07-21T13:52:04.677Z"
   },
   {
    "duration": 310,
    "start_time": "2023-07-21T13:52:06.669Z"
   },
   {
    "duration": 72,
    "start_time": "2023-07-21T13:52:06.982Z"
   },
   {
    "duration": 426,
    "start_time": "2023-07-21T13:52:07.055Z"
   },
   {
    "duration": 54,
    "start_time": "2023-07-21T13:52:07.483Z"
   },
   {
    "duration": 35,
    "start_time": "2023-07-21T13:52:07.539Z"
   },
   {
    "duration": 700,
    "start_time": "2023-07-21T13:52:07.576Z"
   },
   {
    "duration": 56,
    "start_time": "2023-07-21T13:52:08.277Z"
   },
   {
    "duration": 57,
    "start_time": "2023-07-21T13:52:08.335Z"
   },
   {
    "duration": 36,
    "start_time": "2023-07-21T13:52:08.394Z"
   },
   {
    "duration": 62,
    "start_time": "2023-07-21T13:52:08.432Z"
   },
   {
    "duration": 5,
    "start_time": "2023-07-21T13:52:08.496Z"
   },
   {
    "duration": 29,
    "start_time": "2023-07-21T13:52:08.502Z"
   },
   {
    "duration": 153,
    "start_time": "2023-07-21T13:52:08.532Z"
   },
   {
    "duration": 145,
    "start_time": "2023-07-21T13:52:08.686Z"
   },
   {
    "duration": 39,
    "start_time": "2023-07-21T13:52:08.832Z"
   },
   {
    "duration": 37,
    "start_time": "2023-07-21T13:52:08.873Z"
   },
   {
    "duration": 93,
    "start_time": "2023-07-21T13:52:08.911Z"
   },
   {
    "duration": 25,
    "start_time": "2023-07-21T13:52:09.006Z"
   },
   {
    "duration": 33,
    "start_time": "2023-07-21T13:52:09.033Z"
   },
   {
    "duration": 0,
    "start_time": "2023-07-21T13:52:09.068Z"
   },
   {
    "duration": 0,
    "start_time": "2023-07-21T13:52:09.068Z"
   },
   {
    "duration": 0,
    "start_time": "2023-07-21T13:52:09.069Z"
   },
   {
    "duration": 0,
    "start_time": "2023-07-21T13:52:09.070Z"
   },
   {
    "duration": 0,
    "start_time": "2023-07-21T13:52:09.071Z"
   },
   {
    "duration": 0,
    "start_time": "2023-07-21T13:52:09.072Z"
   },
   {
    "duration": 0,
    "start_time": "2023-07-21T13:52:09.073Z"
   },
   {
    "duration": 0,
    "start_time": "2023-07-21T13:52:09.073Z"
   },
   {
    "duration": 0,
    "start_time": "2023-07-21T13:52:09.074Z"
   },
   {
    "duration": 0,
    "start_time": "2023-07-21T13:52:09.075Z"
   },
   {
    "duration": 0,
    "start_time": "2023-07-21T13:52:09.076Z"
   },
   {
    "duration": 0,
    "start_time": "2023-07-21T13:52:09.076Z"
   },
   {
    "duration": 0,
    "start_time": "2023-07-21T13:52:09.077Z"
   },
   {
    "duration": 0,
    "start_time": "2023-07-21T13:52:09.078Z"
   },
   {
    "duration": 3,
    "start_time": "2023-07-21T13:52:40.299Z"
   },
   {
    "duration": 684,
    "start_time": "2023-07-21T13:52:40.316Z"
   },
   {
    "duration": 27,
    "start_time": "2023-07-21T13:52:41.003Z"
   },
   {
    "duration": 105,
    "start_time": "2023-07-21T13:52:41.033Z"
   },
   {
    "duration": 93,
    "start_time": "2023-07-21T13:52:41.140Z"
   },
   {
    "duration": 34,
    "start_time": "2023-07-21T13:52:41.235Z"
   },
   {
    "duration": 710,
    "start_time": "2023-07-21T13:52:41.270Z"
   },
   {
    "duration": 1753,
    "start_time": "2023-07-21T13:52:41.982Z"
   },
   {
    "duration": 420,
    "start_time": "2023-07-21T13:52:43.736Z"
   },
   {
    "duration": 108,
    "start_time": "2023-07-21T13:52:44.158Z"
   },
   {
    "duration": 785,
    "start_time": "2023-07-21T13:52:44.268Z"
   },
   {
    "duration": 99,
    "start_time": "2023-07-21T13:52:45.055Z"
   },
   {
    "duration": 95,
    "start_time": "2023-07-21T13:52:45.156Z"
   },
   {
    "duration": 756,
    "start_time": "2023-07-21T13:52:45.252Z"
   },
   {
    "duration": 57,
    "start_time": "2023-07-21T13:52:46.011Z"
   },
   {
    "duration": 70,
    "start_time": "2023-07-21T13:52:46.070Z"
   },
   {
    "duration": 26,
    "start_time": "2023-07-21T13:52:46.141Z"
   },
   {
    "duration": 76,
    "start_time": "2023-07-21T13:52:46.169Z"
   },
   {
    "duration": 8,
    "start_time": "2023-07-21T13:52:46.246Z"
   },
   {
    "duration": 16,
    "start_time": "2023-07-21T13:52:46.255Z"
   },
   {
    "duration": 78,
    "start_time": "2023-07-21T13:52:46.272Z"
   },
   {
    "duration": 114,
    "start_time": "2023-07-21T13:52:46.351Z"
   },
   {
    "duration": 128,
    "start_time": "2023-07-21T13:52:46.466Z"
   },
   {
    "duration": 46,
    "start_time": "2023-07-21T13:52:46.595Z"
   },
   {
    "duration": 31,
    "start_time": "2023-07-21T13:52:46.643Z"
   },
   {
    "duration": 84,
    "start_time": "2023-07-21T13:52:46.676Z"
   },
   {
    "duration": 13,
    "start_time": "2023-07-21T13:52:46.762Z"
   },
   {
    "duration": 222,
    "start_time": "2023-07-21T13:52:46.777Z"
   },
   {
    "duration": 61,
    "start_time": "2023-07-21T13:52:47.000Z"
   },
   {
    "duration": 165,
    "start_time": "2023-07-21T13:52:47.062Z"
   },
   {
    "duration": 0,
    "start_time": "2023-07-21T13:52:47.230Z"
   },
   {
    "duration": 0,
    "start_time": "2023-07-21T13:52:47.231Z"
   },
   {
    "duration": 0,
    "start_time": "2023-07-21T13:52:47.232Z"
   },
   {
    "duration": 0,
    "start_time": "2023-07-21T13:52:47.233Z"
   },
   {
    "duration": 0,
    "start_time": "2023-07-21T13:52:47.234Z"
   },
   {
    "duration": 0,
    "start_time": "2023-07-21T13:52:47.235Z"
   },
   {
    "duration": 0,
    "start_time": "2023-07-21T13:52:47.236Z"
   },
   {
    "duration": 0,
    "start_time": "2023-07-21T13:52:47.237Z"
   },
   {
    "duration": 0,
    "start_time": "2023-07-21T13:52:47.237Z"
   },
   {
    "duration": 0,
    "start_time": "2023-07-21T13:52:47.238Z"
   },
   {
    "duration": 0,
    "start_time": "2023-07-21T13:52:47.239Z"
   },
   {
    "duration": 0,
    "start_time": "2023-07-21T13:52:47.240Z"
   },
   {
    "duration": 36,
    "start_time": "2023-07-21T13:53:24.232Z"
   },
   {
    "duration": 4,
    "start_time": "2023-07-21T13:53:42.032Z"
   },
   {
    "duration": 741,
    "start_time": "2023-07-21T13:53:42.120Z"
   },
   {
    "duration": 19,
    "start_time": "2023-07-21T13:53:42.862Z"
   },
   {
    "duration": 120,
    "start_time": "2023-07-21T13:53:42.882Z"
   },
   {
    "duration": 86,
    "start_time": "2023-07-21T13:53:43.004Z"
   },
   {
    "duration": 40,
    "start_time": "2023-07-21T13:53:43.092Z"
   },
   {
    "duration": 1504,
    "start_time": "2023-07-21T13:53:43.134Z"
   },
   {
    "duration": 1153,
    "start_time": "2023-07-21T13:53:44.640Z"
   },
   {
    "duration": 282,
    "start_time": "2023-07-21T13:53:45.795Z"
   },
   {
    "duration": 64,
    "start_time": "2023-07-21T13:53:46.079Z"
   },
   {
    "duration": 691,
    "start_time": "2023-07-21T13:53:46.145Z"
   },
   {
    "duration": 106,
    "start_time": "2023-07-21T13:53:46.837Z"
   },
   {
    "duration": 90,
    "start_time": "2023-07-21T13:53:46.945Z"
   },
   {
    "duration": 973,
    "start_time": "2023-07-21T13:53:47.037Z"
   },
   {
    "duration": 61,
    "start_time": "2023-07-21T13:53:48.011Z"
   },
   {
    "duration": 65,
    "start_time": "2023-07-21T13:53:48.074Z"
   },
   {
    "duration": 27,
    "start_time": "2023-07-21T13:53:48.141Z"
   },
   {
    "duration": 68,
    "start_time": "2023-07-21T13:53:48.170Z"
   },
   {
    "duration": 5,
    "start_time": "2023-07-21T13:53:48.239Z"
   },
   {
    "duration": 71,
    "start_time": "2023-07-21T13:53:48.245Z"
   },
   {
    "duration": 85,
    "start_time": "2023-07-21T13:53:48.318Z"
   },
   {
    "duration": 128,
    "start_time": "2023-07-21T13:53:48.404Z"
   },
   {
    "duration": 133,
    "start_time": "2023-07-21T13:53:48.534Z"
   },
   {
    "duration": 37,
    "start_time": "2023-07-21T13:53:48.669Z"
   },
   {
    "duration": 44,
    "start_time": "2023-07-21T13:53:48.720Z"
   },
   {
    "duration": 91,
    "start_time": "2023-07-21T13:53:48.765Z"
   },
   {
    "duration": 14,
    "start_time": "2023-07-21T13:53:48.857Z"
   },
   {
    "duration": 214,
    "start_time": "2023-07-21T13:53:48.872Z"
   },
   {
    "duration": 51,
    "start_time": "2023-07-21T13:53:49.089Z"
   },
   {
    "duration": 3,
    "start_time": "2023-07-21T13:53:49.141Z"
   },
   {
    "duration": 13,
    "start_time": "2023-07-21T13:53:49.145Z"
   },
   {
    "duration": 8,
    "start_time": "2023-07-21T13:53:49.159Z"
   },
   {
    "duration": 396,
    "start_time": "2023-07-21T13:53:49.168Z"
   },
   {
    "duration": 16,
    "start_time": "2023-07-21T13:53:49.565Z"
   },
   {
    "duration": 3,
    "start_time": "2023-07-21T13:53:49.583Z"
   },
   {
    "duration": 21348,
    "start_time": "2023-07-21T13:53:49.588Z"
   },
   {
    "duration": 52,
    "start_time": "2023-07-21T13:54:10.938Z"
   },
   {
    "duration": 4,
    "start_time": "2023-07-21T13:54:10.992Z"
   },
   {
    "duration": 2219,
    "start_time": "2023-07-21T16:27:22.315Z"
   },
   {
    "duration": 3667,
    "start_time": "2023-07-21T16:27:24.538Z"
   },
   {
    "duration": 44,
    "start_time": "2023-07-21T16:27:28.208Z"
   },
   {
    "duration": 171,
    "start_time": "2023-07-21T16:27:28.255Z"
   },
   {
    "duration": 133,
    "start_time": "2023-07-21T16:27:28.429Z"
   },
   {
    "duration": 63,
    "start_time": "2023-07-21T16:27:28.565Z"
   },
   {
    "duration": 1307,
    "start_time": "2023-07-21T16:27:28.630Z"
   },
   {
    "duration": 1199,
    "start_time": "2023-07-21T16:27:29.940Z"
   },
   {
    "duration": 456,
    "start_time": "2023-07-21T16:27:31.141Z"
   },
   {
    "duration": 104,
    "start_time": "2023-07-21T16:27:31.600Z"
   },
   {
    "duration": 827,
    "start_time": "2023-07-21T16:27:31.707Z"
   },
   {
    "duration": 85,
    "start_time": "2023-07-21T16:27:32.537Z"
   },
   {
    "duration": 67,
    "start_time": "2023-07-21T16:27:32.630Z"
   },
   {
    "duration": 960,
    "start_time": "2023-07-21T16:27:32.702Z"
   },
   {
    "duration": 71,
    "start_time": "2023-07-21T16:27:33.667Z"
   },
   {
    "duration": 103,
    "start_time": "2023-07-21T16:27:33.740Z"
   },
   {
    "duration": 38,
    "start_time": "2023-07-21T16:27:33.845Z"
   },
   {
    "duration": 107,
    "start_time": "2023-07-21T16:27:33.886Z"
   },
   {
    "duration": 10,
    "start_time": "2023-07-21T16:27:33.996Z"
   },
   {
    "duration": 161,
    "start_time": "2023-07-21T16:27:34.009Z"
   },
   {
    "duration": 154,
    "start_time": "2023-07-21T16:27:34.172Z"
   },
   {
    "duration": 123,
    "start_time": "2023-07-21T16:27:34.329Z"
   },
   {
    "duration": 207,
    "start_time": "2023-07-21T16:27:34.454Z"
   },
   {
    "duration": 196,
    "start_time": "2023-07-21T16:27:34.668Z"
   },
   {
    "duration": 70,
    "start_time": "2023-07-21T16:27:34.866Z"
   },
   {
    "duration": 79,
    "start_time": "2023-07-21T16:27:34.938Z"
   },
   {
    "duration": 119,
    "start_time": "2023-07-21T16:27:35.019Z"
   },
   {
    "duration": 50,
    "start_time": "2023-07-21T16:27:35.141Z"
   },
   {
    "duration": 273,
    "start_time": "2023-07-21T16:27:35.194Z"
   },
   {
    "duration": 139,
    "start_time": "2023-07-21T16:27:35.470Z"
   },
   {
    "duration": 6,
    "start_time": "2023-07-21T16:27:35.612Z"
   },
   {
    "duration": 25,
    "start_time": "2023-07-21T16:27:35.620Z"
   },
   {
    "duration": 45,
    "start_time": "2023-07-21T16:27:35.648Z"
   },
   {
    "duration": 586,
    "start_time": "2023-07-21T16:27:35.696Z"
   },
   {
    "duration": 23,
    "start_time": "2023-07-21T16:27:36.285Z"
   },
   {
    "duration": 6,
    "start_time": "2023-07-21T16:27:36.310Z"
   },
   {
    "duration": 31959,
    "start_time": "2023-07-21T16:27:36.318Z"
   },
   {
    "duration": 77,
    "start_time": "2023-07-21T16:28:08.280Z"
   },
   {
    "duration": 9,
    "start_time": "2023-07-21T16:28:08.359Z"
   },
   {
    "duration": 1892,
    "start_time": "2023-07-21T16:29:33.901Z"
   },
   {
    "duration": 2627,
    "start_time": "2023-07-21T16:29:35.795Z"
   },
   {
    "duration": 113,
    "start_time": "2023-07-21T16:29:38.468Z"
   },
   {
    "duration": 237,
    "start_time": "2023-07-21T16:29:38.583Z"
   },
   {
    "duration": 171,
    "start_time": "2023-07-21T16:29:38.823Z"
   },
   {
    "duration": 88,
    "start_time": "2023-07-21T16:29:38.996Z"
   },
   {
    "duration": 1382,
    "start_time": "2023-07-21T16:29:39.087Z"
   },
   {
    "duration": 1188,
    "start_time": "2023-07-21T16:29:40.473Z"
   },
   {
    "duration": 471,
    "start_time": "2023-07-21T16:29:41.663Z"
   },
   {
    "duration": 85,
    "start_time": "2023-07-21T16:29:42.136Z"
   },
   {
    "duration": 733,
    "start_time": "2023-07-21T16:29:42.224Z"
   },
   {
    "duration": 81,
    "start_time": "2023-07-21T16:29:42.959Z"
   },
   {
    "duration": 69,
    "start_time": "2023-07-21T16:29:43.042Z"
   },
   {
    "duration": 900,
    "start_time": "2023-07-21T16:29:43.117Z"
   },
   {
    "duration": 100,
    "start_time": "2023-07-21T16:29:44.020Z"
   },
   {
    "duration": 118,
    "start_time": "2023-07-21T16:29:44.124Z"
   },
   {
    "duration": 49,
    "start_time": "2023-07-21T16:29:44.244Z"
   },
   {
    "duration": 118,
    "start_time": "2023-07-21T16:29:44.298Z"
   },
   {
    "duration": 5,
    "start_time": "2023-07-21T16:29:44.418Z"
   },
   {
    "duration": 121,
    "start_time": "2023-07-21T16:29:44.426Z"
   },
   {
    "duration": 84,
    "start_time": "2023-07-21T16:29:44.550Z"
   },
   {
    "duration": 150,
    "start_time": "2023-07-21T16:29:44.636Z"
   },
   {
    "duration": 163,
    "start_time": "2023-07-21T16:29:44.789Z"
   },
   {
    "duration": 60,
    "start_time": "2023-07-21T16:29:44.954Z"
   },
   {
    "duration": 60,
    "start_time": "2023-07-21T16:29:45.016Z"
   },
   {
    "duration": 128,
    "start_time": "2023-07-21T16:29:45.078Z"
   },
   {
    "duration": 25,
    "start_time": "2023-07-21T16:29:45.209Z"
   },
   {
    "duration": 298,
    "start_time": "2023-07-21T16:29:45.237Z"
   },
   {
    "duration": 127,
    "start_time": "2023-07-21T16:29:45.538Z"
   },
   {
    "duration": 6,
    "start_time": "2023-07-21T16:29:45.668Z"
   },
   {
    "duration": 13,
    "start_time": "2023-07-21T16:29:45.676Z"
   },
   {
    "duration": 12,
    "start_time": "2023-07-21T16:29:45.691Z"
   },
   {
    "duration": 569,
    "start_time": "2023-07-21T16:29:45.705Z"
   },
   {
    "duration": 26,
    "start_time": "2023-07-21T16:29:46.276Z"
   },
   {
    "duration": 42,
    "start_time": "2023-07-21T16:29:46.304Z"
   },
   {
    "duration": 30406,
    "start_time": "2023-07-21T16:29:46.349Z"
   },
   {
    "duration": 74,
    "start_time": "2023-07-21T16:30:16.758Z"
   },
   {
    "duration": 19,
    "start_time": "2023-07-21T16:30:16.834Z"
   },
   {
    "duration": 642235,
    "start_time": "2023-07-21T16:30:16.855Z"
   },
   {
    "duration": 136,
    "start_time": "2023-07-21T16:40:59.092Z"
   },
   {
    "duration": 35,
    "start_time": "2023-07-21T16:40:59.233Z"
   },
   {
    "duration": 20,
    "start_time": "2023-07-21T16:40:59.271Z"
   },
   {
    "duration": 0,
    "start_time": "2023-07-21T16:40:59.298Z"
   },
   {
    "duration": 0,
    "start_time": "2023-07-21T16:40:59.299Z"
   },
   {
    "duration": 0,
    "start_time": "2023-07-21T16:40:59.301Z"
   },
   {
    "duration": 0,
    "start_time": "2023-07-21T16:40:59.303Z"
   },
   {
    "duration": 0,
    "start_time": "2023-07-21T16:40:59.304Z"
   },
   {
    "duration": 0,
    "start_time": "2023-07-21T16:40:59.306Z"
   },
   {
    "duration": 0,
    "start_time": "2023-07-21T16:40:59.307Z"
   },
   {
    "duration": 0,
    "start_time": "2023-07-21T16:40:59.309Z"
   },
   {
    "duration": 0,
    "start_time": "2023-07-21T16:40:59.368Z"
   },
   {
    "duration": 0,
    "start_time": "2023-07-21T16:40:59.370Z"
   },
   {
    "duration": 0,
    "start_time": "2023-07-21T16:40:59.371Z"
   },
   {
    "duration": 0,
    "start_time": "2023-07-21T16:40:59.374Z"
   },
   {
    "duration": 0,
    "start_time": "2023-07-21T16:40:59.375Z"
   },
   {
    "duration": 0,
    "start_time": "2023-07-21T16:40:59.377Z"
   },
   {
    "duration": 0,
    "start_time": "2023-07-21T16:40:59.378Z"
   },
   {
    "duration": 0,
    "start_time": "2023-07-21T16:40:59.380Z"
   },
   {
    "duration": 0,
    "start_time": "2023-07-21T16:40:59.380Z"
   },
   {
    "duration": 0,
    "start_time": "2023-07-21T16:40:59.382Z"
   },
   {
    "duration": 0,
    "start_time": "2023-07-21T16:40:59.383Z"
   },
   {
    "duration": 0,
    "start_time": "2023-07-21T16:40:59.384Z"
   },
   {
    "duration": 1,
    "start_time": "2023-07-21T16:40:59.385Z"
   },
   {
    "duration": 0,
    "start_time": "2023-07-21T16:40:59.387Z"
   },
   {
    "duration": 0,
    "start_time": "2023-07-21T16:40:59.388Z"
   },
   {
    "duration": 0,
    "start_time": "2023-07-21T16:40:59.390Z"
   },
   {
    "duration": 1,
    "start_time": "2023-07-21T16:40:59.391Z"
   },
   {
    "duration": 0,
    "start_time": "2023-07-21T16:40:59.393Z"
   },
   {
    "duration": 0,
    "start_time": "2023-07-21T16:40:59.395Z"
   },
   {
    "duration": 5,
    "start_time": "2023-07-21T16:41:07.812Z"
   },
   {
    "duration": 894,
    "start_time": "2023-07-21T16:41:07.820Z"
   },
   {
    "duration": 37,
    "start_time": "2023-07-21T16:41:08.718Z"
   },
   {
    "duration": 164,
    "start_time": "2023-07-21T16:41:08.759Z"
   },
   {
    "duration": 118,
    "start_time": "2023-07-21T16:41:08.925Z"
   },
   {
    "duration": 60,
    "start_time": "2023-07-21T16:41:09.045Z"
   },
   {
    "duration": 1209,
    "start_time": "2023-07-21T16:41:09.107Z"
   },
   {
    "duration": 1182,
    "start_time": "2023-07-21T16:41:10.318Z"
   },
   {
    "duration": 372,
    "start_time": "2023-07-21T16:41:11.502Z"
   },
   {
    "duration": 95,
    "start_time": "2023-07-21T16:41:11.878Z"
   },
   {
    "duration": 495,
    "start_time": "2023-07-21T16:41:11.975Z"
   },
   {
    "duration": 59,
    "start_time": "2023-07-21T16:41:12.472Z"
   },
   {
    "duration": 66,
    "start_time": "2023-07-21T16:41:12.533Z"
   },
   {
    "duration": 970,
    "start_time": "2023-07-21T16:41:12.601Z"
   },
   {
    "duration": 66,
    "start_time": "2023-07-21T16:41:13.573Z"
   },
   {
    "duration": 88,
    "start_time": "2023-07-21T16:41:13.641Z"
   },
   {
    "duration": 36,
    "start_time": "2023-07-21T16:41:13.731Z"
   },
   {
    "duration": 47,
    "start_time": "2023-07-21T16:41:13.770Z"
   },
   {
    "duration": 148,
    "start_time": "2023-07-21T16:41:13.820Z"
   },
   {
    "duration": 7,
    "start_time": "2023-07-21T16:41:13.970Z"
   },
   {
    "duration": 113,
    "start_time": "2023-07-21T16:41:13.980Z"
   },
   {
    "duration": 84,
    "start_time": "2023-07-21T16:41:14.096Z"
   },
   {
    "duration": 146,
    "start_time": "2023-07-21T16:41:14.182Z"
   },
   {
    "duration": 146,
    "start_time": "2023-07-21T16:41:14.330Z"
   },
   {
    "duration": 44,
    "start_time": "2023-07-21T16:41:14.478Z"
   },
   {
    "duration": 60,
    "start_time": "2023-07-21T16:41:14.524Z"
   },
   {
    "duration": 113,
    "start_time": "2023-07-21T16:41:14.585Z"
   },
   {
    "duration": 21,
    "start_time": "2023-07-21T16:41:14.701Z"
   },
   {
    "duration": 34,
    "start_time": "2023-07-21T16:42:16.043Z"
   },
   {
    "duration": 1885,
    "start_time": "2023-07-21T16:42:32.709Z"
   },
   {
    "duration": 36,
    "start_time": "2023-07-21T16:43:04.208Z"
   },
   {
    "duration": 27,
    "start_time": "2023-07-21T16:43:15.251Z"
   },
   {
    "duration": 55,
    "start_time": "2023-07-21T16:43:28.175Z"
   },
   {
    "duration": 45,
    "start_time": "2023-07-21T16:43:36.896Z"
   },
   {
    "duration": 6,
    "start_time": "2023-07-21T16:43:50.695Z"
   },
   {
    "duration": 869,
    "start_time": "2023-07-21T16:43:50.704Z"
   },
   {
    "duration": 26,
    "start_time": "2023-07-21T16:43:51.576Z"
   },
   {
    "duration": 230,
    "start_time": "2023-07-21T16:43:51.605Z"
   },
   {
    "duration": 154,
    "start_time": "2023-07-21T16:43:51.839Z"
   },
   {
    "duration": 93,
    "start_time": "2023-07-21T16:43:51.995Z"
   },
   {
    "duration": 2720,
    "start_time": "2023-07-21T16:43:52.090Z"
   },
   {
    "duration": 1496,
    "start_time": "2023-07-21T16:43:54.812Z"
   },
   {
    "duration": 478,
    "start_time": "2023-07-21T16:43:56.310Z"
   },
   {
    "duration": 107,
    "start_time": "2023-07-21T16:43:56.791Z"
   },
   {
    "duration": 673,
    "start_time": "2023-07-21T16:43:56.901Z"
   },
   {
    "duration": 95,
    "start_time": "2023-07-21T16:43:57.578Z"
   },
   {
    "duration": 45,
    "start_time": "2023-07-21T16:43:57.676Z"
   },
   {
    "duration": 763,
    "start_time": "2023-07-21T16:43:57.724Z"
   },
   {
    "duration": 63,
    "start_time": "2023-07-21T16:43:58.490Z"
   },
   {
    "duration": 74,
    "start_time": "2023-07-21T16:43:58.569Z"
   },
   {
    "duration": 38,
    "start_time": "2023-07-21T16:43:58.646Z"
   },
   {
    "duration": 88,
    "start_time": "2023-07-21T16:43:58.686Z"
   },
   {
    "duration": 98,
    "start_time": "2023-07-21T16:43:58.776Z"
   },
   {
    "duration": 5,
    "start_time": "2023-07-21T16:43:58.877Z"
   },
   {
    "duration": 130,
    "start_time": "2023-07-21T16:43:58.885Z"
   },
   {
    "duration": 72,
    "start_time": "2023-07-21T16:43:59.017Z"
   },
   {
    "duration": 144,
    "start_time": "2023-07-21T16:43:59.091Z"
   },
   {
    "duration": 154,
    "start_time": "2023-07-21T16:43:59.237Z"
   },
   {
    "duration": 80,
    "start_time": "2023-07-21T16:43:59.394Z"
   },
   {
    "duration": 43,
    "start_time": "2023-07-21T16:43:59.476Z"
   },
   {
    "duration": 122,
    "start_time": "2023-07-21T16:43:59.522Z"
   },
   {
    "duration": 28,
    "start_time": "2023-07-21T16:43:59.646Z"
   },
   {
    "duration": 26,
    "start_time": "2023-07-21T16:44:31.127Z"
   },
   {
    "duration": 14,
    "start_time": "2023-07-21T16:44:47.158Z"
   },
   {
    "duration": 17,
    "start_time": "2023-07-21T16:44:51.367Z"
   },
   {
    "duration": 13,
    "start_time": "2023-07-21T16:44:54.209Z"
   },
   {
    "duration": 18,
    "start_time": "2023-07-21T16:44:55.005Z"
   },
   {
    "duration": 14,
    "start_time": "2023-07-21T16:44:55.754Z"
   },
   {
    "duration": 16,
    "start_time": "2023-07-21T16:44:56.350Z"
   },
   {
    "duration": 12,
    "start_time": "2023-07-21T16:44:56.815Z"
   },
   {
    "duration": 12,
    "start_time": "2023-07-21T16:44:57.193Z"
   },
   {
    "duration": 16,
    "start_time": "2023-07-21T16:44:57.527Z"
   },
   {
    "duration": 16,
    "start_time": "2023-07-21T16:44:57.848Z"
   },
   {
    "duration": 14,
    "start_time": "2023-07-21T16:44:58.127Z"
   },
   {
    "duration": 18,
    "start_time": "2023-07-21T16:44:58.382Z"
   },
   {
    "duration": 19,
    "start_time": "2023-07-21T16:44:58.640Z"
   },
   {
    "duration": 43,
    "start_time": "2023-07-21T16:45:24.130Z"
   },
   {
    "duration": 1780,
    "start_time": "2023-07-21T16:45:37.161Z"
   },
   {
    "duration": 1920,
    "start_time": "2023-07-21T16:45:46.219Z"
   },
   {
    "duration": 7,
    "start_time": "2023-07-21T16:46:04.068Z"
   },
   {
    "duration": 969,
    "start_time": "2023-07-21T16:46:04.078Z"
   },
   {
    "duration": 30,
    "start_time": "2023-07-21T16:46:05.049Z"
   },
   {
    "duration": 167,
    "start_time": "2023-07-21T16:46:05.081Z"
   },
   {
    "duration": 144,
    "start_time": "2023-07-21T16:46:05.251Z"
   },
   {
    "duration": 97,
    "start_time": "2023-07-21T16:46:05.397Z"
   },
   {
    "duration": 2444,
    "start_time": "2023-07-21T16:46:05.496Z"
   },
   {
    "duration": 1032,
    "start_time": "2023-07-21T16:46:07.942Z"
   },
   {
    "duration": 370,
    "start_time": "2023-07-21T16:46:08.976Z"
   },
   {
    "duration": 83,
    "start_time": "2023-07-21T16:46:09.350Z"
   },
   {
    "duration": 485,
    "start_time": "2023-07-21T16:46:09.435Z"
   },
   {
    "duration": 75,
    "start_time": "2023-07-21T16:46:09.922Z"
   },
   {
    "duration": 47,
    "start_time": "2023-07-21T16:46:09.999Z"
   },
   {
    "duration": 743,
    "start_time": "2023-07-21T16:46:10.048Z"
   },
   {
    "duration": 63,
    "start_time": "2023-07-21T16:46:10.793Z"
   },
   {
    "duration": 68,
    "start_time": "2023-07-21T16:46:10.868Z"
   },
   {
    "duration": 44,
    "start_time": "2023-07-21T16:46:10.938Z"
   },
   {
    "duration": 65,
    "start_time": "2023-07-21T16:46:10.984Z"
   },
   {
    "duration": 90,
    "start_time": "2023-07-21T16:46:11.051Z"
   },
   {
    "duration": 51,
    "start_time": "2023-07-21T16:46:39.801Z"
   },
   {
    "duration": 55,
    "start_time": "2023-07-21T16:46:58.984Z"
   },
   {
    "duration": 54,
    "start_time": "2023-07-21T16:47:34.176Z"
   },
   {
    "duration": 20,
    "start_time": "2023-07-21T16:47:37.643Z"
   },
   {
    "duration": 29,
    "start_time": "2023-07-21T16:47:44.791Z"
   },
   {
    "duration": 36,
    "start_time": "2023-07-21T16:48:12.096Z"
   },
   {
    "duration": 31,
    "start_time": "2023-07-21T16:48:16.650Z"
   },
   {
    "duration": 83,
    "start_time": "2023-07-21T16:48:23.064Z"
   },
   {
    "duration": 93,
    "start_time": "2023-07-21T16:48:34.180Z"
   },
   {
    "duration": 61,
    "start_time": "2023-07-21T16:48:36.679Z"
   },
   {
    "duration": 24,
    "start_time": "2023-07-21T16:49:22.420Z"
   },
   {
    "duration": 31,
    "start_time": "2023-07-21T16:50:31.475Z"
   },
   {
    "duration": 21,
    "start_time": "2023-07-21T16:50:41.209Z"
   },
   {
    "duration": 28,
    "start_time": "2023-07-21T16:53:05.259Z"
   },
   {
    "duration": 38,
    "start_time": "2023-07-21T16:53:59.798Z"
   },
   {
    "duration": 30,
    "start_time": "2023-07-21T16:54:06.370Z"
   },
   {
    "duration": 29,
    "start_time": "2023-07-21T16:54:43.730Z"
   },
   {
    "duration": 66,
    "start_time": "2023-07-21T16:55:16.160Z"
   },
   {
    "duration": 6,
    "start_time": "2023-07-21T16:55:32.028Z"
   },
   {
    "duration": 992,
    "start_time": "2023-07-21T16:55:32.037Z"
   },
   {
    "duration": 36,
    "start_time": "2023-07-21T16:55:33.031Z"
   },
   {
    "duration": 164,
    "start_time": "2023-07-21T16:55:33.071Z"
   },
   {
    "duration": 132,
    "start_time": "2023-07-21T16:55:33.238Z"
   },
   {
    "duration": 44,
    "start_time": "2023-07-21T16:55:33.372Z"
   },
   {
    "duration": 1460,
    "start_time": "2023-07-21T16:55:33.418Z"
   },
   {
    "duration": 1004,
    "start_time": "2023-07-21T16:55:34.880Z"
   },
   {
    "duration": 377,
    "start_time": "2023-07-21T16:55:35.887Z"
   },
   {
    "duration": 69,
    "start_time": "2023-07-21T16:55:36.267Z"
   },
   {
    "duration": 479,
    "start_time": "2023-07-21T16:55:36.338Z"
   },
   {
    "duration": 81,
    "start_time": "2023-07-21T16:55:36.819Z"
   },
   {
    "duration": 65,
    "start_time": "2023-07-21T16:55:36.902Z"
   },
   {
    "duration": 712,
    "start_time": "2023-07-21T16:55:36.971Z"
   },
   {
    "duration": 69,
    "start_time": "2023-07-21T16:55:37.686Z"
   },
   {
    "duration": 101,
    "start_time": "2023-07-21T16:55:37.769Z"
   },
   {
    "duration": 35,
    "start_time": "2023-07-21T16:55:37.872Z"
   },
   {
    "duration": 29,
    "start_time": "2023-07-21T16:55:37.910Z"
   },
   {
    "duration": 52,
    "start_time": "2023-07-21T17:05:47.062Z"
   },
   {
    "duration": 53,
    "start_time": "2023-07-21T17:06:03.026Z"
   },
   {
    "duration": 53,
    "start_time": "2023-07-21T17:06:48.758Z"
   },
   {
    "duration": 62,
    "start_time": "2023-07-21T17:07:47.757Z"
   },
   {
    "duration": 4,
    "start_time": "2023-07-21T17:08:03.134Z"
   },
   {
    "duration": 7,
    "start_time": "2023-07-21T17:08:40.028Z"
   },
   {
    "duration": 28,
    "start_time": "2023-07-21T17:08:50.316Z"
   },
   {
    "duration": 43,
    "start_time": "2023-07-21T17:10:15.727Z"
   },
   {
    "duration": 19,
    "start_time": "2023-07-21T17:10:31.475Z"
   },
   {
    "duration": 53,
    "start_time": "2023-07-21T17:10:34.275Z"
   },
   {
    "duration": 7,
    "start_time": "2023-07-21T17:10:35.452Z"
   },
   {
    "duration": 45,
    "start_time": "2023-07-21T17:10:37.363Z"
   },
   {
    "duration": 223,
    "start_time": "2023-07-21T17:10:40.428Z"
   },
   {
    "duration": 226,
    "start_time": "2023-07-21T17:11:37.217Z"
   },
   {
    "duration": 38,
    "start_time": "2023-07-21T17:11:39.139Z"
   },
   {
    "duration": 201,
    "start_time": "2023-07-21T17:16:42.950Z"
   },
   {
    "duration": 230,
    "start_time": "2023-07-21T17:17:25.532Z"
   },
   {
    "duration": 50,
    "start_time": "2023-07-21T17:17:27.146Z"
   },
   {
    "duration": 216,
    "start_time": "2023-07-21T17:18:31.818Z"
   },
   {
    "duration": 1778,
    "start_time": "2023-07-21T17:21:35.054Z"
   },
   {
    "duration": 965,
    "start_time": "2023-07-21T17:21:36.834Z"
   },
   {
    "duration": 33,
    "start_time": "2023-07-21T17:21:37.804Z"
   },
   {
    "duration": 151,
    "start_time": "2023-07-21T17:21:37.839Z"
   },
   {
    "duration": 135,
    "start_time": "2023-07-21T17:21:37.992Z"
   },
   {
    "duration": 59,
    "start_time": "2023-07-21T17:21:38.128Z"
   },
   {
    "duration": 1133,
    "start_time": "2023-07-21T17:21:38.189Z"
   },
   {
    "duration": 1880,
    "start_time": "2023-07-21T17:21:39.325Z"
   },
   {
    "duration": 589,
    "start_time": "2023-07-21T17:21:41.207Z"
   },
   {
    "duration": 178,
    "start_time": "2023-07-21T17:21:41.798Z"
   },
   {
    "duration": 1491,
    "start_time": "2023-07-21T17:21:41.978Z"
   },
   {
    "duration": 134,
    "start_time": "2023-07-21T17:21:43.471Z"
   },
   {
    "duration": 100,
    "start_time": "2023-07-21T17:21:43.606Z"
   },
   {
    "duration": 880,
    "start_time": "2023-07-21T17:21:43.709Z"
   },
   {
    "duration": 57,
    "start_time": "2023-07-21T17:21:44.591Z"
   },
   {
    "duration": 84,
    "start_time": "2023-07-21T17:21:44.650Z"
   },
   {
    "duration": 56,
    "start_time": "2023-07-21T17:21:44.736Z"
   },
   {
    "duration": 29,
    "start_time": "2023-07-21T17:21:44.794Z"
   },
   {
    "duration": 92,
    "start_time": "2023-07-21T17:21:44.824Z"
   },
   {
    "duration": 4,
    "start_time": "2023-07-21T17:21:44.918Z"
   },
   {
    "duration": 98,
    "start_time": "2023-07-21T17:21:44.924Z"
   },
   {
    "duration": 83,
    "start_time": "2023-07-21T17:21:45.024Z"
   },
   {
    "duration": 140,
    "start_time": "2023-07-21T17:21:45.109Z"
   },
   {
    "duration": 151,
    "start_time": "2023-07-21T17:21:45.250Z"
   },
   {
    "duration": 42,
    "start_time": "2023-07-21T17:21:45.403Z"
   },
   {
    "duration": 52,
    "start_time": "2023-07-21T17:21:45.447Z"
   },
   {
    "duration": 122,
    "start_time": "2023-07-21T17:21:45.501Z"
   },
   {
    "duration": 19,
    "start_time": "2023-07-21T17:21:45.625Z"
   },
   {
    "duration": 30,
    "start_time": "2023-07-21T17:21:45.646Z"
   },
   {
    "duration": 62,
    "start_time": "2023-07-21T17:21:45.678Z"
   },
   {
    "duration": 6,
    "start_time": "2023-07-21T17:21:45.742Z"
   },
   {
    "duration": 257,
    "start_time": "2023-07-21T17:21:45.749Z"
   },
   {
    "duration": 175,
    "start_time": "2023-07-21T17:21:46.008Z"
   },
   {
    "duration": 0,
    "start_time": "2023-07-21T17:21:46.185Z"
   },
   {
    "duration": 0,
    "start_time": "2023-07-21T17:21:46.187Z"
   },
   {
    "duration": 0,
    "start_time": "2023-07-21T17:21:46.189Z"
   },
   {
    "duration": 0,
    "start_time": "2023-07-21T17:21:46.190Z"
   },
   {
    "duration": 0,
    "start_time": "2023-07-21T17:21:46.191Z"
   },
   {
    "duration": 0,
    "start_time": "2023-07-21T17:21:46.191Z"
   },
   {
    "duration": 0,
    "start_time": "2023-07-21T17:21:46.193Z"
   },
   {
    "duration": 0,
    "start_time": "2023-07-21T17:21:46.194Z"
   },
   {
    "duration": 0,
    "start_time": "2023-07-21T17:21:46.195Z"
   },
   {
    "duration": 0,
    "start_time": "2023-07-21T17:21:46.197Z"
   },
   {
    "duration": 0,
    "start_time": "2023-07-21T17:21:46.198Z"
   },
   {
    "duration": 0,
    "start_time": "2023-07-21T17:21:46.199Z"
   },
   {
    "duration": 0,
    "start_time": "2023-07-21T17:21:46.201Z"
   },
   {
    "duration": 58,
    "start_time": "2023-07-21T17:27:55.017Z"
   },
   {
    "duration": 5,
    "start_time": "2023-07-21T17:27:56.703Z"
   },
   {
    "duration": 4,
    "start_time": "2023-07-21T17:28:44.835Z"
   },
   {
    "duration": 5,
    "start_time": "2023-07-21T17:28:46.739Z"
   },
   {
    "duration": 4,
    "start_time": "2023-07-21T17:29:02.851Z"
   },
   {
    "duration": 19,
    "start_time": "2023-07-21T17:29:12.935Z"
   },
   {
    "duration": 119,
    "start_time": "2023-07-21T17:29:38.646Z"
   },
   {
    "duration": 11,
    "start_time": "2023-07-21T17:29:58.400Z"
   },
   {
    "duration": 3,
    "start_time": "2023-07-21T17:30:14.397Z"
   },
   {
    "duration": 34,
    "start_time": "2023-07-21T17:30:23.078Z"
   },
   {
    "duration": 9,
    "start_time": "2023-07-21T17:30:41.369Z"
   },
   {
    "duration": 118,
    "start_time": "2023-07-21T17:30:45.378Z"
   },
   {
    "duration": 402,
    "start_time": "2023-07-21T17:30:51.626Z"
   },
   {
    "duration": 1707,
    "start_time": "2023-07-21T17:35:30.927Z"
   },
   {
    "duration": 963,
    "start_time": "2023-07-21T17:35:32.636Z"
   },
   {
    "duration": 32,
    "start_time": "2023-07-21T17:35:33.601Z"
   },
   {
    "duration": 151,
    "start_time": "2023-07-21T17:35:33.636Z"
   },
   {
    "duration": 124,
    "start_time": "2023-07-21T17:35:33.789Z"
   },
   {
    "duration": 68,
    "start_time": "2023-07-21T17:35:33.918Z"
   },
   {
    "duration": 1169,
    "start_time": "2023-07-21T17:35:33.989Z"
   },
   {
    "duration": 1008,
    "start_time": "2023-07-21T17:35:35.166Z"
   },
   {
    "duration": 363,
    "start_time": "2023-07-21T17:35:36.176Z"
   },
   {
    "duration": 78,
    "start_time": "2023-07-21T17:35:36.542Z"
   },
   {
    "duration": 648,
    "start_time": "2023-07-21T17:35:36.621Z"
   },
   {
    "duration": 59,
    "start_time": "2023-07-21T17:35:37.271Z"
   },
   {
    "duration": 69,
    "start_time": "2023-07-21T17:35:37.332Z"
   },
   {
    "duration": 722,
    "start_time": "2023-07-21T17:35:37.403Z"
   },
   {
    "duration": 66,
    "start_time": "2023-07-21T17:35:38.128Z"
   },
   {
    "duration": 81,
    "start_time": "2023-07-21T17:35:38.195Z"
   },
   {
    "duration": 35,
    "start_time": "2023-07-21T17:35:38.278Z"
   },
   {
    "duration": 30,
    "start_time": "2023-07-21T17:35:38.315Z"
   },
   {
    "duration": 71,
    "start_time": "2023-07-21T17:35:38.368Z"
   },
   {
    "duration": 4,
    "start_time": "2023-07-21T17:35:38.441Z"
   },
   {
    "duration": 122,
    "start_time": "2023-07-21T17:35:38.447Z"
   },
   {
    "duration": 77,
    "start_time": "2023-07-21T17:35:38.572Z"
   },
   {
    "duration": 142,
    "start_time": "2023-07-21T17:35:38.652Z"
   },
   {
    "duration": 156,
    "start_time": "2023-07-21T17:35:38.795Z"
   },
   {
    "duration": 47,
    "start_time": "2023-07-21T17:35:38.953Z"
   },
   {
    "duration": 66,
    "start_time": "2023-07-21T17:35:39.002Z"
   },
   {
    "duration": 110,
    "start_time": "2023-07-21T17:35:39.070Z"
   },
   {
    "duration": 20,
    "start_time": "2023-07-21T17:35:39.184Z"
   },
   {
    "duration": 11,
    "start_time": "2023-07-21T17:35:39.205Z"
   },
   {
    "duration": 81,
    "start_time": "2023-07-21T17:35:39.217Z"
   },
   {
    "duration": 5,
    "start_time": "2023-07-21T17:35:39.300Z"
   },
   {
    "duration": 10,
    "start_time": "2023-07-21T17:35:39.307Z"
   },
   {
    "duration": 4,
    "start_time": "2023-07-21T17:35:39.319Z"
   },
   {
    "duration": 20,
    "start_time": "2023-07-21T17:35:39.325Z"
   },
   {
    "duration": 122,
    "start_time": "2023-07-21T17:35:39.347Z"
   },
   {
    "duration": 13,
    "start_time": "2023-07-21T17:35:39.471Z"
   },
   {
    "duration": 4,
    "start_time": "2023-07-21T17:35:39.486Z"
   },
   {
    "duration": 44,
    "start_time": "2023-07-21T17:35:39.492Z"
   },
   {
    "duration": 32,
    "start_time": "2023-07-21T17:35:39.539Z"
   },
   {
    "duration": 435,
    "start_time": "2023-07-21T17:35:39.573Z"
   },
   {
    "duration": 5,
    "start_time": "2023-07-21T17:35:40.010Z"
   },
   {
    "duration": 11,
    "start_time": "2023-07-21T17:35:40.016Z"
   },
   {
    "duration": 18,
    "start_time": "2023-07-21T17:35:40.029Z"
   },
   {
    "duration": 371,
    "start_time": "2023-07-21T17:35:40.049Z"
   },
   {
    "duration": 20,
    "start_time": "2023-07-21T17:35:40.422Z"
   },
   {
    "duration": 26,
    "start_time": "2023-07-21T17:35:40.444Z"
   },
   {
    "duration": 21796,
    "start_time": "2023-07-21T17:35:40.473Z"
   },
   {
    "duration": 65,
    "start_time": "2023-07-21T17:36:02.271Z"
   },
   {
    "duration": 97,
    "start_time": "2023-07-21T17:36:02.338Z"
   },
   {
    "duration": 1672,
    "start_time": "2023-07-21T17:42:08.485Z"
   },
   {
    "duration": 954,
    "start_time": "2023-07-21T17:42:10.159Z"
   },
   {
    "duration": 54,
    "start_time": "2023-07-21T17:42:11.115Z"
   },
   {
    "duration": 130,
    "start_time": "2023-07-21T17:42:11.171Z"
   },
   {
    "duration": 118,
    "start_time": "2023-07-21T17:42:11.303Z"
   },
   {
    "duration": 74,
    "start_time": "2023-07-21T17:42:11.424Z"
   },
   {
    "duration": 1362,
    "start_time": "2023-07-21T17:42:11.501Z"
   },
   {
    "duration": 1158,
    "start_time": "2023-07-21T17:42:12.870Z"
   },
   {
    "duration": 493,
    "start_time": "2023-07-21T17:42:14.032Z"
   },
   {
    "duration": 80,
    "start_time": "2023-07-21T17:42:14.529Z"
   },
   {
    "duration": 624,
    "start_time": "2023-07-21T17:42:14.611Z"
   },
   {
    "duration": 73,
    "start_time": "2023-07-21T17:42:15.238Z"
   },
   {
    "duration": 66,
    "start_time": "2023-07-21T17:42:15.314Z"
   },
   {
    "duration": 731,
    "start_time": "2023-07-21T17:42:15.382Z"
   },
   {
    "duration": 77,
    "start_time": "2023-07-21T17:42:16.116Z"
   },
   {
    "duration": 82,
    "start_time": "2023-07-21T17:42:16.195Z"
   },
   {
    "duration": 38,
    "start_time": "2023-07-21T17:42:16.280Z"
   },
   {
    "duration": 27,
    "start_time": "2023-07-21T17:42:16.320Z"
   },
   {
    "duration": 67,
    "start_time": "2023-07-21T17:42:16.368Z"
   },
   {
    "duration": 4,
    "start_time": "2023-07-21T17:42:16.436Z"
   },
   {
    "duration": 103,
    "start_time": "2023-07-21T17:42:16.442Z"
   },
   {
    "duration": 69,
    "start_time": "2023-07-21T17:42:16.547Z"
   },
   {
    "duration": 141,
    "start_time": "2023-07-21T17:42:16.617Z"
   },
   {
    "duration": 152,
    "start_time": "2023-07-21T17:42:16.759Z"
   },
   {
    "duration": 59,
    "start_time": "2023-07-21T17:42:16.914Z"
   },
   {
    "duration": 44,
    "start_time": "2023-07-21T17:42:16.975Z"
   },
   {
    "duration": 123,
    "start_time": "2023-07-21T17:42:17.021Z"
   },
   {
    "duration": 27,
    "start_time": "2023-07-21T17:42:17.149Z"
   },
   {
    "duration": 12,
    "start_time": "2023-07-21T17:42:17.178Z"
   },
   {
    "duration": 104,
    "start_time": "2023-07-21T17:42:17.193Z"
   },
   {
    "duration": 6,
    "start_time": "2023-07-21T17:42:17.299Z"
   },
   {
    "duration": 8,
    "start_time": "2023-07-21T17:42:17.307Z"
   },
   {
    "duration": 4,
    "start_time": "2023-07-21T17:42:17.318Z"
   },
   {
    "duration": 19,
    "start_time": "2023-07-21T17:42:17.324Z"
   },
   {
    "duration": 130,
    "start_time": "2023-07-21T17:42:17.368Z"
   },
   {
    "duration": 12,
    "start_time": "2023-07-21T17:42:17.500Z"
   },
   {
    "duration": 4,
    "start_time": "2023-07-21T17:42:17.513Z"
   },
   {
    "duration": 59,
    "start_time": "2023-07-21T17:42:17.518Z"
   },
   {
    "duration": 9,
    "start_time": "2023-07-21T17:42:17.579Z"
   },
   {
    "duration": 427,
    "start_time": "2023-07-21T17:42:17.590Z"
   },
   {
    "duration": 5,
    "start_time": "2023-07-21T17:42:18.019Z"
   },
   {
    "duration": 18,
    "start_time": "2023-07-21T17:42:18.027Z"
   },
   {
    "duration": 18,
    "start_time": "2023-07-21T17:42:18.047Z"
   },
   {
    "duration": 377,
    "start_time": "2023-07-21T17:42:18.067Z"
   },
   {
    "duration": 27,
    "start_time": "2023-07-21T17:42:18.446Z"
   },
   {
    "duration": 6,
    "start_time": "2023-07-21T17:42:18.475Z"
   },
   {
    "duration": 24063,
    "start_time": "2023-07-21T17:42:18.483Z"
   },
   {
    "duration": 54,
    "start_time": "2023-07-21T17:42:42.550Z"
   },
   {
    "duration": 6,
    "start_time": "2023-07-21T17:42:42.606Z"
   },
   {
    "duration": 15,
    "start_time": "2023-07-21T17:42:42.614Z"
   },
   {
    "duration": 21,
    "start_time": "2023-07-21T17:42:42.631Z"
   },
   {
    "duration": 28,
    "start_time": "2023-07-21T17:42:42.654Z"
   },
   {
    "duration": 21,
    "start_time": "2023-07-21T17:42:42.683Z"
   },
   {
    "duration": 21507,
    "start_time": "2023-07-21T17:42:42.706Z"
   },
   {
    "duration": 52,
    "start_time": "2023-07-21T17:43:04.215Z"
   },
   {
    "duration": 6,
    "start_time": "2023-07-21T17:43:04.269Z"
   },
   {
    "duration": 456280,
    "start_time": "2023-07-21T17:43:58.294Z"
   },
   {
    "duration": 530,
    "start_time": "2023-07-21T17:52:05.137Z"
   },
   {
    "duration": 5,
    "start_time": "2023-07-21T17:52:13.873Z"
   },
   {
    "duration": 14,
    "start_time": "2023-07-21T17:52:23.049Z"
   },
   {
    "duration": 230,
    "start_time": "2023-07-21T17:54:44.285Z"
   },
   {
    "duration": 40545,
    "start_time": "2023-07-21T17:54:56.282Z"
   },
   {
    "duration": 326,
    "start_time": "2023-07-21T17:55:45.902Z"
   },
   {
    "duration": 15,
    "start_time": "2023-07-21T17:55:50.509Z"
   },
   {
    "duration": 5,
    "start_time": "2023-07-21T17:55:52.589Z"
   },
   {
    "duration": 4,
    "start_time": "2023-07-21T18:00:52.404Z"
   },
   {
    "duration": 4,
    "start_time": "2023-07-21T18:01:04.151Z"
   },
   {
    "duration": 25,
    "start_time": "2023-07-21T18:01:27.020Z"
   },
   {
    "duration": 17,
    "start_time": "2023-07-21T18:01:36.599Z"
   },
   {
    "duration": 12,
    "start_time": "2023-07-21T18:01:43.550Z"
   },
   {
    "duration": 13,
    "start_time": "2023-07-21T18:02:35.276Z"
   },
   {
    "duration": 43,
    "start_time": "2023-07-21T18:02:40.120Z"
   },
   {
    "duration": 5,
    "start_time": "2023-07-21T18:03:06.539Z"
   },
   {
    "duration": 911,
    "start_time": "2023-07-21T18:03:06.556Z"
   },
   {
    "duration": 23,
    "start_time": "2023-07-21T18:03:07.469Z"
   },
   {
    "duration": 135,
    "start_time": "2023-07-21T18:03:07.494Z"
   },
   {
    "duration": 96,
    "start_time": "2023-07-21T18:03:07.632Z"
   },
   {
    "duration": 57,
    "start_time": "2023-07-21T18:03:07.730Z"
   },
   {
    "duration": 1110,
    "start_time": "2023-07-21T18:03:07.789Z"
   },
   {
    "duration": 991,
    "start_time": "2023-07-21T18:03:08.901Z"
   },
   {
    "duration": 360,
    "start_time": "2023-07-21T18:03:09.894Z"
   },
   {
    "duration": 75,
    "start_time": "2023-07-21T18:03:10.255Z"
   },
   {
    "duration": 468,
    "start_time": "2023-07-21T18:03:10.332Z"
   },
   {
    "duration": 74,
    "start_time": "2023-07-21T18:03:10.801Z"
   },
   {
    "duration": 48,
    "start_time": "2023-07-21T18:03:10.877Z"
   },
   {
    "duration": 912,
    "start_time": "2023-07-21T18:03:10.927Z"
   },
   {
    "duration": 65,
    "start_time": "2023-07-21T18:03:11.840Z"
   },
   {
    "duration": 73,
    "start_time": "2023-07-21T18:03:11.907Z"
   },
   {
    "duration": 41,
    "start_time": "2023-07-21T18:03:11.981Z"
   },
   {
    "duration": 20,
    "start_time": "2023-07-21T18:03:12.024Z"
   },
   {
    "duration": 80,
    "start_time": "2023-07-21T18:03:12.045Z"
   },
   {
    "duration": 19,
    "start_time": "2023-07-21T18:03:33.362Z"
   },
   {
    "duration": 17,
    "start_time": "2023-07-21T18:04:12.396Z"
   },
   {
    "duration": 72,
    "start_time": "2023-07-21T18:04:16.215Z"
   },
   {
    "duration": 93,
    "start_time": "2023-07-21T18:04:24.946Z"
   },
   {
    "duration": 79,
    "start_time": "2023-07-21T18:04:26.524Z"
   },
   {
    "duration": 5,
    "start_time": "2023-07-21T18:05:14.355Z"
   },
   {
    "duration": 4,
    "start_time": "2023-07-21T18:05:44.918Z"
   },
   {
    "duration": 4,
    "start_time": "2023-07-21T18:05:59.325Z"
   },
   {
    "duration": 141,
    "start_time": "2023-07-21T18:06:42.949Z"
   },
   {
    "duration": 206,
    "start_time": "2023-07-21T18:07:53.737Z"
   },
   {
    "duration": 122,
    "start_time": "2023-07-21T18:08:39.647Z"
   },
   {
    "duration": 42030,
    "start_time": "2023-07-21T18:11:51.724Z"
   },
   {
    "duration": 112,
    "start_time": "2023-07-21T18:16:20.545Z"
   },
   {
    "duration": 1680,
    "start_time": "2023-07-21T18:17:10.603Z"
   },
   {
    "duration": 949,
    "start_time": "2023-07-21T18:17:12.286Z"
   },
   {
    "duration": 38,
    "start_time": "2023-07-21T18:17:13.237Z"
   },
   {
    "duration": 139,
    "start_time": "2023-07-21T18:17:13.277Z"
   },
   {
    "duration": 111,
    "start_time": "2023-07-21T18:17:13.418Z"
   },
   {
    "duration": 62,
    "start_time": "2023-07-21T18:17:13.531Z"
   },
   {
    "duration": 1149,
    "start_time": "2023-07-21T18:17:13.594Z"
   },
   {
    "duration": 1037,
    "start_time": "2023-07-21T18:17:14.745Z"
   },
   {
    "duration": 363,
    "start_time": "2023-07-21T18:17:15.784Z"
   },
   {
    "duration": 83,
    "start_time": "2023-07-21T18:17:16.149Z"
   },
   {
    "duration": 616,
    "start_time": "2023-07-21T18:17:16.233Z"
   },
   {
    "duration": 68,
    "start_time": "2023-07-21T18:17:16.851Z"
   },
   {
    "duration": 66,
    "start_time": "2023-07-21T18:17:16.921Z"
   },
   {
    "duration": 722,
    "start_time": "2023-07-21T18:17:16.989Z"
   },
   {
    "duration": 69,
    "start_time": "2023-07-21T18:17:17.713Z"
   },
   {
    "duration": 66,
    "start_time": "2023-07-21T18:17:17.784Z"
   },
   {
    "duration": 49,
    "start_time": "2023-07-21T18:17:17.852Z"
   },
   {
    "duration": 18,
    "start_time": "2023-07-21T18:17:17.902Z"
   },
   {
    "duration": 23,
    "start_time": "2023-07-21T18:17:17.921Z"
   },
   {
    "duration": 84,
    "start_time": "2023-07-21T18:17:17.946Z"
   },
   {
    "duration": 4,
    "start_time": "2023-07-21T18:17:18.032Z"
   },
   {
    "duration": 11,
    "start_time": "2023-07-21T18:17:18.038Z"
   },
   {
    "duration": 102,
    "start_time": "2023-07-21T18:17:18.051Z"
   },
   {
    "duration": 78,
    "start_time": "2023-07-21T18:17:18.155Z"
   },
   {
    "duration": 138,
    "start_time": "2023-07-21T18:17:18.234Z"
   },
   {
    "duration": 155,
    "start_time": "2023-07-21T18:17:18.374Z"
   },
   {
    "duration": 61,
    "start_time": "2023-07-21T18:17:18.531Z"
   },
   {
    "duration": 43,
    "start_time": "2023-07-21T18:17:18.595Z"
   },
   {
    "duration": 144,
    "start_time": "2023-07-21T18:17:18.640Z"
   },
   {
    "duration": 20,
    "start_time": "2023-07-21T18:17:18.786Z"
   },
   {
    "duration": 11,
    "start_time": "2023-07-21T18:17:18.808Z"
   },
   {
    "duration": 98,
    "start_time": "2023-07-21T18:17:18.821Z"
   },
   {
    "duration": 6,
    "start_time": "2023-07-21T18:17:18.921Z"
   },
   {
    "duration": 27,
    "start_time": "2023-07-21T18:17:18.928Z"
   },
   {
    "duration": 7,
    "start_time": "2023-07-21T18:17:18.957Z"
   },
   {
    "duration": 41,
    "start_time": "2023-07-21T18:17:18.965Z"
   },
   {
    "duration": 115,
    "start_time": "2023-07-21T18:17:19.008Z"
   },
   {
    "duration": 14,
    "start_time": "2023-07-21T18:17:19.125Z"
   },
   {
    "duration": 10,
    "start_time": "2023-07-21T18:17:19.140Z"
   },
   {
    "duration": 51,
    "start_time": "2023-07-21T18:17:19.152Z"
   },
   {
    "duration": 7,
    "start_time": "2023-07-21T18:17:19.205Z"
   },
   {
    "duration": 471,
    "start_time": "2023-07-21T18:17:19.214Z"
   },
   {
    "duration": 43636,
    "start_time": "2023-07-21T18:17:19.688Z"
   },
   {
    "duration": 297686,
    "start_time": "2023-07-21T18:18:03.325Z"
   },
   {
    "duration": 1554,
    "start_time": "2023-07-21T18:26:56.507Z"
   },
   {
    "duration": 935,
    "start_time": "2023-07-21T18:26:58.063Z"
   },
   {
    "duration": 30,
    "start_time": "2023-07-21T18:26:59.000Z"
   },
   {
    "duration": 143,
    "start_time": "2023-07-21T18:26:59.032Z"
   },
   {
    "duration": 120,
    "start_time": "2023-07-21T18:26:59.177Z"
   },
   {
    "duration": 53,
    "start_time": "2023-07-21T18:26:59.299Z"
   },
   {
    "duration": 1113,
    "start_time": "2023-07-21T18:26:59.354Z"
   },
   {
    "duration": 1046,
    "start_time": "2023-07-21T18:27:00.471Z"
   },
   {
    "duration": 376,
    "start_time": "2023-07-21T18:27:01.519Z"
   },
   {
    "duration": 90,
    "start_time": "2023-07-21T18:27:01.899Z"
   },
   {
    "duration": 658,
    "start_time": "2023-07-21T18:27:01.991Z"
   },
   {
    "duration": 67,
    "start_time": "2023-07-21T18:27:02.651Z"
   },
   {
    "duration": 62,
    "start_time": "2023-07-21T18:27:02.720Z"
   },
   {
    "duration": 766,
    "start_time": "2023-07-21T18:27:02.784Z"
   },
   {
    "duration": 66,
    "start_time": "2023-07-21T18:27:03.552Z"
   },
   {
    "duration": 81,
    "start_time": "2023-07-21T18:27:03.620Z"
   },
   {
    "duration": 35,
    "start_time": "2023-07-21T18:27:03.703Z"
   },
   {
    "duration": 34,
    "start_time": "2023-07-21T18:27:03.740Z"
   },
   {
    "duration": 23,
    "start_time": "2023-07-21T18:27:03.776Z"
   },
   {
    "duration": 76,
    "start_time": "2023-07-21T18:27:03.802Z"
   },
   {
    "duration": 10,
    "start_time": "2023-07-21T18:27:03.881Z"
   },
   {
    "duration": 5,
    "start_time": "2023-07-21T18:27:03.894Z"
   },
   {
    "duration": 130,
    "start_time": "2023-07-21T18:27:03.901Z"
   },
   {
    "duration": 87,
    "start_time": "2023-07-21T18:27:04.034Z"
   },
   {
    "duration": 154,
    "start_time": "2023-07-21T18:27:04.123Z"
   },
   {
    "duration": 155,
    "start_time": "2023-07-21T18:27:04.280Z"
   },
   {
    "duration": 55,
    "start_time": "2023-07-21T18:27:04.437Z"
   },
   {
    "duration": 60,
    "start_time": "2023-07-21T18:27:04.496Z"
   },
   {
    "duration": 112,
    "start_time": "2023-07-21T18:27:04.558Z"
   },
   {
    "duration": 23,
    "start_time": "2023-07-21T18:27:04.672Z"
   },
   {
    "duration": 10,
    "start_time": "2023-07-21T18:27:04.697Z"
   },
   {
    "duration": 82,
    "start_time": "2023-07-21T18:27:04.709Z"
   },
   {
    "duration": 5,
    "start_time": "2023-07-21T18:27:04.793Z"
   },
   {
    "duration": 5,
    "start_time": "2023-07-21T18:27:04.800Z"
   },
   {
    "duration": 23,
    "start_time": "2023-07-21T18:27:04.807Z"
   },
   {
    "duration": 27,
    "start_time": "2023-07-21T18:27:04.832Z"
   },
   {
    "duration": 132,
    "start_time": "2023-07-21T18:27:04.861Z"
   },
   {
    "duration": 11,
    "start_time": "2023-07-21T18:27:04.995Z"
   },
   {
    "duration": 3,
    "start_time": "2023-07-21T18:27:05.008Z"
   },
   {
    "duration": 39,
    "start_time": "2023-07-21T18:27:05.012Z"
   },
   {
    "duration": 9,
    "start_time": "2023-07-21T18:27:05.067Z"
   },
   {
    "duration": 438,
    "start_time": "2023-07-21T18:27:05.079Z"
   },
   {
    "duration": 43580,
    "start_time": "2023-07-21T18:27:05.520Z"
   },
   {
    "duration": 288424,
    "start_time": "2023-07-21T18:27:49.102Z"
   },
   {
    "duration": 1169957,
    "start_time": "2023-07-21T18:32:37.528Z"
   },
   {
    "duration": 386,
    "start_time": "2023-07-21T18:52:07.487Z"
   },
   {
    "duration": 17,
    "start_time": "2023-07-21T18:52:07.875Z"
   },
   {
    "duration": 7,
    "start_time": "2023-07-21T18:52:07.894Z"
   },
   {
    "duration": 21492,
    "start_time": "2023-07-21T18:52:07.903Z"
   },
   {
    "duration": 55,
    "start_time": "2023-07-21T18:52:29.396Z"
   },
   {
    "duration": 5,
    "start_time": "2023-07-21T18:52:29.453Z"
   },
   {
    "duration": 15916,
    "start_time": "2023-07-21T18:52:29.460Z"
   },
   {
    "duration": 611,
    "start_time": "2023-07-21T18:52:45.378Z"
   },
   {
    "duration": 6,
    "start_time": "2023-07-21T18:52:45.991Z"
   },
   {
    "duration": 78,
    "start_time": "2023-07-21T18:52:45.998Z"
   },
   {
    "duration": 21232,
    "start_time": "2023-07-21T18:52:46.078Z"
   },
   {
    "duration": 52,
    "start_time": "2023-07-21T18:53:07.312Z"
   },
   {
    "duration": 5,
    "start_time": "2023-07-21T18:53:07.366Z"
   },
   {
    "duration": 117,
    "start_time": "2023-07-21T18:55:28.302Z"
   },
   {
    "duration": 2116,
    "start_time": "2023-07-22T17:41:47.616Z"
   },
   {
    "duration": 3715,
    "start_time": "2023-07-22T17:41:49.734Z"
   },
   {
    "duration": 41,
    "start_time": "2023-07-22T17:41:53.451Z"
   },
   {
    "duration": 160,
    "start_time": "2023-07-22T17:41:53.494Z"
   },
   {
    "duration": 136,
    "start_time": "2023-07-22T17:41:53.655Z"
   },
   {
    "duration": 48,
    "start_time": "2023-07-22T17:41:53.793Z"
   },
   {
    "duration": 1387,
    "start_time": "2023-07-22T17:41:53.843Z"
   },
   {
    "duration": 1106,
    "start_time": "2023-07-22T17:41:55.237Z"
   },
   {
    "duration": 418,
    "start_time": "2023-07-22T17:41:56.345Z"
   },
   {
    "duration": 88,
    "start_time": "2023-07-22T17:41:56.769Z"
   },
   {
    "duration": 727,
    "start_time": "2023-07-22T17:41:56.859Z"
   },
   {
    "duration": 68,
    "start_time": "2023-07-22T17:41:57.595Z"
   },
   {
    "duration": 74,
    "start_time": "2023-07-22T17:41:57.665Z"
   },
   {
    "duration": 760,
    "start_time": "2023-07-22T17:42:18.820Z"
   },
   {
    "duration": 56,
    "start_time": "2023-07-22T17:42:19.582Z"
   },
   {
    "duration": 79,
    "start_time": "2023-07-22T17:42:20.492Z"
   },
   {
    "duration": 41,
    "start_time": "2023-07-22T17:42:22.592Z"
   },
   {
    "duration": 21,
    "start_time": "2023-07-22T17:42:22.790Z"
   },
   {
    "duration": 29,
    "start_time": "2023-07-22T17:42:23.436Z"
   },
   {
    "duration": 122,
    "start_time": "2023-07-22T17:42:24.425Z"
   },
   {
    "duration": 4,
    "start_time": "2023-07-22T17:42:25.117Z"
   },
   {
    "duration": 5,
    "start_time": "2023-07-22T17:42:25.356Z"
   },
   {
    "duration": 4,
    "start_time": "2023-07-22T17:42:34.641Z"
   },
   {
    "duration": 5,
    "start_time": "2023-07-22T17:42:56.139Z"
   },
   {
    "duration": 1849,
    "start_time": "2023-07-22T18:24:41.458Z"
   },
   {
    "duration": 2960,
    "start_time": "2023-07-22T18:24:43.309Z"
   },
   {
    "duration": 30,
    "start_time": "2023-07-22T18:24:46.271Z"
   },
   {
    "duration": 135,
    "start_time": "2023-07-22T18:24:46.304Z"
   },
   {
    "duration": 113,
    "start_time": "2023-07-22T18:24:46.441Z"
   },
   {
    "duration": 54,
    "start_time": "2023-07-22T18:24:46.556Z"
   },
   {
    "duration": 1124,
    "start_time": "2023-07-22T18:24:46.612Z"
   },
   {
    "duration": 999,
    "start_time": "2023-07-22T18:24:47.738Z"
   },
   {
    "duration": 375,
    "start_time": "2023-07-22T18:24:48.738Z"
   },
   {
    "duration": 85,
    "start_time": "2023-07-22T18:24:49.117Z"
   },
   {
    "duration": 636,
    "start_time": "2023-07-22T18:24:49.204Z"
   },
   {
    "duration": 70,
    "start_time": "2023-07-22T18:24:49.842Z"
   },
   {
    "duration": 66,
    "start_time": "2023-07-22T18:24:49.914Z"
   },
   {
    "duration": 732,
    "start_time": "2023-07-22T18:24:49.982Z"
   },
   {
    "duration": 65,
    "start_time": "2023-07-22T18:24:50.716Z"
   },
   {
    "duration": 84,
    "start_time": "2023-07-22T18:24:50.783Z"
   },
   {
    "duration": 36,
    "start_time": "2023-07-22T18:24:50.869Z"
   },
   {
    "duration": 27,
    "start_time": "2023-07-22T18:24:50.907Z"
   },
   {
    "duration": 31,
    "start_time": "2023-07-22T18:24:50.936Z"
   },
   {
    "duration": 84,
    "start_time": "2023-07-22T18:24:50.969Z"
   },
   {
    "duration": 5,
    "start_time": "2023-07-22T18:24:51.055Z"
   },
   {
    "duration": 11,
    "start_time": "2023-07-22T18:24:51.067Z"
   },
   {
    "duration": 90,
    "start_time": "2023-07-22T18:24:51.079Z"
   },
   {
    "duration": 75,
    "start_time": "2023-07-22T18:24:51.171Z"
   },
   {
    "duration": 145,
    "start_time": "2023-07-22T18:24:51.248Z"
   },
   {
    "duration": 139,
    "start_time": "2023-07-22T18:24:51.394Z"
   },
   {
    "duration": 50,
    "start_time": "2023-07-22T18:24:51.535Z"
   },
   {
    "duration": 50,
    "start_time": "2023-07-22T18:24:51.589Z"
   },
   {
    "duration": 125,
    "start_time": "2023-07-22T18:24:51.642Z"
   },
   {
    "duration": 22,
    "start_time": "2023-07-22T18:24:51.769Z"
   },
   {
    "duration": 51,
    "start_time": "2023-07-22T18:24:51.793Z"
   },
   {
    "duration": 72,
    "start_time": "2023-07-22T18:24:51.846Z"
   },
   {
    "duration": 6,
    "start_time": "2023-07-22T18:24:51.920Z"
   },
   {
    "duration": 17,
    "start_time": "2023-07-22T18:24:51.928Z"
   },
   {
    "duration": 6,
    "start_time": "2023-07-22T18:24:51.948Z"
   },
   {
    "duration": 21,
    "start_time": "2023-07-22T18:24:51.957Z"
   },
   {
    "duration": 128,
    "start_time": "2023-07-22T18:24:51.980Z"
   },
   {
    "duration": 11,
    "start_time": "2023-07-22T18:24:52.110Z"
   },
   {
    "duration": 4,
    "start_time": "2023-07-22T18:24:52.123Z"
   },
   {
    "duration": 54,
    "start_time": "2023-07-22T18:24:52.129Z"
   },
   {
    "duration": 8,
    "start_time": "2023-07-22T18:24:52.185Z"
   },
   {
    "duration": 485,
    "start_time": "2023-07-22T18:24:52.196Z"
   },
   {
    "duration": 44737,
    "start_time": "2023-07-22T18:25:14.328Z"
   },
   {
    "duration": 42561,
    "start_time": "2023-07-22T18:26:09.236Z"
   },
   {
    "duration": 5880,
    "start_time": "2023-07-22T18:28:34.848Z"
   },
   {
    "duration": 5991,
    "start_time": "2023-07-22T18:30:42.984Z"
   },
   {
    "duration": 41041,
    "start_time": "2023-07-22T18:31:26.237Z"
   },
   {
    "duration": 41516,
    "start_time": "2023-07-22T18:33:30.912Z"
   },
   {
    "duration": 1498,
    "start_time": "2023-07-22T18:36:26.898Z"
   },
   {
    "duration": 1364,
    "start_time": "2023-07-22T18:36:45.692Z"
   },
   {
    "duration": 5741,
    "start_time": "2023-07-22T18:36:58.075Z"
   },
   {
    "duration": 41000,
    "start_time": "2023-07-22T18:37:22.544Z"
   },
   {
    "duration": 4,
    "start_time": "2023-07-22T18:38:26.722Z"
   },
   {
    "duration": 829,
    "start_time": "2023-07-22T18:38:26.728Z"
   },
   {
    "duration": 26,
    "start_time": "2023-07-22T18:38:27.559Z"
   },
   {
    "duration": 135,
    "start_time": "2023-07-22T18:38:27.588Z"
   },
   {
    "duration": 118,
    "start_time": "2023-07-22T18:38:27.726Z"
   },
   {
    "duration": 51,
    "start_time": "2023-07-22T18:38:27.846Z"
   },
   {
    "duration": 1179,
    "start_time": "2023-07-22T18:38:27.899Z"
   },
   {
    "duration": 987,
    "start_time": "2023-07-22T18:38:29.080Z"
   },
   {
    "duration": 356,
    "start_time": "2023-07-22T18:38:30.070Z"
   },
   {
    "duration": 73,
    "start_time": "2023-07-22T18:38:30.428Z"
   },
   {
    "duration": 468,
    "start_time": "2023-07-22T18:38:30.502Z"
   },
   {
    "duration": 65,
    "start_time": "2023-07-22T18:38:30.973Z"
   },
   {
    "duration": 63,
    "start_time": "2023-07-22T18:38:31.040Z"
   },
   {
    "duration": 879,
    "start_time": "2023-07-22T18:38:31.105Z"
   },
   {
    "duration": 64,
    "start_time": "2023-07-22T18:38:31.986Z"
   },
   {
    "duration": 69,
    "start_time": "2023-07-22T18:38:32.072Z"
   },
   {
    "duration": 42,
    "start_time": "2023-07-22T18:38:32.142Z"
   },
   {
    "duration": 19,
    "start_time": "2023-07-22T18:38:32.186Z"
   },
   {
    "duration": 48,
    "start_time": "2023-07-22T18:38:32.207Z"
   },
   {
    "duration": 88,
    "start_time": "2023-07-22T18:38:32.257Z"
   },
   {
    "duration": 7,
    "start_time": "2023-07-22T18:38:32.348Z"
   },
   {
    "duration": 21,
    "start_time": "2023-07-22T18:38:32.367Z"
   },
   {
    "duration": 95,
    "start_time": "2023-07-22T18:38:32.390Z"
   },
   {
    "duration": 68,
    "start_time": "2023-07-22T18:38:32.489Z"
   },
   {
    "duration": 134,
    "start_time": "2023-07-22T18:38:32.568Z"
   },
   {
    "duration": 144,
    "start_time": "2023-07-22T18:38:32.704Z"
   },
   {
    "duration": 58,
    "start_time": "2023-07-22T18:38:32.850Z"
   },
   {
    "duration": 60,
    "start_time": "2023-07-22T18:38:32.910Z"
   },
   {
    "duration": 110,
    "start_time": "2023-07-22T18:38:32.972Z"
   },
   {
    "duration": 20,
    "start_time": "2023-07-22T18:38:33.084Z"
   },
   {
    "duration": 53,
    "start_time": "2023-07-22T18:38:33.107Z"
   },
   {
    "duration": 128,
    "start_time": "2023-07-22T18:38:33.162Z"
   },
   {
    "duration": 27,
    "start_time": "2023-07-22T18:38:33.292Z"
   },
   {
    "duration": 6,
    "start_time": "2023-07-22T18:38:33.321Z"
   },
   {
    "duration": 6,
    "start_time": "2023-07-22T18:38:33.329Z"
   },
   {
    "duration": 20,
    "start_time": "2023-07-22T18:38:33.336Z"
   },
   {
    "duration": 109,
    "start_time": "2023-07-22T18:38:33.358Z"
   },
   {
    "duration": 12,
    "start_time": "2023-07-22T18:38:33.468Z"
   },
   {
    "duration": 3,
    "start_time": "2023-07-22T18:38:33.481Z"
   },
   {
    "duration": 51,
    "start_time": "2023-07-22T18:38:33.486Z"
   },
   {
    "duration": 7,
    "start_time": "2023-07-22T18:38:33.538Z"
   },
   {
    "duration": 426,
    "start_time": "2023-07-22T18:38:33.547Z"
   },
   {
    "duration": 42112,
    "start_time": "2023-07-22T18:38:38.608Z"
   },
   {
    "duration": 1482,
    "start_time": "2023-07-22T18:39:37.064Z"
   },
   {
    "duration": 1620,
    "start_time": "2023-07-22T18:40:03.718Z"
   },
   {
    "duration": 1544,
    "start_time": "2023-07-22T18:40:13.451Z"
   },
   {
    "duration": 1534,
    "start_time": "2023-07-22T18:40:54.135Z"
   },
   {
    "duration": 1507,
    "start_time": "2023-07-22T18:41:00.759Z"
   },
   {
    "duration": 1463,
    "start_time": "2023-07-22T18:41:51.939Z"
   },
   {
    "duration": 1646,
    "start_time": "2023-07-22T18:42:13.162Z"
   },
   {
    "duration": 1536,
    "start_time": "2023-07-22T18:42:24.958Z"
   },
   {
    "duration": 1449,
    "start_time": "2023-07-22T18:42:39.234Z"
   },
   {
    "duration": 1439,
    "start_time": "2023-07-22T18:42:48.851Z"
   },
   {
    "duration": 1625,
    "start_time": "2023-07-22T18:43:00.339Z"
   },
   {
    "duration": 1371,
    "start_time": "2023-07-22T18:43:06.976Z"
   },
   {
    "duration": 5968,
    "start_time": "2023-07-22T18:43:18.882Z"
   },
   {
    "duration": 5757,
    "start_time": "2023-07-22T18:43:37.274Z"
   },
   {
    "duration": 5800,
    "start_time": "2023-07-22T18:44:07.502Z"
   },
   {
    "duration": 43687,
    "start_time": "2023-07-22T18:45:13.473Z"
   },
   {
    "duration": 1937,
    "start_time": "2023-07-22T18:47:45.569Z"
   },
   {
    "duration": 1931,
    "start_time": "2023-07-22T18:47:47.509Z"
   },
   {
    "duration": 39,
    "start_time": "2023-07-22T18:47:49.442Z"
   },
   {
    "duration": 132,
    "start_time": "2023-07-22T18:47:49.483Z"
   },
   {
    "duration": 124,
    "start_time": "2023-07-22T18:47:49.618Z"
   },
   {
    "duration": 59,
    "start_time": "2023-07-22T18:47:49.743Z"
   },
   {
    "duration": 1110,
    "start_time": "2023-07-22T18:47:49.804Z"
   },
   {
    "duration": 1019,
    "start_time": "2023-07-22T18:47:50.916Z"
   },
   {
    "duration": 357,
    "start_time": "2023-07-22T18:47:51.937Z"
   },
   {
    "duration": 81,
    "start_time": "2023-07-22T18:47:52.296Z"
   },
   {
    "duration": 622,
    "start_time": "2023-07-22T18:47:52.379Z"
   },
   {
    "duration": 80,
    "start_time": "2023-07-22T18:47:53.003Z"
   },
   {
    "duration": 48,
    "start_time": "2023-07-22T18:47:53.086Z"
   },
   {
    "duration": 765,
    "start_time": "2023-07-22T18:47:53.138Z"
   },
   {
    "duration": 76,
    "start_time": "2023-07-22T18:47:53.912Z"
   },
   {
    "duration": 87,
    "start_time": "2023-07-22T18:47:53.990Z"
   },
   {
    "duration": 46,
    "start_time": "2023-07-22T18:47:54.079Z"
   },
   {
    "duration": 43,
    "start_time": "2023-07-22T18:47:54.127Z"
   },
   {
    "duration": 33,
    "start_time": "2023-07-22T18:47:54.172Z"
   },
   {
    "duration": 96,
    "start_time": "2023-07-22T18:47:54.207Z"
   },
   {
    "duration": 4,
    "start_time": "2023-07-22T18:47:54.305Z"
   },
   {
    "duration": 8,
    "start_time": "2023-07-22T18:47:54.310Z"
   },
   {
    "duration": 102,
    "start_time": "2023-07-22T18:47:54.320Z"
   },
   {
    "duration": 80,
    "start_time": "2023-07-22T18:47:54.425Z"
   },
   {
    "duration": 138,
    "start_time": "2023-07-22T18:47:54.506Z"
   },
   {
    "duration": 164,
    "start_time": "2023-07-22T18:47:54.646Z"
   },
   {
    "duration": 47,
    "start_time": "2023-07-22T18:47:54.812Z"
   },
   {
    "duration": 67,
    "start_time": "2023-07-22T18:47:54.860Z"
   },
   {
    "duration": 122,
    "start_time": "2023-07-22T18:47:54.929Z"
   },
   {
    "duration": 33,
    "start_time": "2023-07-22T18:47:55.053Z"
   },
   {
    "duration": 10,
    "start_time": "2023-07-22T18:47:55.088Z"
   },
   {
    "duration": 175,
    "start_time": "2023-07-22T18:47:55.100Z"
   },
   {
    "duration": 9,
    "start_time": "2023-07-22T18:47:55.277Z"
   },
   {
    "duration": 7,
    "start_time": "2023-07-22T18:47:55.288Z"
   },
   {
    "duration": 14,
    "start_time": "2023-07-22T18:47:55.297Z"
   },
   {
    "duration": 16,
    "start_time": "2023-07-22T18:47:55.313Z"
   },
   {
    "duration": 114,
    "start_time": "2023-07-22T18:47:55.330Z"
   },
   {
    "duration": 11,
    "start_time": "2023-07-22T18:47:55.445Z"
   },
   {
    "duration": 13,
    "start_time": "2023-07-22T18:47:55.466Z"
   },
   {
    "duration": 37,
    "start_time": "2023-07-22T18:47:55.482Z"
   },
   {
    "duration": 8,
    "start_time": "2023-07-22T18:47:55.523Z"
   },
   {
    "duration": 458,
    "start_time": "2023-07-22T18:47:55.533Z"
   },
   {
    "duration": 46338,
    "start_time": "2023-07-22T18:47:55.993Z"
   },
   {
    "duration": 288724,
    "start_time": "2023-07-22T18:48:42.334Z"
   },
   {
    "duration": 1685,
    "start_time": "2023-07-22T20:04:31.720Z"
   },
   {
    "duration": 1070,
    "start_time": "2023-07-22T20:04:33.407Z"
   },
   {
    "duration": 31,
    "start_time": "2023-07-22T20:04:34.485Z"
   },
   {
    "duration": 235,
    "start_time": "2023-07-22T20:04:34.573Z"
   },
   {
    "duration": 292,
    "start_time": "2023-07-22T20:04:34.810Z"
   },
   {
    "duration": 110,
    "start_time": "2023-07-22T20:04:35.104Z"
   },
   {
    "duration": 2152,
    "start_time": "2023-07-22T20:04:35.268Z"
   },
   {
    "duration": 1062,
    "start_time": "2023-07-22T20:04:37.422Z"
   },
   {
    "duration": 384,
    "start_time": "2023-07-22T20:04:38.486Z"
   },
   {
    "duration": 82,
    "start_time": "2023-07-22T20:04:38.877Z"
   },
   {
    "duration": 629,
    "start_time": "2023-07-22T20:04:38.961Z"
   },
   {
    "duration": 57,
    "start_time": "2023-07-22T20:04:39.592Z"
   },
   {
    "duration": 64,
    "start_time": "2023-07-22T20:04:39.651Z"
   },
   {
    "duration": 1390,
    "start_time": "2023-07-22T20:04:39.717Z"
   },
   {
    "duration": 175,
    "start_time": "2023-07-22T20:04:41.109Z"
   },
   {
    "duration": 185,
    "start_time": "2023-07-22T20:04:41.286Z"
   },
   {
    "duration": 114,
    "start_time": "2023-07-22T20:04:41.473Z"
   },
   {
    "duration": 92,
    "start_time": "2023-07-22T20:04:41.590Z"
   },
   {
    "duration": 20,
    "start_time": "2023-07-22T20:04:41.685Z"
   },
   {
    "duration": 171,
    "start_time": "2023-07-22T20:04:41.707Z"
   },
   {
    "duration": 5,
    "start_time": "2023-07-22T20:04:41.886Z"
   },
   {
    "duration": 13,
    "start_time": "2023-07-22T20:04:41.893Z"
   },
   {
    "duration": 187,
    "start_time": "2023-07-22T20:04:41.909Z"
   },
   {
    "duration": 130,
    "start_time": "2023-07-22T20:04:42.098Z"
   },
   {
    "duration": 183,
    "start_time": "2023-07-22T20:04:42.230Z"
   },
   {
    "duration": 169,
    "start_time": "2023-07-22T20:04:42.415Z"
   },
   {
    "duration": 49,
    "start_time": "2023-07-22T20:04:42.586Z"
   },
   {
    "duration": 61,
    "start_time": "2023-07-22T20:04:42.641Z"
   },
   {
    "duration": 123,
    "start_time": "2023-07-22T20:04:42.705Z"
   },
   {
    "duration": 19,
    "start_time": "2023-07-22T20:04:42.830Z"
   },
   {
    "duration": 28,
    "start_time": "2023-07-22T20:04:42.851Z"
   },
   {
    "duration": 71,
    "start_time": "2023-07-22T20:04:42.889Z"
   },
   {
    "duration": 11,
    "start_time": "2023-07-22T20:04:42.962Z"
   },
   {
    "duration": 9,
    "start_time": "2023-07-22T20:04:42.976Z"
   },
   {
    "duration": 4,
    "start_time": "2023-07-22T20:04:42.987Z"
   },
   {
    "duration": 17,
    "start_time": "2023-07-22T20:04:42.993Z"
   },
   {
    "duration": 132,
    "start_time": "2023-07-22T20:04:43.012Z"
   },
   {
    "duration": 27,
    "start_time": "2023-07-22T20:04:43.145Z"
   },
   {
    "duration": 4,
    "start_time": "2023-07-22T20:04:43.176Z"
   },
   {
    "duration": 46,
    "start_time": "2023-07-22T20:04:43.183Z"
   },
   {
    "duration": 10,
    "start_time": "2023-07-22T20:04:43.231Z"
   },
   {
    "duration": 458,
    "start_time": "2023-07-22T20:04:43.243Z"
   },
   {
    "duration": 43797,
    "start_time": "2023-07-22T20:04:43.702Z"
   },
   {
    "duration": 298493,
    "start_time": "2023-07-22T20:05:27.501Z"
   },
   {
    "duration": 1680,
    "start_time": "2023-07-22T20:38:38.583Z"
   },
   {
    "duration": 910,
    "start_time": "2023-07-22T20:38:40.265Z"
   },
   {
    "duration": 29,
    "start_time": "2023-07-22T20:38:41.177Z"
   },
   {
    "duration": 135,
    "start_time": "2023-07-22T20:38:41.209Z"
   },
   {
    "duration": 116,
    "start_time": "2023-07-22T20:38:41.345Z"
   },
   {
    "duration": 54,
    "start_time": "2023-07-22T20:38:41.468Z"
   },
   {
    "duration": 1087,
    "start_time": "2023-07-22T20:38:41.524Z"
   },
   {
    "duration": 983,
    "start_time": "2023-07-22T20:38:42.613Z"
   },
   {
    "duration": 368,
    "start_time": "2023-07-22T20:38:43.599Z"
   },
   {
    "duration": 83,
    "start_time": "2023-07-22T20:38:43.971Z"
   },
   {
    "duration": 847,
    "start_time": "2023-07-22T20:38:44.056Z"
   },
   {
    "duration": 166,
    "start_time": "2023-07-22T20:38:44.905Z"
   },
   {
    "duration": 100,
    "start_time": "2023-07-22T20:38:45.073Z"
   },
   {
    "duration": 1296,
    "start_time": "2023-07-22T20:38:45.175Z"
   },
   {
    "duration": 56,
    "start_time": "2023-07-22T20:38:46.473Z"
   },
   {
    "duration": 81,
    "start_time": "2023-07-22T20:38:46.531Z"
   },
   {
    "duration": 44,
    "start_time": "2023-07-22T20:38:46.613Z"
   },
   {
    "duration": 21,
    "start_time": "2023-07-22T20:38:46.658Z"
   },
   {
    "duration": 27,
    "start_time": "2023-07-22T20:38:46.681Z"
   },
   {
    "duration": 88,
    "start_time": "2023-07-22T20:38:46.710Z"
   },
   {
    "duration": 11,
    "start_time": "2023-07-22T20:38:46.800Z"
   },
   {
    "duration": 26,
    "start_time": "2023-07-22T20:38:46.813Z"
   },
   {
    "duration": 94,
    "start_time": "2023-07-22T20:38:46.841Z"
   },
   {
    "duration": 62,
    "start_time": "2023-07-22T20:38:46.937Z"
   },
   {
    "duration": 131,
    "start_time": "2023-07-22T20:38:47.001Z"
   },
   {
    "duration": 144,
    "start_time": "2023-07-22T20:38:47.134Z"
   },
   {
    "duration": 40,
    "start_time": "2023-07-22T20:38:47.280Z"
   },
   {
    "duration": 55,
    "start_time": "2023-07-22T20:38:47.324Z"
   },
   {
    "duration": 106,
    "start_time": "2023-07-22T20:38:47.380Z"
   },
   {
    "duration": 21,
    "start_time": "2023-07-22T20:38:47.488Z"
   },
   {
    "duration": 11,
    "start_time": "2023-07-22T20:38:47.511Z"
   },
   {
    "duration": 79,
    "start_time": "2023-07-22T20:38:47.524Z"
   },
   {
    "duration": 5,
    "start_time": "2023-07-22T20:38:47.605Z"
   },
   {
    "duration": 7,
    "start_time": "2023-07-22T20:38:47.612Z"
   },
   {
    "duration": 18,
    "start_time": "2023-07-22T20:38:47.621Z"
   },
   {
    "duration": 18,
    "start_time": "2023-07-22T20:38:47.641Z"
   },
   {
    "duration": 119,
    "start_time": "2023-07-22T20:38:47.661Z"
   },
   {
    "duration": 10,
    "start_time": "2023-07-22T20:38:47.782Z"
   },
   {
    "duration": 3,
    "start_time": "2023-07-22T20:38:47.794Z"
   },
   {
    "duration": 40,
    "start_time": "2023-07-22T20:38:47.799Z"
   },
   {
    "duration": 28,
    "start_time": "2023-07-22T20:38:47.841Z"
   },
   {
    "duration": 396,
    "start_time": "2023-07-22T20:38:47.871Z"
   },
   {
    "duration": 40597,
    "start_time": "2023-07-22T20:38:48.269Z"
   },
   {
    "duration": 7,
    "start_time": "2023-07-22T20:39:28.868Z"
   },
   {
    "duration": 1522,
    "start_time": "2023-07-22T22:39:24.271Z"
   },
   {
    "duration": 951,
    "start_time": "2023-07-22T22:39:25.795Z"
   },
   {
    "duration": 24,
    "start_time": "2023-07-22T22:39:26.747Z"
   },
   {
    "duration": 262,
    "start_time": "2023-07-22T22:39:26.772Z"
   },
   {
    "duration": 192,
    "start_time": "2023-07-22T22:39:27.036Z"
   },
   {
    "duration": 40,
    "start_time": "2023-07-22T22:39:27.229Z"
   },
   {
    "duration": 1392,
    "start_time": "2023-07-22T22:39:27.321Z"
   },
   {
    "duration": 785,
    "start_time": "2023-07-22T22:39:28.715Z"
   },
   {
    "duration": 283,
    "start_time": "2023-07-22T22:39:29.502Z"
   },
   {
    "duration": 56,
    "start_time": "2023-07-22T22:39:29.786Z"
   },
   {
    "duration": 458,
    "start_time": "2023-07-22T22:39:29.844Z"
   },
   {
    "duration": 49,
    "start_time": "2023-07-22T22:39:30.304Z"
   },
   {
    "duration": 37,
    "start_time": "2023-07-22T22:39:30.355Z"
   },
   {
    "duration": 582,
    "start_time": "2023-07-22T22:39:30.395Z"
   },
   {
    "duration": 53,
    "start_time": "2023-07-22T22:39:30.980Z"
   },
   {
    "duration": 157,
    "start_time": "2023-07-22T22:39:31.035Z"
   },
   {
    "duration": 100,
    "start_time": "2023-07-22T22:39:31.193Z"
   },
   {
    "duration": 32,
    "start_time": "2023-07-22T22:39:31.294Z"
   },
   {
    "duration": 57,
    "start_time": "2023-07-22T22:39:31.328Z"
   },
   {
    "duration": 119,
    "start_time": "2023-07-22T22:39:31.387Z"
   },
   {
    "duration": 34,
    "start_time": "2023-07-22T22:39:31.508Z"
   },
   {
    "duration": 39,
    "start_time": "2023-07-22T22:39:31.544Z"
   },
   {
    "duration": 108,
    "start_time": "2023-07-22T22:39:31.584Z"
   },
   {
    "duration": 94,
    "start_time": "2023-07-22T22:39:31.694Z"
   },
   {
    "duration": 108,
    "start_time": "2023-07-22T22:39:31.789Z"
   },
   {
    "duration": 121,
    "start_time": "2023-07-22T22:39:31.899Z"
   },
   {
    "duration": 41,
    "start_time": "2023-07-22T22:39:32.022Z"
   },
   {
    "duration": 38,
    "start_time": "2023-07-22T22:39:32.064Z"
   },
   {
    "duration": 100,
    "start_time": "2023-07-22T22:39:32.103Z"
   },
   {
    "duration": 28,
    "start_time": "2023-07-22T22:39:32.205Z"
   },
   {
    "duration": 9,
    "start_time": "2023-07-22T22:39:32.235Z"
   },
   {
    "duration": 54,
    "start_time": "2023-07-22T22:39:32.245Z"
   },
   {
    "duration": 5,
    "start_time": "2023-07-22T22:39:32.301Z"
   },
   {
    "duration": 4,
    "start_time": "2023-07-22T22:39:32.320Z"
   },
   {
    "duration": 12,
    "start_time": "2023-07-22T22:39:32.326Z"
   },
   {
    "duration": 17,
    "start_time": "2023-07-22T22:39:32.340Z"
   },
   {
    "duration": 100,
    "start_time": "2023-07-22T22:39:32.359Z"
   },
   {
    "duration": 8,
    "start_time": "2023-07-22T22:39:32.461Z"
   },
   {
    "duration": 2,
    "start_time": "2023-07-22T22:39:32.471Z"
   },
   {
    "duration": 46,
    "start_time": "2023-07-22T22:39:32.475Z"
   },
   {
    "duration": 6,
    "start_time": "2023-07-22T22:39:32.524Z"
   },
   {
    "duration": 370,
    "start_time": "2023-07-22T22:39:32.531Z"
   },
   {
    "duration": 34663,
    "start_time": "2023-07-22T22:39:32.902Z"
   },
   {
    "duration": 222414,
    "start_time": "2023-07-22T22:40:07.567Z"
   },
   {
    "duration": 218947,
    "start_time": "2023-07-22T22:43:49.983Z"
   },
   {
    "duration": 335,
    "start_time": "2023-07-22T22:47:28.932Z"
   },
   {
    "duration": 15,
    "start_time": "2023-07-22T22:47:29.269Z"
   },
   {
    "duration": 9,
    "start_time": "2023-07-22T22:47:29.286Z"
   },
   {
    "duration": 16973,
    "start_time": "2023-07-22T22:47:29.297Z"
   },
   {
    "duration": 46,
    "start_time": "2023-07-22T22:47:46.271Z"
   },
   {
    "duration": 4,
    "start_time": "2023-07-22T22:47:46.318Z"
   },
   {
    "duration": 8517,
    "start_time": "2023-07-22T22:47:46.323Z"
   },
   {
    "duration": 591,
    "start_time": "2023-07-22T22:47:54.842Z"
   },
   {
    "duration": 5,
    "start_time": "2023-07-22T22:47:55.434Z"
   },
   {
    "duration": 12,
    "start_time": "2023-07-22T22:47:55.441Z"
   },
   {
    "duration": 17107,
    "start_time": "2023-07-22T22:47:55.455Z"
   },
   {
    "duration": 47,
    "start_time": "2023-07-22T22:48:12.564Z"
   },
   {
    "duration": 4,
    "start_time": "2023-07-22T22:48:12.613Z"
   },
   {
    "duration": 6404,
    "start_time": "2023-07-24T03:29:42.204Z"
   },
   {
    "duration": 7958,
    "start_time": "2023-07-24T03:29:48.610Z"
   },
   {
    "duration": 153,
    "start_time": "2023-07-24T03:29:56.649Z"
   },
   {
    "duration": 731,
    "start_time": "2023-07-24T03:29:56.804Z"
   },
   {
    "duration": 397,
    "start_time": "2023-07-24T03:29:57.546Z"
   },
   {
    "duration": 193,
    "start_time": "2023-07-24T03:29:57.952Z"
   },
   {
    "duration": 5386,
    "start_time": "2023-07-24T03:29:58.146Z"
   },
   {
    "duration": 4373,
    "start_time": "2023-07-24T03:30:03.533Z"
   },
   {
    "duration": 1401,
    "start_time": "2023-07-24T03:30:07.909Z"
   },
   {
    "duration": 197,
    "start_time": "2023-07-24T03:30:09.314Z"
   },
   {
    "duration": 2322,
    "start_time": "2023-07-24T03:30:09.532Z"
   },
   {
    "duration": 353,
    "start_time": "2023-07-24T03:30:11.862Z"
   },
   {
    "duration": 239,
    "start_time": "2023-07-24T03:30:12.227Z"
   },
   {
    "duration": 4024,
    "start_time": "2023-07-24T03:30:12.513Z"
   },
   {
    "duration": 325,
    "start_time": "2023-07-24T03:30:16.544Z"
   },
   {
    "duration": 490,
    "start_time": "2023-07-24T03:30:16.875Z"
   },
   {
    "duration": 132,
    "start_time": "2023-07-24T03:30:17.433Z"
   },
   {
    "duration": 98,
    "start_time": "2023-07-24T03:30:17.623Z"
   },
   {
    "duration": 195,
    "start_time": "2023-07-24T03:30:17.737Z"
   },
   {
    "duration": 556,
    "start_time": "2023-07-24T03:30:17.977Z"
   },
   {
    "duration": 23,
    "start_time": "2023-07-24T03:30:18.546Z"
   },
   {
    "duration": 44,
    "start_time": "2023-07-24T03:30:18.571Z"
   },
   {
    "duration": 438,
    "start_time": "2023-07-24T03:30:18.619Z"
   },
   {
    "duration": 469,
    "start_time": "2023-07-24T03:30:19.106Z"
   },
   {
    "duration": 668,
    "start_time": "2023-07-24T03:30:19.577Z"
   },
   {
    "duration": 622,
    "start_time": "2023-07-24T03:30:20.301Z"
   },
   {
    "duration": 219,
    "start_time": "2023-07-24T03:30:20.938Z"
   },
   {
    "duration": 274,
    "start_time": "2023-07-24T03:30:21.163Z"
   },
   {
    "duration": 429,
    "start_time": "2023-07-24T03:30:21.442Z"
   },
   {
    "duration": 154,
    "start_time": "2023-07-24T03:30:21.872Z"
   },
   {
    "duration": 22,
    "start_time": "2023-07-24T03:30:22.032Z"
   },
   {
    "duration": 351,
    "start_time": "2023-07-24T03:30:22.104Z"
   },
   {
    "duration": 62,
    "start_time": "2023-07-24T03:30:22.467Z"
   },
   {
    "duration": 120,
    "start_time": "2023-07-24T03:30:22.531Z"
   },
   {
    "duration": 72,
    "start_time": "2023-07-24T03:30:22.666Z"
   },
   {
    "duration": 179,
    "start_time": "2023-07-24T03:30:22.759Z"
   },
   {
    "duration": 705,
    "start_time": "2023-07-24T03:30:22.940Z"
   },
   {
    "duration": 58,
    "start_time": "2023-07-24T03:30:23.647Z"
   },
   {
    "duration": 1562,
    "start_time": "2024-01-17T00:08:32.502Z"
   },
   {
    "duration": 1343,
    "start_time": "2024-01-17T00:08:34.066Z"
   },
   {
    "duration": 32,
    "start_time": "2024-01-17T00:08:35.453Z"
   },
   {
    "duration": 275,
    "start_time": "2024-01-17T00:08:35.487Z"
   },
   {
    "duration": 198,
    "start_time": "2024-01-17T00:08:35.764Z"
   },
   {
    "duration": 89,
    "start_time": "2024-01-17T00:08:35.963Z"
   },
   {
    "duration": 975,
    "start_time": "2024-01-17T00:08:36.054Z"
   },
   {
    "duration": 830,
    "start_time": "2024-01-17T00:08:37.031Z"
   },
   {
    "duration": 280,
    "start_time": "2024-01-17T00:08:37.862Z"
   },
   {
    "duration": 60,
    "start_time": "2024-01-17T00:08:38.144Z"
   },
   {
    "duration": 470,
    "start_time": "2024-01-17T00:08:38.205Z"
   },
   {
    "duration": 50,
    "start_time": "2024-01-17T00:08:38.677Z"
   },
   {
    "duration": 52,
    "start_time": "2024-01-17T00:08:38.729Z"
   },
   {
    "duration": 603,
    "start_time": "2024-01-17T00:08:38.783Z"
   },
   {
    "duration": 65,
    "start_time": "2024-01-17T00:08:39.388Z"
   },
   {
    "duration": 79,
    "start_time": "2024-01-17T00:08:39.454Z"
   },
   {
    "duration": 43,
    "start_time": "2024-01-17T00:08:39.535Z"
   },
   {
    "duration": 16,
    "start_time": "2024-01-17T00:08:39.580Z"
   },
   {
    "duration": 19,
    "start_time": "2024-01-17T00:08:39.597Z"
   },
   {
    "duration": 109,
    "start_time": "2024-01-17T00:08:39.617Z"
   },
   {
    "duration": 4,
    "start_time": "2024-01-17T00:08:39.728Z"
   },
   {
    "duration": 26,
    "start_time": "2024-01-17T00:08:39.734Z"
   },
   {
    "duration": 103,
    "start_time": "2024-01-17T00:08:39.762Z"
   },
   {
    "duration": 96,
    "start_time": "2024-01-17T00:08:39.866Z"
   },
   {
    "duration": 115,
    "start_time": "2024-01-17T00:08:39.964Z"
   },
   {
    "duration": 146,
    "start_time": "2024-01-17T00:08:40.080Z"
   },
   {
    "duration": 50,
    "start_time": "2024-01-17T00:08:40.228Z"
   },
   {
    "duration": 42,
    "start_time": "2024-01-17T00:08:40.282Z"
   },
   {
    "duration": 103,
    "start_time": "2024-01-17T00:08:40.326Z"
   },
   {
    "duration": 25,
    "start_time": "2024-01-17T00:08:40.431Z"
   },
   {
    "duration": 8,
    "start_time": "2024-01-17T00:08:40.457Z"
   },
   {
    "duration": 40,
    "start_time": "2024-01-17T00:08:40.467Z"
   },
   {
    "duration": 5,
    "start_time": "2024-01-17T00:08:40.508Z"
   },
   {
    "duration": 5,
    "start_time": "2024-01-17T00:08:40.514Z"
   },
   {
    "duration": 11,
    "start_time": "2024-01-17T00:08:40.520Z"
   },
   {
    "duration": 26,
    "start_time": "2024-01-17T00:08:40.532Z"
   },
   {
    "duration": 101,
    "start_time": "2024-01-17T00:08:40.559Z"
   },
   {
    "duration": 10,
    "start_time": "2024-01-17T00:08:40.661Z"
   },
   {
    "duration": 2,
    "start_time": "2024-01-17T00:08:40.673Z"
   },
   {
    "duration": 33,
    "start_time": "2024-01-17T00:08:40.677Z"
   },
   {
    "duration": 6,
    "start_time": "2024-01-17T00:08:40.711Z"
   },
   {
    "duration": 390,
    "start_time": "2024-01-17T00:08:40.718Z"
   },
   {
    "duration": 35948,
    "start_time": "2024-01-17T00:08:41.110Z"
   },
   {
    "duration": 222558,
    "start_time": "2024-01-17T00:09:17.059Z"
   },
   {
    "duration": 384640,
    "start_time": "2024-01-17T00:12:59.619Z"
   },
   {
    "duration": 313,
    "start_time": "2024-01-17T00:19:24.260Z"
   },
   {
    "duration": 13,
    "start_time": "2024-01-17T00:19:24.575Z"
   },
   {
    "duration": 4,
    "start_time": "2024-01-17T00:19:24.590Z"
   },
   {
    "duration": 16661,
    "start_time": "2024-01-17T00:19:24.595Z"
   },
   {
    "duration": 46,
    "start_time": "2024-01-17T00:19:41.258Z"
   },
   {
    "duration": 4,
    "start_time": "2024-01-17T00:19:41.305Z"
   },
   {
    "duration": 10846,
    "start_time": "2024-01-17T00:19:41.311Z"
   },
   {
    "duration": 520,
    "start_time": "2024-01-17T00:19:52.159Z"
   },
   {
    "duration": 73,
    "start_time": "2024-01-17T00:19:52.681Z"
   },
   {
    "duration": 11,
    "start_time": "2024-01-17T00:19:52.756Z"
   },
   {
    "duration": 16665,
    "start_time": "2024-01-17T00:19:52.769Z"
   },
   {
    "duration": 45,
    "start_time": "2024-01-17T00:20:09.435Z"
   },
   {
    "duration": 4,
    "start_time": "2024-01-17T00:20:09.482Z"
   }
  ],
  "kernelspec": {
   "display_name": "Python 3 (ipykernel)",
   "language": "python",
   "name": "python3"
  },
  "language_info": {
   "codemirror_mode": {
    "name": "ipython",
    "version": 3
   },
   "file_extension": ".py",
   "mimetype": "text/x-python",
   "name": "python",
   "nbconvert_exporter": "python",
   "pygments_lexer": "ipython3",
   "version": "3.11.5"
  },
  "toc": {
   "base_numbering": 1,
   "nav_menu": {},
   "number_sections": true,
   "sideBar": true,
   "skip_h1_title": true,
   "title_cell": "Table of Contents",
   "title_sidebar": "Contents",
   "toc_cell": false,
   "toc_position": {
    "height": "calc(100% - 180px)",
    "left": "10px",
    "top": "150px",
    "width": "294.175px"
   },
   "toc_section_display": true,
   "toc_window_display": false
  }
 },
 "nbformat": 4,
 "nbformat_minor": 2
}
