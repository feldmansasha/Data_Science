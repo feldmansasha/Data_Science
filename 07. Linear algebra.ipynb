{
 "cells": [
  {
   "cell_type": "markdown",
   "metadata": {
    "toc": true
   },
   "source": [
    "<h1>Содержание<span class=\"tocSkip\"></span></h1>\n",
    "<div class=\"toc\"><ul class=\"toc-item\"><li><span><a href=\"#Loading-data\" data-toc-modified-id=\"Loading-data-1\"><span class=\"toc-item-num\">1&nbsp;&nbsp;</span>Loading data</a></span></li><li><span><a href=\"#Matrix-multiplication\" data-toc-modified-id=\"Matrix-multiplication-2\"><span class=\"toc-item-num\">2&nbsp;&nbsp;</span>Matrix multiplication</a></span></li><li><span><a href=\"#Conversion-algorithm\" data-toc-modified-id=\"Conversion-algorithm-3\"><span class=\"toc-item-num\">3&nbsp;&nbsp;</span>Conversion algorithm</a></span></li><li><span><a href=\"#Algorithm-check\" data-toc-modified-id=\"Algorithm-check-4\"><span class=\"toc-item-num\">4&nbsp;&nbsp;</span>Algorithm check</a></span><ul class=\"toc-item\"><li><span><a href=\"#Initial-matrix\" data-toc-modified-id=\"Initial-matrix-4.1\"><span class=\"toc-item-num\">4.1&nbsp;&nbsp;</span>Initial matrix</a></span></li><li><span><a href=\"#New-matrix\" data-toc-modified-id=\"New-matrix-4.2\"><span class=\"toc-item-num\">4.2&nbsp;&nbsp;</span>New matrix</a></span></li><li><span><a href=\"#Data-decryption\" data-toc-modified-id=\"Data-decryption-4.3\"><span class=\"toc-item-num\">4.3&nbsp;&nbsp;</span>Data decryption</a></span></li></ul></li><li><span><a href=\"#Conclusion\" data-toc-modified-id=\"Conclusion-5\"><span class=\"toc-item-num\">5&nbsp;&nbsp;</span>Conclusion</a></span></li></ul></div>"
   ]
  },
  {
   "cell_type": "markdown",
   "metadata": {},
   "source": [
    "# Protection of personal data of clients"
   ]
  },
  {
   "cell_type": "markdown",
   "metadata": {},
   "source": [
    "You need to protect the data of clients of the insurance company. Develop a method for transforming data so that it is difficult to recover personal information from it. Justify the correctness of its operation.\n",
    "\n",
    "It is necessary to protect the data so that the quality of machine learning models does not deteriorate during conversion. There is no need to select the best model."
   ]
  },
  {
   "cell_type": "markdown",
   "metadata": {},
   "source": [
    "## Loading data"
   ]
  },
  {
   "cell_type": "code",
   "execution_count": 1,
   "metadata": {},
   "outputs": [],
   "source": [
    "import pandas as pd\n",
    "import numpy as np\n",
    "\n",
    "from sklearn.linear_model import LinearRegression\n",
    "from sklearn.metrics import r2_score\n",
    "from sklearn.model_selection import train_test_split\n",
    "RANDOM_STATE=12345"
   ]
  },
  {
   "cell_type": "code",
   "execution_count": 2,
   "metadata": {},
   "outputs": [
    {
     "data": {
      "text/html": [
       "<div>\n",
       "<style scoped>\n",
       "    .dataframe tbody tr th:only-of-type {\n",
       "        vertical-align: middle;\n",
       "    }\n",
       "\n",
       "    .dataframe tbody tr th {\n",
       "        vertical-align: top;\n",
       "    }\n",
       "\n",
       "    .dataframe thead th {\n",
       "        text-align: right;\n",
       "    }\n",
       "</style>\n",
       "<table border=\"1\" class=\"dataframe\">\n",
       "  <thead>\n",
       "    <tr style=\"text-align: right;\">\n",
       "      <th></th>\n",
       "      <th>Пол</th>\n",
       "      <th>Возраст</th>\n",
       "      <th>Зарплата</th>\n",
       "      <th>Члены семьи</th>\n",
       "      <th>Страховые выплаты</th>\n",
       "    </tr>\n",
       "  </thead>\n",
       "  <tbody>\n",
       "    <tr>\n",
       "      <th>883</th>\n",
       "      <td>0</td>\n",
       "      <td>21.0</td>\n",
       "      <td>39400.0</td>\n",
       "      <td>1</td>\n",
       "      <td>0</td>\n",
       "    </tr>\n",
       "    <tr>\n",
       "      <th>2753</th>\n",
       "      <td>1</td>\n",
       "      <td>20.0</td>\n",
       "      <td>44400.0</td>\n",
       "      <td>0</td>\n",
       "      <td>0</td>\n",
       "    </tr>\n",
       "    <tr>\n",
       "      <th>4606</th>\n",
       "      <td>0</td>\n",
       "      <td>42.0</td>\n",
       "      <td>59100.0</td>\n",
       "      <td>0</td>\n",
       "      <td>1</td>\n",
       "    </tr>\n",
       "    <tr>\n",
       "      <th>240</th>\n",
       "      <td>1</td>\n",
       "      <td>31.0</td>\n",
       "      <td>41500.0</td>\n",
       "      <td>0</td>\n",
       "      <td>0</td>\n",
       "    </tr>\n",
       "    <tr>\n",
       "      <th>4024</th>\n",
       "      <td>1</td>\n",
       "      <td>39.0</td>\n",
       "      <td>35500.0</td>\n",
       "      <td>0</td>\n",
       "      <td>0</td>\n",
       "    </tr>\n",
       "    <tr>\n",
       "      <th>2065</th>\n",
       "      <td>0</td>\n",
       "      <td>23.0</td>\n",
       "      <td>49700.0</td>\n",
       "      <td>0</td>\n",
       "      <td>0</td>\n",
       "    </tr>\n",
       "    <tr>\n",
       "      <th>1014</th>\n",
       "      <td>0</td>\n",
       "      <td>38.0</td>\n",
       "      <td>43300.0</td>\n",
       "      <td>1</td>\n",
       "      <td>0</td>\n",
       "    </tr>\n",
       "    <tr>\n",
       "      <th>3168</th>\n",
       "      <td>1</td>\n",
       "      <td>49.0</td>\n",
       "      <td>38200.0</td>\n",
       "      <td>1</td>\n",
       "      <td>2</td>\n",
       "    </tr>\n",
       "    <tr>\n",
       "      <th>2197</th>\n",
       "      <td>1</td>\n",
       "      <td>39.0</td>\n",
       "      <td>42300.0</td>\n",
       "      <td>0</td>\n",
       "      <td>0</td>\n",
       "    </tr>\n",
       "    <tr>\n",
       "      <th>1975</th>\n",
       "      <td>0</td>\n",
       "      <td>24.0</td>\n",
       "      <td>46800.0</td>\n",
       "      <td>0</td>\n",
       "      <td>0</td>\n",
       "    </tr>\n",
       "  </tbody>\n",
       "</table>\n",
       "</div>"
      ],
      "text/plain": [
       "      Пол  Возраст  Зарплата  Члены семьи  Страховые выплаты\n",
       "883     0     21.0   39400.0            1                  0\n",
       "2753    1     20.0   44400.0            0                  0\n",
       "4606    0     42.0   59100.0            0                  1\n",
       "240     1     31.0   41500.0            0                  0\n",
       "4024    1     39.0   35500.0            0                  0\n",
       "2065    0     23.0   49700.0            0                  0\n",
       "1014    0     38.0   43300.0            1                  0\n",
       "3168    1     49.0   38200.0            1                  2\n",
       "2197    1     39.0   42300.0            0                  0\n",
       "1975    0     24.0   46800.0            0                  0"
      ]
     },
     "execution_count": 2,
     "metadata": {},
     "output_type": "execute_result"
    }
   ],
   "source": [
    "data=pd.read_csv(\"insurance.csv\")\n",
    "data.sample(10)"
   ]
  },
  {
   "cell_type": "code",
   "execution_count": 3,
   "metadata": {},
   "outputs": [
    {
     "data": {
      "text/html": [
       "<div>\n",
       "<style scoped>\n",
       "    .dataframe tbody tr th:only-of-type {\n",
       "        vertical-align: middle;\n",
       "    }\n",
       "\n",
       "    .dataframe tbody tr th {\n",
       "        vertical-align: top;\n",
       "    }\n",
       "\n",
       "    .dataframe thead th {\n",
       "        text-align: right;\n",
       "    }\n",
       "</style>\n",
       "<table border=\"1\" class=\"dataframe\">\n",
       "  <thead>\n",
       "    <tr style=\"text-align: right;\">\n",
       "      <th></th>\n",
       "      <th>Пол</th>\n",
       "      <th>Возраст</th>\n",
       "      <th>Зарплата</th>\n",
       "      <th>Члены семьи</th>\n",
       "      <th>Страховые выплаты</th>\n",
       "    </tr>\n",
       "  </thead>\n",
       "  <tbody>\n",
       "    <tr>\n",
       "      <th>count</th>\n",
       "      <td>5000.000000</td>\n",
       "      <td>5000.000000</td>\n",
       "      <td>5000.000000</td>\n",
       "      <td>5000.000000</td>\n",
       "      <td>5000.000000</td>\n",
       "    </tr>\n",
       "    <tr>\n",
       "      <th>mean</th>\n",
       "      <td>0.499000</td>\n",
       "      <td>30.952800</td>\n",
       "      <td>39916.360000</td>\n",
       "      <td>1.194200</td>\n",
       "      <td>0.148000</td>\n",
       "    </tr>\n",
       "    <tr>\n",
       "      <th>std</th>\n",
       "      <td>0.500049</td>\n",
       "      <td>8.440807</td>\n",
       "      <td>9900.083569</td>\n",
       "      <td>1.091387</td>\n",
       "      <td>0.463183</td>\n",
       "    </tr>\n",
       "    <tr>\n",
       "      <th>min</th>\n",
       "      <td>0.000000</td>\n",
       "      <td>18.000000</td>\n",
       "      <td>5300.000000</td>\n",
       "      <td>0.000000</td>\n",
       "      <td>0.000000</td>\n",
       "    </tr>\n",
       "    <tr>\n",
       "      <th>25%</th>\n",
       "      <td>0.000000</td>\n",
       "      <td>24.000000</td>\n",
       "      <td>33300.000000</td>\n",
       "      <td>0.000000</td>\n",
       "      <td>0.000000</td>\n",
       "    </tr>\n",
       "    <tr>\n",
       "      <th>50%</th>\n",
       "      <td>0.000000</td>\n",
       "      <td>30.000000</td>\n",
       "      <td>40200.000000</td>\n",
       "      <td>1.000000</td>\n",
       "      <td>0.000000</td>\n",
       "    </tr>\n",
       "    <tr>\n",
       "      <th>75%</th>\n",
       "      <td>1.000000</td>\n",
       "      <td>37.000000</td>\n",
       "      <td>46600.000000</td>\n",
       "      <td>2.000000</td>\n",
       "      <td>0.000000</td>\n",
       "    </tr>\n",
       "    <tr>\n",
       "      <th>max</th>\n",
       "      <td>1.000000</td>\n",
       "      <td>65.000000</td>\n",
       "      <td>79000.000000</td>\n",
       "      <td>6.000000</td>\n",
       "      <td>5.000000</td>\n",
       "    </tr>\n",
       "  </tbody>\n",
       "</table>\n",
       "</div>"
      ],
      "text/plain": [
       "               Пол      Возраст      Зарплата  Члены семьи  Страховые выплаты\n",
       "count  5000.000000  5000.000000   5000.000000  5000.000000        5000.000000\n",
       "mean      0.499000    30.952800  39916.360000     1.194200           0.148000\n",
       "std       0.500049     8.440807   9900.083569     1.091387           0.463183\n",
       "min       0.000000    18.000000   5300.000000     0.000000           0.000000\n",
       "25%       0.000000    24.000000  33300.000000     0.000000           0.000000\n",
       "50%       0.000000    30.000000  40200.000000     1.000000           0.000000\n",
       "75%       1.000000    37.000000  46600.000000     2.000000           0.000000\n",
       "max       1.000000    65.000000  79000.000000     6.000000           5.000000"
      ]
     },
     "execution_count": 3,
     "metadata": {},
     "output_type": "execute_result"
    }
   ],
   "source": [
    "data.describe()"
   ]
  },
  {
   "cell_type": "code",
   "execution_count": 4,
   "metadata": {},
   "outputs": [
    {
     "name": "stdout",
     "output_type": "stream",
     "text": [
      "<class 'pandas.core.frame.DataFrame'>\n",
      "RangeIndex: 5000 entries, 0 to 4999\n",
      "Data columns (total 5 columns):\n",
      " #   Column             Non-Null Count  Dtype  \n",
      "---  ------             --------------  -----  \n",
      " 0   Пол                5000 non-null   int64  \n",
      " 1   Возраст            5000 non-null   float64\n",
      " 2   Зарплата           5000 non-null   float64\n",
      " 3   Члены семьи        5000 non-null   int64  \n",
      " 4   Страховые выплаты  5000 non-null   int64  \n",
      "dtypes: float64(2), int64(3)\n",
      "memory usage: 195.4 KB\n"
     ]
    }
   ],
   "source": [
    "data.info()"
   ]
  },
  {
   "cell_type": "code",
   "execution_count": 5,
   "metadata": {},
   "outputs": [
    {
     "data": {
      "text/plain": [
       "153"
      ]
     },
     "execution_count": 5,
     "metadata": {},
     "output_type": "execute_result"
    }
   ],
   "source": [
    "data.duplicated().sum()"
   ]
  },
  {
   "cell_type": "code",
   "execution_count": 6,
   "metadata": {},
   "outputs": [
    {
     "data": {
      "text/plain": [
       "Пол                  0\n",
       "Возраст              0\n",
       "Зарплата             0\n",
       "Члены семьи          0\n",
       "Страховые выплаты    0\n",
       "dtype: int64"
      ]
     },
     "execution_count": 6,
     "metadata": {},
     "output_type": "execute_result"
    }
   ],
   "source": [
    "data.isna().sum()"
   ]
  },
  {
   "cell_type": "code",
   "execution_count": 7,
   "metadata": {},
   "outputs": [],
   "source": [
    "data=data.drop_duplicates()"
   ]
  },
  {
   "cell_type": "code",
   "execution_count": 8,
   "metadata": {},
   "outputs": [
    {
     "name": "stdout",
     "output_type": "stream",
     "text": [
      "<class 'pandas.core.frame.DataFrame'>\n",
      "Index: 4847 entries, 0 to 4999\n",
      "Data columns (total 5 columns):\n",
      " #   Column             Non-Null Count  Dtype  \n",
      "---  ------             --------------  -----  \n",
      " 0   Пол                4847 non-null   int64  \n",
      " 1   Возраст            4847 non-null   float64\n",
      " 2   Зарплата           4847 non-null   float64\n",
      " 3   Члены семьи        4847 non-null   int64  \n",
      " 4   Страховые выплаты  4847 non-null   int64  \n",
      "dtypes: float64(2), int64(3)\n",
      "memory usage: 227.2 KB\n"
     ]
    }
   ],
   "source": [
    "data.info()"
   ]
  },
  {
   "cell_type": "markdown",
   "metadata": {},
   "source": [
    "**Conclusion**\n",
    "\n",
    "Using the describe() method, we studied customer data. Age ranges from 18 to 65 years, salary range from 5.3 thousand to 79 thousand, on average 1 child per family (maximum 6).\n",
    "\n",
    "The maximum number of payments per client is 5, but on average - 0.2. Thus, there are no anomalies or errors in the data.\n",
    "\n",
    "We also checked the data for any omissions."
   ]
  },
  {
   "cell_type": "markdown",
   "metadata": {},
   "source": [
    "## Matrix multiplication"
   ]
  },
  {
   "cell_type": "markdown",
   "metadata": {},
   "source": [
    "**Features are multiplied by an invertible matrix. Will the quality of linear regression change?**\n",
    " \n",
    "  a. Will change. Give examples of matrices.\n",
    " \n",
    "  b. Will not change. Indicate how the linear regression parameters in the original problem and in the transformed one are related."
   ]
  },
  {
   "cell_type": "markdown",
   "metadata": {},
   "source": [
    "Designations:\n",
    "\n",
    "- $X$ — matrix of features (the zero column consists of ones)\n",
    "\n",
    "- $y$ — vector of the target feature\n",
    "\n",
    "- $P$ is the matrix by which the features are multiplied\n",
    "\n",
    "- $w$ — vector of linear regression weights (zero element equals shift)"
   ]
  },
  {
   "cell_type": "markdown",
   "metadata": {},
   "source": [
    "Predictions:\n",
    "\n",
    "$$\n",
    "a = Xw\n",
    "$$\n",
    "\n",
    "Learning Objective:\n",
    "\n",
    "$$\n",
    "w = \\arg\\min_w MSE(Xw, y)\n",
    "$$\n",
    "\n",
    "Training formula:\n",
    "\n",
    "$$\n",
    "w = (X^T X)^{-1} X^T y\n",
    "$$"
   ]
  },
  {
   "cell_type": "markdown",
   "metadata": {},
   "source": [
    "**Answer:** When multiplying features by an invertible matrix, the quality of linear regression does not change\n",
    "\n",
    "**Rationale:**"
   ]
  },
  {
   "cell_type": "markdown",
   "metadata": {},
   "source": [
    "Let $Z=XP$\n",
    "\n",
    "$X$ — feature matrix (the zero column consists of ones)\n",
    "\n",
    "$P$ - invertible matrix\n",
    "\n",
    "$a=Xw$\n",
    "\n",
    "$w=(X^TX)^{-1}X^Ty$\n",
    "\n",
    "$a1=Zw$\n",
    "\n",
    "$w1=(Z^TZ)^{-1}Z^Ty=((XP)^TXP)^{-1}(XP)^Ty=(P^TX^TXP)^{-1}(XP) ^Ty=P^{-1}(X^TX)^{-1}(P^T)^{-1}(XP)^Ty$\n",
    "\n",
    "Let's check if $a$ and $a1$ are equal? Let's simplify the expression $Zw1$\n",
    "\n",
    "$a1=XPP^{-1}(X^TX)^{-1}(P^T)^{-1}(XP)^Ty$\n",
    "\n",
    "$a1=XE(X^TX)^{-1}(P^T)^{-1}(XP)^Ty$\n",
    "\n",
    "$a1=X(X^TX)^{-1}(P^T)^{-1}P^TX^Ty$\n",
    "\n",
    "$a1=X(X^TX)^{-1}X^Ty$\n",
    "\n",
    "$a=Xw=X(X^TX)^{-1}X^Ty$\n",
    "\n",
    "The equality is true, so the hypothesis is proven"
   ]
  },
  {
   "cell_type": "markdown",
   "metadata": {},
   "source": [
    "**Conclusion**\n",
    "\n",
    "We proved the assumption that multiplying the original matrix by the invertible one does not change the quality of linear regression. This output will be needed in step 3."
   ]
  },
  {
   "cell_type": "markdown",
   "metadata": {},
   "source": [
    "## Conversion algorithm"
   ]
  },
  {
   "cell_type": "markdown",
   "metadata": {},
   "source": [
    "**Algorithm**\n",
    "\n",
    "1. Create a random 4x4 matrix.\n",
    "2. We check the invertibility of the matrix by calculating the determinant. If it is equal to zero, then we create the matrix again until the determinant becomes non-zero (and the matrix is invertible).\n",
    "3. Multiply the original matrix by the coding one. We make sure that the received data is difficult to decrypt without the encoder signs.\n",
    "4. The function returns the resulting and encoding matrix.\n",
    "5. Calculate the R2 metric of the original matrix.\n",
    "6. Calculate the R2 metric of the protected matrix. It is equal to the metrics of the original matrix. This means you can use the resulting matrix to work and train models without transmitting personal data."
   ]
  },
  {
   "cell_type": "code",
   "execution_count": 9,
   "metadata": {},
   "outputs": [],
   "source": [
    "def secure(features):\n",
    "    new_features = features\n",
    "    det=0\n",
    "    while det == 0:\n",
    "        encryption_matrix = np.random.normal(-100, 100, (4,4))\n",
    "        det = np.linalg.det(encryption_matrix)\n",
    "    new_features = new_features @ encryption_matrix\n",
    "    return new_features, encryption_matrix"
   ]
  },
  {
   "cell_type": "markdown",
   "metadata": {},
   "source": [
    "**Rationale**\n",
    "\n",
    "In paragraph 2 of the project it is proven that multiplication by an invertible matrix does not affect the quality of linear regression. Data security is ensured by using a random number generator to compile the matrix"
   ]
  },
  {
   "cell_type": "markdown",
   "metadata": {},
   "source": [
    "**Conclusion**\n",
    "\n",
    "Based on the second point, an algorithm was created that changes the original matrix and helps protect personal data."
   ]
  },
  {
   "cell_type": "markdown",
   "metadata": {},
   "source": [
    "## Algorithm check"
   ]
  },
  {
   "cell_type": "markdown",
   "metadata": {},
   "source": [
    "### Initial matrix"
   ]
  },
  {
   "cell_type": "code",
   "execution_count": 10,
   "metadata": {},
   "outputs": [
    {
     "name": "stdout",
     "output_type": "stream",
     "text": [
      "3877 970\n",
      "3877 970\n"
     ]
    }
   ],
   "source": [
    "features = data.drop('Страховые выплаты', axis = 1)\n",
    "target = data['Страховые выплаты']\n",
    "\n",
    "features_train, features_test, target_train, target_test = train_test_split(\n",
    "    features, target, test_size=0.2, random_state=RANDOM_STATE)\n",
    "print(features_train.shape[0], features_test.shape[0])\n",
    "print(target_train.shape[0], target_test.shape[0])"
   ]
  },
  {
   "cell_type": "code",
   "execution_count": 11,
   "metadata": {},
   "outputs": [
    {
     "name": "stdout",
     "output_type": "stream",
     "text": [
      "R2 in the original matrix = 0.41605492161510926\n"
     ]
    },
    {
     "data": {
      "text/html": [
       "<div>\n",
       "<style scoped>\n",
       "    .dataframe tbody tr th:only-of-type {\n",
       "        vertical-align: middle;\n",
       "    }\n",
       "\n",
       "    .dataframe tbody tr th {\n",
       "        vertical-align: top;\n",
       "    }\n",
       "\n",
       "    .dataframe thead th {\n",
       "        text-align: right;\n",
       "    }\n",
       "</style>\n",
       "<table border=\"1\" class=\"dataframe\">\n",
       "  <thead>\n",
       "    <tr style=\"text-align: right;\">\n",
       "      <th></th>\n",
       "      <th>Пол</th>\n",
       "      <th>Возраст</th>\n",
       "      <th>Зарплата</th>\n",
       "      <th>Члены семьи</th>\n",
       "    </tr>\n",
       "  </thead>\n",
       "  <tbody>\n",
       "    <tr>\n",
       "      <th>0</th>\n",
       "      <td>1</td>\n",
       "      <td>41.0</td>\n",
       "      <td>49600.0</td>\n",
       "      <td>1</td>\n",
       "    </tr>\n",
       "    <tr>\n",
       "      <th>1</th>\n",
       "      <td>0</td>\n",
       "      <td>46.0</td>\n",
       "      <td>38000.0</td>\n",
       "      <td>1</td>\n",
       "    </tr>\n",
       "    <tr>\n",
       "      <th>2</th>\n",
       "      <td>0</td>\n",
       "      <td>29.0</td>\n",
       "      <td>21000.0</td>\n",
       "      <td>0</td>\n",
       "    </tr>\n",
       "    <tr>\n",
       "      <th>3</th>\n",
       "      <td>0</td>\n",
       "      <td>21.0</td>\n",
       "      <td>41700.0</td>\n",
       "      <td>2</td>\n",
       "    </tr>\n",
       "    <tr>\n",
       "      <th>4</th>\n",
       "      <td>1</td>\n",
       "      <td>28.0</td>\n",
       "      <td>26100.0</td>\n",
       "      <td>0</td>\n",
       "    </tr>\n",
       "  </tbody>\n",
       "</table>\n",
       "</div>"
      ],
      "text/plain": [
       "   Пол  Возраст  Зарплата  Члены семьи\n",
       "0    1     41.0   49600.0            1\n",
       "1    0     46.0   38000.0            1\n",
       "2    0     29.0   21000.0            0\n",
       "3    0     21.0   41700.0            2\n",
       "4    1     28.0   26100.0            0"
      ]
     },
     "execution_count": 11,
     "metadata": {},
     "output_type": "execute_result"
    }
   ],
   "source": [
    "model = LinearRegression()\n",
    "model.fit(features_train, target_train)\n",
    "predictions = model.predict(features_test)\n",
    "print(\"R2 in the original matrix =\", r2_score(target_test, predictions))\n",
    "features.head(5)"
   ]
  },
  {
   "cell_type": "markdown",
   "metadata": {},
   "source": [
    "### New matrix"
   ]
  },
  {
   "cell_type": "code",
   "execution_count": 12,
   "metadata": {},
   "outputs": [
    {
     "name": "stdout",
     "output_type": "stream",
     "text": [
      "R2 in the new matrix = 0.4160549216148012\n"
     ]
    },
    {
     "data": {
      "text/html": [
       "<div>\n",
       "<style scoped>\n",
       "    .dataframe tbody tr th:only-of-type {\n",
       "        vertical-align: middle;\n",
       "    }\n",
       "\n",
       "    .dataframe tbody tr th {\n",
       "        vertical-align: top;\n",
       "    }\n",
       "\n",
       "    .dataframe thead th {\n",
       "        text-align: right;\n",
       "    }\n",
       "</style>\n",
       "<table border=\"1\" class=\"dataframe\">\n",
       "  <thead>\n",
       "    <tr style=\"text-align: right;\">\n",
       "      <th></th>\n",
       "      <th>0</th>\n",
       "      <th>1</th>\n",
       "      <th>2</th>\n",
       "      <th>3</th>\n",
       "    </tr>\n",
       "  </thead>\n",
       "  <tbody>\n",
       "    <tr>\n",
       "      <th>0</th>\n",
       "      <td>-4.089606e+06</td>\n",
       "      <td>-5.772087e+06</td>\n",
       "      <td>2.480267e+06</td>\n",
       "      <td>-6.177497e+06</td>\n",
       "    </tr>\n",
       "    <tr>\n",
       "      <th>1</th>\n",
       "      <td>-3.134959e+06</td>\n",
       "      <td>-4.423662e+06</td>\n",
       "      <td>1.897538e+06</td>\n",
       "      <td>-4.732324e+06</td>\n",
       "    </tr>\n",
       "    <tr>\n",
       "      <th>2</th>\n",
       "      <td>-1.732826e+06</td>\n",
       "      <td>-2.444976e+06</td>\n",
       "      <td>1.048061e+06</td>\n",
       "      <td>-2.615025e+06</td>\n",
       "    </tr>\n",
       "    <tr>\n",
       "      <th>3</th>\n",
       "      <td>-3.436837e+06</td>\n",
       "      <td>-4.851388e+06</td>\n",
       "      <td>2.087465e+06</td>\n",
       "      <td>-5.194181e+06</td>\n",
       "    </tr>\n",
       "    <tr>\n",
       "      <th>4</th>\n",
       "      <td>-2.152658e+06</td>\n",
       "      <td>-3.037981e+06</td>\n",
       "      <td>1.304072e+06</td>\n",
       "      <td>-3.250379e+06</td>\n",
       "    </tr>\n",
       "  </tbody>\n",
       "</table>\n",
       "</div>"
      ],
      "text/plain": [
       "              0             1             2             3\n",
       "0 -4.089606e+06 -5.772087e+06  2.480267e+06 -6.177497e+06\n",
       "1 -3.134959e+06 -4.423662e+06  1.897538e+06 -4.732324e+06\n",
       "2 -1.732826e+06 -2.444976e+06  1.048061e+06 -2.615025e+06\n",
       "3 -3.436837e+06 -4.851388e+06  2.087465e+06 -5.194181e+06\n",
       "4 -2.152658e+06 -3.037981e+06  1.304072e+06 -3.250379e+06"
      ]
     },
     "execution_count": 12,
     "metadata": {},
     "output_type": "execute_result"
    }
   ],
   "source": [
    "model = LinearRegression()\n",
    "features = data.drop('Страховые выплаты', axis = 1)\n",
    "target = data['Страховые выплаты']\n",
    "features, encryption_matrix = secure(features)\n",
    "features_train, features_test, target_train, target_test = train_test_split(\n",
    "    features, target, test_size=0.2, random_state=RANDOM_STATE)\n",
    "\n",
    "model.fit(features_train, target_train)\n",
    "predictions = model.predict(features_test)\n",
    "print(\"R2 in the new matrix =\", r2_score(target_test, predictions))\n",
    "features.head()"
   ]
  },
  {
   "cell_type": "code",
   "execution_count": 13,
   "metadata": {},
   "outputs": [
    {
     "name": "stdout",
     "output_type": "stream",
     "text": [
      "Coding matrix:\n"
     ]
    },
    {
     "data": {
      "text/plain": [
       "array([[  45.33656695,  -68.55288519,   44.97948693,  -24.81133755],\n",
       "       [-118.36626948, -104.77817966, -178.66369112,   31.30715965],\n",
       "       [ -82.35208622, -116.28271444,   50.15438444, -124.56824415],\n",
       "       [-134.87994016,  -99.45558118, -110.37658903, -171.30628829]])"
      ]
     },
     "execution_count": 13,
     "metadata": {},
     "output_type": "execute_result"
    }
   ],
   "source": [
    "print(\"Coding matrix:\")\n",
    "encryption_matrix"
   ]
  },
  {
   "cell_type": "markdown",
   "metadata": {},
   "source": [
    "### Data decryption"
   ]
  },
  {
   "cell_type": "code",
   "execution_count": 14,
   "metadata": {},
   "outputs": [
    {
     "data": {
      "text/html": [
       "<div>\n",
       "<style scoped>\n",
       "    .dataframe tbody tr th:only-of-type {\n",
       "        vertical-align: middle;\n",
       "    }\n",
       "\n",
       "    .dataframe tbody tr th {\n",
       "        vertical-align: top;\n",
       "    }\n",
       "\n",
       "    .dataframe thead th {\n",
       "        text-align: right;\n",
       "    }\n",
       "</style>\n",
       "<table border=\"1\" class=\"dataframe\">\n",
       "  <thead>\n",
       "    <tr style=\"text-align: right;\">\n",
       "      <th></th>\n",
       "      <th>Пол</th>\n",
       "      <th>Возраст</th>\n",
       "      <th>Зарплата</th>\n",
       "      <th>Члены семьи</th>\n",
       "    </tr>\n",
       "  </thead>\n",
       "  <tbody>\n",
       "    <tr>\n",
       "      <th>0</th>\n",
       "      <td>1.0</td>\n",
       "      <td>41.0</td>\n",
       "      <td>49600.0</td>\n",
       "      <td>1.0</td>\n",
       "    </tr>\n",
       "    <tr>\n",
       "      <th>1</th>\n",
       "      <td>0.0</td>\n",
       "      <td>46.0</td>\n",
       "      <td>38000.0</td>\n",
       "      <td>1.0</td>\n",
       "    </tr>\n",
       "    <tr>\n",
       "      <th>2</th>\n",
       "      <td>0.0</td>\n",
       "      <td>29.0</td>\n",
       "      <td>21000.0</td>\n",
       "      <td>0.0</td>\n",
       "    </tr>\n",
       "    <tr>\n",
       "      <th>3</th>\n",
       "      <td>0.0</td>\n",
       "      <td>21.0</td>\n",
       "      <td>41700.0</td>\n",
       "      <td>2.0</td>\n",
       "    </tr>\n",
       "    <tr>\n",
       "      <th>4</th>\n",
       "      <td>1.0</td>\n",
       "      <td>28.0</td>\n",
       "      <td>26100.0</td>\n",
       "      <td>0.0</td>\n",
       "    </tr>\n",
       "  </tbody>\n",
       "</table>\n",
       "</div>"
      ],
      "text/plain": [
       "   Пол  Возраст  Зарплата  Члены семьи\n",
       "0  1.0     41.0   49600.0          1.0\n",
       "1  0.0     46.0   38000.0          1.0\n",
       "2  0.0     29.0   21000.0          0.0\n",
       "3  0.0     21.0   41700.0          2.0\n",
       "4  1.0     28.0   26100.0          0.0"
      ]
     },
     "execution_count": 14,
     "metadata": {},
     "output_type": "execute_result"
    }
   ],
   "source": [
    "encryption_matrix_inv=np.linalg.inv(encryption_matrix)\n",
    "decrypted=features @ encryption_matrix_inv\n",
    "decrypted=decrypted.round().abs()\n",
    "decrypted.columns=['Пол', 'Возраст', 'Зарплата', 'Члены семьи']\n",
    "decrypted.head()"
   ]
  },
  {
   "cell_type": "markdown",
   "metadata": {},
   "source": [
    "**Conclusion**\n",
    "\n",
    "During the test, we were convinced that the algorithm was correct in practice."
   ]
  },
  {
   "cell_type": "markdown",
   "metadata": {},
   "source": [
    "## Conclusion\n",
    "1. Pre-processed the data. We removed repetitions and also checked the quality of the source data: there are no gaps or extremes.\n",
    "2. Prepared a theoretical basis. They proved that it is possible to multiply a matrix by an invertible one without losing the quality of the matrix. regression.\n",
    "3. We created an algorithm that encrypts personal data, using the conclusions from the second point of the study.\n",
    "4. We tested in practice the performance of the algorithm and the accuracy of its operation.\n",
    "5. R2 metrics before and after encryption are equal and amount to **0.41605**"
   ]
  }
 ],
 "metadata": {
  "ExecuteTimeLog": [
   {
    "duration": 420,
    "start_time": "2023-06-30T20:54:02.183Z"
   },
   {
    "duration": 145,
    "start_time": "2023-06-30T20:54:04.564Z"
   },
   {
    "duration": 44,
    "start_time": "2023-06-30T20:54:40.687Z"
   },
   {
    "duration": 9,
    "start_time": "2023-06-30T20:55:05.931Z"
   },
   {
    "duration": 5,
    "start_time": "2023-06-30T20:55:10.940Z"
   },
   {
    "duration": 14,
    "start_time": "2023-06-30T20:56:16.384Z"
   },
   {
    "duration": 13,
    "start_time": "2023-06-30T20:57:29.935Z"
   },
   {
    "duration": 16,
    "start_time": "2023-06-30T20:57:46.058Z"
   },
   {
    "duration": 11,
    "start_time": "2023-06-30T20:57:52.531Z"
   },
   {
    "duration": 6,
    "start_time": "2023-06-30T20:57:59.792Z"
   },
   {
    "duration": 12,
    "start_time": "2023-06-30T20:58:01.484Z"
   },
   {
    "duration": 10,
    "start_time": "2023-06-30T20:58:07.428Z"
   },
   {
    "duration": 12,
    "start_time": "2023-06-30T20:58:42.113Z"
   },
   {
    "duration": 6,
    "start_time": "2023-06-30T20:58:46.434Z"
   },
   {
    "duration": 14,
    "start_time": "2023-06-30T20:59:07.408Z"
   },
   {
    "duration": 9,
    "start_time": "2023-06-30T20:59:41.921Z"
   },
   {
    "duration": 10,
    "start_time": "2023-06-30T20:59:49.246Z"
   },
   {
    "duration": 10,
    "start_time": "2023-06-30T21:00:18.052Z"
   },
   {
    "duration": 750,
    "start_time": "2023-06-30T21:59:02.349Z"
   },
   {
    "duration": 36,
    "start_time": "2023-06-30T21:59:03.101Z"
   },
   {
    "duration": 10,
    "start_time": "2023-06-30T21:59:03.139Z"
   },
   {
    "duration": 12,
    "start_time": "2023-06-30T21:59:03.150Z"
   },
   {
    "duration": 8,
    "start_time": "2023-06-30T21:59:03.164Z"
   },
   {
    "duration": 9,
    "start_time": "2023-06-30T21:59:03.173Z"
   },
   {
    "duration": 9,
    "start_time": "2023-06-30T21:59:03.183Z"
   },
   {
    "duration": 116,
    "start_time": "2023-06-30T21:59:03.193Z"
   },
   {
    "duration": 0,
    "start_time": "2023-06-30T21:59:03.311Z"
   },
   {
    "duration": 114,
    "start_time": "2023-06-30T22:00:47.631Z"
   },
   {
    "duration": 11,
    "start_time": "2023-06-30T22:01:17.127Z"
   },
   {
    "duration": 94,
    "start_time": "2023-06-30T22:01:19.660Z"
   },
   {
    "duration": 4,
    "start_time": "2023-06-30T22:02:20.905Z"
   },
   {
    "duration": 41,
    "start_time": "2023-06-30T22:02:20.912Z"
   },
   {
    "duration": 14,
    "start_time": "2023-06-30T22:02:20.955Z"
   },
   {
    "duration": 28,
    "start_time": "2023-06-30T22:02:20.970Z"
   },
   {
    "duration": 41,
    "start_time": "2023-06-30T22:02:21.000Z"
   },
   {
    "duration": 44,
    "start_time": "2023-06-30T22:02:21.043Z"
   },
   {
    "duration": 25,
    "start_time": "2023-06-30T22:02:21.088Z"
   },
   {
    "duration": 9,
    "start_time": "2023-06-30T22:02:21.116Z"
   },
   {
    "duration": 13,
    "start_time": "2023-06-30T22:02:21.127Z"
   },
   {
    "duration": 1707,
    "start_time": "2023-06-30T22:02:31.403Z"
   },
   {
    "duration": 69,
    "start_time": "2023-06-30T22:02:33.112Z"
   },
   {
    "duration": 16,
    "start_time": "2023-06-30T22:02:33.182Z"
   },
   {
    "duration": 3,
    "start_time": "2023-06-30T22:02:33.200Z"
   },
   {
    "duration": 66,
    "start_time": "2023-06-30T22:02:33.205Z"
   },
   {
    "duration": 6,
    "start_time": "2023-06-30T22:02:33.273Z"
   },
   {
    "duration": 25,
    "start_time": "2023-06-30T22:02:33.280Z"
   },
   {
    "duration": 11,
    "start_time": "2023-06-30T22:02:33.306Z"
   },
   {
    "duration": 193,
    "start_time": "2023-06-30T22:02:33.318Z"
   },
   {
    "duration": 3,
    "start_time": "2023-06-30T22:02:46.447Z"
   },
   {
    "duration": 55,
    "start_time": "2023-06-30T22:02:46.452Z"
   },
   {
    "duration": 11,
    "start_time": "2023-06-30T22:02:46.508Z"
   },
   {
    "duration": 5,
    "start_time": "2023-06-30T22:02:46.521Z"
   },
   {
    "duration": 40,
    "start_time": "2023-06-30T22:02:46.527Z"
   },
   {
    "duration": 9,
    "start_time": "2023-06-30T22:02:46.568Z"
   },
   {
    "duration": 26,
    "start_time": "2023-06-30T22:02:46.578Z"
   },
   {
    "duration": 17,
    "start_time": "2023-06-30T22:02:46.605Z"
   },
   {
    "duration": 16,
    "start_time": "2023-06-30T22:02:46.624Z"
   },
   {
    "duration": 5,
    "start_time": "2023-06-30T22:03:19.214Z"
   },
   {
    "duration": 3,
    "start_time": "2023-06-30T22:03:23.633Z"
   },
   {
    "duration": 44,
    "start_time": "2023-06-30T22:03:23.638Z"
   },
   {
    "duration": 9,
    "start_time": "2023-06-30T22:03:23.683Z"
   },
   {
    "duration": 19,
    "start_time": "2023-06-30T22:03:23.694Z"
   },
   {
    "duration": 13,
    "start_time": "2023-06-30T22:03:23.715Z"
   },
   {
    "duration": 15,
    "start_time": "2023-06-30T22:03:23.729Z"
   },
   {
    "duration": 19,
    "start_time": "2023-06-30T22:03:23.746Z"
   },
   {
    "duration": 21,
    "start_time": "2023-06-30T22:03:23.767Z"
   },
   {
    "duration": 8,
    "start_time": "2023-06-30T22:03:23.790Z"
   },
   {
    "duration": 8,
    "start_time": "2023-06-30T22:11:02.937Z"
   },
   {
    "duration": 10,
    "start_time": "2023-06-30T22:12:02.949Z"
   },
   {
    "duration": 2,
    "start_time": "2023-06-30T22:12:16.826Z"
   },
   {
    "duration": 12,
    "start_time": "2023-06-30T22:12:28.204Z"
   },
   {
    "duration": 3,
    "start_time": "2023-06-30T22:13:45.408Z"
   },
   {
    "duration": 12,
    "start_time": "2023-06-30T22:13:50.489Z"
   },
   {
    "duration": 53,
    "start_time": "2023-07-02T18:56:12.683Z"
   },
   {
    "duration": 1347,
    "start_time": "2023-07-02T18:56:15.866Z"
   },
   {
    "duration": 110,
    "start_time": "2023-07-02T18:56:17.268Z"
   },
   {
    "duration": 14,
    "start_time": "2023-07-02T18:56:17.380Z"
   },
   {
    "duration": 12,
    "start_time": "2023-07-02T18:56:17.396Z"
   },
   {
    "duration": 60,
    "start_time": "2023-07-02T18:56:17.410Z"
   },
   {
    "duration": 6,
    "start_time": "2023-07-02T18:56:17.472Z"
   },
   {
    "duration": 12,
    "start_time": "2023-07-02T18:56:17.479Z"
   },
   {
    "duration": 12,
    "start_time": "2023-07-02T18:56:17.493Z"
   },
   {
    "duration": 63,
    "start_time": "2023-07-02T18:56:17.507Z"
   },
   {
    "duration": 4,
    "start_time": "2023-07-02T18:56:17.572Z"
   },
   {
    "duration": 132,
    "start_time": "2023-07-02T18:56:17.577Z"
   },
   {
    "duration": 39,
    "start_time": "2023-07-02T18:56:24.221Z"
   },
   {
    "duration": 5,
    "start_time": "2023-07-02T18:56:41.476Z"
   },
   {
    "duration": 46,
    "start_time": "2023-07-02T18:56:41.484Z"
   },
   {
    "duration": 13,
    "start_time": "2023-07-02T18:56:41.532Z"
   },
   {
    "duration": 7,
    "start_time": "2023-07-02T18:56:41.547Z"
   },
   {
    "duration": 24,
    "start_time": "2023-07-02T18:56:41.556Z"
   },
   {
    "duration": 21,
    "start_time": "2023-07-02T18:56:41.582Z"
   },
   {
    "duration": 14,
    "start_time": "2023-07-02T18:56:41.605Z"
   },
   {
    "duration": 21,
    "start_time": "2023-07-02T18:56:41.621Z"
   },
   {
    "duration": 6,
    "start_time": "2023-07-02T18:56:41.644Z"
   },
   {
    "duration": 6,
    "start_time": "2023-07-02T18:56:41.667Z"
   },
   {
    "duration": 21,
    "start_time": "2023-07-02T18:56:41.675Z"
   },
   {
    "duration": 7,
    "start_time": "2023-07-02T18:56:54.890Z"
   },
   {
    "duration": 13,
    "start_time": "2023-07-02T18:56:57.345Z"
   },
   {
    "duration": 4,
    "start_time": "2023-07-02T19:23:41.942Z"
   },
   {
    "duration": 48,
    "start_time": "2023-07-02T19:23:41.948Z"
   },
   {
    "duration": 17,
    "start_time": "2023-07-02T19:23:41.997Z"
   },
   {
    "duration": 14,
    "start_time": "2023-07-02T19:23:42.017Z"
   },
   {
    "duration": 9,
    "start_time": "2023-07-02T19:23:42.033Z"
   },
   {
    "duration": 23,
    "start_time": "2023-07-02T19:23:42.044Z"
   },
   {
    "duration": 17,
    "start_time": "2023-07-02T19:23:42.069Z"
   },
   {
    "duration": 8,
    "start_time": "2023-07-02T19:23:42.089Z"
   },
   {
    "duration": 73,
    "start_time": "2023-07-02T19:23:42.100Z"
   },
   {
    "duration": 37,
    "start_time": "2023-07-02T19:23:59.082Z"
   },
   {
    "duration": 4,
    "start_time": "2023-07-02T19:25:49.790Z"
   },
   {
    "duration": 47,
    "start_time": "2023-07-02T19:25:49.797Z"
   },
   {
    "duration": 14,
    "start_time": "2023-07-02T19:25:49.847Z"
   },
   {
    "duration": 8,
    "start_time": "2023-07-02T19:25:49.864Z"
   },
   {
    "duration": 7,
    "start_time": "2023-07-02T19:25:49.874Z"
   },
   {
    "duration": 6,
    "start_time": "2023-07-02T19:25:49.883Z"
   },
   {
    "duration": 17,
    "start_time": "2023-07-02T19:25:49.891Z"
   },
   {
    "duration": 8,
    "start_time": "2023-07-02T19:25:49.910Z"
   },
   {
    "duration": 50,
    "start_time": "2023-07-02T19:25:49.920Z"
   },
   {
    "duration": 10,
    "start_time": "2023-07-02T19:26:03.841Z"
   },
   {
    "duration": 8,
    "start_time": "2023-07-02T19:26:26.756Z"
   },
   {
    "duration": 10,
    "start_time": "2023-07-02T19:26:53.576Z"
   },
   {
    "duration": 10,
    "start_time": "2023-07-02T19:27:13.188Z"
   },
   {
    "duration": 12,
    "start_time": "2023-07-02T19:27:42.000Z"
   },
   {
    "duration": 99,
    "start_time": "2023-07-02T19:28:32.768Z"
   },
   {
    "duration": 105,
    "start_time": "2023-07-02T19:28:37.703Z"
   },
   {
    "duration": 150,
    "start_time": "2023-07-02T19:28:41.513Z"
   },
   {
    "duration": 12,
    "start_time": "2023-07-02T19:28:48.743Z"
   },
   {
    "duration": 8,
    "start_time": "2023-07-02T19:29:29.968Z"
   },
   {
    "duration": 9,
    "start_time": "2023-07-02T19:29:34.276Z"
   },
   {
    "duration": 10,
    "start_time": "2023-07-02T19:29:36.286Z"
   },
   {
    "duration": 4,
    "start_time": "2023-07-02T19:44:53.557Z"
   },
   {
    "duration": 4,
    "start_time": "2023-07-02T19:45:52.577Z"
   },
   {
    "duration": 7,
    "start_time": "2023-07-02T19:46:01.554Z"
   },
   {
    "duration": 12,
    "start_time": "2023-07-02T19:46:06.539Z"
   },
   {
    "duration": 8,
    "start_time": "2023-07-02T19:46:10.595Z"
   },
   {
    "duration": 24,
    "start_time": "2023-07-02T19:47:02.237Z"
   },
   {
    "duration": 26,
    "start_time": "2023-07-02T19:47:32.290Z"
   },
   {
    "duration": 27,
    "start_time": "2023-07-02T19:48:52.173Z"
   },
   {
    "duration": 43,
    "start_time": "2023-07-02T19:50:16.145Z"
   },
   {
    "duration": 14,
    "start_time": "2023-07-02T19:55:44.406Z"
   },
   {
    "duration": 10,
    "start_time": "2023-07-02T19:55:49.517Z"
   },
   {
    "duration": 5,
    "start_time": "2023-07-02T19:56:04.362Z"
   },
   {
    "duration": 121,
    "start_time": "2023-07-02T19:56:04.370Z"
   },
   {
    "duration": 13,
    "start_time": "2023-07-02T19:56:04.493Z"
   },
   {
    "duration": 7,
    "start_time": "2023-07-02T19:56:04.508Z"
   },
   {
    "duration": 6,
    "start_time": "2023-07-02T19:56:04.517Z"
   },
   {
    "duration": 11,
    "start_time": "2023-07-02T19:56:04.525Z"
   },
   {
    "duration": 18,
    "start_time": "2023-07-02T19:56:04.538Z"
   },
   {
    "duration": 6,
    "start_time": "2023-07-02T19:56:04.570Z"
   },
   {
    "duration": 24,
    "start_time": "2023-07-02T19:56:04.578Z"
   },
   {
    "duration": 11,
    "start_time": "2023-07-02T19:56:04.606Z"
   },
   {
    "duration": 16,
    "start_time": "2023-07-02T19:56:04.619Z"
   },
   {
    "duration": 11,
    "start_time": "2023-07-02T19:56:29.198Z"
   },
   {
    "duration": 30,
    "start_time": "2023-07-02T19:56:47.703Z"
   },
   {
    "duration": 13,
    "start_time": "2023-07-02T19:57:02.684Z"
   },
   {
    "duration": 88,
    "start_time": "2023-07-02T19:57:09.493Z"
   },
   {
    "duration": 14,
    "start_time": "2023-07-02T19:57:19.522Z"
   },
   {
    "duration": 1672,
    "start_time": "2023-07-02T19:58:52.612Z"
   },
   {
    "duration": 62,
    "start_time": "2023-07-02T19:58:54.286Z"
   },
   {
    "duration": 13,
    "start_time": "2023-07-02T19:58:54.350Z"
   },
   {
    "duration": 9,
    "start_time": "2023-07-02T19:58:54.366Z"
   },
   {
    "duration": 6,
    "start_time": "2023-07-02T19:58:54.378Z"
   },
   {
    "duration": 7,
    "start_time": "2023-07-02T19:58:54.386Z"
   },
   {
    "duration": 12,
    "start_time": "2023-07-02T19:58:54.395Z"
   },
   {
    "duration": 18,
    "start_time": "2023-07-02T19:58:54.409Z"
   },
   {
    "duration": 8,
    "start_time": "2023-07-02T19:58:54.430Z"
   },
   {
    "duration": 13,
    "start_time": "2023-07-02T19:58:54.467Z"
   },
   {
    "duration": 131,
    "start_time": "2023-07-02T19:58:54.483Z"
   },
   {
    "duration": 18,
    "start_time": "2023-07-02T19:59:46.692Z"
   },
   {
    "duration": 5,
    "start_time": "2023-07-02T20:00:59.346Z"
   },
   {
    "duration": 20,
    "start_time": "2023-07-02T20:01:02.853Z"
   },
   {
    "duration": 24,
    "start_time": "2023-07-02T20:01:03.894Z"
   },
   {
    "duration": 5,
    "start_time": "2023-07-02T20:01:20.847Z"
   },
   {
    "duration": 5,
    "start_time": "2023-07-02T20:01:44.907Z"
   },
   {
    "duration": 14,
    "start_time": "2023-07-02T20:01:48.301Z"
   },
   {
    "duration": 3,
    "start_time": "2023-07-02T20:02:07.936Z"
   },
   {
    "duration": 17,
    "start_time": "2023-07-02T20:02:10.341Z"
   },
   {
    "duration": 1932,
    "start_time": "2023-07-02T20:02:19.455Z"
   },
   {
    "duration": 81,
    "start_time": "2023-07-02T20:02:21.390Z"
   },
   {
    "duration": 17,
    "start_time": "2023-07-02T20:02:21.473Z"
   },
   {
    "duration": 8,
    "start_time": "2023-07-02T20:02:21.493Z"
   },
   {
    "duration": 68,
    "start_time": "2023-07-02T20:02:21.503Z"
   },
   {
    "duration": 12,
    "start_time": "2023-07-02T20:02:21.574Z"
   },
   {
    "duration": 11,
    "start_time": "2023-07-02T20:02:21.588Z"
   },
   {
    "duration": 4,
    "start_time": "2023-07-02T20:02:21.601Z"
   },
   {
    "duration": 17,
    "start_time": "2023-07-02T20:02:21.606Z"
   },
   {
    "duration": 231,
    "start_time": "2023-07-02T20:02:21.669Z"
   },
   {
    "duration": 0,
    "start_time": "2023-07-02T20:02:21.901Z"
   },
   {
    "duration": 13,
    "start_time": "2023-07-02T20:02:33.807Z"
   },
   {
    "duration": 22,
    "start_time": "2023-07-02T20:02:35.767Z"
   },
   {
    "duration": 4,
    "start_time": "2023-07-02T20:04:52.082Z"
   },
   {
    "duration": 13,
    "start_time": "2023-07-02T20:04:55.394Z"
   },
   {
    "duration": 4,
    "start_time": "2023-07-02T20:05:46.326Z"
   },
   {
    "duration": 17,
    "start_time": "2023-07-02T20:05:54.671Z"
   },
   {
    "duration": 4,
    "start_time": "2023-07-02T20:06:23.402Z"
   },
   {
    "duration": 16,
    "start_time": "2023-07-02T20:06:26.199Z"
   },
   {
    "duration": 4,
    "start_time": "2023-07-02T20:06:38.609Z"
   },
   {
    "duration": 16,
    "start_time": "2023-07-02T20:06:41.148Z"
   },
   {
    "duration": 16,
    "start_time": "2023-07-02T20:06:58.602Z"
   },
   {
    "duration": 16,
    "start_time": "2023-07-02T20:06:59.427Z"
   },
   {
    "duration": 23,
    "start_time": "2023-07-02T20:06:59.937Z"
   },
   {
    "duration": 17,
    "start_time": "2023-07-02T20:07:00.400Z"
   },
   {
    "duration": 16,
    "start_time": "2023-07-02T20:07:06.747Z"
   },
   {
    "duration": 16,
    "start_time": "2023-07-02T20:07:07.838Z"
   },
   {
    "duration": 15,
    "start_time": "2023-07-02T20:10:56.942Z"
   },
   {
    "duration": 28,
    "start_time": "2023-07-02T20:11:04.612Z"
   },
   {
    "duration": 13,
    "start_time": "2023-07-02T20:11:13.529Z"
   },
   {
    "duration": 5,
    "start_time": "2023-07-02T20:11:20.858Z"
   },
   {
    "duration": 48,
    "start_time": "2023-07-02T20:11:20.866Z"
   },
   {
    "duration": 13,
    "start_time": "2023-07-02T20:11:20.916Z"
   },
   {
    "duration": 19,
    "start_time": "2023-07-02T20:11:20.931Z"
   },
   {
    "duration": 16,
    "start_time": "2023-07-02T20:11:20.953Z"
   },
   {
    "duration": 8,
    "start_time": "2023-07-02T20:11:20.970Z"
   },
   {
    "duration": 16,
    "start_time": "2023-07-02T20:11:20.981Z"
   },
   {
    "duration": 5,
    "start_time": "2023-07-02T20:11:21.000Z"
   },
   {
    "duration": 11,
    "start_time": "2023-07-02T20:11:21.007Z"
   },
   {
    "duration": 18,
    "start_time": "2023-07-02T20:11:21.020Z"
   },
   {
    "duration": 52,
    "start_time": "2023-07-02T20:11:21.040Z"
   },
   {
    "duration": 4,
    "start_time": "2023-07-02T20:11:34.944Z"
   },
   {
    "duration": 16,
    "start_time": "2023-07-02T20:11:36.970Z"
   },
   {
    "duration": 5,
    "start_time": "2023-07-02T20:12:24.500Z"
   },
   {
    "duration": 13,
    "start_time": "2023-07-02T20:12:27.637Z"
   },
   {
    "duration": 1950,
    "start_time": "2023-07-02T20:12:50.730Z"
   },
   {
    "duration": 87,
    "start_time": "2023-07-02T20:12:52.682Z"
   },
   {
    "duration": 18,
    "start_time": "2023-07-02T20:12:52.772Z"
   },
   {
    "duration": 9,
    "start_time": "2023-07-02T20:12:52.793Z"
   },
   {
    "duration": 65,
    "start_time": "2023-07-02T20:12:52.804Z"
   },
   {
    "duration": 8,
    "start_time": "2023-07-02T20:12:52.871Z"
   },
   {
    "duration": 16,
    "start_time": "2023-07-02T20:12:52.882Z"
   },
   {
    "duration": 4,
    "start_time": "2023-07-02T20:12:52.900Z"
   },
   {
    "duration": 64,
    "start_time": "2023-07-02T20:12:52.906Z"
   },
   {
    "duration": 10,
    "start_time": "2023-07-02T20:12:52.973Z"
   },
   {
    "duration": 438,
    "start_time": "2023-07-02T20:12:52.985Z"
   },
   {
    "duration": 4,
    "start_time": "2023-07-02T20:13:13.389Z"
   },
   {
    "duration": 19,
    "start_time": "2023-07-02T20:13:17.225Z"
   },
   {
    "duration": 4,
    "start_time": "2023-07-02T20:14:16.659Z"
   },
   {
    "duration": 13,
    "start_time": "2023-07-02T20:14:20.097Z"
   },
   {
    "duration": 20,
    "start_time": "2023-07-02T20:14:31.489Z"
   },
   {
    "duration": 16,
    "start_time": "2023-07-02T20:15:05.157Z"
   },
   {
    "duration": 18,
    "start_time": "2023-07-02T20:22:45.675Z"
   },
   {
    "duration": 23,
    "start_time": "2023-07-02T20:22:55.178Z"
   },
   {
    "duration": 16,
    "start_time": "2023-07-02T20:22:59.328Z"
   },
   {
    "duration": 23,
    "start_time": "2023-07-02T20:23:19.781Z"
   },
   {
    "duration": 3,
    "start_time": "2023-07-02T20:27:27.135Z"
   },
   {
    "duration": 4,
    "start_time": "2023-07-02T20:28:13.478Z"
   },
   {
    "duration": 41,
    "start_time": "2023-07-02T20:28:13.485Z"
   },
   {
    "duration": 12,
    "start_time": "2023-07-02T20:28:13.528Z"
   },
   {
    "duration": 8,
    "start_time": "2023-07-02T20:28:13.543Z"
   },
   {
    "duration": 9,
    "start_time": "2023-07-02T20:28:13.553Z"
   },
   {
    "duration": 6,
    "start_time": "2023-07-02T20:28:13.564Z"
   },
   {
    "duration": 12,
    "start_time": "2023-07-02T20:28:13.571Z"
   },
   {
    "duration": 6,
    "start_time": "2023-07-02T20:28:13.584Z"
   },
   {
    "duration": 9,
    "start_time": "2023-07-02T20:28:13.592Z"
   },
   {
    "duration": 15,
    "start_time": "2023-07-02T20:28:13.604Z"
   },
   {
    "duration": 50,
    "start_time": "2023-07-02T20:28:13.621Z"
   },
   {
    "duration": 1142,
    "start_time": "2023-07-02T20:28:49.199Z"
   },
   {
    "duration": 45,
    "start_time": "2023-07-02T20:28:50.343Z"
   },
   {
    "duration": 12,
    "start_time": "2023-07-02T20:28:50.389Z"
   },
   {
    "duration": 12,
    "start_time": "2023-07-02T20:28:50.403Z"
   },
   {
    "duration": 9,
    "start_time": "2023-07-02T20:28:50.417Z"
   },
   {
    "duration": 16,
    "start_time": "2023-07-02T20:28:50.427Z"
   },
   {
    "duration": 21,
    "start_time": "2023-07-02T20:28:50.445Z"
   },
   {
    "duration": 8,
    "start_time": "2023-07-02T20:28:50.468Z"
   },
   {
    "duration": 22,
    "start_time": "2023-07-02T20:28:50.478Z"
   },
   {
    "duration": 10,
    "start_time": "2023-07-02T20:28:50.503Z"
   },
   {
    "duration": 21,
    "start_time": "2023-07-02T20:28:50.515Z"
   },
   {
    "duration": 20,
    "start_time": "2023-07-02T20:29:36.874Z"
   },
   {
    "duration": 4,
    "start_time": "2023-07-02T20:29:41.133Z"
   },
   {
    "duration": 41,
    "start_time": "2023-07-02T20:29:41.139Z"
   },
   {
    "duration": 10,
    "start_time": "2023-07-02T20:29:41.182Z"
   },
   {
    "duration": 6,
    "start_time": "2023-07-02T20:29:41.194Z"
   },
   {
    "duration": 6,
    "start_time": "2023-07-02T20:29:41.202Z"
   },
   {
    "duration": 5,
    "start_time": "2023-07-02T20:29:41.209Z"
   },
   {
    "duration": 10,
    "start_time": "2023-07-02T20:29:41.216Z"
   },
   {
    "duration": 39,
    "start_time": "2023-07-02T20:29:41.228Z"
   },
   {
    "duration": 8,
    "start_time": "2023-07-02T20:29:41.269Z"
   },
   {
    "duration": 17,
    "start_time": "2023-07-02T20:29:41.279Z"
   },
   {
    "duration": 22,
    "start_time": "2023-07-02T20:29:41.297Z"
   },
   {
    "duration": 1244,
    "start_time": "2023-07-02T23:45:25.328Z"
   },
   {
    "duration": 88,
    "start_time": "2023-07-02T23:45:26.574Z"
   },
   {
    "duration": 20,
    "start_time": "2023-07-02T23:45:26.663Z"
   },
   {
    "duration": 54,
    "start_time": "2023-07-02T23:45:26.685Z"
   },
   {
    "duration": 6,
    "start_time": "2023-07-02T23:45:26.741Z"
   },
   {
    "duration": 8,
    "start_time": "2023-07-02T23:45:26.749Z"
   },
   {
    "duration": 11,
    "start_time": "2023-07-02T23:45:26.758Z"
   },
   {
    "duration": 7,
    "start_time": "2023-07-02T23:45:26.770Z"
   },
   {
    "duration": 15,
    "start_time": "2023-07-02T23:45:26.778Z"
   },
   {
    "duration": 50,
    "start_time": "2023-07-02T23:45:26.794Z"
   },
   {
    "duration": 16,
    "start_time": "2023-07-02T23:45:26.845Z"
   },
   {
    "duration": 20,
    "start_time": "2023-07-02T23:45:37.568Z"
   },
   {
    "duration": 3,
    "start_time": "2023-07-03T00:06:17.501Z"
   },
   {
    "duration": 46,
    "start_time": "2023-07-03T00:06:17.506Z"
   },
   {
    "duration": 22,
    "start_time": "2023-07-03T00:06:17.554Z"
   },
   {
    "duration": 9,
    "start_time": "2023-07-03T00:06:17.578Z"
   },
   {
    "duration": 7,
    "start_time": "2023-07-03T00:06:17.589Z"
   },
   {
    "duration": 8,
    "start_time": "2023-07-03T00:06:17.598Z"
   },
   {
    "duration": 6,
    "start_time": "2023-07-03T00:06:17.608Z"
   },
   {
    "duration": 26,
    "start_time": "2023-07-03T00:06:17.615Z"
   },
   {
    "duration": 5,
    "start_time": "2023-07-03T00:06:17.642Z"
   },
   {
    "duration": 9,
    "start_time": "2023-07-03T00:06:17.649Z"
   },
   {
    "duration": 18,
    "start_time": "2023-07-03T00:06:17.659Z"
   },
   {
    "duration": 21,
    "start_time": "2023-07-03T00:06:17.679Z"
   },
   {
    "duration": 1000,
    "start_time": "2023-07-03T00:10:27.993Z"
   },
   {
    "duration": 40,
    "start_time": "2023-07-03T00:10:28.994Z"
   },
   {
    "duration": 21,
    "start_time": "2023-07-03T00:10:29.035Z"
   },
   {
    "duration": 10,
    "start_time": "2023-07-03T00:10:29.058Z"
   },
   {
    "duration": 20,
    "start_time": "2023-07-03T00:10:29.069Z"
   },
   {
    "duration": 8,
    "start_time": "2023-07-03T00:10:29.090Z"
   },
   {
    "duration": 6,
    "start_time": "2023-07-03T00:10:29.100Z"
   },
   {
    "duration": 24,
    "start_time": "2023-07-03T00:10:29.108Z"
   },
   {
    "duration": 4,
    "start_time": "2023-07-03T00:10:29.133Z"
   },
   {
    "duration": 19,
    "start_time": "2023-07-03T00:10:29.139Z"
   },
   {
    "duration": 23,
    "start_time": "2023-07-03T00:10:29.160Z"
   },
   {
    "duration": 23,
    "start_time": "2023-07-03T00:10:29.184Z"
   },
   {
    "duration": 1352,
    "start_time": "2023-07-03T03:06:51.634Z"
   },
   {
    "duration": 123,
    "start_time": "2023-07-03T03:06:52.988Z"
   },
   {
    "duration": 27,
    "start_time": "2023-07-03T03:06:53.113Z"
   },
   {
    "duration": 17,
    "start_time": "2023-07-03T03:06:53.142Z"
   },
   {
    "duration": 5,
    "start_time": "2023-07-03T03:06:53.161Z"
   },
   {
    "duration": 5,
    "start_time": "2023-07-03T03:06:53.168Z"
   },
   {
    "duration": 4,
    "start_time": "2023-07-03T03:06:53.175Z"
   },
   {
    "duration": 29,
    "start_time": "2023-07-03T03:06:53.180Z"
   },
   {
    "duration": 5,
    "start_time": "2023-07-03T03:06:53.210Z"
   },
   {
    "duration": 14,
    "start_time": "2023-07-03T03:06:53.217Z"
   },
   {
    "duration": 20,
    "start_time": "2023-07-03T03:06:53.232Z"
   },
   {
    "duration": 15,
    "start_time": "2023-07-03T03:06:53.254Z"
   },
   {
    "duration": 8,
    "start_time": "2023-07-03T14:19:54.463Z"
   },
   {
    "duration": 1156,
    "start_time": "2023-07-03T14:21:13.807Z"
   },
   {
    "duration": 118,
    "start_time": "2023-07-03T14:21:14.965Z"
   },
   {
    "duration": 23,
    "start_time": "2023-07-03T14:21:15.084Z"
   },
   {
    "duration": 10,
    "start_time": "2023-07-03T14:21:15.109Z"
   },
   {
    "duration": 6,
    "start_time": "2023-07-03T14:21:15.120Z"
   },
   {
    "duration": 15,
    "start_time": "2023-07-03T14:21:15.128Z"
   },
   {
    "duration": 12,
    "start_time": "2023-07-03T14:21:15.145Z"
   },
   {
    "duration": 27,
    "start_time": "2023-07-03T14:21:15.158Z"
   },
   {
    "duration": 12,
    "start_time": "2023-07-03T14:21:15.187Z"
   },
   {
    "duration": 22,
    "start_time": "2023-07-03T14:21:15.201Z"
   },
   {
    "duration": 37,
    "start_time": "2023-07-03T14:21:15.225Z"
   },
   {
    "duration": 27,
    "start_time": "2023-07-03T14:21:15.263Z"
   },
   {
    "duration": 17,
    "start_time": "2023-07-03T14:21:15.292Z"
   },
   {
    "duration": 5,
    "start_time": "2023-07-03T14:21:42.705Z"
   },
   {
    "duration": 5,
    "start_time": "2023-07-03T14:21:44.325Z"
   },
   {
    "duration": 96,
    "start_time": "2023-07-03T14:54:22.627Z"
   },
   {
    "duration": 172,
    "start_time": "2023-07-03T14:54:27.232Z"
   },
   {
    "duration": 9,
    "start_time": "2023-07-03T14:54:40.380Z"
   },
   {
    "duration": 4,
    "start_time": "2023-07-03T14:54:47.528Z"
   },
   {
    "duration": 5,
    "start_time": "2023-07-03T14:55:03.388Z"
   },
   {
    "duration": 21,
    "start_time": "2023-07-03T14:55:07.370Z"
   },
   {
    "duration": 9,
    "start_time": "2023-07-03T14:56:40.315Z"
   },
   {
    "duration": 11,
    "start_time": "2023-07-03T14:56:43.279Z"
   },
   {
    "duration": 14,
    "start_time": "2023-07-03T14:56:47.592Z"
   },
   {
    "duration": 11,
    "start_time": "2023-07-03T14:56:48.527Z"
   },
   {
    "duration": 13,
    "start_time": "2023-07-03T14:56:51.223Z"
   },
   {
    "duration": 17,
    "start_time": "2023-07-03T14:56:52.652Z"
   },
   {
    "duration": 12,
    "start_time": "2023-07-03T14:56:53.299Z"
   },
   {
    "duration": 13,
    "start_time": "2023-07-03T14:56:53.806Z"
   },
   {
    "duration": 15,
    "start_time": "2023-07-03T14:56:54.175Z"
   },
   {
    "duration": 21,
    "start_time": "2023-07-03T14:56:54.670Z"
   },
   {
    "duration": 15,
    "start_time": "2023-07-03T14:56:55.028Z"
   },
   {
    "duration": 3,
    "start_time": "2023-07-03T14:57:03.776Z"
   },
   {
    "duration": 53,
    "start_time": "2023-07-03T14:57:03.780Z"
   },
   {
    "duration": 24,
    "start_time": "2023-07-03T14:57:03.835Z"
   },
   {
    "duration": 14,
    "start_time": "2023-07-03T14:57:03.861Z"
   },
   {
    "duration": 6,
    "start_time": "2023-07-03T14:57:03.877Z"
   },
   {
    "duration": 25,
    "start_time": "2023-07-03T14:57:03.885Z"
   },
   {
    "duration": 13,
    "start_time": "2023-07-03T14:57:03.912Z"
   },
   {
    "duration": 14,
    "start_time": "2023-07-03T14:57:03.927Z"
   },
   {
    "duration": 24,
    "start_time": "2023-07-03T14:57:03.943Z"
   },
   {
    "duration": 24,
    "start_time": "2023-07-03T14:57:03.969Z"
   },
   {
    "duration": 29,
    "start_time": "2023-07-03T14:57:03.995Z"
   },
   {
    "duration": 25,
    "start_time": "2023-07-03T14:57:04.026Z"
   },
   {
    "duration": 15,
    "start_time": "2023-07-03T14:57:04.053Z"
   },
   {
    "duration": 18,
    "start_time": "2023-07-03T14:57:04.070Z"
   },
   {
    "duration": 18,
    "start_time": "2023-07-03T14:57:32.544Z"
   },
   {
    "duration": 3,
    "start_time": "2023-07-03T14:57:44.730Z"
   },
   {
    "duration": 39,
    "start_time": "2023-07-03T14:57:44.735Z"
   },
   {
    "duration": 20,
    "start_time": "2023-07-03T14:57:44.775Z"
   },
   {
    "duration": 9,
    "start_time": "2023-07-03T14:57:44.797Z"
   },
   {
    "duration": 10,
    "start_time": "2023-07-03T14:57:44.808Z"
   },
   {
    "duration": 10,
    "start_time": "2023-07-03T14:57:44.819Z"
   },
   {
    "duration": 6,
    "start_time": "2023-07-03T14:57:44.830Z"
   },
   {
    "duration": 13,
    "start_time": "2023-07-03T14:57:44.837Z"
   },
   {
    "duration": 24,
    "start_time": "2023-07-03T14:57:44.852Z"
   },
   {
    "duration": 13,
    "start_time": "2023-07-03T14:57:44.877Z"
   },
   {
    "duration": 27,
    "start_time": "2023-07-03T14:57:44.892Z"
   },
   {
    "duration": 18,
    "start_time": "2023-07-03T14:57:44.920Z"
   },
   {
    "duration": 5,
    "start_time": "2023-07-03T14:57:44.939Z"
   },
   {
    "duration": 35,
    "start_time": "2023-07-03T14:57:44.945Z"
   },
   {
    "duration": 15,
    "start_time": "2023-07-03T14:58:02.032Z"
   },
   {
    "duration": 3,
    "start_time": "2023-07-03T14:58:07.638Z"
   },
   {
    "duration": 57,
    "start_time": "2023-07-03T14:58:07.642Z"
   },
   {
    "duration": 20,
    "start_time": "2023-07-03T14:58:07.700Z"
   },
   {
    "duration": 21,
    "start_time": "2023-07-03T14:58:07.722Z"
   },
   {
    "duration": 28,
    "start_time": "2023-07-03T14:58:07.745Z"
   },
   {
    "duration": 13,
    "start_time": "2023-07-03T14:58:07.775Z"
   },
   {
    "duration": 13,
    "start_time": "2023-07-03T14:58:07.789Z"
   },
   {
    "duration": 13,
    "start_time": "2023-07-03T14:58:07.803Z"
   },
   {
    "duration": 3,
    "start_time": "2023-07-03T14:58:07.818Z"
   },
   {
    "duration": 18,
    "start_time": "2023-07-03T14:58:07.823Z"
   },
   {
    "duration": 20,
    "start_time": "2023-07-03T14:58:07.842Z"
   },
   {
    "duration": 18,
    "start_time": "2023-07-03T14:58:07.864Z"
   },
   {
    "duration": 28,
    "start_time": "2023-07-03T14:58:07.884Z"
   },
   {
    "duration": 44,
    "start_time": "2023-07-03T14:58:07.913Z"
   },
   {
    "duration": 9,
    "start_time": "2023-07-03T15:00:25.539Z"
   },
   {
    "duration": 15,
    "start_time": "2023-07-03T15:00:29.144Z"
   },
   {
    "duration": 3,
    "start_time": "2023-07-03T15:00:32.573Z"
   },
   {
    "duration": 63,
    "start_time": "2023-07-03T15:00:32.578Z"
   },
   {
    "duration": 21,
    "start_time": "2023-07-03T15:00:32.642Z"
   },
   {
    "duration": 15,
    "start_time": "2023-07-03T15:00:32.665Z"
   },
   {
    "duration": 24,
    "start_time": "2023-07-03T15:00:32.682Z"
   },
   {
    "duration": 28,
    "start_time": "2023-07-03T15:00:32.708Z"
   },
   {
    "duration": 32,
    "start_time": "2023-07-03T15:00:32.737Z"
   },
   {
    "duration": 25,
    "start_time": "2023-07-03T15:00:32.770Z"
   },
   {
    "duration": 24,
    "start_time": "2023-07-03T15:00:32.797Z"
   },
   {
    "duration": 20,
    "start_time": "2023-07-03T15:00:32.823Z"
   },
   {
    "duration": 36,
    "start_time": "2023-07-03T15:00:32.845Z"
   },
   {
    "duration": 29,
    "start_time": "2023-07-03T15:00:32.883Z"
   },
   {
    "duration": 26,
    "start_time": "2023-07-03T15:00:32.914Z"
   },
   {
    "duration": 35,
    "start_time": "2023-07-03T15:00:32.941Z"
   },
   {
    "duration": 3,
    "start_time": "2023-07-03T15:02:08.799Z"
   },
   {
    "duration": 19,
    "start_time": "2023-07-03T15:02:13.268Z"
   },
   {
    "duration": 4,
    "start_time": "2023-07-03T15:02:17.917Z"
   },
   {
    "duration": 12,
    "start_time": "2023-07-03T15:02:20.070Z"
   },
   {
    "duration": 3,
    "start_time": "2023-07-03T15:04:20.648Z"
   },
   {
    "duration": 45,
    "start_time": "2023-07-03T15:04:20.653Z"
   },
   {
    "duration": 21,
    "start_time": "2023-07-03T15:04:20.700Z"
   },
   {
    "duration": 9,
    "start_time": "2023-07-03T15:04:20.723Z"
   },
   {
    "duration": 11,
    "start_time": "2023-07-03T15:04:20.734Z"
   },
   {
    "duration": 26,
    "start_time": "2023-07-03T15:04:20.746Z"
   },
   {
    "duration": 29,
    "start_time": "2023-07-03T15:04:20.773Z"
   },
   {
    "duration": 19,
    "start_time": "2023-07-03T15:04:20.804Z"
   },
   {
    "duration": 22,
    "start_time": "2023-07-03T15:04:20.825Z"
   },
   {
    "duration": 15,
    "start_time": "2023-07-03T15:04:20.849Z"
   },
   {
    "duration": 29,
    "start_time": "2023-07-03T15:04:20.865Z"
   },
   {
    "duration": 35,
    "start_time": "2023-07-03T15:04:20.895Z"
   },
   {
    "duration": 6,
    "start_time": "2023-07-03T15:04:20.932Z"
   },
   {
    "duration": 69,
    "start_time": "2023-07-03T15:04:20.939Z"
   },
   {
    "duration": 15,
    "start_time": "2023-07-03T15:06:00.731Z"
   },
   {
    "duration": 13,
    "start_time": "2023-07-03T15:08:24.749Z"
   },
   {
    "duration": 17,
    "start_time": "2023-07-03T15:08:29.185Z"
   },
   {
    "duration": 17,
    "start_time": "2023-07-03T15:08:42.478Z"
   },
   {
    "duration": 19,
    "start_time": "2023-07-03T15:08:51.823Z"
   },
   {
    "duration": 17,
    "start_time": "2023-07-03T15:08:57.171Z"
   },
   {
    "duration": 12,
    "start_time": "2023-07-03T15:08:59.524Z"
   },
   {
    "duration": 14,
    "start_time": "2023-07-03T15:09:39.989Z"
   },
   {
    "duration": 12,
    "start_time": "2023-07-03T15:10:11.242Z"
   },
   {
    "duration": 1117,
    "start_time": "2023-07-03T15:12:53.142Z"
   },
   {
    "duration": 43,
    "start_time": "2023-07-03T15:12:54.260Z"
   },
   {
    "duration": 23,
    "start_time": "2023-07-03T15:12:54.305Z"
   },
   {
    "duration": 12,
    "start_time": "2023-07-03T15:12:54.330Z"
   },
   {
    "duration": 15,
    "start_time": "2023-07-03T15:12:54.343Z"
   },
   {
    "duration": 10,
    "start_time": "2023-07-03T15:12:54.360Z"
   },
   {
    "duration": 6,
    "start_time": "2023-07-03T15:12:54.376Z"
   },
   {
    "duration": 25,
    "start_time": "2023-07-03T15:12:54.384Z"
   },
   {
    "duration": 4,
    "start_time": "2023-07-03T15:12:54.411Z"
   },
   {
    "duration": 12,
    "start_time": "2023-07-03T15:12:54.419Z"
   },
   {
    "duration": 23,
    "start_time": "2023-07-03T15:12:54.433Z"
   },
   {
    "duration": 33,
    "start_time": "2023-07-03T15:12:54.458Z"
   },
   {
    "duration": 6,
    "start_time": "2023-07-03T15:12:54.492Z"
   },
   {
    "duration": 79,
    "start_time": "2023-07-03T15:12:54.499Z"
   },
   {
    "duration": 3,
    "start_time": "2023-07-03T15:24:53.935Z"
   },
   {
    "duration": 49,
    "start_time": "2023-07-03T15:24:53.940Z"
   },
   {
    "duration": 32,
    "start_time": "2023-07-03T15:24:53.991Z"
   },
   {
    "duration": 11,
    "start_time": "2023-07-03T15:24:54.025Z"
   },
   {
    "duration": 21,
    "start_time": "2023-07-03T15:24:54.038Z"
   },
   {
    "duration": 18,
    "start_time": "2023-07-03T15:24:54.061Z"
   },
   {
    "duration": 15,
    "start_time": "2023-07-03T15:24:54.081Z"
   },
   {
    "duration": 38,
    "start_time": "2023-07-03T15:24:54.098Z"
   },
   {
    "duration": 39,
    "start_time": "2023-07-03T15:24:54.139Z"
   },
   {
    "duration": 47,
    "start_time": "2023-07-03T15:24:54.180Z"
   },
   {
    "duration": 29,
    "start_time": "2023-07-03T15:24:54.229Z"
   },
   {
    "duration": 24,
    "start_time": "2023-07-03T15:24:54.260Z"
   },
   {
    "duration": 18,
    "start_time": "2023-07-03T15:24:54.286Z"
   },
   {
    "duration": 30,
    "start_time": "2023-07-03T15:24:54.306Z"
   },
   {
    "duration": 1812,
    "start_time": "2023-07-03T15:26:25.577Z"
   },
   {
    "duration": 87,
    "start_time": "2023-07-03T15:26:27.390Z"
   },
   {
    "duration": 22,
    "start_time": "2023-07-03T15:26:27.479Z"
   },
   {
    "duration": 12,
    "start_time": "2023-07-03T15:26:27.503Z"
   },
   {
    "duration": 11,
    "start_time": "2023-07-03T15:26:27.516Z"
   },
   {
    "duration": 7,
    "start_time": "2023-07-03T15:26:27.528Z"
   },
   {
    "duration": 38,
    "start_time": "2023-07-03T15:26:27.537Z"
   },
   {
    "duration": 13,
    "start_time": "2023-07-03T15:26:27.577Z"
   },
   {
    "duration": 3,
    "start_time": "2023-07-03T15:26:27.592Z"
   },
   {
    "duration": 14,
    "start_time": "2023-07-03T15:26:27.597Z"
   },
   {
    "duration": 20,
    "start_time": "2023-07-03T15:26:27.612Z"
   },
   {
    "duration": 105,
    "start_time": "2023-07-03T15:26:27.634Z"
   },
   {
    "duration": 0,
    "start_time": "2023-07-03T15:26:27.740Z"
   },
   {
    "duration": 0,
    "start_time": "2023-07-03T15:26:27.741Z"
   },
   {
    "duration": 3,
    "start_time": "2023-07-03T15:27:08.124Z"
   },
   {
    "duration": 40,
    "start_time": "2023-07-03T15:27:08.129Z"
   },
   {
    "duration": 20,
    "start_time": "2023-07-03T15:27:08.171Z"
   },
   {
    "duration": 9,
    "start_time": "2023-07-03T15:27:08.192Z"
   },
   {
    "duration": 4,
    "start_time": "2023-07-03T15:27:08.203Z"
   },
   {
    "duration": 6,
    "start_time": "2023-07-03T15:27:08.209Z"
   },
   {
    "duration": 9,
    "start_time": "2023-07-03T15:27:08.216Z"
   },
   {
    "duration": 10,
    "start_time": "2023-07-03T15:27:08.226Z"
   },
   {
    "duration": 3,
    "start_time": "2023-07-03T15:27:08.238Z"
   },
   {
    "duration": 34,
    "start_time": "2023-07-03T15:27:08.243Z"
   },
   {
    "duration": 13,
    "start_time": "2023-07-03T15:27:08.279Z"
   },
   {
    "duration": 18,
    "start_time": "2023-07-03T15:27:08.294Z"
   },
   {
    "duration": 4,
    "start_time": "2023-07-03T15:27:08.315Z"
   },
   {
    "duration": 59,
    "start_time": "2023-07-03T15:27:08.321Z"
   },
   {
    "duration": 1204,
    "start_time": "2023-07-03T15:27:16.186Z"
   },
   {
    "duration": 42,
    "start_time": "2023-07-03T15:27:17.392Z"
   },
   {
    "duration": 21,
    "start_time": "2023-07-03T15:27:17.476Z"
   },
   {
    "duration": 10,
    "start_time": "2023-07-03T15:27:17.499Z"
   },
   {
    "duration": 68,
    "start_time": "2023-07-03T15:27:17.510Z"
   },
   {
    "duration": 6,
    "start_time": "2023-07-03T15:27:17.580Z"
   },
   {
    "duration": 192,
    "start_time": "2023-07-03T15:27:17.587Z"
   },
   {
    "duration": 94,
    "start_time": "2023-07-03T15:27:17.781Z"
   },
   {
    "duration": 51,
    "start_time": "2023-07-03T15:27:17.877Z"
   },
   {
    "duration": 14,
    "start_time": "2023-07-03T15:27:17.930Z"
   },
   {
    "duration": 38,
    "start_time": "2023-07-03T15:27:17.946Z"
   },
   {
    "duration": 17,
    "start_time": "2023-07-03T15:27:17.986Z"
   },
   {
    "duration": 5,
    "start_time": "2023-07-03T15:27:18.004Z"
   },
   {
    "duration": 73,
    "start_time": "2023-07-03T15:27:18.010Z"
   },
   {
    "duration": 18,
    "start_time": "2023-07-03T15:29:31.291Z"
   },
   {
    "duration": 1116,
    "start_time": "2023-07-03T15:29:51.074Z"
   },
   {
    "duration": 44,
    "start_time": "2023-07-03T15:29:52.192Z"
   },
   {
    "duration": 24,
    "start_time": "2023-07-03T15:29:52.238Z"
   },
   {
    "duration": 11,
    "start_time": "2023-07-03T15:29:52.264Z"
   },
   {
    "duration": 15,
    "start_time": "2023-07-03T15:29:52.278Z"
   },
   {
    "duration": 16,
    "start_time": "2023-07-03T15:29:52.295Z"
   },
   {
    "duration": 36,
    "start_time": "2023-07-03T15:29:52.312Z"
   },
   {
    "duration": 39,
    "start_time": "2023-07-03T15:29:52.350Z"
   },
   {
    "duration": 10,
    "start_time": "2023-07-03T15:29:52.391Z"
   },
   {
    "duration": 32,
    "start_time": "2023-07-03T15:29:52.403Z"
   },
   {
    "duration": 44,
    "start_time": "2023-07-03T15:29:52.437Z"
   },
   {
    "duration": 21,
    "start_time": "2023-07-03T15:29:52.483Z"
   },
   {
    "duration": 7,
    "start_time": "2023-07-03T15:29:52.506Z"
   },
   {
    "duration": 62,
    "start_time": "2023-07-03T15:29:52.515Z"
   },
   {
    "duration": 1397,
    "start_time": "2023-07-04T03:34:17.259Z"
   },
   {
    "duration": 88,
    "start_time": "2023-07-04T03:34:18.660Z"
   },
   {
    "duration": 22,
    "start_time": "2023-07-04T03:34:18.750Z"
   },
   {
    "duration": 10,
    "start_time": "2023-07-04T03:34:18.774Z"
   },
   {
    "duration": 5,
    "start_time": "2023-07-04T03:34:18.786Z"
   },
   {
    "duration": 8,
    "start_time": "2023-07-04T03:34:18.792Z"
   },
   {
    "duration": 34,
    "start_time": "2023-07-04T03:34:18.801Z"
   },
   {
    "duration": 28,
    "start_time": "2023-07-04T03:34:18.836Z"
   },
   {
    "duration": 11,
    "start_time": "2023-07-04T03:34:18.866Z"
   },
   {
    "duration": 11,
    "start_time": "2023-07-04T03:34:18.878Z"
   },
   {
    "duration": 16,
    "start_time": "2023-07-04T03:34:18.891Z"
   },
   {
    "duration": 23,
    "start_time": "2023-07-04T03:34:18.909Z"
   },
   {
    "duration": 4,
    "start_time": "2023-07-04T03:34:18.934Z"
   },
   {
    "duration": 15,
    "start_time": "2023-07-04T03:34:18.941Z"
   },
   {
    "duration": 1390,
    "start_time": "2023-07-04T15:25:21.423Z"
   },
   {
    "duration": 136,
    "start_time": "2023-07-04T15:25:22.815Z"
   },
   {
    "duration": 80,
    "start_time": "2023-07-04T15:25:22.953Z"
   },
   {
    "duration": 11,
    "start_time": "2023-07-04T15:25:23.035Z"
   },
   {
    "duration": 64,
    "start_time": "2023-07-04T15:25:23.048Z"
   },
   {
    "duration": 9,
    "start_time": "2023-07-04T15:25:23.114Z"
   },
   {
    "duration": 28,
    "start_time": "2023-07-04T15:25:23.124Z"
   },
   {
    "duration": 49,
    "start_time": "2023-07-04T15:25:23.153Z"
   },
   {
    "duration": 31,
    "start_time": "2023-07-04T15:25:23.204Z"
   },
   {
    "duration": 10,
    "start_time": "2023-07-04T15:25:23.238Z"
   },
   {
    "duration": 96,
    "start_time": "2023-07-04T15:25:23.249Z"
   },
   {
    "duration": 16,
    "start_time": "2023-07-04T15:25:23.346Z"
   },
   {
    "duration": 46,
    "start_time": "2023-07-04T15:25:23.363Z"
   },
   {
    "duration": 96,
    "start_time": "2023-07-04T15:25:23.411Z"
   },
   {
    "duration": 1523,
    "start_time": "2023-07-04T23:04:16.010Z"
   },
   {
    "duration": 108,
    "start_time": "2023-07-04T23:04:17.535Z"
   },
   {
    "duration": 22,
    "start_time": "2023-07-04T23:04:17.644Z"
   },
   {
    "duration": 64,
    "start_time": "2023-07-04T23:04:17.669Z"
   },
   {
    "duration": 8,
    "start_time": "2023-07-04T23:04:17.734Z"
   },
   {
    "duration": 10,
    "start_time": "2023-07-04T23:04:17.743Z"
   },
   {
    "duration": 10,
    "start_time": "2023-07-04T23:04:17.754Z"
   },
   {
    "duration": 67,
    "start_time": "2023-07-04T23:04:17.765Z"
   },
   {
    "duration": 4,
    "start_time": "2023-07-04T23:04:17.834Z"
   },
   {
    "duration": 10,
    "start_time": "2023-07-04T23:04:17.841Z"
   },
   {
    "duration": 18,
    "start_time": "2023-07-04T23:04:17.853Z"
   },
   {
    "duration": 79,
    "start_time": "2023-07-04T23:04:17.873Z"
   },
   {
    "duration": 9,
    "start_time": "2023-07-04T23:04:17.953Z"
   },
   {
    "duration": 75,
    "start_time": "2023-07-04T23:04:17.964Z"
   },
   {
    "duration": 1638,
    "start_time": "2023-07-05T03:07:20.686Z"
   },
   {
    "duration": 137,
    "start_time": "2023-07-05T03:07:22.326Z"
   },
   {
    "duration": 21,
    "start_time": "2023-07-05T03:07:22.466Z"
   },
   {
    "duration": 13,
    "start_time": "2023-07-05T03:07:22.488Z"
   },
   {
    "duration": 42,
    "start_time": "2023-07-05T03:07:22.504Z"
   },
   {
    "duration": 9,
    "start_time": "2023-07-05T03:07:22.548Z"
   },
   {
    "duration": 6,
    "start_time": "2023-07-05T03:07:22.559Z"
   },
   {
    "duration": 19,
    "start_time": "2023-07-05T03:07:22.567Z"
   },
   {
    "duration": 4,
    "start_time": "2023-07-05T03:07:22.589Z"
   },
   {
    "duration": 53,
    "start_time": "2023-07-05T03:07:22.595Z"
   },
   {
    "duration": 31,
    "start_time": "2023-07-05T03:07:22.649Z"
   },
   {
    "duration": 24,
    "start_time": "2023-07-05T03:07:22.682Z"
   },
   {
    "duration": 40,
    "start_time": "2023-07-05T03:07:22.707Z"
   },
   {
    "duration": 19,
    "start_time": "2023-07-05T03:07:22.748Z"
   }
  ],
  "kernelspec": {
   "display_name": "Python 3 (ipykernel)",
   "language": "python",
   "name": "python3"
  },
  "language_info": {
   "codemirror_mode": {
    "name": "ipython",
    "version": 3
   },
   "file_extension": ".py",
   "mimetype": "text/x-python",
   "name": "python",
   "nbconvert_exporter": "python",
   "pygments_lexer": "ipython3",
   "version": "3.11.5"
  },
  "toc": {
   "base_numbering": 1,
   "nav_menu": {},
   "number_sections": true,
   "sideBar": true,
   "skip_h1_title": true,
   "title_cell": "Содержание",
   "title_sidebar": "Contents",
   "toc_cell": true,
   "toc_position": {
    "height": "calc(100% - 180px)",
    "left": "10px",
    "top": "150px",
    "width": "245px"
   },
   "toc_section_display": true,
   "toc_window_display": true
  }
 },
 "nbformat": 4,
 "nbformat_minor": 2
}
